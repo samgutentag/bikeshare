{
 "cells": [
  {
   "cell_type": "markdown",
   "metadata": {},
   "source": [
    "# Data Investigation - Bikes"
   ]
  },
  {
   "cell_type": "markdown",
   "metadata": {},
   "source": [
    "### Import Data\n",
    "\n",
    "> starting from trips dataset cleaned in 'Data Investigation - Trips'"
   ]
  },
  {
   "cell_type": "code",
   "execution_count": 1,
   "metadata": {
    "collapsed": true
   },
   "outputs": [],
   "source": [
    "%matplotlib inline\n",
    "\n",
    "import matplotlib\n",
    "import numpy as np\n",
    "from scipy import stats\n",
    "import matplotlib.pyplot as plt\n",
    "import pandas as pd\n",
    "from glob import glob\n",
    "import datetime\n",
    "import math\n",
    "\n",
    "import seaborn as sns\n",
    "sns.set()"
   ]
  },
  {
   "cell_type": "code",
   "execution_count": 2,
   "metadata": {},
   "outputs": [
    {
     "data": {
      "text/html": [
       "<style>.container { width:95% !important; }</style>"
      ],
      "text/plain": [
       "<IPython.core.display.HTML object>"
      ]
     },
     "metadata": {},
     "output_type": "display_data"
    }
   ],
   "source": [
    "from IPython.core.display import display, HTML\n",
    "display(HTML(\"<style>.container { width:95% !important; }</style>\"))"
   ]
  },
  {
   "cell_type": "code",
   "execution_count": 9,
   "metadata": {},
   "outputs": [
    {
     "name": "stdout",
     "output_type": "stream",
     "text": [
      "Loading Trip Data...\n",
      "\t[12:56:42.568398] finished chunk 1 of 96\n",
      "\t[12:56:43.413905] finished chunk 10 of 96\n",
      "\t[12:56:44.317774] finished chunk 20 of 96\n",
      "\t[12:56:45.232995] finished chunk 30 of 96\n",
      "\t[12:56:46.146126] finished chunk 40 of 96\n",
      "\t[12:56:47.084962] finished chunk 50 of 96\n",
      "\t[12:56:48.006289] finished chunk 60 of 96\n",
      "\t[12:56:48.942410] finished chunk 70 of 96\n",
      "\t[12:56:49.869756] finished chunk 80 of 96\n",
      "\t[12:56:50.789422] finished chunk 90 of 96\n",
      "\t[12:56:51.296959] finished chunk 96 of 96\n",
      "Data Loaded Successfully!\n"
     ]
    }
   ],
   "source": [
    "print('Loading Trip Data...')\n",
    "\n",
    "try:\n",
    "    trip_data = pd.DataFrame()\n",
    "    file = '../clean_data/trip_data_cleaned_master.csv'\n",
    "    chunks = []\n",
    "    counter = 1\n",
    "    chunksize = 10000\n",
    "    num_chunks = math.ceil(sum(1 for row in open(file, 'r'))/chunksize)\n",
    "\n",
    "    # import file in chunks\n",
    "    for chunk in pd.read_csv(file, chunksize=chunksize, iterator=True, parse_dates=['start_date', 'end_date']):\n",
    "\n",
    "        # append chunk to chunks list\n",
    "        chunks.append(chunk)\n",
    "\n",
    "        if counter == 1 or counter % 10 == 0 or counter == num_chunks:\n",
    "            print('\\t[%s] finished chunk %s of %s' % (datetime.datetime.now().time(), counter, num_chunks))\n",
    "        counter += 1\n",
    "\n",
    "    # concat chunks\n",
    "    trip_data = pd.concat(chunks)\n",
    "\n",
    "    print('Data Loaded Successfully!')\n",
    "\n",
    "except:\n",
    "    print('oops... something went wrong importing the data :(')"
   ]
  },
  {
   "cell_type": "code",
   "execution_count": 10,
   "metadata": {},
   "outputs": [
    {
     "name": "stdout",
     "output_type": "stream",
     "text": [
      "<class 'pandas.core.frame.DataFrame'>\n",
      "Int64Index: 955557 entries, 0 to 955556\n",
      "Data columns (total 26 columns):\n",
      "Unnamed: 0            955557 non-null int64\n",
      "trip_id               955557 non-null int64\n",
      "duration              955557 non-null int64\n",
      "start_date            955557 non-null datetime64[ns]\n",
      "start_station_name    955557 non-null object\n",
      "start_terminal        955557 non-null int64\n",
      "end_date              955557 non-null datetime64[ns]\n",
      "end_station_name      955557 non-null object\n",
      "end_terminal          955557 non-null int64\n",
      "bike_id               955557 non-null int64\n",
      "user_type             955557 non-null object\n",
      "user_zip              955557 non-null int64\n",
      "duration_minutes      955557 non-null float64\n",
      "start_area            955557 non-null object\n",
      "end_area              955557 non-null object\n",
      "start_zip             955557 non-null int64\n",
      "end_zip               955557 non-null int64\n",
      "max_temp              955507 non-null float64\n",
      "mean_temp             955507 non-null float64\n",
      "min_temp              955507 non-null float64\n",
      "max_wind              955552 non-null float64\n",
      "mean_wind             955552 non-null float64\n",
      "max_gust              931003 non-null float64\n",
      "precipitation         955557 non-null float64\n",
      "cloud_cover           955552 non-null float64\n",
      "events                184050 non-null object\n",
      "dtypes: datetime64[ns](2), float64(9), int64(9), object(6)\n",
      "memory usage: 196.8+ MB\n"
     ]
    }
   ],
   "source": [
    "trip_data.info()"
   ]
  },
  {
   "cell_type": "code",
   "execution_count": 11,
   "metadata": {},
   "outputs": [
    {
     "data": {
      "text/html": [
       "<div>\n",
       "<style>\n",
       "    .dataframe thead tr:only-child th {\n",
       "        text-align: right;\n",
       "    }\n",
       "\n",
       "    .dataframe thead th {\n",
       "        text-align: left;\n",
       "    }\n",
       "\n",
       "    .dataframe tbody tr th {\n",
       "        vertical-align: top;\n",
       "    }\n",
       "</style>\n",
       "<table border=\"1\" class=\"dataframe\">\n",
       "  <thead>\n",
       "    <tr style=\"text-align: right;\">\n",
       "      <th></th>\n",
       "      <th>Unnamed: 0</th>\n",
       "      <th>trip_id</th>\n",
       "      <th>duration</th>\n",
       "      <th>start_date</th>\n",
       "      <th>start_station_name</th>\n",
       "      <th>start_terminal</th>\n",
       "      <th>end_date</th>\n",
       "      <th>end_station_name</th>\n",
       "      <th>end_terminal</th>\n",
       "      <th>bike_id</th>\n",
       "      <th>...</th>\n",
       "      <th>end_zip</th>\n",
       "      <th>max_temp</th>\n",
       "      <th>mean_temp</th>\n",
       "      <th>min_temp</th>\n",
       "      <th>max_wind</th>\n",
       "      <th>mean_wind</th>\n",
       "      <th>max_gust</th>\n",
       "      <th>precipitation</th>\n",
       "      <th>cloud_cover</th>\n",
       "      <th>events</th>\n",
       "    </tr>\n",
       "  </thead>\n",
       "  <tbody>\n",
       "    <tr>\n",
       "      <th>0</th>\n",
       "      <td>0</td>\n",
       "      <td>4069</td>\n",
       "      <td>174</td>\n",
       "      <td>2013-08-29 09:08:00</td>\n",
       "      <td>2nd at South Park</td>\n",
       "      <td>64</td>\n",
       "      <td>2013-08-29 09:11:00</td>\n",
       "      <td>2nd at South Park</td>\n",
       "      <td>64</td>\n",
       "      <td>288</td>\n",
       "      <td>...</td>\n",
       "      <td>94107</td>\n",
       "      <td>74.0</td>\n",
       "      <td>68.0</td>\n",
       "      <td>61.0</td>\n",
       "      <td>23.0</td>\n",
       "      <td>11.0</td>\n",
       "      <td>28.0</td>\n",
       "      <td>0.0</td>\n",
       "      <td>4.0</td>\n",
       "      <td>NaN</td>\n",
       "    </tr>\n",
       "    <tr>\n",
       "      <th>1</th>\n",
       "      <td>1</td>\n",
       "      <td>4073</td>\n",
       "      <td>1067</td>\n",
       "      <td>2013-08-29 09:24:00</td>\n",
       "      <td>South Van Ness at Market</td>\n",
       "      <td>66</td>\n",
       "      <td>2013-08-29 09:42:00</td>\n",
       "      <td>San Francisco Caltrain 2 (330 Townsend)</td>\n",
       "      <td>69</td>\n",
       "      <td>321</td>\n",
       "      <td>...</td>\n",
       "      <td>94107</td>\n",
       "      <td>74.0</td>\n",
       "      <td>68.0</td>\n",
       "      <td>61.0</td>\n",
       "      <td>23.0</td>\n",
       "      <td>11.0</td>\n",
       "      <td>28.0</td>\n",
       "      <td>0.0</td>\n",
       "      <td>4.0</td>\n",
       "      <td>NaN</td>\n",
       "    </tr>\n",
       "    <tr>\n",
       "      <th>2</th>\n",
       "      <td>2</td>\n",
       "      <td>4074</td>\n",
       "      <td>1131</td>\n",
       "      <td>2013-08-29 09:24:00</td>\n",
       "      <td>South Van Ness at Market</td>\n",
       "      <td>66</td>\n",
       "      <td>2013-08-29 09:43:00</td>\n",
       "      <td>San Francisco Caltrain 2 (330 Townsend)</td>\n",
       "      <td>69</td>\n",
       "      <td>317</td>\n",
       "      <td>...</td>\n",
       "      <td>94107</td>\n",
       "      <td>74.0</td>\n",
       "      <td>68.0</td>\n",
       "      <td>61.0</td>\n",
       "      <td>23.0</td>\n",
       "      <td>11.0</td>\n",
       "      <td>28.0</td>\n",
       "      <td>0.0</td>\n",
       "      <td>4.0</td>\n",
       "      <td>NaN</td>\n",
       "    </tr>\n",
       "  </tbody>\n",
       "</table>\n",
       "<p>3 rows × 26 columns</p>\n",
       "</div>"
      ],
      "text/plain": [
       "   Unnamed: 0  trip_id  duration          start_date  \\\n",
       "0           0     4069       174 2013-08-29 09:08:00   \n",
       "1           1     4073      1067 2013-08-29 09:24:00   \n",
       "2           2     4074      1131 2013-08-29 09:24:00   \n",
       "\n",
       "         start_station_name  start_terminal            end_date  \\\n",
       "0         2nd at South Park              64 2013-08-29 09:11:00   \n",
       "1  South Van Ness at Market              66 2013-08-29 09:42:00   \n",
       "2  South Van Ness at Market              66 2013-08-29 09:43:00   \n",
       "\n",
       "                          end_station_name  end_terminal  bike_id   ...    \\\n",
       "0                        2nd at South Park            64      288   ...     \n",
       "1  San Francisco Caltrain 2 (330 Townsend)            69      321   ...     \n",
       "2  San Francisco Caltrain 2 (330 Townsend)            69      317   ...     \n",
       "\n",
       "  end_zip  max_temp  mean_temp min_temp max_wind  mean_wind  max_gust  \\\n",
       "0   94107      74.0       68.0     61.0     23.0       11.0      28.0   \n",
       "1   94107      74.0       68.0     61.0     23.0       11.0      28.0   \n",
       "2   94107      74.0       68.0     61.0     23.0       11.0      28.0   \n",
       "\n",
       "   precipitation  cloud_cover  events  \n",
       "0            0.0          4.0     NaN  \n",
       "1            0.0          4.0     NaN  \n",
       "2            0.0          4.0     NaN  \n",
       "\n",
       "[3 rows x 26 columns]"
      ]
     },
     "execution_count": 11,
     "metadata": {},
     "output_type": "execute_result"
    }
   ],
   "source": [
    "trip_data.head(3)"
   ]
  },
  {
   "cell_type": "markdown",
   "metadata": {},
   "source": [
    "## Isolate Bike Data"
   ]
  },
  {
   "cell_type": "code",
   "execution_count": null,
   "metadata": {
    "collapsed": true,
    "scrolled": true
   },
   "outputs": [],
   "source": [
    "bike_data = pd.DataFrame()\n",
    "bike_data['first_trip'] = trips_data.groupby('bike_id')['start_date'].min()\n",
    "bike_data['latest_trip']  = trips_data.groupby('bike_id')['start_date'].max()\n",
    "bike_data['trip_count'] = trips_data.groupby('bike_id')['start_date'].count()\n",
    "bike_data['days_in_service'] = (bike_data['latest_trip'] - bike_data['first_trip']).dt.days\n",
    "\n",
    "last_recorded_trip = bike_data.latest_trip.max()\n",
    "bike_data['days_since_last_trip'] = (last_recorded_trip - bike_data.latest_trip).dt.days\n",
    "\n",
    "bike_data['total_usage_time_per_trip'] = trips_data.groupby('bike_id')['duration'].sum()\n",
    "bike_data['median_usage_time_per_trip'] = trips_data.groupby('bike_id')['duration'].median()\n",
    "bike_data['mean_usage_time_per_trip'] = trips_data.groupby('bike_id')['duration'].mean()\n",
    "\n",
    "bike_data.head()"
   ]
  },
  {
   "cell_type": "code",
   "execution_count": null,
   "metadata": {
    "collapsed": true
   },
   "outputs": [],
   "source": [
    "bike_data.to_csv('../../../datasets/bayareabikeshare/CLEANED/bike_data_cleaned.csv', encoding='utf-8')"
   ]
  },
  {
   "cell_type": "code",
   "execution_count": null,
   "metadata": {
    "collapsed": true
   },
   "outputs": [],
   "source": [
    "service_days = trips_data.groupby(trips_data['start_date'].dt.date)['bike_id'].value_counts().to_frame()\n",
    "grid = service_days.unstack()\n",
    "plt.subplots(figsize=(120,70))\n",
    "ax = sns.heatmap(grid, square=True, cmap=\"YlOrRd\")\n",
    "ax.set(ylabel='Bike ID')\n",
    "ax.set(xlabel='Date')\n",
    "ax.set(title='Bike Usage over Time')\n",
    "\n",
    "plt.savefig('../Documents/bike_usage_by_day.png')"
   ]
  },
  {
   "cell_type": "code",
   "execution_count": null,
   "metadata": {
    "collapsed": true
   },
   "outputs": [],
   "source": [
    "plt.subplots(figsize=(15,5))\n",
    "sns.distplot(bike_data.trip_count, color='b', bins=50)\n",
    "plt.title('Distribution of Bike Trips Counts')\n",
    "plt.xlim(-100, 3000)\n",
    "plt.xlabel('Number of Trips')\n",
    "plt.show()"
   ]
  },
  {
   "cell_type": "code",
   "execution_count": null,
   "metadata": {
    "collapsed": true
   },
   "outputs": [],
   "source": [
    "plt.subplots(figsize=(15,5))\n",
    "sns.distplot(bike_data.days_in_service, color='b', bins=100)\n",
    "plt.title('Distribution of Bike Trips Counts')\n",
    "plt.xlabel('Days in Service')\n",
    "plt.show()"
   ]
  },
  {
   "cell_type": "code",
   "execution_count": null,
   "metadata": {
    "collapsed": true
   },
   "outputs": [],
   "source": [
    "plt.subplots(figsize=(15,5))\n",
    "sns.distplot(bike_data.days_since_last_trip, color='b', bins=100)\n",
    "plt.title('Distribution of Bike Trips Counts')\n",
    "plt.xlabel('Days in Since Last Trip')\n",
    "plt.show()"
   ]
  },
  {
   "cell_type": "code",
   "execution_count": null,
   "metadata": {
    "collapsed": true
   },
   "outputs": [],
   "source": [
    "plt.subplots(figsize=(15,5))\n",
    "sns.distplot(bike_data.mean_usage_time_per_trip, color='b', bins=100)\n",
    "plt.title('Distribution of Bike Trips Counts')\n",
    "plt.xlabel('Number of Trips')\n",
    "plt.show()"
   ]
  },
  {
   "cell_type": "code",
   "execution_count": null,
   "metadata": {
    "collapsed": true
   },
   "outputs": [],
   "source": [
    "plt.subplots(figsize=(15,5))\n",
    "ax = sns.distplot(bike_data.median_usage_time_per_trip/60., color='g', bins=100)\n",
    "sns.distplot(bike_data.mean_usage_time_per_trip/60., color='r', bins=100, ax=ax)\n",
    "plt.title('Trip Duration Distribution')\n",
    "plt.xlabel('Length of Trip in Minutes')\n",
    "plt.legend(['Median', 'Mean'], loc='best')\n",
    "plt.show()"
   ]
  },
  {
   "cell_type": "code",
   "execution_count": null,
   "metadata": {
    "collapsed": true
   },
   "outputs": [],
   "source": []
  }
 ],
 "metadata": {
  "kernelspec": {
   "display_name": "Python 3",
   "language": "python",
   "name": "python3"
  },
  "language_info": {
   "codemirror_mode": {
    "name": "ipython",
    "version": 3
   },
   "file_extension": ".py",
   "mimetype": "text/x-python",
   "name": "python",
   "nbconvert_exporter": "python",
   "pygments_lexer": "ipython3",
   "version": "3.6.3"
  }
 },
 "nbformat": 4,
 "nbformat_minor": 2
}
