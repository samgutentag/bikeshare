{
 "cells": [
  {
   "cell_type": "markdown",
   "metadata": {},
   "source": [
    "# Data Investigation - Status"
   ]
  },
  {
   "cell_type": "code",
   "execution_count": 1,
   "metadata": {
    "collapsed": true
   },
   "outputs": [],
   "source": [
    "%matplotlib inline\n",
    "\n",
    "import matplotlib\n",
    "import numpy as np\n",
    "from scipy import stats\n",
    "import math\n",
    "import matplotlib.pyplot as plt\n",
    "import pandas as pd\n",
    "from glob import glob\n",
    "import datetime\n",
    "import math\n",
    "\n",
    "import seaborn as sns\n",
    "sns.set()"
   ]
  },
  {
   "cell_type": "markdown",
   "metadata": {},
   "source": [
    "### Import Data"
   ]
  },
  {
   "cell_type": "code",
   "execution_count": 2,
   "metadata": {},
   "outputs": [
    {
     "name": "stdout",
     "output_type": "stream",
     "text": [
      "Loading Status Data...\n",
      "\t[19:37:59.939231] finished chunk 1 of 1835\n",
      "\t[19:38:01.941357] finished chunk 184 of 1835\n",
      "\t[19:38:04.001189] finished chunk 368 of 1835\n",
      "\t[19:38:06.028219] finished chunk 552 of 1835\n",
      "\t[19:38:08.088627] finished chunk 736 of 1835\n",
      "\t[19:38:10.268740] finished chunk 920 of 1835\n",
      "\t[19:38:12.348546] finished chunk 1104 of 1835\n",
      "\t[19:38:14.407318] finished chunk 1288 of 1835\n",
      "\t[19:38:16.520816] finished chunk 1472 of 1835\n",
      "\t[19:38:18.700287] finished chunk 1656 of 1835\n",
      "\t[19:38:20.892560] finished chunk 1835 of 1835\n",
      "Finished file! (1 of 4)\n",
      "\t[19:38:32.838601] finished chunk 1 of 3665\n",
      "\t[19:38:37.961790] finished chunk 367 of 3665\n",
      "\t[19:38:43.271058] finished chunk 734 of 3665\n",
      "\t[19:38:48.537630] finished chunk 1101 of 3665\n",
      "\t[19:38:53.913744] finished chunk 1468 of 3665\n",
      "\t[19:38:59.660930] finished chunk 1835 of 3665\n",
      "\t[19:39:05.317785] finished chunk 2202 of 3665\n",
      "\t[19:39:11.040887] finished chunk 2569 of 3665\n",
      "\t[19:39:16.897358] finished chunk 2936 of 3665\n",
      "\t[19:39:22.800571] finished chunk 3303 of 3665\n",
      "\t[19:39:28.736967] finished chunk 3665 of 3665\n",
      "Finished file! (2 of 4)\n",
      "\t[19:39:54.097991] finished chunk 1 of 3552\n",
      "\t[19:39:59.918634] finished chunk 356 of 3552\n",
      "\t[19:40:05.711968] finished chunk 712 of 3552\n",
      "\t[19:40:11.530734] finished chunk 1068 of 3552\n",
      "\t[19:40:17.570489] finished chunk 1424 of 3552\n",
      "\t[19:40:23.507103] finished chunk 1780 of 3552\n",
      "\t[19:40:29.569992] finished chunk 2136 of 3552\n",
      "\t[19:40:35.375298] finished chunk 2492 of 3552\n",
      "\t[19:40:41.199037] finished chunk 2848 of 3552\n",
      "\t[19:40:47.120387] finished chunk 3204 of 3552\n",
      "\t[19:40:52.796036] finished chunk 3552 of 3552\n",
      "Finished file! (3 of 4)\n",
      "\t[19:41:18.568629] finished chunk 1 of 1700\n",
      "\t[19:41:22.330102] finished chunk 170 of 1700\n",
      "\t[19:41:25.485668] finished chunk 340 of 1700\n",
      "\t[19:41:28.574466] finished chunk 510 of 1700\n",
      "\t[19:41:31.633453] finished chunk 680 of 1700\n",
      "\t[19:41:34.529690] finished chunk 850 of 1700\n",
      "\t[19:41:37.428090] finished chunk 1020 of 1700\n",
      "\t[19:41:40.360827] finished chunk 1190 of 1700\n",
      "\t[19:41:43.273265] finished chunk 1360 of 1700\n",
      "\t[19:41:46.203723] finished chunk 1530 of 1700\n",
      "\t[19:41:49.385808] finished chunk 1700 of 1700\n",
      "Finished file! (4 of 4)\n",
      "Data Loaded Successfully!\n"
     ]
    }
   ],
   "source": [
    "print('Loading Status Data...')\n",
    "\n",
    "status_01 = pd.DataFrame()\n",
    "status_02 = pd.DataFrame()\n",
    "status_03 = pd.DataFrame()\n",
    "status_04 = pd.DataFrame()\n",
    "\n",
    "try:\n",
    "    file_path_slug = '../../../datasets/bayareabikeshare/*_status_data.csv'\n",
    "\n",
    "    # glob all files\n",
    "    file_list = glob(file_path_slug)\n",
    "\n",
    "    status_import = pd.DataFrame()\n",
    "\n",
    "    counter = 1\n",
    "\n",
    "    # load data from each file\n",
    "    for file in file_list:\n",
    "\n",
    "        chunks = []\n",
    "        chunk_counter = 1\n",
    "        chunksize = 10000\n",
    "        num_chunks = math.ceil(sum(1 for row in open(file, 'r'))/chunksize)\n",
    "\n",
    "        # import file in chunks\n",
    "        for chunk in pd.read_csv(file, chunksize=chunksize, iterator=True):\n",
    "\n",
    "            # append chunk to chunks list\n",
    "            chunks.append(chunk)\n",
    "\n",
    "            if chunk_counter == 1 or chunk_counter % math.ceil(num_chunks/10) == 0 or chunk_counter == num_chunks:\n",
    "                print('\\t[%s] finished chunk %s of %s' % (datetime.datetime.now().time(), chunk_counter, num_chunks))\n",
    "            chunk_counter += 1\n",
    "\n",
    "        if counter == 1:\n",
    "            status_01 = pd.concat(chunks)\n",
    "        elif counter == 2:\n",
    "            status_02 = pd.concat(chunks)\n",
    "        elif counter == 3:\n",
    "            status_03 = pd.concat(chunks)\n",
    "        elif counter == 4:\n",
    "            status_04 = pd.concat(chunks)\n",
    "        else:\n",
    "            pass\n",
    "\n",
    "\n",
    "        print('Finished file! (%d of %d)' % (counter, len(file_list)))\n",
    "        counter += 1\n",
    "\n",
    "    print('Data Loaded Successfully!')\n",
    "\n",
    "except:\n",
    "    print('oops... something went wrong importing the data :(')\n",
    "    \n",
    "\n",
    "    \n",
    "\n"
   ]
  },
  {
   "cell_type": "code",
   "execution_count": 3,
   "metadata": {
    "collapsed": true
   },
   "outputs": [],
   "source": [
    "s1 = status_01.copy()\n",
    "s2 = status_02.copy()\n",
    "s3 = status_03.copy()\n",
    "s4 = status_04.copy()"
   ]
  },
  {
   "cell_type": "code",
   "execution_count": 6,
   "metadata": {},
   "outputs": [
    {
     "name": "stdout",
     "output_type": "stream",
     "text": [
      "[20:26:53.353496] Started status_01['time'] Cleaning\n",
      "\t[20:26:56.228288]Complete!\n",
      "\n",
      "[20:26:56.228531] Started status_02['time'] Cleaning\n",
      "\t[20:27:01.152647]Complete!\n",
      "\n",
      "[20:27:01.153027] Started status_03['time'] Cleaning\n",
      "\t[20:27:05.299268]Complete!\n",
      "\n",
      "[20:27:05.299538] Started status_04['time'] Cleaning\n",
      "\t[20:27:07.215406]Complete!\n",
      "\n"
     ]
    }
   ],
   "source": [
    "print('[%s] Started status_01[\\'time\\'] Cleaning' % datetime.datetime.now().time())\n",
    "s1['time']   = pd.to_datetime(s1['time'],   format=\"%Y/%m/%d %H:%M:%S\").values.astype('<M8[m]')\n",
    "print('\\t[%s] Complete!\\n' % datetime.datetime.now().time())\n",
    "\n",
    "print('[%s] Started status_02[\\'time\\'] Cleaning' % datetime.datetime.now().time())\n",
    "s2['time']   = pd.to_datetime(s2['time'],   format=\"%Y/%m/%d %H:%M:%S\").values.astype('<M8[m]')\n",
    "print('\\t[%s] Complete!\\n' % datetime.datetime.now().time())\n",
    "\n",
    "print('[%s] Started status_03[\\'time\\'] Cleaning' % datetime.datetime.now().time())\n",
    "s3['time']   = pd.to_datetime(s3['time'],   format=\"%m/%d/%Y %H:%M:%S\").values.astype('<M8[m]')\n",
    "print('\\t[%s] Complete!\\n' % datetime.datetime.now().time())\n",
    "\n",
    "print('[%s] Started status_04[\\'time\\'] Cleaning' % datetime.datetime.now().time())\n",
    "s4['time']   = pd.to_datetime(s4['time'],   format=\"%Y/%m/%d %H:%M:%S\").values.astype('<M8[m]')\n",
    "print('\\t[%s] Complete!\\n' % datetime.datetime.now().time())"
   ]
  },
  {
   "cell_type": "code",
   "execution_count": null,
   "metadata": {},
   "outputs": [],
   "source": []
  },
  {
   "cell_type": "code",
   "execution_count": 7,
   "metadata": {},
   "outputs": [
    {
     "name": "stdout",
     "output_type": "stream",
     "text": [
      "[20:27:25.031690] Starting concat\n",
      "\t[20:27:46.880513]Complete!\n",
      "\n",
      "[20:27:46.884507] Wrighting to File\n",
      "\t[20:39:35.387372]Complete!\n",
      "\n"
     ]
    }
   ],
   "source": [
    "print('[%s] Starting concat' % datetime.datetime.now().time())\n",
    "status_data = pd.concat([s1, s2, s3, s4])\n",
    "print('\\t[%s]Complete!\\n' % datetime.datetime.now().time())\n",
    "\n",
    "print('[%s] Writing to File' % datetime.datetime.now().time())\n",
    "status_data.to_csv('../../../datasets/bayareabikeshare/CLEANED/status_data_cleaned.csv', encoding='utf-8')\n",
    "print('\\t[%s]Complete!\\n' % datetime.datetime.now().time())"
   ]
  },
  {
   "cell_type": "code",
   "execution_count": 8,
   "metadata": {},
   "outputs": [
    {
     "data": {
      "text/html": [
       "<div>\n",
       "<style>\n",
       "    .dataframe thead tr:only-child th {\n",
       "        text-align: right;\n",
       "    }\n",
       "\n",
       "    .dataframe thead th {\n",
       "        text-align: left;\n",
       "    }\n",
       "\n",
       "    .dataframe tbody tr th {\n",
       "        vertical-align: top;\n",
       "    }\n",
       "</style>\n",
       "<table border=\"1\" class=\"dataframe\">\n",
       "  <thead>\n",
       "    <tr style=\"text-align: right;\">\n",
       "      <th></th>\n",
       "      <th>station_id</th>\n",
       "      <th>bikes_available</th>\n",
       "      <th>docks_available</th>\n",
       "      <th>time</th>\n",
       "    </tr>\n",
       "  </thead>\n",
       "  <tbody>\n",
       "    <tr>\n",
       "      <th>0</th>\n",
       "      <td>2</td>\n",
       "      <td>12</td>\n",
       "      <td>15</td>\n",
       "      <td>2014-03-01 00:00:00</td>\n",
       "    </tr>\n",
       "    <tr>\n",
       "      <th>1</th>\n",
       "      <td>2</td>\n",
       "      <td>12</td>\n",
       "      <td>15</td>\n",
       "      <td>2014-03-01 00:01:00</td>\n",
       "    </tr>\n",
       "    <tr>\n",
       "      <th>2</th>\n",
       "      <td>2</td>\n",
       "      <td>12</td>\n",
       "      <td>15</td>\n",
       "      <td>2014-03-01 00:02:00</td>\n",
       "    </tr>\n",
       "    <tr>\n",
       "      <th>3</th>\n",
       "      <td>2</td>\n",
       "      <td>12</td>\n",
       "      <td>15</td>\n",
       "      <td>2014-03-01 00:03:00</td>\n",
       "    </tr>\n",
       "    <tr>\n",
       "      <th>4</th>\n",
       "      <td>2</td>\n",
       "      <td>12</td>\n",
       "      <td>15</td>\n",
       "      <td>2014-03-01 00:04:00</td>\n",
       "    </tr>\n",
       "  </tbody>\n",
       "</table>\n",
       "</div>"
      ],
      "text/plain": [
       "   station_id  bikes_available  docks_available                time\n",
       "0           2               12               15 2014-03-01 00:00:00\n",
       "1           2               12               15 2014-03-01 00:01:00\n",
       "2           2               12               15 2014-03-01 00:02:00\n",
       "3           2               12               15 2014-03-01 00:03:00\n",
       "4           2               12               15 2014-03-01 00:04:00"
      ]
     },
     "execution_count": 8,
     "metadata": {},
     "output_type": "execute_result"
    }
   ],
   "source": [
    "status_data.head()"
   ]
  },
  {
   "cell_type": "code",
   "execution_count": 12,
   "metadata": {},
   "outputs": [],
   "source": [
    "status_data.set_index('time', inplace=True)"
   ]
  },
  {
   "cell_type": "code",
   "execution_count": 13,
   "metadata": {},
   "outputs": [
    {
     "data": {
      "text/html": [
       "<div>\n",
       "<style>\n",
       "    .dataframe thead tr:only-child th {\n",
       "        text-align: right;\n",
       "    }\n",
       "\n",
       "    .dataframe thead th {\n",
       "        text-align: left;\n",
       "    }\n",
       "\n",
       "    .dataframe tbody tr th {\n",
       "        vertical-align: top;\n",
       "    }\n",
       "</style>\n",
       "<table border=\"1\" class=\"dataframe\">\n",
       "  <thead>\n",
       "    <tr style=\"text-align: right;\">\n",
       "      <th></th>\n",
       "      <th>station_id</th>\n",
       "      <th>bikes_available</th>\n",
       "      <th>docks_available</th>\n",
       "    </tr>\n",
       "    <tr>\n",
       "      <th>time</th>\n",
       "      <th></th>\n",
       "      <th></th>\n",
       "      <th></th>\n",
       "    </tr>\n",
       "  </thead>\n",
       "  <tbody>\n",
       "    <tr>\n",
       "      <th>2014-03-01 00:00:00</th>\n",
       "      <td>2</td>\n",
       "      <td>12</td>\n",
       "      <td>15</td>\n",
       "    </tr>\n",
       "    <tr>\n",
       "      <th>2014-03-01 00:01:00</th>\n",
       "      <td>2</td>\n",
       "      <td>12</td>\n",
       "      <td>15</td>\n",
       "    </tr>\n",
       "    <tr>\n",
       "      <th>2014-03-01 00:02:00</th>\n",
       "      <td>2</td>\n",
       "      <td>12</td>\n",
       "      <td>15</td>\n",
       "    </tr>\n",
       "    <tr>\n",
       "      <th>2014-03-01 00:03:00</th>\n",
       "      <td>2</td>\n",
       "      <td>12</td>\n",
       "      <td>15</td>\n",
       "    </tr>\n",
       "    <tr>\n",
       "      <th>2014-03-01 00:04:00</th>\n",
       "      <td>2</td>\n",
       "      <td>12</td>\n",
       "      <td>15</td>\n",
       "    </tr>\n",
       "  </tbody>\n",
       "</table>\n",
       "</div>"
      ],
      "text/plain": [
       "                     station_id  bikes_available  docks_available\n",
       "time                                                             \n",
       "2014-03-01 00:00:00           2               12               15\n",
       "2014-03-01 00:01:00           2               12               15\n",
       "2014-03-01 00:02:00           2               12               15\n",
       "2014-03-01 00:03:00           2               12               15\n",
       "2014-03-01 00:04:00           2               12               15"
      ]
     },
     "execution_count": 13,
     "metadata": {},
     "output_type": "execute_result"
    }
   ],
   "source": [
    "status_data.head()"
   ]
  },
  {
   "cell_type": "markdown",
   "metadata": {},
   "source": [
    "## Resampling"
   ]
  },
  {
   "cell_type": "markdown",
   "metadata": {},
   "source": [
    "### Daily Mean"
   ]
  },
  {
   "cell_type": "code",
   "execution_count": 67,
   "metadata": {},
   "outputs": [
    {
     "name": "stdout",
     "output_type": "stream",
     "text": [
      "[21:31:25.534197] Resampling Daily Mean\n",
      "\t[21:33:31.618103]Complete!\n",
      "\n",
      "[21:33:31.622463] Writing to File\n",
      "\t[21:33:33.106404]Complete!\n",
      "\n"
     ]
    }
   ],
   "source": [
    "print('[%s] Resampling Daily Mean' % datetime.datetime.now().time())\n",
    "status_daily_mean = status_data.groupby('station_id').resample('D').mean().fillna(0).rolling(window=3, min_periods=1).mean()\n",
    "status_daily_mean.index = status_daily_mean.index.droplevel(0)\n",
    "print('\\t[%s]Complete!\\n' % datetime.datetime.now().time())\n",
    "\n",
    "print('[%s] Writing to File' % datetime.datetime.now().time())\n",
    "status_daily_mean.to_csv('../../../datasets/bayareabikeshare/CLEANED/status_data_daily_mean_cleaned.csv', encoding='utf-8')\n",
    "print('\\t[%s]Complete!\\n' % datetime.datetime.now().time())"
   ]
  },
  {
   "cell_type": "markdown",
   "metadata": {},
   "source": [
    "### 15 Minute Mean"
   ]
  },
  {
   "cell_type": "code",
   "execution_count": 69,
   "metadata": {},
   "outputs": [
    {
     "name": "stdout",
     "output_type": "stream",
     "text": [
      "[21:38:06.372187] Resampling 15min Mean\n",
      "\t[21:40:50.505325]Complete!\n",
      "\n",
      "[21:40:50.510883] Writing to File\n",
      "\t[21:42:06.968426]Complete!\n",
      "\n"
     ]
    }
   ],
   "source": [
    "print('[%s] Resampling 15min Mean' % datetime.datetime.now().time())\n",
    "status_15min_mean = status_data.groupby('station_id').resample('15T').mean().fillna(0).rolling(window=3, min_periods=1).mean()\n",
    "status_15min_mean.index = status_15min_mean.index.droplevel(0)\n",
    "print('\\t[%s]Complete!\\n' % datetime.datetime.now().time())\n",
    "\n",
    "print('[%s] Writing to File' % datetime.datetime.now().time())\n",
    "status_15min_mean.to_csv('../../../datasets/bayareabikeshare/CLEANED/status_data_15min_mean_cleaned.csv', encoding='utf-8')\n",
    "print('\\t[%s]Complete!\\n' % datetime.datetime.now().time())"
   ]
  },
  {
   "cell_type": "code",
   "execution_count": null,
   "metadata": {
    "collapsed": true
   },
   "outputs": [],
   "source": []
  }
 ],
 "metadata": {
  "kernelspec": {
   "display_name": "Python 3",
   "language": "python",
   "name": "python3"
  },
  "language_info": {
   "codemirror_mode": {
    "name": "ipython",
    "version": 3
   },
   "file_extension": ".py",
   "mimetype": "text/x-python",
   "name": "python",
   "nbconvert_exporter": "python",
   "pygments_lexer": "ipython3",
   "version": "3.6.3"
  }
 },
 "nbformat": 4,
 "nbformat_minor": 2
}
