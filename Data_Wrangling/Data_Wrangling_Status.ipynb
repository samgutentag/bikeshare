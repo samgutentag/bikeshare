{
 "cells": [
  {
   "cell_type": "markdown",
   "metadata": {},
   "source": [
    "# Data Investigation - Status"
   ]
  },
  {
   "cell_type": "code",
   "execution_count": null,
   "metadata": {
    "collapsed": true
   },
   "outputs": [],
   "source": [
    "%matplotlib inline\n",
    "\n",
    "import matplotlib\n",
    "import numpy as np\n",
    "from scipy import stats\n",
    "import matplotlib.pyplot as plt\n",
    "import pandas as pd\n",
    "from glob import glob\n",
    "import datetime\n",
    "import math\n",
    "\n",
    "import seaborn as sns\n",
    "sns.set()"
   ]
  },
  {
   "cell_type": "code",
   "execution_count": null,
   "metadata": {
    "collapsed": true
   },
   "outputs": [],
   "source": [
    "from IPython.core.display import display, HTML\n",
    "display(HTML(\"<style>.container { width:95% !important; }</style>\"))"
   ]
  },
  {
   "cell_type": "markdown",
   "metadata": {},
   "source": [
    "### Import Data"
   ]
  },
  {
   "cell_type": "code",
   "execution_count": null,
   "metadata": {},
   "outputs": [],
   "source": [
    "print('Loading Status Data...')\n",
    "\n",
    "try:\n",
    "    file_path_slug = '../../../datasets/bayareabikeshare/*_status_data.csv'\n",
    "\n",
    "    # glob all files\n",
    "    file_list = glob(file_path_slug)\n",
    "\n",
    "    status_import = pd.DataFrame()\n",
    "\n",
    "    counter = 1\n",
    "\n",
    "    # load data from each file\n",
    "    for file in file_list:\n",
    "\n",
    "        chunks = []\n",
    "        chunk_counter = 1\n",
    "        chunksize = 10000\n",
    "        num_chunks = math.ceil(sum(1 for row in open(file, 'r'))/chunksize)\n",
    "\n",
    "        # import file in chunks\n",
    "        for chunk in pd.read_csv(file, chunksize=chunksize, iterator=True):\n",
    "\n",
    "            # append chunk to chunks list\n",
    "            chunks.append(chunk)\n",
    "\n",
    "            if chunk_counter == 1 or chunk_counter % math.ceil(num_chunks/10) == 0 or chunk_counter == num_chunks:\n",
    "                print('\\t[%s] finished chunk %s of %s' % (datetime.datetime.now().time(), chunk_counter, num_chunks))\n",
    "            chunk_counter += 1\n",
    "\n",
    "        if counter == 1:\n",
    "            status_01 = pd.DataFrame()\n",
    "            status_01 = pd.concat(chunks)\n",
    "        elif counter == 2:\n",
    "            status_02 = pd.DataFrame()\n",
    "            status_02 = pd.concat(chunks)\n",
    "        elif counter == 3:\n",
    "            status_03 = pd.DataFrame()\n",
    "            status_03 = pd.concat(chunks)\n",
    "        elif counter == 4:\n",
    "            status_04 = pd.DataFrame()\n",
    "            status_04 = pd.concat(chunks)\n",
    "        else:\n",
    "            pass\n",
    "\n",
    "\n",
    "        print('Finished file! (%d of %d)' % (counter, len(file_list)))\n",
    "        counter += 1\n",
    "\n",
    "    print('Data Loaded Successfully!')\n",
    "\n",
    "except:\n",
    "    print('oops... something went wrong importing the data :(')\n",
    "    "
   ]
  },
  {
   "cell_type": "markdown",
   "metadata": {},
   "source": [
    "### Clean and Write File"
   ]
  },
  {
   "cell_type": "code",
   "execution_count": null,
   "metadata": {
    "collapsed": true
   },
   "outputs": [],
   "source": [
    "print('[%s] Started status_01[\\'time\\'] Cleaning' % datetime.datetime.now().time())\n",
    "status_01['time']   = pd.to_datetime(status_01['time'],   format=\"%Y/%m/%d %H:%M:%S\").values.astype('<M8[m]')\n",
    "status_01['dockcount'] = status_01.bikes_available + status_01.docks_available\n",
    "status_01['utilization'] = status_01.docks_available / (status_01.bikes_available + status_01.docks_available)\n",
    "print('\\t[%s] Complete!\\n' % datetime.datetime.now().time())\n",
    "\n",
    "print('[%s] Started status_02[\\'time\\'] Cleaning' % datetime.datetime.now().time())\n",
    "status_02['time']   = pd.to_datetime(status_02['time'],   format=\"%Y/%m/%d %H:%M:%S\").values.astype('<M8[m]')\n",
    "status_02['dockcount'] = status_02.bikes_available + status_02.docks_available\n",
    "status_02['utilization'] = status_02.docks_available / (status_02.bikes_available + status_02.docks_available)\n",
    "print('\\t[%s] Complete!\\n' % datetime.datetime.now().time())\n",
    "\n",
    "print('[%s] Started status_03[\\'time\\'] Cleaning' % datetime.datetime.now().time())\n",
    "status_03['time']   = pd.to_datetime(status_03['time'],   format=\"%m/%d/%Y %H:%M:%S\").values.astype('<M8[m]')\n",
    "status_03['dockcount'] = status_03.bikes_available + status_03.docks_available\n",
    "status_03['utilization'] = status_03.docks_available / (status_03.bikes_available + status_03.docks_available)\n",
    "print('\\t[%s] Complete!\\n' % datetime.datetime.now().time())\n",
    "\n",
    "print('[%s] Started status_04[\\'time\\'] Cleaning' % datetime.datetime.now().time())\n",
    "status_04['time']   = pd.to_datetime(status_04['time'],   format=\"%Y/%m/%d %H:%M:%S\").values.astype('<M8[m]')\n",
    "status_04['dockcount'] = status_04.bikes_available + status_04.docks_available\n",
    "status_04['utilization'] = status_04.docks_available / (status_04.bikes_available + status_04.docks_available)\n",
    "print('\\t[%s] Complete!\\n' % datetime.datetime.now().time())\n",
    "\n",
    "\n",
    "# COncat all frames\n",
    "print('[%s] Starting concat' % datetime.datetime.now().time())\n",
    "status_data = pd.DataFrame()\n",
    "status_data = pd.concat([status_01, status_02, status_03, status_04])\n",
    "status_data.set_index('time', inplace=True)\n",
    "print('\\t[%s]Complete!\\n' % datetime.datetime.now().time())\n",
    "status_data.head()"
   ]
  },
  {
   "cell_type": "code",
   "execution_count": null,
   "metadata": {
    "collapsed": true
   },
   "outputs": [],
   "source": [
    "status_data = status_data[status_data.station_id != 87]"
   ]
  },
  {
   "cell_type": "code",
   "execution_count": null,
   "metadata": {
    "collapsed": true,
    "scrolled": false
   },
   "outputs": [],
   "source": [
    "status_data.info()"
   ]
  },
  {
   "cell_type": "code",
   "execution_count": null,
   "metadata": {
    "collapsed": true
   },
   "outputs": [],
   "source": [
    "# Write file\n",
    "print('[%s] Writing to File' % datetime.datetime.now().time())\n",
    "status_data.to_csv('../clean_data/status_data_cleaned.csv', encoding='utf-8')\n",
    "print('\\t[%s]Complete!\\n' % datetime.datetime.now().time())"
   ]
  },
  {
   "cell_type": "markdown",
   "metadata": {},
   "source": [
    "# Load Cleaned File"
   ]
  },
  {
   "cell_type": "code",
   "execution_count": null,
   "metadata": {
    "collapsed": true
   },
   "outputs": [],
   "source": [
    "print('Loading Cleaned Status Data...')\n",
    "\n",
    "status_data = pd.DataFrame()\n",
    "file = '../clean_data/status_data_cleaned.csv'\n",
    "\n",
    "try:\n",
    "\n",
    "    chunks = []\n",
    "    chunk_counter = 1\n",
    "    chunksize = 10000\n",
    "    num_chunks = math.ceil(sum(1 for row in open(file, 'r'))/chunksize)\n",
    "\n",
    "    # import file in chunks\n",
    "    for chunk in pd.read_csv(file, chunksize=chunksize, iterator=True, parse_dates=['time']):\n",
    "\n",
    "        # append chunk to chunks list\n",
    "        chunks.append(chunk)\n",
    "\n",
    "        if chunk_counter == 1 or chunk_counter % math.ceil(num_chunks/10) == 0 or chunk_counter == num_chunks:\n",
    "            print('\\t[%s] finished chunk %s of %s' % (datetime.datetime.now().time(), chunk_counter, num_chunks))\n",
    "        chunk_counter += 1\n",
    "\n",
    "    print('Concatenating Chunks')\n",
    "    status_data = pd.DataFrame()\n",
    "    status_data = pd.concat(chunks)\n",
    "    print('Data Loaded Successfully!')\n",
    "\n",
    "except:\n",
    "    print('oops... something went wrong importing the data :(')"
   ]
  },
  {
   "cell_type": "code",
   "execution_count": null,
   "metadata": {
    "collapsed": true
   },
   "outputs": [],
   "source": [
    "status_data.head(10)"
   ]
  },
  {
   "cell_type": "code",
   "execution_count": null,
   "metadata": {
    "collapsed": true
   },
   "outputs": [],
   "source": [
    "status_data.drop(['dockcount', 'utilization'], axis=1, inplace=True)\n",
    "status_data.sort_values(['station_id', 'time'], inplace=True)\n",
    "status_data.head(10)"
   ]
  },
  {
   "cell_type": "markdown",
   "metadata": {},
   "source": [
    "## Load Station Data"
   ]
  },
  {
   "cell_type": "code",
   "execution_count": null,
   "metadata": {
    "collapsed": true
   },
   "outputs": [],
   "source": [
    "station_data = pd.DataFrame()\n",
    "station_data = pd.read_csv('../clean_data/station_data_cleaned.csv')\n",
    "dock_data = pd.DataFrame()\n",
    "dock_data['station_id'] = station_data['station_id']\n",
    "dock_data['dock_count'] = station_data['dockcount']"
   ]
  },
  {
   "cell_type": "code",
   "execution_count": null,
   "metadata": {
    "collapsed": true
   },
   "outputs": [],
   "source": [
    "dock_data = pd.DataFrame()\n",
    "dock_data['station_id'] = station_data['station_id']\n",
    "dock_data['dock_count'] = station_data['dockcount']"
   ]
  },
  {
   "cell_type": "code",
   "execution_count": null,
   "metadata": {
    "collapsed": true
   },
   "outputs": [],
   "source": [
    "dock_data.head(3)"
   ]
  },
  {
   "cell_type": "markdown",
   "metadata": {},
   "source": [
    "## Resampling"
   ]
  },
  {
   "cell_type": "markdown",
   "metadata": {},
   "source": [
    "### 15 Minute Median"
   ]
  },
  {
   "cell_type": "code",
   "execution_count": null,
   "metadata": {
    "collapsed": true
   },
   "outputs": [],
   "source": [
    "print('[%s] Resample Cleanup Started' % datetime.datetime.now().time())\n",
    "status_data_copy = status_data.copy()\n",
    "\n",
    "# status_data_copy.reset_index(inplace=True)\n",
    "status_data_copy.set_index(['station_id', 'time'], inplace=True)\n",
    "\n",
    "print('[%s] Resampling on interval' % datetime.datetime.now().time())\n",
    "# resample on 15minute interval median\n",
    "status_15min_median = status_data_copy.groupby([pd.Grouper(level=0), pd.Grouper(freq='15T', level=-1)]).median()\n",
    "\n",
    "print('[%s] Merge Dock Information' % datetime.datetime.now().time())\n",
    "status_15min_median.reset_index(inplace=True)\n",
    "merge_15min = pd.merge(status_15min_median, dock_data, on='station_id')\n",
    "merge_15min.set_index(['station_id', 'time'], inplace=True)\n",
    "\n",
    "print('[%s] Calculate Utilization' % datetime.datetime.now().time())\n",
    "# calculate utilization, round off at 1.0 if overage are calculated, \n",
    "# some station data reports inaccuratly on resample\n",
    "merge_15min['utilization'] = merge_15min['docks_available'] / merge_15min['dock_count']\n",
    "merge_15min['utilization'] = merge_15min['utilization'].apply(lambda x: 1.0 if x > 1.0 else x)\n",
    "\n",
    "merge_15min.reset_index(inplace=True)\n",
    "\n",
    "print('[%s] Complete!' % datetime.datetime.now().time())\n",
    "merge_15min.head(5)\n"
   ]
  },
  {
   "cell_type": "code",
   "execution_count": null,
   "metadata": {
    "collapsed": true,
    "scrolled": true
   },
   "outputs": [],
   "source": [
    "merge_15min.info()"
   ]
  },
  {
   "cell_type": "code",
   "execution_count": null,
   "metadata": {
    "collapsed": true
   },
   "outputs": [],
   "source": [
    "print('[%s] Writing to File' % datetime.datetime.now().time())\n",
    "merge_15min.to_csv('../clean_data/status_data_15min_median_cleaned.csv', encoding='utf-8')\n",
    "print('\\t[%s]Complete!\\n' % datetime.datetime.now().time())"
   ]
  },
  {
   "cell_type": "markdown",
   "metadata": {},
   "source": [
    "### 1 Hour Median"
   ]
  },
  {
   "cell_type": "code",
   "execution_count": null,
   "metadata": {
    "collapsed": true
   },
   "outputs": [],
   "source": [
    "print('[%s] Resample Cleanup Started' % datetime.datetime.now().time())\n",
    "status_data_copy = status_data.copy()\n",
    "\n",
    "# status_data_copy.reset_index(inplace=True)\n",
    "status_data_copy.set_index(['station_id', 'time'], inplace=True)\n",
    "\n",
    "print('[%s] Resampling on interval' % datetime.datetime.now().time())\n",
    "# resample on 15minute interval median\n",
    "status_hour_median = status_data_copy.groupby([pd.Grouper(level=0), pd.Grouper(freq='H', level=-1)]).median()\n",
    "\n",
    "print('[%s] Merge Dock Information' % datetime.datetime.now().time())\n",
    "status_hour_median.reset_index(inplace=True)\n",
    "merge_hour = pd.merge(status_hour_median, dock_data, on='station_id')\n",
    "merge_hour.set_index(['station_id', 'time'], inplace=True)\n",
    "\n",
    "print('[%s] Calculate Utilization' % datetime.datetime.now().time())\n",
    "# calculate utilization, round off at 1.0 if overage are calculated, \n",
    "# some station data reports inaccuratly on resample\n",
    "merge_hour['utilization'] = merge_hour['docks_available'] / merge_hour['dock_count']\n",
    "merge_hour['utilization'] = merge_hour['utilization'].apply(lambda x: 1.0 if x > 1.0 else x)\n",
    "\n",
    "merge_hour.reset_index(inplace=True)\n",
    "\n",
    "print('[%s] Complete!' % datetime.datetime.now().time())\n",
    "merge_hour.head(5)\n",
    "\n",
    "print('[%s] Writing to File' % datetime.datetime.now().time())\n",
    "merge_hour.to_csv('../clean_data/status_data_hour_median_cleaned.csv', encoding='utf-8')\n",
    "print('\\t[%s]Complete!\\n' % datetime.datetime.now().time())"
   ]
  },
  {
   "cell_type": "code",
   "execution_count": null,
   "metadata": {
    "collapsed": true
   },
   "outputs": [],
   "source": [
    "merge_hour.info()"
   ]
  },
  {
   "cell_type": "code",
   "execution_count": null,
   "metadata": {
    "collapsed": true
   },
   "outputs": [],
   "source": []
  },
  {
   "cell_type": "markdown",
   "metadata": {},
   "source": [
    "## PreCleaned Files"
   ]
  },
  {
   "cell_type": "markdown",
   "metadata": {},
   "source": [
    "### Load Status Data"
   ]
  },
  {
   "cell_type": "code",
   "execution_count": null,
   "metadata": {
    "collapsed": true
   },
   "outputs": [],
   "source": [
    "file = '../clean_data/status_data_15min_median_cleaned.csv'\n",
    "\n",
    "status_15min = pd.DataFrame()\n",
    "\n",
    "chunks = []\n",
    "chunk_counter = 1\n",
    "chunksize = 10000\n",
    "num_chunks = math.ceil(sum(1 for row in open(file, 'r'))/chunksize)\n",
    "\n",
    "# import file in chunks\n",
    "for chunk in pd.read_csv(file, chunksize=chunksize, iterator=True, parse_dates=['time']):\n",
    "\n",
    "    # append chunk to chunks list\n",
    "    chunks.append(chunk)\n",
    "\n",
    "    if chunk_counter == 1 or chunk_counter % math.ceil(num_chunks/10) == 0 or chunk_counter == num_chunks:\n",
    "        print('\\t[%s] finished chunk %s of %s' % (datetime.datetime.now().time(), chunk_counter, num_chunks))\n",
    "    chunk_counter += 1\n",
    "\n",
    "status_15min = pd.concat(chunks)\n",
    "\n",
    "status_15min.info()\n"
   ]
  },
  {
   "cell_type": "code",
   "execution_count": null,
   "metadata": {
    "collapsed": true
   },
   "outputs": [],
   "source": [
    "status_15min.drop('Unnamed: 0', axis=1, inplace=True)\n",
    "status_15min.set_index('time', inplace=True)\n",
    "status_15min.head()"
   ]
  },
  {
   "cell_type": "code",
   "execution_count": null,
   "metadata": {
    "collapsed": true
   },
   "outputs": [],
   "source": []
  },
  {
   "cell_type": "markdown",
   "metadata": {},
   "source": [
    "### Analysis"
   ]
  },
  {
   "cell_type": "code",
   "execution_count": null,
   "metadata": {
    "collapsed": true
   },
   "outputs": [],
   "source": [
    "status_data = status_15min.copy()"
   ]
  },
  {
   "cell_type": "code",
   "execution_count": null,
   "metadata": {
    "collapsed": true,
    "scrolled": true
   },
   "outputs": [],
   "source": [
    "status_data.info()"
   ]
  },
  {
   "cell_type": "code",
   "execution_count": null,
   "metadata": {
    "collapsed": true
   },
   "outputs": [],
   "source": [
    "status_data.head()"
   ]
  },
  {
   "cell_type": "code",
   "execution_count": null,
   "metadata": {
    "collapsed": true
   },
   "outputs": [],
   "source": [
    "top_am_commute_start_terms = [50, 54, 55, 61, 67, 69, 70, 73, 74, 77]\n",
    "temp = status_data[status_data.station_id.isin(top_am_commute_start_terms)]"
   ]
  },
  {
   "cell_type": "code",
   "execution_count": null,
   "metadata": {
    "collapsed": true
   },
   "outputs": [],
   "source": [
    "plt.subplots(figsize=(15,5))\n",
    "ax = sns.boxplot(x=temp.index.dayofweek, y=\"utilization\", hue=\"station_id\", data=temp)\n",
    "\n",
    "ax.set(xlabel='Day of Week')\n",
    "# plt.legend()\n",
    "plt.show()\n",
    "\n"
   ]
  },
  {
   "cell_type": "code",
   "execution_count": null,
   "metadata": {
    "collapsed": true
   },
   "outputs": [],
   "source": [
    "for i in top_am_commute_start_terms:\n",
    "    temp = status_data[status_data.station_id == i]\n",
    "\n",
    "    plt.subplots(figsize=(15,5))\n",
    "    ax = sns.boxplot(x=temp.index.hour, y=\"utilization\", data=temp)\n",
    "    ax.set(xlabel='Hour of Day')\n",
    "    ax.set(title='Station %s' % i)\n",
    "    # plt.legend()\n",
    "    plt.show()\n",
    "\n",
    "\n"
   ]
  },
  {
   "cell_type": "code",
   "execution_count": null,
   "metadata": {
    "collapsed": true
   },
   "outputs": [],
   "source": [
    "\n",
    "top_am_commute_start_terms = [50, 54, 55, 61, 67, 69, 70, 73, 74, 77]\n",
    "temp = status_data[status_data.station_id.isin(top_am_commute_start_terms)]\n",
    "plt.subplots(figsize=(15,5))\n",
    "ax = sns.pointplot(x=temp.index.hour, y=\"utilization\", hue='station_id', data=temp)\n",
    "ax.set(xlabel='Hour of Day')\n",
    "ax.set(title='Station %s' % i)\n",
    "plt.legend()\n",
    "plt.show()"
   ]
  },
  {
   "cell_type": "code",
   "execution_count": null,
   "metadata": {
    "collapsed": true
   },
   "outputs": [],
   "source": [
    "top_am_commute_start_terms = [50, 54, 55, 61, 67, 69, 70, 73, 74, 77]\n",
    "temp = status_data[status_data.station_id.isin(top_am_commute_start_terms)]\n",
    "\n",
    "sns.jointplot(x=temp.index.hour, y=\"utilization\", data=temp)"
   ]
  },
  {
   "cell_type": "code",
   "execution_count": null,
   "metadata": {
    "collapsed": true
   },
   "outputs": [],
   "source": [
    "\n",
    "top_am_commute_start_terms = [50, 54, 55, 61, 67, 69, 70, 73, 74, 77]\n",
    "temp = status_data[status_data.station_id.isin(top_am_commute_start_terms)]\n",
    "plt.subplots(figsize=(15,5))\n",
    "ax = sns.jointplot(x=temp.index.hour, y=\"utilization\", data=temp, kind='reg')\n",
    "ax.set(xlabel='Hour of Day')\n",
    "ax.set(title='Station %s' % i)\n",
    "plt.legend()\n",
    "plt.show()"
   ]
  },
  {
   "cell_type": "code",
   "execution_count": null,
   "metadata": {
    "collapsed": true
   },
   "outputs": [],
   "source": [
    "status_data.groupby(['station_id', status_data.index.day, status_data.index.hour])['utilization'].mean().plot(figsize=(12,6), alpha=0.2)\n",
    "plt.show()"
   ]
  },
  {
   "cell_type": "code",
   "execution_count": null,
   "metadata": {
    "collapsed": true
   },
   "outputs": [],
   "source": [
    "test = status_data[status_data.station_id == 73]\n",
    "ax = test.groupby([test.index.hour, test.index.minute])['bikes_available'].median().plot(kind='bar', figsize=(12,6))\n",
    "test.groupby([test.index.hour, test.index.minute])['bikes_available'].mean().plot(kind='line', color='g', ax=ax)\n",
    "# test.groupby([test.index.hour, test.index.minute])['dock_count'].max().plot(kind='line', color='r', ax=ax)\n",
    "plt.show()"
   ]
  },
  {
   "cell_type": "code",
   "execution_count": null,
   "metadata": {
    "collapsed": true
   },
   "outputs": [],
   "source": [
    "top_am_commute_start_terms = [50, 54, 55, 61, 67, 69, 70, 73, 74, 77]"
   ]
  },
  {
   "cell_type": "code",
   "execution_count": null,
   "metadata": {
    "collapsed": true
   },
   "outputs": [],
   "source": [
    "counter = 0\n",
    "\n",
    "for station in [50, 54, 55, 61, 67, 69, 70, 73, 74, 77]:\n",
    "    test = status_data[status_data.station_id == station]\n",
    "    \n",
    "    if counter == 0:\n",
    "#         ax = test.groupby([test.index.dayofweek, test.index.hour, test.index.minute])['utilization'].mean().plot(kind='line', figsize=(12,6))\n",
    "        ax = test.groupby([test.index.dayofweek, test.index.hour])['utilization'].mean().plot(kind='line', figsize=(12,6))\n",
    "        counter += 1\n",
    "    else:\n",
    "#         test.groupby([test.index.dayofweek, test.index.hour, test.index.minute])['utilization'].mean().plot(kind='line', ax=ax)\n",
    "        test.groupby([test.index.dayofweek, test.index.hour])['utilization'].mean().plot(kind='line', ax=ax)\n",
    "\n",
    "plt.show()"
   ]
  },
  {
   "cell_type": "code",
   "execution_count": null,
   "metadata": {
    "collapsed": true
   },
   "outputs": [],
   "source": []
  },
  {
   "cell_type": "code",
   "execution_count": null,
   "metadata": {
    "collapsed": true
   },
   "outputs": [],
   "source": []
  },
  {
   "cell_type": "code",
   "execution_count": null,
   "metadata": {
    "collapsed": true
   },
   "outputs": [],
   "source": []
  },
  {
   "cell_type": "code",
   "execution_count": null,
   "metadata": {
    "collapsed": true
   },
   "outputs": [],
   "source": []
  },
  {
   "cell_type": "code",
   "execution_count": null,
   "metadata": {
    "collapsed": true
   },
   "outputs": [],
   "source": []
  }
 ],
 "metadata": {
  "kernelspec": {
   "display_name": "Python 3",
   "language": "python",
   "name": "python3"
  },
  "language_info": {
   "codemirror_mode": {
    "name": "ipython",
    "version": 3
   },
   "file_extension": ".py",
   "mimetype": "text/x-python",
   "name": "python",
   "nbconvert_exporter": "python",
   "pygments_lexer": "ipython3",
   "version": "3.6.3"
  }
 },
 "nbformat": 4,
 "nbformat_minor": 2
}
