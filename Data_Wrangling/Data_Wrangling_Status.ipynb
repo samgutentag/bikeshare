{
 "cells": [
  {
   "cell_type": "markdown",
   "metadata": {},
   "source": [
    "# Data Investigation - Status"
   ]
  },
  {
   "cell_type": "code",
   "execution_count": 1,
   "metadata": {
    "collapsed": true
   },
   "outputs": [],
   "source": [
    "%matplotlib inline\n",
    "\n",
    "import matplotlib\n",
    "import numpy as np\n",
    "from scipy import stats\n",
    "import math\n",
    "import matplotlib.pyplot as plt\n",
    "import pandas as pd\n",
    "from glob import glob\n",
    "import datetime\n",
    "import math\n",
    "\n",
    "import seaborn as sns\n",
    "sns.set()"
   ]
  },
  {
   "cell_type": "markdown",
   "metadata": {},
   "source": [
    "### Import Data"
   ]
  },
  {
   "cell_type": "code",
   "execution_count": null,
   "metadata": {},
   "outputs": [],
   "source": [
    "print('Loading Status Data...')\n",
    "\n",
    "status_01 = pd.DataFrame()\n",
    "status_02 = pd.DataFrame()\n",
    "status_03 = pd.DataFrame()\n",
    "status_04 = pd.DataFrame()\n",
    "\n",
    "try:\n",
    "    file_path_slug = '../../../datasets/bayareabikeshare/*_status_data.csv'\n",
    "\n",
    "    # glob all files\n",
    "    file_list = glob(file_path_slug)\n",
    "\n",
    "    status_import = pd.DataFrame()\n",
    "\n",
    "    counter = 1\n",
    "\n",
    "    # load data from each file\n",
    "    for file in file_list:\n",
    "\n",
    "        chunks = []\n",
    "        chunk_counter = 1\n",
    "        chunksize = 10000\n",
    "        num_chunks = math.ceil(sum(1 for row in open(file, 'r'))/chunksize)\n",
    "\n",
    "        # import file in chunks\n",
    "        for chunk in pd.read_csv(file, chunksize=chunksize, iterator=True):\n",
    "\n",
    "            # append chunk to chunks list\n",
    "            chunks.append(chunk)\n",
    "\n",
    "            if chunk_counter == 1 or chunk_counter % math.ceil(num_chunks/10) == 0 or chunk_counter == num_chunks:\n",
    "                print('\\t[%s] finished chunk %s of %s' % (datetime.datetime.now().time(), chunk_counter, num_chunks))\n",
    "            chunk_counter += 1\n",
    "\n",
    "        if counter == 1:\n",
    "            status_01 = pd.concat(chunks)\n",
    "        elif counter == 2:\n",
    "            status_02 = pd.concat(chunks)\n",
    "        elif counter == 3:\n",
    "            status_03 = pd.concat(chunks)\n",
    "        elif counter == 4:\n",
    "            status_04 = pd.concat(chunks)\n",
    "        else:\n",
    "            pass\n",
    "\n",
    "\n",
    "        print('Finished file! (%d of %d)' % (counter, len(file_list)))\n",
    "        counter += 1\n",
    "\n",
    "    print('Data Loaded Successfully!')\n",
    "\n",
    "except:\n",
    "    print('oops... something went wrong importing the data :(')\n",
    "    \n",
    "\n",
    "    \n",
    "\n"
   ]
  },
  {
   "cell_type": "code",
   "execution_count": null,
   "metadata": {
    "collapsed": true
   },
   "outputs": [],
   "source": [
    "s1 = status_01.copy()\n",
    "s2 = status_02.copy()\n",
    "s3 = status_03.copy()\n",
    "s4 = status_04.copy()"
   ]
  },
  {
   "cell_type": "code",
   "execution_count": null,
   "metadata": {},
   "outputs": [],
   "source": [
    "print('[%s] Started status_01[\\'time\\'] Cleaning' % datetime.datetime.now().time())\n",
    "s1['time']   = pd.to_datetime(s1['time'],   format=\"%Y/%m/%d %H:%M:%S\").values.astype('<M8[m]')\n",
    "print('\\t[%s] Complete!\\n' % datetime.datetime.now().time())\n",
    "\n",
    "print('[%s] Started status_02[\\'time\\'] Cleaning' % datetime.datetime.now().time())\n",
    "s2['time']   = pd.to_datetime(s2['time'],   format=\"%Y/%m/%d %H:%M:%S\").values.astype('<M8[m]')\n",
    "print('\\t[%s] Complete!\\n' % datetime.datetime.now().time())\n",
    "\n",
    "print('[%s] Started status_03[\\'time\\'] Cleaning' % datetime.datetime.now().time())\n",
    "s3['time']   = pd.to_datetime(s3['time'],   format=\"%m/%d/%Y %H:%M:%S\").values.astype('<M8[m]')\n",
    "print('\\t[%s] Complete!\\n' % datetime.datetime.now().time())\n",
    "\n",
    "print('[%s] Started status_04[\\'time\\'] Cleaning' % datetime.datetime.now().time())\n",
    "s4['time']   = pd.to_datetime(s4['time'],   format=\"%Y/%m/%d %H:%M:%S\").values.astype('<M8[m]')\n",
    "print('\\t[%s] Complete!\\n' % datetime.datetime.now().time())"
   ]
  },
  {
   "cell_type": "code",
   "execution_count": null,
   "metadata": {
    "collapsed": true
   },
   "outputs": [],
   "source": []
  },
  {
   "cell_type": "code",
   "execution_count": null,
   "metadata": {},
   "outputs": [],
   "source": [
    "print('[%s] Starting concat' % datetime.datetime.now().time())\n",
    "status_data = pd.concat([s1, s2, s3, s4])\n",
    "print('\\t[%s]Complete!\\n' % datetime.datetime.now().time())\n",
    "\n",
    "print('[%s] Writing to File' % datetime.datetime.now().time())\n",
    "status_data.to_csv('../../../datasets/bayareabikeshare/CLEANED/status_data_cleaned.csv', encoding='utf-8')\n",
    "print('\\t[%s]Complete!\\n' % datetime.datetime.now().time())"
   ]
  },
  {
   "cell_type": "code",
   "execution_count": null,
   "metadata": {},
   "outputs": [],
   "source": [
    "status_data.head()"
   ]
  },
  {
   "cell_type": "code",
   "execution_count": null,
   "metadata": {
    "collapsed": true
   },
   "outputs": [],
   "source": [
    "status_data.set_index('time', inplace=True)"
   ]
  },
  {
   "cell_type": "code",
   "execution_count": null,
   "metadata": {},
   "outputs": [],
   "source": [
    "status_data.head()"
   ]
  },
  {
   "cell_type": "markdown",
   "metadata": {},
   "source": [
    "## Resampling"
   ]
  },
  {
   "cell_type": "markdown",
   "metadata": {},
   "source": [
    "### Daily Mean"
   ]
  },
  {
   "cell_type": "code",
   "execution_count": null,
   "metadata": {},
   "outputs": [],
   "source": [
    "print('[%s] Resampling Daily Mean' % datetime.datetime.now().time())\n",
    "status_daily_mean = status_data.groupby('station_id').resample('D').mean().fillna(0).rolling(window=3, min_periods=1).mean()\n",
    "status_daily_mean.index = status_daily_mean.index.droplevel(0)\n",
    "print('\\t[%s]Complete!\\n' % datetime.datetime.now().time())\n",
    "\n",
    "print('[%s] Writing to File' % datetime.datetime.now().time())\n",
    "status_daily_mean.to_csv('../../../datasets/bayareabikeshare/CLEANED/status_data_daily_mean_cleaned.csv', encoding='utf-8')\n",
    "print('\\t[%s]Complete!\\n' % datetime.datetime.now().time())"
   ]
  },
  {
   "cell_type": "markdown",
   "metadata": {},
   "source": [
    "### 15 Minute Mean"
   ]
  },
  {
   "cell_type": "code",
   "execution_count": null,
   "metadata": {},
   "outputs": [],
   "source": [
    "print('[%s] Resampling 15min Mean' % datetime.datetime.now().time())\n",
    "status_15min_mean = status_data.groupby('station_id').resample('15T').mean().fillna(0).rolling(window=3, min_periods=1).mean()\n",
    "status_15min_mean.index = status_15min_mean.index.droplevel(0)\n",
    "print('\\t[%s]Complete!\\n' % datetime.datetime.now().time())\n",
    "\n",
    "print('[%s] Writing to File' % datetime.datetime.now().time())\n",
    "status_15min_mean.to_csv('../../../datasets/bayareabikeshare/CLEANED/status_data_15min_mean_cleaned.csv', encoding='utf-8')\n",
    "print('\\t[%s]Complete!\\n' % datetime.datetime.now().time())"
   ]
  },
  {
   "cell_type": "markdown",
   "metadata": {},
   "source": [
    "## PreCleaned Files"
   ]
  },
  {
   "cell_type": "markdown",
   "metadata": {},
   "source": [
    "### Load Status Data"
   ]
  },
  {
   "cell_type": "code",
   "execution_count": 17,
   "metadata": {},
   "outputs": [],
   "source": [
    "status_15min_mean = pd.DataFrame\n",
    "status_15min_mean = pd.read_csv('../clean_data/status_data_15min_mean_cleaned.csv', index_col='time', parse_dates=['time'])\n",
    "\n",
    "status_15min_mean['station_id'] = status_15min_mean['station_id'].astype('int')\n"
   ]
  },
  {
   "cell_type": "code",
   "execution_count": null,
   "metadata": {
    "collapsed": true
   },
   "outputs": [],
   "source": []
  },
  {
   "cell_type": "code",
   "execution_count": null,
   "metadata": {
    "collapsed": true
   },
   "outputs": [],
   "source": []
  },
  {
   "cell_type": "markdown",
   "metadata": {},
   "source": [
    "### Load Station Data"
   ]
  },
  {
   "cell_type": "code",
   "execution_count": 20,
   "metadata": {
    "collapsed": true
   },
   "outputs": [],
   "source": [
    "station_data = pd.DataFrame()\n",
    "station_data = pd.read_csv('../clean_data/station_data_cleaned.csv')"
   ]
  },
  {
   "cell_type": "code",
   "execution_count": 21,
   "metadata": {},
   "outputs": [
    {
     "data": {
      "text/html": [
       "<div>\n",
       "<style>\n",
       "    .dataframe thead tr:only-child th {\n",
       "        text-align: right;\n",
       "    }\n",
       "\n",
       "    .dataframe thead th {\n",
       "        text-align: left;\n",
       "    }\n",
       "\n",
       "    .dataframe tbody tr th {\n",
       "        vertical-align: top;\n",
       "    }\n",
       "</style>\n",
       "<table border=\"1\" class=\"dataframe\">\n",
       "  <thead>\n",
       "    <tr style=\"text-align: right;\">\n",
       "      <th></th>\n",
       "      <th>station_id</th>\n",
       "      <th>bikes_available</th>\n",
       "      <th>docks_available</th>\n",
       "    </tr>\n",
       "    <tr>\n",
       "      <th>time</th>\n",
       "      <th></th>\n",
       "      <th></th>\n",
       "      <th></th>\n",
       "    </tr>\n",
       "  </thead>\n",
       "  <tbody>\n",
       "    <tr>\n",
       "      <th>2013-08-29 12:00:00</th>\n",
       "      <td>2</td>\n",
       "      <td>2.0</td>\n",
       "      <td>25.0</td>\n",
       "    </tr>\n",
       "    <tr>\n",
       "      <th>2013-08-29 12:15:00</th>\n",
       "      <td>2</td>\n",
       "      <td>2.0</td>\n",
       "      <td>25.0</td>\n",
       "    </tr>\n",
       "    <tr>\n",
       "      <th>2013-08-29 12:30:00</th>\n",
       "      <td>2</td>\n",
       "      <td>2.0</td>\n",
       "      <td>25.0</td>\n",
       "    </tr>\n",
       "  </tbody>\n",
       "</table>\n",
       "</div>"
      ],
      "text/plain": [
       "                     station_id  bikes_available  docks_available\n",
       "time                                                             \n",
       "2013-08-29 12:00:00           2              2.0             25.0\n",
       "2013-08-29 12:15:00           2              2.0             25.0\n",
       "2013-08-29 12:30:00           2              2.0             25.0"
      ]
     },
     "execution_count": 21,
     "metadata": {},
     "output_type": "execute_result"
    }
   ],
   "source": [
    "status_15min_mean.head(3)"
   ]
  },
  {
   "cell_type": "code",
   "execution_count": 22,
   "metadata": {},
   "outputs": [
    {
     "data": {
      "text/html": [
       "<div>\n",
       "<style>\n",
       "    .dataframe thead tr:only-child th {\n",
       "        text-align: right;\n",
       "    }\n",
       "\n",
       "    .dataframe thead th {\n",
       "        text-align: left;\n",
       "    }\n",
       "\n",
       "    .dataframe tbody tr th {\n",
       "        vertical-align: top;\n",
       "    }\n",
       "</style>\n",
       "<table border=\"1\" class=\"dataframe\">\n",
       "  <thead>\n",
       "    <tr style=\"text-align: right;\">\n",
       "      <th></th>\n",
       "      <th>station_id</th>\n",
       "      <th>name</th>\n",
       "      <th>lat</th>\n",
       "      <th>long</th>\n",
       "      <th>dockcount</th>\n",
       "      <th>landmark</th>\n",
       "      <th>installation</th>\n",
       "      <th>zip_code</th>\n",
       "      <th>lat_long</th>\n",
       "    </tr>\n",
       "  </thead>\n",
       "  <tbody>\n",
       "    <tr>\n",
       "      <th>0</th>\n",
       "      <td>2</td>\n",
       "      <td>San Jose Diridon Caltrain Station</td>\n",
       "      <td>37.329732</td>\n",
       "      <td>-121.901782</td>\n",
       "      <td>27.0</td>\n",
       "      <td>San Jose</td>\n",
       "      <td>8/6/2013</td>\n",
       "      <td>95113</td>\n",
       "      <td>(37.329732, -121.90178200000001)</td>\n",
       "    </tr>\n",
       "    <tr>\n",
       "      <th>1</th>\n",
       "      <td>3</td>\n",
       "      <td>San Jose Civic Center</td>\n",
       "      <td>37.330698</td>\n",
       "      <td>-121.888979</td>\n",
       "      <td>15.0</td>\n",
       "      <td>San Jose</td>\n",
       "      <td>8/5/2013</td>\n",
       "      <td>95113</td>\n",
       "      <td>(37.330698, -121.888979)</td>\n",
       "    </tr>\n",
       "    <tr>\n",
       "      <th>2</th>\n",
       "      <td>4</td>\n",
       "      <td>Santa Clara at Almaden</td>\n",
       "      <td>37.333988</td>\n",
       "      <td>-121.894902</td>\n",
       "      <td>11.0</td>\n",
       "      <td>San Jose</td>\n",
       "      <td>8/6/2013</td>\n",
       "      <td>95113</td>\n",
       "      <td>(37.333988, -121.894902)</td>\n",
       "    </tr>\n",
       "  </tbody>\n",
       "</table>\n",
       "</div>"
      ],
      "text/plain": [
       "   station_id                               name        lat        long  \\\n",
       "0           2  San Jose Diridon Caltrain Station  37.329732 -121.901782   \n",
       "1           3              San Jose Civic Center  37.330698 -121.888979   \n",
       "2           4             Santa Clara at Almaden  37.333988 -121.894902   \n",
       "\n",
       "   dockcount  landmark installation  zip_code  \\\n",
       "0       27.0  San Jose     8/6/2013     95113   \n",
       "1       15.0  San Jose     8/5/2013     95113   \n",
       "2       11.0  San Jose     8/6/2013     95113   \n",
       "\n",
       "                           lat_long  \n",
       "0  (37.329732, -121.90178200000001)  \n",
       "1          (37.330698, -121.888979)  \n",
       "2          (37.333988, -121.894902)  "
      ]
     },
     "execution_count": 22,
     "metadata": {},
     "output_type": "execute_result"
    }
   ],
   "source": [
    "station_data.head(3)"
   ]
  },
  {
   "cell_type": "markdown",
   "metadata": {},
   "source": [
    "### Join Data to compute utilization"
   ]
  },
  {
   "cell_type": "code",
   "execution_count": 42,
   "metadata": {
    "collapsed": true
   },
   "outputs": [],
   "source": [
    "status_loc_info = pd.merge(status_15min_mean, station_data, on='station_id')\n",
    "status_loc_info['utilization'] = status_loc_info['docks_available'] / status_loc_info['dockcount']\n",
    "status_loc_info.drop(['lat', 'long', 'installation', 'lat_long'], axis=1, inplace=True)"
   ]
  },
  {
   "cell_type": "code",
   "execution_count": 43,
   "metadata": {},
   "outputs": [
    {
     "data": {
      "text/html": [
       "<div>\n",
       "<style>\n",
       "    .dataframe thead tr:only-child th {\n",
       "        text-align: right;\n",
       "    }\n",
       "\n",
       "    .dataframe thead th {\n",
       "        text-align: left;\n",
       "    }\n",
       "\n",
       "    .dataframe tbody tr th {\n",
       "        vertical-align: top;\n",
       "    }\n",
       "</style>\n",
       "<table border=\"1\" class=\"dataframe\">\n",
       "  <thead>\n",
       "    <tr style=\"text-align: right;\">\n",
       "      <th></th>\n",
       "      <th>station_id</th>\n",
       "      <th>bikes_available</th>\n",
       "      <th>docks_available</th>\n",
       "      <th>name</th>\n",
       "      <th>dockcount</th>\n",
       "      <th>landmark</th>\n",
       "      <th>zip_code</th>\n",
       "      <th>utilization</th>\n",
       "    </tr>\n",
       "  </thead>\n",
       "  <tbody>\n",
       "    <tr>\n",
       "      <th>0</th>\n",
       "      <td>2</td>\n",
       "      <td>2.000000</td>\n",
       "      <td>25.000000</td>\n",
       "      <td>San Jose Diridon Caltrain Station</td>\n",
       "      <td>27.0</td>\n",
       "      <td>San Jose</td>\n",
       "      <td>95113</td>\n",
       "      <td>0.925926</td>\n",
       "    </tr>\n",
       "    <tr>\n",
       "      <th>1</th>\n",
       "      <td>2</td>\n",
       "      <td>2.000000</td>\n",
       "      <td>25.000000</td>\n",
       "      <td>San Jose Diridon Caltrain Station</td>\n",
       "      <td>27.0</td>\n",
       "      <td>San Jose</td>\n",
       "      <td>95113</td>\n",
       "      <td>0.925926</td>\n",
       "    </tr>\n",
       "    <tr>\n",
       "      <th>2</th>\n",
       "      <td>2</td>\n",
       "      <td>2.000000</td>\n",
       "      <td>25.000000</td>\n",
       "      <td>San Jose Diridon Caltrain Station</td>\n",
       "      <td>27.0</td>\n",
       "      <td>San Jose</td>\n",
       "      <td>95113</td>\n",
       "      <td>0.925926</td>\n",
       "    </tr>\n",
       "    <tr>\n",
       "      <th>3</th>\n",
       "      <td>2</td>\n",
       "      <td>2.000000</td>\n",
       "      <td>25.000000</td>\n",
       "      <td>San Jose Diridon Caltrain Station</td>\n",
       "      <td>27.0</td>\n",
       "      <td>San Jose</td>\n",
       "      <td>95113</td>\n",
       "      <td>0.925926</td>\n",
       "    </tr>\n",
       "    <tr>\n",
       "      <th>4</th>\n",
       "      <td>2</td>\n",
       "      <td>2.076923</td>\n",
       "      <td>24.923077</td>\n",
       "      <td>San Jose Diridon Caltrain Station</td>\n",
       "      <td>27.0</td>\n",
       "      <td>San Jose</td>\n",
       "      <td>95113</td>\n",
       "      <td>0.923077</td>\n",
       "    </tr>\n",
       "    <tr>\n",
       "      <th>5</th>\n",
       "      <td>2</td>\n",
       "      <td>2.410256</td>\n",
       "      <td>24.589744</td>\n",
       "      <td>San Jose Diridon Caltrain Station</td>\n",
       "      <td>27.0</td>\n",
       "      <td>San Jose</td>\n",
       "      <td>95113</td>\n",
       "      <td>0.910731</td>\n",
       "    </tr>\n",
       "    <tr>\n",
       "      <th>6</th>\n",
       "      <td>2</td>\n",
       "      <td>2.743590</td>\n",
       "      <td>24.256410</td>\n",
       "      <td>San Jose Diridon Caltrain Station</td>\n",
       "      <td>27.0</td>\n",
       "      <td>San Jose</td>\n",
       "      <td>95113</td>\n",
       "      <td>0.898386</td>\n",
       "    </tr>\n",
       "    <tr>\n",
       "      <th>7</th>\n",
       "      <td>2</td>\n",
       "      <td>2.846154</td>\n",
       "      <td>24.153846</td>\n",
       "      <td>San Jose Diridon Caltrain Station</td>\n",
       "      <td>27.0</td>\n",
       "      <td>San Jose</td>\n",
       "      <td>95113</td>\n",
       "      <td>0.894587</td>\n",
       "    </tr>\n",
       "    <tr>\n",
       "      <th>8</th>\n",
       "      <td>2</td>\n",
       "      <td>2.512821</td>\n",
       "      <td>24.487179</td>\n",
       "      <td>San Jose Diridon Caltrain Station</td>\n",
       "      <td>27.0</td>\n",
       "      <td>San Jose</td>\n",
       "      <td>95113</td>\n",
       "      <td>0.906933</td>\n",
       "    </tr>\n",
       "    <tr>\n",
       "      <th>9</th>\n",
       "      <td>2</td>\n",
       "      <td>2.179487</td>\n",
       "      <td>24.820513</td>\n",
       "      <td>San Jose Diridon Caltrain Station</td>\n",
       "      <td>27.0</td>\n",
       "      <td>San Jose</td>\n",
       "      <td>95113</td>\n",
       "      <td>0.919278</td>\n",
       "    </tr>\n",
       "  </tbody>\n",
       "</table>\n",
       "</div>"
      ],
      "text/plain": [
       "   station_id  bikes_available  docks_available  \\\n",
       "0           2         2.000000        25.000000   \n",
       "1           2         2.000000        25.000000   \n",
       "2           2         2.000000        25.000000   \n",
       "3           2         2.000000        25.000000   \n",
       "4           2         2.076923        24.923077   \n",
       "5           2         2.410256        24.589744   \n",
       "6           2         2.743590        24.256410   \n",
       "7           2         2.846154        24.153846   \n",
       "8           2         2.512821        24.487179   \n",
       "9           2         2.179487        24.820513   \n",
       "\n",
       "                                name  dockcount  landmark  zip_code  \\\n",
       "0  San Jose Diridon Caltrain Station       27.0  San Jose     95113   \n",
       "1  San Jose Diridon Caltrain Station       27.0  San Jose     95113   \n",
       "2  San Jose Diridon Caltrain Station       27.0  San Jose     95113   \n",
       "3  San Jose Diridon Caltrain Station       27.0  San Jose     95113   \n",
       "4  San Jose Diridon Caltrain Station       27.0  San Jose     95113   \n",
       "5  San Jose Diridon Caltrain Station       27.0  San Jose     95113   \n",
       "6  San Jose Diridon Caltrain Station       27.0  San Jose     95113   \n",
       "7  San Jose Diridon Caltrain Station       27.0  San Jose     95113   \n",
       "8  San Jose Diridon Caltrain Station       27.0  San Jose     95113   \n",
       "9  San Jose Diridon Caltrain Station       27.0  San Jose     95113   \n",
       "\n",
       "   utilization  \n",
       "0     0.925926  \n",
       "1     0.925926  \n",
       "2     0.925926  \n",
       "3     0.925926  \n",
       "4     0.923077  \n",
       "5     0.910731  \n",
       "6     0.898386  \n",
       "7     0.894587  \n",
       "8     0.906933  \n",
       "9     0.919278  "
      ]
     },
     "execution_count": 43,
     "metadata": {},
     "output_type": "execute_result"
    }
   ],
   "source": [
    "status_loc_info.head(10)"
   ]
  },
  {
   "cell_type": "code",
   "execution_count": 44,
   "metadata": {},
   "outputs": [
    {
     "name": "stdout",
     "output_type": "stream",
     "text": [
      "[22:51:29.854678] Writing to File\n",
      "\t[22:54:38.444307]Complete!\n",
      "\n"
     ]
    }
   ],
   "source": [
    "print('[%s] Writing to File' % datetime.datetime.now().time())\n",
    "status_loc_info.to_csv('../../../datasets/bayareabikeshare/CLEANED/status_data_15min_mean_location_cleaned.csv', encoding='utf-8')\n",
    "status_loc_info.to_csv('../clean_data/status_data_15min_mean_location_cleaned.csv', encoding='utf-8')\n",
    "print('\\t[%s]Complete!\\n' % datetime.datetime.now().time())"
   ]
  },
  {
   "cell_type": "code",
   "execution_count": null,
   "metadata": {
    "collapsed": true
   },
   "outputs": [],
   "source": []
  }
 ],
 "metadata": {
  "kernelspec": {
   "display_name": "Python 3",
   "language": "python",
   "name": "python3"
  },
  "language_info": {
   "codemirror_mode": {
    "name": "ipython",
    "version": 3
   },
   "file_extension": ".py",
   "mimetype": "text/x-python",
   "name": "python",
   "nbconvert_exporter": "python",
   "pygments_lexer": "ipython3",
   "version": "3.6.3"
  }
 },
 "nbformat": 4,
 "nbformat_minor": 2
}
