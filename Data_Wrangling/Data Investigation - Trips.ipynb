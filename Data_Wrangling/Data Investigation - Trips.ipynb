{
 "cells": [
  {
   "cell_type": "markdown",
   "metadata": {},
   "source": [
    "# Data Investigation - Trip Data"
   ]
  },
  {
   "cell_type": "markdown",
   "metadata": {},
   "source": [
    "### Import Data"
   ]
  },
  {
   "cell_type": "code",
   "execution_count": 19,
   "metadata": {
    "collapsed": true
   },
   "outputs": [],
   "source": [
    "%matplotlib inline\n",
    "\n",
    "import matplotlib\n",
    "import numpy as np\n",
    "from scipy import stats\n",
    "import math\n",
    "import matplotlib.pyplot as plt\n",
    "import pandas as pd\n",
    "from glob import glob\n",
    "import datetime\n",
    "\n",
    "import seaborn as sns\n",
    "sns.set()"
   ]
  },
  {
   "cell_type": "markdown",
   "metadata": {},
   "source": [
    "## Load Trip Data"
   ]
  },
  {
   "cell_type": "code",
   "execution_count": 2,
   "metadata": {},
   "outputs": [
    {
     "name": "stdout",
     "output_type": "stream",
     "text": [
      "Loading Trip Data...\n",
      "\tFinished file! (1 of 4)\n",
      "\tFinished file! (2 of 4)\n",
      "\tFinished file! (3 of 4)\n",
      "\tFinished file! (4 of 4)\n",
      "Data Loaded Successfully!\n"
     ]
    }
   ],
   "source": [
    "print('Loading Trip Data...')\n",
    "\n",
    "try:\n",
    "    file_path_slug = '../../../datasets/bayareabikeshare/*_trip_data.csv'\n",
    "\n",
    "    # glob all files\n",
    "    file_list = glob(file_path_slug)\n",
    "\n",
    "    trip_import = pd.DataFrame()\n",
    "\n",
    "    counter = 1\n",
    "    chunks = []\n",
    "\n",
    "    # load data from each file\n",
    "    for file in file_list:\n",
    "\n",
    "        # import file in chunks\n",
    "        for chunk in pd.read_csv(file, chunksize=10000, iterator=True):\n",
    "\n",
    "            # set chunk index column to 'Trip ID'\n",
    "            chunk = chunk.set_index('Trip ID')\n",
    "\n",
    "            # define Columns\n",
    "            chunk.columns = ['Duration', 'Start Date', 'Start Station', 'Start Terminal', 'End Date', \n",
    "                             'End Station', 'End Terminal', 'Bike #', 'Subscriber Type', 'Zip Code']\n",
    "\n",
    "            # append chunk to chunks list\n",
    "            chunks.append(chunk)\n",
    "\n",
    "        print('\\tFinished file! (%d of %d)' % (counter, len(file_list)))\n",
    "        counter += 1\n",
    "\n",
    "    # concat chunks\n",
    "    trip_import = pd.concat(chunks)\n",
    "\n",
    "    print('Data Loaded Successfully!')\n",
    "\n",
    "except:\n",
    "    print('oops... something went wrong importing the data :(')"
   ]
  },
  {
   "cell_type": "markdown",
   "metadata": {},
   "source": [
    "### Clean Data"
   ]
  },
  {
   "cell_type": "code",
   "execution_count": 3,
   "metadata": {},
   "outputs": [
    {
     "name": "stdout",
     "output_type": "stream",
     "text": [
      "<class 'pandas.core.frame.DataFrame'>\n",
      "Int64Index: 983648 entries, 913465 to 198776\n",
      "Data columns (total 10 columns):\n",
      "Duration           983648 non-null int64\n",
      "Start Date         983648 non-null object\n",
      "Start Station      983648 non-null object\n",
      "Start Terminal     983648 non-null int64\n",
      "End Date           983648 non-null object\n",
      "End Station        983648 non-null object\n",
      "End Terminal       983648 non-null int64\n",
      "Bike #             983648 non-null int64\n",
      "Subscriber Type    983648 non-null object\n",
      "Zip Code           976838 non-null object\n",
      "dtypes: int64(4), object(6)\n",
      "memory usage: 82.6+ MB\n"
     ]
    }
   ],
   "source": [
    "trip_data = trip_import.copy()\n",
    "trip_data.info()"
   ]
  },
  {
   "cell_type": "code",
   "execution_count": 4,
   "metadata": {
    "collapsed": true
   },
   "outputs": [],
   "source": [
    "# zipcodes are all over the place, only keep corrected 5 digit zipcodes, and replace all others with NaNs\n",
    "def clean_zipcode(item):\n",
    "    if len(item) != 5:\n",
    "\n",
    "        # split on '-'\n",
    "        try:\n",
    "            result = item.split('-')[0]\n",
    "        except:\n",
    "            result = item\n",
    "\n",
    "        # split on '.'\n",
    "        try:\n",
    "            result = item.split('.')[0]\n",
    "        except:\n",
    "            result = item\n",
    "        \n",
    "        # if len of item is less than 5, return 'NaN'\n",
    "        if len(result) < 5:\n",
    "            result = 'NaN'\n",
    "        else:\n",
    "            # if len result is greater than 5, take at most, first 5 digits\n",
    "            result = result[:5]\n",
    "    else:\n",
    "        result = item\n",
    "    \n",
    "    # make sure result is all digits\n",
    "    if result.isdigit():\n",
    "        return result\n",
    "    else:\n",
    "        return 'NaN'"
   ]
  },
  {
   "cell_type": "code",
   "execution_count": 7,
   "metadata": {},
   "outputs": [
    {
     "name": "stdout",
     "output_type": "stream",
     "text": [
      "Trip Data Cleanup Started...\n",
      "\tcleaning column names\n",
      "\tsubsetting to useful columns\n",
      "\tcreating a duration_minutes column\n",
      "\tconverting end and start dates to datetime objects\n",
      "\tcreating trip_date and trip_dow columns\n",
      "\tcreating start_hour and end_hour columns\n",
      "\tcleaning zipcodes\n",
      "cleaning up data types\n",
      "Trip Data Cleanup complete\n"
     ]
    }
   ],
   "source": [
    "print('Trip Data Cleanup Started...')\n",
    "\n",
    "# cleanup column names\n",
    "print('\\tcleaning column names')\n",
    "new_cols = []\n",
    "for col in trip_data.columns:\n",
    "    new_cols.append(col.replace(' ', '_').lower())\n",
    "trip_data.columns = new_cols\n",
    "\n",
    "# extract columns we want to keep\n",
    "print('\\tsubsetting to useful columns')\n",
    "important_cols = ['duration', 'start_date', 'start_terminal', 'end_date', 'end_terminal', 'bike_#', 'subscriber_type', 'zip_code']\n",
    "trip_data = trip_data[important_cols]\n",
    "\n",
    "# we are only looking at stations in San Francisco\n",
    "# sf_trips_data = trip_data[trip_data['start_terminal'].isin(sf_stations)]\n",
    "# sf_trips_data = sf_trips_data[sf_trips_data['end_terminal'].isin(sf_stations)]\n",
    "\n",
    "# trip_data = sf_trips_data.copy()\n",
    "\n",
    "# create duration minutes column\n",
    "print('\\tcreating a duration_minutes column')\n",
    "trip_data['duration_minutes'] = trip_data['duration'] / 60.0\n",
    "\n",
    "# convert end and start dates to datetime objects\n",
    "print('\\tconverting end and start dates to datetime objects')\n",
    "trip_data['start_date'] = pd.to_datetime(trip_data['start_date'], format=\"%m/%d/%Y %H:%M\")\n",
    "trip_data['end_date']   = pd.to_datetime(trip_data['end_date'],   format=\"%m/%d/%Y %H:%M\")\n",
    "\n",
    "# create a start and end hour trip column\n",
    "print('\\tcreating trip_date and trip_dow columns')\n",
    "trip_data['trip_date']  = trip_data['start_date'].dt.date\n",
    "# trip_data['trip_dow']  = trip_data['start_date'].dt.weekday\n",
    "# trip_data['trip_day']  = trip_data['start_date'].dt.weekday_name\n",
    "\n",
    "print('\\tcreating start_hour and end_hour columns')\n",
    "trip_data['start_hour'] = trip_data['start_date'].dt.hour\n",
    "trip_data['end_hour']   = trip_data['end_date'].dt.hour\n",
    "\n",
    "# convert and clean zipcodes\n",
    "print('\\tcleaning zipcodes')\n",
    "trip_data['zip_code'] = trip_data['zip_code'].astype(str)\n",
    "trip_data.zip_code = trip_data.zip_code.apply(clean_zipcode)\n",
    "trip_data['zip_code'] = pd.to_numeric(trip_data['zip_code'], errors='coerce')\n",
    "\n",
    "# clean up data types\n",
    "print('cleaning up data types')\n",
    "\n",
    "trip_data['duration']         = trip_data['duration'].astype('float')\n",
    "# trip_data['start_date']       = trip_data['start_date'].astype('')\n",
    "trip_data['start_terminal']   = trip_data['start_terminal'].astype('category')\n",
    "# trip_data['end_date']         = trip_data['end_date'].astype('')\n",
    "trip_data['end_terminal']     = trip_data['end_terminal'].astype('category')\n",
    "trip_data['bike_#']           = trip_data['bike_#'].astype('int')\n",
    "trip_data['subscriber_type']  = trip_data['subscriber_type'].astype('category')\n",
    "trip_data['zip_code']         = trip_data['zip_code'].astype('str')\n",
    "trip_data['duration_minutes'] = trip_data['duration_minutes'].astype('float')\n",
    "# trip_data['trip_date']        = trip_data['trip_date'].astype('')\n",
    "# trip_data['trip_dow']         = trip_data['trip_dow'].astype('category')\n",
    "# trip_data['trip_day']         = trip_data['trip_day'].astype('category')\n",
    "# trip_data['start_hour']       = trip_data['start_hour'].astype('')\n",
    "# trip_data['end_hour']         = trip_data['end_hour'].astype('')\n",
    "\n",
    "\n",
    "print('Trip Data Cleanup complete')\n",
    "trip_clean = trip_data.copy()"
   ]
  },
  {
   "cell_type": "code",
   "execution_count": 8,
   "metadata": {},
   "outputs": [
    {
     "name": "stdout",
     "output_type": "stream",
     "text": [
      "<class 'pandas.core.frame.DataFrame'>\n",
      "Int64Index: 983648 entries, 913465 to 198776\n",
      "Data columns (total 12 columns):\n",
      "duration            983648 non-null float64\n",
      "start_date          983648 non-null datetime64[ns]\n",
      "start_terminal      983648 non-null category\n",
      "end_date            983648 non-null datetime64[ns]\n",
      "end_terminal        983648 non-null category\n",
      "bike_#              983648 non-null int64\n",
      "subscriber_type     983648 non-null category\n",
      "zip_code            983648 non-null object\n",
      "duration_minutes    983648 non-null float64\n",
      "trip_date           983648 non-null object\n",
      "start_hour          983648 non-null int64\n",
      "end_hour            983648 non-null int64\n",
      "dtypes: category(3), datetime64[ns](2), float64(2), int64(3), object(2)\n",
      "memory usage: 77.9+ MB\n"
     ]
    }
   ],
   "source": [
    "trip_clean.info()"
   ]
  },
  {
   "cell_type": "markdown",
   "metadata": {},
   "source": [
    "### Prune Data - Trip Duration"
   ]
  },
  {
   "cell_type": "code",
   "execution_count": 9,
   "metadata": {},
   "outputs": [
    {
     "name": "stdout",
     "output_type": "stream",
     "text": [
      "pruning data to trips no more than 60 minutes long...\n",
      "\tpruned data set 'trips' consists of 955557 entries\n"
     ]
    },
    {
     "data": {
      "image/png": "[encoded data removed]",
      "text/plain": [
       "<matplotlib.figure.Figure at 0x10fa40ba8>"
      ]
     },
     "metadata": {},
     "output_type": "display_data"
    }
   ],
   "source": [
    "# prune data to exclude trips longer than 60 minutes\n",
    "print('pruning data to trips no more than 60 minutes long...')\n",
    "trips = trip_clean[trip_clean['duration_minutes'] <= 60].copy()\n",
    "\n",
    "# Cleanup\n",
    "trips.sort_index(inplace=True)\n",
    "print('\\tpruned data set \\'trips\\' consists of %i entries' % len(trips.index))\n",
    "\n",
    "plt.subplots(figsize=(12,6))\n",
    "ax = sns.distplot(trips[trips.subscriber_type == 'Subscriber'].start_date.dt.hour, color='b', label='Subscribers')\n",
    "sns.distplot(trips[trips.subscriber_type == 'Customer'].start_date.dt.hour, color='r', label='Customers', ax=ax)\n",
    "ax.set(xlabel='start hour')\n",
    "plt.legend()\n",
    "plt.show()"
   ]
  },
  {
   "cell_type": "code",
   "execution_count": 10,
   "metadata": {},
   "outputs": [
    {
     "name": "stdout",
     "output_type": "stream",
     "text": [
      "trips_subscribers contains 844570 rows\n",
      "trips_customers contains 110987 rows\n"
     ]
    }
   ],
   "source": [
    "trips_subscribers = trips[trips['subscriber_type'] == 'Subscriber']\n",
    "print('trips_subscribers contains %s rows' % len(trips_subscribers.index))\n",
    "trips_customers   = trips[trips['subscriber_type'] == 'Customer']\n",
    "print('trips_customers contains %s rows' % len(trips_customers.index))"
   ]
  },
  {
   "cell_type": "code",
   "execution_count": 11,
   "metadata": {},
   "outputs": [
    {
     "name": "stdout",
     "output_type": "stream",
     "text": [
      "trips_customers.duration_minutes.mean():\t 18.5433866128\n",
      "trips_customers.duration_minutes.median():\t 15.45\n",
      "trips_customers.duration_minutes.sum():\t\t 2058074.85\n",
      "\n",
      "trips_subscribers.duration_minutes.mean():\t 8.79435941761\n",
      "trips_subscribers.duration_minutes.median():\t 8.0\n",
      "trips_subscribers.duration_minutes.sum():\t 7427452.13333\n"
     ]
    }
   ],
   "source": [
    "print('trips_customers.duration_minutes.mean():\\t', trips_customers.duration_minutes.mean())\n",
    "print('trips_customers.duration_minutes.median():\\t', trips_customers.duration_minutes.median())\n",
    "print('trips_customers.duration_minutes.sum():\\t\\t', trips_customers.duration_minutes.sum())\n",
    "\n",
    "print()\n",
    "print('trips_subscribers.duration_minutes.mean():\\t', trips_subscribers.duration_minutes.mean())\n",
    "print('trips_subscribers.duration_minutes.median():\\t', trips_subscribers.duration_minutes.median())\n",
    "print('trips_subscribers.duration_minutes.sum():\\t', trips_subscribers.duration_minutes.sum())"
   ]
  },
  {
   "cell_type": "markdown",
   "metadata": {},
   "source": [
    "### Popular stations for Subscribers"
   ]
  },
  {
   "cell_type": "code",
   "execution_count": 12,
   "metadata": {},
   "outputs": [
    {
     "data": {
      "text/html": [
       "<div>\n",
       "<style>\n",
       "    .dataframe thead tr:only-child th {\n",
       "        text-align: right;\n",
       "    }\n",
       "\n",
       "    .dataframe thead th {\n",
       "        text-align: left;\n",
       "    }\n",
       "\n",
       "    .dataframe tbody tr th {\n",
       "        vertical-align: top;\n",
       "    }\n",
       "</style>\n",
       "<table border=\"1\" class=\"dataframe\">\n",
       "  <thead>\n",
       "    <tr style=\"text-align: right;\">\n",
       "      <th></th>\n",
       "      <th>duration</th>\n",
       "      <th>start_date</th>\n",
       "      <th>start_terminal</th>\n",
       "      <th>end_date</th>\n",
       "      <th>end_terminal</th>\n",
       "      <th>bike_#</th>\n",
       "      <th>subscriber_type</th>\n",
       "      <th>zip_code</th>\n",
       "      <th>duration_minutes</th>\n",
       "      <th>trip_date</th>\n",
       "      <th>start_hour</th>\n",
       "      <th>end_hour</th>\n",
       "    </tr>\n",
       "    <tr>\n",
       "      <th>Trip ID</th>\n",
       "      <th></th>\n",
       "      <th></th>\n",
       "      <th></th>\n",
       "      <th></th>\n",
       "      <th></th>\n",
       "      <th></th>\n",
       "      <th></th>\n",
       "      <th></th>\n",
       "      <th></th>\n",
       "      <th></th>\n",
       "      <th></th>\n",
       "      <th></th>\n",
       "    </tr>\n",
       "  </thead>\n",
       "  <tbody>\n",
       "    <tr>\n",
       "      <th>4069</th>\n",
       "      <td>174.0</td>\n",
       "      <td>2013-08-29 09:08:00</td>\n",
       "      <td>64</td>\n",
       "      <td>2013-08-29 09:11:00</td>\n",
       "      <td>64</td>\n",
       "      <td>288</td>\n",
       "      <td>Subscriber</td>\n",
       "      <td>94114.0</td>\n",
       "      <td>2.900000</td>\n",
       "      <td>2013-08-29</td>\n",
       "      <td>9</td>\n",
       "      <td>9</td>\n",
       "    </tr>\n",
       "    <tr>\n",
       "      <th>4073</th>\n",
       "      <td>1067.0</td>\n",
       "      <td>2013-08-29 09:24:00</td>\n",
       "      <td>66</td>\n",
       "      <td>2013-08-29 09:42:00</td>\n",
       "      <td>69</td>\n",
       "      <td>321</td>\n",
       "      <td>Subscriber</td>\n",
       "      <td>94703.0</td>\n",
       "      <td>17.783333</td>\n",
       "      <td>2013-08-29</td>\n",
       "      <td>9</td>\n",
       "      <td>9</td>\n",
       "    </tr>\n",
       "    <tr>\n",
       "      <th>4074</th>\n",
       "      <td>1131.0</td>\n",
       "      <td>2013-08-29 09:24:00</td>\n",
       "      <td>66</td>\n",
       "      <td>2013-08-29 09:43:00</td>\n",
       "      <td>69</td>\n",
       "      <td>317</td>\n",
       "      <td>Subscriber</td>\n",
       "      <td>94115.0</td>\n",
       "      <td>18.850000</td>\n",
       "      <td>2013-08-29</td>\n",
       "      <td>9</td>\n",
       "      <td>9</td>\n",
       "    </tr>\n",
       "    <tr>\n",
       "      <th>4075</th>\n",
       "      <td>1117.0</td>\n",
       "      <td>2013-08-29 09:24:00</td>\n",
       "      <td>66</td>\n",
       "      <td>2013-08-29 09:43:00</td>\n",
       "      <td>69</td>\n",
       "      <td>316</td>\n",
       "      <td>Subscriber</td>\n",
       "      <td>94122.0</td>\n",
       "      <td>18.616667</td>\n",
       "      <td>2013-08-29</td>\n",
       "      <td>9</td>\n",
       "      <td>9</td>\n",
       "    </tr>\n",
       "    <tr>\n",
       "      <th>4076</th>\n",
       "      <td>1118.0</td>\n",
       "      <td>2013-08-29 09:25:00</td>\n",
       "      <td>66</td>\n",
       "      <td>2013-08-29 09:43:00</td>\n",
       "      <td>69</td>\n",
       "      <td>322</td>\n",
       "      <td>Subscriber</td>\n",
       "      <td>94597.0</td>\n",
       "      <td>18.633333</td>\n",
       "      <td>2013-08-29</td>\n",
       "      <td>9</td>\n",
       "      <td>9</td>\n",
       "    </tr>\n",
       "  </tbody>\n",
       "</table>\n",
       "</div>"
      ],
      "text/plain": [
       "         duration          start_date start_terminal            end_date  \\\n",
       "Trip ID                                                                    \n",
       "4069        174.0 2013-08-29 09:08:00             64 2013-08-29 09:11:00   \n",
       "4073       1067.0 2013-08-29 09:24:00             66 2013-08-29 09:42:00   \n",
       "4074       1131.0 2013-08-29 09:24:00             66 2013-08-29 09:43:00   \n",
       "4075       1117.0 2013-08-29 09:24:00             66 2013-08-29 09:43:00   \n",
       "4076       1118.0 2013-08-29 09:25:00             66 2013-08-29 09:43:00   \n",
       "\n",
       "        end_terminal  bike_# subscriber_type zip_code  duration_minutes  \\\n",
       "Trip ID                                                                   \n",
       "4069              64     288      Subscriber  94114.0          2.900000   \n",
       "4073              69     321      Subscriber  94703.0         17.783333   \n",
       "4074              69     317      Subscriber  94115.0         18.850000   \n",
       "4075              69     316      Subscriber  94122.0         18.616667   \n",
       "4076              69     322      Subscriber  94597.0         18.633333   \n",
       "\n",
       "          trip_date  start_hour  end_hour  \n",
       "Trip ID                                    \n",
       "4069     2013-08-29           9         9  \n",
       "4073     2013-08-29           9         9  \n",
       "4074     2013-08-29           9         9  \n",
       "4075     2013-08-29           9         9  \n",
       "4076     2013-08-29           9         9  "
      ]
     },
     "execution_count": 12,
     "metadata": {},
     "output_type": "execute_result"
    }
   ],
   "source": [
    "trips_subscribers.head()"
   ]
  },
  {
   "cell_type": "code",
   "execution_count": 17,
   "metadata": {},
   "outputs": [
    {
     "data": {
      "image/png": "[encoded data removed]",
      "text/plain": [
       "<matplotlib.figure.Figure at 0x1a21f5b588>"
      ]
     },
     "metadata": {},
     "output_type": "display_data"
    }
   ],
   "source": [
    "trips_subscribers.groupby('start_terminal')['bike_#'].sum().plot(kind='bar', figsize=(15,6))\n",
    "plt.show()"
   ]
  },
  {
   "cell_type": "code",
   "execution_count": 23,
   "metadata": {},
   "outputs": [
    {
     "name": "stdout",
     "output_type": "stream",
     "text": [
      "Int64Index([   4069,    4073,    4074,    4075,    4076,    4079,    4080,\n",
      "               4081,    4086,    4100,\n",
      "            ...\n",
      "            1337581, 1337583, 1337584, 1337585, 1337587, 1337588, 1337589,\n",
      "            1337592, 1337594, 1337595],\n",
      "           dtype='int64', name='Trip ID', length=340345)\n",
      "Int64Index([   4692,    4701,    4702,    4703,    4704,    4705,    4706,\n",
      "               4710,    4711,    4714,\n",
      "            ...\n",
      "            1338347, 1338348, 1338350, 1338352, 1338354, 1338355, 1338357,\n",
      "            1338358, 1338360, 1338362],\n",
      "           dtype='int64', name='Trip ID', length=318936)\n"
     ]
    }
   ],
   "source": [
    "sub_morning_commute = trips_subscribers[trips_subscribers.start_hour >= 7].copy()\n",
    "sub_morning_commute = sub_morning_commute[sub_morning_commute.end_hour <= 11]\n",
    "\n",
    "sub_evening_commute = trips_subscribers[trips_subscribers.start_hour >= 16].copy()\n",
    "sub_evening_commute = sub_evening_commute[sub_evening_commute.end_hour <= 20]\n",
    "\n",
    "\n"
   ]
  },
  {
   "cell_type": "code",
   "execution_count": 39,
   "metadata": {},
   "outputs": [
    {
     "data": {
      "image/png": "[encoded data removed]",
      "text/plain": [
       "<matplotlib.figure.Figure at 0x1a4dc4f240>"
      ]
     },
     "metadata": {},
     "output_type": "display_data"
    }
   ],
   "source": [
    "\n",
    "plt.subplot(2, 2, 1)\n",
    "top_am_commute_start_terms = sub_morning_commute.groupby('start_terminal')['bike_#'].sum().sort_values().tail(10)\n",
    "top_am_commute_start_terms.plot(kind='bar',figsize=(12,6))\n",
    "plt.title('top_am_commute_start_terms')\n",
    "\n",
    "plt.subplot(2, 2, 2)\n",
    "top_am_commute_end_terms = sub_morning_commute.groupby('end_terminal')['bike_#'].sum().sort_values().tail(10)\n",
    "top_am_commute_end_terms.plot(kind='bar')\n",
    "plt.title('top_am_commute_end_terms')\n",
    "\n",
    "\n",
    "plt.subplot(2, 2, 3)\n",
    "top_pm_commute_start_terms = sub_evening_commute.groupby('start_terminal')['bike_#'].sum().sort_values().tail(10)\n",
    "top_pm_commute_start_terms.plot(kind='bar')\n",
    "plt.title('top_pm_commute_start_terms')\n",
    "\n",
    "plt.subplot(2, 2, 4)\n",
    "top_pm_commute_end_terms = sub_evening_commute.groupby('end_terminal')['bike_#'].sum().sort_values().tail(10)\n",
    "top_pm_commute_end_terms.plot(kind='bar')\n",
    "plt.title('top_pm_commute_end_terms')\n",
    "\n",
    "plt.tight_layout()\n",
    "plt.show()"
   ]
  },
  {
   "cell_type": "code",
   "execution_count": 47,
   "metadata": {},
   "outputs": [
    {
     "ename": "SyntaxError",
     "evalue": "invalid syntax (<ipython-input-47-888981428197>, line 2)",
     "output_type": "error",
     "traceback": [
      "\u001b[0;36m  File \u001b[0;32m\"<ipython-input-47-888981428197>\"\u001b[0;36m, line \u001b[0;32m2\u001b[0m\n\u001b[0;31m    print('top_am_commute_end_terms = %s' % top_am_commute_end_terms.index\u001b[0m\n\u001b[0m        ^\u001b[0m\n\u001b[0;31mSyntaxError\u001b[0m\u001b[0;31m:\u001b[0m invalid syntax\n"
     ]
    }
   ],
   "source": [
    "print('top_am_commute_start_terms = %s' .index\n",
    "print('top_am_commute_end_terms = %s' .index\n",
    "print('top_pm_commute_start_terms = %s' .index\n",
    "print('top_pm_commute_end_terms = %s' .index"
   ]
  },
  {
   "cell_type": "code",
   "execution_count": 42,
   "metadata": {
    "collapsed": true
   },
   "outputs": [],
   "source": [
    "\n",
    "\n",
    "\n"
   ]
  },
  {
   "cell_type": "code",
   "execution_count": 43,
   "metadata": {},
   "outputs": [
    {
     "data": {
      "text/plain": [
       "[50, 54, 55, 61, 67, 69, 70, 73, 74, 77]"
      ]
     },
     "execution_count": 43,
     "metadata": {},
     "output_type": "execute_result"
    }
   ],
   "source": []
  },
  {
   "cell_type": "code",
   "execution_count": null,
   "metadata": {
    "collapsed": true
   },
   "outputs": [],
   "source": []
  }
 ],
 "metadata": {
  "kernelspec": {
   "display_name": "Python 3",
   "language": "python",
   "name": "python3"
  },
  "language_info": {
   "codemirror_mode": {
    "name": "ipython",
    "version": 3
   },
   "file_extension": ".py",
   "mimetype": "text/x-python",
   "name": "python",
   "nbconvert_exporter": "python",
   "pygments_lexer": "ipython3",
   "version": "3.6.3"
  }
 },
 "nbformat": 4,
 "nbformat_minor": 2
}
