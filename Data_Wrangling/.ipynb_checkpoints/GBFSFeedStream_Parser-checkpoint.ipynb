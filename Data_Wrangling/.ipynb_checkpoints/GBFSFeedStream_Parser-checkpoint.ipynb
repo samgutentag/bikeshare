{
 "cells": [
  {
   "cell_type": "markdown",
   "metadata": {},
   "source": [
    "# Load Station Status Stream Files"
   ]
  },
  {
   "cell_type": "code",
   "execution_count": 1,
   "metadata": {
    "collapsed": true
   },
   "outputs": [],
   "source": [
    "%matplotlib inline\n",
    "\n",
    "import matplotlib\n",
    "import numpy as np\n",
    "from scipy import stats\n",
    "import matplotlib.pyplot as plt\n",
    "import pandas as pd\n",
    "from glob import glob\n",
    "import datetime\n",
    "import math\n",
    "\n",
    "import seaborn as sns\n",
    "sns.set()"
   ]
  },
  {
   "cell_type": "code",
   "execution_count": 2,
   "metadata": {},
   "outputs": [
    {
     "data": {
      "text/html": [
       "<style>.container { width:95% !important; }</style>"
      ],
      "text/plain": [
       "<IPython.core.display.HTML object>"
      ]
     },
     "metadata": {},
     "output_type": "display_data"
    }
   ],
   "source": [
    "from IPython.core.display import display, HTML\n",
    "display(HTML(\"<style>.container { width:95% !important; }</style>\"))"
   ]
  },
  {
   "cell_type": "code",
   "execution_count": 3,
   "metadata": {
    "collapsed": true
   },
   "outputs": [],
   "source": [
    "font = {'size'   : 50}\n",
    "matplotlib.rc('font', **font)\n",
    "\n",
    "LABEL_FONT_SIZE = 15\n",
    "TITLE_FONT_SIZE = 25"
   ]
  },
  {
   "cell_type": "markdown",
   "metadata": {},
   "source": [
    "## Import Data"
   ]
  },
  {
   "cell_type": "code",
   "execution_count": 4,
   "metadata": {
    "collapsed": true
   },
   "outputs": [],
   "source": [
    "def load_status_data():\n",
    "\n",
    "    print('Loading Status Data...')\n",
    "    file_path_slug = '../streamed_data/*/*station_status*.csv'\n",
    "\n",
    "    # glob all files\n",
    "    file_list = glob(file_path_slug)\n",
    "\n",
    "    status_import = pd.DataFrame()\n",
    "    chunks = []\n",
    "    counter = 0\n",
    "    \n",
    "    print('Started Import (%s files to load)...' % len(file_list))\n",
    "\n",
    "    # load data from each file\n",
    "    for file in file_list:\n",
    "        try:\n",
    "\n",
    "            # import file in chunks\n",
    "            chunk = pd.read_csv(file)\n",
    "\n",
    "            # add program id to chunk\n",
    "            chunk['program_id'] = str(file).split('/')[2]\n",
    "\n",
    "            # append chunk to chunks list\n",
    "            chunks.append(chunk)\n",
    "            \n",
    "            counter += 1\n",
    "            if counter == 1 or counter % math.ceil(len(file_list)/10) == 0 or counter == len(file_list):\n",
    "                print('\\tFinished file! (%d of %d)' % (counter, len(file_list)))        \n",
    "        except:\n",
    "            print(file)\n",
    "\n",
    "    status_import = pd.concat(chunks)\n",
    "    print('Data Loaded Successfully!\\n')\n",
    "    return status_import\n",
    "    \n",
    "def clean_data(df):\n",
    "    program_list = sorted(pd.unique(df.program_id))\n",
    "    print('Started cleaning (%s programs to clean)...' % len(program_list))\n",
    "    df.rename(columns={'last_reported' : 'time',\n",
    "                                     'eightd_has_available_keys' : 'has_available_keys',\n",
    "                                     'is_installed' : 'is_installed',\n",
    "                                     'is_renting' : 'is_renting',\n",
    "                                     'is_returning' : 'is_returning',\n",
    "                                     'num_bikes_available' : 'bikes_available',\n",
    "                                     'num_bikes_disabled' : 'bikes_disabled',\n",
    "                                     'num_docks_available' : 'docks_available',\n",
    "                                     'num_docks_disabled' : 'docks_disabled',\n",
    "                                     'station_id' : 'station_id'}, inplace=True)\n",
    "\n",
    "    drop_cols = ['eightd_active_station_services', 'has_available_keys', 'is_installed', 'is_renting', 'is_returning', 'bikes_disabled', 'docks_disabled', 'renting', 'returning', 'installed']\n",
    "\n",
    "    for c in drop_cols:\n",
    "        try:\n",
    "            df.drop(c, axis=1, inplace=True)\n",
    "        except:\n",
    "            pass\n",
    "\n",
    "    # convert time to datetime, and prune entries pre 2000, some epoch dates are being reported\n",
    "    df['time'] = pd.to_datetime(status_import['time'], format=\"%Y-%m-%d %H:%M:%S\")\n",
    "    change_date = pd.Timestamp('2000-01-01 00:00')\n",
    "    df = df[df.time >= change_date]\n",
    "\n",
    "    df.sort_values(['program_id', 'station_id', 'time'], inplace=True)\n",
    "    \n",
    "    A = len(df)\n",
    "    df.drop_duplicates(subset=['time', 'program_id', 'station_id'], inplace=True)\n",
    "    B = len(df)\n",
    "    print('\\t\\tDropped %s duplicates!' % (A-B))\n",
    "    \n",
    "    # by program and station ,append dock change and bike change\n",
    "    cleaned_df = pd.DataFrame()\n",
    "    cleaned_list = []\n",
    "    counter = 1\n",
    "    for pid in program_list:\n",
    "\n",
    "        df_temp_program = df[df.program_id == pid].copy()\n",
    "\n",
    "        # for each dock\n",
    "        print('%s\\t%s - %s Stations to Clean...' % (str(counter).rjust(3), pid.ljust(25), str(len(pd.unique(df_temp_program.station_id))).rjust(4)))\n",
    "        for sid in pd.unique(df_temp_program.station_id):\n",
    "            df_temp_station = df_temp_program[df_temp_program.station_id == sid].copy()\n",
    "            \n",
    "            # drop duplicates\n",
    "            A = len(df_temp_station)\n",
    "            df_temp_station.drop_duplicates(subset='time', inplace=True)\n",
    "            B = len(df_temp_station)\n",
    "            if A != B:\n",
    "                print('\\t%s\\tDropped %s duplicates!' % (sid, (A-B)))\n",
    "            \n",
    "            df_temp_station.sort_values(['time'], inplace=True)\n",
    "            \n",
    "            df_temp_station['trips_ending'] = df_temp_station['bikes_available'].diff().apply(lambda x: x if x > 0 else 0)\n",
    "            df_temp_station['trips_starting'] = df_temp_station['docks_available'].diff().apply(lambda x: x if x > 0 else 0)\n",
    "            df_temp_station['net_traffic'] = df_temp_station['trips_starting'] - df_temp_station['trips_ending']\n",
    "\n",
    "            cleaned_list.append(df_temp_station)\n",
    "            \n",
    "        counter += 1\n",
    "\n",
    "    print('Merging DataFrame...')\n",
    "    cleaned_df = pd.concat(cleaned_list)\n",
    "    cleaned_df.reset_index(inplace=True, drop=True)\n",
    "\n",
    "    print('Cleaning Complete!')\n",
    "\n",
    "    return cleaned_df\n"
   ]
  },
  {
   "cell_type": "code",
   "execution_count": null,
   "metadata": {},
   "outputs": [
    {
     "name": "stdout",
     "output_type": "stream",
     "text": [
      "Loading Status Data...\n",
      "Started Import (8696 files to load)...\n",
      "\tFinished file! (1 of 8696)\n",
      "\tFinished file! (870 of 8696)\n",
      "\tFinished file! (1740 of 8696)\n",
      "\tFinished file! (2610 of 8696)\n",
      "\tFinished file! (3480 of 8696)\n",
      "\tFinished file! (4350 of 8696)\n",
      "\tFinished file! (5220 of 8696)\n",
      "\tFinished file! (6090 of 8696)\n",
      "\tFinished file! (6960 of 8696)\n",
      "\tFinished file! (7830 of 8696)\n",
      "\tFinished file! (8696 of 8696)\n"
     ]
    }
   ],
   "source": [
    "status_import = load_status_data()"
   ]
  },
  {
   "cell_type": "code",
   "execution_count": null,
   "metadata": {},
   "outputs": [],
   "source": [
    "status_import.info()"
   ]
  },
  {
   "cell_type": "code",
   "execution_count": null,
   "metadata": {
    "scrolled": true
   },
   "outputs": [],
   "source": [
    "status_data = clean_data(status_import)"
   ]
  },
  {
   "cell_type": "code",
   "execution_count": null,
   "metadata": {
    "scrolled": false
   },
   "outputs": [],
   "source": [
    "status_data.info()"
   ]
  },
  {
   "cell_type": "code",
   "execution_count": null,
   "metadata": {},
   "outputs": [],
   "source": [
    "status_data.head(20)"
   ]
  },
  {
   "cell_type": "code",
   "execution_count": null,
   "metadata": {
    "collapsed": true,
    "scrolled": false
   },
   "outputs": [],
   "source": [
    "def show_station(df, id, x_label = '', y_label = '', title_suffix='', color='b', col='bikes_available'):\n",
    "    t = df[df.station_id == id]\n",
    "    t.set_index('time', inplace=True)\n",
    "    ax = t[col].cumsum().plot(color=color, figsize=(24,3))\n",
    "    if title_suffix != '':\n",
    "        title = 'Station %s - %s' % (id, title_suffix)\n",
    "    elif y_label != '':\n",
    "        title = 'Station %s - %s' % (id, y_label)\n",
    "    else:\n",
    "        title = 'Station %s' % id\n",
    "    ax.set_title(title, size=TITLE_FONT_SIZE, weight='bold')\n",
    "    ax.set_xlabel(x_label, size=LABEL_FONT_SIZE, weight='bold')\n",
    "    ax.set_ylabel(y_label, size=LABEL_FONT_SIZE, weight='bold')\n",
    "    plt.show()"
   ]
  },
  {
   "cell_type": "code",
   "execution_count": null,
   "metadata": {
    "collapsed": true
   },
   "outputs": [],
   "source": [
    "def plot_hourly_usage(df, title='CoGo', color='r'):\n",
    "    \n",
    "    try:\n",
    "        df.sort_values('time', inplace=True)\n",
    "        x_ticks = sorted(pd.unique(df.time.dt.hour))\n",
    "        df_data = df[df.bike_change != 0]\n",
    "        df_data.reset_index(inplace=True, drop=True)\n",
    "        df_status_change = df_data.groupby([df_data.time.dt.hour])['station_id'].count()\n",
    "\n",
    "        plt.subplots(figsize=(24,3))\n",
    "        ax = sns.barplot(x = df_status_change.index , y = df_status_change, color=color, alpha = 0.25, label=title)\n",
    "        ax.set_title('Distribution of Trips by Hour', size=TITLE_FONT_SIZE, weight='bold')\n",
    "        ax.set_xlabel('Start Hour', size=LABEL_FONT_SIZE, weight='bold')\n",
    "        ax.set_ylabel('Total Trips', size=LABEL_FONT_SIZE, weight='bold')\n",
    "        ax.set_xticks(x_ticks)\n",
    "        plt.legend()\n",
    "        plt.show()\n",
    "    except:\n",
    "        print('Unable to plot %s' % title)"
   ]
  },
  {
   "cell_type": "code",
   "execution_count": null,
   "metadata": {
    "collapsed": true
   },
   "outputs": [],
   "source": [
    "def resample_status(df, interval='5T', verbose=False):\n",
    "    if verbose:\n",
    "        print('[%s] Resampling on interval' % datetime.datetime.now().time())\n",
    "    \n",
    "    resampled_list = []\n",
    "    \n",
    "    for pid in pd.unique(df.program_id):\n",
    "\n",
    "            df_temp = df[df.program_id == pid].copy()\n",
    "            \n",
    "            df_temp.set_index(['station_id', 'time'], inplace=True)\n",
    "\n",
    "            # resample on 5 minute interval mean\n",
    "            df_temp = df_temp.groupby([pd.Grouper(level=0), pd.Grouper(freq=interval, level=-1)]).mean()\n",
    "            df_temp.reset_index(inplace=True)\n",
    "            \n",
    "            df_temp['program_id'] = pid\n",
    "         \n",
    "            resampled_list.append(df_temp)\n",
    "\n",
    "    resampled_df = pd.concat(resampled_list)\n",
    "    resampled_df.reset_index(inplace=True, drop=True)\n",
    "    \n",
    "    if verbose:\n",
    "        print('[%s] Complete' % datetime.datetime.now().time())\n",
    "    return resampled_df"
   ]
  },
  {
   "cell_type": "code",
   "execution_count": null,
   "metadata": {},
   "outputs": [],
   "source": [
    "fig, ax = plt.subplots(figsize=(24,6))\n",
    "for pid in pd.unique(status_data.program_id):\n",
    "    status_data[status_data.program_id == pid].groupby([status_data.time.dt.hour]).trips_starting.sum().plot(kind='bar', color='b', alpha= 0.5, ax=ax)\n",
    "\n",
    "# ax.set_ylim(0, 1000)\n",
    "plt.show()"
   ]
  },
  {
   "cell_type": "code",
   "execution_count": null,
   "metadata": {
    "scrolled": false
   },
   "outputs": [],
   "source": [
    "d0 = status_data.groupby([status_data.time.dt.dayofweek, status_data.time.dt.hour]).trips_starting.sum()\n",
    "d1 = status_data.groupby([status_data.time.dt.dayofweek, status_data.time.dt.hour]).trips_ending.sum()\n",
    "\n",
    "ax = d0.plot(figsize=(36,6), color='b', alpha=0.5, marker='o')\n",
    "d1.plot(ax=ax, color='r', alpha=0.5, marker='s')\n",
    "\n",
    "\n",
    "y_tick_interval = 500\n",
    "y_max = math.ceil(d0.max()/y_tick_interval)*y_tick_interval\n",
    "\n",
    "if math.ceil(d1.max()/y_tick_interval)*y_tick_interval > y_max:\n",
    "    y_max = math.ceil(d1.max()/y_tick_interval)*y_tick_interval\n",
    "\n",
    "y_tick_max = int(y_max/y_tick_interval*1.1)\n",
    "\n",
    "ax.set_ylim(0, y_max)\n",
    "ax.set_yticks([y*y_tick_interval for y in range(0, y_tick_max)])\n",
    "\n",
    "plt.show()"
   ]
  },
  {
   "cell_type": "code",
   "execution_count": null,
   "metadata": {},
   "outputs": [],
   "source": [
    "fig, ax = plt.subplots(figsize=(36,6))\n",
    "y_max = 0\n",
    "for pid in pd.unique(status_data.program_id):\n",
    "    status_data[status_data.program_id == pid].groupby([status_data.time.dt.hour]).trips_starting.sum().plot(color='b', alpha= 0.5, ax=ax, marker='o')\n",
    "    status_data[status_data.program_id == pid].groupby([status_data.time.dt.hour]).trips_ending.sum().plot(color='r', alpha= 0.5, ax=ax, marker='s')\n",
    "    \n",
    "    if status_data[status_data.program_id == pid].groupby([status_data.time.dt.hour]).trips_starting.sum().max() > y_max:\n",
    "        y_max = status_data[status_data.program_id == pid].groupby([status_data.time.dt.hour]).trips_starting.sum().max()\n",
    "    \n",
    "    if status_data[status_data.program_id == pid].groupby([status_data.time.dt.hour]).trips_ending.sum().max() > y_max:\n",
    "        y_max = status_data[status_data.program_id == pid].groupby([status_data.time.dt.hour]).trips_ending.sum().max()\n",
    "\n",
    "y_tick_interval = 1000\n",
    "y_max = math.ceil(y_max/y_tick_interval)*y_tick_interval\n",
    "y_tick_max = int(y_max/y_tick_interval)+1\n",
    "x_ticks = sorted(pd.unique(df.time.dt.hour))\n",
    "ax.set_xticks(x_ticks)\n",
    "ax.set_ylim(0, y_max)\n",
    "ax.set_yticks([y*y_tick_interval for y in range(0, y_tick_max)])\n",
    "\n",
    "plt.show()"
   ]
  },
  {
   "cell_type": "code",
   "execution_count": null,
   "metadata": {
    "scrolled": true
   },
   "outputs": [],
   "source": [
    "print('Program ID\\t\\t\\tTrips Starting\\tTrips Ending\\tNet')\n",
    "for pid in pd.unique(status_data.program_id):\n",
    "    S = status_data[status_data.program_id == pid].trips_starting.sum()\n",
    "    E = status_data[status_data.program_id == pid].trips_ending.sum()\n",
    "    print('%s\\t%s\\t\\t%s\\t\\t%s' % (pid.ljust(25), str(S), str(E), S-E))"
   ]
  },
  {
   "cell_type": "code",
   "execution_count": null,
   "metadata": {
    "scrolled": true
   },
   "outputs": [],
   "source": [
    "for pid in pd.unique(status_data_resample.program_id):\n",
    "    fig, ax = plt.subplots(figsize=(48,6))\n",
    "    data = status_data_resample[status_data_resample.program_id == pid].groupby([status_data_resample.time.dt.hour])\n",
    "    data.trips_starting.sum().plot(kind ='line', color='b', alpha= 0.5, ax=ax, marker='o')\n",
    "    data.trips_ending.sum().plot(kind ='line', color='r', alpha= 0.5, ax=ax, marker='s')\n",
    "    title = 'Program - %s' % pid\n",
    "    ax.set_title(title)\n",
    "    x_ticks = range(0, 24)\n",
    "    ax.set_xticks(x_ticks)\n",
    "    plt.show()"
   ]
  },
  {
   "cell_type": "code",
   "execution_count": null,
   "metadata": {
    "scrolled": true
   },
   "outputs": [],
   "source": [
    "print('Program ID\\t\\t\\tTrips Starting\\tTrips Ending\\tNet')\n",
    "for pid in pd.unique(status_data.program_id):\n",
    "    S = status_data[status_data.program_id == pid].trips_starting.sum()\n",
    "    if S > 1000:\n",
    "        E = status_data[status_data.program_id == pid].trips_ending.sum()\n",
    "        print('%s\\t%s\\t\\t%s\\t\\t%s' % (pid.ljust(25), str(S), str(E), S-E))\n",
    "        fig, ax = plt.subplots(figsize=(48,6))\n",
    "        data = status_data_resample[status_data_resample.program_id == pid].groupby([status_data_resample.time.dt.dayofweek, status_data_resample.time.dt.hour])\n",
    "        data.trips_starting.sum().plot(kind ='line', color='b', alpha= 0.5, ax=ax, marker='o')\n",
    "        data.trips_ending.sum().plot(kind ='line', color='r', alpha= 0.5, ax=ax, marker='s')\n",
    "        title = 'Program - %s' % pid\n",
    "        ax.set_title(title)\n",
    "        plt.show()"
   ]
  },
  {
   "cell_type": "code",
   "execution_count": null,
   "metadata": {
    "scrolled": true
   },
   "outputs": [],
   "source": [
    "print('Program ID\\t\\t\\tTrips Starting\\tTrips Ending\\tNet')\n",
    "for pid in pd.unique(status_data.program_id):\n",
    "    S = status_data[status_data.program_id == pid].trips_starting.sum()\n",
    "    if S > 1000:\n",
    "        E = status_data[status_data.program_id == pid].trips_ending.sum()\n",
    "        print('%s\\t%s\\t\\t%s\\t\\t%s' % (pid.ljust(25), str(S), str(E), S-E))\n",
    "        fig, ax = plt.subplots(figsize=(48,6))\n",
    "#         data = status_data_resample[status_data_resample.program_id == pid].groupby([status_data_resample.time.dt.dayofweek, status_data_resample.time.dt.hour])\n",
    "        data = status_data_resample[status_data_resample.program_id == pid].groupby([status_data_resample.time.dt.hour])\n",
    "        data.trips_starting.sum().plot(kind ='line', color='b', alpha= 0.5, ax=ax, marker='o')\n",
    "        data.trips_ending.sum().plot(kind ='line', color='r', alpha= 0.5, ax=ax, marker='s')\n",
    "        title = 'Program - %s' % pid\n",
    "        ax.set_title(title)\n",
    "        x_ticks = range(0, 24)\n",
    "        ax.set_xticks(x_ticks)\n",
    "        plt.show()"
   ]
  },
  {
   "cell_type": "code",
   "execution_count": null,
   "metadata": {
    "collapsed": true
   },
   "outputs": [],
   "source": []
  }
 ],
 "metadata": {
  "kernelspec": {
   "display_name": "Python 3",
   "language": "python",
   "name": "python3"
  },
  "language_info": {
   "codemirror_mode": {
    "name": "ipython",
    "version": 3
   },
   "file_extension": ".py",
   "mimetype": "text/x-python",
   "name": "python",
   "nbconvert_exporter": "python",
   "pygments_lexer": "ipython3",
   "version": "3.6.3"
  }
 },
 "nbformat": 4,
 "nbformat_minor": 2
}
