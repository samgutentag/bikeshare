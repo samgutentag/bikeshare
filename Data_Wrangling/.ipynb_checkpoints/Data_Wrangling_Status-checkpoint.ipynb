{
 "cells": [
  {
   "cell_type": "markdown",
   "metadata": {},
   "source": [
    "# Data Investigation - Status"
   ]
  },
  {
   "cell_type": "code",
   "execution_count": null,
   "metadata": {
    "collapsed": true
   },
   "outputs": [],
   "source": [
    "%matplotlib inline\n",
    "\n",
    "import matplotlib\n",
    "import numpy as np\n",
    "from scipy import stats\n",
    "import matplotlib.pyplot as plt\n",
    "import pandas as pd\n",
    "from glob import glob\n",
    "import datetime\n",
    "import math\n",
    "\n",
    "import seaborn as sns\n",
    "sns.set()"
   ]
  },
  {
   "cell_type": "code",
   "execution_count": null,
   "metadata": {},
   "outputs": [],
   "source": [
    "from IPython.core.display import display, HTML\n",
    "display(HTML(\"<style>.container { width:95% !important; }</style>\"))"
   ]
  },
  {
   "cell_type": "markdown",
   "metadata": {},
   "source": [
    "## Import Data"
   ]
  },
  {
   "cell_type": "code",
   "execution_count": null,
   "metadata": {},
   "outputs": [],
   "source": [
    "print('Loading Status Data...')\n",
    "\n",
    "try:\n",
    "    file_path_slug = '../../../datasets/bayareabikeshare/*_status_data.csv'\n",
    "\n",
    "    # glob all files\n",
    "    file_list = glob(file_path_slug)\n",
    "\n",
    "    status_import = pd.DataFrame()\n",
    "\n",
    "    counter = 1\n",
    "\n",
    "    # load data from each file\n",
    "    for file in file_list:\n",
    "\n",
    "        chunks = []\n",
    "        chunk_counter = 1\n",
    "        chunksize = 10000\n",
    "        num_chunks = math.ceil(sum(1 for row in open(file, 'r'))/chunksize)\n",
    "\n",
    "        # import file in chunks\n",
    "        for chunk in pd.read_csv(file, chunksize=chunksize, iterator=True):\n",
    "\n",
    "            # append chunk to chunks list\n",
    "            chunks.append(chunk)\n",
    "\n",
    "            if chunk_counter == 1 or chunk_counter % math.ceil(num_chunks/10) == 0 or chunk_counter == num_chunks:\n",
    "                print('\\t[%s] finished chunk %s of %s' % (datetime.datetime.now().time(), chunk_counter, num_chunks))\n",
    "            chunk_counter += 1\n",
    "\n",
    "        if counter == 1:\n",
    "            status_01 = pd.DataFrame()\n",
    "            status_01 = pd.concat(chunks)\n",
    "        elif counter == 2:\n",
    "            status_02 = pd.DataFrame()\n",
    "            status_02 = pd.concat(chunks)\n",
    "        elif counter == 3:\n",
    "            status_03 = pd.DataFrame()\n",
    "            status_03 = pd.concat(chunks)\n",
    "        elif counter == 4:\n",
    "            status_04 = pd.DataFrame()\n",
    "            status_04 = pd.concat(chunks)\n",
    "        else:\n",
    "            pass\n",
    "\n",
    "\n",
    "        print('Finished file! (%d of %d)' % (counter, len(file_list)))\n",
    "        counter += 1\n",
    "\n",
    "    print('Data Loaded Successfully!')\n",
    "\n",
    "except:\n",
    "    print('oops... something went wrong importing the data :(')\n",
    "    "
   ]
  },
  {
   "cell_type": "markdown",
   "metadata": {},
   "source": [
    "## Clean Data"
   ]
  },
  {
   "cell_type": "code",
   "execution_count": null,
   "metadata": {},
   "outputs": [],
   "source": [
    "print('[%s] Started status_01[\\'time\\'] Cleaning' % datetime.datetime.now().time())\n",
    "status_01['time']   = pd.to_datetime(status_01['time'],   format=\"%Y/%m/%d %H:%M:%S\").values.astype('<M8[m]')\n",
    "print('\\t[%s] Complete!\\n' % datetime.datetime.now().time())\n",
    "\n",
    "print('[%s] Started status_02[\\'time\\'] Cleaning' % datetime.datetime.now().time())\n",
    "status_02['time']   = pd.to_datetime(status_02['time'],   format=\"%Y/%m/%d %H:%M:%S\").values.astype('<M8[m]')\n",
    "print('\\t[%s] Complete!\\n' % datetime.datetime.now().time())\n",
    "\n",
    "print('[%s] Started status_03[\\'time\\'] Cleaning' % datetime.datetime.now().time())\n",
    "status_03['time']   = pd.to_datetime(status_03['time'],   format=\"%m/%d/%Y %H:%M:%S\").values.astype('<M8[m]')\n",
    "print('\\t[%s] Complete!\\n' % datetime.datetime.now().time())\n",
    "\n",
    "print('[%s] Started status_04[\\'time\\'] Cleaning' % datetime.datetime.now().time())\n",
    "status_04['time']   = pd.to_datetime(status_04['time'],   format=\"%Y/%m/%d %H:%M:%S\").values.astype('<M8[m]')\n",
    "print('\\t[%s] Complete!\\n' % datetime.datetime.now().time())\n",
    "\n",
    "\n",
    "# Concat all frames\n",
    "print('[%s] Starting concat' % datetime.datetime.now().time())\n",
    "status_data_import = pd.DataFrame()\n",
    "status_data_import = pd.concat([status_01, status_02, status_03, status_04])\n",
    "print('\\t[%s]Complete!\\n' % datetime.datetime.now().time())\n",
    "status_data_import.head()"
   ]
  },
  {
   "cell_type": "code",
   "execution_count": null,
   "metadata": {},
   "outputs": [],
   "source": [
    "status_data = status_data_import.copy()\n",
    "status_data.reset_index(inplace=True, drop=True)\n",
    "status_data.head(3)"
   ]
  },
  {
   "cell_type": "code",
   "execution_count": null,
   "metadata": {
    "scrolled": false
   },
   "outputs": [],
   "source": [
    "def show_station(df, id, time_min, time_max, color='b'):\n",
    "    t = df[df.station_id == id]\n",
    "    t.set_index('time', inplace=True)\n",
    "    ax = t['bikes_available'].plot(color=color, figsize=(24,3))\n",
    "    ax.set_xlim(time_min, time_max)\n",
    "    title = 'Station %s' % id\n",
    "    ax.set_title(title)\n",
    "    plt.show()"
   ]
  },
  {
   "cell_type": "markdown",
   "metadata": {},
   "source": [
    "## Preview Relocated Stations pre cleaning"
   ]
  },
  {
   "cell_type": "code",
   "execution_count": null,
   "metadata": {},
   "outputs": [],
   "source": [
    "closed_stations = [21, 22, 23, 24, 25, 26]\n",
    "\n",
    "t_min = pd.Timestamp('2013-07-01')\n",
    "t_max = pd.Timestamp('2016-10-01')\n",
    "\n",
    "for station in closed_stations:\n",
    "    show_station(status_data, station, t_min, t_max)"
   ]
  },
  {
   "cell_type": "code",
   "execution_count": null,
   "metadata": {},
   "outputs": [],
   "source": [
    "relocated_stations = [88, 89, 90, 91]\n",
    "\n",
    "t_min = pd.Timestamp('2013-07-01')\n",
    "t_max = pd.Timestamp('2016-10-01')\n",
    "\n",
    "for station in relocated_stations:\n",
    "    show_station(status_data, station, t_min, t_max)"
   ]
  },
  {
   "cell_type": "markdown",
   "metadata": {},
   "source": [
    "## Correct Relocated Stations\n",
    "\n",
    "> There was a delay in station_id updates when stations 23, 24, 25, and 26 were relocated, update status information by changing the station_id for these stations in dates after they were relocated"
   ]
  },
  {
   "cell_type": "code",
   "execution_count": null,
   "metadata": {},
   "outputs": [],
   "source": [
    "def date_fixes(old_station, new_station, change_date):\n",
    "\n",
    "    print('[%s]\\tStarted indexing...' % datetime.datetime.now().time())\n",
    "    index_to_update = status_data[(status_data.station_id == old_station) & (status_data.time >= change_date)].index\n",
    "    print('\\t[%s]\\tComplete!' % datetime.datetime.now().time())    \n",
    "\n",
    "    station_check = [old_station, new_station]\n",
    "\n",
    "    t_min = pd.Timestamp('2013-07-01')\n",
    "    t_max = pd.Timestamp('2016-10-01')\n",
    "\n",
    "    for station in station_check:\n",
    "        show_station(status_data, station, t_min, t_max)\n",
    "\n",
    "    print('[%s]\\tStarted Update...' % datetime.datetime.now().time())\n",
    "    status_data.loc[index_to_update, 'station_id'] = new_station\n",
    "    print('\\t[%s]\\tComplete!' % datetime.datetime.now().time())\n",
    "\n",
    "    for station in station_check:\n",
    "        show_station(status_data, station, t_min, t_max)"
   ]
  },
  {
   "cell_type": "code",
   "execution_count": null,
   "metadata": {
    "scrolled": false
   },
   "outputs": [],
   "source": [
    "change_date = datetime.datetime.strptime('2016-07-05', '%Y-%m-%d')\n",
    "date_fixes(23, 88, change_date)\n",
    "date_fixes(24, 89, change_date)\n",
    "\n",
    "change_date = datetime.datetime.strptime('2016-08-04', '%Y-%m-%d')\n",
    "date_fixes(25, 91, change_date)\n",
    "date_fixes(26, 90, change_date)\n"
   ]
  },
  {
   "cell_type": "markdown",
   "metadata": {},
   "source": [
    "## Drop station 87, there is no station 87"
   ]
  },
  {
   "cell_type": "code",
   "execution_count": null,
   "metadata": {},
   "outputs": [],
   "source": [
    "# drop station 87 - there is no station 87\n",
    "print('[%s] - Removing Station 87 status, there is no station 87' % (datetime.datetime.now().time()))\n",
    "print('\\t\\tremoving %s items' % len(status_data[status_data.station_id == 87].index))\n",
    "status_data.drop(status_data[status_data.station_id == 87].index, inplace=True)\n",
    "print('[%s] - Complete' % (datetime.datetime.now().time()))"
   ]
  },
  {
   "cell_type": "code",
   "execution_count": null,
   "metadata": {},
   "outputs": [],
   "source": [
    "status_data.info()"
   ]
  },
  {
   "cell_type": "code",
   "execution_count": null,
   "metadata": {
    "scrolled": false
   },
   "outputs": [],
   "source": [
    "status_data.reset_index(inplace=True, drop=True)\n",
    "status_data.info()"
   ]
  },
  {
   "cell_type": "markdown",
   "metadata": {},
   "source": [
    "## Graphical EDA of Station Bike Availability"
   ]
  },
  {
   "cell_type": "code",
   "execution_count": null,
   "metadata": {
    "scrolled": false
   },
   "outputs": [],
   "source": [
    "t_min = pd.Timestamp('2013-07-01')\n",
    "t_max = pd.Timestamp('2016-10-01')\n",
    "\n",
    "for station in sorted(pd.unique(status_data.station_id)):\n",
    "    show_station(status_data, station, t_min, t_max)    "
   ]
  },
  {
   "cell_type": "markdown",
   "metadata": {},
   "source": [
    "## Station Status Summary"
   ]
  },
  {
   "cell_type": "code",
   "execution_count": null,
   "metadata": {},
   "outputs": [],
   "source": [
    "for i in pd.unique(status_data.station_id):\n",
    "    tmp = status_data[status_data.station_id == i]\n",
    "    print('Station ', i)\n",
    "    for item in tmp.columns[1:-1]:\n",
    "        print('%s - %s' % (item, sorted(pd.unique(tmp[item]))))\n",
    "    \n",
    "    print('------------------------------')"
   ]
  },
  {
   "cell_type": "markdown",
   "metadata": {},
   "source": [
    "## Downsample Cleaned Data to 5 Minute Intervals - Mean"
   ]
  },
  {
   "cell_type": "code",
   "execution_count": null,
   "metadata": {},
   "outputs": [],
   "source": [
    "print('[%s] Resampling on interval' % datetime.datetime.now().time())\n",
    "status_data_5m = status_data.copy()\n",
    "status_data_5m.set_index(['station_id', 'time'], inplace=True)\n",
    "\n",
    "# resample on 6 minute interval mean\n",
    "status_data_5m = status_data_5m.groupby([pd.Grouper(level=0), pd.Grouper(freq='5T', level=-1)]).mean()\n",
    "status_data_5m.reset_index(inplace=True)\n",
    "\n",
    "print('[%s] Complete' % datetime.datetime.now().time())"
   ]
  },
  {
   "cell_type": "markdown",
   "metadata": {},
   "source": [
    "## Downsample Cleaned Data to Hour Intervals - Mean"
   ]
  },
  {
   "cell_type": "code",
   "execution_count": null,
   "metadata": {},
   "outputs": [],
   "source": [
    "print('[%s] Resampling on interval' % datetime.datetime.now().time())\n",
    "status_data_1h = status_data.copy()\n",
    "status_data_1h.set_index(['station_id', 'time'], inplace=True)\n",
    "\n",
    "# resample on 1 hour interval mean\n",
    "status_data_1h = status_data_1h.groupby([pd.Grouper(level=0), pd.Grouper(freq='H', level=-1)]).mean()\n",
    "status_data_1h.reset_index(inplace=True)\n",
    "\n",
    "print('[%s] Complete' % datetime.datetime.now().time())"
   ]
  },
  {
   "cell_type": "markdown",
   "metadata": {},
   "source": [
    "## Downsample Cleaned Data to Day Intervals - Mean"
   ]
  },
  {
   "cell_type": "code",
   "execution_count": null,
   "metadata": {},
   "outputs": [],
   "source": [
    "print('[%s] Resampling on interval' % datetime.datetime.now().time())\n",
    "status_data_1d = status_data.copy()\n",
    "status_data_1d.set_index(['station_id', 'time'], inplace=True)\n",
    "\n",
    "# resample on 1 day interval mean\n",
    "status_data_1d = status_data_1d.groupby([pd.Grouper(level=0), pd.Grouper(freq='D', level=-1)]).mean()\n",
    "status_data_1d.reset_index(inplace=True)\n",
    "\n",
    "print('[%s] Complete' % datetime.datetime.now().time())"
   ]
  },
  {
   "cell_type": "markdown",
   "metadata": {},
   "source": [
    "## Downsample Review"
   ]
  },
  {
   "cell_type": "code",
   "execution_count": null,
   "metadata": {
    "collapsed": true
   },
   "outputs": [],
   "source": [
    "print('Original Data Set\\t', len(status_data[status_data.station_id ==2]))\n",
    "print('Resampled on 5m mean\\t', len(status_data_5m[status_data_5m.station_id ==2]))\n",
    "print('Resampled on 1h mean\\t', len(status_data_1h[status_data_1h.station_id ==2]))\n",
    "print('Resampled on 1d mean\\t', len(status_data_1d[status_data_1d.station_id ==2]))"
   ]
  },
  {
   "cell_type": "code",
   "execution_count": null,
   "metadata": {},
   "outputs": [],
   "source": [
    "status_data.info()"
   ]
  },
  {
   "cell_type": "code",
   "execution_count": null,
   "metadata": {},
   "outputs": [],
   "source": [
    "status_data_5m.info()"
   ]
  },
  {
   "cell_type": "code",
   "execution_count": null,
   "metadata": {},
   "outputs": [],
   "source": [
    "status_data_1h.info()"
   ]
  },
  {
   "cell_type": "code",
   "execution_count": null,
   "metadata": {},
   "outputs": [],
   "source": [
    "status_data_1d.info()"
   ]
  },
  {
   "cell_type": "markdown",
   "metadata": {},
   "source": [
    "## Downsample Graphical EDA on Select Stations"
   ]
  },
  {
   "cell_type": "code",
   "execution_count": null,
   "metadata": {
    "scrolled": false
   },
   "outputs": [],
   "source": [
    "t_min = pd.Timestamp('2013-07-01')\n",
    "t_max = pd.Timestamp('2016-10-01')\n",
    "\n",
    "station_test_list = [2, 3, 25, 90]\n",
    "\n",
    "for station in station_test_list:\n",
    "# for station in sorted(pd.unique(status_data_6m.station_id)):\n",
    "    show_station(status_data, station, t_min, t_max, color='b') \n",
    "    show_station(status_data_5m, station, t_min, t_max, color='g') \n",
    "    show_station(status_data_1h, station, t_min, t_max, color='r') \n",
    "    show_station(status_data_1d, station, t_min, t_max, color='c') "
   ]
  },
  {
   "cell_type": "markdown",
   "metadata": {},
   "source": [
    "## Write Downsampled data sets to files"
   ]
  },
  {
   "cell_type": "code",
   "execution_count": null,
   "metadata": {
    "collapsed": true
   },
   "outputs": [],
   "source": [
    "print('[%s]\\tWriting File...' % datetime.datetime.now().time())\n",
    "status_data.to_csv('../clean_data/status_data_cleaned_1m.csv', encoding='utf-8')\n",
    "print('\\t[%s]\\tComplete!' % datetime.datetime.now().time())"
   ]
  },
  {
   "cell_type": "code",
   "execution_count": null,
   "metadata": {
    "collapsed": true
   },
   "outputs": [],
   "source": [
    "print('[%s]\\tWriting File...' % datetime.datetime.now().time())\n",
    "status_data_5m.to_csv('../clean_data/status_data_cleaned_5m.csv', encoding='utf-8')\n",
    "print('\\t[%s]\\tComplete!' % datetime.datetime.now().time())"
   ]
  },
  {
   "cell_type": "code",
   "execution_count": null,
   "metadata": {
    "collapsed": true
   },
   "outputs": [],
   "source": [
    "print('[%s]\\tWriting File...' % datetime.datetime.now().time())\n",
    "status_data_1h.to_csv('../clean_data/status_data_cleaned_1h.csv', encoding='utf-8')\n",
    "print('\\t[%s]\\tComplete!' % datetime.datetime.now().time())"
   ]
  },
  {
   "cell_type": "code",
   "execution_count": null,
   "metadata": {
    "collapsed": true
   },
   "outputs": [],
   "source": [
    "print('[%s]\\tWriting File...' % datetime.datetime.now().time())\n",
    "status_data_1d.to_csv('../clean_data/status_data_cleaned_1d.csv', encoding='utf-8')\n",
    "print('\\t[%s]\\tComplete!' % datetime.datetime.now().time())"
   ]
  },
  {
   "cell_type": "markdown",
   "metadata": {},
   "source": [
    "# Merge Station Data into Status Data"
   ]
  },
  {
   "cell_type": "code",
   "execution_count": null,
   "metadata": {
    "collapsed": true
   },
   "outputs": [],
   "source": [
    "station_data = pd.DataFrame()\n",
    "station_data = pd.read_csv('../clean_data/station_data_cleaned_final.csv', parse_dates=['first_service_date', 'last_service_date'])\n",
    "\n",
    "station_data_basic = pd.DataFrame()\n",
    "# drp duplicated station_id ros, keep first\n",
    "station_data_basic = station_data.copy()\n",
    "station_data_basic.drop_duplicates(subset=['station_id'], keep='first', inplace=True)\n",
    "\n",
    "station_data_basic.drop(['Unnamed: 0', 'lat', 'long', 'landmark', 'zip_code'], axis=1, inplace=True)\n",
    "\n",
    "station_data_basic.info()"
   ]
  },
  {
   "cell_type": "code",
   "execution_count": null,
   "metadata": {
    "collapsed": true
   },
   "outputs": [],
   "source": [
    "station_data_basic.head()"
   ]
  },
  {
   "cell_type": "code",
   "execution_count": null,
   "metadata": {
    "collapsed": true
   },
   "outputs": [],
   "source": [
    "# merge status data with station data,  we will have to correct the dock count for station 73 later\n",
    "status_merged = pd.DataFrame()\n",
    "\n",
    "print('[%s] - Starting Merge' % (datetime.datetime.now().time()))\n",
    "status_merged = pd.merge(status_15min_mean, station_data_basic, on='station_id')\n",
    "print('[%s] - Merge Complete' % (datetime.datetime.now().time()))\n",
    "\n",
    "status_merged.drop(['first_service_date', 'last_service_date'], axis=1, inplace=True)"
   ]
  },
  {
   "cell_type": "code",
   "execution_count": null,
   "metadata": {
    "collapsed": true
   },
   "outputs": [],
   "source": [
    "# cleanup station 73, after 05/19/2015 the dock count is 19, up from 15\n",
    "change_date = datetime.datetime.strptime('2015-05-19', '%Y-%m-%d')\n",
    "\n",
    "print('[%s]\\tSubsetting dates...' % datetime.datetime.now().time())\n",
    "index_to_update = status_merged[(status_merged.station_id == 73) & (status_merged.time >= change_date)].index\n",
    "print('\\t[%s]\\tComplete!' % datetime.datetime.now().time())\n",
    "\n",
    "print('[%s]\\tStarted Update...' % datetime.datetime.now().time())\n",
    "status_merged.loc[index_to_update, 'dock_count'] = 19\n",
    "print('\\t[%s]\\tComplete!' % datetime.datetime.now().time())"
   ]
  },
  {
   "cell_type": "code",
   "execution_count": null,
   "metadata": {
    "collapsed": true
   },
   "outputs": [],
   "source": [
    "cols = ['station_id', 'name', 'dock_count', 'days_in_service']\n",
    "\n",
    "for i in pd.unique(status_merged.station_id):\n",
    "    tmp = status_merged[status_merged.station_id == i]\n",
    "    print('\\nStation ', i)\n",
    "    for item in cols:\n",
    "        print('%s - %s' % (item, sorted(pd.unique(tmp[item]))))\n",
    "    \n",
    "    print('------------------------------')"
   ]
  },
  {
   "cell_type": "markdown",
   "metadata": {},
   "source": [
    "## Calculate Station Utilization at each interval\n",
    "\n",
    "> number of docks available / number of total docks"
   ]
  },
  {
   "cell_type": "code",
   "execution_count": null,
   "metadata": {
    "collapsed": true
   },
   "outputs": [],
   "source": [
    "print('[%s] Calculate Utilization' % datetime.datetime.now().time())\n",
    "# calculate utilization, round off at 1.0 if overage are calculated, \n",
    "# some station data reports inaccuratly on resample\n",
    "status_merged['utilization'] = status_merged['docks_available'] / status_merged['dock_count']\n",
    "status_merged['utilization'] = status_merged['utilization'].apply(lambda x: 1.0 if x > 1.0 else x)\n",
    "\n",
    "# merge_15min.reset_index(inplace=True)\n",
    "\n",
    "print('[%s] Complete!' % datetime.datetime.now().time())\n",
    "status_merged.head(5)"
   ]
  },
  {
   "cell_type": "code",
   "execution_count": null,
   "metadata": {
    "collapsed": true
   },
   "outputs": [],
   "source": [
    "status_merged.info()"
   ]
  },
  {
   "cell_type": "code",
   "execution_count": null,
   "metadata": {
    "collapsed": true
   },
   "outputs": [],
   "source": [
    "print('[%s]\\tWriting File...' % datetime.datetime.now().time())\n",
    "status_merged.to_csv('../clean_data/status_data_cleaned.csv', encoding='utf-8')\n",
    "print('\\t[%s]\\tComplete!' % datetime.datetime.now().time())"
   ]
  },
  {
   "cell_type": "markdown",
   "metadata": {},
   "source": [
    "# Load Cleaned File"
   ]
  },
  {
   "cell_type": "code",
   "execution_count": null,
   "metadata": {
    "collapsed": true
   },
   "outputs": [],
   "source": [
    "try:\n",
    "    status_data = pd.DataFrame()\n",
    "    status_data = status_merged.copy()\n",
    "    print('already working, keep going')\n",
    "    \n",
    "except:\n",
    "    print('Loading Cleaned Status Data...')\n",
    "\n",
    "    status_data = pd.DataFrame()\n",
    "    file = '../clean_data/status_data_cleaned.csv'\n",
    "\n",
    "    try:\n",
    "\n",
    "        chunks = []\n",
    "        chunk_counter = 1\n",
    "        chunksize = 10000\n",
    "        num_chunks = math.ceil(sum(1 for row in open(file, 'r'))/chunksize)\n",
    "\n",
    "        # import file in chunks\n",
    "        for chunk in pd.read_csv(file, chunksize=chunksize, iterator=True, parse_dates=['time'], index_col=0):\n",
    "\n",
    "            # append chunk to chunks list\n",
    "            chunks.append(chunk)\n",
    "\n",
    "            if chunk_counter == 1 or chunk_counter % math.ceil(num_chunks/10) == 0 or chunk_counter == num_chunks:\n",
    "                print('\\t[%s] finished chunk %s of %s' % (datetime.datetime.now().time(), chunk_counter, num_chunks))\n",
    "            chunk_counter += 1\n",
    "\n",
    "        print('Concatenating Chunks')\n",
    "        status_data = pd.DataFrame()\n",
    "        status_data = pd.concat(chunks)\n",
    "        print('Data Loaded Successfully!')\n",
    "    \n",
    "    except:\n",
    "        print('oops... something went wrong importing the data :(')"
   ]
  },
  {
   "cell_type": "code",
   "execution_count": null,
   "metadata": {
    "collapsed": true
   },
   "outputs": [],
   "source": [
    "status_data.sort_values(['station_id', 'time'], inplace=True)\n",
    "status_data.head(10)"
   ]
  },
  {
   "cell_type": "markdown",
   "metadata": {},
   "source": [
    "### Analysis"
   ]
  },
  {
   "cell_type": "code",
   "execution_count": null,
   "metadata": {
    "collapsed": true,
    "scrolled": true
   },
   "outputs": [],
   "source": [
    "status_data.info()"
   ]
  },
  {
   "cell_type": "code",
   "execution_count": null,
   "metadata": {
    "collapsed": true
   },
   "outputs": [],
   "source": [
    "status_data.head()"
   ]
  },
  {
   "cell_type": "code",
   "execution_count": null,
   "metadata": {
    "collapsed": true
   },
   "outputs": [],
   "source": [
    "status_data.set_index('time', inplace=True)"
   ]
  },
  {
   "cell_type": "code",
   "execution_count": null,
   "metadata": {
    "collapsed": true,
    "scrolled": false
   },
   "outputs": [],
   "source": [
    "for i in sorted(pd.unique(status_data.station_id)):\n",
    "    tmp = status_data[status_data.station_id == i]\n",
    "#     ax = tmp.utilization.resample('M').mean().plot(figsize=(12,3))\n",
    "    ax = tmp.utilization.resample('M').mean().fillna(0).rolling(window=3, min_periods=1).mean().plot(figsize=(12,3))\n",
    "    t = 'Station %s' %i\n",
    "    ax.set_title(t)\n",
    "    ax.set_ylim(0,1)\n",
    "    plt.show()\n",
    "    \n"
   ]
  },
  {
   "cell_type": "code",
   "execution_count": null,
   "metadata": {
    "collapsed": true
   },
   "outputs": [],
   "source": [
    "s91 = status_data[status_data.station_id == 91]"
   ]
  },
  {
   "cell_type": "code",
   "execution_count": null,
   "metadata": {
    "collapsed": true
   },
   "outputs": [],
   "source": [
    "s91.info()"
   ]
  },
  {
   "cell_type": "code",
   "execution_count": null,
   "metadata": {
    "collapsed": true
   },
   "outputs": [],
   "source": [
    "s91.head()"
   ]
  },
  {
   "cell_type": "code",
   "execution_count": null,
   "metadata": {
    "collapsed": true
   },
   "outputs": [],
   "source": []
  },
  {
   "cell_type": "code",
   "execution_count": null,
   "metadata": {
    "collapsed": true
   },
   "outputs": [],
   "source": []
  },
  {
   "cell_type": "code",
   "execution_count": null,
   "metadata": {
    "collapsed": true
   },
   "outputs": [],
   "source": []
  },
  {
   "cell_type": "code",
   "execution_count": null,
   "metadata": {
    "collapsed": true,
    "scrolled": false
   },
   "outputs": [],
   "source": [
    "closed_stations = [21, 22, 23, 24, 25, 26]\n",
    "closed_stations = [73]\n",
    "\n",
    "redwood_city_station_utilization = pd.DataFrame()\n",
    "chunks = []\n",
    "\n",
    "# for i in closed_stations:\n",
    "for i in sorted(pd.unique(status_data.station_id)):\n",
    "    ax = status_data[status_data.station_id == i]['dock_count'].plot(figsize=(12,2))\n",
    "    t = 'Station %s' % i\n",
    "    ax.set_title(t)\n",
    "    plt.show()\n",
    "    "
   ]
  },
  {
   "cell_type": "code",
   "execution_count": null,
   "metadata": {
    "collapsed": true
   },
   "outputs": [],
   "source": []
  },
  {
   "cell_type": "code",
   "execution_count": null,
   "metadata": {
    "collapsed": true
   },
   "outputs": [],
   "source": []
  },
  {
   "cell_type": "code",
   "execution_count": null,
   "metadata": {
    "collapsed": true
   },
   "outputs": [],
   "source": []
  },
  {
   "cell_type": "code",
   "execution_count": null,
   "metadata": {
    "collapsed": true
   },
   "outputs": [],
   "source": [
    "top_am_commute_start_terms = [50, 54, 55, 61, 67, 69, 70, 73, 74, 77]\n",
    "temp = status_data[status_data.station_id.isin(top_am_commute_start_terms)]"
   ]
  },
  {
   "cell_type": "code",
   "execution_count": null,
   "metadata": {
    "collapsed": true
   },
   "outputs": [],
   "source": [
    "plt.subplots(figsize=(15,5))\n",
    "ax = sns.boxplot(x=temp.index.dayofweek, y=\"utilization\", hue=\"station_id\", data=temp)\n",
    "\n",
    "ax.set(xlabel='Day of Week')\n",
    "# plt.legend()\n",
    "plt.show()\n",
    "\n"
   ]
  },
  {
   "cell_type": "code",
   "execution_count": null,
   "metadata": {
    "collapsed": true
   },
   "outputs": [],
   "source": [
    "for i in top_am_commute_start_terms:\n",
    "    temp = status_data[status_data.station_id == i]\n",
    "\n",
    "    plt.subplots(figsize=(15,5))\n",
    "    ax = sns.boxplot(x=temp.index.hour, y=\"utilization\", data=temp)\n",
    "    ax.set(xlabel='Hour of Day')\n",
    "    ax.set(title='Station %s' % i)\n",
    "    # plt.legend()\n",
    "    plt.show()\n",
    "\n",
    "\n"
   ]
  },
  {
   "cell_type": "code",
   "execution_count": null,
   "metadata": {
    "collapsed": true
   },
   "outputs": [],
   "source": [
    "\n",
    "top_am_commute_start_terms = [50, 54, 55, 61, 67, 69, 70, 73, 74, 77]\n",
    "temp = status_data[status_data.station_id.isin(top_am_commute_start_terms)]\n",
    "plt.subplots(figsize=(15,5))\n",
    "ax = sns.pointplot(x=temp.index.hour, y=\"utilization\", hue='station_id', data=temp)\n",
    "ax.set(xlabel='Hour of Day')\n",
    "ax.set(title='Station %s' % i)\n",
    "plt.legend()\n",
    "plt.show()"
   ]
  },
  {
   "cell_type": "code",
   "execution_count": null,
   "metadata": {
    "collapsed": true
   },
   "outputs": [],
   "source": [
    "top_am_commute_start_terms = [50, 54, 55, 61, 67, 69, 70, 73, 74, 77]\n",
    "temp = status_data[status_data.station_id.isin(top_am_commute_start_terms)]\n",
    "\n",
    "sns.jointplot(x=temp.index.hour, y=\"utilization\", data=temp)"
   ]
  },
  {
   "cell_type": "code",
   "execution_count": null,
   "metadata": {
    "collapsed": true
   },
   "outputs": [],
   "source": [
    "\n",
    "top_am_commute_start_terms = [50, 54, 55, 61, 67, 69, 70, 73, 74, 77]\n",
    "temp = status_data[status_data.station_id.isin(top_am_commute_start_terms)]\n",
    "plt.subplots(figsize=(15,5))\n",
    "ax = sns.jointplot(x=temp.index.hour, y=\"utilization\", data=temp, kind='reg')\n",
    "ax.set(xlabel='Hour of Day')\n",
    "ax.set(title='Station %s' % i)\n",
    "plt.legend()\n",
    "plt.show()"
   ]
  },
  {
   "cell_type": "code",
   "execution_count": null,
   "metadata": {
    "collapsed": true
   },
   "outputs": [],
   "source": [
    "status_data.groupby(['station_id', status_data.index.day, status_data.index.hour])['utilization'].mean().plot(figsize=(12,6), alpha=0.2)\n",
    "plt.show()"
   ]
  },
  {
   "cell_type": "code",
   "execution_count": null,
   "metadata": {
    "collapsed": true
   },
   "outputs": [],
   "source": [
    "test = status_data[status_data.station_id == 73]\n",
    "ax = test.groupby([test.index.hour, test.index.minute])['bikes_available'].median().plot(kind='bar', figsize=(12,6))\n",
    "test.groupby([test.index.hour, test.index.minute])['bikes_available'].mean().plot(kind='line', color='g', ax=ax)\n",
    "# test.groupby([test.index.hour, test.index.minute])['dock_count'].max().plot(kind='line', color='r', ax=ax)\n",
    "plt.show()"
   ]
  },
  {
   "cell_type": "code",
   "execution_count": null,
   "metadata": {
    "collapsed": true
   },
   "outputs": [],
   "source": [
    "top_am_commute_start_terms = [50, 54, 55, 61, 67, 69, 70, 73, 74, 77]"
   ]
  },
  {
   "cell_type": "code",
   "execution_count": null,
   "metadata": {
    "collapsed": true
   },
   "outputs": [],
   "source": [
    "counter = 0\n",
    "\n",
    "for station in [50, 54, 55, 61, 67, 69, 70, 73, 74, 77]:\n",
    "    test = status_data[status_data.station_id == station]\n",
    "    \n",
    "    if counter == 0:\n",
    "#         ax = test.groupby([test.index.dayofweek, test.index.hour, test.index.minute])['utilization'].mean().plot(kind='line', figsize=(12,6))\n",
    "        ax = test.groupby([test.index.dayofweek, test.index.hour])['utilization'].mean().plot(kind='line', figsize=(12,6))\n",
    "        counter += 1\n",
    "    else:\n",
    "#         test.groupby([test.index.dayofweek, test.index.hour, test.index.minute])['utilization'].mean().plot(kind='line', ax=ax)\n",
    "        test.groupby([test.index.dayofweek, test.index.hour])['utilization'].mean().plot(kind='line', ax=ax)\n",
    "\n",
    "plt.show()"
   ]
  },
  {
   "cell_type": "code",
   "execution_count": null,
   "metadata": {
    "collapsed": true
   },
   "outputs": [],
   "source": []
  }
 ],
 "metadata": {
  "kernelspec": {
   "display_name": "Python 3",
   "language": "python",
   "name": "python3"
  },
  "language_info": {
   "codemirror_mode": {
    "name": "ipython",
    "version": 3
   },
   "file_extension": ".py",
   "mimetype": "text/x-python",
   "name": "python",
   "nbconvert_exporter": "python",
   "pygments_lexer": "ipython3",
   "version": "3.6.3"
  }
 },
 "nbformat": 4,
 "nbformat_minor": 2
}
