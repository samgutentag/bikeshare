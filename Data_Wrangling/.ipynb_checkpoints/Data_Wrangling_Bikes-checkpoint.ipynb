{
 "cells": [
  {
   "cell_type": "markdown",
   "metadata": {},
   "source": [
    "# Data Investigation - Bikes"
   ]
  },
  {
   "cell_type": "markdown",
   "metadata": {},
   "source": [
    "### Import Data\n",
    "\n",
    "> starting from trips dataset cleaned in 'Data Investigation - Trips'"
   ]
  },
  {
   "cell_type": "code",
   "execution_count": null,
   "metadata": {
    "collapsed": true
   },
   "outputs": [],
   "source": [
    "%matplotlib inline\n",
    "\n",
    "import matplotlib\n",
    "import numpy as np\n",
    "from scipy import stats\n",
    "import matplotlib.pyplot as plt\n",
    "import pandas as pd\n",
    "from glob import glob\n",
    "import datetime\n",
    "import math\n",
    "\n",
    "import seaborn as sns\n",
    "sns.set()"
   ]
  },
  {
   "cell_type": "code",
   "execution_count": null,
   "metadata": {
    "collapsed": true
   },
   "outputs": [],
   "source": [
    "from IPython.core.display import display, HTML\n",
    "display(HTML(\"<style>.container { width:95% !important; }</style>\"))"
   ]
  },
  {
   "cell_type": "code",
   "execution_count": null,
   "metadata": {},
   "outputs": [],
   "source": [
    "print('Loading Trip Data...')\n",
    "\n",
    "try:\n",
    "    trips_data = pd.DataFrame()\n",
    "    file = '../../../datasets/bayareabikeshare/CLEANED/trip_data_cleaned_master.csv'\n",
    "    chunks = []\n",
    "    counter = 1\n",
    "    chunksize = 10000\n",
    "    num_chunks = math.ceil(sum(1 for row in open(file, 'r'))/chunksize)\n",
    "\n",
    "    # import file in chunks\n",
    "    for chunk in pd.read_csv(file, chunksize=chunksize, iterator=True, parse_dates=['start_date', 'end_date']):\n",
    "\n",
    "        # set chunk index column to 'Trip ID'\n",
    "        chunk = chunk.set_index('Trip ID')\n",
    "\n",
    "        # append chunk to chunks list\n",
    "        chunks.append(chunk)\n",
    "\n",
    "        if counter == 1 or counter % 10 == 0 or counter == num_chunks:\n",
    "            print('[%s] finished chunk %s of %s' % (datetime.datetime.now().time(), counter, num_chunks))\n",
    "        counter += 1\n",
    "\n",
    "    # concat chunks\n",
    "    trips_data = pd.concat(chunks)\n",
    "\n",
    "    print('Data Loaded Successfully!')\n",
    "\n",
    "except:\n",
    "    print('oops... something went wrong importing the data :(')"
   ]
  },
  {
   "cell_type": "code",
   "execution_count": null,
   "metadata": {},
   "outputs": [],
   "source": [
    "trips_data.info()"
   ]
  },
  {
   "cell_type": "markdown",
   "metadata": {},
   "source": [
    "## Isolate Bike Data"
   ]
  },
  {
   "cell_type": "code",
   "execution_count": null,
   "metadata": {
    "scrolled": true
   },
   "outputs": [],
   "source": [
    "bike_data = pd.DataFrame()\n",
    "bike_data['first_trip'] = trips_data.groupby('bike_id')['start_date'].min()\n",
    "bike_data['latest_trip']  = trips_data.groupby('bike_id')['start_date'].max()\n",
    "bike_data['trip_count'] = trips_data.groupby('bike_id')['start_date'].count()\n",
    "bike_data['days_in_service'] = (bike_data['latest_trip'] - bike_data['first_trip']).dt.days\n",
    "\n",
    "last_recorded_trip = bike_data.latest_trip.max()\n",
    "bike_data['days_since_last_trip'] = (last_recorded_trip - bike_data.latest_trip).dt.days\n",
    "\n",
    "bike_data['total_usage_time_per_trip'] = trips_data.groupby('bike_id')['duration'].sum()\n",
    "bike_data['median_usage_time_per_trip'] = trips_data.groupby('bike_id')['duration'].median()\n",
    "bike_data['mean_usage_time_per_trip'] = trips_data.groupby('bike_id')['duration'].mean()\n",
    "\n",
    "bike_data.head()"
   ]
  },
  {
   "cell_type": "code",
   "execution_count": null,
   "metadata": {
    "collapsed": true
   },
   "outputs": [],
   "source": [
    "bike_data.to_csv('../../../datasets/bayareabikeshare/CLEANED/bike_data_cleaned.csv', encoding='utf-8')"
   ]
  },
  {
   "cell_type": "code",
   "execution_count": null,
   "metadata": {},
   "outputs": [],
   "source": [
    "service_days = trips_data.groupby(trips_data['start_date'].dt.date)['bike_id'].value_counts().to_frame()\n",
    "grid = service_days.unstack()\n",
    "plt.subplots(figsize=(120,70))\n",
    "ax = sns.heatmap(grid, square=True, cmap=\"YlOrRd\")\n",
    "ax.set(ylabel='Bike ID')\n",
    "ax.set(xlabel='Date')\n",
    "ax.set(title='Bike Usage over Time')\n",
    "\n",
    "plt.savefig('../Documents/bike_usage_by_day.png')"
   ]
  },
  {
   "cell_type": "code",
   "execution_count": null,
   "metadata": {},
   "outputs": [],
   "source": [
    "plt.subplots(figsize=(15,5))\n",
    "sns.distplot(bike_data.trip_count, color='b', bins=50)\n",
    "plt.title('Distribution of Bike Trips Counts')\n",
    "plt.xlim(-100, 3000)\n",
    "plt.xlabel('Number of Trips')\n",
    "plt.show()"
   ]
  },
  {
   "cell_type": "code",
   "execution_count": null,
   "metadata": {},
   "outputs": [],
   "source": [
    "plt.subplots(figsize=(15,5))\n",
    "sns.distplot(bike_data.days_in_service, color='b', bins=100)\n",
    "plt.title('Distribution of Bike Trips Counts')\n",
    "plt.xlabel('Days in Service')\n",
    "plt.show()"
   ]
  },
  {
   "cell_type": "code",
   "execution_count": null,
   "metadata": {},
   "outputs": [],
   "source": [
    "plt.subplots(figsize=(15,5))\n",
    "sns.distplot(bike_data.days_since_last_trip, color='b', bins=100)\n",
    "plt.title('Distribution of Bike Trips Counts')\n",
    "plt.xlabel('Days in Since Last Trip')\n",
    "plt.show()"
   ]
  },
  {
   "cell_type": "code",
   "execution_count": null,
   "metadata": {},
   "outputs": [],
   "source": [
    "plt.subplots(figsize=(15,5))\n",
    "sns.distplot(bike_data.mean_usage_time_per_trip, color='b', bins=100)\n",
    "plt.title('Distribution of Bike Trips Counts')\n",
    "plt.xlabel('Number of Trips')\n",
    "plt.show()"
   ]
  },
  {
   "cell_type": "code",
   "execution_count": null,
   "metadata": {},
   "outputs": [],
   "source": [
    "plt.subplots(figsize=(15,5))\n",
    "ax = sns.distplot(bike_data.median_usage_time_per_trip/60., color='g', bins=100)\n",
    "sns.distplot(bike_data.mean_usage_time_per_trip/60., color='r', bins=100, ax=ax)\n",
    "plt.title('Trip Duration Distribution')\n",
    "plt.xlabel('Length of Trip in Minutes')\n",
    "plt.legend(['Median', 'Mean'], loc='best')\n",
    "plt.show()"
   ]
  },
  {
   "cell_type": "code",
   "execution_count": null,
   "metadata": {
    "collapsed": true
   },
   "outputs": [],
   "source": []
  }
 ],
 "metadata": {
  "kernelspec": {
   "display_name": "Python 3",
   "language": "python",
   "name": "python3"
  },
  "language_info": {
   "codemirror_mode": {
    "name": "ipython",
    "version": 3
   },
   "file_extension": ".py",
   "mimetype": "text/x-python",
   "name": "python",
   "nbconvert_exporter": "python",
   "pygments_lexer": "ipython3",
   "version": "3.6.3"
  }
 },
 "nbformat": 4,
 "nbformat_minor": 2
}
