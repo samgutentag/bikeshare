{
 "cells": [
  {
   "cell_type": "markdown",
   "metadata": {},
   "source": [
    "# Statistical Analysis of Bay Area Bike Share Data - Station Status"
   ]
  },
  {
   "cell_type": "markdown",
   "metadata": {},
   "source": [
    "# Station Balance at Top Commuter Stations\n",
    "<ul>Top Commuter Stations\n",
    "\t<li><b>Station 70 :</b> San Francisco Caltrain (Townsend at 4th)</li>\n",
    "\t<li><b>Station 69 :</b> San Francisco Caltrain 2 (330 Townsend)</li>\n",
    "\t<li><b>Station 50 :</b> Harry Bridges Plaza (Ferry Building)</li>\n",
    "\t<li><b>Station 55 :</b> Temporary Transbay Terminal (Howard at Beale)</li>\n",
    "\t<li><b>Station 74 :</b> Steuart at Market</li>\n",
    "</ul>"
   ]
  },
  {
   "cell_type": "code",
   "execution_count": 1,
   "metadata": {},
   "outputs": [],
   "source": [
    "%matplotlib inline\n",
    "\n",
    "import matplotlib\n",
    "import numpy as np\n",
    "# from scipy import stats\n",
    "# import scipy\n",
    "import math\n",
    "import matplotlib.pyplot as plt\n",
    "import pandas as pd\n",
    "from glob import glob\n",
    "import datetime\n",
    "\n",
    "import seaborn as sns\n",
    "# sns.set()\n",
    "sns.set_style('whitegrid')\n",
    "sns.set_context(\"poster\")"
   ]
  },
  {
   "cell_type": "code",
   "execution_count": 2,
   "metadata": {},
   "outputs": [
    {
     "data": {
      "text/html": [
       "<style>.container { width:95% !important; }</style>"
      ],
      "text/plain": [
       "<IPython.core.display.HTML object>"
      ]
     },
     "metadata": {},
     "output_type": "display_data"
    }
   ],
   "source": [
    "from IPython.core.display import display, HTML\n",
    "display(HTML(\"<style>.container { width:95% !important; }</style>\"))\n",
    "\n",
    "font = {'size'   : 50}\n",
    "matplotlib.rc('font', **font)\n",
    "\n",
    "TITLE_FONT_SIZE = 25\n",
    "LABEL_FONT_SIZE = 15\n",
    "TICK_FONT_SIZE  = 15\n",
    "\n",
    "day_labels = ['MON','TUE','WED','THU','FRI','SAT','SUN']\n",
    "day_labels_full = ['MONDAY','TUESDAY','WEDNESDAY','THURSDAY','FRIDAY','SATURDAY','SUNDAY']\n",
    "month_labels = ['JAN','FEB','MAR','APR','MAY','JUN','JUL','AUG','SEP','OCT','NOV','DEC']\n",
    "month_labels_full = ['JANUARY','FEBRUARY','MARCH','APRIL','MAY','JUNE','JULY','AUGUST','SEPTEMBER','OCTOBER','NOVEMBER','DECEMBER']\n",
    "\n",
    "sub_color = 'b'\n",
    "sub_color_alt = 'm'\n",
    "cust_color='r'\n",
    "cust_color_alt='y'\n",
    "\n",
    "commuter_color='g'\n",
    "commuter_color_alt='#1daf1d'\n",
    "\n",
    "commuter_am = '#ea54d9'     #OrRd\n",
    "commuter_am_alt = '#9b8460' #OrRd_r\n",
    "\n",
    "commuter_pm = '#b97ccc'     #PuRd\n",
    "commuter_pm_alt = '#f4ad3a' #PuRd_r\n",
    "\n",
    "FIG_SIZE = (15,6)\n",
    "FIG_SIZE_SHORT = (15,3)\n",
    "GRID_DIMS = 15\n",
    "\n",
    "DO_WRITE_CHARTS = True"
   ]
  },
  {
   "cell_type": "markdown",
   "metadata": {},
   "source": [
    "# Load Morning and Evening Commuter Trips Data"
   ]
  },
  {
   "cell_type": "code",
   "execution_count": 3,
   "metadata": {},
   "outputs": [],
   "source": [
    "super_stations = [69, 70]"
   ]
  },
  {
   "cell_type": "code",
   "execution_count": 4,
   "metadata": {},
   "outputs": [
    {
     "name": "stdout",
     "output_type": "stream",
     "text": [
      "[19:20:38.225174] Loading Morning Commute Trips Data...\n",
      "\t\t[19:20:38.796755] finished chunk 1 of 26\n",
      "\t\t[19:20:39.217235] finished chunk 3 of 26\n",
      "\t\t[19:20:39.769171] finished chunk 6 of 26\n",
      "\t\t[19:20:40.385607] finished chunk 9 of 26\n",
      "\t\t[19:20:40.935777] finished chunk 12 of 26\n",
      "\t\t[19:20:41.968227] finished chunk 15 of 26\n",
      "\t\t[19:20:42.691492] finished chunk 18 of 26\n",
      "\t\t[19:20:43.287157] finished chunk 21 of 26\n",
      "\t\t[19:20:43.901593] finished chunk 24 of 26\n",
      "\t\t[19:20:44.168848] finished chunk 26 of 26\n",
      "[19:20:44.424711] Complete!\n"
     ]
    }
   ],
   "source": [
    "print('[%s] Loading Morning Commute Trips Data...' % datetime.datetime.now().time())\n",
    "\n",
    "morning_commutes = pd.DataFrame()\n",
    "trip_data_file = '../clean_data/bayareabikeshare/trip_data_morning_commutes.csv'\n",
    "\n",
    "# Chunk Settings\n",
    "chunks = []\n",
    "chunk_counter = 1\n",
    "chunksize = 10000\n",
    "num_chunks = math.ceil(sum(1 for row in open(trip_data_file, 'r'))/chunksize)\n",
    "\n",
    "# import file in chunks\n",
    "for chunk in pd.read_csv(trip_data_file, chunksize=chunksize, iterator=True, index_col=0, parse_dates=['start_date', 'end_date', 'forecast_time']):\n",
    "        \n",
    "    # append chunk to chunks list\n",
    "    chunks.append(chunk)\n",
    "\n",
    "    if chunk_counter == 1 or chunk_counter % math.ceil(num_chunks/10) == 0 or chunk_counter == num_chunks:\n",
    "        print('\\t\\t[%s] finished chunk %s of %s' % (datetime.datetime.now().time(), chunk_counter, num_chunks))\n",
    "    chunk_counter += 1\n",
    "\n",
    "morning_commutes = pd.concat(chunks)\n",
    "morning_commutes.reset_index(inplace=True, drop=True)\n",
    "print('[%s] Complete!' % datetime.datetime.now().time())"
   ]
  },
  {
   "cell_type": "code",
   "execution_count": 5,
   "metadata": {},
   "outputs": [
    {
     "name": "stdout",
     "output_type": "stream",
     "text": [
      "[19:20:44.467036] Loading Evening Commute Trips Data...\n",
      "\t\t[19:20:45.035289] finished chunk 1 of 24\n",
      "\t\t[19:20:45.416982] finished chunk 3 of 24\n",
      "\t\t[19:20:45.966299] finished chunk 6 of 24\n",
      "\t\t[19:20:46.532898] finished chunk 9 of 24\n",
      "\t\t[19:20:47.084022] finished chunk 12 of 24\n",
      "\t\t[19:20:47.609478] finished chunk 15 of 24\n",
      "\t\t[19:20:48.155729] finished chunk 18 of 24\n",
      "\t\t[19:20:48.699952] finished chunk 21 of 24\n",
      "\t\t[19:20:49.194793] finished chunk 24 of 24\n",
      "[19:20:49.406115] Complete!\n"
     ]
    }
   ],
   "source": [
    "print('[%s] Loading Evening Commute Trips Data...' % datetime.datetime.now().time())\n",
    "\n",
    "evening_commutes = pd.DataFrame()\n",
    "trip_data_file = '../clean_data/bayareabikeshare/trip_data_evening_commutes.csv'\n",
    "\n",
    "# Chunk Settings\n",
    "chunks = []\n",
    "chunk_counter = 1\n",
    "chunksize = 10000\n",
    "num_chunks = math.ceil(sum(1 for row in open(trip_data_file, 'r'))/chunksize)\n",
    "\n",
    "# import file in chunks\n",
    "for chunk in pd.read_csv(trip_data_file, chunksize=chunksize, iterator=True, index_col=0, parse_dates=['start_date', 'end_date', 'forecast_time']):\n",
    "        \n",
    "    # append chunk to chunks list\n",
    "    chunks.append(chunk)\n",
    "\n",
    "    if chunk_counter == 1 or chunk_counter % math.ceil(num_chunks/10) == 0 or chunk_counter == num_chunks:\n",
    "        print('\\t\\t[%s] finished chunk %s of %s' % (datetime.datetime.now().time(), chunk_counter, num_chunks))\n",
    "    chunk_counter += 1\n",
    "\n",
    "evening_commutes = pd.concat(chunks)\n",
    "evening_commutes.reset_index(inplace=True, drop=True)\n",
    "print('[%s] Complete!' % datetime.datetime.now().time())"
   ]
  },
  {
   "cell_type": "code",
   "execution_count": 6,
   "metadata": {},
   "outputs": [
    {
     "name": "stdout",
     "output_type": "stream",
     "text": [
      "[19:20:49.466562] Loading San Francisco Trips Data...\n",
      "\t\t[19:20:51.122916] finished chunk 1 of 99\n",
      "\t\t[19:20:52.731371] finished chunk 10 of 99\n",
      "\t\t[19:20:54.519720] finished chunk 20 of 99\n",
      "\t\t[19:20:56.366280] finished chunk 30 of 99\n",
      "\t\t[19:20:58.251971] finished chunk 40 of 99\n",
      "\t\t[19:21:00.118544] finished chunk 50 of 99\n",
      "\t\t[19:21:02.230423] finished chunk 60 of 99\n",
      "\t\t[19:21:04.291730] finished chunk 70 of 99\n",
      "\t\t[19:21:06.421115] finished chunk 80 of 99\n",
      "\t\t[19:21:08.535485] finished chunk 90 of 99\n",
      "\t\t[19:21:10.305560] finished chunk 99 of 99\n",
      "[19:21:11.465511] Complete!\n"
     ]
    }
   ],
   "source": [
    "print('[%s] Loading San Francisco Trips Data...' % datetime.datetime.now().time())\n",
    "\n",
    "sf_trips = pd.DataFrame()\n",
    "trip_data_file = '../clean_data/bayareabikeshare/trip_data_extended_cleaned.csv'\n",
    "\n",
    "# Chunk Settings\n",
    "chunks = []\n",
    "chunk_counter = 1\n",
    "chunksize = 10000\n",
    "num_chunks = math.ceil(sum(1 for row in open(trip_data_file, 'r'))/chunksize)\n",
    "\n",
    "# import file in chunks\n",
    "for chunk in pd.read_csv(trip_data_file, chunksize=chunksize, iterator=True, index_col=0, parse_dates=['start_date', 'end_date']):\n",
    "    \n",
    "    \n",
    "    # prune to only San Francisco Trips\n",
    "    chunk = chunk[(chunk.start_station_region == 'San Francisco') & (chunk.end_station_region == 'San Francisco')].copy()\n",
    "    \n",
    "    \n",
    "    # append chunk to chunks list\n",
    "    chunks.append(chunk)\n",
    "\n",
    "    if chunk_counter == 1 or chunk_counter % math.ceil(num_chunks/10) == 0 or chunk_counter == num_chunks:\n",
    "        print('\\t\\t[%s] finished chunk %s of %s' % (datetime.datetime.now().time(), chunk_counter, num_chunks))\n",
    "    chunk_counter += 1\n",
    "\n",
    "sf_trips = pd.concat(chunks)\n",
    "sf_trips.reset_index(inplace=True, drop=True)\n",
    "print('[%s] Complete!' % datetime.datetime.now().time())"
   ]
  },
  {
   "cell_type": "markdown",
   "metadata": {},
   "source": [
    "# Station Traffic"
   ]
  },
  {
   "cell_type": "code",
   "execution_count": 7,
   "metadata": {},
   "outputs": [
    {
     "data": {
      "text/html": [
       "<div>\n",
       "<style scoped>\n",
       "    .dataframe tbody tr th:only-of-type {\n",
       "        vertical-align: middle;\n",
       "    }\n",
       "\n",
       "    .dataframe tbody tr th {\n",
       "        vertical-align: top;\n",
       "    }\n",
       "\n",
       "    .dataframe thead th {\n",
       "        text-align: right;\n",
       "    }\n",
       "</style>\n",
       "<table border=\"1\" class=\"dataframe\">\n",
       "  <thead>\n",
       "    <tr style=\"text-align: right;\">\n",
       "      <th></th>\n",
       "      <th>trip_id</th>\n",
       "      <th>duration</th>\n",
       "      <th>start_date</th>\n",
       "      <th>start_station_id</th>\n",
       "      <th>end_date</th>\n",
       "      <th>end_station_id</th>\n",
       "      <th>bike_id</th>\n",
       "      <th>user_type</th>\n",
       "      <th>user_zip</th>\n",
       "      <th>duration_minutes</th>\n",
       "      <th>...</th>\n",
       "      <th>humidity</th>\n",
       "      <th>precipIntensity</th>\n",
       "      <th>precipProbability</th>\n",
       "      <th>precipType</th>\n",
       "      <th>pressure</th>\n",
       "      <th>temperature</th>\n",
       "      <th>forecast_time</th>\n",
       "      <th>visibility</th>\n",
       "      <th>windBearing</th>\n",
       "      <th>windSpeed</th>\n",
       "    </tr>\n",
       "  </thead>\n",
       "  <tbody>\n",
       "    <tr>\n",
       "      <th>0</th>\n",
       "      <td>4069</td>\n",
       "      <td>174</td>\n",
       "      <td>2013-08-29 09:08:00</td>\n",
       "      <td>64</td>\n",
       "      <td>2013-08-29 09:11:00</td>\n",
       "      <td>64</td>\n",
       "      <td>288</td>\n",
       "      <td>Subscriber</td>\n",
       "      <td>94114</td>\n",
       "      <td>2.900000</td>\n",
       "      <td>...</td>\n",
       "      <td>0.92</td>\n",
       "      <td>0.0</td>\n",
       "      <td>0.0</td>\n",
       "      <td>0.0</td>\n",
       "      <td>1017.06</td>\n",
       "      <td>62.63</td>\n",
       "      <td>2013-08-29 09:00:00</td>\n",
       "      <td>10.0</td>\n",
       "      <td>183.0</td>\n",
       "      <td>0.7</td>\n",
       "    </tr>\n",
       "    <tr>\n",
       "      <th>1</th>\n",
       "      <td>4073</td>\n",
       "      <td>1067</td>\n",
       "      <td>2013-08-29 09:24:00</td>\n",
       "      <td>66</td>\n",
       "      <td>2013-08-29 09:42:00</td>\n",
       "      <td>69</td>\n",
       "      <td>321</td>\n",
       "      <td>Subscriber</td>\n",
       "      <td>94703</td>\n",
       "      <td>17.783333</td>\n",
       "      <td>...</td>\n",
       "      <td>0.91</td>\n",
       "      <td>0.0</td>\n",
       "      <td>0.0</td>\n",
       "      <td>0.0</td>\n",
       "      <td>1017.26</td>\n",
       "      <td>62.60</td>\n",
       "      <td>2013-08-29 09:00:00</td>\n",
       "      <td>10.0</td>\n",
       "      <td>241.0</td>\n",
       "      <td>1.0</td>\n",
       "    </tr>\n",
       "    <tr>\n",
       "      <th>2</th>\n",
       "      <td>4074</td>\n",
       "      <td>1131</td>\n",
       "      <td>2013-08-29 09:24:00</td>\n",
       "      <td>66</td>\n",
       "      <td>2013-08-29 09:43:00</td>\n",
       "      <td>69</td>\n",
       "      <td>317</td>\n",
       "      <td>Subscriber</td>\n",
       "      <td>94115</td>\n",
       "      <td>18.850000</td>\n",
       "      <td>...</td>\n",
       "      <td>0.91</td>\n",
       "      <td>0.0</td>\n",
       "      <td>0.0</td>\n",
       "      <td>0.0</td>\n",
       "      <td>1017.26</td>\n",
       "      <td>62.60</td>\n",
       "      <td>2013-08-29 09:00:00</td>\n",
       "      <td>10.0</td>\n",
       "      <td>241.0</td>\n",
       "      <td>1.0</td>\n",
       "    </tr>\n",
       "  </tbody>\n",
       "</table>\n",
       "<p>3 rows × 37 columns</p>\n",
       "</div>"
      ],
      "text/plain": [
       "   trip_id  duration          start_date  start_station_id  \\\n",
       "0     4069       174 2013-08-29 09:08:00                64   \n",
       "1     4073      1067 2013-08-29 09:24:00                66   \n",
       "2     4074      1131 2013-08-29 09:24:00                66   \n",
       "\n",
       "             end_date  end_station_id  bike_id   user_type  user_zip  \\\n",
       "0 2013-08-29 09:11:00              64      288  Subscriber     94114   \n",
       "1 2013-08-29 09:42:00              69      321  Subscriber     94703   \n",
       "2 2013-08-29 09:43:00              69      317  Subscriber     94115   \n",
       "\n",
       "   duration_minutes    ...     humidity precipIntensity  precipProbability  \\\n",
       "0          2.900000    ...         0.92             0.0                0.0   \n",
       "1         17.783333    ...         0.91             0.0                0.0   \n",
       "2         18.850000    ...         0.91             0.0                0.0   \n",
       "\n",
       "   precipType pressure temperature       forecast_time  visibility  \\\n",
       "0         0.0  1017.06       62.63 2013-08-29 09:00:00        10.0   \n",
       "1         0.0  1017.26       62.60 2013-08-29 09:00:00        10.0   \n",
       "2         0.0  1017.26       62.60 2013-08-29 09:00:00        10.0   \n",
       "\n",
       "   windBearing  windSpeed  \n",
       "0        183.0        0.7  \n",
       "1        241.0        1.0  \n",
       "2        241.0        1.0  \n",
       "\n",
       "[3 rows x 37 columns]"
      ]
     },
     "execution_count": 7,
     "metadata": {},
     "output_type": "execute_result"
    }
   ],
   "source": [
    "morning_commutes.head(3)"
   ]
  },
  {
   "cell_type": "code",
   "execution_count": 8,
   "metadata": {},
   "outputs": [
    {
     "data": {
      "text/html": [
       "<div>\n",
       "<style scoped>\n",
       "    .dataframe tbody tr th:only-of-type {\n",
       "        vertical-align: middle;\n",
       "    }\n",
       "\n",
       "    .dataframe tbody tr th {\n",
       "        vertical-align: top;\n",
       "    }\n",
       "\n",
       "    .dataframe thead th {\n",
       "        text-align: right;\n",
       "    }\n",
       "</style>\n",
       "<table border=\"1\" class=\"dataframe\">\n",
       "  <thead>\n",
       "    <tr style=\"text-align: right;\">\n",
       "      <th></th>\n",
       "      <th>trip_id</th>\n",
       "      <th>duration</th>\n",
       "      <th>start_date</th>\n",
       "      <th>start_station_id</th>\n",
       "      <th>end_date</th>\n",
       "      <th>end_station_id</th>\n",
       "      <th>bike_id</th>\n",
       "      <th>user_type</th>\n",
       "      <th>user_zip</th>\n",
       "      <th>duration_minutes</th>\n",
       "      <th>...</th>\n",
       "      <th>humidity</th>\n",
       "      <th>precipIntensity</th>\n",
       "      <th>precipProbability</th>\n",
       "      <th>precipType</th>\n",
       "      <th>pressure</th>\n",
       "      <th>temperature</th>\n",
       "      <th>forecast_time</th>\n",
       "      <th>visibility</th>\n",
       "      <th>windBearing</th>\n",
       "      <th>windSpeed</th>\n",
       "    </tr>\n",
       "  </thead>\n",
       "  <tbody>\n",
       "    <tr>\n",
       "      <th>0</th>\n",
       "      <td>4565</td>\n",
       "      <td>7148</td>\n",
       "      <td>2013-08-29 14:04:00</td>\n",
       "      <td>77</td>\n",
       "      <td>2013-08-29 16:03:00</td>\n",
       "      <td>72</td>\n",
       "      <td>437</td>\n",
       "      <td>Subscriber</td>\n",
       "      <td>94608</td>\n",
       "      <td>119.133333</td>\n",
       "      <td>...</td>\n",
       "      <td>0.72</td>\n",
       "      <td>0.0</td>\n",
       "      <td>0.0</td>\n",
       "      <td>0.0</td>\n",
       "      <td>1017.25</td>\n",
       "      <td>68.31</td>\n",
       "      <td>2013-08-29 14:00:00</td>\n",
       "      <td>8.78</td>\n",
       "      <td>268.0</td>\n",
       "      <td>9.46</td>\n",
       "    </tr>\n",
       "    <tr>\n",
       "      <th>1</th>\n",
       "      <td>4672</td>\n",
       "      <td>1251</td>\n",
       "      <td>2013-08-29 15:44:00</td>\n",
       "      <td>50</td>\n",
       "      <td>2013-08-29 16:05:00</td>\n",
       "      <td>70</td>\n",
       "      <td>583</td>\n",
       "      <td>Subscriber</td>\n",
       "      <td>94122</td>\n",
       "      <td>20.850000</td>\n",
       "      <td>...</td>\n",
       "      <td>0.67</td>\n",
       "      <td>0.0</td>\n",
       "      <td>0.0</td>\n",
       "      <td>0.0</td>\n",
       "      <td>1016.68</td>\n",
       "      <td>70.61</td>\n",
       "      <td>2013-08-29 15:00:00</td>\n",
       "      <td>10.00</td>\n",
       "      <td>256.0</td>\n",
       "      <td>7.18</td>\n",
       "    </tr>\n",
       "    <tr>\n",
       "      <th>2</th>\n",
       "      <td>4676</td>\n",
       "      <td>684</td>\n",
       "      <td>2013-08-29 15:49:00</td>\n",
       "      <td>65</td>\n",
       "      <td>2013-08-29 16:01:00</td>\n",
       "      <td>72</td>\n",
       "      <td>417</td>\n",
       "      <td>Subscriber</td>\n",
       "      <td>94109</td>\n",
       "      <td>11.400000</td>\n",
       "      <td>...</td>\n",
       "      <td>0.69</td>\n",
       "      <td>0.0</td>\n",
       "      <td>0.0</td>\n",
       "      <td>0.0</td>\n",
       "      <td>1017.12</td>\n",
       "      <td>69.64</td>\n",
       "      <td>2013-08-29 15:00:00</td>\n",
       "      <td>10.00</td>\n",
       "      <td>270.0</td>\n",
       "      <td>7.92</td>\n",
       "    </tr>\n",
       "  </tbody>\n",
       "</table>\n",
       "<p>3 rows × 37 columns</p>\n",
       "</div>"
      ],
      "text/plain": [
       "   trip_id  duration          start_date  start_station_id  \\\n",
       "0     4565      7148 2013-08-29 14:04:00                77   \n",
       "1     4672      1251 2013-08-29 15:44:00                50   \n",
       "2     4676       684 2013-08-29 15:49:00                65   \n",
       "\n",
       "             end_date  end_station_id  bike_id   user_type  user_zip  \\\n",
       "0 2013-08-29 16:03:00              72      437  Subscriber     94608   \n",
       "1 2013-08-29 16:05:00              70      583  Subscriber     94122   \n",
       "2 2013-08-29 16:01:00              72      417  Subscriber     94109   \n",
       "\n",
       "   duration_minutes    ...     humidity precipIntensity  precipProbability  \\\n",
       "0        119.133333    ...         0.72             0.0                0.0   \n",
       "1         20.850000    ...         0.67             0.0                0.0   \n",
       "2         11.400000    ...         0.69             0.0                0.0   \n",
       "\n",
       "   precipType pressure temperature       forecast_time  visibility  \\\n",
       "0         0.0  1017.25       68.31 2013-08-29 14:00:00        8.78   \n",
       "1         0.0  1016.68       70.61 2013-08-29 15:00:00       10.00   \n",
       "2         0.0  1017.12       69.64 2013-08-29 15:00:00       10.00   \n",
       "\n",
       "   windBearing  windSpeed  \n",
       "0        268.0       9.46  \n",
       "1        256.0       7.18  \n",
       "2        270.0       7.92  \n",
       "\n",
       "[3 rows x 37 columns]"
      ]
     },
     "execution_count": 8,
     "metadata": {},
     "output_type": "execute_result"
    }
   ],
   "source": [
    "evening_commutes.head(3)"
   ]
  },
  {
   "cell_type": "code",
   "execution_count": 9,
   "metadata": {},
   "outputs": [
    {
     "data": {
      "text/html": [
       "<div>\n",
       "<style scoped>\n",
       "    .dataframe tbody tr th:only-of-type {\n",
       "        vertical-align: middle;\n",
       "    }\n",
       "\n",
       "    .dataframe tbody tr th {\n",
       "        vertical-align: top;\n",
       "    }\n",
       "\n",
       "    .dataframe thead th {\n",
       "        text-align: right;\n",
       "    }\n",
       "</style>\n",
       "<table border=\"1\" class=\"dataframe\">\n",
       "  <thead>\n",
       "    <tr style=\"text-align: right;\">\n",
       "      <th></th>\n",
       "      <th>trip_id</th>\n",
       "      <th>duration</th>\n",
       "      <th>start_date</th>\n",
       "      <th>start_station_id</th>\n",
       "      <th>end_date</th>\n",
       "      <th>end_station_id</th>\n",
       "      <th>bike_id</th>\n",
       "      <th>user_type</th>\n",
       "      <th>user_zip</th>\n",
       "      <th>duration_minutes</th>\n",
       "      <th>...</th>\n",
       "      <th>humidity</th>\n",
       "      <th>precipIntensity</th>\n",
       "      <th>precipProbability</th>\n",
       "      <th>precipType</th>\n",
       "      <th>pressure</th>\n",
       "      <th>temperature</th>\n",
       "      <th>forecast_time</th>\n",
       "      <th>visibility</th>\n",
       "      <th>windBearing</th>\n",
       "      <th>windSpeed</th>\n",
       "    </tr>\n",
       "  </thead>\n",
       "  <tbody>\n",
       "    <tr>\n",
       "      <th>0</th>\n",
       "      <td>4069</td>\n",
       "      <td>174</td>\n",
       "      <td>2013-08-29 09:08:00</td>\n",
       "      <td>64</td>\n",
       "      <td>2013-08-29 09:11:00</td>\n",
       "      <td>64</td>\n",
       "      <td>288</td>\n",
       "      <td>Subscriber</td>\n",
       "      <td>94114</td>\n",
       "      <td>2.900000</td>\n",
       "      <td>...</td>\n",
       "      <td>0.92</td>\n",
       "      <td>0.0</td>\n",
       "      <td>0.0</td>\n",
       "      <td>0.0</td>\n",
       "      <td>1017.06</td>\n",
       "      <td>62.63</td>\n",
       "      <td>2013-08-29 09:00:00</td>\n",
       "      <td>10.0</td>\n",
       "      <td>183.0</td>\n",
       "      <td>0.7</td>\n",
       "    </tr>\n",
       "    <tr>\n",
       "      <th>1</th>\n",
       "      <td>4073</td>\n",
       "      <td>1067</td>\n",
       "      <td>2013-08-29 09:24:00</td>\n",
       "      <td>66</td>\n",
       "      <td>2013-08-29 09:42:00</td>\n",
       "      <td>69</td>\n",
       "      <td>321</td>\n",
       "      <td>Subscriber</td>\n",
       "      <td>94703</td>\n",
       "      <td>17.783333</td>\n",
       "      <td>...</td>\n",
       "      <td>0.91</td>\n",
       "      <td>0.0</td>\n",
       "      <td>0.0</td>\n",
       "      <td>0.0</td>\n",
       "      <td>1017.26</td>\n",
       "      <td>62.60</td>\n",
       "      <td>2013-08-29 09:00:00</td>\n",
       "      <td>10.0</td>\n",
       "      <td>241.0</td>\n",
       "      <td>1.0</td>\n",
       "    </tr>\n",
       "    <tr>\n",
       "      <th>2</th>\n",
       "      <td>4074</td>\n",
       "      <td>1131</td>\n",
       "      <td>2013-08-29 09:24:00</td>\n",
       "      <td>66</td>\n",
       "      <td>2013-08-29 09:43:00</td>\n",
       "      <td>69</td>\n",
       "      <td>317</td>\n",
       "      <td>Subscriber</td>\n",
       "      <td>94115</td>\n",
       "      <td>18.850000</td>\n",
       "      <td>...</td>\n",
       "      <td>0.91</td>\n",
       "      <td>0.0</td>\n",
       "      <td>0.0</td>\n",
       "      <td>0.0</td>\n",
       "      <td>1017.26</td>\n",
       "      <td>62.60</td>\n",
       "      <td>2013-08-29 09:00:00</td>\n",
       "      <td>10.0</td>\n",
       "      <td>241.0</td>\n",
       "      <td>1.0</td>\n",
       "    </tr>\n",
       "  </tbody>\n",
       "</table>\n",
       "<p>3 rows × 37 columns</p>\n",
       "</div>"
      ],
      "text/plain": [
       "   trip_id  duration          start_date  start_station_id  \\\n",
       "0     4069       174 2013-08-29 09:08:00                64   \n",
       "1     4073      1067 2013-08-29 09:24:00                66   \n",
       "2     4074      1131 2013-08-29 09:24:00                66   \n",
       "\n",
       "             end_date  end_station_id  bike_id   user_type  user_zip  \\\n",
       "0 2013-08-29 09:11:00              64      288  Subscriber     94114   \n",
       "1 2013-08-29 09:42:00              69      321  Subscriber     94703   \n",
       "2 2013-08-29 09:43:00              69      317  Subscriber     94115   \n",
       "\n",
       "   duration_minutes    ...     humidity precipIntensity  precipProbability  \\\n",
       "0          2.900000    ...         0.92             0.0                0.0   \n",
       "1         17.783333    ...         0.91             0.0                0.0   \n",
       "2         18.850000    ...         0.91             0.0                0.0   \n",
       "\n",
       "   precipType pressure temperature        forecast_time  visibility  \\\n",
       "0         0.0  1017.06       62.63  2013-08-29 09:00:00        10.0   \n",
       "1         0.0  1017.26       62.60  2013-08-29 09:00:00        10.0   \n",
       "2         0.0  1017.26       62.60  2013-08-29 09:00:00        10.0   \n",
       "\n",
       "   windBearing  windSpeed  \n",
       "0        183.0        0.7  \n",
       "1        241.0        1.0  \n",
       "2        241.0        1.0  \n",
       "\n",
       "[3 rows x 37 columns]"
      ]
     },
     "execution_count": 9,
     "metadata": {},
     "output_type": "execute_result"
    }
   ],
   "source": [
    "sf_trips.head(3)"
   ]
  },
  {
   "cell_type": "code",
   "execution_count": 10,
   "metadata": {},
   "outputs": [
    {
     "name": "stdout",
     "output_type": "stream",
     "text": [
      "317.309701 morning_commutes per day\n",
      "298.402760 evening_commutes per day\n",
      "810.777980 sf_trips per day\n"
     ]
    }
   ],
   "source": [
    "print('{:2.6f} morning_commutes per day'.format(morning_commutes.shape[0] / len(pd.unique(morning_commutes.start_date.dt.date))))\n",
    "print('{:2.6f} evening_commutes per day'.format(evening_commutes.shape[0] / len(pd.unique(evening_commutes.start_date.dt.date))))\n",
    "\n",
    "print('{:2.6f} sf_trips per day'.format(sf_trips.shape[0] / len(pd.unique(sf_trips.start_date.dt.date))))\n"
   ]
  },
  {
   "cell_type": "markdown",
   "metadata": {},
   "source": [
    "# Calculate traffic into and out of each station"
   ]
  },
  {
   "cell_type": "code",
   "execution_count": 89,
   "metadata": {
    "scrolled": true
   },
   "outputs": [],
   "source": [
    "def get_station_traffic(trips_df=None):\n",
    "    print('[{}] Calculating Traffic at each station from Trip Records'.format(datetime.datetime.now().time()))\n",
    "    \n",
    "    print('\\t[{}] collecting outbound traffic...'.format(datetime.datetime.now().time()))\n",
    "    outbound_traffic = trips_df.groupby(['start_station_id', 'start_date']).count()['trip_id'].to_frame()\n",
    "    outbound_traffic.reset_index(inplace=True)\n",
    "    outbound_traffic.columns = ['start_station_id', 'start_date', 'start_trip_count']\n",
    "#     print(outbound_traffic.head())\n",
    "\n",
    "    print('\\t[{}] collecting inbound traffic...'.format(datetime.datetime.now().time()))\n",
    "    inbound_traffic = trips_df.groupby(['end_station_id', 'end_date']).count()['trip_id'].to_frame()\n",
    "    inbound_traffic.reset_index(inplace=True)\n",
    "    inbound_traffic.columns = ['end_station_id', 'end_date', 'end_trip_count']\n",
    "#     print(inbound_traffic.head())\n",
    "\n",
    "    epoch = pd.to_datetime([1], unit='D')[0]\n",
    "\n",
    "    print('\\t[{}] Merging inbound and outbound traffic...'.format(datetime.datetime.now().time()))\n",
    "    traffic = inbound_traffic.merge(outbound_traffic, left_on=['end_station_id', 'end_date'], right_on=['start_station_id', 'start_date'], how='outer')\n",
    "\n",
    "    traffic['end_date'].fillna(epoch, inplace=True)\n",
    "    traffic['start_date'].fillna(epoch, inplace=True)\n",
    "\n",
    "    traffic.fillna(0, inplace=True)\n",
    "\n",
    "    print('\\t[{}] Merge cleanup...'.format(datetime.datetime.now().time()))\n",
    "    traffic['time'] = traffic.apply(lambda row: row.start_date if row.start_date > row.end_date else row.end_date, axis=1)\n",
    "    traffic['station_id'] = traffic.apply(lambda row: row.start_station_id if row.start_station_id > row.end_station_id else row.end_station_id, axis=1)\n",
    "    \n",
    "\n",
    "    \n",
    "    traffic = traffic[['time', 'station_id', 'start_trip_count', 'end_trip_count']].copy()\n",
    "\n",
    "\n",
    "    \n",
    "    traffic.sort_values(['station_id', 'time'], inplace=True)\n",
    "    traffic.reset_index(inplace=True, drop=True)\n",
    "    \n",
    "    traffic.set_index('time', inplace=True, drop=True)\n",
    "    \n",
    "    print('\\t[{}] Resampling by Minute...'.format(datetime.datetime.now().time()))\n",
    "    traffic = traffic.resample('1Min').max().fillna(0)\n",
    "    \n",
    "    \n",
    "    print('\\t[{}] Calculating Traffic Balance...'.format(datetime.datetime.now().time()))\n",
    "    traffic['balance'] = traffic.end_trip_count - traffic.start_trip_count\n",
    "    \n",
    "    print('\\t[{}] FInal Cleanup...'.format(datetime.datetime.now().time()))\n",
    "    traffic.station_id = traffic.station_id.astype('int')\n",
    "    traffic.start_trip_count = traffic.start_trip_count.astype('int')\n",
    "    traffic.end_trip_count = traffic.end_trip_count.astype('int')\n",
    "    traffic.balance = traffic.balance.astype('int')\n",
    "    traffic.columns = ['station_id', 'traffic_outbound', 'traffic_inbound', 'traffic_net']\n",
    "    \n",
    "    traffic = traffic[traffic.station_id > 0].copy()\n",
    "    \n",
    "    print('[{}] Done!'.format(datetime.datetime.now().time()))\n",
    "    return traffic"
   ]
  },
  {
   "cell_type": "code",
   "execution_count": null,
   "metadata": {
    "scrolled": false
   },
   "outputs": [
    {
     "name": "stdout",
     "output_type": "stream",
     "text": [
      "[20:52:25.482154] Calculating Traffic at each station from Trip Records\n",
      "\t[20:52:25.482369] collecting outbound traffic...\n",
      "\t[20:52:28.029847] collecting inbound traffic...\n",
      "\t[20:52:30.502572] Merging inbound and outbound traffic...\n",
      "\t[20:52:31.512866] Merge cleanup...\n"
     ]
    }
   ],
   "source": [
    "all_sf_traffic = get_station_traffic(trips_df=sf_trips)\n",
    "\n",
    "\n",
    "all_sf_traffic.to_csv('../clean_data/bayareabikeshare/all_sf_station_traffic.csv', encoding='utf-8')\n",
    "print('-' * 80)\n",
    "\n",
    "print('{:2.6f} all_sf_traffic.traffic_outbound.sum()'.format(all_sf_traffic.traffic_outbound.sum()))\n",
    "print('{:2.6f} all_sf_traffic.traffic_inbound.sum()'.format(all_sf_traffic.traffic_inbound.sum()))\n",
    "print('{:2.6f} all_sf_traffic.traffic_net.sum()'.format(all_sf_traffic.traffic_net.sum()))\n",
    "\n",
    "print('-' * 80)\n",
    "\n",
    "for sid in sorted(all_sf_traffic.station_id.unique()):\n",
    "    print('{}\\t{}\\t{}'.format(sid, all_sf_traffic[all_sf_traffic.station_id == sid].index[0], all_sf_traffic[all_sf_traffic.station_id == sid].index[-1]))\n",
    "\n",
    "\n",
    "print('-' * 80)\n",
    "\n",
    "\n",
    "for sid in sorted(all_sf_traffic.station_id.unique()):\n",
    "    print(sid)\n",
    "    station_stats = all_sf_traffic[all_sf_traffic.station_id == sid].copy()\n",
    "    for col in station_stats.columns[1:]:\n",
    "        print('{}{}'.format(col.ljust(20),station_stats[col].unique()))\n",
    "    print()"
   ]
  },
  {
   "cell_type": "code",
   "execution_count": 66,
   "metadata": {},
   "outputs": [
    {
     "name": "stdout",
     "output_type": "stream",
     "text": [
      "321379.000000 sf_traffic.balance.sum()\n",
      "563791.000000 sf_traffic.start_trip_count.sum()\n",
      "564373.000000 sf_traffic.end_trip_count.sum()\n",
      "321379.000000 sf_traffic.balance.sum()\n"
     ]
    }
   ],
   "source": []
  },
  {
   "cell_type": "code",
   "execution_count": null,
   "metadata": {},
   "outputs": [],
   "source": []
  },
  {
   "cell_type": "code",
   "execution_count": null,
   "metadata": {
    "scrolled": true
   },
   "outputs": [],
   "source": [
    "evening_commuter_traffic = get_station_traffic(trips_df=evening_commutes)\n",
    "evening_commuter_traffic.info()\n",
    "\n",
    "evening_commuter_traffic.to_csv('../clean_data/bayareabikeshare/evening_commuter_station_traffic.csv', encoding='utf-8')"
   ]
  },
  {
   "cell_type": "code",
   "execution_count": null,
   "metadata": {
    "scrolled": true
   },
   "outputs": [],
   "source": [
    "morning_commuter_traffic = get_station_traffic(trips_df=morning_commutes)\n",
    "morning_commuter_traffic.info()\n",
    "\n",
    "morning_commuter_traffic.to_csv('../clean_data/bayareabikeshare/morning_commuter_station_traffic.csv', encoding='utf-8')"
   ]
  },
  {
   "cell_type": "code",
   "execution_count": 16,
   "metadata": {
    "scrolled": false
   },
   "outputs": [
    {
     "data": {
      "image/png": "[encoded data removed]",
      "text/plain": [
       "<matplotlib.figure.Figure at 0x1a12217cc0>"
      ]
     },
     "metadata": {},
     "output_type": "display_data"
    },
    {
     "data": {
      "image/png": "[encoded data removed]",
      "text/plain": [
       "<matplotlib.figure.Figure at 0x1a289558d0>"
      ]
     },
     "metadata": {},
     "output_type": "display_data"
    },
    {
     "data": {
      "image/png": "[encoded data removed]",
      "text/plain": [
       "<matplotlib.figure.Figure at 0x1a43e16198>"
      ]
     },
     "metadata": {},
     "output_type": "display_data"
    },
    {
     "data": {
      "image/png": "[encoded data removed]",
      "text/plain": [
       "<matplotlib.figure.Figure at 0x1a139b1160>"
      ]
     },
     "metadata": {},
     "output_type": "display_data"
    },
    {
     "ename": "TypeError",
     "evalue": "Empty 'DataFrame': no numeric data to plot",
     "output_type": "error",
     "traceback": [
      "\u001b[0;31m---------------------------------------------------------------------------\u001b[0m",
      "\u001b[0;31mTypeError\u001b[0m                                 Traceback (most recent call last)",
      "\u001b[0;32m<ipython-input-16-db843d2d2541>\u001b[0m in \u001b[0;36m<module>\u001b[0;34m()\u001b[0m\n\u001b[1;32m      8\u001b[0m \u001b[0;34m\u001b[0m\u001b[0m\n\u001b[1;32m      9\u001b[0m     \u001b[0max\u001b[0m \u001b[0;34m=\u001b[0m \u001b[0mmorning_station_data\u001b[0m\u001b[0;34m.\u001b[0m\u001b[0mgroupby\u001b[0m\u001b[0;34m(\u001b[0m\u001b[0mmorning_station_data\u001b[0m\u001b[0;34m.\u001b[0m\u001b[0mindex\u001b[0m\u001b[0;34m.\u001b[0m\u001b[0mmonth\u001b[0m\u001b[0;34m)\u001b[0m\u001b[0;34m.\u001b[0m\u001b[0mbalance\u001b[0m\u001b[0;34m.\u001b[0m\u001b[0mcumsum\u001b[0m\u001b[0;34m(\u001b[0m\u001b[0;34m)\u001b[0m\u001b[0;34m.\u001b[0m\u001b[0mresample\u001b[0m\u001b[0;34m(\u001b[0m\u001b[0;34m'7D'\u001b[0m\u001b[0;34m)\u001b[0m\u001b[0;34m.\u001b[0m\u001b[0mmean\u001b[0m\u001b[0;34m(\u001b[0m\u001b[0;34m)\u001b[0m\u001b[0;34m.\u001b[0m\u001b[0mplot\u001b[0m\u001b[0;34m(\u001b[0m\u001b[0mfigsize\u001b[0m\u001b[0;34m=\u001b[0m\u001b[0mFIG_SIZE\u001b[0m\u001b[0;34m,\u001b[0m \u001b[0mcolor\u001b[0m\u001b[0;34m=\u001b[0m\u001b[0;34m'b'\u001b[0m\u001b[0;34m,\u001b[0m \u001b[0mlabel\u001b[0m\u001b[0;34m=\u001b[0m\u001b[0;34m'Morning Traffic'\u001b[0m\u001b[0;34m,\u001b[0m \u001b[0mlinestyle\u001b[0m\u001b[0;34m=\u001b[0m\u001b[0;34m'-'\u001b[0m\u001b[0;34m,\u001b[0m \u001b[0mmarker\u001b[0m\u001b[0;34m=\u001b[0m\u001b[0;34m''\u001b[0m\u001b[0;34m,\u001b[0m \u001b[0malpha\u001b[0m\u001b[0;34m=\u001b[0m\u001b[0;36m0.35\u001b[0m\u001b[0;34m)\u001b[0m\u001b[0;34m\u001b[0m\u001b[0m\n\u001b[0;32m---> 10\u001b[0;31m     \u001b[0mevening_station_data\u001b[0m\u001b[0;34m.\u001b[0m\u001b[0mgroupby\u001b[0m\u001b[0;34m(\u001b[0m\u001b[0mevening_station_data\u001b[0m\u001b[0;34m.\u001b[0m\u001b[0mindex\u001b[0m\u001b[0;34m.\u001b[0m\u001b[0mmonth\u001b[0m\u001b[0;34m)\u001b[0m\u001b[0;34m.\u001b[0m\u001b[0mbalance\u001b[0m\u001b[0;34m.\u001b[0m\u001b[0mcumsum\u001b[0m\u001b[0;34m(\u001b[0m\u001b[0;34m)\u001b[0m\u001b[0;34m.\u001b[0m\u001b[0mresample\u001b[0m\u001b[0;34m(\u001b[0m\u001b[0;34m'7D'\u001b[0m\u001b[0;34m)\u001b[0m\u001b[0;34m.\u001b[0m\u001b[0mmean\u001b[0m\u001b[0;34m(\u001b[0m\u001b[0;34m)\u001b[0m\u001b[0;34m.\u001b[0m\u001b[0mplot\u001b[0m\u001b[0;34m(\u001b[0m\u001b[0max\u001b[0m\u001b[0;34m=\u001b[0m\u001b[0max\u001b[0m\u001b[0;34m,\u001b[0m \u001b[0mcolor\u001b[0m\u001b[0;34m=\u001b[0m\u001b[0;34m'r'\u001b[0m\u001b[0;34m,\u001b[0m \u001b[0mlabel\u001b[0m\u001b[0;34m=\u001b[0m\u001b[0;34m'Evening Traffic'\u001b[0m\u001b[0;34m,\u001b[0m \u001b[0mlinestyle\u001b[0m\u001b[0;34m=\u001b[0m\u001b[0;34m'-'\u001b[0m\u001b[0;34m,\u001b[0m \u001b[0mmarker\u001b[0m\u001b[0;34m=\u001b[0m\u001b[0;34m''\u001b[0m\u001b[0;34m,\u001b[0m \u001b[0malpha\u001b[0m\u001b[0;34m=\u001b[0m\u001b[0;36m0.35\u001b[0m\u001b[0;34m)\u001b[0m\u001b[0;34m\u001b[0m\u001b[0m\n\u001b[0m\u001b[1;32m     11\u001b[0m     \u001b[0msf_station_data\u001b[0m\u001b[0;34m.\u001b[0m\u001b[0mgroupby\u001b[0m\u001b[0;34m(\u001b[0m\u001b[0msf_station_data\u001b[0m\u001b[0;34m.\u001b[0m\u001b[0mindex\u001b[0m\u001b[0;34m.\u001b[0m\u001b[0mmonth\u001b[0m\u001b[0;34m)\u001b[0m\u001b[0;34m.\u001b[0m\u001b[0mbalance\u001b[0m\u001b[0;34m.\u001b[0m\u001b[0mcumsum\u001b[0m\u001b[0;34m(\u001b[0m\u001b[0;34m)\u001b[0m\u001b[0;34m.\u001b[0m\u001b[0mresample\u001b[0m\u001b[0;34m(\u001b[0m\u001b[0;34m'7D'\u001b[0m\u001b[0;34m)\u001b[0m\u001b[0;34m.\u001b[0m\u001b[0mmean\u001b[0m\u001b[0;34m(\u001b[0m\u001b[0;34m)\u001b[0m\u001b[0;34m.\u001b[0m\u001b[0mplot\u001b[0m\u001b[0;34m(\u001b[0m\u001b[0max\u001b[0m\u001b[0;34m=\u001b[0m\u001b[0max\u001b[0m\u001b[0;34m,\u001b[0m \u001b[0mcolor\u001b[0m\u001b[0;34m=\u001b[0m\u001b[0;34m'g'\u001b[0m\u001b[0;34m,\u001b[0m \u001b[0mlabel\u001b[0m\u001b[0;34m=\u001b[0m\u001b[0;34m'All Traffic'\u001b[0m\u001b[0;34m,\u001b[0m \u001b[0mlinestyle\u001b[0m\u001b[0;34m=\u001b[0m\u001b[0;34m'-'\u001b[0m\u001b[0;34m,\u001b[0m \u001b[0mmarker\u001b[0m\u001b[0;34m=\u001b[0m\u001b[0;34m''\u001b[0m\u001b[0;34m,\u001b[0m \u001b[0malpha\u001b[0m\u001b[0;34m=\u001b[0m\u001b[0;36m0.75\u001b[0m\u001b[0;34m)\u001b[0m\u001b[0;34m\u001b[0m\u001b[0m\n\u001b[1;32m     12\u001b[0m \u001b[0;34m\u001b[0m\u001b[0m\n",
      "\u001b[0;32m~/anaconda/envs/spring/lib/python3.6/site-packages/pandas/plotting/_core.py\u001b[0m in \u001b[0;36m__call__\u001b[0;34m(self, kind, ax, figsize, use_index, title, grid, legend, style, logx, logy, loglog, xticks, yticks, xlim, ylim, rot, fontsize, colormap, table, yerr, xerr, label, secondary_y, **kwds)\u001b[0m\n\u001b[1;32m   2501\u001b[0m                            \u001b[0mcolormap\u001b[0m\u001b[0;34m=\u001b[0m\u001b[0mcolormap\u001b[0m\u001b[0;34m,\u001b[0m \u001b[0mtable\u001b[0m\u001b[0;34m=\u001b[0m\u001b[0mtable\u001b[0m\u001b[0;34m,\u001b[0m \u001b[0myerr\u001b[0m\u001b[0;34m=\u001b[0m\u001b[0myerr\u001b[0m\u001b[0;34m,\u001b[0m\u001b[0;34m\u001b[0m\u001b[0m\n\u001b[1;32m   2502\u001b[0m                            \u001b[0mxerr\u001b[0m\u001b[0;34m=\u001b[0m\u001b[0mxerr\u001b[0m\u001b[0;34m,\u001b[0m \u001b[0mlabel\u001b[0m\u001b[0;34m=\u001b[0m\u001b[0mlabel\u001b[0m\u001b[0;34m,\u001b[0m \u001b[0msecondary_y\u001b[0m\u001b[0;34m=\u001b[0m\u001b[0msecondary_y\u001b[0m\u001b[0;34m,\u001b[0m\u001b[0;34m\u001b[0m\u001b[0m\n\u001b[0;32m-> 2503\u001b[0;31m                            **kwds)\n\u001b[0m\u001b[1;32m   2504\u001b[0m     \u001b[0m__call__\u001b[0m\u001b[0;34m.\u001b[0m\u001b[0m__doc__\u001b[0m \u001b[0;34m=\u001b[0m \u001b[0mplot_series\u001b[0m\u001b[0;34m.\u001b[0m\u001b[0m__doc__\u001b[0m\u001b[0;34m\u001b[0m\u001b[0m\n\u001b[1;32m   2505\u001b[0m \u001b[0;34m\u001b[0m\u001b[0m\n",
      "\u001b[0;32m~/anaconda/envs/spring/lib/python3.6/site-packages/pandas/plotting/_core.py\u001b[0m in \u001b[0;36mplot_series\u001b[0;34m(data, kind, ax, figsize, use_index, title, grid, legend, style, logx, logy, loglog, xticks, yticks, xlim, ylim, rot, fontsize, colormap, table, yerr, xerr, label, secondary_y, **kwds)\u001b[0m\n\u001b[1;32m   1925\u001b[0m                  \u001b[0myerr\u001b[0m\u001b[0;34m=\u001b[0m\u001b[0myerr\u001b[0m\u001b[0;34m,\u001b[0m \u001b[0mxerr\u001b[0m\u001b[0;34m=\u001b[0m\u001b[0mxerr\u001b[0m\u001b[0;34m,\u001b[0m\u001b[0;34m\u001b[0m\u001b[0m\n\u001b[1;32m   1926\u001b[0m                  \u001b[0mlabel\u001b[0m\u001b[0;34m=\u001b[0m\u001b[0mlabel\u001b[0m\u001b[0;34m,\u001b[0m \u001b[0msecondary_y\u001b[0m\u001b[0;34m=\u001b[0m\u001b[0msecondary_y\u001b[0m\u001b[0;34m,\u001b[0m\u001b[0;34m\u001b[0m\u001b[0m\n\u001b[0;32m-> 1927\u001b[0;31m                  **kwds)\n\u001b[0m\u001b[1;32m   1928\u001b[0m \u001b[0;34m\u001b[0m\u001b[0m\n\u001b[1;32m   1929\u001b[0m \u001b[0;34m\u001b[0m\u001b[0m\n",
      "\u001b[0;32m~/anaconda/envs/spring/lib/python3.6/site-packages/pandas/plotting/_core.py\u001b[0m in \u001b[0;36m_plot\u001b[0;34m(data, x, y, subplots, ax, kind, **kwds)\u001b[0m\n\u001b[1;32m   1727\u001b[0m         \u001b[0mplot_obj\u001b[0m \u001b[0;34m=\u001b[0m \u001b[0mklass\u001b[0m\u001b[0;34m(\u001b[0m\u001b[0mdata\u001b[0m\u001b[0;34m,\u001b[0m \u001b[0msubplots\u001b[0m\u001b[0;34m=\u001b[0m\u001b[0msubplots\u001b[0m\u001b[0;34m,\u001b[0m \u001b[0max\u001b[0m\u001b[0;34m=\u001b[0m\u001b[0max\u001b[0m\u001b[0;34m,\u001b[0m \u001b[0mkind\u001b[0m\u001b[0;34m=\u001b[0m\u001b[0mkind\u001b[0m\u001b[0;34m,\u001b[0m \u001b[0;34m**\u001b[0m\u001b[0mkwds\u001b[0m\u001b[0;34m)\u001b[0m\u001b[0;34m\u001b[0m\u001b[0m\n\u001b[1;32m   1728\u001b[0m \u001b[0;34m\u001b[0m\u001b[0m\n\u001b[0;32m-> 1729\u001b[0;31m     \u001b[0mplot_obj\u001b[0m\u001b[0;34m.\u001b[0m\u001b[0mgenerate\u001b[0m\u001b[0;34m(\u001b[0m\u001b[0;34m)\u001b[0m\u001b[0;34m\u001b[0m\u001b[0m\n\u001b[0m\u001b[1;32m   1730\u001b[0m     \u001b[0mplot_obj\u001b[0m\u001b[0;34m.\u001b[0m\u001b[0mdraw\u001b[0m\u001b[0;34m(\u001b[0m\u001b[0;34m)\u001b[0m\u001b[0;34m\u001b[0m\u001b[0m\n\u001b[1;32m   1731\u001b[0m     \u001b[0;32mreturn\u001b[0m \u001b[0mplot_obj\u001b[0m\u001b[0;34m.\u001b[0m\u001b[0mresult\u001b[0m\u001b[0;34m\u001b[0m\u001b[0m\n",
      "\u001b[0;32m~/anaconda/envs/spring/lib/python3.6/site-packages/pandas/plotting/_core.py\u001b[0m in \u001b[0;36mgenerate\u001b[0;34m(self)\u001b[0m\n\u001b[1;32m    248\u001b[0m     \u001b[0;32mdef\u001b[0m \u001b[0mgenerate\u001b[0m\u001b[0;34m(\u001b[0m\u001b[0mself\u001b[0m\u001b[0;34m)\u001b[0m\u001b[0;34m:\u001b[0m\u001b[0;34m\u001b[0m\u001b[0m\n\u001b[1;32m    249\u001b[0m         \u001b[0mself\u001b[0m\u001b[0;34m.\u001b[0m\u001b[0m_args_adjust\u001b[0m\u001b[0;34m(\u001b[0m\u001b[0;34m)\u001b[0m\u001b[0;34m\u001b[0m\u001b[0m\n\u001b[0;32m--> 250\u001b[0;31m         \u001b[0mself\u001b[0m\u001b[0;34m.\u001b[0m\u001b[0m_compute_plot_data\u001b[0m\u001b[0;34m(\u001b[0m\u001b[0;34m)\u001b[0m\u001b[0;34m\u001b[0m\u001b[0m\n\u001b[0m\u001b[1;32m    251\u001b[0m         \u001b[0mself\u001b[0m\u001b[0;34m.\u001b[0m\u001b[0m_setup_subplots\u001b[0m\u001b[0;34m(\u001b[0m\u001b[0;34m)\u001b[0m\u001b[0;34m\u001b[0m\u001b[0m\n\u001b[1;32m    252\u001b[0m         \u001b[0mself\u001b[0m\u001b[0;34m.\u001b[0m\u001b[0m_make_plot\u001b[0m\u001b[0;34m(\u001b[0m\u001b[0;34m)\u001b[0m\u001b[0;34m\u001b[0m\u001b[0m\n",
      "\u001b[0;32m~/anaconda/envs/spring/lib/python3.6/site-packages/pandas/plotting/_core.py\u001b[0m in \u001b[0;36m_compute_plot_data\u001b[0;34m(self)\u001b[0m\n\u001b[1;32m    363\u001b[0m         \u001b[0;32mif\u001b[0m \u001b[0mis_empty\u001b[0m\u001b[0;34m:\u001b[0m\u001b[0;34m\u001b[0m\u001b[0m\n\u001b[1;32m    364\u001b[0m             raise TypeError('Empty {0!r}: no numeric data to '\n\u001b[0;32m--> 365\u001b[0;31m                             'plot'.format(numeric_data.__class__.__name__))\n\u001b[0m\u001b[1;32m    366\u001b[0m \u001b[0;34m\u001b[0m\u001b[0m\n\u001b[1;32m    367\u001b[0m         \u001b[0mself\u001b[0m\u001b[0;34m.\u001b[0m\u001b[0mdata\u001b[0m \u001b[0;34m=\u001b[0m \u001b[0mnumeric_data\u001b[0m\u001b[0;34m\u001b[0m\u001b[0m\n",
      "\u001b[0;31mTypeError\u001b[0m: Empty 'DataFrame': no numeric data to plot"
     ]
    },
    {
     "data": {
      "image/png": "[encoded data removed]",
      "text/plain": [
       "<matplotlib.figure.Figure at 0x1a1396a588>"
      ]
     },
     "metadata": {},
     "output_type": "display_data"
    }
   ],
   "source": [
    "for sid in sorted(sf_traffic.station_id.unique())[:5]:\n",
    "    \n",
    "#     data = station_balance[station_balance.station == sid].copy()\n",
    "    morning_station_data = morning_commuter_traffic[morning_commuter_traffic.station_id == sid].copy()\n",
    "    evening_station_data = evening_commuter_traffic[evening_commuter_traffic.station_id == sid].copy()\n",
    "    sf_station_data = sf_traffic[sf_traffic.station_id == sid].copy()\n",
    "    \n",
    "    \n",
    "    ax = morning_station_data.groupby(morning_station_data.index.month).balance.cumsum().resample('7D').mean().plot(figsize=FIG_SIZE, color='b', label='Morning Traffic', linestyle='-', marker='', alpha=0.35)\n",
    "    evening_station_data.groupby(evening_station_data.index.month).balance.cumsum().resample('7D').mean().plot(ax=ax, color='r', label='Evening Traffic', linestyle='-', marker='', alpha=0.35)\n",
    "    sf_station_data.groupby(sf_station_data.index.month).balance.cumsum().resample('7D').mean().plot(ax=ax, color='g', label='All Traffic', linestyle='-', marker='', alpha=0.75)\n",
    "    \n",
    "\n",
    "    ax.set_title('Station %s Balance' % (sid))\n",
    "    ax.legend(loc='best', frameon=True)\n",
    "    plt.show()\n",
    "    plt.close()"
   ]
  },
  {
   "cell_type": "markdown",
   "metadata": {},
   "source": [
    "# Plotting Trip Destinations and Originations for Each Station \n",
    "<p>Largest Negative Inbalance, where is everyone going?</p>"
   ]
  },
  {
   "cell_type": "code",
   "execution_count": null,
   "metadata": {},
   "outputs": [],
   "source": [
    "def plot_terminal_connections_outbound(df=None, start_term=70, prefix=''):\n",
    "    \n",
    "    df = df[df.start_terminal == start_term].copy()\n",
    "    \n",
    "    ax = df.groupby(['end_terminal']).count()['trip_id'].plot(kind='bar', figsize=(24,6), color='b', alpha=0.35)\n",
    "    title = '%s Destinations from Station %s' % (prefix, start_term)\n",
    "    \n",
    "    ax.set_xlabel('Destination Station')\n",
    "    ax.set_ylabel('Number of Trips')\n",
    "    ax.set_title(title, size=TITLE_FONT_SIZE)\n",
    "    file_name = '../charts/balancing/connections/outbound_%s' % title.replace(' ', '_')\n",
    "    plt.savefig(file_name)\n",
    "    plt.show()\n",
    "\n",
    "def plot_terminal_connections_inbound(df=None, end_term=70, prefix=''):\n",
    "\n",
    "    df = df[df.end_terminal == end_term].copy()\n",
    "    ax = df.groupby(['start_terminal']).count()['trip_id'].plot(kind='bar', figsize=(24,6), color='b', alpha=0.35)\n",
    "    title = '%s Origins to Station %s' % (prefix, end_term)\n",
    "    \n",
    "    ax.set_xlabel('Origin Station')\n",
    "    ax.set_ylabel('Number of Trips')\n",
    "    ax.set_title(title, size=TITLE_FONT_SIZE)\n",
    "    file_name = '../charts/balancing/connections/inbound_%s' % title.replace(' ', '_')\n",
    "    plt.savefig(file_name)\n",
    "    plt.show()"
   ]
  },
  {
   "cell_type": "code",
   "execution_count": null,
   "metadata": {},
   "outputs": [],
   "source": [
    "def plot_hourly_inbound_outbound(df=None, terminal=70, suffix='', alpha=0.35):\n",
    "    \n",
    "    title = 'Station %s Hourly %s Traffic' % (terminal, suffix)\n",
    "    title = title.strip()\n",
    "    \n",
    "    # count hourly trips to this terminal\n",
    "    inbound = df[df.end_terminal == terminal]\n",
    "    inbound_hourly = inbound.groupby(inbound.end_date.dt.hour).count()['trip_id'].to_frame()\n",
    "    inbound_hourly.columns = ['inbound_hourly']\n",
    "    \n",
    "    outbound = df[df.start_terminal == terminal]\n",
    "    outbound_hourly = outbound.groupby(outbound.start_date.dt.hour).count()['trip_id'].to_frame()\n",
    "    outbound_hourly.columns = ['outbound_hourly']\n",
    "    \n",
    "    hourly_traffic = inbound_hourly.merge(outbound_hourly, left_index=True, right_index=True, how='outer')\n",
    "\n",
    "    # fill in missing index\n",
    "    new_index = pd.Index(range(0, 24, 1), name='ID')\n",
    "    hourly_traffic = hourly_traffic.reindex(new_index)\n",
    "    hourly_traffic.fillna(0, inplace=True)\n",
    "\n",
    "    plt.subplots(figsize=(24,6))\n",
    "    ax = sns.barplot(x=hourly_traffic.index, y=hourly_traffic.inbound_hourly, color='b', alpha=alpha, label='inbound')\n",
    "    sns.barplot(x=hourly_traffic.index, y=hourly_traffic.outbound_hourly, ax=ax, color='r', alpha=alpha, label='outbound')\n",
    "    \n",
    "    plt.title(title, size=TITLE_FONT_SIZE)\n",
    "    plt.legend(loc=1, frameon=True)\n",
    "    ax.set_xlabel('Hour', size=LABEL_FONT_SIZE)\n",
    "    ax.set_ylabel('Total Trips', size=LABEL_FONT_SIZE)\n",
    "    \n",
    "    file_name = '../charts/balancing/hourly/%s' % title.replace(' ', '_')\n",
    "    plt.savefig(file_name)\n",
    "    \n",
    "    # be memory effecient, close the figure once we are done with it\n",
    "    plt.close('all')"
   ]
  },
  {
   "cell_type": "code",
   "execution_count": null,
   "metadata": {},
   "outputs": [],
   "source": [
    "subscriber_trips = trips[trips.user_type == 'Subscriber'].copy()\n",
    "customer_trips = trips[trips.user_type == 'Customer'].copy()"
   ]
  },
  {
   "cell_type": "markdown",
   "metadata": {},
   "source": [
    "## Plot Hourly Traffic at each Station"
   ]
  },
  {
   "cell_type": "code",
   "execution_count": null,
   "metadata": {
    "scrolled": true
   },
   "outputs": [],
   "source": [
    "for terminal in sorted(trips.start_terminal.unique()):\n",
    "    plot_hourly_inbound_outbound(terminal=terminal, df=subscriber_trips, suffix='Subscribers')\n",
    "    plot_hourly_inbound_outbound(terminal=terminal, df=subscriber_trips[subscriber_trips.start_date.dt.dayofweek < 5], suffix='Subscribers Weekday')\n",
    "    plot_hourly_inbound_outbound(terminal=terminal, df=subscriber_trips[subscriber_trips.start_date.dt.dayofweek >= 5], suffix='Subscribers Weekend')\n",
    "    plot_hourly_inbound_outbound(terminal=terminal, df=customer_trips, suffix='Customers')"
   ]
  },
  {
   "cell_type": "markdown",
   "metadata": {},
   "source": [
    "# Weekly Traffic Patterns"
   ]
  },
  {
   "cell_type": "code",
   "execution_count": null,
   "metadata": {},
   "outputs": [],
   "source": [
    "def plot_weekly_inbound_outbound(df=None, terminals=[70], suffix='', title='', alpha=0.35):\n",
    "    if title == '':\n",
    "        terminal_titles = ' '.join([str(x) for x in terminals])\n",
    "        title = 'Station %s Weekly %s Traffic' % (terminal_titles, suffix)\n",
    "        title = title.replace('  ', ' ').replace(\"'\", '')\n",
    "        title = title.strip()\n",
    "    else:\n",
    "        title = title\n",
    "        \n",
    "    #--------------------------------------------------------------------------------\n",
    "    #   count weekly and hourly trips at specified terminal\n",
    "    #--------------------------------------------------------------------------------\n",
    "#     inbound = df[df.end_terminal == terminal]\n",
    "    inbound = df[df.end_terminal.isin(terminals)]\n",
    "    inbound_hourly = inbound.groupby([inbound.end_date.dt.dayofweek, inbound.end_date.dt.hour]).count()['trip_id'].to_frame()\n",
    "    inbound_hourly.columns = ['inbound_hourly']\n",
    "    inbound_hourly.index.names = ['dayofweek', 'hour']\n",
    "\n",
    "#     outbound = df[df.start_terminal == terminal]\n",
    "    outbound = df[df.start_terminal.isin(terminals)]\n",
    "    outbound_hourly = outbound.groupby([outbound.start_date.dt.dayofweek, outbound.start_date.dt.hour]).count()['trip_id'].to_frame()\n",
    "    outbound_hourly.columns = ['outbound_hourly']\n",
    "    outbound_hourly.index.names = ['dayofweek', 'hour']\n",
    "    \n",
    "    hourly_influx = inbound_hourly.merge(outbound_hourly, left_index=True, right_index=True, how='outer')\n",
    "    hourly_influx.reset_index(inplace=True)\n",
    "    \n",
    "    hourly_influx['ID'] = (hourly_influx.dayofweek * 24) + hourly_influx.hour\n",
    "    weekly_traffic = hourly_influx.copy()\n",
    "    \n",
    "    # fill in missing index\n",
    "    new_index = pd.Index(range(0, 24*7, 1), name='ID')\n",
    "    weekly_traffic = weekly_traffic.set_index('ID').reindex(new_index)\n",
    "    weekly_traffic.fillna(0, inplace=True)\n",
    "\n",
    "    \n",
    "    #--------------------------------------------------------------------------------\n",
    "    #   plotting\n",
    "    #--------------------------------------------------------------------------------\n",
    "    plt.subplots(figsize=(24,6))\n",
    "    ax = sns.barplot(x=weekly_traffic.index, y=weekly_traffic.inbound_hourly, color='b', alpha=alpha, label='inbound')\n",
    "    sns.barplot(x=weekly_traffic.index, y=weekly_traffic.outbound_hourly, ax=ax, color='r', alpha=alpha, label='outbound')\n",
    "    \n",
    "    plt.title(title, size=TITLE_FONT_SIZE)\n",
    "    plt.legend(loc=1, frameon=True)\n",
    "    \n",
    "    ax.set_xticks([x*24+13 for x in range(0, 7, 1)])\n",
    "    ax.set_xticklabels(day_labels_full)\n",
    "    for vline in [x*24 for x in range(1, 7, 1)]:\n",
    "        ax.axvline(x=vline, linestyle=':', color='k', alpha=0.5)\n",
    "    ax.set_xlabel('Hour', size=LABEL_FONT_SIZE)\n",
    "    ax.set_ylabel('Total Trips', size=LABEL_FONT_SIZE)\n",
    "#     plt.show()\n",
    "    file_name = '../charts/balancing/weekly/%s' % title.replace(' ', '_')\n",
    "    plt.savefig(file_name)\n",
    "    \n",
    "    # be memory effecient, close the figure once we are done with it\n",
    "    plt.close('all')\n",
    "    print('Finished %s' % title)"
   ]
  },
  {
   "cell_type": "markdown",
   "metadata": {},
   "source": [
    "## Plot Weekly Traffic at each Station"
   ]
  },
  {
   "cell_type": "code",
   "execution_count": null,
   "metadata": {
    "scrolled": true
   },
   "outputs": [],
   "source": [
    "for terminal in sorted(trips.start_terminal.unique()):\n",
    "    plot_weekly_inbound_outbound(terminals=[terminal], df=trips, suffix='', title='')"
   ]
  },
  {
   "cell_type": "markdown",
   "metadata": {},
   "source": [
    "## Plot Hourly Traffic at Caltrain 'Super Station'\n",
    "<p>Stations 69 and 70 are across the street from each other and the most popular stations in the program</p>\n",
    "<p>Plot weekly traffic as if they were a sigle station</p>"
   ]
  },
  {
   "cell_type": "code",
   "execution_count": null,
   "metadata": {},
   "outputs": [],
   "source": [
    "plot_weekly_inbound_outbound(terminals=[69, 70], df=trips, suffix='', title='Caltrain \\'Super Station\\' Weekly Traffic')"
   ]
  },
  {
   "cell_type": "code",
   "execution_count": null,
   "metadata": {
    "scrolled": true
   },
   "outputs": [],
   "source": [
    "\n",
    "plot_terminal_connections_outbound(df=subscriber_trips, start_term=56, prefix='Subscriber')\n",
    "plot_terminal_connections_outbound(df=customer_trips, start_term=56, prefix='Customer')"
   ]
  },
  {
   "cell_type": "code",
   "execution_count": null,
   "metadata": {
    "scrolled": true
   },
   "outputs": [],
   "source": [
    "plot_terminal_connections_inbound(df=subscriber_trips, end_term=56, prefix='Subscriber')"
   ]
  },
  {
   "cell_type": "markdown",
   "metadata": {},
   "source": [
    "# MOST POPULAR INBOUND ROUTES FOR EACH STATION"
   ]
  },
  {
   "cell_type": "code",
   "execution_count": null,
   "metadata": {
    "scrolled": true
   },
   "outputs": [],
   "source": [
    "for eid in sorted(subscriber_trips.end_terminal.unique()):\n",
    "    \n",
    "    plot_terminal_connections_inbound(df=subscriber_trips, end_term=eid, prefix='Subscriber')"
   ]
  },
  {
   "cell_type": "markdown",
   "metadata": {},
   "source": [
    "# MOST POPULAR OUTBOUND ROUTES FOR EACH STATION"
   ]
  },
  {
   "cell_type": "code",
   "execution_count": null,
   "metadata": {
    "scrolled": true
   },
   "outputs": [],
   "source": [
    "for sid in sorted(subscriber_trips.start_terminal.unique()):\n",
    "    \n",
    "    plot_terminal_connections_outbound(df=subscriber_trips, start_term=sid, prefix='Subscriber')"
   ]
  },
  {
   "cell_type": "code",
   "execution_count": null,
   "metadata": {},
   "outputs": [],
   "source": []
  },
  {
   "cell_type": "code",
   "execution_count": null,
   "metadata": {},
   "outputs": [],
   "source": []
  },
  {
   "cell_type": "code",
   "execution_count": null,
   "metadata": {},
   "outputs": [],
   "source": []
  },
  {
   "cell_type": "code",
   "execution_count": null,
   "metadata": {},
   "outputs": [],
   "source": []
  },
  {
   "cell_type": "code",
   "execution_count": null,
   "metadata": {},
   "outputs": [],
   "source": []
  },
  {
   "cell_type": "code",
   "execution_count": null,
   "metadata": {},
   "outputs": [],
   "source": []
  },
  {
   "cell_type": "markdown",
   "metadata": {},
   "source": [
    "## Status Data"
   ]
  },
  {
   "cell_type": "code",
   "execution_count": null,
   "metadata": {},
   "outputs": [],
   "source": [
    "print('[%s] Loading Status Data...' % datetime.datetime.now().time())\n",
    "\n",
    "status_df = pd.DataFrame()\n",
    "data_file = '../clean_data/bayareabikeshare/status_data_cleaned.csv'\n",
    "\n",
    "# Chunk Settings\n",
    "chunks = []\n",
    "chunk_counter = 1\n",
    "chunksize = 10000\n",
    "num_chunks = math.ceil(sum(1 for row in open(data_file, 'r'))/chunksize)\n",
    "\n",
    "# import file in chunks\n",
    "for chunk in pd.read_csv(data_file, chunksize=chunksize, iterator=True, index_col=0, parse_dates=['time']):\n",
    "    \n",
    "    # prune chunks\n",
    "    chunk = chunk[chunk.station_id.isin(pop_commuter_stations)]\n",
    "    \n",
    "    # append chunk to chunks list\n",
    "    chunks.append(chunk)\n",
    "\n",
    "    if chunk_counter == 1 or chunk_counter % math.ceil(num_chunks/10) == 0 or chunk_counter == num_chunks:\n",
    "        print('\\t\\t[%s] finished chunk %s of %s' % (datetime.datetime.now().time(), chunk_counter, num_chunks))\n",
    "    chunk_counter += 1\n",
    "\n",
    "status_df = pd.concat(chunks)\n",
    "# trips_df.user_type = trips_df.user_type.astype('category')\n",
    "\n",
    "status_df.drop_duplicates(inplace=True)\n",
    "status_df.dock_count = status_df.dock_count.astype('int')\n",
    "status_df.zip_code   = status_df.zip_code.astype('int')\n",
    "\n",
    "status_df.reset_index(inplace=True, drop=True)\n",
    "\n",
    "print('[%s] Complete!' % datetime.datetime.now().time())"
   ]
  },
  {
   "cell_type": "code",
   "execution_count": null,
   "metadata": {},
   "outputs": [],
   "source": [
    "status_df.info()"
   ]
  },
  {
   "cell_type": "code",
   "execution_count": null,
   "metadata": {},
   "outputs": [],
   "source": [
    "status_df.head(3)"
   ]
  },
  {
   "cell_type": "code",
   "execution_count": null,
   "metadata": {
    "scrolled": false
   },
   "outputs": [],
   "source": [
    "s70_status = status_df[status_df.station_id == 70].copy()\n",
    "\n",
    "s70_status.sort_values('time', inplace=True)\n",
    "s70_status.reset_index(inplace=True, drop=True)\n",
    "s70_status.set_index('time', inplace=True)\n",
    "\n",
    "\n",
    "s70_status['bike_avail_diff'] = s70_status.bikes_available - s70_status.bikes_available.shift(1)\n",
    "s70_status.fillna(0, inplace=True)\n",
    "\n",
    "s70_status.head(20)"
   ]
  },
  {
   "cell_type": "code",
   "execution_count": null,
   "metadata": {},
   "outputs": [],
   "source": [
    "ax = s70_status.groupby([s70_status.index.dayofyear]).max().bike_avail_diff.plot(figsize=(24,6), color='b', label='Max Difference')\n",
    "s70_status.groupby([s70_status.index.dayofyear]).min().bike_avail_diff.plot(ax=ax, color='r', label='Min Difference')\n",
    "s70_status.groupby([s70_status.index.dayofyear]).mean().bike_avail_diff.plot(ax=ax, color='g', label='Mean Difference')\n",
    "s70_status.groupby([s70_status.index.dayofyear]).median().bike_avail_diff.plot(ax=ax, color='c', label='Median Difference')\n",
    "\n",
    "ax.set_title('Change in Reported Number of Available Bikes')\n",
    "ax.legend(loc=2, frameon=True)\n",
    "plt.show()"
   ]
  },
  {
   "cell_type": "code",
   "execution_count": null,
   "metadata": {},
   "outputs": [],
   "source": [
    "ax = s70_status.groupby([s70_status.index.date]).max().bike_avail_diff.plot(figsize=(24,6), color='b', label='Max Difference')\n",
    "s70_status.groupby([s70_status.index.date]).min().bike_avail_diff.plot(ax=ax, color='r', label='Min Difference')\n",
    "\n",
    "ax.set_title('Change in Reported Number of Available Bikes')\n",
    "ax.legend(loc=2, frameon=True)\n",
    "plt.show()"
   ]
  },
  {
   "cell_type": "code",
   "execution_count": null,
   "metadata": {},
   "outputs": [],
   "source": [
    "s70_balance = station_balance[station_balance.terminal == 70].copy()\n",
    "s70_balance.head(3)"
   ]
  },
  {
   "cell_type": "code",
   "execution_count": null,
   "metadata": {},
   "outputs": [],
   "source": [
    "s70_status.head(3)"
   ]
  },
  {
   "cell_type": "code",
   "execution_count": null,
   "metadata": {},
   "outputs": [],
   "source": [
    "s70_status_diff = s70_status[['bike_avail_diff']].copy()\n",
    "s70_status_diff.reset_index(inplace=True)\n",
    "s70_status_diff.head()"
   ]
  },
  {
   "cell_type": "code",
   "execution_count": null,
   "metadata": {},
   "outputs": [],
   "source": [
    "s70_trip_diff = s70_balance[['time', 'balance']].copy()\n",
    "s70_trip_diff.reset_index(inplace=True, drop=True)\n",
    "s70_trip_diff.fillna(0, inplace=True)\n",
    "s70_trip_diff.head()"
   ]
  },
  {
   "cell_type": "code",
   "execution_count": null,
   "metadata": {},
   "outputs": [],
   "source": [
    "s70_merge = s70_status_diff.merge(s70_trip_diff, left_on='time', right_on='time', how='left')\n",
    "s70_merge.fillna(0, inplace=True)\n",
    "\n",
    "s70_merge.columns = ['time', 'status_diff', 'trip_diff']\n",
    "s70_merge.drop_duplicates(inplace=True)\n",
    "s70_merge.set_index('time', inplace=True)\n",
    "\n",
    "s70_merge['ALT'] = s70_merge.status_diff - s70_merge.trip_diff.shift(1)\n",
    "\n",
    "s70_merge.head(30)"
   ]
  },
  {
   "cell_type": "code",
   "execution_count": null,
   "metadata": {
    "scrolled": false
   },
   "outputs": [],
   "source": [
    "s70_merge.groupby([s70_merge.index.dayofweek, s70_merge.index.hour]).sum().ALT.plot(kind='bar', figsize=(36,6))\n",
    "plt.title('Number of Trips Arriving - Reported Increase in Available Bikes')\n",
    "plt.show()"
   ]
  },
  {
   "cell_type": "code",
   "execution_count": null,
   "metadata": {},
   "outputs": [],
   "source": []
  },
  {
   "cell_type": "code",
   "execution_count": null,
   "metadata": {},
   "outputs": [],
   "source": []
  },
  {
   "cell_type": "code",
   "execution_count": null,
   "metadata": {},
   "outputs": [],
   "source": []
  },
  {
   "cell_type": "code",
   "execution_count": null,
   "metadata": {},
   "outputs": [],
   "source": []
  }
 ],
 "metadata": {
  "kernelspec": {
   "display_name": "Python 3",
   "language": "python",
   "name": "python3"
  },
  "language_info": {
   "codemirror_mode": {
    "name": "ipython",
    "version": 3
   },
   "file_extension": ".py",
   "mimetype": "text/x-python",
   "name": "python",
   "nbconvert_exporter": "python",
   "pygments_lexer": "ipython3",
   "version": "3.6.3"
  }
 },
 "nbformat": 4,
 "nbformat_minor": 2
}
