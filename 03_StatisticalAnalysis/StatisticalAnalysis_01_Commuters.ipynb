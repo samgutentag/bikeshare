{
 "cells": [
  {
   "cell_type": "markdown",
   "metadata": {},
   "source": [
    "# Statistical Analysis of Bay Area Bike Share Data"
   ]
  },
  {
   "cell_type": "markdown",
   "metadata": {},
   "source": [
    "> From our initial Visual Exploratory Data Analysis on the Bay Area BIke Share dataset, we inferred that the vast majority of the trips are taken by cummuters, who are subscribers.\n",
    ">\n",
    "> We will also be retaining from previous analysis that we only need concern ourselves with trips no more than 60 minutes in duration\n",
    ">\n",
    "> Predicting ridership appears pretty easy, commuters need to commute, and customers seem to be mostly starting or ending their trips at propular tourist destinations.\n",
    ">\n",
    "> <b>1</b> Are Customer or Subscriber trip counts affected by Rain?\n",
    "> \n",
    "> <b>2</b> Are Customer or Subscriber trip counts affected by Hot or Cold Temperatures?"
   ]
  },
  {
   "cell_type": "code",
   "execution_count": 1,
   "metadata": {},
   "outputs": [],
   "source": [
    "%matplotlib inline\n",
    "\n",
    "import matplotlib\n",
    "import numpy as np\n",
    "from scipy import stats\n",
    "import math\n",
    "import matplotlib.pyplot as plt\n",
    "import pandas as pd\n",
    "import datetime\n",
    "from glob import glob\n",
    "\n",
    "import seaborn as sns\n",
    "# sns.set()\n",
    "sns.set_style('whitegrid')\n",
    "sns.set_context(\"poster\")"
   ]
  },
  {
   "cell_type": "code",
   "execution_count": 2,
   "metadata": {},
   "outputs": [
    {
     "data": {
      "text/html": [
       "<style>.container { width:95% !important; }</style>"
      ],
      "text/plain": [
       "<IPython.core.display.HTML object>"
      ]
     },
     "metadata": {},
     "output_type": "display_data"
    }
   ],
   "source": [
    "from IPython.core.display import display, HTML\n",
    "display(HTML(\"<style>.container { width:95% !important; }</style>\"))\n",
    "\n",
    "font = {'size'   : 50}\n",
    "matplotlib.rc('font', **font)\n",
    "\n",
    "TITLE_FONT_SIZE = 25\n",
    "LABEL_FONT_SIZE = 20\n",
    "TICK_FONT_SIZE  = 15"
   ]
  },
  {
   "cell_type": "code",
   "execution_count": 3,
   "metadata": {},
   "outputs": [],
   "source": [
    "day_labels = ['MON','TUE','WED','THU','FRI','SAT','SUN']\n",
    "day_labels_full = ['MONDAY','TUESDAY','WEDNESDAY','THURSDAY','FRIDAY','SATURDAY','SUNDAY']\n",
    "month_labels = ['JAN','FEB','MAR','APR','MAY','JUN','JUL','AUG','SEP','OCT','NOV','DEC']\n",
    "\n",
    "ordered_zipcodes = [94107, 95113, 94041, 94301, 94063]"
   ]
  },
  {
   "cell_type": "markdown",
   "metadata": {},
   "source": [
    "# Load Data"
   ]
  },
  {
   "cell_type": "markdown",
   "metadata": {
    "collapsed": true
   },
   "source": [
    "## Trip Data"
   ]
  },
  {
   "cell_type": "code",
   "execution_count": 4,
   "metadata": {},
   "outputs": [
    {
     "name": "stdout",
     "output_type": "stream",
     "text": [
      "[11:31:25.986001] Loading Trip Data Data...\n",
      "\t\t[11:31:27.416936] finished chunk 1 of 100\n",
      "\t\t[11:31:28.652464] finished chunk 10 of 100\n",
      "\t\t[11:31:29.889658] finished chunk 20 of 100\n",
      "\t\t[11:31:30.895438] finished chunk 30 of 100\n",
      "\t\t[11:31:32.364709] finished chunk 40 of 100\n",
      "\t\t[11:31:33.458197] finished chunk 50 of 100\n",
      "\t\t[11:31:34.640707] finished chunk 60 of 100\n",
      "\t\t[11:31:36.213527] finished chunk 70 of 100\n",
      "\t\t[11:31:37.698797] finished chunk 80 of 100\n",
      "\t\t[11:31:38.824018] finished chunk 90 of 100\n",
      "\t\t[11:31:39.813388] finished chunk 100 of 100\n",
      "[11:31:45.127216] Complete!\n"
     ]
    }
   ],
   "source": [
    "print('[%s] Loading Trip Data Data...' % datetime.datetime.now().time())\n",
    "\n",
    "trips_df = pd.DataFrame()\n",
    "trip_data_file = '../clean_data/bayareabikeshare/trip_data_extended_cleaned.csv'\n",
    "\n",
    "# Chunk Settings\n",
    "chunks = []\n",
    "chunk_counter = 1\n",
    "chunksize = 10000\n",
    "num_chunks = math.ceil(sum(1 for row in open(trip_data_file, 'r'))/chunksize)\n",
    "\n",
    "# import file in chunks\n",
    "for chunk in pd.read_csv(trip_data_file, chunksize=chunksize, iterator=True, index_col=0, parse_dates=['start_date', 'end_date']):\n",
    "    \n",
    "    # append chunk to chunks list\n",
    "    chunks.append(chunk)\n",
    "\n",
    "    if chunk_counter == 1 or chunk_counter % math.ceil(num_chunks/10) == 0 or chunk_counter == num_chunks:\n",
    "        print('\\t\\t[%s] finished chunk %s of %s' % (datetime.datetime.now().time(), chunk_counter, num_chunks))\n",
    "    chunk_counter += 1\n",
    "\n",
    "trips_df = pd.concat(chunks)\n",
    "trips_df.user_type = trips_df.user_type.astype('category')\n",
    "\n",
    "trips_df.drop_duplicates(inplace=True)\n",
    "\n",
    "print('[%s] Complete!' % datetime.datetime.now().time())\n",
    "\n"
   ]
  },
  {
   "cell_type": "code",
   "execution_count": 5,
   "metadata": {},
   "outputs": [],
   "source": [
    "trip_data = trips_df.copy()"
   ]
  },
  {
   "cell_type": "code",
   "execution_count": 6,
   "metadata": {},
   "outputs": [
    {
     "data": {
      "text/plain": [
       "Index(['trip_id', 'duration', 'start_date', 'start_station_name',\n",
       "       'start_terminal', 'end_date', 'end_station_name', 'end_terminal',\n",
       "       'bike_id', 'user_type', 'user_zip', 'duration_minutes', 'start_zip',\n",
       "       'end_zip', 'max_temp', 'mean_temp', 'min_temp', 'max_wind', 'mean_wind',\n",
       "       'max_gust', 'precipitation', 'cloud_cover', 'events'],\n",
       "      dtype='object')"
      ]
     },
     "execution_count": 6,
     "metadata": {},
     "output_type": "execute_result"
    }
   ],
   "source": [
    "trip_data.columns"
   ]
  },
  {
   "cell_type": "markdown",
   "metadata": {},
   "source": [
    "## Trip Data Cleanup\n",
    "<ul>\n",
    "    <li>encode weather events</li>\n",
    "    <li>Fill nan values with mean of column</li>\n",
    "</ul>"
   ]
  },
  {
   "cell_type": "code",
   "execution_count": 7,
   "metadata": {},
   "outputs": [],
   "source": [
    "event_lookup = {'nan' : 0, \n",
    "                'Rain' : 1, \n",
    "                'rain' : 1, \n",
    "                'Fog' : 2, \n",
    "                'Fog-Rain' : 3, \n",
    "                'Rain-Thunderstorm' : 4}\n",
    "\n",
    "def encode_events(row):\n",
    "    result = event_lookup[str(row)]\n",
    "    \n",
    "    return result"
   ]
  },
  {
   "cell_type": "code",
   "execution_count": 8,
   "metadata": {},
   "outputs": [],
   "source": [
    "trip_data['events'] = trip_data['events'].apply(lambda row: encode_events (row))"
   ]
  },
  {
   "cell_type": "code",
   "execution_count": 9,
   "metadata": {},
   "outputs": [],
   "source": [
    "trip_data['max_temp'].fillna(math.floor(trip_data['max_temp'].mean()), inplace=True)\n",
    "trip_data['mean_temp'].fillna(math.floor(trip_data['mean_temp'].mean()), inplace=True)\n",
    "trip_data['min_temp'].fillna(math.floor(trip_data['min_temp'].mean()), inplace=True)\n",
    "trip_data['max_wind'].fillna(math.floor(trip_data['max_wind'].mean()), inplace=True)\n",
    "trip_data['mean_wind'].fillna(math.floor(trip_data['mean_wind'].mean()), inplace=True)\n",
    "trip_data['max_gust'].fillna(math.floor(trip_data['max_gust'].mean()), inplace=True)\n",
    "trip_data['precipitation'].fillna(trip_data['precipitation'].mean(), inplace=True)\n",
    "trip_data['cloud_cover'].fillna(math.floor(trip_data['cloud_cover'].mean()), inplace=True)"
   ]
  },
  {
   "cell_type": "code",
   "execution_count": 10,
   "metadata": {
    "scrolled": true
   },
   "outputs": [
    {
     "data": {
      "text/html": [
       "<div>\n",
       "<style scoped>\n",
       "    .dataframe tbody tr th:only-of-type {\n",
       "        vertical-align: middle;\n",
       "    }\n",
       "\n",
       "    .dataframe tbody tr th {\n",
       "        vertical-align: top;\n",
       "    }\n",
       "\n",
       "    .dataframe thead th {\n",
       "        text-align: right;\n",
       "    }\n",
       "</style>\n",
       "<table border=\"1\" class=\"dataframe\">\n",
       "  <thead>\n",
       "    <tr style=\"text-align: right;\">\n",
       "      <th></th>\n",
       "      <th>trip_id</th>\n",
       "      <th>duration</th>\n",
       "      <th>start_date</th>\n",
       "      <th>start_station_name</th>\n",
       "      <th>start_terminal</th>\n",
       "      <th>end_date</th>\n",
       "      <th>end_station_name</th>\n",
       "      <th>end_terminal</th>\n",
       "      <th>bike_id</th>\n",
       "      <th>user_type</th>\n",
       "      <th>...</th>\n",
       "      <th>end_zip</th>\n",
       "      <th>max_temp</th>\n",
       "      <th>mean_temp</th>\n",
       "      <th>min_temp</th>\n",
       "      <th>max_wind</th>\n",
       "      <th>mean_wind</th>\n",
       "      <th>max_gust</th>\n",
       "      <th>precipitation</th>\n",
       "      <th>cloud_cover</th>\n",
       "      <th>events</th>\n",
       "    </tr>\n",
       "  </thead>\n",
       "  <tbody>\n",
       "    <tr>\n",
       "      <th>0</th>\n",
       "      <td>4069</td>\n",
       "      <td>174</td>\n",
       "      <td>2013-08-29 09:08:00</td>\n",
       "      <td>2nd at South Park</td>\n",
       "      <td>64</td>\n",
       "      <td>2013-08-29 09:11:00</td>\n",
       "      <td>2nd at South Park</td>\n",
       "      <td>64</td>\n",
       "      <td>288</td>\n",
       "      <td>Subscriber</td>\n",
       "      <td>...</td>\n",
       "      <td>94107</td>\n",
       "      <td>74.0</td>\n",
       "      <td>68.0</td>\n",
       "      <td>61.0</td>\n",
       "      <td>23.0</td>\n",
       "      <td>11.0</td>\n",
       "      <td>28.0</td>\n",
       "      <td>0.0</td>\n",
       "      <td>4.0</td>\n",
       "      <td>0</td>\n",
       "    </tr>\n",
       "    <tr>\n",
       "      <th>1</th>\n",
       "      <td>4073</td>\n",
       "      <td>1067</td>\n",
       "      <td>2013-08-29 09:24:00</td>\n",
       "      <td>South Van Ness at Market</td>\n",
       "      <td>66</td>\n",
       "      <td>2013-08-29 09:42:00</td>\n",
       "      <td>San Francisco Caltrain 2 (330 Townsend)</td>\n",
       "      <td>69</td>\n",
       "      <td>321</td>\n",
       "      <td>Subscriber</td>\n",
       "      <td>...</td>\n",
       "      <td>94107</td>\n",
       "      <td>74.0</td>\n",
       "      <td>68.0</td>\n",
       "      <td>61.0</td>\n",
       "      <td>23.0</td>\n",
       "      <td>11.0</td>\n",
       "      <td>28.0</td>\n",
       "      <td>0.0</td>\n",
       "      <td>4.0</td>\n",
       "      <td>0</td>\n",
       "    </tr>\n",
       "    <tr>\n",
       "      <th>2</th>\n",
       "      <td>4074</td>\n",
       "      <td>1131</td>\n",
       "      <td>2013-08-29 09:24:00</td>\n",
       "      <td>South Van Ness at Market</td>\n",
       "      <td>66</td>\n",
       "      <td>2013-08-29 09:43:00</td>\n",
       "      <td>San Francisco Caltrain 2 (330 Townsend)</td>\n",
       "      <td>69</td>\n",
       "      <td>317</td>\n",
       "      <td>Subscriber</td>\n",
       "      <td>...</td>\n",
       "      <td>94107</td>\n",
       "      <td>74.0</td>\n",
       "      <td>68.0</td>\n",
       "      <td>61.0</td>\n",
       "      <td>23.0</td>\n",
       "      <td>11.0</td>\n",
       "      <td>28.0</td>\n",
       "      <td>0.0</td>\n",
       "      <td>4.0</td>\n",
       "      <td>0</td>\n",
       "    </tr>\n",
       "    <tr>\n",
       "      <th>3</th>\n",
       "      <td>4075</td>\n",
       "      <td>1117</td>\n",
       "      <td>2013-08-29 09:24:00</td>\n",
       "      <td>South Van Ness at Market</td>\n",
       "      <td>66</td>\n",
       "      <td>2013-08-29 09:43:00</td>\n",
       "      <td>San Francisco Caltrain 2 (330 Townsend)</td>\n",
       "      <td>69</td>\n",
       "      <td>316</td>\n",
       "      <td>Subscriber</td>\n",
       "      <td>...</td>\n",
       "      <td>94107</td>\n",
       "      <td>74.0</td>\n",
       "      <td>68.0</td>\n",
       "      <td>61.0</td>\n",
       "      <td>23.0</td>\n",
       "      <td>11.0</td>\n",
       "      <td>28.0</td>\n",
       "      <td>0.0</td>\n",
       "      <td>4.0</td>\n",
       "      <td>0</td>\n",
       "    </tr>\n",
       "    <tr>\n",
       "      <th>4</th>\n",
       "      <td>4076</td>\n",
       "      <td>1118</td>\n",
       "      <td>2013-08-29 09:25:00</td>\n",
       "      <td>South Van Ness at Market</td>\n",
       "      <td>66</td>\n",
       "      <td>2013-08-29 09:43:00</td>\n",
       "      <td>San Francisco Caltrain 2 (330 Townsend)</td>\n",
       "      <td>69</td>\n",
       "      <td>322</td>\n",
       "      <td>Subscriber</td>\n",
       "      <td>...</td>\n",
       "      <td>94107</td>\n",
       "      <td>74.0</td>\n",
       "      <td>68.0</td>\n",
       "      <td>61.0</td>\n",
       "      <td>23.0</td>\n",
       "      <td>11.0</td>\n",
       "      <td>28.0</td>\n",
       "      <td>0.0</td>\n",
       "      <td>4.0</td>\n",
       "      <td>0</td>\n",
       "    </tr>\n",
       "  </tbody>\n",
       "</table>\n",
       "<p>5 rows × 23 columns</p>\n",
       "</div>"
      ],
      "text/plain": [
       "   trip_id  duration          start_date        start_station_name  \\\n",
       "0     4069       174 2013-08-29 09:08:00         2nd at South Park   \n",
       "1     4073      1067 2013-08-29 09:24:00  South Van Ness at Market   \n",
       "2     4074      1131 2013-08-29 09:24:00  South Van Ness at Market   \n",
       "3     4075      1117 2013-08-29 09:24:00  South Van Ness at Market   \n",
       "4     4076      1118 2013-08-29 09:25:00  South Van Ness at Market   \n",
       "\n",
       "   start_terminal            end_date  \\\n",
       "0              64 2013-08-29 09:11:00   \n",
       "1              66 2013-08-29 09:42:00   \n",
       "2              66 2013-08-29 09:43:00   \n",
       "3              66 2013-08-29 09:43:00   \n",
       "4              66 2013-08-29 09:43:00   \n",
       "\n",
       "                          end_station_name  end_terminal  bike_id   user_type  \\\n",
       "0                        2nd at South Park            64      288  Subscriber   \n",
       "1  San Francisco Caltrain 2 (330 Townsend)            69      321  Subscriber   \n",
       "2  San Francisco Caltrain 2 (330 Townsend)            69      317  Subscriber   \n",
       "3  San Francisco Caltrain 2 (330 Townsend)            69      316  Subscriber   \n",
       "4  San Francisco Caltrain 2 (330 Townsend)            69      322  Subscriber   \n",
       "\n",
       "    ...    end_zip  max_temp  mean_temp  min_temp  max_wind  mean_wind  \\\n",
       "0   ...      94107      74.0       68.0      61.0      23.0       11.0   \n",
       "1   ...      94107      74.0       68.0      61.0      23.0       11.0   \n",
       "2   ...      94107      74.0       68.0      61.0      23.0       11.0   \n",
       "3   ...      94107      74.0       68.0      61.0      23.0       11.0   \n",
       "4   ...      94107      74.0       68.0      61.0      23.0       11.0   \n",
       "\n",
       "   max_gust  precipitation  cloud_cover  events  \n",
       "0      28.0            0.0          4.0       0  \n",
       "1      28.0            0.0          4.0       0  \n",
       "2      28.0            0.0          4.0       0  \n",
       "3      28.0            0.0          4.0       0  \n",
       "4      28.0            0.0          4.0       0  \n",
       "\n",
       "[5 rows x 23 columns]"
      ]
     },
     "execution_count": 10,
     "metadata": {},
     "output_type": "execute_result"
    }
   ],
   "source": [
    "trip_data.head(5)"
   ]
  },
  {
   "cell_type": "markdown",
   "metadata": {},
   "source": [
    "# Concurrent Trips"
   ]
  },
  {
   "cell_type": "code",
   "execution_count": 119,
   "metadata": {},
   "outputs": [],
   "source": [
    "def plot_concurrent_trips(df, title):\n",
    "\n",
    "    trips = df[['trip_id', 'start_date', 'end_date']].copy()\n",
    "\n",
    "    trips_concurrent = pd.concat([pd.Series(1, trips.start_date),  # created add 1\n",
    "                                  pd.Series(-1, trips.end_date)  # closed substract 1\n",
    "                                 ]).resample('1Min').sum().cumsum()\n",
    "\n",
    "    concur = trips_concurrent.to_frame()\n",
    "\n",
    "    concur.columns = ['concurrent_trips']\n",
    "\n",
    "    concur.fillna(0, inplace=True)\n",
    "\n",
    "    trips_concurrent.groupby([trips_concurrent.index.dayofweek, trips_concurrent.index.hour, trips_concurrent.index.minute]).mean().plot(color='b', linestyle='-', marker='.', figsize=(24,6), label='Mean')\n",
    "    trips_concurrent.groupby([trips_concurrent.index.dayofweek, trips_concurrent.index.hour, trips_concurrent.index.minute]).median().plot(color='g', linestyle='-', marker='.', label='Median')\n",
    "    trips_concurrent.groupby([trips_concurrent.index.dayofweek, trips_concurrent.index.hour, trips_concurrent.index.minute]).max().plot(color='r', linestyle='-', marker='.', label='Max')\n",
    "\n",
    "    plt.legend(loc=1)\n",
    "    plt.title(title)\n",
    "    plt.show()"
   ]
  },
  {
   "cell_type": "code",
   "execution_count": null,
   "metadata": {},
   "outputs": [],
   "source": []
  },
  {
   "cell_type": "markdown",
   "metadata": {},
   "source": [
    "# Split Morning and Evening Commuter dataframes"
   ]
  },
  {
   "cell_type": "code",
   "execution_count": 76,
   "metadata": {},
   "outputs": [
    {
     "data": {
      "text/html": [
       "<div>\n",
       "<style scoped>\n",
       "    .dataframe tbody tr th:only-of-type {\n",
       "        vertical-align: middle;\n",
       "    }\n",
       "\n",
       "    .dataframe tbody tr th {\n",
       "        vertical-align: top;\n",
       "    }\n",
       "\n",
       "    .dataframe thead th {\n",
       "        text-align: right;\n",
       "    }\n",
       "</style>\n",
       "<table border=\"1\" class=\"dataframe\">\n",
       "  <thead>\n",
       "    <tr style=\"text-align: right;\">\n",
       "      <th></th>\n",
       "      <th>trip_id</th>\n",
       "      <th>duration</th>\n",
       "      <th>start_date</th>\n",
       "      <th>start_station_name</th>\n",
       "      <th>start_terminal</th>\n",
       "      <th>end_date</th>\n",
       "      <th>end_station_name</th>\n",
       "      <th>end_terminal</th>\n",
       "      <th>bike_id</th>\n",
       "      <th>user_type</th>\n",
       "      <th>...</th>\n",
       "      <th>max_temp</th>\n",
       "      <th>mean_temp</th>\n",
       "      <th>min_temp</th>\n",
       "      <th>max_wind</th>\n",
       "      <th>mean_wind</th>\n",
       "      <th>max_gust</th>\n",
       "      <th>precipitation</th>\n",
       "      <th>cloud_cover</th>\n",
       "      <th>events</th>\n",
       "      <th>DOW</th>\n",
       "    </tr>\n",
       "  </thead>\n",
       "  <tbody>\n",
       "    <tr>\n",
       "      <th>0</th>\n",
       "      <td>4069</td>\n",
       "      <td>174</td>\n",
       "      <td>2013-08-29 09:08:00</td>\n",
       "      <td>2nd at South Park</td>\n",
       "      <td>64</td>\n",
       "      <td>2013-08-29 09:11:00</td>\n",
       "      <td>2nd at South Park</td>\n",
       "      <td>64</td>\n",
       "      <td>288</td>\n",
       "      <td>Subscriber</td>\n",
       "      <td>...</td>\n",
       "      <td>74.0</td>\n",
       "      <td>68.0</td>\n",
       "      <td>61.0</td>\n",
       "      <td>23.0</td>\n",
       "      <td>11.0</td>\n",
       "      <td>28.0</td>\n",
       "      <td>0.0</td>\n",
       "      <td>4.0</td>\n",
       "      <td>0</td>\n",
       "      <td>3</td>\n",
       "    </tr>\n",
       "    <tr>\n",
       "      <th>1</th>\n",
       "      <td>4073</td>\n",
       "      <td>1067</td>\n",
       "      <td>2013-08-29 09:24:00</td>\n",
       "      <td>South Van Ness at Market</td>\n",
       "      <td>66</td>\n",
       "      <td>2013-08-29 09:42:00</td>\n",
       "      <td>San Francisco Caltrain 2 (330 Townsend)</td>\n",
       "      <td>69</td>\n",
       "      <td>321</td>\n",
       "      <td>Subscriber</td>\n",
       "      <td>...</td>\n",
       "      <td>74.0</td>\n",
       "      <td>68.0</td>\n",
       "      <td>61.0</td>\n",
       "      <td>23.0</td>\n",
       "      <td>11.0</td>\n",
       "      <td>28.0</td>\n",
       "      <td>0.0</td>\n",
       "      <td>4.0</td>\n",
       "      <td>0</td>\n",
       "      <td>3</td>\n",
       "    </tr>\n",
       "    <tr>\n",
       "      <th>2</th>\n",
       "      <td>4074</td>\n",
       "      <td>1131</td>\n",
       "      <td>2013-08-29 09:24:00</td>\n",
       "      <td>South Van Ness at Market</td>\n",
       "      <td>66</td>\n",
       "      <td>2013-08-29 09:43:00</td>\n",
       "      <td>San Francisco Caltrain 2 (330 Townsend)</td>\n",
       "      <td>69</td>\n",
       "      <td>317</td>\n",
       "      <td>Subscriber</td>\n",
       "      <td>...</td>\n",
       "      <td>74.0</td>\n",
       "      <td>68.0</td>\n",
       "      <td>61.0</td>\n",
       "      <td>23.0</td>\n",
       "      <td>11.0</td>\n",
       "      <td>28.0</td>\n",
       "      <td>0.0</td>\n",
       "      <td>4.0</td>\n",
       "      <td>0</td>\n",
       "      <td>3</td>\n",
       "    </tr>\n",
       "    <tr>\n",
       "      <th>3</th>\n",
       "      <td>4075</td>\n",
       "      <td>1117</td>\n",
       "      <td>2013-08-29 09:24:00</td>\n",
       "      <td>South Van Ness at Market</td>\n",
       "      <td>66</td>\n",
       "      <td>2013-08-29 09:43:00</td>\n",
       "      <td>San Francisco Caltrain 2 (330 Townsend)</td>\n",
       "      <td>69</td>\n",
       "      <td>316</td>\n",
       "      <td>Subscriber</td>\n",
       "      <td>...</td>\n",
       "      <td>74.0</td>\n",
       "      <td>68.0</td>\n",
       "      <td>61.0</td>\n",
       "      <td>23.0</td>\n",
       "      <td>11.0</td>\n",
       "      <td>28.0</td>\n",
       "      <td>0.0</td>\n",
       "      <td>4.0</td>\n",
       "      <td>0</td>\n",
       "      <td>3</td>\n",
       "    </tr>\n",
       "    <tr>\n",
       "      <th>4</th>\n",
       "      <td>4076</td>\n",
       "      <td>1118</td>\n",
       "      <td>2013-08-29 09:25:00</td>\n",
       "      <td>South Van Ness at Market</td>\n",
       "      <td>66</td>\n",
       "      <td>2013-08-29 09:43:00</td>\n",
       "      <td>San Francisco Caltrain 2 (330 Townsend)</td>\n",
       "      <td>69</td>\n",
       "      <td>322</td>\n",
       "      <td>Subscriber</td>\n",
       "      <td>...</td>\n",
       "      <td>74.0</td>\n",
       "      <td>68.0</td>\n",
       "      <td>61.0</td>\n",
       "      <td>23.0</td>\n",
       "      <td>11.0</td>\n",
       "      <td>28.0</td>\n",
       "      <td>0.0</td>\n",
       "      <td>4.0</td>\n",
       "      <td>0</td>\n",
       "      <td>3</td>\n",
       "    </tr>\n",
       "  </tbody>\n",
       "</table>\n",
       "<p>5 rows × 24 columns</p>\n",
       "</div>"
      ],
      "text/plain": [
       "   trip_id  duration          start_date        start_station_name  \\\n",
       "0     4069       174 2013-08-29 09:08:00         2nd at South Park   \n",
       "1     4073      1067 2013-08-29 09:24:00  South Van Ness at Market   \n",
       "2     4074      1131 2013-08-29 09:24:00  South Van Ness at Market   \n",
       "3     4075      1117 2013-08-29 09:24:00  South Van Ness at Market   \n",
       "4     4076      1118 2013-08-29 09:25:00  South Van Ness at Market   \n",
       "\n",
       "   start_terminal            end_date  \\\n",
       "0              64 2013-08-29 09:11:00   \n",
       "1              66 2013-08-29 09:42:00   \n",
       "2              66 2013-08-29 09:43:00   \n",
       "3              66 2013-08-29 09:43:00   \n",
       "4              66 2013-08-29 09:43:00   \n",
       "\n",
       "                          end_station_name  end_terminal  bike_id   user_type  \\\n",
       "0                        2nd at South Park            64      288  Subscriber   \n",
       "1  San Francisco Caltrain 2 (330 Townsend)            69      321  Subscriber   \n",
       "2  San Francisco Caltrain 2 (330 Townsend)            69      317  Subscriber   \n",
       "3  San Francisco Caltrain 2 (330 Townsend)            69      316  Subscriber   \n",
       "4  San Francisco Caltrain 2 (330 Townsend)            69      322  Subscriber   \n",
       "\n",
       "  ...   max_temp  mean_temp  min_temp  max_wind  mean_wind  max_gust  \\\n",
       "0 ...       74.0       68.0      61.0      23.0       11.0      28.0   \n",
       "1 ...       74.0       68.0      61.0      23.0       11.0      28.0   \n",
       "2 ...       74.0       68.0      61.0      23.0       11.0      28.0   \n",
       "3 ...       74.0       68.0      61.0      23.0       11.0      28.0   \n",
       "4 ...       74.0       68.0      61.0      23.0       11.0      28.0   \n",
       "\n",
       "   precipitation  cloud_cover  events  DOW  \n",
       "0            0.0          4.0       0    3  \n",
       "1            0.0          4.0       0    3  \n",
       "2            0.0          4.0       0    3  \n",
       "3            0.0          4.0       0    3  \n",
       "4            0.0          4.0       0    3  \n",
       "\n",
       "[5 rows x 24 columns]"
      ]
     },
     "execution_count": 76,
     "metadata": {},
     "output_type": "execute_result"
    }
   ],
   "source": [
    "commuter_data = trip_data[(trip_data.user_type == 'Subscriber') & \n",
    "                          (trip_data.start_date.dt.dayofweek < 5) &\n",
    "                          (trip_data.end_date.dt.dayofweek < 5) ].copy()\n",
    "commuter_data.reset_index(inplace=True, drop=True)\n",
    "\n",
    "commuter_data['DOW'] = commuter_data.start_date.dt.dayofweek\n",
    "\n",
    "commuter_data.head(5)"
   ]
  },
  {
   "cell_type": "code",
   "execution_count": 120,
   "metadata": {},
   "outputs": [
    {
     "data": {
      "image/png": "[encoded data removed]",
      "text/plain": [
       "<matplotlib.figure.Figure at 0x1adf1caa20>"
      ]
     },
     "metadata": {},
     "output_type": "display_data"
    }
   ],
   "source": [
    "plot_concurrent_trips(trip_data[trip_data.user_type == 'Customer'], title='Concurrent Customer Trips')"
   ]
  },
  {
   "cell_type": "code",
   "execution_count": 121,
   "metadata": {},
   "outputs": [
    {
     "data": {
      "image/png": "[encoded data removed]",
      "text/plain": [
       "<matplotlib.figure.Figure at 0x1a1c74c518>"
      ]
     },
     "metadata": {},
     "output_type": "display_data"
    }
   ],
   "source": [
    "plot_concurrent_trips(trip_data[trip_data.user_type == 'Subscriber'], title='Concurrent Subscriber Trips')"
   ]
  },
  {
   "cell_type": "code",
   "execution_count": 130,
   "metadata": {},
   "outputs": [
    {
     "data": {
      "image/png": "[encoded data removed]",
      "text/plain": [
       "<matplotlib.figure.Figure at 0x1a25747da0>"
      ]
     },
     "metadata": {},
     "output_type": "display_data"
    }
   ],
   "source": [
    "trips = trip_data[['trip_id', 'start_date', 'end_date']].copy()\n",
    "trips_concurrent = pd.concat([pd.Series(1, trips.start_date),  # created add 1\n",
    "                              pd.Series(-1, trips.end_date)  # closed substract 1\n",
    "                             ]).resample('1Min').sum().cumsum()\n",
    "\n",
    "concur = trips_concurrent.to_frame()\n",
    "concur.columns = ['concurrent_trips']\n",
    "concur.fillna(0, inplace=True)\n",
    "\n",
    "concur.groupby([concur.index.dayofweek]).cumsum().plot(linestyle='', marker='.', figsize=(24,8))\n",
    "plt.show()"
   ]
  },
  {
   "cell_type": "code",
   "execution_count": 59,
   "metadata": {},
   "outputs": [
    {
     "data": {
      "text/plain": [
       "(266690, 24)"
      ]
     },
     "execution_count": 59,
     "metadata": {},
     "output_type": "execute_result"
    }
   ],
   "source": [
    "morning_commute_data = commuter_data[(commuter_data.start_date.dt.hour >= 7) & \n",
    "                                (commuter_data.start_date.dt.hour < 10) & \n",
    "                                (commuter_data.end_date.dt.hour >= 7) & \n",
    "                                (commuter_data.end_date.dt.hour < 10)].copy()\n",
    "morning_commute_data.reset_index(inplace=True, drop=True)\n",
    "morning_commute_data.shape"
   ]
  },
  {
   "cell_type": "code",
   "execution_count": 61,
   "metadata": {},
   "outputs": [
    {
     "data": {
      "text/plain": [
       "339.73248407643314"
      ]
     },
     "execution_count": 61,
     "metadata": {},
     "output_type": "execute_result"
    }
   ],
   "source": [
    "morning_commute_data.groupby(morning_commute_data.start_date.dt.date)['trip_id'].count().mean()"
   ]
  },
  {
   "cell_type": "code",
   "execution_count": 62,
   "metadata": {},
   "outputs": [
    {
     "data": {
      "text/plain": [
       "(247597, 24)"
      ]
     },
     "execution_count": 62,
     "metadata": {},
     "output_type": "execute_result"
    }
   ],
   "source": [
    "evening_commute_data = commuter_data[(commuter_data.start_date.dt.hour >= 16) & \n",
    "                                (commuter_data.start_date.dt.hour < 19) & \n",
    "                                (commuter_data.end_date.dt.hour >= 16) & \n",
    "                                (commuter_data.end_date.dt.hour < 19)].copy()\n",
    "\n",
    "evening_commute_data.reset_index(inplace=True, drop=True)\n",
    "evening_commute_data.shape"
   ]
  },
  {
   "cell_type": "code",
   "execution_count": 64,
   "metadata": {},
   "outputs": [
    {
     "data": {
      "text/plain": [
       "315.41019108280256"
      ]
     },
     "execution_count": 64,
     "metadata": {},
     "output_type": "execute_result"
    }
   ],
   "source": [
    "evening_commute_data.groupby(evening_commute_data.start_date.dt.date)['trip_id'].count().mean()"
   ]
  },
  {
   "cell_type": "markdown",
   "metadata": {},
   "source": [
    "# Rainy and Dry Commutes"
   ]
  },
  {
   "cell_type": "markdown",
   "metadata": {},
   "source": [
    "## Morning Commute"
   ]
  },
  {
   "cell_type": "code",
   "execution_count": 65,
   "metadata": {},
   "outputs": [
    {
     "name": "stdout",
     "output_type": "stream",
     "text": [
      "hot_cutoff  75.0000\n",
      "cold_cutoff  45.0000\n"
     ]
    }
   ],
   "source": [
    "morning_commute_data['is_rainy'] = 'Dry'\n",
    "rainy_index = morning_commute_data[(morning_commute_data.precipitation > 0.0) | (morning_commute_data.events > 0.0)].index\n",
    "morning_commute_data.iloc[rainy_index,list(morning_commute_data.columns).index('is_rainy')] = 'Rainy'\n",
    "\n",
    "hot_cutoff  = morning_commute_data.mean_temp.mean() + (2 * morning_commute_data.mean_temp.std())\n",
    "hot_cutoff = math.ceil(hot_cutoff/5) * 5\n",
    "print('hot_cutoff  {:3.4f}'.format(hot_cutoff))\n",
    "cold_cutoff = morning_commute_data.mean_temp.mean() - (2 * morning_commute_data.mean_temp.std())\n",
    "cold_cutoff = math.floor(cold_cutoff/5) * 5\n",
    "print('cold_cutoff  {:3.4f}'.format(cold_cutoff))\n",
    "\n",
    "morning_commute_data['temp_cat'] = 'Normal'\n",
    "hot_index = morning_commute_data[morning_commute_data.mean_temp >= hot_cutoff].index\n",
    "morning_commute_data.iloc[hot_index,list(morning_commute_data.columns).index('temp_cat')] = 'Hot'\n",
    "cold_index = morning_commute_data[morning_commute_data.mean_temp <= cold_cutoff].index\n",
    "morning_commute_data.iloc[cold_index,list(morning_commute_data.columns).index('temp_cat')] = 'Cold'"
   ]
  },
  {
   "cell_type": "markdown",
   "metadata": {},
   "source": [
    "## Evening Commute"
   ]
  },
  {
   "cell_type": "code",
   "execution_count": 66,
   "metadata": {},
   "outputs": [
    {
     "name": "stdout",
     "output_type": "stream",
     "text": [
      "hot_cutoff  75.0000\n",
      "cold_cutoff  45.0000\n"
     ]
    }
   ],
   "source": [
    "evening_commute_data['is_rainy'] = 'Dry'\n",
    "rainy_index = evening_commute_data[(evening_commute_data.precipitation > 0.0) | (evening_commute_data.events > 0.0)].index\n",
    "evening_commute_data.iloc[rainy_index,list(evening_commute_data.columns).index('is_rainy')] = 'Rainy'\n",
    "\n",
    "\n",
    "hot_cutoff  = evening_commute_data.mean_temp.mean() + (2 * evening_commute_data.mean_temp.std())\n",
    "hot_cutoff = math.ceil(hot_cutoff/5) * 5\n",
    "print('hot_cutoff  {:3.4f}'.format(hot_cutoff))\n",
    "cold_cutoff = evening_commute_data.mean_temp.mean() - (2 * evening_commute_data.mean_temp.std())\n",
    "cold_cutoff = math.floor(cold_cutoff/5) * 5\n",
    "print('cold_cutoff  {:3.4f}'.format(cold_cutoff))\n",
    "\n",
    "evening_commute_data['temp_cat'] = 'Normal'\n",
    "hot_index = evening_commute_data[evening_commute_data.mean_temp >= hot_cutoff].index\n",
    "evening_commute_data.iloc[hot_index,list(evening_commute_data.columns).index('temp_cat')] = 'Hot'\n",
    "cold_index = evening_commute_data[evening_commute_data.mean_temp <= cold_cutoff].index\n",
    "evening_commute_data.iloc[cold_index,list(evening_commute_data.columns).index('temp_cat')] = 'Cold'"
   ]
  },
  {
   "cell_type": "markdown",
   "metadata": {},
   "source": [
    "# T Test"
   ]
  },
  {
   "cell_type": "code",
   "execution_count": 67,
   "metadata": {},
   "outputs": [],
   "source": [
    "from scipy.stats import ttest_ind"
   ]
  },
  {
   "cell_type": "code",
   "execution_count": null,
   "metadata": {},
   "outputs": [],
   "source": [
    "def t_test(dfA, dfB):\n",
    "    \n",
    "    A_mean = dfA.mean()\n",
    "    B_mean = dfB.mean()\n",
    "    \n",
    "    diff_of_means = A_mean - B_mean\n",
    "    \n",
    "    # perform T test\n",
    "    t, p = ttest_ind(dfA, dfB)\n",
    "    \n",
    "    drop_share = abs(diff_of_means / A_mean * 100.)\n",
    "    \n",
    "    print('A_mean        {:3.10f}'.format(A_mean))\n",
    "    print('B_mean        {:3.10f}'.format(B_mean))\n",
    "    print('Diff of Means {:3.10f}'.format(diff_of_means))\n",
    "    print('Share Drop    {:3.3f}'.format(drop_share))\n",
    "    print('   t score    {:3.10f}'.format(t))\n",
    "    print('   p value    {:3.10f}'.format(p))\n",
    "    \n",
    "    if p <= 0.05:\n",
    "        print('Reject the null Hypothesis')\n",
    "    else:\n",
    "        print('Can not reject the null Hypothesis')\n",
    "        \n",
    "#     j = ks_2samp(dfA, dfB)\n",
    "#     print(j)\n",
    "    \n"
   ]
  },
  {
   "cell_type": "markdown",
   "metadata": {},
   "source": [
    "# Impact of Rain on Commuter Trip Counts"
   ]
  },
  {
   "cell_type": "markdown",
   "metadata": {},
   "source": [
    "\n",
    "<div class=\"alert alert-info\">\n",
    "\n",
    "<p><b>1a. Morning Commutes</b></p>\n",
    "\n",
    "<p>A <b>Two Sample T Test</b> is appropriate for this problem as we are trying to see a difference between two sample means</p>\n",
    "<p>Mean trip counts on rainy days vs mean trip counts on dry days</p>\n",
    "\n",
    "<ul>\n",
    "    <li>$H$o : Morning Commuter Mean Number of trips on Rainy Days = Morning Commuter Mean Number of trips on Dry Days</li>\n",
    "    <li>$H$a : Morning Commuter Mean Number of trips on Rainy Days ≠ Morning Commuter Mean Number of trips on Dry Days</li>\n",
    "</ul>\n",
    "</div>"
   ]
  },
  {
   "cell_type": "markdown",
   "metadata": {},
   "source": [
    "<div class=\"alert alert-success\">\n",
    "<ul> <b>Morning Commuter Stats</b>\n",
    "    <li>T Statistic <b>-5.0651120461</b> </li>\n",
    "    <li>P Value <b>0.0000004909</b> which is below the 0.05 threshhold thus we <b>reject</b> the $H$o</li>\n",
    "    <li>The Mean Number of Morning Commute Trips on Rainy Days is about <b>58 fewer trips</b> than on Dry Days</li>\n",
    "    <li>This is a <b>24.578%</b> Difference!</li>\n",
    "</ul>\n",
    "</div>"
   ]
  },
  {
   "cell_type": "code",
   "execution_count": null,
   "metadata": {
    "scrolled": false
   },
   "outputs": [],
   "source": [
    "# Morning Commutes\n",
    "m_RAINY = morning_commute_data[morning_commute_data['is_rainy'] == 'Rainy']\n",
    "m_RAINY = m_RAINY.groupby(m_RAINY.start_date.dt.date)['trip_id'].count()\n",
    "\n",
    "m_DRY   = morning_commute_data[morning_commute_data['is_rainy'] == 'Dry']\n",
    "m_DRY = m_DRY.groupby(m_DRY.start_date.dt.date)['trip_id'].count()\n",
    "\n",
    "t_test(m_RAINY, m_DRY)\n"
   ]
  },
  {
   "cell_type": "code",
   "execution_count": null,
   "metadata": {},
   "outputs": [],
   "source": [
    "m_D = morning_commute_data[morning_commute_data.is_rainy == 'Dry']\n",
    "\n",
    "day_counts = list()\n",
    "for d in m_D.start_date.dt.dayofweek.unique():\n",
    "    day_counts.append(len(m_D[m_D.start_date.dt.dayofweek == d].start_date.dt.date.unique()))\n",
    "\n",
    "m_D = m_D.groupby([m_D.start_date.dt.dayofweek])['trip_id'].count()\n",
    "m_D = m_D / day_counts\n",
    "\n",
    "\n",
    "ax = m_D.plot(color='g', label='Dry', figsize=(12,6))\n",
    "\n",
    "m_R = morning_commute_data[morning_commute_data.is_rainy == 'Rainy']\n",
    "\n",
    "day_counts = list()\n",
    "for d in m_R.start_date.dt.dayofweek.unique():\n",
    "    day_counts.append(len(m_R[m_R.start_date.dt.dayofweek == d].start_date.dt.date.unique()))\n",
    "\n",
    "m_R = m_R.groupby([m_R.start_date.dt.dayofweek])['trip_id'].count()\n",
    "m_R = m_R / day_counts\n",
    "\n",
    "m_R.plot(color='b', label='Rainy', ax=ax)\n",
    "\n",
    "ax.set_xticks(range(0,5))\n",
    "ax.set_xticklabels(day_labels_full[:5], size=TICK_FONT_SIZE)\n",
    "\n",
    "ax.set_yticks(range(175, 350, 25))\n",
    "ax.set_yticklabels([str(x) for x in range(175, 350, 25)], size=TICK_FONT_SIZE)\n",
    "\n",
    "ax.set_xlabel('Day of Week', size=LABEL_FONT_SIZE, weight='bold')\n",
    "ax.set_ylabel('Mean Trip Count', size=LABEL_FONT_SIZE, weight='bold')\n",
    "\n",
    "title = 'Morning Commute Mean Trips Per Day - Rainy vs Dry'\n",
    "ax.set_title(title, size=TITLE_FONT_SIZE, weight='bold')\n",
    "\n",
    "ax.legend(loc=1, frameon=True)\n",
    "plt.show()\n",
    "\n",
    "\n",
    "# DIFFERENCE\n",
    "diff = m_R-m_D\n",
    "ax = diff.plot(color='r', label='Difference', figsize=(12,6))\n",
    "\n",
    "ax.set_xticks(range(0,5))\n",
    "ax.set_xticklabels(day_labels_full[:5], size=TICK_FONT_SIZE)\n",
    "\n",
    "ax.set_yticks(range(-150, 50, 25))\n",
    "ax.set_yticklabels([str(x) for x in range(-150, 50, 25)], size=TICK_FONT_SIZE)\n",
    "\n",
    "ax.set_xlabel('Day of Week', size=LABEL_FONT_SIZE, weight='bold')\n",
    "ax.set_ylabel('Mean Trip Count', size=LABEL_FONT_SIZE, weight='bold')\n",
    "\n",
    "title = 'Evening Commute Mean Trips Rain Difference'\n",
    "ax.set_title(title, size=TITLE_FONT_SIZE, weight='bold')\n",
    "\n",
    "ax.legend(loc=4, frameon=True)\n",
    "plt.show()"
   ]
  },
  {
   "cell_type": "markdown",
   "metadata": {},
   "source": [
    "\n",
    "<div class=\"alert alert-info\">\n",
    "\n",
    "<p><b>1b. Evening Commutes</b></p>\n",
    "\n",
    "<p>A <b>Two Sample T Test</b> is appropriate for this problem as we are trying to see a difference between two sample means</p>\n",
    "<p>Mean trip counts on rainy days vs mean trip counts on dry days</p>\n",
    "\n",
    "<ul>\n",
    "    <li>$H$o : Evening Commuter Mean Number of trips on Rainy Days = Evening Commuter Mean Number of trips on Dry Days</li>\n",
    "    <li>$H$a : Evening Commuter Mean Number of trips on Rainy Days ≠ Evening Commuter Mean Number of trips on Dry Days</li>\n",
    "</ul>\n",
    "</div>"
   ]
  },
  {
   "cell_type": "markdown",
   "metadata": {},
   "source": [
    "<div class=\"alert alert-success\">\n",
    "<ul> <b>Morning Commuter Stats</b>\n",
    "    <li>T Statistic <b>-5.0371662439</b> </li>\n",
    "    <li>P Value <b>0.0000005664</b> which is below the 0.05 threshhold thus we <b>reject</b> the $H$o</li>\n",
    "    <li>The Mean Number of Evening Commute Trips on Rainy Days is about <b>52 fewer trips</b> than on Dry Days</li>\n",
    "    <li>This is a <b>23.638%</b> Difference!</li>\n",
    "</ul>\n",
    "</div>"
   ]
  },
  {
   "cell_type": "code",
   "execution_count": null,
   "metadata": {},
   "outputs": [],
   "source": [
    "# Evening Commutes\n",
    "e_RAINY = evening_commute_data[evening_commute_data['is_rainy'] == 'Rainy']\n",
    "e_RAINY = e_RAINY.groupby(e_RAINY.start_date.dt.date)['trip_id'].count()\n",
    "\n",
    "e_DRY   = evening_commute_data[evening_commute_data['is_rainy'] == 'Dry']\n",
    "e_DRY = e_DRY.groupby(e_DRY.start_date.dt.date)['trip_id'].count()\n",
    "\n",
    "t_test(e_RAINY, e_DRY)"
   ]
  },
  {
   "cell_type": "code",
   "execution_count": null,
   "metadata": {},
   "outputs": [],
   "source": [
    "\n",
    "e_D = evening_commute_data[evening_commute_data.is_rainy == 'Dry']\n",
    "\n",
    "day_counts = list()\n",
    "for d in e_D.start_date.dt.dayofweek.unique():\n",
    "    day_counts.append(len(e_D[e_D.start_date.dt.dayofweek == d].start_date.dt.date.unique()))\n",
    "\n",
    "e_D = e_D.groupby([e_D.start_date.dt.dayofweek])['trip_id'].count()\n",
    "e_D = e_D / day_counts\n",
    "\n",
    "\n",
    "ax = e_D.plot(color='g', label='Dry', figsize=(12,6))\n",
    "\n",
    "e_R = evening_commute_data[evening_commute_data.is_rainy == 'Rainy']\n",
    "\n",
    "day_counts = list()\n",
    "for d in e_R.start_date.dt.dayofweek.unique():\n",
    "    day_counts.append(len(e_R[e_R.start_date.dt.dayofweek == d].start_date.dt.date.unique()))\n",
    "\n",
    "e_R = e_R.groupby([e_R.start_date.dt.dayofweek])['trip_id'].count()\n",
    "e_R = e_R / day_counts\n",
    "\n",
    "e_R.plot(color='b', label='Rainy', ax=ax)\n",
    "\n",
    "\n",
    "ax.set_xticks(range(0,5))\n",
    "ax.set_xticklabels(day_labels_full[:5], size=TICK_FONT_SIZE)\n",
    "\n",
    "ax.set_yticks(range(175, 350, 25))\n",
    "ax.set_yticklabels([str(x) for x in range(175, 350, 25)], size=TICK_FONT_SIZE)\n",
    "\n",
    "ax.set_xlabel('Day of Week', size=LABEL_FONT_SIZE, weight='bold')\n",
    "ax.set_ylabel('Mean Trip Count', size=LABEL_FONT_SIZE, weight='bold')\n",
    "\n",
    "title = 'Evening Commute Mean Trips Per Day - Rainy vs Dry'\n",
    "ax.set_title(title, size=TITLE_FONT_SIZE, weight='bold')\n",
    "\n",
    "ax.legend(loc=1, frameon=True)\n",
    "plt.show()\n",
    "\n",
    "\n",
    "# DIFFERENCE\n",
    "diff = e_R-e_D\n",
    "ax = diff.plot(color='r', label='Difference', figsize=(12,6))\n",
    "\n",
    "ax.set_xticks(range(0,5))\n",
    "ax.set_xticklabels(day_labels_full[:5], size=TICK_FONT_SIZE)\n",
    "\n",
    "ax.set_yticks(range(-125, 50, 25))\n",
    "ax.set_yticklabels([str(x) for x in range(-125, 50, 25)], size=TICK_FONT_SIZE)\n",
    "\n",
    "ax.set_xlabel('Day of Week', size=LABEL_FONT_SIZE, weight='bold')\n",
    "ax.set_ylabel('Mean Trip Count', size=LABEL_FONT_SIZE, weight='bold')\n",
    "\n",
    "title = 'Evening Commute Mean Trips Rain Difference'\n",
    "ax.set_title(title, size=TITLE_FONT_SIZE, weight='bold')\n",
    "\n",
    "ax.legend(loc=4, frameon=True)\n",
    "plt.show()"
   ]
  },
  {
   "cell_type": "markdown",
   "metadata": {},
   "source": [
    "# Impact of Temperature on Commuter Trip Counts"
   ]
  },
  {
   "cell_type": "markdown",
   "metadata": {},
   "source": [
    "\n",
    "<div class=\"alert alert-info\">\n",
    "\n",
    "<p><b>2a. Morning Commutes</b></p>\n",
    "\n",
    "<p>A <b>Two Sample T Test</b> is appropriate for this problem as we are trying to see a difference between two sample means</p>\n",
    "<p>Mean trip counts on rainy days vs mean trip counts on dry days</p>\n",
    "\n",
    "<ul>\n",
    "    <li>$H$o : Morning Commuter Mean Number of trips on Cold Days = Morning Commuter Mean Number of trips on Normal Days</li>\n",
    "    <li>$H$a : Morning Commuter Mean Number of trips on Cold Days ≠ Morning Commuter Mean Number of trips on Normal Days</li>\n",
    "</ul>\n",
    "</div>"
   ]
  },
  {
   "cell_type": "markdown",
   "metadata": {},
   "source": [
    "<div class=\"alert alert-success\">\n",
    "<ul> <b>Morning Commuter Stats</b>\n",
    "    <li>T Statistic <b>-9.7605946790</b> </li>\n",
    "    <li>P Value <b>0.0000000000</b> which is below the 0.05 threshhold thus we <b>reject</b> the $H$o</li>\n",
    "    <li>The Mean Number of Morning Commute Trips on Rainy Days is about <b>58 fewer trips</b> than on Dry Days</li>\n",
    "    <li>This is a <b>24.578%</b> Difference!</li>\n",
    "</ul>\n",
    "</div>"
   ]
  },
  {
   "cell_type": "code",
   "execution_count": null,
   "metadata": {},
   "outputs": [],
   "source": [
    "# Morning Commutes\n",
    "m_COLD = morning_commute_data[morning_commute_data['temp_cat'] == 'Cold']\n",
    "m_COLD = m_COLD.groupby(m_COLD.start_date.dt.date)['trip_id'].count()\n",
    "\n",
    "m_NORM = morning_commute_data[morning_commute_data['temp_cat'] == 'Normal']\n",
    "m_NORM = m_NORM.groupby(m_NORM.start_date.dt.date)['trip_id'].count()\n",
    "\n",
    "m_HOT = morning_commute_data[morning_commute_data['temp_cat'] == 'Hot']\n",
    "m_HOT = m_HOT.groupby(m_HOT.start_date.dt.date)['trip_id'].count()"
   ]
  },
  {
   "cell_type": "code",
   "execution_count": null,
   "metadata": {},
   "outputs": [],
   "source": [
    "t_test(m_COLD, m_NORM)"
   ]
  },
  {
   "cell_type": "markdown",
   "metadata": {},
   "source": [
    "\n",
    "<div class=\"alert alert-info\">\n",
    "\n",
    "<p><b>2a. Morning Commutes</b></p>\n",
    "\n",
    "<p>A <b>Two Sample T Test</b> is appropriate for this problem as we are trying to see a difference between two sample means</p>\n",
    "<p>Mean trip counts on rainy days vs mean trip counts on dry days</p>\n",
    "\n",
    "<ul>\n",
    "    <li>$H$o : Morning Commuter Mean Number of trips on Cold Days = Morning Commuter Mean Number of trips on Normal Days</li>\n",
    "    <li>$H$a : Morning Commuter Mean Number of trips on Cold Days ≠ Morning Commuter Mean Number of trips on Normal Days</li>\n",
    "</ul>\n",
    "</div>"
   ]
  },
  {
   "cell_type": "markdown",
   "metadata": {},
   "source": [
    "<div class=\"alert alert-success\">\n",
    "<ul> <b>Morning Commuter Stats</b>\n",
    "    <li>T Statistic <b>-5.0651120461</b> </li>\n",
    "    <li>P Value <b>0.0000004909</b> which is below the 0.05 threshhold thus we <b>reject</b> the $H$o</li>\n",
    "    <li>The Mean Number of Morning Commute Trips on Rainy Days is about <b>58 fewer trips</b> than on Dry Days</li>\n",
    "    <li>This is a <b>24.578%</b> Difference!</li>\n",
    "</ul>\n",
    "</div>"
   ]
  },
  {
   "cell_type": "code",
   "execution_count": null,
   "metadata": {},
   "outputs": [],
   "source": [
    "t_test(m_HOT, m_NORM)"
   ]
  },
  {
   "cell_type": "code",
   "execution_count": null,
   "metadata": {},
   "outputs": [],
   "source": [
    "m_C = morning_commute_data[morning_commute_data.temp_cat == 'Cold']\n",
    "day_counts = list()\n",
    "for d in m_C.start_date.dt.dayofweek.unique():\n",
    "    day_counts.append(len(m_C[m_C.start_date.dt.dayofweek == d].start_date.dt.date.unique()))\n",
    "m_C = m_C.groupby([m_C.start_date.dt.dayofweek])['trip_id'].count()\n",
    "m_C = m_C / day_counts\n",
    "ax = m_C.plot(color='b', label='Cold', figsize=(12,6))\n",
    "\n",
    "\n",
    "m_H = morning_commute_data[morning_commute_data.temp_cat == 'Hot']\n",
    "day_counts = list()\n",
    "for d in m_H.start_date.dt.dayofweek.unique():\n",
    "    day_counts.append(len(m_H[m_H.start_date.dt.dayofweek == d].start_date.dt.date.unique()))\n",
    "m_H = m_H.groupby([m_H.start_date.dt.dayofweek])['trip_id'].count()\n",
    "m_H = m_H / day_counts\n",
    "m_H.plot(color='r', label='Hot', ax=ax)\n",
    "\n",
    "\n",
    "\n",
    "m_N = morning_commute_data[morning_commute_data.temp_cat == 'Normal']\n",
    "day_counts = list()\n",
    "for d in m_N.start_date.dt.dayofweek.unique():\n",
    "    day_counts.append(len(m_N[m_N.start_date.dt.dayofweek == d].start_date.dt.date.unique()))\n",
    "m_N = m_N.groupby([m_N.start_date.dt.dayofweek])['trip_id'].count()\n",
    "m_N = m_N / day_counts\n",
    "m_N.plot(linestyle=':', color='k', label='Normal', ax=ax)\n",
    "\n",
    "\n",
    "\n",
    "ax.set_xticks(range(0,5))\n",
    "ax.set_xticklabels(day_labels_full[:5], size=TICK_FONT_SIZE)\n",
    "\n",
    "ax.set_yticks(range(0, 450, 50))\n",
    "ax.set_yticklabels([str(x) for x in range(0, 450, 50)], size=TICK_FONT_SIZE)\n",
    "\n",
    "ax.set_xlabel('Day of Week', size=LABEL_FONT_SIZE, weight='bold')\n",
    "ax.set_ylabel('Mean Trip Count', size=LABEL_FONT_SIZE, weight='bold')\n",
    "\n",
    "title = 'Morning Commute Mean Trips Per Day'\n",
    "ax.set_title(title, size=TITLE_FONT_SIZE, weight='bold')\n",
    "\n",
    "ax.legend(loc=1, frameon=True)\n",
    "plt.show()\n",
    "\n",
    "\n",
    "# DIFFERENCE\n",
    "cold_diff = m_C-m_N\n",
    "hot_diff  = m_H-m_N\n",
    "ax = cold_diff.plot(color='b', label='Cold Difference', figsize=(12,6))\n",
    "hot_diff.plot(color='r', label='Hot Difference', ax=ax)\n",
    "\n",
    "ax.set_xticks(range(0,5))\n",
    "ax.set_xticklabels(day_labels_full[:5], size=TICK_FONT_SIZE)\n",
    "\n",
    "ax.set_yticks(range(-350, -100, 50))\n",
    "ax.set_yticklabels([str(x) for x in range(-350, -100, 50)], size=TICK_FONT_SIZE)\n",
    "\n",
    "ax.set_xlabel('Day of Week', size=LABEL_FONT_SIZE, weight='bold')\n",
    "ax.set_ylabel('Mean Trip Count', size=LABEL_FONT_SIZE, weight='bold')\n",
    "\n",
    "title = 'Morning Commute Mean Trips Difference'\n",
    "ax.set_title(title, size=TITLE_FONT_SIZE, weight='bold')\n",
    "\n",
    "ax.legend(loc=1, frameon=True)\n",
    "plt.show()"
   ]
  },
  {
   "cell_type": "code",
   "execution_count": null,
   "metadata": {},
   "outputs": [],
   "source": [
    "e_C = evening_commute_data[evening_commute_data.temp_cat == 'Cold']\n",
    "day_counts = list()\n",
    "for d in e_C.start_date.dt.dayofweek.unique():\n",
    "    day_counts.append(len(e_C[e_C.start_date.dt.dayofweek == d].start_date.dt.date.unique()))\n",
    "e_C = e_C.groupby([e_C.start_date.dt.dayofweek])['trip_id'].count()\n",
    "e_C = e_C / day_counts\n",
    "ax = e_C.plot(color='b', label='Cold', figsize=(12,6))\n",
    "\n",
    "\n",
    "e_H = evening_commute_data[evening_commute_data.temp_cat == 'Hot']\n",
    "day_counts = list()\n",
    "for d in e_H.start_date.dt.dayofweek.unique():\n",
    "    day_counts.append(len(e_H[e_H.start_date.dt.dayofweek == d].start_date.dt.date.unique()))\n",
    "e_H = e_H.groupby([e_H.start_date.dt.dayofweek])['trip_id'].count()\n",
    "e_H = e_H / day_counts\n",
    "e_H.plot(color='r', label='Hot', ax=ax)\n",
    "\n",
    "\n",
    "\n",
    "e_N = evening_commute_data[evening_commute_data.temp_cat == 'Normal']\n",
    "day_counts = list()\n",
    "for d in e_N.start_date.dt.dayofweek.unique():\n",
    "    day_counts.append(len(e_N[e_N.start_date.dt.dayofweek == d].start_date.dt.date.unique()))\n",
    "e_N = e_N.groupby([e_N.start_date.dt.dayofweek])['trip_id'].count()\n",
    "e_N = e_N / day_counts\n",
    "e_N.plot(linestyle=':', color='k', label='Normal', ax=ax)\n",
    "\n",
    "ax.set_xticks(range(0,5))\n",
    "ax.set_xticklabels(day_labels_full[:5], size=TICK_FONT_SIZE)\n",
    "\n",
    "ax.set_yticks(range(0, 450, 50))\n",
    "ax.set_yticklabels([str(x) for x in range(0, 450, 50)], size=TICK_FONT_SIZE)\n",
    "\n",
    "ax.set_xlabel('Day of Week', size=LABEL_FONT_SIZE, weight='bold')\n",
    "ax.set_ylabel('Mean Trip Count', size=LABEL_FONT_SIZE, weight='bold')\n",
    "\n",
    "title = 'Evening Commute Mean Trips Per Day'\n",
    "ax.set_title(title, size=TITLE_FONT_SIZE, weight='bold')\n",
    "\n",
    "ax.legend(loc=1, frameon=True)\n",
    "plt.show()\n",
    "\n",
    "\n",
    "# DIFFERENCE\n",
    "cold_diff = e_C-e_N\n",
    "hot_diff  = e_H-e_N\n",
    "ax = cold_diff.plot(color='b', label='Cold Difference', figsize=(12,6))\n",
    "hot_diff.plot(color='r', label='Hot Difference', ax=ax)\n",
    "\n",
    "ax.set_xticks(range(0,5))\n",
    "ax.set_xticklabels(day_labels_full[:5], size=TICK_FONT_SIZE)\n",
    "\n",
    "ax.set_yticks(range(-350, 50, 50))\n",
    "ax.set_yticklabels([str(x) for x in range(-350, 50, 50)], size=TICK_FONT_SIZE)\n",
    "\n",
    "ax.set_xlabel('Day of Week', size=LABEL_FONT_SIZE, weight='bold')\n",
    "ax.set_ylabel('Mean Trip Count', size=LABEL_FONT_SIZE, weight='bold')\n",
    "\n",
    "title = 'Evening Commute Mean Trips Difference'\n",
    "ax.set_title(title, size=TITLE_FONT_SIZE, weight='bold')\n",
    "\n",
    "ax.legend(loc=1, frameon=True)\n",
    "plt.show()"
   ]
  },
  {
   "cell_type": "code",
   "execution_count": null,
   "metadata": {},
   "outputs": [],
   "source": []
  }
 ],
 "metadata": {
  "kernelspec": {
   "display_name": "Python 3",
   "language": "python",
   "name": "python3"
  },
  "language_info": {
   "codemirror_mode": {
    "name": "ipython",
    "version": 3
   },
   "file_extension": ".py",
   "mimetype": "text/x-python",
   "name": "python",
   "nbconvert_exporter": "python",
   "pygments_lexer": "ipython3",
   "version": "3.6.3"
  }
 },
 "nbformat": 4,
 "nbformat_minor": 2
}
