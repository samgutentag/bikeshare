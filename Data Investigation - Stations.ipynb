{
 "cells": [
  {
   "cell_type": "markdown",
   "metadata": {},
   "source": [
    "# Data Investigation - Stations"
   ]
  },
  {
   "cell_type": "code",
   "execution_count": 1,
   "metadata": {
    "collapsed": true
   },
   "outputs": [],
   "source": [
    "%matplotlib inline\n",
    "\n",
    "import matplotlib\n",
    "import numpy as np\n",
    "from scipy import stats\n",
    "import math\n",
    "import matplotlib.pyplot as plt\n",
    "import pandas as pd\n",
    "from glob import glob\n",
    "\n",
    "import seaborn as sns\n",
    "sns.set()"
   ]
  },
  {
   "cell_type": "markdown",
   "metadata": {},
   "source": [
    "### Import Data"
   ]
  },
  {
   "cell_type": "code",
   "execution_count": 2,
   "metadata": {},
   "outputs": [
    {
     "name": "stdout",
     "output_type": "stream",
     "text": [
      "Loading Trip Data...\n",
      "\tFinished file! (1 of 4)\n",
      "\tFinished file! (2 of 4)\n",
      "\tFinished file! (3 of 4)\n",
      "\tFinished file! (4 of 4)\n",
      "Data Loaded Successfully!\n"
     ]
    }
   ],
   "source": [
    "print('Loading Trip Data...')\n",
    "\n",
    "try:\n",
    "    file_path_slug = '../../datasets/bayareabikeshare/*_station_data.csv'\n",
    "\n",
    "    # glob all files\n",
    "    file_list = glob(file_path_slug)\n",
    "\n",
    "    station_import = pd.DataFrame()\n",
    "\n",
    "    counter = 1\n",
    "    chunks = []\n",
    "\n",
    "    # load data from each file\n",
    "    for file in file_list:\n",
    "\n",
    "        # import file in chunks\n",
    "        for chunk in pd.read_csv(file, chunksize=10000, iterator=True):\n",
    "\n",
    "            # set chunk index column to 'Trip ID'\n",
    "#             chunk = chunk.set_index('Trip ID')\n",
    "\n",
    "            # define Columns\n",
    "            chunk.columns = ['station_id', 'name', 'lat', 'long', 'dockcount', 'landmark', 'installation']            \n",
    "            \n",
    "            # append chunk to chunks list\n",
    "            chunks.append(chunk)\n",
    "\n",
    "        print('\\tFinished file! (%d of %d)' % (counter, len(file_list)))\n",
    "        counter += 1\n",
    "\n",
    "    # concat chunks\n",
    "    station_import = pd.concat(chunks)\n",
    "\n",
    "    print('Data Loaded Successfully!')\n",
    "\n",
    "except:\n",
    "    print('oops... something went wrong importing the data :(')"
   ]
  },
  {
   "cell_type": "code",
   "execution_count": 3,
   "metadata": {},
   "outputs": [
    {
     "name": "stdout",
     "output_type": "stream",
     "text": [
      "<class 'pandas.core.frame.DataFrame'>\n",
      "Int64Index: 1201 entries, 0 to 69\n",
      "Data columns (total 7 columns):\n",
      "station_id      276 non-null float64\n",
      "name            276 non-null object\n",
      "lat             276 non-null float64\n",
      "long            276 non-null float64\n",
      "dockcount       276 non-null float64\n",
      "landmark        276 non-null object\n",
      "installation    276 non-null object\n",
      "dtypes: float64(4), object(3)\n",
      "memory usage: 75.1+ KB\n"
     ]
    }
   ],
   "source": [
    "station_import.info()"
   ]
  },
  {
   "cell_type": "markdown",
   "metadata": {},
   "source": [
    "### Clean Data"
   ]
  },
  {
   "cell_type": "code",
   "execution_count": 4,
   "metadata": {
    "collapsed": true
   },
   "outputs": [],
   "source": [
    "def label_zip(row):\n",
    "    if row['landmark'] == 'San Francisco':\n",
    "       return '94107'\n",
    "    if row['landmark'] == 'Redwood City':\n",
    "        return '94063'\n",
    "    if row['landmark'] == 'Palo Alto':\n",
    "        return '94301'\n",
    "    if row['landmark'] == 'Mountain View':\n",
    "        return '94041'\n",
    "    if row['landmark'] == 'San Jose':\n",
    "        return '95113'\n",
    "    return '99999'"
   ]
  },
  {
   "cell_type": "code",
   "execution_count": 21,
   "metadata": {
    "collapsed": true
   },
   "outputs": [],
   "source": [
    "def make_lat_long(row):\n",
    "    lat = row['lat']\n",
    "    long = row['long']\n",
    "    return (lat, long)"
   ]
  },
  {
   "cell_type": "code",
   "execution_count": 22,
   "metadata": {},
   "outputs": [
    {
     "name": "stdout",
     "output_type": "stream",
     "text": [
      "remove dulplicates\n",
      "set datatype for each column\n",
      "correcting index\n",
      "Cleaning complete!\n",
      "<class 'pandas.core.frame.DataFrame'>\n",
      "Int64Index: 77 entries, 2 to 91\n",
      "Data columns (total 8 columns):\n",
      "name            77 non-null object\n",
      "lat             77 non-null float64\n",
      "long            77 non-null float64\n",
      "dockcount       77 non-null float64\n",
      "landmark        77 non-null category\n",
      "installation    77 non-null object\n",
      "zip_code        77 non-null object\n",
      "lat_long        77 non-null object\n",
      "dtypes: category(1), float64(3), object(4)\n",
      "memory usage: 5.1+ KB\n"
     ]
    }
   ],
   "source": [
    "station_data = station_import.copy()\n",
    "\n",
    "# remove dulplicates\n",
    "print('remove dulplicates')\n",
    "station_data.drop_duplicates(keep='first', inplace=True)\n",
    "station_data.dropna(how='all', inplace=True)\n",
    "\n",
    "# set datatype for each column\n",
    "print('set datatype for each column')\n",
    "station_data['station_id']   = station_data['station_id'].astype('int')\n",
    "station_data['name']         = station_data['name'].astype('str')\n",
    "station_data['lat']          = station_data['lat'].astype('float')\n",
    "station_data['long']         = station_data['long'].astype('float')\n",
    "station_data['landmark']     = station_data['landmark'].astype('category')\n",
    "\n",
    "# add a zipcode column for later comparison with weather data\n",
    "station_data['zip_code'] = station_data.apply(lambda row: label_zip (row),axis=1)\n",
    "station_data['zip_code'] = station_data['lat'].astype('str')\n",
    "\n",
    "# create lat,lon tuple column\n",
    "station_data['lat_long'] = station_data.apply(lambda row: make_lat_long (row),axis=1)\n",
    "\n",
    "# reindex to remove some extra duplicate\n",
    "print('correcting index')\n",
    "station_data.reset_index(inplace=True)\n",
    "station_data.drop_duplicates(['station_id', 'installation'], keep='first', inplace=True)\n",
    "station_data.set_index('station_id', inplace=True)\n",
    "station_data.sort_index(inplace=True)\n",
    "del station_data['index']\n",
    "\n",
    "station_clean = station_data.copy()\n",
    "print('Cleaning complete!')\n",
    "station_clean.info()"
   ]
  },
  {
   "cell_type": "code",
   "execution_count": 23,
   "metadata": {},
   "outputs": [
    {
     "data": {
      "text/html": [
       "<div>\n",
       "<style>\n",
       "    .dataframe thead tr:only-child th {\n",
       "        text-align: right;\n",
       "    }\n",
       "\n",
       "    .dataframe thead th {\n",
       "        text-align: left;\n",
       "    }\n",
       "\n",
       "    .dataframe tbody tr th {\n",
       "        vertical-align: top;\n",
       "    }\n",
       "</style>\n",
       "<table border=\"1\" class=\"dataframe\">\n",
       "  <thead>\n",
       "    <tr style=\"text-align: right;\">\n",
       "      <th></th>\n",
       "      <th>name</th>\n",
       "      <th>lat</th>\n",
       "      <th>long</th>\n",
       "      <th>dockcount</th>\n",
       "      <th>landmark</th>\n",
       "      <th>installation</th>\n",
       "      <th>zip_code</th>\n",
       "      <th>lat_long</th>\n",
       "    </tr>\n",
       "    <tr>\n",
       "      <th>station_id</th>\n",
       "      <th></th>\n",
       "      <th></th>\n",
       "      <th></th>\n",
       "      <th></th>\n",
       "      <th></th>\n",
       "      <th></th>\n",
       "      <th></th>\n",
       "      <th></th>\n",
       "    </tr>\n",
       "  </thead>\n",
       "  <tbody>\n",
       "    <tr>\n",
       "      <th>2</th>\n",
       "      <td>San Jose Diridon Caltrain Station</td>\n",
       "      <td>37.329732</td>\n",
       "      <td>-121.901782</td>\n",
       "      <td>27.0</td>\n",
       "      <td>San Jose</td>\n",
       "      <td>8/6/2013</td>\n",
       "      <td>37.329732</td>\n",
       "      <td>(37.329732, -121.90178200000001)</td>\n",
       "    </tr>\n",
       "    <tr>\n",
       "      <th>3</th>\n",
       "      <td>San Jose Civic Center</td>\n",
       "      <td>37.330698</td>\n",
       "      <td>-121.888979</td>\n",
       "      <td>15.0</td>\n",
       "      <td>San Jose</td>\n",
       "      <td>8/5/2013</td>\n",
       "      <td>37.330698</td>\n",
       "      <td>(37.330698, -121.888979)</td>\n",
       "    </tr>\n",
       "    <tr>\n",
       "      <th>4</th>\n",
       "      <td>Santa Clara at Almaden</td>\n",
       "      <td>37.333988</td>\n",
       "      <td>-121.894902</td>\n",
       "      <td>11.0</td>\n",
       "      <td>San Jose</td>\n",
       "      <td>8/6/2013</td>\n",
       "      <td>37.333988</td>\n",
       "      <td>(37.333988, -121.894902)</td>\n",
       "    </tr>\n",
       "    <tr>\n",
       "      <th>5</th>\n",
       "      <td>Adobe on Almaden</td>\n",
       "      <td>37.331415</td>\n",
       "      <td>-121.893200</td>\n",
       "      <td>19.0</td>\n",
       "      <td>San Jose</td>\n",
       "      <td>8/5/2013</td>\n",
       "      <td>37.331415</td>\n",
       "      <td>(37.331415, -121.8932)</td>\n",
       "    </tr>\n",
       "    <tr>\n",
       "      <th>6</th>\n",
       "      <td>San Pedro Square</td>\n",
       "      <td>37.336721</td>\n",
       "      <td>-121.894074</td>\n",
       "      <td>15.0</td>\n",
       "      <td>San Jose</td>\n",
       "      <td>8/7/2013</td>\n",
       "      <td>37.336721</td>\n",
       "      <td>(37.336721000000004, -121.894074)</td>\n",
       "    </tr>\n",
       "  </tbody>\n",
       "</table>\n",
       "</div>"
      ],
      "text/plain": [
       "                                         name        lat        long  \\\n",
       "station_id                                                             \n",
       "2           San Jose Diridon Caltrain Station  37.329732 -121.901782   \n",
       "3                       San Jose Civic Center  37.330698 -121.888979   \n",
       "4                      Santa Clara at Almaden  37.333988 -121.894902   \n",
       "5                            Adobe on Almaden  37.331415 -121.893200   \n",
       "6                            San Pedro Square  37.336721 -121.894074   \n",
       "\n",
       "            dockcount  landmark installation   zip_code  \\\n",
       "station_id                                                \n",
       "2                27.0  San Jose     8/6/2013  37.329732   \n",
       "3                15.0  San Jose     8/5/2013  37.330698   \n",
       "4                11.0  San Jose     8/6/2013  37.333988   \n",
       "5                19.0  San Jose     8/5/2013  37.331415   \n",
       "6                15.0  San Jose     8/7/2013  37.336721   \n",
       "\n",
       "                                     lat_long  \n",
       "station_id                                     \n",
       "2            (37.329732, -121.90178200000001)  \n",
       "3                    (37.330698, -121.888979)  \n",
       "4                    (37.333988, -121.894902)  \n",
       "5                      (37.331415, -121.8932)  \n",
       "6           (37.336721000000004, -121.894074)  "
      ]
     },
     "execution_count": 23,
     "metadata": {},
     "output_type": "execute_result"
    }
   ],
   "source": [
    "station_clean.head()"
   ]
  },
  {
   "cell_type": "code",
   "execution_count": null,
   "metadata": {
    "collapsed": true
   },
   "outputs": [],
   "source": []
  },
  {
   "cell_type": "code",
   "execution_count": null,
   "metadata": {
    "collapsed": true
   },
   "outputs": [],
   "source": []
  },
  {
   "cell_type": "code",
   "execution_count": null,
   "metadata": {
    "collapsed": true
   },
   "outputs": [],
   "source": []
  },
  {
   "cell_type": "code",
   "execution_count": null,
   "metadata": {
    "collapsed": true
   },
   "outputs": [],
   "source": []
  },
  {
   "cell_type": "code",
   "execution_count": null,
   "metadata": {
    "collapsed": true
   },
   "outputs": [],
   "source": []
  },
  {
   "cell_type": "code",
   "execution_count": null,
   "metadata": {
    "collapsed": true
   },
   "outputs": [],
   "source": []
  },
  {
   "cell_type": "code",
   "execution_count": null,
   "metadata": {
    "collapsed": true
   },
   "outputs": [],
   "source": []
  }
 ],
 "metadata": {
  "kernelspec": {
   "display_name": "Python 3",
   "language": "python",
   "name": "python3"
  },
  "language_info": {
   "codemirror_mode": {
    "name": "ipython",
    "version": 3
   },
   "file_extension": ".py",
   "mimetype": "text/x-python",
   "name": "python",
   "nbconvert_exporter": "python",
   "pygments_lexer": "ipython3",
   "version": "3.6.3"
  }
 },
 "nbformat": 4,
 "nbformat_minor": 2
}
