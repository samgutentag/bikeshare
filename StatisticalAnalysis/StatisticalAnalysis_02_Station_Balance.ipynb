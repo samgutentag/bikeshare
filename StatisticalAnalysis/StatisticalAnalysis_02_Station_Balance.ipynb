{
 "cells": [
  {
   "cell_type": "markdown",
   "metadata": {},
   "source": [
    "# Station Balance"
   ]
  },
  {
   "cell_type": "code",
   "execution_count": null,
   "metadata": {},
   "outputs": [],
   "source": [
    "%matplotlib inline\n",
    "\n",
    "import matplotlib\n",
    "import numpy as np\n",
    "from scipy import stats\n",
    "import math\n",
    "import matplotlib.pyplot as plt\n",
    "import pandas as pd\n",
    "import datetime\n",
    "from glob import glob\n",
    "\n",
    "import seaborn as sns\n",
    "# sns.set()\n",
    "sns.set_style('whitegrid')\n",
    "sns.set_context(\"poster\")"
   ]
  },
  {
   "cell_type": "code",
   "execution_count": null,
   "metadata": {},
   "outputs": [],
   "source": [
    "from IPython.core.display import display, HTML\n",
    "display(HTML(\"<style>.container { width:95% !important; }</style>\"))\n",
    "\n",
    "font = {'size'   : 50}\n",
    "matplotlib.rc('font', **font)\n",
    "\n",
    "TITLE_FONT_SIZE = 25\n",
    "LABEL_FONT_SIZE = 20\n",
    "TICK_FONT_SIZE  = 15"
   ]
  },
  {
   "cell_type": "code",
   "execution_count": null,
   "metadata": {},
   "outputs": [],
   "source": [
    "day_labels = ['MON','TUE','WED','THU','FRI','SAT','SUN']\n",
    "day_labels_full = ['MONDAY','TUESDAY','WEDNESDAY','THURSDAY','FRIDAY','SATURDAY','SUNDAY']\n",
    "month_labels = ['JAN','FEB','MAR','APR','MAY','JUN','JUL','AUG','SEP','OCT','NOV','DEC']\n",
    "\n",
    "ordered_zipcodes = [94107, 95113, 94041, 94301, 94063]"
   ]
  },
  {
   "cell_type": "markdown",
   "metadata": {},
   "source": [
    "# Load Data"
   ]
  },
  {
   "cell_type": "markdown",
   "metadata": {
    "collapsed": true
   },
   "source": [
    "## Trip Data"
   ]
  },
  {
   "cell_type": "code",
   "execution_count": null,
   "metadata": {},
   "outputs": [],
   "source": [
    "print('[%s] Loading Trip Data...' % datetime.datetime.now().time())\n",
    "\n",
    "trips_df = pd.DataFrame()\n",
    "trip_data_file = '../clean_data/bayareabikeshare/trip_data_cleaned.csv'\n",
    "\n",
    "# Chunk Settings\n",
    "chunks = []\n",
    "chunk_counter = 1\n",
    "chunksize = 10000\n",
    "num_chunks = math.ceil(sum(1 for row in open(trip_data_file, 'r'))/chunksize)\n",
    "\n",
    "# import file in chunks\n",
    "for chunk in pd.read_csv(trip_data_file, chunksize=chunksize, iterator=True, index_col=0, parse_dates=['start_date', 'end_date']):\n",
    "    \n",
    "#     # prune chunks\n",
    "#     chunk = chunk[(chunk.start_terminal.isin(pop_commuter_stations)) | (chunk.end_terminal.isin(pop_commuter_stations))].copy()\n",
    "    \n",
    "    # append chunk to chunks list\n",
    "    chunks.append(chunk)\n",
    "\n",
    "    if chunk_counter == 1 or chunk_counter % math.ceil(num_chunks/10) == 0 or chunk_counter == num_chunks:\n",
    "        print('\\t\\t[%s] finished chunk %s of %s' % (datetime.datetime.now().time(), chunk_counter, num_chunks))\n",
    "    chunk_counter += 1\n",
    "\n",
    "trips_df = pd.concat(chunks)\n",
    "trips_df.user_type = trips_df.user_type.astype('category')\n",
    "\n",
    "trips_df.drop_duplicates(inplace=True)\n",
    "trips_df.sort_values('trip_id', inplace=True)\n",
    "trips_df.reset_index(inplace=True, drop=True)\n",
    "\n",
    "print('[%s] Complete!' % datetime.datetime.now().time())"
   ]
  },
  {
   "cell_type": "code",
   "execution_count": null,
   "metadata": {},
   "outputs": [],
   "source": [
    "trips = trips_df.copy()"
   ]
  },
  {
   "cell_type": "code",
   "execution_count": null,
   "metadata": {
    "scrolled": true
   },
   "outputs": [],
   "source": [
    "trips.info()"
   ]
  },
  {
   "cell_type": "markdown",
   "metadata": {},
   "source": [
    "## Station Data"
   ]
  },
  {
   "cell_type": "code",
   "execution_count": null,
   "metadata": {},
   "outputs": [],
   "source": [
    "print('[%s] Loading Trip Data...' % datetime.datetime.now().time())\n",
    "\n",
    "stations_df = pd.DataFrame()\n",
    "stations_data_file = '../clean_data/bayareabikeshare/station_data_cleaned.csv'\n",
    "\n",
    "stations_df = pd.read_csv(stations_data_file, index_col=0, parse_dates=['first_service_date', 'last_service_date'])\n",
    "\n",
    "print('[%s] Complete!' % datetime.datetime.now().time())"
   ]
  },
  {
   "cell_type": "code",
   "execution_count": null,
   "metadata": {},
   "outputs": [],
   "source": [
    "stations_df.head()"
   ]
  },
  {
   "cell_type": "code",
   "execution_count": null,
   "metadata": {},
   "outputs": [],
   "source": [
    "subscriber_trips = trips[trips.user_type == 'Subscriber'].copy()\n",
    "customer_trips = trips[trips.user_type == 'Customer'].copy()"
   ]
  },
  {
   "cell_type": "markdown",
   "metadata": {},
   "source": [
    "# Plot Hourly Traffic Patterns at Each Station"
   ]
  },
  {
   "cell_type": "code",
   "execution_count": null,
   "metadata": {},
   "outputs": [],
   "source": [
    "def plot_hourly_traffic(df=None, terminal=70, suffix='', alpha=0.35):\n",
    "    \n",
    "    title = 'Station %s Hourly %s Traffic' % (terminal, suffix)\n",
    "    title = title.strip()\n",
    "    \n",
    "    # count hourly trips to this terminal\n",
    "    inbound = df[df.end_terminal == terminal]\n",
    "    inbound_hourly = inbound.groupby(inbound.end_date.dt.hour).count()['trip_id'].to_frame()\n",
    "    inbound_hourly.columns = ['inbound_hourly']\n",
    "    \n",
    "    outbound = df[df.start_terminal == terminal]\n",
    "    outbound_hourly = outbound.groupby(outbound.start_date.dt.hour).count()['trip_id'].to_frame()\n",
    "    outbound_hourly.columns = ['outbound_hourly']\n",
    "    \n",
    "    hourly_traffic = inbound_hourly.merge(outbound_hourly, left_index=True, right_index=True, how='outer')\n",
    "\n",
    "    # fill in missing index\n",
    "    new_index = pd.Index(range(0, 24, 1), name='ID')\n",
    "    hourly_traffic = hourly_traffic.reindex(new_index)\n",
    "    hourly_traffic.fillna(0, inplace=True)\n",
    "\n",
    "    plt.subplots(figsize=(24,6))\n",
    "    ax = sns.barplot(x=hourly_traffic.index, y=hourly_traffic.inbound_hourly, color='b', alpha=alpha, label='inbound')\n",
    "    sns.barplot(x=hourly_traffic.index, y=hourly_traffic.outbound_hourly, ax=ax, color='r', alpha=alpha, label='outbound')\n",
    "    \n",
    "    plt.title(title, size=TITLE_FONT_SIZE)\n",
    "    plt.legend(loc=1, frameon=True)\n",
    "    ax.set_xlabel('Hour', size=LABEL_FONT_SIZE)\n",
    "    ax.set_ylabel('Total Trips', size=LABEL_FONT_SIZE)\n",
    "    \n",
    "    file_name = '../charts/balancing/hourly/%s' % title.replace(' ', '_')\n",
    "    plt.savefig(file_name)\n",
    "    \n",
    "    # be memory effecient, close the figure once we are done with it\n",
    "    plt.close('all')"
   ]
  },
  {
   "cell_type": "code",
   "execution_count": null,
   "metadata": {
    "scrolled": true
   },
   "outputs": [],
   "source": [
    "for terminal in sorted(trips.start_terminal.unique()):\n",
    "    plot_hourly_traffic(terminal=terminal, df=subscriber_trips, suffix='Subscribers')\n",
    "    plot_hourly_traffic(terminal=terminal, df=trips[trips.start_date.dt.dayofweek < 5], suffix='All Riders Weekday')\n",
    "    plot_hourly_traffic(terminal=terminal, df=trips[trips.start_date.dt.dayofweek >= 5], suffix='All Riders Weekend')\n",
    "    plot_hourly_traffic(terminal=terminal, df=customer_trips, suffix='Customers')"
   ]
  },
  {
   "cell_type": "markdown",
   "metadata": {},
   "source": [
    "# Plot Weekly Traffic Patterns at Each Station"
   ]
  },
  {
   "cell_type": "code",
   "execution_count": null,
   "metadata": {},
   "outputs": [],
   "source": [
    "def plot_weekly_traffic(df=None, terminals=[70], suffix='', subtitle='', title='', alpha=0.35):\n",
    "    if subtitle == '':\n",
    "        terminal_titles = ' '.join([str(x) for x in terminals])\n",
    "        subtitle = 'Station %s Weekly %s Traffic' % (terminal_titles, suffix)\n",
    "        subtitle = subtitle.replace('  ', ' ').replace(\"'\", '')\n",
    "        subtitle = subtitle.strip()\n",
    "        \n",
    "    #--------------------------------------------------------------------------------\n",
    "    #   count weekly and hourly trips at specified terminal\n",
    "    #--------------------------------------------------------------------------------\n",
    "#     inbound = df[df.end_terminal == terminal]\n",
    "    inbound = df[df.end_terminal.isin(terminals)]\n",
    "    inbound_hourly = inbound.groupby([inbound.end_date.dt.dayofweek, inbound.end_date.dt.hour]).count()['trip_id'].to_frame()\n",
    "    inbound_hourly.columns = ['inbound_hourly']\n",
    "    inbound_hourly.index.names = ['dayofweek', 'hour']\n",
    "\n",
    "#     outbound = df[df.start_terminal == terminal]\n",
    "    outbound = df[df.start_terminal.isin(terminals)]\n",
    "    outbound_hourly = outbound.groupby([outbound.start_date.dt.dayofweek, outbound.start_date.dt.hour]).count()['trip_id'].to_frame()\n",
    "    outbound_hourly.columns = ['outbound_hourly']\n",
    "    outbound_hourly.index.names = ['dayofweek', 'hour']\n",
    "    \n",
    "    hourly_influx = inbound_hourly.merge(outbound_hourly, left_index=True, right_index=True, how='outer')\n",
    "    hourly_influx.reset_index(inplace=True)\n",
    "    \n",
    "    hourly_influx['ID'] = (hourly_influx.dayofweek * 24) + hourly_influx.hour\n",
    "    weekly_traffic = hourly_influx.copy()\n",
    "    \n",
    "    # fill in missing index\n",
    "    new_index = pd.Index(range(0, 24*7, 1), name='ID')\n",
    "    weekly_traffic = weekly_traffic.set_index('ID').reindex(new_index)\n",
    "    weekly_traffic.fillna(0, inplace=True)\n",
    "    \n",
    "    #--------------------------------------------------------------------------------\n",
    "    #   plotting\n",
    "    #--------------------------------------------------------------------------------\n",
    "    plt.subplots(figsize=(24,6))\n",
    "    ax = sns.barplot(x=weekly_traffic.index, y=weekly_traffic.inbound_hourly, color='b', alpha=alpha, label='inbound')\n",
    "    sns.barplot(x=weekly_traffic.index, y=weekly_traffic.outbound_hourly, ax=ax, color='r', alpha=alpha, label='outbound')\n",
    "    \n",
    "    plt.suptitle(title, y=1, size=TITLE_FONT_SIZE)\n",
    "    plt.title(subtitle, size=TITLE_FONT_SIZE * 0.8)\n",
    "    plt.legend(loc=1, frameon=True)\n",
    "    \n",
    "    ax.set_xticks([x*24+13 for x in range(0, 7, 1)])\n",
    "    ax.set_xticklabels(day_labels_full)\n",
    "    for vline in [x*24 for x in range(1, 7, 1)]:\n",
    "        ax.axvline(x=vline, linestyle=':', color='k', alpha=0.5)\n",
    "    ax.set_xlabel('Hour', size=LABEL_FONT_SIZE)\n",
    "    ax.set_ylabel('Total Trips', size=LABEL_FONT_SIZE)\n",
    "#     plt.show()\n",
    "    file_name = '../charts/balancing/weekly/%s.png' % subtitle.replace(' ', '_')\n",
    "    plt.savefig(file_name)\n",
    "    \n",
    "    # be memory effecient, close the figure once we are done with it\n",
    "    plt.close('all')\n",
    "    print('Finished %s - %s' % (subtitle, title))"
   ]
  },
  {
   "cell_type": "code",
   "execution_count": null,
   "metadata": {
    "scrolled": true
   },
   "outputs": [],
   "source": [
    "for terminal in sorted(trips.start_terminal.unique()):\n",
    "    \n",
    "    # lookup station name\n",
    "    station_name = stations_df[stations_df.station_id == terminal]['name'].iloc[0]\n",
    "    \n",
    "    plot_weekly_traffic(terminals=[terminal], df=trips, suffix='', subtitle='', title=station_name)"
   ]
  },
  {
   "cell_type": "markdown",
   "metadata": {},
   "source": [
    "## Plot Hourly Traffic at Caltrain 'Super Station'\n",
    "<p>Stations 69 and 70 are across the street from each other and the most popular stations in the program</p>\n",
    "<p>Plot weekly traffic as if they were a sigle station</p>"
   ]
  },
  {
   "cell_type": "code",
   "execution_count": null,
   "metadata": {},
   "outputs": [],
   "source": [
    "plot_weekly_traffic(terminals=[69, 70], df=trips, suffix='', subtitle='San Francisco Caltrain Stations 69 & 70', title='Caltrain \\'Super Station\\' Weekly Traffic')"
   ]
  },
  {
   "cell_type": "markdown",
   "metadata": {},
   "source": [
    "# Load Status Data\n",
    "<p>only load minute by minute data for stations 69 and 70</p>"
   ]
  },
  {
   "cell_type": "code",
   "execution_count": null,
   "metadata": {
    "scrolled": true
   },
   "outputs": [],
   "source": [
    "print('[%s] Loading Status Data...' % datetime.datetime.now().time())\n",
    "\n",
    "status_df = pd.DataFrame()\n",
    "status_data_file = '../clean_data/bayareabikeshare/status_data_cleaned.csv'\n",
    "\n",
    "# Chunk Settings\n",
    "chunks = []\n",
    "chunk_counter = 1\n",
    "chunksize = 10000\n",
    "\n",
    "# import file in chunks\n",
    "for i, chunk in enumerate(pd.read_csv(status_data_file, chunksize=chunksize, iterator=True, index_col=0, parse_dates=['time'])):\n",
    "    \n",
    "#     # prune chunks\n",
    "    chunk = chunk[chunk.station_id.isin([69, 70])]\n",
    "    \n",
    "    # append chunk to chunks list\n",
    "    chunks.append(chunk)\n",
    "    \n",
    "    if i == 0 or math.floor(i%100) == 0:\n",
    "        print('\\t\\t[%s] finished chunk %s' % (datetime.datetime.now().time(), i))\n",
    "\n",
    "status_df = pd.concat(chunks)\n",
    "# status_df.user_type = trips_df.user_type.astype('category')\n",
    "\n",
    "status_df.drop_duplicates(inplace=True)\n",
    "# status_df.sort_values('trip_id', inplace=True)\n",
    "status_df.reset_index(inplace=True, drop=True)\n",
    "\n",
    "print('[%s] Complete!' % datetime.datetime.now().time())"
   ]
  },
  {
   "cell_type": "code",
   "execution_count": null,
   "metadata": {},
   "outputs": [],
   "source": [
    "status_df.info()"
   ]
  },
  {
   "cell_type": "code",
   "execution_count": null,
   "metadata": {},
   "outputs": [],
   "source": [
    "status_df.head()"
   ]
  },
  {
   "cell_type": "code",
   "execution_count": null,
   "metadata": {},
   "outputs": [],
   "source": [
    "def plot_category_weekly(df=None, category='', subtitle='', title='', color='g', alpha=0.35, method='min', file_path_adj='', ylabel = ''):\n",
    "    \n",
    "    if method == 'min':\n",
    "        df = df.groupby([df.index.dayofweek, df.index.hour]).min()[category].copy().to_frame()\n",
    "        if subtitle != '':\n",
    "            subtitle = '%s Min' % subtitle\n",
    "\n",
    "    if method == 'max':\n",
    "        df = df.groupby([df.index.dayofweek, df.index.hour]).max()[category].copy().to_frame()\n",
    "        if subtitle != '':\n",
    "            subtitle = '%s Max' % subtitle\n",
    "\n",
    "    if method == 'mean':\n",
    "        df = df.groupby([df.index.dayofweek, df.index.hour]).mean()[category].copy().to_frame()\n",
    "        if subtitle != '':\n",
    "            subtitle = '%s Mean' % subtitle\n",
    "\n",
    "    if method == 'median':\n",
    "        df = df.groupby([df.index.dayofweek, df.index.hour]).median()[category].copy().to_frame()\n",
    "        if subtitle != '':\n",
    "            subtitle = '%s Median' % subtitle\n",
    "            \n",
    "    if method == 'count':\n",
    "        df = df.groupby([df.index.dayofweek, df.index.hour]).count()[category].copy().to_frame()\n",
    "        if subtitle != '':\n",
    "            subtitle = '%s Count' % subtitle\n",
    "        \n",
    "    df.index.names = ['dayofweek', 'hour']\n",
    "    df.reset_index(inplace=True)\n",
    "    df['ID'] = (df.dayofweek * 24) + df.hour\n",
    "\n",
    "    # fill in index to include every hour of day in the week, fills in missing values\n",
    "    new_index = pd.Index(range(0, 24*7, 1), name='ID')\n",
    "    df = df.set_index('ID').reindex(new_index)\n",
    "    df.fillna(0, inplace=True)\n",
    "\n",
    "    #--------------------------------------------------------------------------\n",
    "    #   Plot seaborn barplot of data\n",
    "    #--------------------------------------------------------------------------\n",
    "    plt.subplots(figsize=(24,6))\n",
    "    ax = sns.barplot(x=df.index, y=df[category], color=color, alpha=alpha, label=category)\n",
    "    \n",
    "    if subtitle != '':\n",
    "        plt.suptitle(title, y=1, x=0.51, size=TITLE_FONT_SIZE)\n",
    "        plt.title(subtitle, size=TITLE_FONT_SIZE * 0.8)\n",
    "    else:\n",
    "        plt.title(title, size=TITLE_FONT_SIZE)\n",
    "    plt.legend([method.title()], loc=1, frameon=True)\n",
    "\n",
    "    ax.set_xticks([x*24+13 for x in range(0, 7, 1)])\n",
    "    ax.set_xticklabels(day_labels_full)\n",
    "    for vline in [x*24 for x in range(1, 7, 1)]:\n",
    "        ax.axvline(x=vline, linestyle=':', color='k', alpha=0.5)\n",
    "    ax.set_xlabel('Hour', size=LABEL_FONT_SIZE)\n",
    "    \n",
    "    if ylabel == '':\n",
    "        ax.set_ylabel('Total Trips', size=LABEL_FONT_SIZE)\n",
    "    else:\n",
    "        ax.set_ylabel(ylabel.title(), size=LABEL_FONT_SIZE)\n",
    "#     plt.show()\n",
    "    if file_path_adj == '':\n",
    "        file_name = '../charts/balancing/weekly/%s.png' % subtitle.replace(' ', '_')\n",
    "    else:\n",
    "        if subtitle == '':\n",
    "            subtitle = '%s_%s' % (method, title)\n",
    "        file_name = '../charts/balancing/%s/%s.png' % (file_path_adj.lower(), subtitle.replace(' ', '_'))\n",
    "    print(file_name)\n",
    "    plt.savefig(file_name)\n",
    "#     plt.show()\n",
    "\n",
    "    # be memory effecient, close the figure once we are done with it\n",
    "    plt.close('all')\n",
    "\n",
    "    return df\n"
   ]
  },
  {
   "cell_type": "code",
   "execution_count": null,
   "metadata": {
    "scrolled": false
   },
   "outputs": [],
   "source": [
    "# plot_category_weekly(df=status, category='utilization', title='Caltrain Super Station', subtitle='Weekly Utilization', method='min', color='r')\n",
    "j = plot_category_weekly(df=status, category='utilization', title='Bay Area Bike Share', subtitle='Weekly Utilization', method='median', color='c', file_path_adj='global')\n",
    "j = plot_category_weekly(df=status, category='docks_available', title='Bay Area Bike Share', subtitle='Weekly Dock Availability', method='max', color='b', file_path_adj='global')\n",
    "j = plot_category_weekly(df=status, category='bikes_available', title='Bay Area Bike Share', subtitle='Weekly Bike Availability', method='max', color='b', file_path_adj='global')"
   ]
  },
  {
   "cell_type": "markdown",
   "metadata": {},
   "source": [
    "## Calculate Status at Stations 69 and 70 as if they were a single 'Super Station'"
   ]
  },
  {
   "cell_type": "code",
   "execution_count": null,
   "metadata": {},
   "outputs": [],
   "source": [
    "s69_status = status_df[status_df.station_id == 69].copy()\n",
    "s69_status = s69_status.groupby(['time']).mean()\n",
    "s69_status.reset_index(inplace=True)\n",
    "\n",
    "\n",
    "s70_status = status_df[status_df.station_id == 70].copy()\n",
    "s70_status = s70_status.groupby(['time']).mean()\n",
    "s70_status.reset_index(inplace=True)\n",
    "\n",
    "superstation_status = s69_status.append(s70_status, ignore_index=True)\n",
    "superstation_status = superstation_status.groupby(['time']).sum()\n",
    "\n",
    "superstation_status.drop(['station_id', 'zip_code'], axis=1, inplace=True)\n",
    "\n",
    "superstation_status.utilization = superstation_status.docks_available / superstation_status.dock_count\n",
    "\n",
    "superstation_status.info()"
   ]
  },
  {
   "cell_type": "code",
   "execution_count": null,
   "metadata": {},
   "outputs": [],
   "source": [
    "superstation_status.head()"
   ]
  },
  {
   "cell_type": "markdown",
   "metadata": {},
   "source": [
    "# How Often is the Super Station Not at an Ideal Utilization?\n",
    "<ul><b>Not Ideal Conditions are when Utilization is below 25% or above 75%</b>\n",
    "    <li><ul><b>Below 25%</b>\n",
    "        <li>Too many bikes are available, we run the risk of not having enough docks being available for inbound traffic</li>\n",
    "        <li>Too many unused bikes that could be better served at other stations</li>\n",
    "        </ul>\n",
    "    </li>\n",
    "    <li><ul><b>Above 75%</b>\n",
    "        <li>Not enough bikes are available, we run the risk of not being able to provide rides to outbound traffic</li>\n",
    "        <li>Too many unused bikes that could be better served at other stations</li>\n",
    "        </ul>\n",
    "    </li>\n",
    "</ul>\n"
   ]
  },
  {
   "cell_type": "code",
   "execution_count": null,
   "metadata": {},
   "outputs": [],
   "source": [
    "superstation_status['is_over_utilized']  = np.where(superstation_status.utilization > 0.75, 1, 0)\n",
    "superstation_status['is_under_utilized'] = np.where(superstation_status.utilization < 0.25, 1, 0)\n",
    "\n",
    "superstation_status['is_full'] = np.where(superstation_status.docks_available == 0, 1, 0)\n",
    "superstation_status['is_empty'] = np.where(superstation_status.docks_available == superstation_status.dock_count, 1, 0)\n",
    "\n",
    "superstation_status.head()"
   ]
  },
  {
   "cell_type": "code",
   "execution_count": null,
   "metadata": {},
   "outputs": [],
   "source": [
    "# plt.subplots(figsize=(24,6))\n",
    "# superstation_status.groupby([superstation_status.index.date]).max().is_under_utilized.plot(linestyle='', marker='.')\n",
    "# plt.show()\n",
    "\n",
    "# x = plot_category_weekly(df=superstation_status, category='is_under_utilized', method='count')\n",
    "# x = plot_category_weekly(df=superstation_status, category='is_under_utilized', method='mean')\n",
    "\n",
    "x = plot_category_weekly(df=superstation_status, category='is_full', method='mean', title='Super Station Full', file_path_adj='utilization', ylabel=' ')\n",
    "x = plot_category_weekly(df=superstation_status, category='is_empty', method='mean', title='Super Station Empty', file_path_adj='utilization', ylabel=' ')\n",
    "\n",
    "x = plot_category_weekly(df=superstation_status, category='is_under_utilized', method='mean', title='Super Station Under Utilized', file_path_adj='utilization', ylabel=' ')\n",
    "x = plot_category_weekly(df=superstation_status, category='is_over_utilized', method='mean', title='Super Station Over Utilized', file_path_adj='utilization', ylabel=' ')\n",
    "\n"
   ]
  },
  {
   "cell_type": "code",
   "execution_count": null,
   "metadata": {},
   "outputs": [],
   "source": [
    "# t = superstation_status.groupby([superstation_status.index.date, superstation_status.index.hour]).mean()['is_empty'].to_frame()\n",
    "t = superstation_status.resample('5Min').mean()[['is_empty', 'is_full']]\n",
    "t.info()"
   ]
  },
  {
   "cell_type": "code",
   "execution_count": null,
   "metadata": {},
   "outputs": [],
   "source": [
    "t.describe()"
   ]
  },
  {
   "cell_type": "code",
   "execution_count": null,
   "metadata": {},
   "outputs": [],
   "source": [
    "superstation_status.describe()"
   ]
  },
  {
   "cell_type": "code",
   "execution_count": null,
   "metadata": {},
   "outputs": [],
   "source": []
  },
  {
   "cell_type": "code",
   "execution_count": null,
   "metadata": {},
   "outputs": [],
   "source": []
  },
  {
   "cell_type": "code",
   "execution_count": null,
   "metadata": {},
   "outputs": [],
   "source": []
  },
  {
   "cell_type": "code",
   "execution_count": null,
   "metadata": {},
   "outputs": [],
   "source": []
  },
  {
   "cell_type": "code",
   "execution_count": null,
   "metadata": {},
   "outputs": [],
   "source": []
  },
  {
   "cell_type": "code",
   "execution_count": null,
   "metadata": {},
   "outputs": [],
   "source": [
    "dock_counts_df = stations_df.groupby(['station_id', 'landmark']).max()['dock_count'].to_frame()\n",
    "dock_counts_df.reset_index(inplace=True)\n",
    "dock_counts_df.groupby('landmark').sum()['dock_count']"
   ]
  },
  {
   "cell_type": "code",
   "execution_count": null,
   "metadata": {},
   "outputs": [],
   "source": [
    "num_sf_bikes = len(trips[trips.start_terminal.isin(stations_df[stations_df.landmark == 'San Francisco'].station_id.unique())].bike_id.unique())\n",
    "num_sf_bikes"
   ]
  },
  {
   "cell_type": "code",
   "execution_count": null,
   "metadata": {},
   "outputs": [],
   "source": [
    "trips.info()"
   ]
  },
  {
   "cell_type": "code",
   "execution_count": null,
   "metadata": {},
   "outputs": [],
   "source": []
  },
  {
   "cell_type": "markdown",
   "metadata": {},
   "source": [
    "# Concurrent Trips in Each Region"
   ]
  },
  {
   "cell_type": "code",
   "execution_count": null,
   "metadata": {},
   "outputs": [],
   "source": [
    "def plot_weekly_concurrent_trips(df=None, method='max', color='m', title='', file_path_adj=''):\n",
    "    concurrent_trips = pd.concat([pd.Series(1, df.start_date),  # created add 1\n",
    "                           pd.Series(-1, df.end_date)  # closed substract 1\n",
    "                           ]).resample('1Min').sum().cumsum()\n",
    "    concurrent_trips.fillna(0, inplace=True)\n",
    "    concurrent_trips = concurrent_trips.to_frame()\n",
    "    concurrent_trips.columns = ['concurrent_trips']\n",
    "    \n",
    "    title = '%s Weekly Concurrent Trips' % title\n",
    "    result = plot_category_weekly(df=concurrent_trips, category='concurrent_trips', title=title.strip(), method=method, color=color, file_path_adj=file_path_adj)\n",
    "    return result\n",
    "    "
   ]
  },
  {
   "cell_type": "code",
   "execution_count": null,
   "metadata": {
    "scrolled": false
   },
   "outputs": [],
   "source": [
    "regional_concurrent_max  = {}\n",
    "regional_concurrent_mean = {}\n",
    "\n",
    "for region in stations_df.landmark.unique():\n",
    "    region_stations = sorted(stations_df[stations_df.landmark == region].station_id.unique())    \n",
    "    trips_in_region = trips[(trips.start_terminal.isin(region_stations)) & (trips.end_terminal.isin(region_stations))].copy()\n",
    "    \n",
    "    regional_concurrent_max[region] = plot_weekly_concurrent_trips(df=trips_in_region, title=region, method='max', color='r', file_path_adj='concurrent')\n",
    "    regional_concurrent_mean[region] = plot_weekly_concurrent_trips(df=trips_in_region, title=region, method='mean', color='g', file_path_adj='concurrent')"
   ]
  },
  {
   "cell_type": "markdown",
   "metadata": {},
   "source": [
    "# Concurrent Trips To and From the Super Station"
   ]
  },
  {
   "cell_type": "code",
   "execution_count": null,
   "metadata": {},
   "outputs": [],
   "source": [
    "inbound_trips = trips[trips.end_terminal.isin([69, 70])].copy()\n",
    "outbound_trips = trips[trips.start_terminal.isin([69, 70])].copy()\n",
    "\n",
    "super_station_inbound_max   =  plot_weekly_concurrent_trips(df=inbound_trips, title='Caltrain Super Station Inbound', method='max', color='r', file_path_adj='superstation')\n",
    "super_station_inbound_mean  =  plot_weekly_concurrent_trips(df=inbound_trips, title='Caltrain Super Station Inbound', method='mean', color='g', file_path_adj='superstation')\n",
    "\n",
    "super_station_outbound_max  =  plot_weekly_concurrent_trips(df=outbound_trips, title='Caltrain Super Station Outbound', method='max', color='r', file_path_adj='superstation')\n",
    "super_station_outbound_mean =  plot_weekly_concurrent_trips(df=outbound_trips, title='Caltrain Super Station Outbound', method='mean', color='g', file_path_adj='superstation')\n",
    "\n"
   ]
  },
  {
   "cell_type": "code",
   "execution_count": null,
   "metadata": {},
   "outputs": [],
   "source": []
  },
  {
   "cell_type": "code",
   "execution_count": null,
   "metadata": {},
   "outputs": [],
   "source": []
  },
  {
   "cell_type": "code",
   "execution_count": null,
   "metadata": {},
   "outputs": [],
   "source": []
  },
  {
   "cell_type": "code",
   "execution_count": null,
   "metadata": {},
   "outputs": [],
   "source": []
  },
  {
   "cell_type": "code",
   "execution_count": null,
   "metadata": {},
   "outputs": [],
   "source": []
  },
  {
   "cell_type": "code",
   "execution_count": null,
   "metadata": {},
   "outputs": [],
   "source": []
  },
  {
   "cell_type": "code",
   "execution_count": null,
   "metadata": {
    "scrolled": false
   },
   "outputs": [],
   "source": [
    "superstation_balance = pd.DataFrame()\n",
    "superstation_balance['bikes_arriving'] = inbound_trips.groupby('end_date').count()['trip_id']\n",
    "superstation_balance['bikes_departing'] = outbound_trips.groupby('start_date').count()['trip_id']"
   ]
  },
  {
   "cell_type": "code",
   "execution_count": null,
   "metadata": {},
   "outputs": [],
   "source": []
  },
  {
   "cell_type": "code",
   "execution_count": null,
   "metadata": {},
   "outputs": [],
   "source": []
  },
  {
   "cell_type": "code",
   "execution_count": null,
   "metadata": {},
   "outputs": [],
   "source": []
  },
  {
   "cell_type": "code",
   "execution_count": null,
   "metadata": {},
   "outputs": [],
   "source": []
  },
  {
   "cell_type": "code",
   "execution_count": null,
   "metadata": {},
   "outputs": [],
   "source": []
  },
  {
   "cell_type": "code",
   "execution_count": null,
   "metadata": {},
   "outputs": [],
   "source": [
    "superstation_balance = superstation_balance.resample('1Min').sum()\n",
    "superstation_balance.fillna(0, inplace=True)\n",
    "\n",
    "superstation_balance['cumm_bikes_arriving'] = superstation_balance['bikes_arriving'].cumsum()\n",
    "superstation_balance['cumm_bikes_departing'] = superstation_balance['bikes_departing'].cumsum()\n",
    "\n",
    "superstation_balance['bikes_balance'] = superstation_balance['bikes_arriving'] - superstation_balance['bikes_departing']\n",
    "superstation_balance['cumm_bikes_balance'] = superstation_balance['cumm_bikes_arriving'] - superstation_balance['cumm_bikes_departing']\n",
    "\n",
    "superstation_balance.head(10)"
   ]
  },
  {
   "cell_type": "code",
   "execution_count": null,
   "metadata": {},
   "outputs": [],
   "source": [
    "supserstation_status.info()"
   ]
  },
  {
   "cell_type": "code",
   "execution_count": null,
   "metadata": {
    "scrolled": true
   },
   "outputs": [],
   "source": [
    "superstation_balance.info()"
   ]
  },
  {
   "cell_type": "code",
   "execution_count": null,
   "metadata": {},
   "outputs": [],
   "source": [
    "balance_diff = supserstation_status.merge(superstation_balance, left_index=True, right_index=True, how='right')\n",
    "\n",
    "for c in balance_diff.columns:\n",
    "    if c not in ['bikes_available', 'docks_available', 'bikes_arriving', 'bikes_departing']:\n",
    "        balance_diff.drop(c, axis=1, inplace=True)\n",
    "\n",
    "balance_diff.fillna(method='bfill', inplace=True)\n",
    "balance_diff.info()"
   ]
  },
  {
   "cell_type": "code",
   "execution_count": null,
   "metadata": {},
   "outputs": [],
   "source": [
    "balance_diff.head()"
   ]
  },
  {
   "cell_type": "code",
   "execution_count": null,
   "metadata": {
    "scrolled": true
   },
   "outputs": [],
   "source": [
    "# number of bikes relocated by system managers\n",
    "balance_diff['reported_bike_gain'] = balance_diff.bikes_available - balance_diff.bikes_available.shift(1)\n",
    "balance_diff['trip_bike_gain'] = balance_diff.bikes_arriving - balance_diff.bikes_departing\n",
    "\n",
    "# this nube\n",
    "balance_diff['investigate'] = balance_diff.reported_bike_gain - balance_diff.trip_bike_gain\n",
    "\n",
    "# bikes_arriving\n",
    "# relocated_bikes\n",
    "balance_diff[11300:11500]"
   ]
  },
  {
   "cell_type": "code",
   "execution_count": null,
   "metadata": {},
   "outputs": [],
   "source": [
    "# balance_diff.rolling('15min', min_periods=4).mean()[['reported_bike_gain', 'trip_bike_gain']].plot(figsize=(24,6), alpha=0.75)\n",
    "balance_diff[['investigate']].plot(figsize=(24,6), alpha=0.75)\n",
    "plt.show()"
   ]
  },
  {
   "cell_type": "code",
   "execution_count": null,
   "metadata": {},
   "outputs": [],
   "source": []
  }
 ],
 "metadata": {
  "kernelspec": {
   "display_name": "Python 3",
   "language": "python",
   "name": "python3"
  },
  "language_info": {
   "codemirror_mode": {
    "name": "ipython",
    "version": 3
   },
   "file_extension": ".py",
   "mimetype": "text/x-python",
   "name": "python",
   "nbconvert_exporter": "python",
   "pygments_lexer": "ipython3",
   "version": "3.6.3"
  }
 },
 "nbformat": 4,
 "nbformat_minor": 2
}
