{
 "cells": [
  {
   "cell_type": "markdown",
   "metadata": {
    "collapsed": true
   },
   "source": [
    "%matplotlib inline\n",
    "\n",
    "import matplotlib\n",
    "import numpy as np\n",
    "from scipy import stats\n",
    "import math\n",
    "import matplotlib.pyplot as plt\n",
    "import pandas as pd\n",
    "from glob import glob\n",
    "\n",
    "from geopy.distance import vincenty\n",
    "\n",
    "\n",
    "import seaborn as sns\n",
    "sns.set()"
   ]
  },
  {
   "cell_type": "markdown",
   "metadata": {},
   "source": [
    "## Load Trip Data"
   ]
  },
  {
   "cell_type": "code",
   "execution_count": 2,
   "metadata": {},
   "outputs": [
    {
     "name": "stdout",
     "output_type": "stream",
     "text": [
      "Loading Trip Data...\n",
      "\tFinished file! (1 of 4)\n",
      "\tFinished file! (2 of 4)\n",
      "\tFinished file! (3 of 4)\n",
      "\tFinished file! (4 of 4)\n",
      "Data Loaded Successfully!\n"
     ]
    }
   ],
   "source": [
    "print('Loading Trip Data...')\n",
    "\n",
    "try:\n",
    "    file_path_slug = '../../datasets/bayareabikeshare/*_trip_data.csv'\n",
    "\n",
    "    # glob all files\n",
    "    file_list = glob(file_path_slug)\n",
    "\n",
    "    trip_import = pd.DataFrame()\n",
    "\n",
    "    counter = 1\n",
    "    chunks = []\n",
    "\n",
    "    # load data from each file\n",
    "    for file in file_list:\n",
    "\n",
    "        # import file in chunks\n",
    "        for chunk in pd.read_csv(file, chunksize=10000, iterator=True):\n",
    "\n",
    "            # set chunk index column to 'Trip ID'\n",
    "            chunk = chunk.set_index('Trip ID')\n",
    "\n",
    "            # define Columns\n",
    "            chunk.columns = ['Duration', 'Start Date', 'Start Station', 'Start Terminal', 'End Date', \n",
    "                             'End Station', 'End Terminal', 'Bike #', 'Subscriber Type', 'Zip Code']\n",
    "\n",
    "            # append chunk to chunks list\n",
    "            chunks.append(chunk)\n",
    "\n",
    "        print('\\tFinished file! (%d of %d)' % (counter, len(file_list)))\n",
    "        counter += 1\n",
    "\n",
    "    # concat chunks\n",
    "    trip_import = pd.concat(chunks)\n",
    "\n",
    "    print('Data Loaded Successfully!')\n",
    "\n",
    "except:\n",
    "    print('oops... something went wrong importing the data :(')"
   ]
  },
  {
   "cell_type": "markdown",
   "metadata": {},
   "source": [
    "### Clean Trip Data"
   ]
  },
  {
   "cell_type": "code",
   "execution_count": 3,
   "metadata": {},
   "outputs": [
    {
     "name": "stdout",
     "output_type": "stream",
     "text": [
      "<class 'pandas.core.frame.DataFrame'>\n",
      "Int64Index: 983648 entries, 913465 to 198776\n",
      "Data columns (total 10 columns):\n",
      "Duration           983648 non-null int64\n",
      "Start Date         983648 non-null object\n",
      "Start Station      983648 non-null object\n",
      "Start Terminal     983648 non-null int64\n",
      "End Date           983648 non-null object\n",
      "End Station        983648 non-null object\n",
      "End Terminal       983648 non-null int64\n",
      "Bike #             983648 non-null int64\n",
      "Subscriber Type    983648 non-null object\n",
      "Zip Code           976838 non-null object\n",
      "dtypes: int64(4), object(6)\n",
      "memory usage: 82.6+ MB\n"
     ]
    }
   ],
   "source": [
    "trip_data = trip_import.copy()\n",
    "trip_data.info()"
   ]
  },
  {
   "cell_type": "code",
   "execution_count": 4,
   "metadata": {
    "collapsed": true
   },
   "outputs": [],
   "source": [
    "# our data set show duration in seconds, here are some handy conversions\n",
    "second = 1\n",
    "minute = second * 60\n",
    "hour = minute * 60\n",
    "\n",
    "# station ID numbers that are in San Francisco\n",
    "sf_stations = [ 39,41,42,45,46,47,48,49,50,51,54,55,56,57,58,59,60,61,62,63,\n",
    "                64,65,66,67,68,69,70,71,72,73,74,75,76,77,82,90,91]"
   ]
  },
  {
   "cell_type": "code",
   "execution_count": 5,
   "metadata": {
    "collapsed": true
   },
   "outputs": [],
   "source": [
    "# zipcodes are all over the place, only keep corrected 5 digit zipcodes, and replace all others with NaNs\n",
    "def clean_zipcode(item):\n",
    "    if len(item) != 5:\n",
    "\n",
    "        # split on '-'\n",
    "        try:\n",
    "            result = item.split('-')[0]\n",
    "        except:\n",
    "            result = item\n",
    "\n",
    "        # split on '.'\n",
    "        try:\n",
    "            result = item.split('.')[0]\n",
    "        except:\n",
    "            result = item\n",
    "        \n",
    "        # if len of item is less than 5, return 'NaN'\n",
    "        if len(result) < 5:\n",
    "            result = 'NaN'\n",
    "        else:\n",
    "            # if len result is greater than 5, take at most, first 5 digits\n",
    "            result = result[:5]\n",
    "    else:\n",
    "        result = item\n",
    "    \n",
    "    # make sure result is all digits\n",
    "    if result.isdigit():\n",
    "        return result\n",
    "    else:\n",
    "        return 'NaN'"
   ]
  },
  {
   "cell_type": "code",
   "execution_count": 6,
   "metadata": {},
   "outputs": [
    {
     "name": "stdout",
     "output_type": "stream",
     "text": [
      "Trip Data Cleanup Started...\n",
      "\tcleaning column names\n",
      "\tsubsetting to useful columns\n",
      "\tcreating a duration_minutes column\n",
      "\tconverting end and start dates to datetime objects\n",
      "\tcreating trip_date and trip_dow columns\n",
      "\tcreating start_hour and end_hour columns\n",
      "\tcleaning zipcodes\n",
      "cleaning up data types\n",
      "Trip Data Cleanup complete\n"
     ]
    }
   ],
   "source": [
    "print('Trip Data Cleanup Started...')\n",
    "\n",
    "# cleanup column names\n",
    "print('\\tcleaning column names')\n",
    "new_cols = []\n",
    "for col in trip_data.columns:\n",
    "    new_cols.append(col.replace(' ', '_').lower())\n",
    "trip_data.columns = new_cols\n",
    "\n",
    "# extract columns we want to keep\n",
    "print('\\tsubsetting to useful columns')\n",
    "important_cols = ['duration', 'start_date', 'start_terminal', 'end_date', 'end_terminal', 'bike_#', 'subscriber_type', 'zip_code']\n",
    "trip_data = trip_data[important_cols]\n",
    "\n",
    "# we are only looking at stations in San Francisco\n",
    "sf_trips_data = trip_data[trip_data['start_terminal'].isin(sf_stations)]\n",
    "sf_trips_data = sf_trips_data[sf_trips_data['end_terminal'].isin(sf_stations)]\n",
    "\n",
    "trip_data = sf_trips_data.copy()\n",
    "\n",
    "# create duration minutes column\n",
    "print('\\tcreating a duration_minutes column')\n",
    "trip_data['duration_minutes'] = trip_data['duration'] / 60.0\n",
    "\n",
    "# convert end and start dates to datetime objects\n",
    "print('\\tconverting end and start dates to datetime objects')\n",
    "trip_data['start_date'] = pd.to_datetime(trip_data['start_date'], format=\"%m/%d/%Y %H:%M\")\n",
    "trip_data['end_date']   = pd.to_datetime(trip_data['end_date'],   format=\"%m/%d/%Y %H:%M\")\n",
    "\n",
    "# create a start and end hour trip column\n",
    "print('\\tcreating trip_date and trip_dow columns')\n",
    "trip_data['trip_date']  = trip_data['start_date'].dt.date\n",
    "trip_data['trip_dow']  = trip_data['start_date'].dt.weekday\n",
    "trip_data['trip_day']  = trip_data['start_date'].dt.weekday_name\n",
    "\n",
    "print('\\tcreating start_hour and end_hour columns')\n",
    "trip_data['start_hour'] = trip_data['start_date'].dt.hour\n",
    "trip_data['end_hour']   = trip_data['end_date'].dt.hour\n",
    "\n",
    "# convert and clean zipcodes\n",
    "print('\\tcleaning zipcodes')\n",
    "trip_data['zip_code'] = trip_data['zip_code'].astype(str)\n",
    "trip_data.zip_code = trip_data.zip_code.apply(clean_zipcode)\n",
    "trip_data['zip_code'] = pd.to_numeric(trip_data['zip_code'], errors='coerce')\n",
    "\n",
    "# clean up data types\n",
    "print('cleaning up data types')\n",
    "\n",
    "trip_data['duration']         = trip_data['duration'].astype('float')\n",
    "# trip_data['start_date']       = trip_data['start_date'].astype('')\n",
    "trip_data['start_terminal']   = trip_data['start_terminal'].astype('category')\n",
    "# trip_data['end_date']         = trip_data['end_date'].astype('')\n",
    "trip_data['end_terminal']     = trip_data['end_terminal'].astype('category')\n",
    "trip_data['bike_#']           = trip_data['bike_#'].astype('int')\n",
    "trip_data['subscriber_type']  = trip_data['subscriber_type'].astype('category')\n",
    "trip_data['zip_code']         = trip_data['zip_code'].astype('str')\n",
    "trip_data['duration_minutes'] = trip_data['duration_minutes'].astype('float')\n",
    "# trip_data['trip_date']        = trip_data['trip_date'].astype('')\n",
    "trip_data['trip_dow']         = trip_data['trip_dow'].astype('category')\n",
    "trip_data['trip_day']         = trip_data['trip_day'].astype('category')\n",
    "# trip_data['start_hour']       = trip_data['start_hour'].astype('')\n",
    "# trip_data['end_hour']         = trip_data['end_hour'].astype('')\n",
    "\n",
    "\n",
    "print('Trip Data Cleanup complete')\n",
    "trip_clean = trip_data.copy()"
   ]
  },
  {
   "cell_type": "code",
   "execution_count": 7,
   "metadata": {},
   "outputs": [
    {
     "name": "stdout",
     "output_type": "stream",
     "text": [
      "<class 'pandas.core.frame.DataFrame'>\n",
      "Int64Index: 891200 entries, 913465 to 198776\n",
      "Data columns (total 14 columns):\n",
      "duration            891200 non-null float64\n",
      "start_date          891200 non-null datetime64[ns]\n",
      "start_terminal      891200 non-null category\n",
      "end_date            891200 non-null datetime64[ns]\n",
      "end_terminal        891200 non-null category\n",
      "bike_#              891200 non-null int64\n",
      "subscriber_type     891200 non-null category\n",
      "zip_code            891200 non-null object\n",
      "duration_minutes    891200 non-null float64\n",
      "trip_date           891200 non-null object\n",
      "trip_dow            891200 non-null category\n",
      "trip_day            891200 non-null category\n",
      "start_hour          891200 non-null int64\n",
      "end_hour            891200 non-null int64\n",
      "dtypes: category(5), datetime64[ns](2), float64(2), int64(3), object(2)\n",
      "memory usage: 72.2+ MB\n"
     ]
    }
   ],
   "source": [
    "trip_clean.info()"
   ]
  },
  {
   "cell_type": "code",
   "execution_count": 8,
   "metadata": {},
   "outputs": [
    {
     "name": "stdout",
     "output_type": "stream",
     "text": [
      "pruning data to trips no more than 60 minutes long...\n",
      "\tpruned data set 'trips' consists of 868208 entries\n"
     ]
    },
    {
     "data": {
      "image/png": "[encoded data removed]",
      "text/plain": [
       "<matplotlib.figure.Figure at 0x1a09e12470>"
      ]
     },
     "metadata": {},
     "output_type": "display_data"
    }
   ],
   "source": [
    "# prune data to exclude trips longer than 60 minutes\n",
    "print('pruning data to trips no more than 60 minutes long...')\n",
    "trips = trip_clean[trip_clean['duration_minutes'] <= 60].copy()\n",
    "\n",
    "# Cleanup\n",
    "trips.sort_index(inplace=True)\n",
    "print('\\tpruned data set \\'trips\\' consists of %i entries' % len(trips.index))\n",
    "\n",
    "plt.subplots(figsize=(12,6))\n",
    "ax = sns.distplot(trips[trips.subscriber_type == 'Subscriber'].start_date.dt.hour, color='b', label='Subscribers')\n",
    "sns.distplot(trips[trips.subscriber_type == 'Customer'].start_date.dt.hour, color='r', label='Customers', ax=ax)\n",
    "ax.set(xlabel='start hour')\n",
    "plt.legend()\n",
    "plt.show()"
   ]
  },
  {
   "cell_type": "markdown",
   "metadata": {},
   "source": [
    "## Load Weather Data"
   ]
  },
  {
   "cell_type": "code",
   "execution_count": 9,
   "metadata": {},
   "outputs": [
    {
     "name": "stdout",
     "output_type": "stream",
     "text": [
      "Loading Weather Data...\n",
      "\tfinished file! (1 of 4)\n",
      "\tfinished file! (2 of 4)\n",
      "\tfinished file! (3 of 4)\n",
      "\tfinished file! (4 of 4)\n",
      "Data Loaded Successfully!\n"
     ]
    }
   ],
   "source": [
    "print('Loading Weather Data...')\n",
    "\n",
    "try:\n",
    "    file_path_slug = '../../datasets/bayareabikeshare/*_weather_data.csv'\n",
    "\n",
    "    # glob all files\n",
    "    file_list = glob(file_path_slug)\n",
    "\n",
    "    weather_import = pd.DataFrame()\n",
    "\n",
    "    counter = 1\n",
    "    chunks = []\n",
    "\n",
    "    # load data from each file\n",
    "    for file in file_list:\n",
    "\n",
    "        # import file in chunks\n",
    "        for chunk in pd.read_csv(file, chunksize=10000, iterator=True):\n",
    "\n",
    "            chunk.columns = ['Date', 'Max_Temperature_F', 'Mean_Temperature_F', 'Min_TemperatureF', 'Max_Dew_Point_F', \n",
    "                             'MeanDew_Point_F', 'Min_Dewpoint_F', 'Max_Humidity', 'Mean_Humidity', 'Min_Humidity', \n",
    "                             'Max_Sea_Level_Pressure_In', 'Mean_Sea_Level_Pressure_In', 'Min_Sea_Level_Pressure_In', \n",
    "                             'Max_Visibility_Miles', 'Mean_Visibility_Miles', 'Min_Visibility_Miles', \n",
    "                             'Max_Wind_Speed_MPH', 'Mean_Wind_Speed_MPH', 'Max_Gust_Speed_MPH', 'Precipitation_In', \n",
    "                             'Cloud_Cover', 'Events', 'Wind_Dir_Degrees', 'zip']\n",
    "\n",
    "            chunks.append(chunk)\n",
    "\n",
    "        print('\\tfinished file! (%d of %d)'% (counter, len(file_list)))\n",
    "        counter += 1\n",
    "\n",
    "    # concat chunks\n",
    "    weather_import = pd.concat(chunks)\n",
    "\n",
    "    print('Data Loaded Successfully!')\n",
    "except:\n",
    "    print('oops... something went wrong loading the data :()')"
   ]
  },
  {
   "cell_type": "code",
   "execution_count": 10,
   "metadata": {},
   "outputs": [
    {
     "name": "stdout",
     "output_type": "stream",
     "text": [
      "<class 'pandas.core.frame.DataFrame'>\n",
      "Int64Index: 5495 entries, 0 to 1824\n",
      "Data columns (total 24 columns):\n",
      "Date                          5495 non-null object\n",
      "Max_Temperature_F             5491 non-null float64\n",
      "Mean_Temperature_F            5491 non-null float64\n",
      "Min_TemperatureF              5491 non-null float64\n",
      "Max_Dew_Point_F               5441 non-null float64\n",
      "MeanDew_Point_F               5441 non-null float64\n",
      "Min_Dewpoint_F                5441 non-null float64\n",
      "Max_Humidity                  5441 non-null float64\n",
      "Mean_Humidity                 5441 non-null float64\n",
      "Min_Humidity                  5441 non-null float64\n",
      "Max_Sea_Level_Pressure_In     5494 non-null float64\n",
      "Mean_Sea_Level_Pressure_In    5494 non-null float64\n",
      "Min_Sea_Level_Pressure_In     5494 non-null float64\n",
      "Max_Visibility_Miles          5473 non-null float64\n",
      "Mean_Visibility_Miles         5473 non-null float64\n",
      "Min_Visibility_Miles          5473 non-null float64\n",
      "Max_Wind_Speed_MPH            5494 non-null float64\n",
      "Mean_Wind_Speed_MPH           5494 non-null float64\n",
      "Max_Gust_Speed_MPH            4060 non-null float64\n",
      "Precipitation_In              5494 non-null object\n",
      "Cloud_Cover                   5494 non-null float64\n",
      "Events                        888 non-null object\n",
      "Wind_Dir_Degrees              5494 non-null float64\n",
      "zip                           5495 non-null int64\n",
      "dtypes: float64(20), int64(1), object(3)\n",
      "memory usage: 1.0+ MB\n"
     ]
    }
   ],
   "source": [
    "weather_data = weather_import.copy()\n",
    "weather_data.info()"
   ]
  },
  {
   "cell_type": "markdown",
   "metadata": {},
   "source": [
    "### Clean Weather Data"
   ]
  },
  {
   "cell_type": "code",
   "execution_count": 11,
   "metadata": {},
   "outputs": [
    {
     "name": "stdout",
     "output_type": "stream",
     "text": [
      "Weather Data Cleanup Started...\n",
      "\tcleaning column names\n",
      "\tconverting dates to datetime objects\n",
      "\tsubsetting to useful columns\n",
      "Weather Data Cleanup complete\n"
     ]
    }
   ],
   "source": [
    "print('Weather Data Cleanup Started...')\n",
    "\n",
    "# cleanup column names\n",
    "print('\\tcleaning column names')\n",
    "new_cols = []\n",
    "for col in weather_data.columns:\n",
    "    new_cols.append(col.replace(' ', '_').lower())\n",
    "weather_data.columns = new_cols\n",
    "\n",
    "# convert end and start dates to datetime objects\n",
    "print('\\tconverting dates to datetime objects')\n",
    "weather_data['date'] = pd.to_datetime(weather_data['date'], format=\"%m/%d/%Y\")\n",
    "\n",
    "# extract columns we want to keep\n",
    "print('\\tsubsetting to useful columns')\n",
    "important_cols = ['date', 'max_temperature_f', 'mean_temperature_f', 'min_temperaturef',\n",
    "                  'max_dew_point_f', 'meandew_point_f', 'min_dewpoint_f',\n",
    "                  'max_wind_speed_mph', 'mean_wind_speed_mph', 'max_gust_speed_mph',\n",
    "                  'precipitation_in', 'cloud_cover', 'events', 'zip']\n",
    "weather_data = weather_data[important_cols]\n",
    "\n",
    "# correct min_temperaturef column name to min_temperature_f\n",
    "# weather['min_temperaturef'].rename('min_temperature_f')\n",
    "weather_data.rename(columns={'min_temperaturef': 'min_temperature_f'}, inplace=True)\n",
    "\n",
    "# cleanup and set date as index\n",
    "weather_data.set_index('date', inplace=True)\n",
    "weather_data.sort_index(inplace=True)\n",
    "\n",
    "# cleanup precipitation data to be all float values\n",
    "weather_data['precipitation_in'] = pd.to_numeric(weather_data['precipitation_in'], errors='coerce')\n",
    "\n",
    "# we only want San Francisco Weather information, zipcode 94107\n",
    "weather_data = weather_data[weather_data.zip == 94107]\n",
    "\n",
    "print('Weather Data Cleanup complete')\n",
    "weather_clean = weather_data.copy()"
   ]
  },
  {
   "cell_type": "code",
   "execution_count": null,
   "metadata": {
    "collapsed": true
   },
   "outputs": [],
   "source": []
  },
  {
   "cell_type": "code",
   "execution_count": null,
   "metadata": {
    "collapsed": true
   },
   "outputs": [],
   "source": []
  },
  {
   "cell_type": "markdown",
   "metadata": {},
   "source": [
    "## Load Station Data"
   ]
  },
  {
   "cell_type": "code",
   "execution_count": 12,
   "metadata": {},
   "outputs": [
    {
     "name": "stdout",
     "output_type": "stream",
     "text": [
      "Loading Station Data...\n",
      "\tFinished file! (1 of 4)\n",
      "\tFinished file! (2 of 4)\n",
      "\tFinished file! (3 of 4)\n",
      "\tFinished file! (4 of 4)\n",
      "Data Loaded Successfully!\n"
     ]
    }
   ],
   "source": [
    "print('Loading Station Data...')\n",
    "\n",
    "try:\n",
    "    file_path_slug = '../../datasets/bayareabikeshare/*_station_data.csv'\n",
    "\n",
    "    # glob all files\n",
    "    file_list = glob(file_path_slug)\n",
    "\n",
    "    station_import = pd.DataFrame()\n",
    "\n",
    "    counter = 1\n",
    "    chunks = []\n",
    "\n",
    "    # load data from each file\n",
    "    for file in file_list:\n",
    "\n",
    "        # import file in chunks\n",
    "        for chunk in pd.read_csv(file, chunksize=10000, iterator=True):\n",
    "\n",
    "            # set chunk index column to 'Trip ID'\n",
    "#             chunk = chunk.set_index('Trip ID')\n",
    "\n",
    "            # define Columns\n",
    "            chunk.columns = ['station_id', 'name', 'lat', 'long', 'dockcount', 'landmark', 'installation']            \n",
    "            \n",
    "            # append chunk to chunks list\n",
    "            chunks.append(chunk)\n",
    "\n",
    "        print('\\tFinished file! (%d of %d)' % (counter, len(file_list)))\n",
    "        counter += 1\n",
    "\n",
    "    # concat chunks\n",
    "    station_import = pd.concat(chunks)\n",
    "\n",
    "    print('Data Loaded Successfully!')\n",
    "\n",
    "except:\n",
    "    print('oops... something went wrong importing the data :(')"
   ]
  },
  {
   "cell_type": "markdown",
   "metadata": {},
   "source": [
    "### Clean Station Data"
   ]
  },
  {
   "cell_type": "code",
   "execution_count": 13,
   "metadata": {
    "collapsed": true
   },
   "outputs": [],
   "source": [
    "def label_zip(row):\n",
    "    if row['landmark'] == 'San Francisco':\n",
    "       return '94107'\n",
    "    if row['landmark'] == 'Redwood City':\n",
    "        return '94063'\n",
    "    if row['landmark'] == 'Palo Alto':\n",
    "        return '94301'\n",
    "    if row['landmark'] == 'Mountain View':\n",
    "        return '94041'\n",
    "    if row['landmark'] == 'San Jose':\n",
    "        return '95113'\n",
    "    return '99999'\n",
    "\n",
    "def make_lat_long(row):\n",
    "    lat = row['lat']\n",
    "    long = row['long']\n",
    "    return (lat, long)"
   ]
  },
  {
   "cell_type": "code",
   "execution_count": 14,
   "metadata": {},
   "outputs": [
    {
     "name": "stdout",
     "output_type": "stream",
     "text": [
      "remove dulplicates\n",
      "set datatype for each column\n",
      "correcting index\n",
      "Cleaning complete!\n",
      "<class 'pandas.core.frame.DataFrame'>\n",
      "Int64Index: 77 entries, 2 to 91\n",
      "Data columns (total 8 columns):\n",
      "name            77 non-null object\n",
      "lat             77 non-null float64\n",
      "long            77 non-null float64\n",
      "dockcount       77 non-null float64\n",
      "landmark        77 non-null category\n",
      "installation    77 non-null object\n",
      "zip_code        77 non-null object\n",
      "lat_long        77 non-null object\n",
      "dtypes: category(1), float64(3), object(4)\n",
      "memory usage: 5.1+ KB\n"
     ]
    }
   ],
   "source": [
    "station_data = station_import.copy()\n",
    "\n",
    "# remove dulplicates\n",
    "print('remove dulplicates')\n",
    "station_data.drop_duplicates(keep='first', inplace=True)\n",
    "station_data.dropna(how='all', inplace=True)\n",
    "\n",
    "# set datatype for each column\n",
    "print('set datatype for each column')\n",
    "station_data['station_id']   = station_data['station_id'].astype('int')\n",
    "station_data['name']         = station_data['name'].astype('str')\n",
    "station_data['lat']          = station_data['lat'].astype('float')\n",
    "station_data['long']         = station_data['long'].astype('float')\n",
    "station_data['landmark']     = station_data['landmark'].astype('category')\n",
    "\n",
    "# add a zipcode column for later comparison with weather data\n",
    "station_data['zip_code'] = station_data.apply(lambda row: label_zip (row),axis=1)\n",
    "# station_data['zip_code'] = station_data['landmark'].astype('str')\n",
    "\n",
    "# create lat,lon tuple column\n",
    "station_data['lat_long'] = station_data.apply(lambda row: make_lat_long (row),axis=1)\n",
    "\n",
    "# reindex to remove some extra duplicate\n",
    "print('correcting index')\n",
    "station_data.reset_index(inplace=True)\n",
    "station_data.drop_duplicates(['station_id', 'installation'], keep='first', inplace=True)\n",
    "station_data.set_index('station_id', inplace=True)\n",
    "station_data.sort_index(inplace=True)\n",
    "del station_data['index']\n",
    "\n",
    "station_clean = station_data.copy()\n",
    "print('Cleaning complete!')\n",
    "station_clean.info()"
   ]
  },
  {
   "cell_type": "code",
   "execution_count": null,
   "metadata": {
    "collapsed": true
   },
   "outputs": [],
   "source": []
  },
  {
   "cell_type": "markdown",
   "metadata": {},
   "source": [
    "## Append Route Distance column to Trips Data"
   ]
  },
  {
   "cell_type": "code",
   "execution_count": 15,
   "metadata": {
    "collapsed": true
   },
   "outputs": [],
   "source": [
    "def route_distance(row):\n",
    "    \n",
    "    # round trips are defaulting to zero km\n",
    "    if row['start_terminal'] == row['end_terminal']:\n",
    "        dist = 0.0\n",
    "        return dist\n",
    "    \n",
    "#     print(row['start_terminal'], ' ', row['end_terminal'], ' ', row['trip_date'])\n",
    "    # lookup start_station id coords\n",
    "    start_gps = station_clean.loc[row['start_terminal']]['lat_long']\n",
    "\n",
    "    # lookup end_station id coords\n",
    "    end_gps = station_clean.loc[row['end_terminal']]['lat_long']\n",
    "\n",
    "    \n",
    "    '''\n",
    "        this is sloppy, but some stations moved over time, we are just going to take the most recent \n",
    "        location coordinates, this is not an exact measurment by roadways, and we dont know the routes \n",
    "        that riders took anyway...\n",
    "    '''\n",
    "    \n",
    "\n",
    "    \n",
    "    if isinstance(start_gps, pd.core.series.Series):\n",
    "        start_gps = start_gps.iloc[-1]\n",
    "    if isinstance(end_gps, pd.core.series.Series):\n",
    "        end_gps = end_gps.iloc[-1]\n",
    "\n",
    "    try:\n",
    "        dist = str(vincenty(start_gps, end_gps))\n",
    "        dist = float(dist.split(' ')[0])\n",
    "    except:\n",
    "        dist = 'NaN'\n",
    "            \n",
    "    return dist\n",
    "    "
   ]
  },
  {
   "cell_type": "code",
   "execution_count": 16,
   "metadata": {
    "scrolled": false
   },
   "outputs": [
    {
     "data": {
      "text/html": [
       "<div>\n",
       "<style>\n",
       "    .dataframe thead tr:only-child th {\n",
       "        text-align: right;\n",
       "    }\n",
       "\n",
       "    .dataframe thead th {\n",
       "        text-align: left;\n",
       "    }\n",
       "\n",
       "    .dataframe tbody tr th {\n",
       "        vertical-align: top;\n",
       "    }\n",
       "</style>\n",
       "<table border=\"1\" class=\"dataframe\">\n",
       "  <thead>\n",
       "    <tr style=\"text-align: right;\">\n",
       "      <th></th>\n",
       "      <th>duration</th>\n",
       "      <th>start_date</th>\n",
       "      <th>start_terminal</th>\n",
       "      <th>end_date</th>\n",
       "      <th>end_terminal</th>\n",
       "      <th>bike_#</th>\n",
       "      <th>subscriber_type</th>\n",
       "      <th>zip_code</th>\n",
       "      <th>duration_minutes</th>\n",
       "      <th>trip_date</th>\n",
       "      <th>trip_dow</th>\n",
       "      <th>trip_day</th>\n",
       "      <th>start_hour</th>\n",
       "      <th>end_hour</th>\n",
       "      <th>distance_km</th>\n",
       "    </tr>\n",
       "    <tr>\n",
       "      <th>Trip ID</th>\n",
       "      <th></th>\n",
       "      <th></th>\n",
       "      <th></th>\n",
       "      <th></th>\n",
       "      <th></th>\n",
       "      <th></th>\n",
       "      <th></th>\n",
       "      <th></th>\n",
       "      <th></th>\n",
       "      <th></th>\n",
       "      <th></th>\n",
       "      <th></th>\n",
       "      <th></th>\n",
       "      <th></th>\n",
       "      <th></th>\n",
       "    </tr>\n",
       "  </thead>\n",
       "  <tbody>\n",
       "    <tr>\n",
       "      <th>4069</th>\n",
       "      <td>174.0</td>\n",
       "      <td>2013-08-29 09:08:00</td>\n",
       "      <td>64</td>\n",
       "      <td>2013-08-29 09:11:00</td>\n",
       "      <td>64</td>\n",
       "      <td>288</td>\n",
       "      <td>Subscriber</td>\n",
       "      <td>94114.0</td>\n",
       "      <td>2.900000</td>\n",
       "      <td>2013-08-29</td>\n",
       "      <td>3</td>\n",
       "      <td>Thursday</td>\n",
       "      <td>9</td>\n",
       "      <td>9</td>\n",
       "      <td>0.000000</td>\n",
       "    </tr>\n",
       "    <tr>\n",
       "      <th>4073</th>\n",
       "      <td>1067.0</td>\n",
       "      <td>2013-08-29 09:24:00</td>\n",
       "      <td>66</td>\n",
       "      <td>2013-08-29 09:42:00</td>\n",
       "      <td>69</td>\n",
       "      <td>321</td>\n",
       "      <td>Subscriber</td>\n",
       "      <td>94703.0</td>\n",
       "      <td>17.783333</td>\n",
       "      <td>2013-08-29</td>\n",
       "      <td>3</td>\n",
       "      <td>Thursday</td>\n",
       "      <td>9</td>\n",
       "      <td>9</td>\n",
       "      <td>2.023518</td>\n",
       "    </tr>\n",
       "    <tr>\n",
       "      <th>4074</th>\n",
       "      <td>1131.0</td>\n",
       "      <td>2013-08-29 09:24:00</td>\n",
       "      <td>66</td>\n",
       "      <td>2013-08-29 09:43:00</td>\n",
       "      <td>69</td>\n",
       "      <td>317</td>\n",
       "      <td>Subscriber</td>\n",
       "      <td>94115.0</td>\n",
       "      <td>18.850000</td>\n",
       "      <td>2013-08-29</td>\n",
       "      <td>3</td>\n",
       "      <td>Thursday</td>\n",
       "      <td>9</td>\n",
       "      <td>9</td>\n",
       "      <td>2.023518</td>\n",
       "    </tr>\n",
       "  </tbody>\n",
       "</table>\n",
       "</div>"
      ],
      "text/plain": [
       "         duration          start_date start_terminal            end_date  \\\n",
       "Trip ID                                                                    \n",
       "4069        174.0 2013-08-29 09:08:00             64 2013-08-29 09:11:00   \n",
       "4073       1067.0 2013-08-29 09:24:00             66 2013-08-29 09:42:00   \n",
       "4074       1131.0 2013-08-29 09:24:00             66 2013-08-29 09:43:00   \n",
       "\n",
       "        end_terminal  bike_# subscriber_type zip_code  duration_minutes  \\\n",
       "Trip ID                                                                   \n",
       "4069              64     288      Subscriber  94114.0          2.900000   \n",
       "4073              69     321      Subscriber  94703.0         17.783333   \n",
       "4074              69     317      Subscriber  94115.0         18.850000   \n",
       "\n",
       "          trip_date trip_dow  trip_day  start_hour  end_hour  distance_km  \n",
       "Trip ID                                                                    \n",
       "4069     2013-08-29        3  Thursday           9         9     0.000000  \n",
       "4073     2013-08-29        3  Thursday           9         9     2.023518  \n",
       "4074     2013-08-29        3  Thursday           9         9     2.023518  "
      ]
     },
     "execution_count": 16,
     "metadata": {},
     "output_type": "execute_result"
    }
   ],
   "source": [
    "trips['distance_km'] = trips.apply(lambda row: route_distance (row),axis=1)\n",
    "trips.head(3)"
   ]
  },
  {
   "cell_type": "code",
   "execution_count": null,
   "metadata": {
    "collapsed": true
   },
   "outputs": [],
   "source": []
  },
  {
   "cell_type": "code",
   "execution_count": null,
   "metadata": {
    "collapsed": true
   },
   "outputs": [],
   "source": []
  },
  {
   "cell_type": "code",
   "execution_count": 17,
   "metadata": {},
   "outputs": [
    {
     "name": "stdout",
     "output_type": "stream",
     "text": [
      "868208\n",
      "853131\n"
     ]
    }
   ],
   "source": [
    "# histogram of ride distances\n",
    "\n",
    "# plt.subplots(figsize=(12,6))\n",
    "print(len(trips))\n",
    "\n",
    "one_way_trips = trips[trips['distance_km'] > 0.0]\n",
    "one_way_trips = one_way_trips[one_way_trips['duration_minutes'] <= 60.0]\n",
    "\n",
    "\n",
    "print(len(one_way_trips))"
   ]
  },
  {
   "cell_type": "code",
   "execution_count": 18,
   "metadata": {},
   "outputs": [
    {
     "name": "stdout",
     "output_type": "stream",
     "text": [
      "one_way_trips['distance_km'].mean()\t 1.40845840104\n",
      "one_way_trips['distance_km'].median()\t 1.3704034731570067\n",
      "one_way_trips['distance_km'].min()\t 0.076169502971\n",
      "one_way_trips['distance_km'].max()\t 3.7420551669\n"
     ]
    }
   ],
   "source": [
    "print('one_way_trips[\\'distance_km\\'].mean()\\t', one_way_trips['distance_km'].mean())\n",
    "print('one_way_trips[\\'distance_km\\'].median()\\t', one_way_trips['distance_km'].median())\n",
    "print('one_way_trips[\\'distance_km\\'].min()\\t', one_way_trips['distance_km'].min())\n",
    "print('one_way_trips[\\'distance_km\\'].max()\\t', one_way_trips['distance_km'].max())"
   ]
  },
  {
   "cell_type": "code",
   "execution_count": 19,
   "metadata": {},
   "outputs": [
    {
     "data": {
      "image/png": "[encoded data removed]",
      "text/plain": [
       "<matplotlib.figure.Figure at 0x1a1623f2b0>"
      ]
     },
     "metadata": {},
     "output_type": "display_data"
    }
   ],
   "source": [
    "plt.subplots(figsize=(12,6))\n",
    "one_way_trips['distance_km'].plot(kind='hist', bins=60)\n",
    "plt.show()"
   ]
  },
  {
   "cell_type": "code",
   "execution_count": 20,
   "metadata": {},
   "outputs": [
    {
     "data": {
      "image/png": "[encoded data removed]",
      "text/plain": [
       "<matplotlib.figure.Figure at 0x1a13655668>"
      ]
     },
     "metadata": {},
     "output_type": "display_data"
    }
   ],
   "source": [
    "# trip_copy_select = trip_copy.head(100000)\n",
    "plt.subplots(figsize=(15,10))\n",
    "sns.boxplot(x='start_hour', y='distance_km', data=trips);\n",
    "plt.show()"
   ]
  },
  {
   "cell_type": "code",
   "execution_count": 21,
   "metadata": {
    "collapsed": true
   },
   "outputs": [],
   "source": [
    "# trips_select_c = trips[trips['subscriber_type'] == 'Customer'].head(20000)\n",
    "# sns.jointplot('start_terminal', 'distance_km', data=trips_select_c, kind='reg')\n",
    "# plt.show()\n",
    "\n",
    "# trips_select_s = trips[trips['subscriber_type'] == 'Subscriber'].head(20000)\n",
    "# sns.jointplot('start_terminal', 'distance_km', data=trips_select_s, kind='reg')\n",
    "# plt.show()"
   ]
  },
  {
   "cell_type": "code",
   "execution_count": 22,
   "metadata": {},
   "outputs": [
    {
     "name": "stdout",
     "output_type": "stream",
     "text": [
      "Customers:\t  90794\n",
      "Subscribers:\t 762337\n"
     ]
    }
   ],
   "source": [
    "print('Customers:\\t ', len(one_way_trips[one_way_trips['subscriber_type'] == 'Customer']))\n",
    "print('Subscribers:\\t', len(one_way_trips[one_way_trips['subscriber_type'] != 'Customer']))"
   ]
  },
  {
   "cell_type": "code",
   "execution_count": 23,
   "metadata": {
    "collapsed": true
   },
   "outputs": [],
   "source": [
    "# sns.jointplot('duration_minutes', 'distance_km', data=one_way_trips[one_way_trips['subscriber_type'] == 'Customer'], kind='reg')\n",
    "# plt.legend()\n",
    "# plt.show()"
   ]
  },
  {
   "cell_type": "code",
   "execution_count": 24,
   "metadata": {
    "collapsed": true
   },
   "outputs": [],
   "source": [
    "# sns.jointplot('duration_minutes', 'distance_km', data=one_way_trips[one_way_trips['subscriber_type'] == 'Subscriber'], kind='reg')\n",
    "# plt.legend()\n",
    "# plt.show()"
   ]
  },
  {
   "cell_type": "code",
   "execution_count": 25,
   "metadata": {},
   "outputs": [
    {
     "data": {
      "image/png": "[encoded data removed]",
      "text/plain": [
       "<matplotlib.figure.Figure at 0x1a5263dcc0>"
      ]
     },
     "metadata": {},
     "output_type": "display_data"
    }
   ],
   "source": [
    "with sns.axes_style(\"white\"):\n",
    "    sns.jointplot(x=one_way_trips['duration_minutes'], y=one_way_trips['distance_km'], kind=\"hex\", color=\"k\");"
   ]
  },
  {
   "cell_type": "markdown",
   "metadata": {},
   "source": [
    "# Analysis"
   ]
  },
  {
   "cell_type": "markdown",
   "metadata": {
    "collapsed": true
   },
   "source": [
    "## 1. Does Rain have an Impact on trip duration for Customers, or Subscribers?"
   ]
  },
  {
   "cell_type": "code",
   "execution_count": 26,
   "metadata": {
    "collapsed": true
   },
   "outputs": [],
   "source": [
    "# trips.info()"
   ]
  },
  {
   "cell_type": "code",
   "execution_count": null,
   "metadata": {
    "collapsed": true
   },
   "outputs": [],
   "source": []
  },
  {
   "cell_type": "code",
   "execution_count": 27,
   "metadata": {
    "collapsed": true
   },
   "outputs": [],
   "source": [
    "# split up rainy days and dry days\n",
    "rainy_days = weather_clean[weather_clean['precipitation_in'] > 0.0].reset_index()\n",
    "dry_days = weather_clean[weather_clean['precipitation_in'] == 0.0].reset_index()\n",
    "\n",
    "# All trips\n",
    "rainy_trips = trips[trips['start_date'].dt.date.isin(rainy_days['date'].dt.date)]\n",
    "dry_trips = trips[trips['start_date'].dt.date.isin(dry_days['date'].dt.date)]\n",
    "\n",
    "# Customer Trips\n",
    "customer_rainy_trips = rainy_trips[rainy_trips.subscriber_type == 'Customer']\n",
    "customer_dry_trips = dry_trips[dry_trips.subscriber_type == 'Customer']\n",
    "\n",
    "# Subscriber Trips\n",
    "subscriber_rainy_trips = rainy_trips[rainy_trips.subscriber_type == 'Subscriber']\n",
    "subscriber_dry_trips = dry_trips[dry_trips.subscriber_type == 'Subscriber']"
   ]
  },
  {
   "cell_type": "markdown",
   "metadata": {},
   "source": [
    "> A <b>Two Sample T Test</b> is appropriate for this problem as we are trying to see a difference between two sample means\n",
    "- Mean ride duration on rainy days vs mean ride duration on dry days\n",
    ">\n",
    ">\n",
    "> ##### All Trips\n",
    "- $H$o : Mean Trip Duration on Rainy Days = Mean Trip Duration on Dry Days\n",
    "- $H$a : Mean Trip Duration on Rainy Days ≠ Mean Trip Duration on Dry Days\n",
    ">\n",
    "> ##### Customer Trips\n",
    "- $HC$o : Customer Mean Trip Duration on Rainy Days = Customer Mean Trip Duration on Dry Days\n",
    "- $HC$a : Customer Mean Trip Duration on Rainy Days ≠ Customer Mean Trip Duration on Dry Days\n",
    ">\n",
    "> ##### Subscriber Trips\n",
    "- $HS$o : Subscriber Mean Trip Duration on Rainy Days = Subscriber Mean Trip Duration on Dry Days\n",
    "- $HS$a : Subscriber Mean Trip Duration on Rainy Days ≠ Subscriber Mean Trip Duration on Dry Days"
   ]
  },
  {
   "cell_type": "markdown",
   "metadata": {},
   "source": [
    "### Results:"
   ]
  },
  {
   "cell_type": "markdown",
   "metadata": {},
   "source": [
    "> ##### All Trips - Mean trip durations on rainy days are not equal to mean trip durations on dry days\n",
    "- T Statistic <b>-21.3507</b> \n",
    "- P Value <b>4.1139e-101</b> which is well below the 0.05 threshhold thus we <b> reject</b> the $H$o\n",
    "\n",
    "> ##### Customer Trips - Mean trip durations on rainy days are equal mean trip durations on dry days\n",
    "- T Statistic <b>-0.7404</b> \n",
    "- P Value <b>0.4591</b> which is above the 0.05 threshhold thus we <b>can not reject</b> the $HC$o\n",
    "\n",
    "> ##### Subscriber Trips - Mean trip durations on rainy days are not equal to mean trip durations on dry days\n",
    "- T Statistic <b>-11.5109</b> \n",
    "- P Value <b>1.1706e-30</b> which is well below the 0.05 threshhold thus we <b>reject</b> the $HS$o"
   ]
  },
  {
   "cell_type": "code",
   "execution_count": 28,
   "metadata": {
    "collapsed": true
   },
   "outputs": [],
   "source": [
    "# All Trips\n",
    "rainy_data = rainy_trips.duration_minutes\n",
    "dry_data = dry_trips.duration_minutes\n",
    "\n",
    "# Customer Trips Only\n",
    "customer_rainy_data = customer_rainy_trips.duration_minutes\n",
    "customer_dry_data = customer_dry_trips.duration_minutes\n",
    "\n",
    "# Subscriber Trips Only\n",
    "subscriber_rainy_data = subscriber_rainy_trips.duration_minutes\n",
    "subscriber_dry_data = subscriber_dry_trips.duration_minutes"
   ]
  },
  {
   "cell_type": "code",
   "execution_count": 29,
   "metadata": {
    "collapsed": true
   },
   "outputs": [],
   "source": [
    "def calculate_stats(data1, data2):\n",
    "\n",
    "    # means\n",
    "    data1_mean = data1.mean()\n",
    "    data2_mean = data2.mean()\n",
    "    diff_mean = data1_mean - data2_mean\n",
    "    print('Diff of means:\\t\\t', diff_mean)\n",
    "\n",
    "    # calculate t statistic and p value with scipy\n",
    "    t, p = stats.ttest_ind(data1, data2)\n",
    "    print('T Test')\n",
    "    print('\\tt statistic:\\t\\t', t)\n",
    "    print('\\tp value:\\t\\t', p)\n",
    "    print('')\n",
    "    u, p2 = stats.mannwhitneyu(data1, data2)\n",
    "    print('MannWhitneyU Test')\n",
    "    print('\\tu statistic:\\t\\t', u)\n",
    "    print('\\tp value:\\t\\t', p2)"
   ]
  },
  {
   "cell_type": "code",
   "execution_count": 30,
   "metadata": {},
   "outputs": [
    {
     "name": "stdout",
     "output_type": "stream",
     "text": [
      "All Trips\n",
      "Diff of means:\t\t -0.577173177778\n",
      "T Test\n",
      "\tt statistic:\t\t -21.3506527393\n",
      "\tp value:\t\t 4.11391933682e-101\n",
      "\n",
      "MannWhitneyU Test\n",
      "\tu statistic:\t\t 22078366690.0\n",
      "\tp value:\t\t 3.57275576264e-85\n",
      "\n",
      "----------------------------------------\n",
      "Customer Trips\n",
      "Diff of means:\t\t -0.121700791046\n",
      "T Test\n",
      "\tt statistic:\t\t -0.740410046385\n",
      "\tp value:\t\t 0.459053158314\n",
      "\n",
      "MannWhitneyU Test\n",
      "\tu statistic:\t\t 222135905.5\n",
      "\tp value:\t\t 0.0381989762645\n",
      "\n",
      "----------------------------------------\n",
      "Subscriber Trips\n",
      "Diff of means:\t\t -0.22798970971\n",
      "T Test\n",
      "\tt statistic:\t\t -11.5108703941\n",
      "\tp value:\t\t 1.17060149185e-30\n",
      "\n",
      "MannWhitneyU Test\n",
      "\tu statistic:\t\t 18233886701.5\n",
      "\tp value:\t\t 6.56252812086e-26\n"
     ]
    }
   ],
   "source": [
    "print('All Trips')\n",
    "calculate_stats(rainy_data, dry_data)\n",
    "print()\n",
    "print('-' * 40)\n",
    "print('Customer Trips')\n",
    "calculate_stats(customer_rainy_data, customer_dry_data)\n",
    "print()\n",
    "print('-' * 40)\n",
    "print('Subscriber Trips')\n",
    "calculate_stats(subscriber_rainy_data, subscriber_dry_data)"
   ]
  },
  {
   "cell_type": "code",
   "execution_count": null,
   "metadata": {
    "collapsed": true
   },
   "outputs": [],
   "source": []
  },
  {
   "cell_type": "code",
   "execution_count": null,
   "metadata": {
    "collapsed": true
   },
   "outputs": [],
   "source": []
  },
  {
   "cell_type": "code",
   "execution_count": null,
   "metadata": {
    "collapsed": true
   },
   "outputs": [],
   "source": []
  },
  {
   "cell_type": "code",
   "execution_count": 31,
   "metadata": {
    "collapsed": true
   },
   "outputs": [],
   "source": [
    "# plt.subplots(figsize=(12,6))\n",
    "# sns.swarmplot(x=\"trip_dow\", y=\"start_hour\", hue=\"start_hour\", data=customer_rainy_trips);"
   ]
  },
  {
   "cell_type": "code",
   "execution_count": 32,
   "metadata": {},
   "outputs": [
    {
     "name": "stdout",
     "output_type": "stream",
     "text": [
      "<class 'pandas.core.frame.DataFrame'>\n",
      "Int64Index: 5330 entries, 29608 to 1117763\n",
      "Data columns (total 15 columns):\n",
      "duration            5330 non-null float64\n",
      "start_date          5330 non-null datetime64[ns]\n",
      "start_terminal      5330 non-null category\n",
      "end_date            5330 non-null datetime64[ns]\n",
      "end_terminal        5330 non-null category\n",
      "bike_#              5330 non-null int64\n",
      "subscriber_type     5330 non-null category\n",
      "zip_code            5330 non-null object\n",
      "duration_minutes    5330 non-null float64\n",
      "trip_date           5330 non-null object\n",
      "trip_dow            5330 non-null category\n",
      "trip_day            5330 non-null category\n",
      "start_hour          5330 non-null int64\n",
      "end_hour            5330 non-null int64\n",
      "distance_km         5330 non-null float64\n",
      "dtypes: category(5), datetime64[ns](2), float64(3), int64(3), object(2)\n",
      "memory usage: 488.0+ KB\n"
     ]
    }
   ],
   "source": [
    "customer_rainy_trips.info()"
   ]
  },
  {
   "cell_type": "code",
   "execution_count": 33,
   "metadata": {},
   "outputs": [
    {
     "data": {
      "image/png": "[encoded data removed]",
      "text/plain": [
       "<matplotlib.figure.Figure at 0x1a0b4bd4a8>"
      ]
     },
     "metadata": {},
     "output_type": "display_data"
    }
   ],
   "source": [
    "sns.jointplot('start_terminal', 'end_terminal', data=customer_rainy_trips, kind='reg')\n",
    "plt.show()"
   ]
  },
  {
   "cell_type": "code",
   "execution_count": 34,
   "metadata": {
    "collapsed": true
   },
   "outputs": [],
   "source": [
    "# sns.jointplot('start_terminal', 'end_terminal', data=customer_rainy_trips[customer_rainy_trips['start_terminal'] == customer_rainy_trips['end_terminal']], kind='reg')\n",
    "# plt.show()\n",
    "\n",
    "# sns.jointplot('start_terminal', 'end_terminal', data=customer_rainy_trips[customer_rainy_trips['start_terminal'] != customer_rainy_trips['end_terminal']], kind='reg')\n",
    "# plt.show()"
   ]
  },
  {
   "cell_type": "code",
   "execution_count": 35,
   "metadata": {
    "collapsed": true
   },
   "outputs": [],
   "source": [
    "# sns.jointplot('end_terminal', 'end_hour', data=customer_rainy_trips, kind='reg')\n",
    "# plt.show()"
   ]
  },
  {
   "cell_type": "code",
   "execution_count": null,
   "metadata": {
    "collapsed": true
   },
   "outputs": [],
   "source": [
    "\n",
    "\n"
   ]
  },
  {
   "cell_type": "code",
   "execution_count": null,
   "metadata": {
    "collapsed": true
   },
   "outputs": [],
   "source": []
  },
  {
   "cell_type": "markdown",
   "metadata": {
    "collapsed": true
   },
   "source": [
    "## 2. Does Rain have an Impact on trip distance for Customers, or Subscribers?"
   ]
  },
  {
   "cell_type": "markdown",
   "metadata": {},
   "source": [
    "> A <b>Two Sample T Test</b> is appropriate for this problem as we are trying to see a difference between two sample means\n",
    "- Mean ride duration on rainy days vs mean ride duration on dry days\n",
    ">\n",
    ">\n",
    "> ##### All Trips\n",
    "- $H$o : Mean Trip Distance on Rainy Days = Mean Trip Distance on Dry Days\n",
    "- $H$a : Mean Trip Distance on Rainy Days ≠ Mean Trip Distance on Dry Days\n",
    ">\n",
    "> ##### Customer Trips\n",
    "- $HC$o : Customer Mean Trip Distance on Rainy Days = Customer Mean Trip Distance on Dry Days\n",
    "- $HC$a : Customer Mean Trip Distance on Rainy Days ≠ Customer Mean Trip Distance on Dry Days\n",
    ">\n",
    "> ##### Subscriber Trips\n",
    "- $HS$o : Subscriber Mean Trip Distance on Rainy Days = Subscriber Mean Trip Distance on Dry Days\n",
    "- $HS$a : Subscriber Mean Trip Distance on Rainy Days ≠ Subscriber Mean Trip Distance on Dry Days"
   ]
  },
  {
   "cell_type": "markdown",
   "metadata": {},
   "source": [
    "### Results:"
   ]
  },
  {
   "cell_type": "markdown",
   "metadata": {},
   "source": [
    "> ##### All Trips - Mean trip durations on rainy days are not equal to mean trip durations on dry days\n",
    "- T Statistic <b>-6.2193</b> \n",
    "- P Value <b>4.9967e-10</b> which is well below the 0.05 threshhold thus we <b> reject</b> the $H$o\n",
    "\n",
    "> ##### Customer Trips - Mean trip durations on rainy days are equal mean trip durations on dry days\n",
    "- T Statistic <b>0.08450</b> \n",
    "- P Value <b>0.9327</b> which is above the 0.05 threshhold thus we <b>can not reject</b> the $HC$o\n",
    "\n",
    "> ##### Subscriber Trips - Mean trip durations on rainy days are not equal to mean trip durations on dry days\n",
    "- T Statistic <b>-7.1311</b> \n",
    "- P Value <b>9.9694e-13</b> which is well below the 0.05 threshhold thus we <b>reject</b> the $HS$o\n"
   ]
  },
  {
   "cell_type": "code",
   "execution_count": null,
   "metadata": {
    "collapsed": true
   },
   "outputs": [],
   "source": []
  },
  {
   "cell_type": "code",
   "execution_count": 36,
   "metadata": {
    "collapsed": true
   },
   "outputs": [],
   "source": [
    "# All Trips\n",
    "rainy_data = rainy_trips.distance_km\n",
    "dry_data = dry_trips.distance_km\n",
    "\n",
    "# Customer Trips Only\n",
    "customer_rainy_data = customer_rainy_trips.distance_km\n",
    "customer_dry_data = customer_dry_trips.distance_km\n",
    "\n",
    "# Subscriber Trips Only\n",
    "subscriber_rainy_data = subscriber_rainy_trips.distance_km\n",
    "subscriber_dry_data = subscriber_dry_trips.distance_km"
   ]
  },
  {
   "cell_type": "code",
   "execution_count": 37,
   "metadata": {},
   "outputs": [
    {
     "name": "stdout",
     "output_type": "stream",
     "text": [
      "rainy_data:\t\t  65475\n",
      "dry_data:\t\t 706956\n",
      "customer_rainy_data:\t   5330\n",
      "customer_dry_data:\t 84575\n",
      "subscriber_rainy_data:\t  60145\n",
      "subscriber_dry_data:\t 622381\n"
     ]
    }
   ],
   "source": [
    "# All Trips\n",
    "print('rainy_data:\\t\\t ', len(rainy_data))\n",
    "print('dry_data:\\t\\t', len(dry_data))\n",
    "\n",
    "# Customer Trips Only\n",
    "print('customer_rainy_data:\\t  ', len(customer_rainy_data))\n",
    "print('customer_dry_data:\\t', len(customer_dry_data))\n",
    "\n",
    "# Subscriber Trips Only\n",
    "print('subscriber_rainy_data:\\t ', len(subscriber_rainy_data))\n",
    "print('subscriber_dry_data:\\t', len(subscriber_dry_data))"
   ]
  },
  {
   "cell_type": "code",
   "execution_count": 38,
   "metadata": {},
   "outputs": [
    {
     "name": "stdout",
     "output_type": "stream",
     "text": [
      "All Trips\n",
      "Diff of means:\t\t -0.0162137669569\n",
      "T Test\n",
      "\tt statistic:\t\t -6.21928747395\n",
      "\tp value:\t\t 4.99671822552e-10\n",
      "\n",
      "MannWhitneyU Test\n",
      "\tu statistic:\t\t 22805009646.0\n",
      "\tp value:\t\t 2.65160825377e-10\n",
      "\n",
      "----------------------------------------\n",
      "Customer Trips\n",
      "Diff of means:\t\t 0.000903294430492\n",
      "T Test\n",
      "\tt statistic:\t\t 0.0845018820488\n",
      "\tp value:\t\t 0.93265759469\n",
      "\n",
      "MannWhitneyU Test\n",
      "\tu statistic:\t\t 225135945.0\n",
      "\tp value:\t\t 0.444499471032\n",
      "\n",
      "----------------------------------------\n",
      "Subscriber Trips\n",
      "Diff of means:\t\t -0.0189028615067\n",
      "T Test\n",
      "\tt statistic:\t\t -7.13106392216\n",
      "\tp value:\t\t 9.96941081693e-13\n",
      "\n",
      "MannWhitneyU Test\n",
      "\tu statistic:\t\t 18394266035.5\n",
      "\tp value:\t\t 1.42728617883e-12\n"
     ]
    }
   ],
   "source": [
    "print('All Trips')\n",
    "calculate_stats(rainy_data, dry_data)\n",
    "print()\n",
    "print('-' * 40)\n",
    "print('Customer Trips')\n",
    "calculate_stats(customer_rainy_data, customer_dry_data)\n",
    "print()\n",
    "print('-' * 40)\n",
    "print('Subscriber Trips')\n",
    "calculate_stats(subscriber_rainy_data, subscriber_dry_data)"
   ]
  },
  {
   "cell_type": "code",
   "execution_count": null,
   "metadata": {
    "collapsed": true
   },
   "outputs": [],
   "source": []
  },
  {
   "cell_type": "code",
   "execution_count": null,
   "metadata": {
    "collapsed": true
   },
   "outputs": [],
   "source": []
  },
  {
   "cell_type": "code",
   "execution_count": null,
   "metadata": {
    "collapsed": true
   },
   "outputs": [],
   "source": []
  },
  {
   "cell_type": "code",
   "execution_count": null,
   "metadata": {
    "collapsed": true
   },
   "outputs": [],
   "source": []
  },
  {
   "cell_type": "code",
   "execution_count": null,
   "metadata": {
    "collapsed": true
   },
   "outputs": [],
   "source": []
  },
  {
   "cell_type": "code",
   "execution_count": null,
   "metadata": {
    "collapsed": true
   },
   "outputs": [],
   "source": []
  },
  {
   "cell_type": "code",
   "execution_count": null,
   "metadata": {
    "collapsed": true
   },
   "outputs": [],
   "source": []
  },
  {
   "cell_type": "markdown",
   "metadata": {},
   "source": [
    "## Weekend vs weekday subscribers"
   ]
  },
  {
   "cell_type": "code",
   "execution_count": 39,
   "metadata": {},
   "outputs": [
    {
     "name": "stdout",
     "output_type": "stream",
     "text": [
      "<class 'pandas.core.frame.DataFrame'>\n",
      "Int64Index: 868208 entries, 4069 to 1338408\n",
      "Data columns (total 15 columns):\n",
      "duration            868208 non-null float64\n",
      "start_date          868208 non-null datetime64[ns]\n",
      "start_terminal      868208 non-null category\n",
      "end_date            868208 non-null datetime64[ns]\n",
      "end_terminal        868208 non-null category\n",
      "bike_#              868208 non-null int64\n",
      "subscriber_type     868208 non-null category\n",
      "zip_code            868208 non-null object\n",
      "duration_minutes    868208 non-null float64\n",
      "trip_date           868208 non-null object\n",
      "trip_dow            868208 non-null category\n",
      "trip_day            868208 non-null category\n",
      "start_hour          868208 non-null int64\n",
      "end_hour            868208 non-null int64\n",
      "distance_km         868208 non-null float64\n",
      "dtypes: category(5), datetime64[ns](2), float64(3), int64(3), object(2)\n",
      "memory usage: 117.0+ MB\n"
     ]
    }
   ],
   "source": [
    "trips.info()"
   ]
  },
  {
   "cell_type": "code",
   "execution_count": 40,
   "metadata": {},
   "outputs": [
    {
     "data": {
      "text/html": [
       "<div>\n",
       "<style>\n",
       "    .dataframe thead tr:only-child th {\n",
       "        text-align: right;\n",
       "    }\n",
       "\n",
       "    .dataframe thead th {\n",
       "        text-align: left;\n",
       "    }\n",
       "\n",
       "    .dataframe tbody tr th {\n",
       "        vertical-align: top;\n",
       "    }\n",
       "</style>\n",
       "<table border=\"1\" class=\"dataframe\">\n",
       "  <thead>\n",
       "    <tr style=\"text-align: right;\">\n",
       "      <th></th>\n",
       "      <th>duration</th>\n",
       "      <th>bike_#</th>\n",
       "      <th>duration_minutes</th>\n",
       "      <th>start_hour</th>\n",
       "      <th>end_hour</th>\n",
       "      <th>distance_km</th>\n",
       "    </tr>\n",
       "  </thead>\n",
       "  <tbody>\n",
       "    <tr>\n",
       "      <th>count</th>\n",
       "      <td>868208.000000</td>\n",
       "      <td>868208.000000</td>\n",
       "      <td>868208.000000</td>\n",
       "      <td>868208.000000</td>\n",
       "      <td>868208.000000</td>\n",
       "      <td>868208.000000</td>\n",
       "    </tr>\n",
       "    <tr>\n",
       "      <th>mean</th>\n",
       "      <td>598.169864</td>\n",
       "      <td>438.976533</td>\n",
       "      <td>9.969498</td>\n",
       "      <td>13.002099</td>\n",
       "      <td>13.155172</td>\n",
       "      <td>1.384000</td>\n",
       "    </tr>\n",
       "    <tr>\n",
       "      <th>std</th>\n",
       "      <td>394.487439</td>\n",
       "      <td>138.036002</td>\n",
       "      <td>6.574791</td>\n",
       "      <td>4.554463</td>\n",
       "      <td>4.563102</td>\n",
       "      <td>0.637097</td>\n",
       "    </tr>\n",
       "    <tr>\n",
       "      <th>min</th>\n",
       "      <td>60.000000</td>\n",
       "      <td>9.000000</td>\n",
       "      <td>1.000000</td>\n",
       "      <td>0.000000</td>\n",
       "      <td>0.000000</td>\n",
       "      <td>0.000000</td>\n",
       "    </tr>\n",
       "    <tr>\n",
       "      <th>25%</th>\n",
       "      <td>354.000000</td>\n",
       "      <td>351.000000</td>\n",
       "      <td>5.900000</td>\n",
       "      <td>9.000000</td>\n",
       "      <td>9.000000</td>\n",
       "      <td>0.926630</td>\n",
       "    </tr>\n",
       "    <tr>\n",
       "      <th>50%</th>\n",
       "      <td>515.000000</td>\n",
       "      <td>447.000000</td>\n",
       "      <td>8.583333</td>\n",
       "      <td>13.000000</td>\n",
       "      <td>13.000000</td>\n",
       "      <td>1.368524</td>\n",
       "    </tr>\n",
       "    <tr>\n",
       "      <th>75%</th>\n",
       "      <td>725.000000</td>\n",
       "      <td>544.000000</td>\n",
       "      <td>12.083333</td>\n",
       "      <td>17.000000</td>\n",
       "      <td>17.000000</td>\n",
       "      <td>1.756103</td>\n",
       "    </tr>\n",
       "    <tr>\n",
       "      <th>max</th>\n",
       "      <td>3600.000000</td>\n",
       "      <td>878.000000</td>\n",
       "      <td>60.000000</td>\n",
       "      <td>23.000000</td>\n",
       "      <td>23.000000</td>\n",
       "      <td>3.742055</td>\n",
       "    </tr>\n",
       "  </tbody>\n",
       "</table>\n",
       "</div>"
      ],
      "text/plain": [
       "            duration         bike_#  duration_minutes     start_hour  \\\n",
       "count  868208.000000  868208.000000     868208.000000  868208.000000   \n",
       "mean      598.169864     438.976533          9.969498      13.002099   \n",
       "std       394.487439     138.036002          6.574791       4.554463   \n",
       "min        60.000000       9.000000          1.000000       0.000000   \n",
       "25%       354.000000     351.000000          5.900000       9.000000   \n",
       "50%       515.000000     447.000000          8.583333      13.000000   \n",
       "75%       725.000000     544.000000         12.083333      17.000000   \n",
       "max      3600.000000     878.000000         60.000000      23.000000   \n",
       "\n",
       "            end_hour    distance_km  \n",
       "count  868208.000000  868208.000000  \n",
       "mean       13.155172       1.384000  \n",
       "std         4.563102       0.637097  \n",
       "min         0.000000       0.000000  \n",
       "25%         9.000000       0.926630  \n",
       "50%        13.000000       1.368524  \n",
       "75%        17.000000       1.756103  \n",
       "max        23.000000       3.742055  "
      ]
     },
     "execution_count": 40,
     "metadata": {},
     "output_type": "execute_result"
    }
   ],
   "source": [
    "trips.describe()"
   ]
  },
  {
   "cell_type": "code",
   "execution_count": 41,
   "metadata": {},
   "outputs": [
    {
     "data": {
      "text/html": [
       "<div>\n",
       "<style>\n",
       "    .dataframe thead tr:only-child th {\n",
       "        text-align: right;\n",
       "    }\n",
       "\n",
       "    .dataframe thead th {\n",
       "        text-align: left;\n",
       "    }\n",
       "\n",
       "    .dataframe tbody tr th {\n",
       "        vertical-align: top;\n",
       "    }\n",
       "</style>\n",
       "<table border=\"1\" class=\"dataframe\">\n",
       "  <thead>\n",
       "    <tr style=\"text-align: right;\">\n",
       "      <th></th>\n",
       "      <th>duration</th>\n",
       "      <th>start_date</th>\n",
       "      <th>start_terminal</th>\n",
       "      <th>end_date</th>\n",
       "      <th>end_terminal</th>\n",
       "      <th>bike_#</th>\n",
       "      <th>subscriber_type</th>\n",
       "      <th>zip_code</th>\n",
       "      <th>duration_minutes</th>\n",
       "      <th>trip_date</th>\n",
       "      <th>trip_dow</th>\n",
       "      <th>trip_day</th>\n",
       "      <th>start_hour</th>\n",
       "      <th>end_hour</th>\n",
       "      <th>distance_km</th>\n",
       "    </tr>\n",
       "    <tr>\n",
       "      <th>Trip ID</th>\n",
       "      <th></th>\n",
       "      <th></th>\n",
       "      <th></th>\n",
       "      <th></th>\n",
       "      <th></th>\n",
       "      <th></th>\n",
       "      <th></th>\n",
       "      <th></th>\n",
       "      <th></th>\n",
       "      <th></th>\n",
       "      <th></th>\n",
       "      <th></th>\n",
       "      <th></th>\n",
       "      <th></th>\n",
       "      <th></th>\n",
       "    </tr>\n",
       "  </thead>\n",
       "  <tbody>\n",
       "    <tr>\n",
       "      <th>4069</th>\n",
       "      <td>174.0</td>\n",
       "      <td>2013-08-29 09:08:00</td>\n",
       "      <td>64</td>\n",
       "      <td>2013-08-29 09:11:00</td>\n",
       "      <td>64</td>\n",
       "      <td>288</td>\n",
       "      <td>Subscriber</td>\n",
       "      <td>94114.0</td>\n",
       "      <td>2.900000</td>\n",
       "      <td>2013-08-29</td>\n",
       "      <td>3</td>\n",
       "      <td>Thursday</td>\n",
       "      <td>9</td>\n",
       "      <td>9</td>\n",
       "      <td>0.000000</td>\n",
       "    </tr>\n",
       "    <tr>\n",
       "      <th>4073</th>\n",
       "      <td>1067.0</td>\n",
       "      <td>2013-08-29 09:24:00</td>\n",
       "      <td>66</td>\n",
       "      <td>2013-08-29 09:42:00</td>\n",
       "      <td>69</td>\n",
       "      <td>321</td>\n",
       "      <td>Subscriber</td>\n",
       "      <td>94703.0</td>\n",
       "      <td>17.783333</td>\n",
       "      <td>2013-08-29</td>\n",
       "      <td>3</td>\n",
       "      <td>Thursday</td>\n",
       "      <td>9</td>\n",
       "      <td>9</td>\n",
       "      <td>2.023518</td>\n",
       "    </tr>\n",
       "    <tr>\n",
       "      <th>4074</th>\n",
       "      <td>1131.0</td>\n",
       "      <td>2013-08-29 09:24:00</td>\n",
       "      <td>66</td>\n",
       "      <td>2013-08-29 09:43:00</td>\n",
       "      <td>69</td>\n",
       "      <td>317</td>\n",
       "      <td>Subscriber</td>\n",
       "      <td>94115.0</td>\n",
       "      <td>18.850000</td>\n",
       "      <td>2013-08-29</td>\n",
       "      <td>3</td>\n",
       "      <td>Thursday</td>\n",
       "      <td>9</td>\n",
       "      <td>9</td>\n",
       "      <td>2.023518</td>\n",
       "    </tr>\n",
       "    <tr>\n",
       "      <th>4075</th>\n",
       "      <td>1117.0</td>\n",
       "      <td>2013-08-29 09:24:00</td>\n",
       "      <td>66</td>\n",
       "      <td>2013-08-29 09:43:00</td>\n",
       "      <td>69</td>\n",
       "      <td>316</td>\n",
       "      <td>Subscriber</td>\n",
       "      <td>94122.0</td>\n",
       "      <td>18.616667</td>\n",
       "      <td>2013-08-29</td>\n",
       "      <td>3</td>\n",
       "      <td>Thursday</td>\n",
       "      <td>9</td>\n",
       "      <td>9</td>\n",
       "      <td>2.023518</td>\n",
       "    </tr>\n",
       "    <tr>\n",
       "      <th>4076</th>\n",
       "      <td>1118.0</td>\n",
       "      <td>2013-08-29 09:25:00</td>\n",
       "      <td>66</td>\n",
       "      <td>2013-08-29 09:43:00</td>\n",
       "      <td>69</td>\n",
       "      <td>322</td>\n",
       "      <td>Subscriber</td>\n",
       "      <td>94597.0</td>\n",
       "      <td>18.633333</td>\n",
       "      <td>2013-08-29</td>\n",
       "      <td>3</td>\n",
       "      <td>Thursday</td>\n",
       "      <td>9</td>\n",
       "      <td>9</td>\n",
       "      <td>2.023518</td>\n",
       "    </tr>\n",
       "  </tbody>\n",
       "</table>\n",
       "</div>"
      ],
      "text/plain": [
       "         duration          start_date start_terminal            end_date  \\\n",
       "Trip ID                                                                    \n",
       "4069        174.0 2013-08-29 09:08:00             64 2013-08-29 09:11:00   \n",
       "4073       1067.0 2013-08-29 09:24:00             66 2013-08-29 09:42:00   \n",
       "4074       1131.0 2013-08-29 09:24:00             66 2013-08-29 09:43:00   \n",
       "4075       1117.0 2013-08-29 09:24:00             66 2013-08-29 09:43:00   \n",
       "4076       1118.0 2013-08-29 09:25:00             66 2013-08-29 09:43:00   \n",
       "\n",
       "        end_terminal  bike_# subscriber_type zip_code  duration_minutes  \\\n",
       "Trip ID                                                                   \n",
       "4069              64     288      Subscriber  94114.0          2.900000   \n",
       "4073              69     321      Subscriber  94703.0         17.783333   \n",
       "4074              69     317      Subscriber  94115.0         18.850000   \n",
       "4075              69     316      Subscriber  94122.0         18.616667   \n",
       "4076              69     322      Subscriber  94597.0         18.633333   \n",
       "\n",
       "          trip_date trip_dow  trip_day  start_hour  end_hour  distance_km  \n",
       "Trip ID                                                                    \n",
       "4069     2013-08-29        3  Thursday           9         9     0.000000  \n",
       "4073     2013-08-29        3  Thursday           9         9     2.023518  \n",
       "4074     2013-08-29        3  Thursday           9         9     2.023518  \n",
       "4075     2013-08-29        3  Thursday           9         9     2.023518  \n",
       "4076     2013-08-29        3  Thursday           9         9     2.023518  "
      ]
     },
     "execution_count": 41,
     "metadata": {},
     "output_type": "execute_result"
    }
   ],
   "source": [
    "trips.head()"
   ]
  },
  {
   "cell_type": "code",
   "execution_count": 42,
   "metadata": {
    "collapsed": true
   },
   "outputs": [],
   "source": [
    "weekday_trips = trips[trips['start_date'].dt.weekday < 5]\n",
    "weekend_trips = trips[trips['start_date'].dt.weekday >= 5]"
   ]
  },
  {
   "cell_type": "code",
   "execution_count": null,
   "metadata": {
    "collapsed": true
   },
   "outputs": [],
   "source": []
  },
  {
   "cell_type": "code",
   "execution_count": 43,
   "metadata": {},
   "outputs": [
    {
     "name": "stdout",
     "output_type": "stream",
     "text": [
      "--------------------------------------------------------------------------------\n",
      "weekday_customer_trip_days:\t\t    785\n",
      "weekend_customer_trip_days:\t\t    314\n",
      "weekday_subscriber_trip_days:\t\t    785\n",
      "weekend_subscriber_trip_days:\t\t    314\n",
      "--------------------------------------------------------------------------------\n",
      "Number of Weekday Customer Trips):\t  60785\n",
      "Number of Weekend Customer Trips):\t  37746\n",
      "Number of Weekday Subscriber Trips):\t 719416\n",
      "Number of Weekend Subscriber Trips):\t  50261\n",
      "--------------------------------------------------------------------------------\n",
      "weekday_customer Trips Per Day:\t\t     77.43312101910828\n",
      "weekend_customer Trips Per Day:\t\t    120.21019108280255\n",
      "weekday_subscriber Trips Per Day:\t    916.4535031847133\n",
      "weekend_subscriber Trips Per Day:\t    160.06687898089172\n",
      "--------------------------------------------------------------------------------\n",
      "Customer Weekday/Weekend Ratio:\t\t    64.41477242621735\n",
      "Subscriber Weekday/Weekend Ratio:\t   572.5441196951911\n",
      "--------------------------------------------------------------------------------\n"
     ]
    }
   ],
   "source": [
    "# number of trips by weekday/weekend and subscriber type\n",
    "weekday_customer_trips   = weekday_trips[weekday_trips.subscriber_type == 'Customer']\n",
    "weekend_customer_trips   = weekend_trips[weekend_trips.subscriber_type == 'Customer']\n",
    "weekday_subscriber_trips = weekday_trips[weekday_trips.subscriber_type != 'Customer']\n",
    "weekend_subscriber_trips = weekend_trips[weekend_trips.subscriber_type != 'Customer']\n",
    "\n",
    "# number of days with customer weekend trips\n",
    "weekday_customer_trip_days =   len(pd.unique(weekday_customer_trips.trip_date))\n",
    "weekend_customer_trip_days =   len(pd.unique(weekend_customer_trips.trip_date))\n",
    "weekday_subscriber_trip_days = len(pd.unique(weekday_subscriber_trips.trip_date))\n",
    "weekend_subscriber_trip_days = len(pd.unique(weekend_subscriber_trips.trip_date))\n",
    "\n",
    "# trips per day for each group\n",
    "weekday_customer_tpd   = len(weekday_customer_trips)   / weekday_customer_trip_days\n",
    "weekend_customer_tpd   = len(weekend_customer_trips)   / weekend_customer_trip_days\n",
    "weekday_subscriber_tpd = len(weekday_subscriber_trips) / weekday_subscriber_trip_days\n",
    "weekend_subscriber_tpd = len(weekend_subscriber_trips) / weekend_subscriber_trip_days\n",
    "\n",
    "customer_ratio   = weekday_customer_tpd / weekend_customer_tpd * 100.\n",
    "subscriber_ratio = weekday_subscriber_tpd / weekend_subscriber_tpd  * 100.\n",
    "\n",
    "\n",
    "\n",
    "print('-' * 80)\n",
    "print('weekday_customer_trip_days:\\t\\t   ', weekday_customer_trip_days)\n",
    "print('weekend_customer_trip_days:\\t\\t   ', weekend_customer_trip_days)\n",
    "print('weekday_subscriber_trip_days:\\t\\t   ', weekday_subscriber_trip_days)\n",
    "print('weekend_subscriber_trip_days:\\t\\t   ', weekend_subscriber_trip_days)\n",
    "print('-' * 80)\n",
    "print('Number of Weekday Customer Trips):\\t ', len(weekday_customer_trips))\n",
    "print('Number of Weekend Customer Trips):\\t ', len(weekend_customer_trips))\n",
    "print('Number of Weekday Subscriber Trips):\\t', len(weekday_subscriber_trips))\n",
    "print('Number of Weekend Subscriber Trips):\\t ', len(weekend_subscriber_trips))\n",
    "print('-' * 80)\n",
    "print('weekday_customer Trips Per Day:\\t\\t    ', weekday_customer_tpd)\n",
    "print('weekend_customer Trips Per Day:\\t\\t   ', weekend_customer_tpd)\n",
    "print('weekday_subscriber Trips Per Day:\\t   ', weekday_subscriber_tpd)\n",
    "print('weekend_subscriber Trips Per Day:\\t   ', weekend_subscriber_tpd)\n",
    "print('-' * 80)\n",
    "print('Customer Weekday/Weekend Ratio:\\t\\t   ', customer_ratio)\n",
    "print('Subscriber Weekday/Weekend Ratio:\\t  ', subscriber_ratio)\n",
    "print('-' * 80)"
   ]
  },
  {
   "cell_type": "code",
   "execution_count": null,
   "metadata": {
    "collapsed": true
   },
   "outputs": [],
   "source": []
  },
  {
   "cell_type": "code",
   "execution_count": null,
   "metadata": {
    "collapsed": true
   },
   "outputs": [],
   "source": []
  },
  {
   "cell_type": "code",
   "execution_count": null,
   "metadata": {
    "collapsed": true
   },
   "outputs": [],
   "source": []
  },
  {
   "cell_type": "code",
   "execution_count": null,
   "metadata": {
    "collapsed": true
   },
   "outputs": [],
   "source": []
  },
  {
   "cell_type": "code",
   "execution_count": null,
   "metadata": {
    "collapsed": true
   },
   "outputs": [],
   "source": []
  },
  {
   "cell_type": "code",
   "execution_count": null,
   "metadata": {
    "collapsed": true
   },
   "outputs": [],
   "source": []
  },
  {
   "cell_type": "code",
   "execution_count": null,
   "metadata": {
    "collapsed": true
   },
   "outputs": [],
   "source": []
  },
  {
   "cell_type": "code",
   "execution_count": 44,
   "metadata": {
    "collapsed": true
   },
   "outputs": [],
   "source": [
    "weekday_customer_trips   = weekday_trips[weekday_trips.subscriber_type == 'Customer']\n",
    "weekend_customer_trips   = weekend_trips[weekend_trips.subscriber_type == 'Customer']\n",
    "weekday_subscriber_trips = weekday_trips[weekday_trips.subscriber_type != 'Customer']\n",
    "weekend_subscriber_trips = weekend_trips[weekend_trips.subscriber_type != 'Customer']\n",
    "\n"
   ]
  },
  {
   "cell_type": "code",
   "execution_count": 45,
   "metadata": {
    "collapsed": true
   },
   "outputs": [],
   "source": [
    "# duration data\n",
    "day_cust_dur  = weekday_customer_trips.duration_minutes\n",
    "end_cust_dur  = weekend_customer_trips.duration_minutes\n",
    "day_sub_dur  = weekday_subscriber_trips.duration_minutes\n",
    "end_sub_dur  = weekend_subscriber_trips.duration_minutes\n",
    "\n",
    "# distance data\n",
    "day_cust_dist = weekday_customer_trips.distance_km\n",
    "end_cust_dist = weekend_customer_trips.distance_km\n",
    "day_sub_dist = weekday_subscriber_trips.distance_km\n",
    "end_sub_dist = weekend_subscriber_trips.distance_km\n"
   ]
  },
  {
   "cell_type": "code",
   "execution_count": 46,
   "metadata": {},
   "outputs": [
    {
     "name": "stdout",
     "output_type": "stream",
     "text": [
      "----------------------------------------\n",
      "Customer Trip Duration\n",
      "Diff of means:\t\t -2.65051051896\n",
      "T Test\n",
      "\tt statistic:\t\t -34.956926157\n",
      "\tp value:\t\t 4.3822035073e-266\n",
      "\n",
      "MannWhitneyU Test\n",
      "\tu statistic:\t\t 976404852.0\n",
      "\tp value:\t\t 0.0\n",
      "\n",
      "----------------------------------------\n",
      "Subscriber Trip Duration\n",
      "Diff of means:\t\t -0.727498989879\n",
      "T Test\n",
      "\tt statistic:\t\t -34.0783234913\n",
      "\tp value:\t\t 2.39556936544e-254\n",
      "\n",
      "MannWhitneyU Test\n",
      "\tu statistic:\t\t 17527297413.5\n",
      "\tp value:\t\t 1.02403366764e-30\n",
      "\n",
      "----------------------------------------\n"
     ]
    }
   ],
   "source": [
    "\n",
    "print('-' * 40)\n",
    "print('Customer Trip Duration')\n",
    "calculate_stats(day_cust_dur, end_cust_dur)\n",
    "print()\n",
    "print('-' * 40)\n",
    "print('Subscriber Trip Duration')\n",
    "calculate_stats(day_sub_dur, end_sub_dur)\n",
    "print()\n",
    "print('-' * 40)"
   ]
  },
  {
   "cell_type": "code",
   "execution_count": 47,
   "metadata": {},
   "outputs": [
    {
     "name": "stdout",
     "output_type": "stream",
     "text": [
      "----------------------------------------\n",
      "Customer Trip Distance\n",
      "Diff of means:\t\t 0.0394471922525\n",
      "T Test\n",
      "\tt statistic:\t\t 7.96301179836\n",
      "\tp value:\t\t 1.69676590779e-15\n",
      "\n",
      "MannWhitneyU Test\n",
      "\tu statistic:\t\t 1105469717.0\n",
      "\tp value:\t\t 3.42836071845e-22\n",
      "\n",
      "----------------------------------------\n",
      "Subscriber Trip Distance\n",
      "Diff of means:\t\t 0.0853713340396\n",
      "T Test\n",
      "\tt statistic:\t\t 29.8553977778\n",
      "\tp value:\t\t 9.67413222393e-196\n",
      "\n",
      "MannWhitneyU Test\n",
      "\tu statistic:\t\t 16312615371.5\n",
      "\tp value:\t\t 6.33368844393e-295\n",
      "\n",
      "----------------------------------------\n"
     ]
    }
   ],
   "source": [
    "print('-' * 40)\n",
    "print('Customer Trip Distance')\n",
    "calculate_stats(day_cust_dist, end_cust_dist)\n",
    "print()\n",
    "print('-' * 40)\n",
    "print('Subscriber Trip Distance')\n",
    "calculate_stats(day_sub_dist, end_sub_dist)\n",
    "print()\n",
    "print('-' * 40)"
   ]
  },
  {
   "cell_type": "code",
   "execution_count": null,
   "metadata": {
    "collapsed": true
   },
   "outputs": [],
   "source": []
  },
  {
   "cell_type": "code",
   "execution_count": null,
   "metadata": {
    "collapsed": true
   },
   "outputs": [],
   "source": []
  },
  {
   "cell_type": "code",
   "execution_count": null,
   "metadata": {
    "collapsed": true
   },
   "outputs": [],
   "source": []
  },
  {
   "cell_type": "code",
   "execution_count": null,
   "metadata": {
    "collapsed": true
   },
   "outputs": [],
   "source": []
  },
  {
   "cell_type": "code",
   "execution_count": null,
   "metadata": {
    "collapsed": true
   },
   "outputs": [],
   "source": []
  },
  {
   "cell_type": "code",
   "execution_count": null,
   "metadata": {
    "collapsed": true
   },
   "outputs": [],
   "source": []
  },
  {
   "cell_type": "code",
   "execution_count": null,
   "metadata": {
    "collapsed": true
   },
   "outputs": [],
   "source": []
  },
  {
   "cell_type": "code",
   "execution_count": null,
   "metadata": {
    "collapsed": true
   },
   "outputs": [],
   "source": []
  },
  {
   "cell_type": "code",
   "execution_count": null,
   "metadata": {
    "collapsed": true
   },
   "outputs": [],
   "source": []
  },
  {
   "cell_type": "code",
   "execution_count": 48,
   "metadata": {
    "collapsed": true
   },
   "outputs": [],
   "source": [
    "customer_trips = trips[trips.subscriber_type == 'Customer']\n",
    "subscriber_trips = trips[trips.subscriber_type == 'Subscriber']"
   ]
  },
  {
   "cell_type": "code",
   "execution_count": null,
   "metadata": {
    "collapsed": true
   },
   "outputs": [],
   "source": []
  },
  {
   "cell_type": "code",
   "execution_count": 49,
   "metadata": {},
   "outputs": [
    {
     "name": "stdout",
     "output_type": "stream",
     "text": [
      "_trips:\t\t NormaltestResult(statistic=448883.44258267729, pvalue=0.0)\n",
      "_customer:\t NormaltestResult(statistic=2094.2028596330565, pvalue=0.0)\n",
      "_subscriber:\t NormaltestResult(statistic=1033021.2210245988, pvalue=0.0)\n"
     ]
    }
   ],
   "source": [
    "_trips= stats.normaltest(trips.start_hour.sort_values())\n",
    "print('_trips:\\t\\t', _trips)\n",
    "_customer= stats.normaltest(customer_trips.start_hour.sort_values())\n",
    "print('_customer:\\t', _customer)\n",
    "_subscriber= stats.normaltest(subscriber_trips.start_hour.sort_values())\n",
    "print('_subscriber:\\t', _subscriber)"
   ]
  },
  {
   "cell_type": "code",
   "execution_count": 50,
   "metadata": {},
   "outputs": [
    {
     "data": {
      "text/plain": [
       "MannwhitneyuResult(statistic=22805009646.0, pvalue=2.6516082537717947e-10)"
      ]
     },
     "execution_count": 50,
     "metadata": {},
     "output_type": "execute_result"
    }
   ],
   "source": [
    "# calculate_stats(rainy_data, dry_data)\n",
    "stats.mannwhitneyu(rainy_data, dry_data)"
   ]
  },
  {
   "cell_type": "code",
   "execution_count": 51,
   "metadata": {},
   "outputs": [
    {
     "data": {
      "text/plain": [
       "MannwhitneyuResult(statistic=22805009646.0, pvalue=2.6516082537717947e-10)"
      ]
     },
     "execution_count": 51,
     "metadata": {},
     "output_type": "execute_result"
    }
   ],
   "source": [
    "stats.mannwhitneyu(dry_data, rainy_data)"
   ]
  },
  {
   "cell_type": "code",
   "execution_count": 52,
   "metadata": {},
   "outputs": [
    {
     "data": {
      "text/plain": [
       "MannwhitneyuResult(statistic=225135945.0, pvalue=0.44449947103202969)"
      ]
     },
     "execution_count": 52,
     "metadata": {},
     "output_type": "execute_result"
    }
   ],
   "source": [
    "stats.mannwhitneyu(customer_rainy_data, customer_dry_data)"
   ]
  },
  {
   "cell_type": "code",
   "execution_count": 53,
   "metadata": {},
   "outputs": [
    {
     "data": {
      "text/plain": [
       "MannwhitneyuResult(statistic=18394266035.5, pvalue=1.4272861788280371e-12)"
      ]
     },
     "execution_count": 53,
     "metadata": {},
     "output_type": "execute_result"
    }
   ],
   "source": [
    "stats.mannwhitneyu(subscriber_rainy_data, subscriber_dry_data)"
   ]
  },
  {
   "cell_type": "code",
   "execution_count": null,
   "metadata": {
    "collapsed": true
   },
   "outputs": [],
   "source": []
  },
  {
   "cell_type": "code",
   "execution_count": 54,
   "metadata": {
    "collapsed": true
   },
   "outputs": [],
   "source": [
    "am_trips = trips[trips.start_hour < 12]\n",
    "pm_trips = trips[trips.start_hour >= 12]"
   ]
  },
  {
   "cell_type": "code",
   "execution_count": null,
   "metadata": {
    "collapsed": true
   },
   "outputs": [],
   "source": []
  },
  {
   "cell_type": "code",
   "execution_count": null,
   "metadata": {
    "collapsed": true
   },
   "outputs": [],
   "source": []
  },
  {
   "cell_type": "code",
   "execution_count": null,
   "metadata": {
    "collapsed": true
   },
   "outputs": [],
   "source": []
  },
  {
   "cell_type": "code",
   "execution_count": null,
   "metadata": {
    "collapsed": true
   },
   "outputs": [],
   "source": []
  },
  {
   "cell_type": "code",
   "execution_count": null,
   "metadata": {
    "collapsed": true
   },
   "outputs": [],
   "source": []
  },
  {
   "cell_type": "code",
   "execution_count": null,
   "metadata": {
    "collapsed": true
   },
   "outputs": [],
   "source": []
  },
  {
   "cell_type": "code",
   "execution_count": null,
   "metadata": {
    "collapsed": true
   },
   "outputs": [],
   "source": []
  },
  {
   "cell_type": "code",
   "execution_count": null,
   "metadata": {
    "collapsed": true
   },
   "outputs": [],
   "source": []
  },
  {
   "cell_type": "code",
   "execution_count": 55,
   "metadata": {},
   "outputs": [
    {
     "name": "stdout",
     "output_type": "stream",
     "text": [
      "Diff of means:\t\t -3547.78378378\n",
      "T Test\n",
      "\tt statistic:\t\t -1.82004068295\n",
      "\tp value:\t\t 0.0729091948895\n",
      "\n",
      "MannWhitneyU Test\n",
      "\tu statistic:\t\t 396.0\n",
      "\tp value:\t\t 0.000924370217673\n"
     ]
    }
   ],
   "source": [
    "am_start_terminal_trips = am_trips.groupby('start_terminal').duration.count()\n",
    "pm_start_terminal_trips = pm_trips.groupby('start_terminal').duration.count()\n",
    "calculate_stats(am_start_terminal_trips, pm_start_terminal_trips)"
   ]
  },
  {
   "cell_type": "code",
   "execution_count": 56,
   "metadata": {},
   "outputs": [
    {
     "name": "stdout",
     "output_type": "stream",
     "text": [
      "Diff of means:\t\t -3547.78378378\n",
      "T Test\n",
      "\tt statistic:\t\t -1.55270394708\n",
      "\tp value:\t\t 0.124878728166\n",
      "\n",
      "MannWhitneyU Test\n",
      "\tu statistic:\t\t 614.0\n",
      "\tp value:\t\t 0.224597802244\n"
     ]
    }
   ],
   "source": [
    "am_end_terminal_trips = am_trips.groupby('end_terminal').duration.count()\n",
    "pm_end_terminal_trips = pm_trips.groupby('end_terminal').duration.count()\n",
    "calculate_stats(am_end_terminal_trips, pm_end_terminal_trips)"
   ]
  },
  {
   "cell_type": "code",
   "execution_count": 63,
   "metadata": {},
   "outputs": [
    {
     "data": {
      "image/png": "[encoded data removed]",
      "text/plain": [
       "<matplotlib.figure.Figure at 0x1a101ecd68>"
      ]
     },
     "metadata": {},
     "output_type": "display_data"
    }
   ],
   "source": [
    "plt.subplot(2,2,1)\n",
    "am_start_terminal_trips.plot(kind='bar', figsize=(12,6))\n",
    "\n",
    "plt.subplot(2,2,2)\n",
    "pm_start_terminal_trips.plot(kind='bar')\n",
    "\n",
    "plt.subplot(2,2,3)\n",
    "am_end_terminal_trips.plot(kind='bar')\n",
    "\n",
    "plt.subplot(2,2,4)\n",
    "pm_end_terminal_trips.plot(kind='bar')\n",
    "\n",
    "\n",
    "plt.tight_layout()\n",
    "plt.show()"
   ]
  },
  {
   "cell_type": "code",
   "execution_count": 68,
   "metadata": {},
   "outputs": [
    {
     "data": {
      "image/png": "[encoded data removed]",
      "text/plain": [
       "<matplotlib.figure.Figure at 0x1a1237fcc0>"
      ]
     },
     "metadata": {},
     "output_type": "display_data"
    }
   ],
   "source": [
    "\n",
    "customer_am_start_terminal_trips = am_trips[am_trips.subscriber_type == 'Customer'].groupby('start_terminal').duration.count()\n",
    "customer_am_end_terminal_trips = am_trips[am_trips.subscriber_type == 'Customer'].groupby('end_terminal').duration.count()\n",
    "\n",
    "customer_pm_start_terminal_trips = pm_trips[pm_trips.subscriber_type == 'Customer'].groupby('start_terminal').duration.count()\n",
    "customer_pm_end_terminal_trips = pm_trips[pm_trips.subscriber_type == 'Customer'].groupby('end_terminal').duration.count()\n",
    "\n",
    "plt.subplot(4,1,1)\n",
    "customer_am_start_terminal_trips.plot(kind='bar', figsize=(12,6))\n",
    "\n",
    "plt.subplot(4,1,2)\n",
    "customer_pm_start_terminal_trips.plot(kind='bar')\n",
    "\n",
    "plt.subplot(4,1,3)\n",
    "customer_am_end_terminal_trips.plot(kind='bar')\n",
    "\n",
    "plt.subplot(4,1,4)\n",
    "customer_pm_end_terminal_trips.plot(kind='bar')\n",
    "\n",
    "\n",
    "plt.tight_layout()\n",
    "plt.show()"
   ]
  },
  {
   "cell_type": "code",
   "execution_count": 87,
   "metadata": {},
   "outputs": [
    {
     "data": {
      "image/png": "[encoded data removed]",
      "text/plain": [
       "<matplotlib.figure.Figure at 0x1a19bd5320>"
      ]
     },
     "metadata": {},
     "output_type": "display_data"
    }
   ],
   "source": [
    "subscriber_am_start_terminal_trips = am_trips[am_trips.subscriber_type == 'Subscriber'].groupby('start_terminal').duration.count()\n",
    "subscriber_am_end_terminal_trips = am_trips[am_trips.subscriber_type == 'Subscriber'].groupby('end_terminal').duration.count()\n",
    "\n",
    "subscriber_pm_start_terminal_trips = pm_trips[pm_trips.subscriber_type == 'Subscriber'].groupby('start_terminal').duration.count()\n",
    "subscriber_pm_end_terminal_trips = pm_trips[pm_trips.subscriber_type == 'Subscriber'].groupby('end_terminal').duration.count()\n",
    "\n",
    "\n",
    "ax = subscriber_am_start_terminal_trips.plot(kind='line', figsize=(12,6))\n",
    "subscriber_pm_start_terminal_trips.plot(kind='line', ax=ax)\n",
    "\n",
    "subscriber_am_end_terminal_trips.plot(kind='line', ax=ax)\n",
    "subscriber_pm_end_terminal_trips.plot(kind='line', ax=ax)\n",
    "\n",
    "plt.tight_layout()\n",
    "plt.show()"
   ]
  },
  {
   "cell_type": "code",
   "execution_count": 117,
   "metadata": {
    "collapsed": true
   },
   "outputs": [],
   "source": [
    "subscriber_am_start_terminal_trips = am_trips[am_trips.subscriber_type == 'Subscriber'].groupby('start_terminal').duration.count()\n",
    "subscriber_am_end_terminal_trips = am_trips[am_trips.subscriber_type == 'Subscriber'].groupby('end_terminal').duration.count()\n",
    "\n",
    "subscriber_pm_start_terminal_trips = pm_trips[pm_trips.subscriber_type == 'Subscriber'].groupby('start_terminal').duration.count()\n",
    "subscriber_pm_end_terminal_trips = pm_trips[pm_trips.subscriber_type == 'Subscriber'].groupby('end_terminal').duration.count()\n",
    "\n",
    "station_diff = pd.DataFrame()\n",
    "station_diff['am_start_trips'] = subscriber_am_start_terminal_trips\n",
    "station_diff['am_end_trips'] = subscriber_am_end_terminal_trips\n",
    "station_diff['am_diff'] = subscriber_am_start_terminal_trips - subscriber_am_end_terminal_trips\n",
    "\n",
    "\n",
    "station_diff['pm_start_trips'] = subscriber_pm_start_terminal_trips\n",
    "station_diff['pm_end_trips'] = subscriber_pm_end_terminal_trips\n",
    "station_diff['pm_diff'] = subscriber_pm_start_terminal_trips - subscriber_pm_end_terminal_trips\n",
    "\n",
    "station_diff['removed_overnight'] = station_diff['am_diff'] - station_diff['pm_diff']"
   ]
  },
  {
   "cell_type": "code",
   "execution_count": 119,
   "metadata": {},
   "outputs": [
    {
     "data": {
      "image/png": "[encoded data removed]",
      "text/plain": [
       "<matplotlib.figure.Figure at 0x1a114f0898>"
      ]
     },
     "metadata": {},
     "output_type": "display_data"
    }
   ],
   "source": [
    "ax = station_diff.am_diff.plot(kind='bar', figsize=(12,6))\n",
    "station_diff.pm_diff.plot(kind='bar', ax=ax, color='r')\n",
    "plt.show()"
   ]
  },
  {
   "cell_type": "code",
   "execution_count": 122,
   "metadata": {},
   "outputs": [
    {
     "data": {
      "image/png": "[encoded data removed]",
      "text/plain": [
       "<matplotlib.figure.Figure at 0x1a1825f080>"
      ]
     },
     "metadata": {},
     "output_type": "display_data"
    }
   ],
   "source": [
    "station_diff.removed_overnight.plot(kind='bar', figsize=(12,6))\n",
    "plt.show()"
   ]
  },
  {
   "cell_type": "code",
   "execution_count": 129,
   "metadata": {},
   "outputs": [
    {
     "data": {
      "image/png": "[encoded data removed]",
      "text/plain": [
       "<matplotlib.figure.Figure at 0x1a525fec18>"
      ]
     },
     "metadata": {},
     "output_type": "display_data"
    }
   ],
   "source": [
    "sns.jointplot(x='am_start_trips', y='pm_end_trips', data=station_diff, kind='reg')\n",
    "plt.show()"
   ]
  },
  {
   "cell_type": "code",
   "execution_count": 130,
   "metadata": {},
   "outputs": [
    {
     "data": {
      "image/png": "[encoded data removed]",
      "text/plain": [
       "<matplotlib.figure.Figure at 0x1a11936f28>"
      ]
     },
     "metadata": {},
     "output_type": "display_data"
    }
   ],
   "source": [
    "sns.jointplot(x='am_end_trips', y='pm_start_trips', data=station_diff, kind='reg')\n",
    "plt.show()"
   ]
  },
  {
   "cell_type": "code",
   "execution_count": null,
   "metadata": {
    "collapsed": true
   },
   "outputs": [],
   "source": []
  },
  {
   "cell_type": "code",
   "execution_count": null,
   "metadata": {
    "collapsed": true
   },
   "outputs": [],
   "source": []
  },
  {
   "cell_type": "code",
   "execution_count": null,
   "metadata": {
    "collapsed": true
   },
   "outputs": [],
   "source": []
  },
  {
   "cell_type": "code",
   "execution_count": null,
   "metadata": {
    "collapsed": true
   },
   "outputs": [],
   "source": [
    "\n"
   ]
  },
  {
   "cell_type": "code",
   "execution_count": 161,
   "metadata": {
    "collapsed": true
   },
   "outputs": [],
   "source": [
    "hourly_stations = pd.DataFrame()\n",
    "hourly_stations_diff = pd.DataFrame()\n",
    "\n",
    "for i in range(0, 24):\n",
    "    _trips = trips[trips.start_hour == i]\n",
    "    _start_terminal = _trips.groupby('start_terminal').duration.count()\n",
    "    _end_terminal = _trips.groupby('end_terminal').duration.count()\n",
    "    \n",
    "    start_string = 'hour%s_end' % str(i)\n",
    "    end_string = 'hour%s_start' % str(i)\n",
    "    diff_string = 'hour%s' % str(i)\n",
    "    hourly_stations[end_string] = _end_terminal\n",
    "    hourly_stations[start_string] = _start_terminal\n",
    "    hourly_stations_diff[diff_string] = _start_terminal - _end_terminal\n"
   ]
  },
  {
   "cell_type": "code",
   "execution_count": 162,
   "metadata": {},
   "outputs": [
    {
     "data": {
      "text/html": [
       "<div>\n",
       "<style>\n",
       "    .dataframe thead tr:only-child th {\n",
       "        text-align: right;\n",
       "    }\n",
       "\n",
       "    .dataframe thead th {\n",
       "        text-align: left;\n",
       "    }\n",
       "\n",
       "    .dataframe tbody tr th {\n",
       "        vertical-align: top;\n",
       "    }\n",
       "</style>\n",
       "<table border=\"1\" class=\"dataframe\">\n",
       "  <thead>\n",
       "    <tr style=\"text-align: right;\">\n",
       "      <th></th>\n",
       "      <th>hour0_start</th>\n",
       "      <th>hour0_end</th>\n",
       "      <th>hour1_start</th>\n",
       "      <th>hour1_end</th>\n",
       "      <th>hour2_start</th>\n",
       "      <th>hour2_end</th>\n",
       "      <th>hour3_start</th>\n",
       "      <th>hour3_end</th>\n",
       "      <th>hour4_start</th>\n",
       "      <th>hour4_end</th>\n",
       "      <th>...</th>\n",
       "      <th>hour19_start</th>\n",
       "      <th>hour19_end</th>\n",
       "      <th>hour20_start</th>\n",
       "      <th>hour20_end</th>\n",
       "      <th>hour21_start</th>\n",
       "      <th>hour21_end</th>\n",
       "      <th>hour22_start</th>\n",
       "      <th>hour22_end</th>\n",
       "      <th>hour23_start</th>\n",
       "      <th>hour23_end</th>\n",
       "    </tr>\n",
       "    <tr>\n",
       "      <th>end_terminal</th>\n",
       "      <th></th>\n",
       "      <th></th>\n",
       "      <th></th>\n",
       "      <th></th>\n",
       "      <th></th>\n",
       "      <th></th>\n",
       "      <th></th>\n",
       "      <th></th>\n",
       "      <th></th>\n",
       "      <th></th>\n",
       "      <th></th>\n",
       "      <th></th>\n",
       "      <th></th>\n",
       "      <th></th>\n",
       "      <th></th>\n",
       "      <th></th>\n",
       "      <th></th>\n",
       "      <th></th>\n",
       "      <th></th>\n",
       "      <th></th>\n",
       "      <th></th>\n",
       "    </tr>\n",
       "  </thead>\n",
       "  <tbody>\n",
       "    <tr>\n",
       "      <th>39</th>\n",
       "      <td>132</td>\n",
       "      <td>143</td>\n",
       "      <td>72</td>\n",
       "      <td>118</td>\n",
       "      <td>47</td>\n",
       "      <td>54</td>\n",
       "      <td>20</td>\n",
       "      <td>19</td>\n",
       "      <td>20</td>\n",
       "      <td>26</td>\n",
       "      <td>...</td>\n",
       "      <td>1557</td>\n",
       "      <td>1207</td>\n",
       "      <td>785</td>\n",
       "      <td>924</td>\n",
       "      <td>611</td>\n",
       "      <td>646</td>\n",
       "      <td>386</td>\n",
       "      <td>456</td>\n",
       "      <td>244</td>\n",
       "      <td>317</td>\n",
       "    </tr>\n",
       "    <tr>\n",
       "      <th>41</th>\n",
       "      <td>28</td>\n",
       "      <td>60</td>\n",
       "      <td>23</td>\n",
       "      <td>34</td>\n",
       "      <td>17</td>\n",
       "      <td>22</td>\n",
       "      <td>17</td>\n",
       "      <td>13</td>\n",
       "      <td>26</td>\n",
       "      <td>5</td>\n",
       "      <td>...</td>\n",
       "      <td>324</td>\n",
       "      <td>674</td>\n",
       "      <td>190</td>\n",
       "      <td>339</td>\n",
       "      <td>190</td>\n",
       "      <td>212</td>\n",
       "      <td>84</td>\n",
       "      <td>166</td>\n",
       "      <td>46</td>\n",
       "      <td>125</td>\n",
       "    </tr>\n",
       "    <tr>\n",
       "      <th>42</th>\n",
       "      <td>46</td>\n",
       "      <td>61</td>\n",
       "      <td>14</td>\n",
       "      <td>22</td>\n",
       "      <td>7</td>\n",
       "      <td>8</td>\n",
       "      <td>6</td>\n",
       "      <td>4</td>\n",
       "      <td>2</td>\n",
       "      <td>22</td>\n",
       "      <td>...</td>\n",
       "      <td>684</td>\n",
       "      <td>565</td>\n",
       "      <td>370</td>\n",
       "      <td>344</td>\n",
       "      <td>233</td>\n",
       "      <td>188</td>\n",
       "      <td>183</td>\n",
       "      <td>158</td>\n",
       "      <td>98</td>\n",
       "      <td>81</td>\n",
       "    </tr>\n",
       "  </tbody>\n",
       "</table>\n",
       "<p>3 rows × 48 columns</p>\n",
       "</div>"
      ],
      "text/plain": [
       "              hour0_start  hour0_end  hour1_start  hour1_end  hour2_start  \\\n",
       "end_terminal                                                                \n",
       "39                    132        143           72        118           47   \n",
       "41                     28         60           23         34           17   \n",
       "42                     46         61           14         22            7   \n",
       "\n",
       "              hour2_end  hour3_start  hour3_end  hour4_start  hour4_end  \\\n",
       "end_terminal                                                              \n",
       "39                   54           20         19           20         26   \n",
       "41                   22           17         13           26          5   \n",
       "42                    8            6          4            2         22   \n",
       "\n",
       "                 ...      hour19_start  hour19_end  hour20_start  hour20_end  \\\n",
       "end_terminal     ...                                                           \n",
       "39               ...              1557        1207           785         924   \n",
       "41               ...               324         674           190         339   \n",
       "42               ...               684         565           370         344   \n",
       "\n",
       "              hour21_start  hour21_end  hour22_start  hour22_end  \\\n",
       "end_terminal                                                       \n",
       "39                     611         646           386         456   \n",
       "41                     190         212            84         166   \n",
       "42                     233         188           183         158   \n",
       "\n",
       "              hour23_start  hour23_end  \n",
       "end_terminal                            \n",
       "39                     244         317  \n",
       "41                      46         125  \n",
       "42                      98          81  \n",
       "\n",
       "[3 rows x 48 columns]"
      ]
     },
     "execution_count": 162,
     "metadata": {},
     "output_type": "execute_result"
    }
   ],
   "source": [
    "hourly_stations.head(3)"
   ]
  },
  {
   "cell_type": "code",
   "execution_count": 171,
   "metadata": {},
   "outputs": [
    {
     "name": "stdout",
     "output_type": "stream",
     "text": [
      "<class 'pandas.core.frame.DataFrame'>\n",
      "CategoricalIndex: 37 entries, 39 to 91\n",
      "Data columns (total 24 columns):\n",
      "hour0     37 non-null int64\n",
      "hour1     37 non-null int64\n",
      "hour2     37 non-null int64\n",
      "hour3     37 non-null int64\n",
      "hour4     37 non-null int64\n",
      "hour5     37 non-null int64\n",
      "hour6     37 non-null int64\n",
      "hour7     37 non-null int64\n",
      "hour8     37 non-null int64\n",
      "hour9     37 non-null int64\n",
      "hour10    37 non-null int64\n",
      "hour11    37 non-null int64\n",
      "hour12    37 non-null int64\n",
      "hour13    37 non-null int64\n",
      "hour14    37 non-null int64\n",
      "hour15    37 non-null int64\n",
      "hour16    37 non-null int64\n",
      "hour17    37 non-null int64\n",
      "hour18    37 non-null int64\n",
      "hour19    37 non-null int64\n",
      "hour20    37 non-null int64\n",
      "hour21    37 non-null int64\n",
      "hour22    37 non-null int64\n",
      "hour23    37 non-null int64\n",
      "dtypes: int64(24)\n",
      "memory usage: 8.5 KB\n"
     ]
    }
   ],
   "source": [
    "hourly_stations_diff.info()"
   ]
  },
  {
   "cell_type": "code",
   "execution_count": 163,
   "metadata": {},
   "outputs": [
    {
     "data": {
      "text/html": [
       "<div>\n",
       "<style>\n",
       "    .dataframe thead tr:only-child th {\n",
       "        text-align: right;\n",
       "    }\n",
       "\n",
       "    .dataframe thead th {\n",
       "        text-align: left;\n",
       "    }\n",
       "\n",
       "    .dataframe tbody tr th {\n",
       "        vertical-align: top;\n",
       "    }\n",
       "</style>\n",
       "<table border=\"1\" class=\"dataframe\">\n",
       "  <thead>\n",
       "    <tr style=\"text-align: right;\">\n",
       "      <th></th>\n",
       "      <th>hour0</th>\n",
       "      <th>hour1</th>\n",
       "      <th>hour2</th>\n",
       "      <th>hour3</th>\n",
       "      <th>hour4</th>\n",
       "      <th>hour5</th>\n",
       "      <th>hour6</th>\n",
       "      <th>hour7</th>\n",
       "      <th>hour8</th>\n",
       "      <th>hour9</th>\n",
       "      <th>...</th>\n",
       "      <th>hour14</th>\n",
       "      <th>hour15</th>\n",
       "      <th>hour16</th>\n",
       "      <th>hour17</th>\n",
       "      <th>hour18</th>\n",
       "      <th>hour19</th>\n",
       "      <th>hour20</th>\n",
       "      <th>hour21</th>\n",
       "      <th>hour22</th>\n",
       "      <th>hour23</th>\n",
       "    </tr>\n",
       "    <tr>\n",
       "      <th>start_terminal</th>\n",
       "      <th></th>\n",
       "      <th></th>\n",
       "      <th></th>\n",
       "      <th></th>\n",
       "      <th></th>\n",
       "      <th></th>\n",
       "      <th></th>\n",
       "      <th></th>\n",
       "      <th></th>\n",
       "      <th></th>\n",
       "      <th></th>\n",
       "      <th></th>\n",
       "      <th></th>\n",
       "      <th></th>\n",
       "      <th></th>\n",
       "      <th></th>\n",
       "      <th></th>\n",
       "      <th></th>\n",
       "      <th></th>\n",
       "      <th></th>\n",
       "      <th></th>\n",
       "    </tr>\n",
       "  </thead>\n",
       "  <tbody>\n",
       "    <tr>\n",
       "      <th>39</th>\n",
       "      <td>11</td>\n",
       "      <td>46</td>\n",
       "      <td>7</td>\n",
       "      <td>-1</td>\n",
       "      <td>6</td>\n",
       "      <td>120</td>\n",
       "      <td>407</td>\n",
       "      <td>-126</td>\n",
       "      <td>108</td>\n",
       "      <td>321</td>\n",
       "      <td>...</td>\n",
       "      <td>-156</td>\n",
       "      <td>-281</td>\n",
       "      <td>-747</td>\n",
       "      <td>-892</td>\n",
       "      <td>-697</td>\n",
       "      <td>-350</td>\n",
       "      <td>139</td>\n",
       "      <td>35</td>\n",
       "      <td>70</td>\n",
       "      <td>73</td>\n",
       "    </tr>\n",
       "    <tr>\n",
       "      <th>41</th>\n",
       "      <td>32</td>\n",
       "      <td>11</td>\n",
       "      <td>5</td>\n",
       "      <td>-4</td>\n",
       "      <td>-21</td>\n",
       "      <td>17</td>\n",
       "      <td>-117</td>\n",
       "      <td>-1826</td>\n",
       "      <td>-2592</td>\n",
       "      <td>-884</td>\n",
       "      <td>...</td>\n",
       "      <td>174</td>\n",
       "      <td>496</td>\n",
       "      <td>1860</td>\n",
       "      <td>1570</td>\n",
       "      <td>915</td>\n",
       "      <td>350</td>\n",
       "      <td>149</td>\n",
       "      <td>22</td>\n",
       "      <td>82</td>\n",
       "      <td>79</td>\n",
       "    </tr>\n",
       "    <tr>\n",
       "      <th>42</th>\n",
       "      <td>15</td>\n",
       "      <td>8</td>\n",
       "      <td>1</td>\n",
       "      <td>-2</td>\n",
       "      <td>20</td>\n",
       "      <td>-70</td>\n",
       "      <td>363</td>\n",
       "      <td>-910</td>\n",
       "      <td>-1932</td>\n",
       "      <td>-18</td>\n",
       "      <td>...</td>\n",
       "      <td>60</td>\n",
       "      <td>133</td>\n",
       "      <td>659</td>\n",
       "      <td>781</td>\n",
       "      <td>245</td>\n",
       "      <td>-119</td>\n",
       "      <td>-26</td>\n",
       "      <td>-45</td>\n",
       "      <td>-25</td>\n",
       "      <td>-17</td>\n",
       "    </tr>\n",
       "  </tbody>\n",
       "</table>\n",
       "<p>3 rows × 24 columns</p>\n",
       "</div>"
      ],
      "text/plain": [
       "                hour0  hour1  hour2  hour3  hour4  hour5  hour6  hour7  hour8  \\\n",
       "start_terminal                                                                  \n",
       "39                 11     46      7     -1      6    120    407   -126    108   \n",
       "41                 32     11      5     -4    -21     17   -117  -1826  -2592   \n",
       "42                 15      8      1     -2     20    -70    363   -910  -1932   \n",
       "\n",
       "                hour9   ...    hour14  hour15  hour16  hour17  hour18  hour19  \\\n",
       "start_terminal          ...                                                     \n",
       "39                321   ...      -156    -281    -747    -892    -697    -350   \n",
       "41               -884   ...       174     496    1860    1570     915     350   \n",
       "42                -18   ...        60     133     659     781     245    -119   \n",
       "\n",
       "                hour20  hour21  hour22  hour23  \n",
       "start_terminal                                  \n",
       "39                 139      35      70      73  \n",
       "41                 149      22      82      79  \n",
       "42                 -26     -45     -25     -17  \n",
       "\n",
       "[3 rows x 24 columns]"
      ]
     },
     "execution_count": 163,
     "metadata": {},
     "output_type": "execute_result"
    }
   ],
   "source": [
    "hourly_stations_diff.head(3)"
   ]
  },
  {
   "cell_type": "code",
   "execution_count": null,
   "metadata": {
    "collapsed": true
   },
   "outputs": [],
   "source": []
  },
  {
   "cell_type": "code",
   "execution_count": null,
   "metadata": {
    "collapsed": true
   },
   "outputs": [],
   "source": []
  },
  {
   "cell_type": "code",
   "execution_count": null,
   "metadata": {
    "collapsed": true
   },
   "outputs": [],
   "source": []
  },
  {
   "cell_type": "code",
   "execution_count": null,
   "metadata": {
    "collapsed": true
   },
   "outputs": [],
   "source": []
  },
  {
   "cell_type": "code",
   "execution_count": null,
   "metadata": {
    "collapsed": true
   },
   "outputs": [],
   "source": []
  },
  {
   "cell_type": "code",
   "execution_count": null,
   "metadata": {
    "collapsed": true
   },
   "outputs": [],
   "source": []
  },
  {
   "cell_type": "code",
   "execution_count": null,
   "metadata": {
    "collapsed": true
   },
   "outputs": [],
   "source": []
  },
  {
   "cell_type": "code",
   "execution_count": null,
   "metadata": {
    "collapsed": true
   },
   "outputs": [],
   "source": []
  },
  {
   "cell_type": "code",
   "execution_count": null,
   "metadata": {
    "collapsed": true
   },
   "outputs": [],
   "source": []
  },
  {
   "cell_type": "code",
   "execution_count": null,
   "metadata": {
    "collapsed": true
   },
   "outputs": [],
   "source": []
  },
  {
   "cell_type": "code",
   "execution_count": null,
   "metadata": {
    "collapsed": true
   },
   "outputs": [],
   "source": []
  },
  {
   "cell_type": "code",
   "execution_count": null,
   "metadata": {
    "collapsed": true
   },
   "outputs": [],
   "source": []
  },
  {
   "cell_type": "code",
   "execution_count": null,
   "metadata": {
    "collapsed": true
   },
   "outputs": [],
   "source": []
  },
  {
   "cell_type": "code",
   "execution_count": null,
   "metadata": {
    "collapsed": true
   },
   "outputs": [],
   "source": []
  },
  {
   "cell_type": "code",
   "execution_count": null,
   "metadata": {
    "collapsed": true
   },
   "outputs": [],
   "source": []
  },
  {
   "cell_type": "code",
   "execution_count": null,
   "metadata": {
    "collapsed": true
   },
   "outputs": [],
   "source": []
  },
  {
   "cell_type": "code",
   "execution_count": null,
   "metadata": {
    "collapsed": true
   },
   "outputs": [],
   "source": []
  },
  {
   "cell_type": "code",
   "execution_count": null,
   "metadata": {
    "collapsed": true
   },
   "outputs": [],
   "source": []
  },
  {
   "cell_type": "code",
   "execution_count": null,
   "metadata": {
    "collapsed": true
   },
   "outputs": [],
   "source": []
  }
 ],
 "metadata": {
  "kernelspec": {
   "display_name": "Python 3",
   "language": "python",
   "name": "python3"
  },
  "language_info": {
   "codemirror_mode": {
    "name": "ipython",
    "version": 3
   },
   "file_extension": ".py",
   "mimetype": "text/x-python",
   "name": "python",
   "nbconvert_exporter": "python",
   "pygments_lexer": "ipython3",
   "version": "3.6.3"
  }
 },
 "nbformat": 4,
 "nbformat_minor": 2
}
