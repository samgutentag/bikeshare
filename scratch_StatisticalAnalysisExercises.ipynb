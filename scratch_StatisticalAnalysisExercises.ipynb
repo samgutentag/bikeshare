{
 "cells": [
  {
   "cell_type": "markdown",
   "metadata": {
    "collapsed": true
   },
   "source": [
    "%matplotlib inline\n",
    "\n",
    "import matplotlib\n",
    "import numpy as np\n",
    "from scipy import stats\n",
    "import math\n",
    "import matplotlib.pyplot as plt\n",
    "import pandas as pd\n",
    "from glob import glob\n",
    "\n",
    "from geopy.distance import vincenty\n",
    "\n",
    "\n",
    "import seaborn as sns\n",
    "sns.set()"
   ]
  },
  {
   "cell_type": "markdown",
   "metadata": {},
   "source": [
    "## Load Trip Data"
   ]
  },
  {
   "cell_type": "code",
   "execution_count": null,
   "metadata": {},
   "outputs": [],
   "source": [
    "print('Loading Trip Data...')\n",
    "\n",
    "try:\n",
    "    file_path_slug = '../../datasets/bayareabikeshare/*_trip_data.csv'\n",
    "\n",
    "    # glob all files\n",
    "    file_list = glob(file_path_slug)\n",
    "\n",
    "    trip_import = pd.DataFrame()\n",
    "\n",
    "    counter = 1\n",
    "    chunks = []\n",
    "\n",
    "    # load data from each file\n",
    "    for file in file_list:\n",
    "\n",
    "        # import file in chunks\n",
    "        for chunk in pd.read_csv(file, chunksize=10000, iterator=True):\n",
    "\n",
    "            # set chunk index column to 'Trip ID'\n",
    "            chunk = chunk.set_index('Trip ID')\n",
    "\n",
    "            # define Columns\n",
    "            chunk.columns = ['Duration', 'Start Date', 'Start Station', 'Start Terminal', 'End Date', \n",
    "                             'End Station', 'End Terminal', 'Bike #', 'Subscriber Type', 'Zip Code']\n",
    "\n",
    "            # append chunk to chunks list\n",
    "            chunks.append(chunk)\n",
    "\n",
    "        print('\\tFinished file! (%d of %d)' % (counter, len(file_list)))\n",
    "        counter += 1\n",
    "\n",
    "    # concat chunks\n",
    "    trip_import = pd.concat(chunks)\n",
    "\n",
    "    print('Data Loaded Successfully!')\n",
    "\n",
    "except:\n",
    "    print('oops... something went wrong importing the data :(')"
   ]
  },
  {
   "cell_type": "markdown",
   "metadata": {},
   "source": [
    "### Clean Trip Data"
   ]
  },
  {
   "cell_type": "code",
   "execution_count": null,
   "metadata": {},
   "outputs": [],
   "source": [
    "trip_data = trip_import.copy()\n",
    "trip_data.info()"
   ]
  },
  {
   "cell_type": "code",
   "execution_count": null,
   "metadata": {
    "collapsed": true
   },
   "outputs": [],
   "source": [
    "# our data set show duration in seconds, here are some handy conversions\n",
    "second = 1\n",
    "minute = second * 60\n",
    "hour = minute * 60\n",
    "\n",
    "# station ID numbers that are in San Francisco\n",
    "sf_stations = [ 39,41,42,45,46,47,48,49,50,51,54,55,56,57,58,59,60,61,62,63,\n",
    "                64,65,66,67,68,69,70,71,72,73,74,75,76,77,82,90,91]"
   ]
  },
  {
   "cell_type": "code",
   "execution_count": null,
   "metadata": {
    "collapsed": true
   },
   "outputs": [],
   "source": [
    "# zipcodes are all over the place, only keep corrected 5 digit zipcodes, and replace all others with NaNs\n",
    "def clean_zipcode(item):\n",
    "    if len(item) != 5:\n",
    "\n",
    "        # split on '-'\n",
    "        try:\n",
    "            result = item.split('-')[0]\n",
    "        except:\n",
    "            result = item\n",
    "\n",
    "        # split on '.'\n",
    "        try:\n",
    "            result = item.split('.')[0]\n",
    "        except:\n",
    "            result = item\n",
    "        \n",
    "        # if len of item is less than 5, return 'NaN'\n",
    "        if len(result) < 5:\n",
    "            result = 'NaN'\n",
    "        else:\n",
    "            # if len result is greater than 5, take at most, first 5 digits\n",
    "            result = result[:5]\n",
    "    else:\n",
    "        result = item\n",
    "    \n",
    "    # make sure result is all digits\n",
    "    if result.isdigit():\n",
    "        return result\n",
    "    else:\n",
    "        return 'NaN'"
   ]
  },
  {
   "cell_type": "code",
   "execution_count": null,
   "metadata": {},
   "outputs": [],
   "source": [
    "print('Trip Data Cleanup Started...')\n",
    "\n",
    "# cleanup column names\n",
    "print('\\tcleaning column names')\n",
    "new_cols = []\n",
    "for col in trip_data.columns:\n",
    "    new_cols.append(col.replace(' ', '_').lower())\n",
    "trip_data.columns = new_cols\n",
    "\n",
    "# extract columns we want to keep\n",
    "print('\\tsubsetting to useful columns')\n",
    "important_cols = ['duration', 'start_date', 'start_terminal', 'end_date', 'end_terminal', 'bike_#', 'subscriber_type', 'zip_code']\n",
    "trip_data = trip_data[important_cols]\n",
    "\n",
    "# we are only looking at stations in San Francisco\n",
    "sf_trips_data = trip_data[trip_data['start_terminal'].isin(sf_stations)]\n",
    "sf_trips_data = sf_trips_data[sf_trips_data['end_terminal'].isin(sf_stations)]\n",
    "\n",
    "trip_data = sf_trips_data.copy()\n",
    "\n",
    "# create duration minutes column\n",
    "print('\\tcreating a duration_minutes column')\n",
    "trip_data['duration_minutes'] = trip_data['duration'] / 60.0\n",
    "\n",
    "# convert end and start dates to datetime objects\n",
    "print('\\tconverting end and start dates to datetime objects')\n",
    "trip_data['start_date'] = pd.to_datetime(trip_data['start_date'], format=\"%m/%d/%Y %H:%M\")\n",
    "trip_data['end_date']   = pd.to_datetime(trip_data['end_date'],   format=\"%m/%d/%Y %H:%M\")\n",
    "\n",
    "# create a start and end hour trip column\n",
    "print('\\tcreating trip_date and trip_dow columns')\n",
    "trip_data['trip_date']  = trip_data['start_date'].dt.date\n",
    "trip_data['trip_dow']  = trip_data['start_date'].dt.weekday\n",
    "trip_data['trip_day']  = trip_data['start_date'].dt.weekday_name\n",
    "\n",
    "print('\\tcreating start_hour and end_hour columns')\n",
    "trip_data['start_hour'] = trip_data['start_date'].dt.hour\n",
    "trip_data['end_hour']   = trip_data['end_date'].dt.hour\n",
    "\n",
    "# convert and clean zipcodes\n",
    "print('\\tcleaning zipcodes')\n",
    "trip_data['zip_code'] = trip_data['zip_code'].astype(str)\n",
    "trip_data.zip_code = trip_data.zip_code.apply(clean_zipcode)\n",
    "trip_data['zip_code'] = pd.to_numeric(trip_data['zip_code'], errors='coerce')\n",
    "\n",
    "# clean up data types\n",
    "print('cleaning up data types')\n",
    "\n",
    "trip_data['duration']         = trip_data['duration'].astype('float')\n",
    "# trip_data['start_date']       = trip_data['start_date'].astype('')\n",
    "trip_data['start_terminal']   = trip_data['start_terminal'].astype('category')\n",
    "# trip_data['end_date']         = trip_data['end_date'].astype('')\n",
    "trip_data['end_terminal']     = trip_data['end_terminal'].astype('category')\n",
    "trip_data['bike_#']           = trip_data['bike_#'].astype('int')\n",
    "trip_data['subscriber_type']  = trip_data['subscriber_type'].astype('category')\n",
    "trip_data['zip_code']         = trip_data['zip_code'].astype('str')\n",
    "trip_data['duration_minutes'] = trip_data['duration_minutes'].astype('float')\n",
    "# trip_data['trip_date']        = trip_data['trip_date'].astype('')\n",
    "trip_data['trip_dow']         = trip_data['trip_dow'].astype('category')\n",
    "trip_data['trip_day']         = trip_data['trip_day'].astype('category')\n",
    "# trip_data['start_hour']       = trip_data['start_hour'].astype('')\n",
    "# trip_data['end_hour']         = trip_data['end_hour'].astype('')\n",
    "\n",
    "\n",
    "print('Trip Data Cleanup complete')\n",
    "trip_clean = trip_data.copy()"
   ]
  },
  {
   "cell_type": "code",
   "execution_count": null,
   "metadata": {},
   "outputs": [],
   "source": [
    "trip_clean.info()"
   ]
  },
  {
   "cell_type": "code",
   "execution_count": null,
   "metadata": {},
   "outputs": [],
   "source": [
    "# prune data to exclude trips longer than 60 minutes\n",
    "print('pruning data to trips no more than 60 minutes long...')\n",
    "trips = trip_clean[trip_clean['duration_minutes'] <= 60].copy()\n",
    "\n",
    "# Cleanup\n",
    "trips.sort_index(inplace=True)\n",
    "print('\\tpruned data set \\'trips\\' consists of %i entries' % len(trips.index))\n",
    "\n",
    "plt.subplots(figsize=(12,6))\n",
    "ax = sns.distplot(trips[trips.subscriber_type == 'Subscriber'].start_date.dt.hour, color='b', label='Subscribers')\n",
    "sns.distplot(trips[trips.subscriber_type == 'Customer'].start_date.dt.hour, color='r', label='Customers', ax=ax)\n",
    "ax.set(xlabel='start hour')\n",
    "plt.legend()\n",
    "plt.show()"
   ]
  },
  {
   "cell_type": "markdown",
   "metadata": {},
   "source": [
    "## Load Weather Data"
   ]
  },
  {
   "cell_type": "code",
   "execution_count": null,
   "metadata": {},
   "outputs": [],
   "source": [
    "print('Loading Weather Data...')\n",
    "\n",
    "try:\n",
    "    file_path_slug = '../../datasets/bayareabikeshare/*_weather_data.csv'\n",
    "\n",
    "    # glob all files\n",
    "    file_list = glob(file_path_slug)\n",
    "\n",
    "    weather_import = pd.DataFrame()\n",
    "\n",
    "    counter = 1\n",
    "    chunks = []\n",
    "\n",
    "    # load data from each file\n",
    "    for file in file_list:\n",
    "\n",
    "        # import file in chunks\n",
    "        for chunk in pd.read_csv(file, chunksize=10000, iterator=True):\n",
    "\n",
    "            chunk.columns = ['Date', 'Max_Temperature_F', 'Mean_Temperature_F', 'Min_TemperatureF', 'Max_Dew_Point_F', \n",
    "                             'MeanDew_Point_F', 'Min_Dewpoint_F', 'Max_Humidity', 'Mean_Humidity', 'Min_Humidity', \n",
    "                             'Max_Sea_Level_Pressure_In', 'Mean_Sea_Level_Pressure_In', 'Min_Sea_Level_Pressure_In', \n",
    "                             'Max_Visibility_Miles', 'Mean_Visibility_Miles', 'Min_Visibility_Miles', \n",
    "                             'Max_Wind_Speed_MPH', 'Mean_Wind_Speed_MPH', 'Max_Gust_Speed_MPH', 'Precipitation_In', \n",
    "                             'Cloud_Cover', 'Events', 'Wind_Dir_Degrees', 'zip']\n",
    "\n",
    "            chunks.append(chunk)\n",
    "\n",
    "        print('\\tfinished file! (%d of %d)'% (counter, len(file_list)))\n",
    "        counter += 1\n",
    "\n",
    "    # concat chunks\n",
    "    weather_import = pd.concat(chunks)\n",
    "\n",
    "    print('Data Loaded Successfully!')\n",
    "except:\n",
    "    print('oops... something went wrong loading the data :()')"
   ]
  },
  {
   "cell_type": "code",
   "execution_count": null,
   "metadata": {},
   "outputs": [],
   "source": [
    "weather_data = weather_import.copy()\n",
    "weather_data.info()"
   ]
  },
  {
   "cell_type": "markdown",
   "metadata": {},
   "source": [
    "### Clean Weather Data"
   ]
  },
  {
   "cell_type": "code",
   "execution_count": null,
   "metadata": {},
   "outputs": [],
   "source": [
    "print('Weather Data Cleanup Started...')\n",
    "\n",
    "# cleanup column names\n",
    "print('\\tcleaning column names')\n",
    "new_cols = []\n",
    "for col in weather_data.columns:\n",
    "    new_cols.append(col.replace(' ', '_').lower())\n",
    "weather_data.columns = new_cols\n",
    "\n",
    "# convert end and start dates to datetime objects\n",
    "print('\\tconverting dates to datetime objects')\n",
    "weather_data['date'] = pd.to_datetime(weather_data['date'], format=\"%m/%d/%Y\")\n",
    "\n",
    "# extract columns we want to keep\n",
    "print('\\tsubsetting to useful columns')\n",
    "important_cols = ['date', 'max_temperature_f', 'mean_temperature_f', 'min_temperaturef',\n",
    "                  'max_dew_point_f', 'meandew_point_f', 'min_dewpoint_f',\n",
    "                  'max_wind_speed_mph', 'mean_wind_speed_mph', 'max_gust_speed_mph',\n",
    "                  'precipitation_in', 'cloud_cover', 'events', 'zip']\n",
    "weather_data = weather_data[important_cols]\n",
    "\n",
    "# correct min_temperaturef column name to min_temperature_f\n",
    "# weather['min_temperaturef'].rename('min_temperature_f')\n",
    "weather_data.rename(columns={'min_temperaturef': 'min_temperature_f'}, inplace=True)\n",
    "\n",
    "# cleanup and set date as index\n",
    "weather_data.set_index('date', inplace=True)\n",
    "weather_data.sort_index(inplace=True)\n",
    "\n",
    "# cleanup precipitation data to be all float values\n",
    "weather_data['precipitation_in'] = pd.to_numeric(weather_data['precipitation_in'], errors='coerce')\n",
    "\n",
    "# we only want San Francisco Weather information, zipcode 94107\n",
    "weather_data = weather_data[weather_data.zip == 94107]\n",
    "\n",
    "print('Weather Data Cleanup complete')\n",
    "weather_clean = weather_data.copy()"
   ]
  },
  {
   "cell_type": "code",
   "execution_count": null,
   "metadata": {
    "collapsed": true
   },
   "outputs": [],
   "source": []
  },
  {
   "cell_type": "code",
   "execution_count": null,
   "metadata": {
    "collapsed": true
   },
   "outputs": [],
   "source": []
  },
  {
   "cell_type": "markdown",
   "metadata": {},
   "source": [
    "## Load Station Data"
   ]
  },
  {
   "cell_type": "code",
   "execution_count": null,
   "metadata": {},
   "outputs": [],
   "source": [
    "print('Loading Station Data...')\n",
    "\n",
    "try:\n",
    "    file_path_slug = '../../datasets/bayareabikeshare/*_station_data.csv'\n",
    "\n",
    "    # glob all files\n",
    "    file_list = glob(file_path_slug)\n",
    "\n",
    "    station_import = pd.DataFrame()\n",
    "\n",
    "    counter = 1\n",
    "    chunks = []\n",
    "\n",
    "    # load data from each file\n",
    "    for file in file_list:\n",
    "\n",
    "        # import file in chunks\n",
    "        for chunk in pd.read_csv(file, chunksize=10000, iterator=True):\n",
    "\n",
    "            # set chunk index column to 'Trip ID'\n",
    "#             chunk = chunk.set_index('Trip ID')\n",
    "\n",
    "            # define Columns\n",
    "            chunk.columns = ['station_id', 'name', 'lat', 'long', 'dockcount', 'landmark', 'installation']            \n",
    "            \n",
    "            # append chunk to chunks list\n",
    "            chunks.append(chunk)\n",
    "\n",
    "        print('\\tFinished file! (%d of %d)' % (counter, len(file_list)))\n",
    "        counter += 1\n",
    "\n",
    "    # concat chunks\n",
    "    station_import = pd.concat(chunks)\n",
    "\n",
    "    print('Data Loaded Successfully!')\n",
    "\n",
    "except:\n",
    "    print('oops... something went wrong importing the data :(')"
   ]
  },
  {
   "cell_type": "markdown",
   "metadata": {},
   "source": [
    "### Clean Station Data"
   ]
  },
  {
   "cell_type": "code",
   "execution_count": null,
   "metadata": {
    "collapsed": true
   },
   "outputs": [],
   "source": [
    "def label_zip(row):\n",
    "    if row['landmark'] == 'San Francisco':\n",
    "       return '94107'\n",
    "    if row['landmark'] == 'Redwood City':\n",
    "        return '94063'\n",
    "    if row['landmark'] == 'Palo Alto':\n",
    "        return '94301'\n",
    "    if row['landmark'] == 'Mountain View':\n",
    "        return '94041'\n",
    "    if row['landmark'] == 'San Jose':\n",
    "        return '95113'\n",
    "    return '99999'\n",
    "\n",
    "def make_lat_long(row):\n",
    "    lat = row['lat']\n",
    "    long = row['long']\n",
    "    return (lat, long)"
   ]
  },
  {
   "cell_type": "code",
   "execution_count": null,
   "metadata": {},
   "outputs": [],
   "source": [
    "station_data = station_import.copy()\n",
    "\n",
    "# remove dulplicates\n",
    "print('remove dulplicates')\n",
    "station_data.drop_duplicates(keep='first', inplace=True)\n",
    "station_data.dropna(how='all', inplace=True)\n",
    "\n",
    "# set datatype for each column\n",
    "print('set datatype for each column')\n",
    "station_data['station_id']   = station_data['station_id'].astype('int')\n",
    "station_data['name']         = station_data['name'].astype('str')\n",
    "station_data['lat']          = station_data['lat'].astype('float')\n",
    "station_data['long']         = station_data['long'].astype('float')\n",
    "station_data['landmark']     = station_data['landmark'].astype('category')\n",
    "\n",
    "# add a zipcode column for later comparison with weather data\n",
    "station_data['zip_code'] = station_data.apply(lambda row: label_zip (row),axis=1)\n",
    "# station_data['zip_code'] = station_data['landmark'].astype('str')\n",
    "\n",
    "# create lat,lon tuple column\n",
    "station_data['lat_long'] = station_data.apply(lambda row: make_lat_long (row),axis=1)\n",
    "\n",
    "# reindex to remove some extra duplicate\n",
    "print('correcting index')\n",
    "station_data.reset_index(inplace=True)\n",
    "station_data.drop_duplicates(['station_id', 'installation'], keep='first', inplace=True)\n",
    "station_data.set_index('station_id', inplace=True)\n",
    "station_data.sort_index(inplace=True)\n",
    "del station_data['index']\n",
    "\n",
    "station_clean = station_data.copy()\n",
    "print('Cleaning complete!')\n",
    "station_clean.info()"
   ]
  },
  {
   "cell_type": "code",
   "execution_count": null,
   "metadata": {
    "collapsed": true
   },
   "outputs": [],
   "source": []
  },
  {
   "cell_type": "markdown",
   "metadata": {},
   "source": [
    "## Append Route Distance column to Trips Data"
   ]
  },
  {
   "cell_type": "code",
   "execution_count": null,
   "metadata": {
    "collapsed": true
   },
   "outputs": [],
   "source": [
    "def route_distance(row):\n",
    "    \n",
    "    # round trips are defaulting to zero km\n",
    "    if row['start_terminal'] == row['end_terminal']:\n",
    "        dist = 0.0\n",
    "        return dist\n",
    "    \n",
    "#     print(row['start_terminal'], ' ', row['end_terminal'], ' ', row['trip_date'])\n",
    "    # lookup start_station id coords\n",
    "    start_gps = station_clean.loc[row['start_terminal']]['lat_long']\n",
    "\n",
    "    # lookup end_station id coords\n",
    "    end_gps = station_clean.loc[row['end_terminal']]['lat_long']\n",
    "\n",
    "    \n",
    "    '''\n",
    "        this is sloppy, but some stations moved over time, we are just going to take the most recent \n",
    "        location coordinates, this is not an exact measurment by roadways, and we dont know the routes \n",
    "        that riders took anyway...\n",
    "    '''\n",
    "    \n",
    "\n",
    "    \n",
    "    if isinstance(start_gps, pd.core.series.Series):\n",
    "        start_gps = start_gps.iloc[-1]\n",
    "    if isinstance(end_gps, pd.core.series.Series):\n",
    "        end_gps = end_gps.iloc[-1]\n",
    "\n",
    "    try:\n",
    "        dist = str(vincenty(start_gps, end_gps))\n",
    "        dist = float(dist.split(' ')[0])\n",
    "    except:\n",
    "        dist = 'NaN'\n",
    "            \n",
    "    return dist\n",
    "    "
   ]
  },
  {
   "cell_type": "code",
   "execution_count": null,
   "metadata": {
    "scrolled": false
   },
   "outputs": [],
   "source": [
    "trips['distance_km'] = trips.apply(lambda row: route_distance (row),axis=1)\n",
    "trips.head(3)"
   ]
  },
  {
   "cell_type": "code",
   "execution_count": null,
   "metadata": {
    "collapsed": true
   },
   "outputs": [],
   "source": []
  },
  {
   "cell_type": "code",
   "execution_count": null,
   "metadata": {
    "collapsed": true
   },
   "outputs": [],
   "source": []
  },
  {
   "cell_type": "code",
   "execution_count": null,
   "metadata": {},
   "outputs": [],
   "source": [
    "# histogram of ride distances\n",
    "\n",
    "# plt.subplots(figsize=(12,6))\n",
    "print(len(trips))\n",
    "\n",
    "one_way_trips = trips[trips['distance_km'] > 0.0]\n",
    "one_way_trips = one_way_trips[one_way_trips['duration_minutes'] <= 60.0]\n",
    "\n",
    "\n",
    "print(len(one_way_trips))"
   ]
  },
  {
   "cell_type": "code",
   "execution_count": null,
   "metadata": {},
   "outputs": [],
   "source": [
    "print('one_way_trips[\\'distance_km\\'].mean()\\t', one_way_trips['distance_km'].mean())\n",
    "print('one_way_trips[\\'distance_km\\'].median()\\t', one_way_trips['distance_km'].median())\n",
    "print('one_way_trips[\\'distance_km\\'].min()\\t', one_way_trips['distance_km'].min())\n",
    "print('one_way_trips[\\'distance_km\\'].max()\\t', one_way_trips['distance_km'].max())"
   ]
  },
  {
   "cell_type": "code",
   "execution_count": null,
   "metadata": {},
   "outputs": [],
   "source": [
    "plt.subplots(figsize=(12,6))\n",
    "one_way_trips['distance_km'].plot(kind='hist', bins=60)\n",
    "plt.show()"
   ]
  },
  {
   "cell_type": "code",
   "execution_count": null,
   "metadata": {},
   "outputs": [],
   "source": [
    "# trip_copy_select = trip_copy.head(100000)\n",
    "plt.subplots(figsize=(15,10))\n",
    "sns.boxplot(x='start_hour', y='distance_km', data=trips);\n",
    "plt.show()"
   ]
  },
  {
   "cell_type": "code",
   "execution_count": null,
   "metadata": {
    "collapsed": true
   },
   "outputs": [],
   "source": [
    "# trips_select_c = trips[trips['subscriber_type'] == 'Customer'].head(20000)\n",
    "# sns.jointplot('start_terminal', 'distance_km', data=trips_select_c, kind='reg')\n",
    "# plt.show()\n",
    "\n",
    "# trips_select_s = trips[trips['subscriber_type'] == 'Subscriber'].head(20000)\n",
    "# sns.jointplot('start_terminal', 'distance_km', data=trips_select_s, kind='reg')\n",
    "# plt.show()"
   ]
  },
  {
   "cell_type": "code",
   "execution_count": null,
   "metadata": {},
   "outputs": [],
   "source": [
    "print('Customers:\\t ', len(one_way_trips[one_way_trips['subscriber_type'] == 'Customer']))\n",
    "print('Subscribers:\\t', len(one_way_trips[one_way_trips['subscriber_type'] != 'Customer']))"
   ]
  },
  {
   "cell_type": "code",
   "execution_count": null,
   "metadata": {
    "collapsed": true
   },
   "outputs": [],
   "source": [
    "# sns.jointplot('duration_minutes', 'distance_km', data=one_way_trips[one_way_trips['subscriber_type'] == 'Customer'], kind='reg')\n",
    "# plt.legend()\n",
    "# plt.show()"
   ]
  },
  {
   "cell_type": "code",
   "execution_count": null,
   "metadata": {
    "collapsed": true
   },
   "outputs": [],
   "source": [
    "# sns.jointplot('duration_minutes', 'distance_km', data=one_way_trips[one_way_trips['subscriber_type'] == 'Subscriber'], kind='reg')\n",
    "# plt.legend()\n",
    "# plt.show()"
   ]
  },
  {
   "cell_type": "code",
   "execution_count": null,
   "metadata": {},
   "outputs": [],
   "source": [
    "with sns.axes_style(\"white\"):\n",
    "    sns.jointplot(x=one_way_trips['duration_minutes'], y=one_way_trips['distance_km'], kind=\"hex\", color=\"k\");"
   ]
  },
  {
   "cell_type": "markdown",
   "metadata": {},
   "source": [
    "# Analysis"
   ]
  },
  {
   "cell_type": "markdown",
   "metadata": {
    "collapsed": true
   },
   "source": [
    "## 1. Does Rain have an Impact on trip duration for Customers, or Subscribers?"
   ]
  },
  {
   "cell_type": "code",
   "execution_count": null,
   "metadata": {
    "collapsed": true
   },
   "outputs": [],
   "source": [
    "# trips.info()"
   ]
  },
  {
   "cell_type": "code",
   "execution_count": null,
   "metadata": {
    "collapsed": true
   },
   "outputs": [],
   "source": []
  },
  {
   "cell_type": "code",
   "execution_count": null,
   "metadata": {
    "collapsed": true
   },
   "outputs": [],
   "source": [
    "# split up rainy days and dry days\n",
    "rainy_days = weather_clean[weather_clean['precipitation_in'] > 0.0].reset_index()\n",
    "dry_days = weather_clean[weather_clean['precipitation_in'] == 0.0].reset_index()\n",
    "\n",
    "# All trips\n",
    "rainy_trips = trips[trips['start_date'].dt.date.isin(rainy_days['date'].dt.date)]\n",
    "dry_trips = trips[trips['start_date'].dt.date.isin(dry_days['date'].dt.date)]\n",
    "\n",
    "# Customer Trips\n",
    "customer_rainy_trips = rainy_trips[rainy_trips.subscriber_type == 'Customer']\n",
    "customer_dry_trips = dry_trips[dry_trips.subscriber_type == 'Customer']\n",
    "\n",
    "# Subscriber Trips\n",
    "subscriber_rainy_trips = rainy_trips[rainy_trips.subscriber_type == 'Subscriber']\n",
    "subscriber_dry_trips = dry_trips[dry_trips.subscriber_type == 'Subscriber']"
   ]
  },
  {
   "cell_type": "markdown",
   "metadata": {},
   "source": [
    "> A <b>Two Sample T Test</b> is appropriate for this problem as we are trying to see a difference between two sample means\n",
    "- Mean ride duration on rainy days vs mean ride duration on dry days\n",
    ">\n",
    ">\n",
    "> ##### All Trips\n",
    "- $H$o : Mean Trip Duration on Rainy Days = Mean Trip Duration on Dry Days\n",
    "- $H$a : Mean Trip Duration on Rainy Days ≠ Mean Trip Duration on Dry Days\n",
    ">\n",
    "> ##### Customer Trips\n",
    "- $HC$o : Customer Mean Trip Duration on Rainy Days = Customer Mean Trip Duration on Dry Days\n",
    "- $HC$a : Customer Mean Trip Duration on Rainy Days ≠ Customer Mean Trip Duration on Dry Days\n",
    ">\n",
    "> ##### Subscriber Trips\n",
    "- $HS$o : Subscriber Mean Trip Duration on Rainy Days = Subscriber Mean Trip Duration on Dry Days\n",
    "- $HS$a : Subscriber Mean Trip Duration on Rainy Days ≠ Subscriber Mean Trip Duration on Dry Days"
   ]
  },
  {
   "cell_type": "markdown",
   "metadata": {},
   "source": [
    "### Results:"
   ]
  },
  {
   "cell_type": "markdown",
   "metadata": {},
   "source": [
    "> ##### All Trips - Mean trip durations on rainy days are not equal to mean trip durations on dry days\n",
    "- T Statistic <b>-21.3507</b> \n",
    "- P Value <b>4.1139e-101</b> which is well below the 0.05 threshhold thus we <b> reject</b> the $H$o\n",
    "\n",
    "> ##### Customer Trips - Mean trip durations on rainy days are equal mean trip durations on dry days\n",
    "- T Statistic <b>-0.7404</b> \n",
    "- P Value <b>0.4591</b> which is above the 0.05 threshhold thus we <b>can not reject</b> the $HC$o\n",
    "\n",
    "> ##### Subscriber Trips - Mean trip durations on rainy days are not equal to mean trip durations on dry days\n",
    "- T Statistic <b>-11.5109</b> \n",
    "- P Value <b>1.1706e-30</b> which is well below the 0.05 threshhold thus we <b>reject</b> the $HS$o"
   ]
  },
  {
   "cell_type": "code",
   "execution_count": null,
   "metadata": {
    "collapsed": true
   },
   "outputs": [],
   "source": [
    "# All Trips\n",
    "rainy_data = rainy_trips.duration_minutes\n",
    "dry_data = dry_trips.duration_minutes\n",
    "\n",
    "# Customer Trips Only\n",
    "customer_rainy_data = customer_rainy_trips.duration_minutes\n",
    "customer_dry_data = customer_dry_trips.duration_minutes\n",
    "\n",
    "# Subscriber Trips Only\n",
    "subscriber_rainy_data = subscriber_rainy_trips.duration_minutes\n",
    "subscriber_dry_data = subscriber_dry_trips.duration_minutes"
   ]
  },
  {
   "cell_type": "code",
   "execution_count": null,
   "metadata": {
    "collapsed": true
   },
   "outputs": [],
   "source": [
    "def calculate_stats(data1, data2):\n",
    "\n",
    "    # means\n",
    "    data1_mean = data1.mean()\n",
    "    data2_mean = data2.mean()\n",
    "    diff_mean = data1_mean - data2_mean\n",
    "    print('Diff of means:\\t\\t', diff_mean)\n",
    "\n",
    "    # calculate t statistic and p value with scipy\n",
    "    t, p = stats.ttest_ind(data1, data2)\n",
    "    print('T Test')\n",
    "    print('\\tt statistic:\\t\\t', t)\n",
    "    print('\\tp value:\\t\\t', p)\n",
    "    print('')\n",
    "    u, p2 = stats.mannwhitneyu(data1, data2)\n",
    "    print('MannWhitneyU Test')\n",
    "    print('\\tu statistic:\\t\\t', u)\n",
    "    print('\\tp value:\\t\\t', p2)"
   ]
  },
  {
   "cell_type": "code",
   "execution_count": null,
   "metadata": {},
   "outputs": [],
   "source": [
    "print('All Trips')\n",
    "calculate_stats(rainy_data, dry_data)\n",
    "print()\n",
    "print('-' * 40)\n",
    "print('Customer Trips')\n",
    "calculate_stats(customer_rainy_data, customer_dry_data)\n",
    "print()\n",
    "print('-' * 40)\n",
    "print('Subscriber Trips')\n",
    "calculate_stats(subscriber_rainy_data, subscriber_dry_data)"
   ]
  },
  {
   "cell_type": "code",
   "execution_count": null,
   "metadata": {
    "collapsed": true
   },
   "outputs": [],
   "source": []
  },
  {
   "cell_type": "code",
   "execution_count": null,
   "metadata": {
    "collapsed": true
   },
   "outputs": [],
   "source": []
  },
  {
   "cell_type": "code",
   "execution_count": null,
   "metadata": {
    "collapsed": true
   },
   "outputs": [],
   "source": []
  },
  {
   "cell_type": "code",
   "execution_count": null,
   "metadata": {
    "collapsed": true
   },
   "outputs": [],
   "source": [
    "# plt.subplots(figsize=(12,6))\n",
    "# sns.swarmplot(x=\"trip_dow\", y=\"start_hour\", hue=\"start_hour\", data=customer_rainy_trips);"
   ]
  },
  {
   "cell_type": "code",
   "execution_count": null,
   "metadata": {},
   "outputs": [],
   "source": [
    "customer_rainy_trips.info()"
   ]
  },
  {
   "cell_type": "code",
   "execution_count": null,
   "metadata": {},
   "outputs": [],
   "source": [
    "sns.jointplot('start_terminal', 'end_terminal', data=customer_rainy_trips, kind='reg')\n",
    "plt.show()"
   ]
  },
  {
   "cell_type": "code",
   "execution_count": null,
   "metadata": {
    "collapsed": true
   },
   "outputs": [],
   "source": [
    "# sns.jointplot('start_terminal', 'end_terminal', data=customer_rainy_trips[customer_rainy_trips['start_terminal'] == customer_rainy_trips['end_terminal']], kind='reg')\n",
    "# plt.show()\n",
    "\n",
    "# sns.jointplot('start_terminal', 'end_terminal', data=customer_rainy_trips[customer_rainy_trips['start_terminal'] != customer_rainy_trips['end_terminal']], kind='reg')\n",
    "# plt.show()"
   ]
  },
  {
   "cell_type": "code",
   "execution_count": null,
   "metadata": {
    "collapsed": true
   },
   "outputs": [],
   "source": [
    "# sns.jointplot('end_terminal', 'end_hour', data=customer_rainy_trips, kind='reg')\n",
    "# plt.show()"
   ]
  },
  {
   "cell_type": "code",
   "execution_count": null,
   "metadata": {
    "collapsed": true
   },
   "outputs": [],
   "source": [
    "\n",
    "\n"
   ]
  },
  {
   "cell_type": "code",
   "execution_count": null,
   "metadata": {
    "collapsed": true
   },
   "outputs": [],
   "source": []
  },
  {
   "cell_type": "markdown",
   "metadata": {
    "collapsed": true
   },
   "source": [
    "## 2. Does Rain have an Impact on trip distance for Customers, or Subscribers?"
   ]
  },
  {
   "cell_type": "markdown",
   "metadata": {},
   "source": [
    "> A <b>Two Sample T Test</b> is appropriate for this problem as we are trying to see a difference between two sample means\n",
    "- Mean ride duration on rainy days vs mean ride duration on dry days\n",
    ">\n",
    ">\n",
    "> ##### All Trips\n",
    "- $H$o : Mean Trip Distance on Rainy Days = Mean Trip Distance on Dry Days\n",
    "- $H$a : Mean Trip Distance on Rainy Days ≠ Mean Trip Distance on Dry Days\n",
    ">\n",
    "> ##### Customer Trips\n",
    "- $HC$o : Customer Mean Trip Distance on Rainy Days = Customer Mean Trip Distance on Dry Days\n",
    "- $HC$a : Customer Mean Trip Distance on Rainy Days ≠ Customer Mean Trip Distance on Dry Days\n",
    ">\n",
    "> ##### Subscriber Trips\n",
    "- $HS$o : Subscriber Mean Trip Distance on Rainy Days = Subscriber Mean Trip Distance on Dry Days\n",
    "- $HS$a : Subscriber Mean Trip Distance on Rainy Days ≠ Subscriber Mean Trip Distance on Dry Days"
   ]
  },
  {
   "cell_type": "markdown",
   "metadata": {},
   "source": [
    "### Results:"
   ]
  },
  {
   "cell_type": "markdown",
   "metadata": {},
   "source": [
    "> ##### All Trips - Mean trip durations on rainy days are not equal to mean trip durations on dry days\n",
    "- T Statistic <b>-6.2193</b> \n",
    "- P Value <b>4.9967e-10</b> which is well below the 0.05 threshhold thus we <b> reject</b> the $H$o\n",
    "\n",
    "> ##### Customer Trips - Mean trip durations on rainy days are equal mean trip durations on dry days\n",
    "- T Statistic <b>0.08450</b> \n",
    "- P Value <b>0.9327</b> which is above the 0.05 threshhold thus we <b>can not reject</b> the $HC$o\n",
    "\n",
    "> ##### Subscriber Trips - Mean trip durations on rainy days are not equal to mean trip durations on dry days\n",
    "- T Statistic <b>-7.1311</b> \n",
    "- P Value <b>9.9694e-13</b> which is well below the 0.05 threshhold thus we <b>reject</b> the $HS$o\n"
   ]
  },
  {
   "cell_type": "code",
   "execution_count": null,
   "metadata": {
    "collapsed": true
   },
   "outputs": [],
   "source": []
  },
  {
   "cell_type": "code",
   "execution_count": null,
   "metadata": {
    "collapsed": true
   },
   "outputs": [],
   "source": [
    "# All Trips\n",
    "rainy_data = rainy_trips.distance_km\n",
    "dry_data = dry_trips.distance_km\n",
    "\n",
    "# Customer Trips Only\n",
    "customer_rainy_data = customer_rainy_trips.distance_km\n",
    "customer_dry_data = customer_dry_trips.distance_km\n",
    "\n",
    "# Subscriber Trips Only\n",
    "subscriber_rainy_data = subscriber_rainy_trips.distance_km\n",
    "subscriber_dry_data = subscriber_dry_trips.distance_km"
   ]
  },
  {
   "cell_type": "code",
   "execution_count": null,
   "metadata": {},
   "outputs": [],
   "source": [
    "# All Trips\n",
    "print('rainy_data:\\t\\t ', len(rainy_data))\n",
    "print('dry_data:\\t\\t', len(dry_data))\n",
    "\n",
    "# Customer Trips Only\n",
    "print('customer_rainy_data:\\t  ', len(customer_rainy_data))\n",
    "print('customer_dry_data:\\t', len(customer_dry_data))\n",
    "\n",
    "# Subscriber Trips Only\n",
    "print('subscriber_rainy_data:\\t ', len(subscriber_rainy_data))\n",
    "print('subscriber_dry_data:\\t', len(subscriber_dry_data))"
   ]
  },
  {
   "cell_type": "code",
   "execution_count": null,
   "metadata": {},
   "outputs": [],
   "source": [
    "print('All Trips')\n",
    "calculate_stats(rainy_data, dry_data)\n",
    "print()\n",
    "print('-' * 40)\n",
    "print('Customer Trips')\n",
    "calculate_stats(customer_rainy_data, customer_dry_data)\n",
    "print()\n",
    "print('-' * 40)\n",
    "print('Subscriber Trips')\n",
    "calculate_stats(subscriber_rainy_data, subscriber_dry_data)"
   ]
  },
  {
   "cell_type": "code",
   "execution_count": null,
   "metadata": {
    "collapsed": true
   },
   "outputs": [],
   "source": []
  },
  {
   "cell_type": "code",
   "execution_count": null,
   "metadata": {
    "collapsed": true
   },
   "outputs": [],
   "source": []
  },
  {
   "cell_type": "code",
   "execution_count": null,
   "metadata": {
    "collapsed": true
   },
   "outputs": [],
   "source": []
  },
  {
   "cell_type": "code",
   "execution_count": null,
   "metadata": {
    "collapsed": true
   },
   "outputs": [],
   "source": []
  },
  {
   "cell_type": "code",
   "execution_count": null,
   "metadata": {
    "collapsed": true
   },
   "outputs": [],
   "source": []
  },
  {
   "cell_type": "code",
   "execution_count": null,
   "metadata": {
    "collapsed": true
   },
   "outputs": [],
   "source": []
  },
  {
   "cell_type": "code",
   "execution_count": null,
   "metadata": {
    "collapsed": true
   },
   "outputs": [],
   "source": []
  },
  {
   "cell_type": "markdown",
   "metadata": {},
   "source": [
    "## Weekend vs weekday subscribers"
   ]
  },
  {
   "cell_type": "code",
   "execution_count": null,
   "metadata": {},
   "outputs": [],
   "source": [
    "trips.info()"
   ]
  },
  {
   "cell_type": "code",
   "execution_count": null,
   "metadata": {},
   "outputs": [],
   "source": [
    "trips.describe()"
   ]
  },
  {
   "cell_type": "code",
   "execution_count": null,
   "metadata": {},
   "outputs": [],
   "source": [
    "trips.head()"
   ]
  },
  {
   "cell_type": "code",
   "execution_count": null,
   "metadata": {
    "collapsed": true
   },
   "outputs": [],
   "source": [
    "weekday_trips = trips[trips['start_date'].dt.weekday < 5]\n",
    "weekend_trips = trips[trips['start_date'].dt.weekday >= 5]"
   ]
  },
  {
   "cell_type": "code",
   "execution_count": null,
   "metadata": {
    "collapsed": true
   },
   "outputs": [],
   "source": []
  },
  {
   "cell_type": "code",
   "execution_count": null,
   "metadata": {},
   "outputs": [],
   "source": [
    "# number of trips by weekday/weekend and subscriber type\n",
    "weekday_customer_trips   = weekday_trips[weekday_trips.subscriber_type == 'Customer']\n",
    "weekend_customer_trips   = weekend_trips[weekend_trips.subscriber_type == 'Customer']\n",
    "weekday_subscriber_trips = weekday_trips[weekday_trips.subscriber_type != 'Customer']\n",
    "weekend_subscriber_trips = weekend_trips[weekend_trips.subscriber_type != 'Customer']\n",
    "\n",
    "# number of days with customer weekend trips\n",
    "weekday_customer_trip_days =   len(pd.unique(weekday_customer_trips.trip_date))\n",
    "weekend_customer_trip_days =   len(pd.unique(weekend_customer_trips.trip_date))\n",
    "weekday_subscriber_trip_days = len(pd.unique(weekday_subscriber_trips.trip_date))\n",
    "weekend_subscriber_trip_days = len(pd.unique(weekend_subscriber_trips.trip_date))\n",
    "\n",
    "# trips per day for each group\n",
    "weekday_customer_tpd   = len(weekday_customer_trips)   / weekday_customer_trip_days\n",
    "weekend_customer_tpd   = len(weekend_customer_trips)   / weekend_customer_trip_days\n",
    "weekday_subscriber_tpd = len(weekday_subscriber_trips) / weekday_subscriber_trip_days\n",
    "weekend_subscriber_tpd = len(weekend_subscriber_trips) / weekend_subscriber_trip_days\n",
    "\n",
    "customer_ratio   = weekday_customer_tpd / weekend_customer_tpd * 100.\n",
    "subscriber_ratio = weekday_subscriber_tpd / weekend_subscriber_tpd  * 100.\n",
    "\n",
    "\n",
    "\n",
    "print('-' * 80)\n",
    "print('weekday_customer_trip_days:\\t\\t   ', weekday_customer_trip_days)\n",
    "print('weekend_customer_trip_days:\\t\\t   ', weekend_customer_trip_days)\n",
    "print('weekday_subscriber_trip_days:\\t\\t   ', weekday_subscriber_trip_days)\n",
    "print('weekend_subscriber_trip_days:\\t\\t   ', weekend_subscriber_trip_days)\n",
    "print('-' * 80)\n",
    "print('Number of Weekday Customer Trips):\\t ', len(weekday_customer_trips))\n",
    "print('Number of Weekend Customer Trips):\\t ', len(weekend_customer_trips))\n",
    "print('Number of Weekday Subscriber Trips):\\t', len(weekday_subscriber_trips))\n",
    "print('Number of Weekend Subscriber Trips):\\t ', len(weekend_subscriber_trips))\n",
    "print('-' * 80)\n",
    "print('weekday_customer Trips Per Day:\\t\\t    ', weekday_customer_tpd)\n",
    "print('weekend_customer Trips Per Day:\\t\\t   ', weekend_customer_tpd)\n",
    "print('weekday_subscriber Trips Per Day:\\t   ', weekday_subscriber_tpd)\n",
    "print('weekend_subscriber Trips Per Day:\\t   ', weekend_subscriber_tpd)\n",
    "print('-' * 80)\n",
    "print('Customer Weekday/Weekend Ratio:\\t\\t   ', customer_ratio)\n",
    "print('Subscriber Weekday/Weekend Ratio:\\t  ', subscriber_ratio)\n",
    "print('-' * 80)"
   ]
  },
  {
   "cell_type": "code",
   "execution_count": null,
   "metadata": {
    "collapsed": true
   },
   "outputs": [],
   "source": []
  },
  {
   "cell_type": "code",
   "execution_count": null,
   "metadata": {
    "collapsed": true
   },
   "outputs": [],
   "source": []
  },
  {
   "cell_type": "code",
   "execution_count": null,
   "metadata": {
    "collapsed": true
   },
   "outputs": [],
   "source": []
  },
  {
   "cell_type": "code",
   "execution_count": null,
   "metadata": {
    "collapsed": true
   },
   "outputs": [],
   "source": []
  },
  {
   "cell_type": "code",
   "execution_count": null,
   "metadata": {
    "collapsed": true
   },
   "outputs": [],
   "source": []
  },
  {
   "cell_type": "code",
   "execution_count": null,
   "metadata": {
    "collapsed": true
   },
   "outputs": [],
   "source": []
  },
  {
   "cell_type": "code",
   "execution_count": null,
   "metadata": {
    "collapsed": true
   },
   "outputs": [],
   "source": []
  },
  {
   "cell_type": "code",
   "execution_count": null,
   "metadata": {
    "collapsed": true
   },
   "outputs": [],
   "source": [
    "weekday_customer_trips   = weekday_trips[weekday_trips.subscriber_type == 'Customer']\n",
    "weekend_customer_trips   = weekend_trips[weekend_trips.subscriber_type == 'Customer']\n",
    "weekday_subscriber_trips = weekday_trips[weekday_trips.subscriber_type != 'Customer']\n",
    "weekend_subscriber_trips = weekend_trips[weekend_trips.subscriber_type != 'Customer']\n",
    "\n"
   ]
  },
  {
   "cell_type": "code",
   "execution_count": null,
   "metadata": {
    "collapsed": true
   },
   "outputs": [],
   "source": [
    "# duration data\n",
    "day_cust_dur  = weekday_customer_trips.duration_minutes\n",
    "end_cust_dur  = weekend_customer_trips.duration_minutes\n",
    "day_sub_dur  = weekday_subscriber_trips.duration_minutes\n",
    "end_sub_dur  = weekend_subscriber_trips.duration_minutes\n",
    "\n",
    "# distance data\n",
    "day_cust_dist = weekday_customer_trips.distance_km\n",
    "end_cust_dist = weekend_customer_trips.distance_km\n",
    "day_sub_dist = weekday_subscriber_trips.distance_km\n",
    "end_sub_dist = weekend_subscriber_trips.distance_km\n"
   ]
  },
  {
   "cell_type": "code",
   "execution_count": null,
   "metadata": {},
   "outputs": [],
   "source": [
    "\n",
    "print('-' * 40)\n",
    "print('Customer Trip Duration')\n",
    "calculate_stats(day_cust_dur, end_cust_dur)\n",
    "print()\n",
    "print('-' * 40)\n",
    "print('Subscriber Trip Duration')\n",
    "calculate_stats(day_sub_dur, end_sub_dur)\n",
    "print()\n",
    "print('-' * 40)"
   ]
  },
  {
   "cell_type": "code",
   "execution_count": null,
   "metadata": {},
   "outputs": [],
   "source": [
    "print('-' * 40)\n",
    "print('Customer Trip Distance')\n",
    "calculate_stats(day_cust_dist, end_cust_dist)\n",
    "print()\n",
    "print('-' * 40)\n",
    "print('Subscriber Trip Distance')\n",
    "calculate_stats(day_sub_dist, end_sub_dist)\n",
    "print()\n",
    "print('-' * 40)"
   ]
  },
  {
   "cell_type": "code",
   "execution_count": null,
   "metadata": {
    "collapsed": true
   },
   "outputs": [],
   "source": []
  },
  {
   "cell_type": "code",
   "execution_count": null,
   "metadata": {
    "collapsed": true
   },
   "outputs": [],
   "source": []
  },
  {
   "cell_type": "code",
   "execution_count": null,
   "metadata": {
    "collapsed": true
   },
   "outputs": [],
   "source": []
  },
  {
   "cell_type": "code",
   "execution_count": null,
   "metadata": {
    "collapsed": true
   },
   "outputs": [],
   "source": []
  },
  {
   "cell_type": "code",
   "execution_count": null,
   "metadata": {
    "collapsed": true
   },
   "outputs": [],
   "source": []
  },
  {
   "cell_type": "code",
   "execution_count": null,
   "metadata": {
    "collapsed": true
   },
   "outputs": [],
   "source": []
  },
  {
   "cell_type": "code",
   "execution_count": null,
   "metadata": {
    "collapsed": true
   },
   "outputs": [],
   "source": []
  },
  {
   "cell_type": "code",
   "execution_count": null,
   "metadata": {
    "collapsed": true
   },
   "outputs": [],
   "source": []
  },
  {
   "cell_type": "code",
   "execution_count": null,
   "metadata": {
    "collapsed": true
   },
   "outputs": [],
   "source": []
  },
  {
   "cell_type": "code",
   "execution_count": null,
   "metadata": {
    "collapsed": true
   },
   "outputs": [],
   "source": [
    "customer_trips = trips[trips.subscriber_type == 'Customer']\n",
    "subscriber_trips = trips[trips.subscriber_type == 'Subscriber']"
   ]
  },
  {
   "cell_type": "code",
   "execution_count": null,
   "metadata": {
    "collapsed": true
   },
   "outputs": [],
   "source": []
  },
  {
   "cell_type": "code",
   "execution_count": null,
   "metadata": {},
   "outputs": [],
   "source": [
    "_trips= stats.normaltest(trips.start_hour.sort_values())\n",
    "print('_trips:\\t\\t', _trips)\n",
    "_customer= stats.normaltest(customer_trips.start_hour.sort_values())\n",
    "print('_customer:\\t', _customer)\n",
    "_subscriber= stats.normaltest(subscriber_trips.start_hour.sort_values())\n",
    "print('_subscriber:\\t', _subscriber)"
   ]
  },
  {
   "cell_type": "code",
   "execution_count": null,
   "metadata": {},
   "outputs": [],
   "source": [
    "# calculate_stats(rainy_data, dry_data)\n",
    "stats.mannwhitneyu(rainy_data, dry_data)"
   ]
  },
  {
   "cell_type": "code",
   "execution_count": null,
   "metadata": {},
   "outputs": [],
   "source": [
    "stats.mannwhitneyu(dry_data, rainy_data)"
   ]
  },
  {
   "cell_type": "code",
   "execution_count": null,
   "metadata": {},
   "outputs": [],
   "source": [
    "stats.mannwhitneyu(customer_rainy_data, customer_dry_data)"
   ]
  },
  {
   "cell_type": "code",
   "execution_count": null,
   "metadata": {},
   "outputs": [],
   "source": [
    "stats.mannwhitneyu(subscriber_rainy_data, subscriber_dry_data)"
   ]
  },
  {
   "cell_type": "code",
   "execution_count": null,
   "metadata": {
    "collapsed": true
   },
   "outputs": [],
   "source": []
  },
  {
   "cell_type": "code",
   "execution_count": null,
   "metadata": {
    "collapsed": true
   },
   "outputs": [],
   "source": [
    "am_trips = trips[trips.start_hour < 12]\n",
    "pm_trips = trips[trips.start_hour >= 12]"
   ]
  },
  {
   "cell_type": "code",
   "execution_count": null,
   "metadata": {
    "collapsed": true
   },
   "outputs": [],
   "source": []
  },
  {
   "cell_type": "code",
   "execution_count": null,
   "metadata": {
    "collapsed": true
   },
   "outputs": [],
   "source": []
  },
  {
   "cell_type": "code",
   "execution_count": null,
   "metadata": {
    "collapsed": true
   },
   "outputs": [],
   "source": []
  },
  {
   "cell_type": "code",
   "execution_count": null,
   "metadata": {
    "collapsed": true
   },
   "outputs": [],
   "source": []
  },
  {
   "cell_type": "code",
   "execution_count": null,
   "metadata": {
    "collapsed": true
   },
   "outputs": [],
   "source": []
  },
  {
   "cell_type": "code",
   "execution_count": null,
   "metadata": {
    "collapsed": true
   },
   "outputs": [],
   "source": []
  },
  {
   "cell_type": "code",
   "execution_count": null,
   "metadata": {
    "collapsed": true
   },
   "outputs": [],
   "source": []
  },
  {
   "cell_type": "code",
   "execution_count": null,
   "metadata": {
    "collapsed": true
   },
   "outputs": [],
   "source": []
  },
  {
   "cell_type": "code",
   "execution_count": null,
   "metadata": {},
   "outputs": [],
   "source": [
    "am_start_terminal_trips = am_trips.groupby('start_terminal').duration.count()\n",
    "pm_start_terminal_trips = pm_trips.groupby('start_terminal').duration.count()\n",
    "calculate_stats(am_start_terminal_trips, pm_start_terminal_trips)"
   ]
  },
  {
   "cell_type": "code",
   "execution_count": null,
   "metadata": {},
   "outputs": [],
   "source": [
    "am_end_terminal_trips = am_trips.groupby('end_terminal').duration.count()\n",
    "pm_end_terminal_trips = pm_trips.groupby('end_terminal').duration.count()\n",
    "calculate_stats(am_end_terminal_trips, pm_end_terminal_trips)"
   ]
  },
  {
   "cell_type": "code",
   "execution_count": null,
   "metadata": {},
   "outputs": [],
   "source": [
    "plt.subplot(2,2,1)\n",
    "am_start_terminal_trips.plot(kind='bar', figsize=(12,6))\n",
    "\n",
    "plt.subplot(2,2,2)\n",
    "pm_start_terminal_trips.plot(kind='bar')\n",
    "\n",
    "plt.subplot(2,2,3)\n",
    "am_end_terminal_trips.plot(kind='bar')\n",
    "\n",
    "plt.subplot(2,2,4)\n",
    "pm_end_terminal_trips.plot(kind='bar')\n",
    "\n",
    "\n",
    "plt.tight_layout()\n",
    "plt.show()"
   ]
  },
  {
   "cell_type": "code",
   "execution_count": null,
   "metadata": {},
   "outputs": [],
   "source": [
    "\n",
    "customer_am_start_terminal_trips = am_trips[am_trips.subscriber_type == 'Customer'].groupby('start_terminal').duration.count()\n",
    "customer_am_end_terminal_trips = am_trips[am_trips.subscriber_type == 'Customer'].groupby('end_terminal').duration.count()\n",
    "\n",
    "customer_pm_start_terminal_trips = pm_trips[pm_trips.subscriber_type == 'Customer'].groupby('start_terminal').duration.count()\n",
    "customer_pm_end_terminal_trips = pm_trips[pm_trips.subscriber_type == 'Customer'].groupby('end_terminal').duration.count()\n",
    "\n",
    "plt.subplot(4,1,1)\n",
    "customer_am_start_terminal_trips.plot(kind='bar', figsize=(12,6))\n",
    "\n",
    "plt.subplot(4,1,2)\n",
    "customer_pm_start_terminal_trips.plot(kind='bar')\n",
    "\n",
    "plt.subplot(4,1,3)\n",
    "customer_am_end_terminal_trips.plot(kind='bar')\n",
    "\n",
    "plt.subplot(4,1,4)\n",
    "customer_pm_end_terminal_trips.plot(kind='bar')\n",
    "\n",
    "\n",
    "plt.tight_layout()\n",
    "plt.show()"
   ]
  },
  {
   "cell_type": "code",
   "execution_count": null,
   "metadata": {},
   "outputs": [],
   "source": [
    "subscriber_am_start_terminal_trips = am_trips[am_trips.subscriber_type == 'Subscriber'].groupby('start_terminal').duration.count()\n",
    "subscriber_am_end_terminal_trips = am_trips[am_trips.subscriber_type == 'Subscriber'].groupby('end_terminal').duration.count()\n",
    "\n",
    "subscriber_pm_start_terminal_trips = pm_trips[pm_trips.subscriber_type == 'Subscriber'].groupby('start_terminal').duration.count()\n",
    "subscriber_pm_end_terminal_trips = pm_trips[pm_trips.subscriber_type == 'Subscriber'].groupby('end_terminal').duration.count()\n",
    "\n",
    "\n",
    "ax = subscriber_am_start_terminal_trips.plot(kind='line', figsize=(12,6))\n",
    "subscriber_pm_start_terminal_trips.plot(kind='line', ax=ax)\n",
    "\n",
    "subscriber_am_end_terminal_trips.plot(kind='line', ax=ax)\n",
    "subscriber_pm_end_terminal_trips.plot(kind='line', ax=ax)\n",
    "\n",
    "plt.tight_layout()\n",
    "plt.show()"
   ]
  },
  {
   "cell_type": "code",
   "execution_count": null,
   "metadata": {
    "collapsed": true
   },
   "outputs": [],
   "source": [
    "subscriber_am_start_terminal_trips = am_trips[am_trips.subscriber_type == 'Subscriber'].groupby('start_terminal').duration.count()\n",
    "subscriber_am_end_terminal_trips = am_trips[am_trips.subscriber_type == 'Subscriber'].groupby('end_terminal').duration.count()\n",
    "\n",
    "subscriber_pm_start_terminal_trips = pm_trips[pm_trips.subscriber_type == 'Subscriber'].groupby('start_terminal').duration.count()\n",
    "subscriber_pm_end_terminal_trips = pm_trips[pm_trips.subscriber_type == 'Subscriber'].groupby('end_terminal').duration.count()\n",
    "\n",
    "station_diff = pd.DataFrame()\n",
    "station_diff['am_start_trips'] = subscriber_am_start_terminal_trips\n",
    "station_diff['am_end_trips'] = subscriber_am_end_terminal_trips\n",
    "station_diff['am_diff'] = subscriber_am_start_terminal_trips - subscriber_am_end_terminal_trips\n",
    "\n",
    "\n",
    "station_diff['pm_start_trips'] = subscriber_pm_start_terminal_trips\n",
    "station_diff['pm_end_trips'] = subscriber_pm_end_terminal_trips\n",
    "station_diff['pm_diff'] = subscriber_pm_start_terminal_trips - subscriber_pm_end_terminal_trips\n",
    "\n",
    "station_diff['removed_overnight'] = station_diff['am_diff'] - station_diff['pm_diff']"
   ]
  },
  {
   "cell_type": "code",
   "execution_count": null,
   "metadata": {},
   "outputs": [],
   "source": [
    "ax = station_diff.am_diff.plot(kind='bar', figsize=(12,6))\n",
    "station_diff.pm_diff.plot(kind='bar', ax=ax, color='r')\n",
    "plt.show()"
   ]
  },
  {
   "cell_type": "code",
   "execution_count": null,
   "metadata": {},
   "outputs": [],
   "source": [
    "station_diff.removed_overnight.plot(kind='bar', figsize=(12,6))\n",
    "plt.show()"
   ]
  },
  {
   "cell_type": "code",
   "execution_count": null,
   "metadata": {},
   "outputs": [],
   "source": [
    "sns.jointplot(x='am_start_trips', y='pm_end_trips', data=station_diff, kind='reg')\n",
    "plt.show()"
   ]
  },
  {
   "cell_type": "code",
   "execution_count": null,
   "metadata": {},
   "outputs": [],
   "source": [
    "sns.jointplot(x='am_end_trips', y='pm_start_trips', data=station_diff, kind='reg')\n",
    "plt.show()"
   ]
  },
  {
   "cell_type": "code",
   "execution_count": null,
   "metadata": {
    "collapsed": true
   },
   "outputs": [],
   "source": []
  },
  {
   "cell_type": "code",
   "execution_count": null,
   "metadata": {
    "collapsed": true
   },
   "outputs": [],
   "source": []
  },
  {
   "cell_type": "code",
   "execution_count": null,
   "metadata": {
    "collapsed": true
   },
   "outputs": [],
   "source": []
  },
  {
   "cell_type": "code",
   "execution_count": null,
   "metadata": {
    "collapsed": true
   },
   "outputs": [],
   "source": [
    "\n"
   ]
  },
  {
   "cell_type": "code",
   "execution_count": null,
   "metadata": {
    "collapsed": true
   },
   "outputs": [],
   "source": [
    "hourly_stations = pd.DataFrame()\n",
    "hourly_stations_diff = pd.DataFrame()\n",
    "\n",
    "for i in range(0, 24):\n",
    "    _trips = trips[trips.start_hour == i]\n",
    "    _start_terminal = _trips.groupby('start_terminal').duration.count()\n",
    "    _end_terminal = _trips.groupby('end_terminal').duration.count()\n",
    "    \n",
    "    start_string = 'hour%s_end' % str(i)\n",
    "    end_string = 'hour%s_start' % str(i)\n",
    "    diff_string = 'hour%s' % str(i)\n",
    "    hourly_stations[end_string] = _end_terminal\n",
    "    hourly_stations[start_string] = _start_terminal\n",
    "    hourly_stations_diff[diff_string] = _start_terminal - _end_terminal\n"
   ]
  },
  {
   "cell_type": "code",
   "execution_count": null,
   "metadata": {},
   "outputs": [],
   "source": [
    "hourly_stations.head(3)"
   ]
  },
  {
   "cell_type": "code",
   "execution_count": null,
   "metadata": {},
   "outputs": [],
   "source": [
    "hourly_stations_diff.info()"
   ]
  },
  {
   "cell_type": "code",
   "execution_count": null,
   "metadata": {},
   "outputs": [],
   "source": [
    "hourly_stations_diff.head(3)"
   ]
  },
  {
   "cell_type": "code",
   "execution_count": null,
   "metadata": {
    "collapsed": true
   },
   "outputs": [],
   "source": []
  },
  {
   "cell_type": "code",
   "execution_count": null,
   "metadata": {
    "collapsed": true
   },
   "outputs": [],
   "source": []
  },
  {
   "cell_type": "code",
   "execution_count": null,
   "metadata": {
    "collapsed": true
   },
   "outputs": [],
   "source": []
  },
  {
   "cell_type": "code",
   "execution_count": null,
   "metadata": {
    "collapsed": true
   },
   "outputs": [],
   "source": []
  },
  {
   "cell_type": "code",
   "execution_count": null,
   "metadata": {
    "collapsed": true
   },
   "outputs": [],
   "source": []
  },
  {
   "cell_type": "code",
   "execution_count": null,
   "metadata": {
    "collapsed": true
   },
   "outputs": [],
   "source": []
  },
  {
   "cell_type": "code",
   "execution_count": null,
   "metadata": {
    "collapsed": true
   },
   "outputs": [],
   "source": []
  },
  {
   "cell_type": "code",
   "execution_count": null,
   "metadata": {
    "collapsed": true
   },
   "outputs": [],
   "source": []
  },
  {
   "cell_type": "code",
   "execution_count": null,
   "metadata": {
    "collapsed": true
   },
   "outputs": [],
   "source": []
  },
  {
   "cell_type": "code",
   "execution_count": null,
   "metadata": {
    "collapsed": true
   },
   "outputs": [],
   "source": []
  },
  {
   "cell_type": "code",
   "execution_count": null,
   "metadata": {
    "collapsed": true
   },
   "outputs": [],
   "source": []
  },
  {
   "cell_type": "code",
   "execution_count": null,
   "metadata": {
    "collapsed": true
   },
   "outputs": [],
   "source": []
  },
  {
   "cell_type": "code",
   "execution_count": null,
   "metadata": {
    "collapsed": true
   },
   "outputs": [],
   "source": []
  },
  {
   "cell_type": "code",
   "execution_count": null,
   "metadata": {
    "collapsed": true
   },
   "outputs": [],
   "source": []
  },
  {
   "cell_type": "code",
   "execution_count": null,
   "metadata": {
    "collapsed": true
   },
   "outputs": [],
   "source": []
  },
  {
   "cell_type": "code",
   "execution_count": null,
   "metadata": {
    "collapsed": true
   },
   "outputs": [],
   "source": []
  },
  {
   "cell_type": "code",
   "execution_count": null,
   "metadata": {
    "collapsed": true
   },
   "outputs": [],
   "source": []
  },
  {
   "cell_type": "code",
   "execution_count": null,
   "metadata": {
    "collapsed": true
   },
   "outputs": [],
   "source": []
  },
  {
   "cell_type": "code",
   "execution_count": null,
   "metadata": {
    "collapsed": true
   },
   "outputs": [],
   "source": []
  }
 ],
 "metadata": {
  "kernelspec": {
   "display_name": "Python 3",
   "language": "python",
   "name": "python3"
  },
  "language_info": {
   "codemirror_mode": {
    "name": "ipython",
    "version": 3
   },
   "file_extension": ".py",
   "mimetype": "text/x-python",
   "name": "python",
   "nbconvert_exporter": "python",
   "pygments_lexer": "ipython3",
   "version": "3.6.3"
  }
 },
 "nbformat": 4,
 "nbformat_minor": 2
}
