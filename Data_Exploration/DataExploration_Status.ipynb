{
 "cells": [
  {
   "cell_type": "markdown",
   "metadata": {},
   "source": [
    "# Data Investigation - Status Data"
   ]
  },
  {
   "cell_type": "markdown",
   "metadata": {},
   "source": [
    "### Import Data"
   ]
  },
  {
   "cell_type": "code",
   "execution_count": 3,
   "metadata": {
    "collapsed": true
   },
   "outputs": [],
   "source": [
    "%matplotlib inline\n",
    "\n",
    "import matplotlib\n",
    "import numpy as np\n",
    "from scipy import stats\n",
    "import math\n",
    "import matplotlib.pyplot as plt\n",
    "import pandas as pd\n",
    "from glob import glob\n",
    "import datetime\n",
    "import math\n",
    "\n",
    "import seaborn as sns\n",
    "sns.set()"
   ]
  },
  {
   "cell_type": "code",
   "execution_count": 4,
   "metadata": {},
   "outputs": [
    {
     "name": "stdout",
     "output_type": "stream",
     "text": [
      "\t[22:24:40.755816] finished chunk 1 of 2345\n",
      "\t[22:24:48.165002] finished chunk 235 of 2345\n",
      "\t[22:24:54.018791] finished chunk 470 of 2345\n",
      "\t[22:25:00.078369] finished chunk 705 of 2345\n",
      "\t[22:25:05.833652] finished chunk 940 of 2345\n",
      "\t[22:25:11.502158] finished chunk 1175 of 2345\n",
      "\t[22:25:17.710693] finished chunk 1410 of 2345\n",
      "\t[22:25:23.177233] finished chunk 1645 of 2345\n",
      "\t[22:25:28.667707] finished chunk 1880 of 2345\n",
      "\t[22:25:34.341166] finished chunk 2115 of 2345\n",
      "\t[22:25:39.858090] finished chunk 2345 of 2345\n",
      "<class 'pandas.core.frame.DataFrame'>\n",
      "DatetimeIndex: 23449611 entries, 2014-01-31 09:30:00 to 2016-08-31 23:45:00\n",
      "Data columns (total 5 columns):\n",
      "station_id         int64\n",
      "bikes_available    float64\n",
      "docks_available    float64\n",
      "dock_count         int64\n",
      "utilization        float64\n",
      "dtypes: float64(3), int64(2)\n",
      "memory usage: 1.0 GB\n"
     ]
    }
   ],
   "source": [
    "file = '../clean_data/status_data_15min_mean_cleaned.csv'\n",
    "\n",
    "chunks = []\n",
    "chunk_counter = 1\n",
    "chunksize = 10000\n",
    "num_chunks = math.ceil(sum(1 for row in open(file, 'r'))/chunksize)\n",
    "\n",
    "# import file in chunks\n",
    "for chunk in pd.read_csv(file, chunksize=chunksize, iterator=True, parse_dates=['time']):\n",
    "\n",
    "    # append chunk to chunks list\n",
    "    chunks.append(chunk)\n",
    "\n",
    "    if chunk_counter == 1 or chunk_counter % math.ceil(num_chunks/10) == 0 or chunk_counter == num_chunks:\n",
    "        print('\\t[%s] finished chunk %s of %s' % (datetime.datetime.now().time(), chunk_counter, num_chunks))\n",
    "    chunk_counter += 1\n",
    "    \n",
    "status_15min = pd.DataFrame()\n",
    "status_15min = pd.concat(chunks)\n",
    "\n",
    "status_15min.set_index('time', inplace=True)\n",
    "status_15min.head()\n",
    "\n",
    "status_15min.info()"
   ]
  },
  {
   "cell_type": "code",
   "execution_count": 6,
   "metadata": {},
   "outputs": [
    {
     "data": {
      "text/html": [
       "<div>\n",
       "<style>\n",
       "    .dataframe thead tr:only-child th {\n",
       "        text-align: right;\n",
       "    }\n",
       "\n",
       "    .dataframe thead th {\n",
       "        text-align: left;\n",
       "    }\n",
       "\n",
       "    .dataframe tbody tr th {\n",
       "        vertical-align: top;\n",
       "    }\n",
       "</style>\n",
       "<table border=\"1\" class=\"dataframe\">\n",
       "  <thead>\n",
       "    <tr style=\"text-align: right;\">\n",
       "      <th></th>\n",
       "      <th>station_id</th>\n",
       "      <th>bikes_available</th>\n",
       "      <th>docks_available</th>\n",
       "      <th>dock_count</th>\n",
       "      <th>utilization</th>\n",
       "    </tr>\n",
       "    <tr>\n",
       "      <th>time</th>\n",
       "      <th></th>\n",
       "      <th></th>\n",
       "      <th></th>\n",
       "      <th></th>\n",
       "      <th></th>\n",
       "    </tr>\n",
       "  </thead>\n",
       "  <tbody>\n",
       "    <tr>\n",
       "      <th>2014-01-31 09:30:00</th>\n",
       "      <td>2</td>\n",
       "      <td>6.0</td>\n",
       "      <td>17.000000</td>\n",
       "      <td>27</td>\n",
       "      <td>0.629630</td>\n",
       "    </tr>\n",
       "    <tr>\n",
       "      <th>2014-01-31 09:45:00</th>\n",
       "      <td>2</td>\n",
       "      <td>3.0</td>\n",
       "      <td>8.500000</td>\n",
       "      <td>27</td>\n",
       "      <td>0.314815</td>\n",
       "    </tr>\n",
       "    <tr>\n",
       "      <th>2014-01-31 10:00:00</th>\n",
       "      <td>2</td>\n",
       "      <td>2.0</td>\n",
       "      <td>5.666667</td>\n",
       "      <td>27</td>\n",
       "      <td>0.209877</td>\n",
       "    </tr>\n",
       "    <tr>\n",
       "      <th>2014-01-31 10:15:00</th>\n",
       "      <td>2</td>\n",
       "      <td>0.0</td>\n",
       "      <td>0.000000</td>\n",
       "      <td>27</td>\n",
       "      <td>0.000000</td>\n",
       "    </tr>\n",
       "    <tr>\n",
       "      <th>2014-01-31 10:30:00</th>\n",
       "      <td>2</td>\n",
       "      <td>0.0</td>\n",
       "      <td>0.000000</td>\n",
       "      <td>27</td>\n",
       "      <td>0.000000</td>\n",
       "    </tr>\n",
       "    <tr>\n",
       "      <th>2014-01-31 10:45:00</th>\n",
       "      <td>2</td>\n",
       "      <td>0.0</td>\n",
       "      <td>0.000000</td>\n",
       "      <td>27</td>\n",
       "      <td>0.000000</td>\n",
       "    </tr>\n",
       "    <tr>\n",
       "      <th>2014-01-31 11:00:00</th>\n",
       "      <td>2</td>\n",
       "      <td>0.0</td>\n",
       "      <td>0.000000</td>\n",
       "      <td>27</td>\n",
       "      <td>0.000000</td>\n",
       "    </tr>\n",
       "    <tr>\n",
       "      <th>2014-01-31 11:15:00</th>\n",
       "      <td>2</td>\n",
       "      <td>0.0</td>\n",
       "      <td>0.000000</td>\n",
       "      <td>27</td>\n",
       "      <td>0.000000</td>\n",
       "    </tr>\n",
       "    <tr>\n",
       "      <th>2014-01-31 11:30:00</th>\n",
       "      <td>2</td>\n",
       "      <td>0.0</td>\n",
       "      <td>0.000000</td>\n",
       "      <td>27</td>\n",
       "      <td>0.000000</td>\n",
       "    </tr>\n",
       "    <tr>\n",
       "      <th>2014-01-31 11:45:00</th>\n",
       "      <td>2</td>\n",
       "      <td>0.0</td>\n",
       "      <td>0.000000</td>\n",
       "      <td>27</td>\n",
       "      <td>0.000000</td>\n",
       "    </tr>\n",
       "    <tr>\n",
       "      <th>2014-01-31 12:00:00</th>\n",
       "      <td>2</td>\n",
       "      <td>0.0</td>\n",
       "      <td>0.000000</td>\n",
       "      <td>27</td>\n",
       "      <td>0.000000</td>\n",
       "    </tr>\n",
       "    <tr>\n",
       "      <th>2014-01-31 12:15:00</th>\n",
       "      <td>2</td>\n",
       "      <td>0.0</td>\n",
       "      <td>0.000000</td>\n",
       "      <td>27</td>\n",
       "      <td>0.000000</td>\n",
       "    </tr>\n",
       "    <tr>\n",
       "      <th>2014-01-31 12:30:00</th>\n",
       "      <td>2</td>\n",
       "      <td>0.0</td>\n",
       "      <td>0.000000</td>\n",
       "      <td>27</td>\n",
       "      <td>0.000000</td>\n",
       "    </tr>\n",
       "    <tr>\n",
       "      <th>2014-01-31 12:45:00</th>\n",
       "      <td>2</td>\n",
       "      <td>0.0</td>\n",
       "      <td>0.000000</td>\n",
       "      <td>27</td>\n",
       "      <td>0.000000</td>\n",
       "    </tr>\n",
       "    <tr>\n",
       "      <th>2014-01-31 13:00:00</th>\n",
       "      <td>2</td>\n",
       "      <td>0.0</td>\n",
       "      <td>0.000000</td>\n",
       "      <td>27</td>\n",
       "      <td>0.000000</td>\n",
       "    </tr>\n",
       "    <tr>\n",
       "      <th>2014-01-31 13:15:00</th>\n",
       "      <td>2</td>\n",
       "      <td>0.0</td>\n",
       "      <td>0.000000</td>\n",
       "      <td>27</td>\n",
       "      <td>0.000000</td>\n",
       "    </tr>\n",
       "    <tr>\n",
       "      <th>2014-01-31 13:30:00</th>\n",
       "      <td>2</td>\n",
       "      <td>0.0</td>\n",
       "      <td>0.000000</td>\n",
       "      <td>27</td>\n",
       "      <td>0.000000</td>\n",
       "    </tr>\n",
       "    <tr>\n",
       "      <th>2014-01-31 13:45:00</th>\n",
       "      <td>2</td>\n",
       "      <td>0.0</td>\n",
       "      <td>0.000000</td>\n",
       "      <td>27</td>\n",
       "      <td>0.000000</td>\n",
       "    </tr>\n",
       "    <tr>\n",
       "      <th>2014-01-31 14:00:00</th>\n",
       "      <td>2</td>\n",
       "      <td>0.0</td>\n",
       "      <td>0.000000</td>\n",
       "      <td>27</td>\n",
       "      <td>0.000000</td>\n",
       "    </tr>\n",
       "    <tr>\n",
       "      <th>2014-01-31 14:15:00</th>\n",
       "      <td>2</td>\n",
       "      <td>0.0</td>\n",
       "      <td>0.000000</td>\n",
       "      <td>27</td>\n",
       "      <td>0.000000</td>\n",
       "    </tr>\n",
       "    <tr>\n",
       "      <th>2014-01-31 14:30:00</th>\n",
       "      <td>2</td>\n",
       "      <td>0.0</td>\n",
       "      <td>0.000000</td>\n",
       "      <td>27</td>\n",
       "      <td>0.000000</td>\n",
       "    </tr>\n",
       "    <tr>\n",
       "      <th>2014-01-31 14:45:00</th>\n",
       "      <td>2</td>\n",
       "      <td>0.0</td>\n",
       "      <td>0.000000</td>\n",
       "      <td>27</td>\n",
       "      <td>0.000000</td>\n",
       "    </tr>\n",
       "    <tr>\n",
       "      <th>2014-01-31 15:00:00</th>\n",
       "      <td>2</td>\n",
       "      <td>0.0</td>\n",
       "      <td>0.000000</td>\n",
       "      <td>27</td>\n",
       "      <td>0.000000</td>\n",
       "    </tr>\n",
       "    <tr>\n",
       "      <th>2014-01-31 15:15:00</th>\n",
       "      <td>2</td>\n",
       "      <td>0.0</td>\n",
       "      <td>0.000000</td>\n",
       "      <td>27</td>\n",
       "      <td>0.000000</td>\n",
       "    </tr>\n",
       "  </tbody>\n",
       "</table>\n",
       "</div>"
      ],
      "text/plain": [
       "                     station_id  bikes_available  docks_available  dock_count  \\\n",
       "time                                                                            \n",
       "2014-01-31 09:30:00           2              6.0        17.000000          27   \n",
       "2014-01-31 09:45:00           2              3.0         8.500000          27   \n",
       "2014-01-31 10:00:00           2              2.0         5.666667          27   \n",
       "2014-01-31 10:15:00           2              0.0         0.000000          27   \n",
       "2014-01-31 10:30:00           2              0.0         0.000000          27   \n",
       "2014-01-31 10:45:00           2              0.0         0.000000          27   \n",
       "2014-01-31 11:00:00           2              0.0         0.000000          27   \n",
       "2014-01-31 11:15:00           2              0.0         0.000000          27   \n",
       "2014-01-31 11:30:00           2              0.0         0.000000          27   \n",
       "2014-01-31 11:45:00           2              0.0         0.000000          27   \n",
       "2014-01-31 12:00:00           2              0.0         0.000000          27   \n",
       "2014-01-31 12:15:00           2              0.0         0.000000          27   \n",
       "2014-01-31 12:30:00           2              0.0         0.000000          27   \n",
       "2014-01-31 12:45:00           2              0.0         0.000000          27   \n",
       "2014-01-31 13:00:00           2              0.0         0.000000          27   \n",
       "2014-01-31 13:15:00           2              0.0         0.000000          27   \n",
       "2014-01-31 13:30:00           2              0.0         0.000000          27   \n",
       "2014-01-31 13:45:00           2              0.0         0.000000          27   \n",
       "2014-01-31 14:00:00           2              0.0         0.000000          27   \n",
       "2014-01-31 14:15:00           2              0.0         0.000000          27   \n",
       "2014-01-31 14:30:00           2              0.0         0.000000          27   \n",
       "2014-01-31 14:45:00           2              0.0         0.000000          27   \n",
       "2014-01-31 15:00:00           2              0.0         0.000000          27   \n",
       "2014-01-31 15:15:00           2              0.0         0.000000          27   \n",
       "\n",
       "                     utilization  \n",
       "time                              \n",
       "2014-01-31 09:30:00     0.629630  \n",
       "2014-01-31 09:45:00     0.314815  \n",
       "2014-01-31 10:00:00     0.209877  \n",
       "2014-01-31 10:15:00     0.000000  \n",
       "2014-01-31 10:30:00     0.000000  \n",
       "2014-01-31 10:45:00     0.000000  \n",
       "2014-01-31 11:00:00     0.000000  \n",
       "2014-01-31 11:15:00     0.000000  \n",
       "2014-01-31 11:30:00     0.000000  \n",
       "2014-01-31 11:45:00     0.000000  \n",
       "2014-01-31 12:00:00     0.000000  \n",
       "2014-01-31 12:15:00     0.000000  \n",
       "2014-01-31 12:30:00     0.000000  \n",
       "2014-01-31 12:45:00     0.000000  \n",
       "2014-01-31 13:00:00     0.000000  \n",
       "2014-01-31 13:15:00     0.000000  \n",
       "2014-01-31 13:30:00     0.000000  \n",
       "2014-01-31 13:45:00     0.000000  \n",
       "2014-01-31 14:00:00     0.000000  \n",
       "2014-01-31 14:15:00     0.000000  \n",
       "2014-01-31 14:30:00     0.000000  \n",
       "2014-01-31 14:45:00     0.000000  \n",
       "2014-01-31 15:00:00     0.000000  \n",
       "2014-01-31 15:15:00     0.000000  "
      ]
     },
     "execution_count": 6,
     "metadata": {},
     "output_type": "execute_result"
    }
   ],
   "source": [
    "status_15min.head(24)"
   ]
  },
  {
   "cell_type": "markdown",
   "metadata": {},
   "source": [
    "### Clean And Resample Data"
   ]
  },
  {
   "cell_type": "code",
   "execution_count": null,
   "metadata": {
    "collapsed": true
   },
   "outputs": [],
   "source": [
    "# convert time to datetime\n",
    "status_01_copy = status_01.copy()\n",
    "status_01_copy['time']   = pd.to_datetime(status_01_copy['time'],   format=\"%Y/%m/%d %H:%M:%S\")\n",
    "\n",
    "\n",
    "status_02_copy = status_02.copy()\n",
    "status_02_copy['time']   = pd.to_datetime(status_02_copy['time'],   format=\"%Y/%m/%d %H:%M:%S\")\n",
    "\n",
    "\n",
    "status_03_copy = status_03.copy()\n",
    "status_03_copy['time']   = pd.to_datetime(status_03_copy['time'],   format=\"%m/%d/%Y %H:%M:%S\")\n",
    "\n",
    "\n",
    "status_04_copy = status_04.copy()\n",
    "status_04_copy['time']   = pd.to_datetime(status_04_copy['time'],   format=\"%Y/%m/%d %H:%M:%S\")\n",
    "\n"
   ]
  },
  {
   "cell_type": "code",
   "execution_count": null,
   "metadata": {
    "collapsed": true
   },
   "outputs": [],
   "source": [
    "status_02_copy.info()"
   ]
  },
  {
   "cell_type": "code",
   "execution_count": null,
   "metadata": {
    "collapsed": true
   },
   "outputs": [],
   "source": [
    "status_time_clean = pd.concat([status_01_copy, status_02_copy, status_03_copy, status_04_copy])\n",
    "status_time_clean.info()\n"
   ]
  },
  {
   "cell_type": "code",
   "execution_count": null,
   "metadata": {
    "collapsed": true
   },
   "outputs": [],
   "source": [
    "# append total_docks column\n",
    "status_time_clean['total_docks'] = status_time_clean['bikes_available'] + status_time_clean['docks_available']\n",
    "status_time_clean.info()"
   ]
  },
  {
   "cell_type": "code",
   "execution_count": null,
   "metadata": {
    "collapsed": true
   },
   "outputs": [],
   "source": [
    "status_time_clean.head()"
   ]
  },
  {
   "cell_type": "code",
   "execution_count": null,
   "metadata": {
    "collapsed": true
   },
   "outputs": [],
   "source": [
    "# set time column as index\n",
    "status_time_clean.set_index('time', inplace=True)\n",
    "\n",
    "status_data = status_time_clean.copy()"
   ]
  },
  {
   "cell_type": "code",
   "execution_count": null,
   "metadata": {
    "collapsed": true
   },
   "outputs": [],
   "source": []
  },
  {
   "cell_type": "code",
   "execution_count": null,
   "metadata": {
    "collapsed": true
   },
   "outputs": [],
   "source": []
  },
  {
   "cell_type": "code",
   "execution_count": null,
   "metadata": {
    "collapsed": true
   },
   "outputs": [],
   "source": []
  },
  {
   "cell_type": "markdown",
   "metadata": {},
   "source": [
    "> From Analysis of Trip Data, we can see that key commute hours for Subscribers are:\n",
    "-    Morning Commute Hours 07:00-11:00\n",
    "-    Evening Commute Hours 16:00-20:00\n",
    "\n",
    "> From Analysis of Trip Data, we can see that key Stations for Subscribers are:\n",
    "-    Morning Commute Stations \n",
    "    - top_am_commute_start_terms = [50, 54, 55, 61, 67, 69, 70, 73, 74, 77]\n",
    "    - top_am_commute_end_terms   = [51, 55, 60, 61, 63, 65, 69, 70, 74, 77]\n",
    ">\n",
    ">\n",
    "-    Evening Commute Stations \n",
    "    - top_pm_commute_start_terms = [55, 60, 61, 64, 65, 67, 69, 70, 74, 77]\n",
    "    - top_pm_commute_end_terms   = [39, 50, 55, 60, 61, 65, 69, 70, 74, 77]\n",
    ">"
   ]
  },
  {
   "cell_type": "code",
   "execution_count": null,
   "metadata": {
    "collapsed": true
   },
   "outputs": [],
   "source": [
    "# prune only morning commute hours from subscribers [07:00 - 11:00]\n",
    "am_commute_start = datetime.datetime.strptime('07:00', '%H:%M').time()\n",
    "am_commute_end = datetime.datetime.strptime('11:00', '%H:%M').time()\n",
    "morning_commute_status = status_data.between_time(start_time=am_commute_start,\n",
    "                                                     end_time=am_commute_end,\n",
    "                                                     include_start=True,\n",
    "                                                     include_end=True)\n",
    "\n",
    "morning_commute_status.info()"
   ]
  },
  {
   "cell_type": "code",
   "execution_count": null,
   "metadata": {
    "collapsed": true
   },
   "outputs": [],
   "source": [
    "# prune only evening commute hours from subscribers [16:00 - 20:00]\n",
    "pm_commute_start = datetime.datetime.strptime('16:00', '%H:%M').time()\n",
    "pm_commute_end = datetime.datetime.strptime('20:00', '%H:%M').time()\n",
    "evening_commute_status = status_data.between_time(start_time=pm_commute_start,\n",
    "                                                     end_time=pm_commute_end,\n",
    "                                                     include_start=True,\n",
    "                                                     include_end=True)\n",
    "\n",
    "evening_commute_status.info()\n"
   ]
  },
  {
   "cell_type": "code",
   "execution_count": null,
   "metadata": {
    "collapsed": true
   },
   "outputs": [],
   "source": [
    "# prune only important stations for each commute period\n",
    "top_am_commute_start_terms = [50, 54, 55, 61, 67, 69, 70, 73, 74, 77]\n",
    "top_am_commute_end_terms = [51, 55, 60, 61, 63, 65, 69, 70, 74, 77]\n",
    "top_pm_commute_start_terms = [55, 60, 61, 64, 65, 67, 69, 70, 74, 77]\n",
    "top_pm_commute_end_terms = [39, 50, 55, 60, 61, 65, 69, 70, 74, 77]\n",
    "\n",
    "\n",
    "morning_commute_status_start = morning_commute_status[morning_commute_status.station_id.isin(top_am_commute_start_terms)].copy()\n",
    "morning_commute_status_end   = morning_commute_status[morning_commute_status.station_id.isin(top_am_commute_end_terms)].copy()\n",
    "evening_commute_status_start = evening_commute_status[evening_commute_status.station_id.isin(top_pm_commute_start_terms)].copy()\n",
    "evening_commute_status_end   = evening_commute_status[evening_commute_status.station_id.isin(top_pm_commute_end_terms)].copy()"
   ]
  },
  {
   "cell_type": "code",
   "execution_count": null,
   "metadata": {
    "collapsed": true
   },
   "outputs": [],
   "source": [
    "morning_commute_status_start.groupby(['station_id', morning_commute_status_start.index.hour])['docks_available'].plot(figsize=(12,6))\n",
    "plt.show()"
   ]
  },
  {
   "cell_type": "code",
   "execution_count": null,
   "metadata": {
    "collapsed": true
   },
   "outputs": [],
   "source": [
    "morning_commute_status_start.groupby(['station_id', morning_commute_status_start.index.hour, morning_commute_status_start.index.minute]).mean()['docks_available'].plot(figsize=(12,6))\n",
    "plt.show()"
   ]
  },
  {
   "cell_type": "code",
   "execution_count": null,
   "metadata": {
    "collapsed": true
   },
   "outputs": [],
   "source": [
    "for i in pd.unique(morning_commute_status_start.station_id):\n",
    "    data = morning_commute_status_start[morning_commute_status_start.station_id == i]\n",
    "    data.groupby(['station_id', data.index.hour, data.index.minute]).mean()['bikes_available'].plot(figsize=(12,3))\n",
    "    plt.show()"
   ]
  },
  {
   "cell_type": "code",
   "execution_count": null,
   "metadata": {
    "collapsed": true
   },
   "outputs": [],
   "source": [
    "status_data.info()\n",
    "\n",
    "\n",
    "\n",
    "\n"
   ]
  },
  {
   "cell_type": "code",
   "execution_count": null,
   "metadata": {
    "collapsed": true
   },
   "outputs": [],
   "source": [
    "for i in pd.unique(status_data.station_id):\n",
    "    data = status_data[status_data.station_id == i]\n",
    "    data.groupby(['station_id', data.index.hour, data.index.minute]).mean()['bikes_available'].plot(figsize=(12,3))\n",
    "    plt.show()"
   ]
  },
  {
   "cell_type": "code",
   "execution_count": null,
   "metadata": {
    "collapsed": true
   },
   "outputs": [],
   "source": [
    "# for i in pd.unique(status_data.station_id):\n",
    "#     data = status_data[status_data.station_id == i]\n",
    "status_data.groupby([status_data.index.hour, status_data.index.minute]).mean()['bikes_available'].plot(figsize=(12,3))\n",
    "plt.show()"
   ]
  },
  {
   "cell_type": "code",
   "execution_count": null,
   "metadata": {
    "collapsed": true
   },
   "outputs": [],
   "source": [
    "\n",
    "ax = evening_commute_status.groupby([evening_commute_status.index.hour, evening_commute_status.index.minute]).mean()['bikes_available'].plot(figsize=(12,6))\n",
    "morning_commute_status.groupby([morning_commute_status.index.hour, morning_commute_status.index.minute]).mean()['bikes_available'].plot(ax=ax)\n",
    "plt.legend(['evening', 'morning'],loc='best')\n",
    "plt.show()"
   ]
  },
  {
   "cell_type": "code",
   "execution_count": null,
   "metadata": {
    "collapsed": true
   },
   "outputs": [],
   "source": [
    "\n",
    "ax = evening_commute_status.groupby([evening_commute_status.index.hour, evening_commute_status.index.minute]).sum()['bikes_available'].plot(figsize=(12,6))\n",
    "morning_commute_status.groupby([morning_commute_status.index.hour, morning_commute_status.index.minute]).sum()['bikes_available'].plot(ax=ax)\n",
    "plt.legend(['evening', 'morning'],loc='best')\n",
    "plt.show()"
   ]
  },
  {
   "cell_type": "code",
   "execution_count": null,
   "metadata": {
    "collapsed": true
   },
   "outputs": [],
   "source": [
    "status_73_data = status_data[status_data.station_id == 73]\n",
    "\n",
    "status_73_data.groupby([status_73_data.index.hour, status_73_data.index.minute]).max()['bikes_available'].plot(figsize=(12,6))\n",
    "plt.show()"
   ]
  },
  {
   "cell_type": "code",
   "execution_count": null,
   "metadata": {
    "collapsed": true
   },
   "outputs": [],
   "source": []
  },
  {
   "cell_type": "code",
   "execution_count": null,
   "metadata": {
    "collapsed": true
   },
   "outputs": [],
   "source": []
  }
 ],
 "metadata": {
  "kernelspec": {
   "display_name": "Python 3",
   "language": "python",
   "name": "python3"
  },
  "language_info": {
   "codemirror_mode": {
    "name": "ipython",
    "version": 3
   },
   "file_extension": ".py",
   "mimetype": "text/x-python",
   "name": "python",
   "nbconvert_exporter": "python",
   "pygments_lexer": "ipython3",
   "version": "3.6.3"
  }
 },
 "nbformat": 4,
 "nbformat_minor": 2
}
