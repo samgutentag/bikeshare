{
 "cells": [
  {
   "cell_type": "markdown",
   "metadata": {},
   "source": [
    "### Get going by asking the following questions and looking for the answers with some code and plots:\n",
    "    Can you count something interesting?\n",
    "    Can you find some trends (high, low, increase, decrease, anomalies)?\n",
    "    Can you make a bar plot or a histogram?\n",
    "    Can you compare two related quantities?\n",
    "    Can you make a scatterplot?\n",
    "    Can you make a time-series plot?\n",
    "\n",
    "### Having made these plots:\n",
    "    What are some insights you get from them? \n",
    "    Do you see any correlations? \n",
    "    Is there a hypothesis you would like to investigate further? \n",
    "    What other questions do they lead you to ask?\n",
    "\n",
    "### By now you’ve asked a bunch of questions, and found some neat insights. \n",
    "    Is there an interesting narrative, a way of presenting the insights using text and plots from the above, \n",
    "        that tells a compelling story? \n",
    "    As you work out this story, what are some other trends/relationships you think will make it more complete?\n",
    "\n"
   ]
  },
  {
   "cell_type": "code",
   "execution_count": null,
   "metadata": {
    "collapsed": true
   },
   "outputs": [],
   "source": [
    "%matplotlib inline\n",
    "\n",
    "import matplotlib\n",
    "import numpy as np\n",
    "import matplotlib.pyplot as plt\n",
    "import pandas as pd\n",
    "from glob import glob\n",
    "\n",
    "import seaborn as sns\n",
    "sns.set()\n"
   ]
  },
  {
   "cell_type": "markdown",
   "metadata": {},
   "source": [
    "## Load Trip Data Sets"
   ]
  },
  {
   "cell_type": "code",
   "execution_count": null,
   "metadata": {},
   "outputs": [],
   "source": [
    "print('Loading data...')\n",
    "try:\n",
    "\n",
    "    file_path_slug = '../../datasets/bayareabikeshare/*_trip_data.csv'\n",
    "\n",
    "    # glob all files\n",
    "    file_list = glob(file_path_slug)\n",
    "\n",
    "    trips = pd.DataFrame()\n",
    "\n",
    "    counter = 1\n",
    "    chunks = []\n",
    "    for file in file_list:\n",
    "        print('\\nReading file [' + str(counter) + ' of ' + str(len(file_list)) + ']\\t ' + str(file))\n",
    "\n",
    "        # import file in chunks to temp DataFrame\n",
    "        print('\\treading chunks...')\n",
    "        for chunk in pd.read_csv(file, chunksize=10000, iterator=True):\n",
    "\n",
    "            chunk = chunk.set_index('Trip ID')\n",
    "\n",
    "            # standardize column names - 201402 dataset uses 'Subscription Type' in place of 'Subscriber Type'\n",
    "            chunk.columns = ['Duration', 'Start Date', 'Start Station', 'Start Terminal', 'End Date', \n",
    "                             'End Station', 'End Terminal', 'Bike #', 'Subscriber Type', 'Zip Code']\n",
    "\n",
    "            chunks.append(chunk)\n",
    "\n",
    "        print('\\tfinished file!')\n",
    "        counter += 1\n",
    "\n",
    "    # status = pd.concat(chunks, ignore_index=True)\n",
    "    trips = pd.concat(chunks)\n",
    "\n",
    "\n",
    "    print('data loaded successfully!')\n",
    "except:\n",
    "    print('oops... something went wrong loading the data :(')\n"
   ]
  },
  {
   "cell_type": "markdown",
   "metadata": {},
   "source": [
    "### initial exploration"
   ]
  },
  {
   "cell_type": "code",
   "execution_count": null,
   "metadata": {},
   "outputs": [],
   "source": [
    "trips.head(10)"
   ]
  },
  {
   "cell_type": "code",
   "execution_count": null,
   "metadata": {},
   "outputs": [],
   "source": [
    "len(trips.index)"
   ]
  },
  {
   "cell_type": "code",
   "execution_count": null,
   "metadata": {},
   "outputs": [],
   "source": [
    "trips.info()"
   ]
  },
  {
   "cell_type": "code",
   "execution_count": null,
   "metadata": {},
   "outputs": [],
   "source": [
    "trips.describe()"
   ]
  },
  {
   "cell_type": "markdown",
   "metadata": {},
   "source": [
    "## Lets clean up the data set a bit"
   ]
  },
  {
   "cell_type": "code",
   "execution_count": null,
   "metadata": {},
   "outputs": [],
   "source": [
    "print('Data cleanup started...')\n",
    "\n",
    "#   cleanup column names\n",
    "print('\\tcleaning up column names...')\n",
    "new_cols = []\n",
    "for col in trips.columns:\n",
    "    new_col = col.replace(' ', '_').lower()\n",
    "    new_cols.append(new_col)\n",
    "trips.columns = new_cols\n",
    "\n",
    "#   extract columns we want to keep\n",
    "print('Subsetting to useful columns...')\n",
    "important_cols = ['duration', 'start_date', 'start_terminal', 'end_date', 'end_terminal', 'bike_#', 'subscriber_type', 'zip_code']\n",
    "trips = trips[important_cols]\n",
    "\n",
    "\n",
    "#   create duration_minutes column\n",
    "trips['duration_minutes'] = trips['duration'] / 60.\n",
    "\n",
    "#   convert end and start dates to datetime objects\n",
    "print('\\tconverting end and start dates to datetime objects...')\n",
    "trips['start_date'] = pd.to_datetime(trips['start_date'], format=\"%m/%d/%Y %H:%M\")\n",
    "trips['end_date'] = pd.to_datetime(trips['end_date'], format=\"%m/%d/%Y %H:%M\")\n",
    "print('\\t\\tfinished!')\n",
    "\n",
    "#   create a start and end hour trip column\n",
    "print('\\tcreating start and end hour columns...')\n",
    "trips['start_hour'] = trips['start_date'].dt.hour\n",
    "trips['end_hour'] = trips['end_date'].dt.hour\n",
    "print('\\t\\tfinished!')\n",
    "\n",
    "# convert zip codes to numeric\n",
    "# trips['zip_code'] = pd.to_numeric(trips['zip_code'], errors='coerce')\n",
    "trips['zip_code'] = trips['zip_code'].astype(str)\n",
    "\n",
    "print('\\tfinished!')"
   ]
  },
  {
   "cell_type": "code",
   "execution_count": null,
   "metadata": {
    "collapsed": true
   },
   "outputs": [],
   "source": [
    "def clean_zipcode(item):\n",
    "    if len(item) != 5:\n",
    "\n",
    "        # split on '-'\n",
    "        try:\n",
    "            result = item.split('-')[0]\n",
    "        except:\n",
    "            result = item\n",
    "\n",
    "        # split on '.'\n",
    "        try:\n",
    "            result = item.split('.')[0]\n",
    "        except:\n",
    "            result = item\n",
    "        \n",
    "        # if len of item is less than 5, return 'NaN'\n",
    "        if len(result) < 5:\n",
    "            result = 'NaN'\n",
    "        else:\n",
    "            # if len result is greater than 5, take at most, first 5 digits\n",
    "            result = result[:5]\n",
    "    else:\n",
    "        result = item\n",
    "    \n",
    "    # make sure result is all digits\n",
    "    if result.isdigit():\n",
    "        return result\n",
    "    else:\n",
    "        return 'NaN'\n",
    "\n",
    "trips.zip_code = trips.zip_code.apply(clean_zipcode)\n",
    "trips['zip_code'] = pd.to_numeric(trips['zip_code'], errors='coerce')\n"
   ]
  },
  {
   "cell_type": "code",
   "execution_count": null,
   "metadata": {},
   "outputs": [],
   "source": [
    "# look at unique values in each column\n",
    "print('#' * 80)\n",
    "print('#\\tColumns and unique values')\n",
    "detail_cols = ['start_terminal', 'end_terminal', 'bike_#', 'subscriber_type', 'zip_code']\n",
    "for col in detail_cols:\n",
    "    print('Column : ' + col + '\\t' + str(len(pd.unique(trips[col]))))\n",
    "    print(np.sort(pd.unique(trips[col])))\n",
    "#     print(pd.unique(trips[col]))\n",
    "    print()"
   ]
  },
  {
   "cell_type": "code",
   "execution_count": null,
   "metadata": {},
   "outputs": [],
   "source": [
    "trips.info()"
   ]
  },
  {
   "cell_type": "markdown",
   "metadata": {},
   "source": [
    "## Initial Visual investigation"
   ]
  },
  {
   "cell_type": "code",
   "execution_count": null,
   "metadata": {},
   "outputs": [],
   "source": [
    "trips.plot(kind='scatter', x='start_hour', y='duration_minutes')\n",
    "plt.title('Trip Duration by Start Hour')\n",
    "plt.xlabel='Start Hour'\n",
    "plt.ylabel='Duration in Minutes'\n",
    "plt.show()"
   ]
  },
  {
   "cell_type": "markdown",
   "metadata": {},
   "source": [
    "Whoa... we have found a pretty significant outlier in this data set, someone had a bike for nearly 300,000 minutes (that is near 200 days!) and we also see some trips that are nearing 50,000 minutes (roughly 34 days).  \n",
    "\n",
    "Lets first remove the largest outlier and take a look at a histogram of ride duration to see the spread of the data."
   ]
  },
  {
   "cell_type": "code",
   "execution_count": null,
   "metadata": {},
   "outputs": [],
   "source": [
    "# our data set show duration in seconds, here are some handy conversions\n",
    "second = 1\n",
    "minute = second * 60\n",
    "hour = minute * 60\n",
    "day = hour * 24\n",
    "\n",
    "# prune data to exclude trips longer than 35 days\n",
    "print('\\tpruning data to trips no more than 35 days long...')\n",
    "trips = trips[trips['duration'] <= 35 * day].copy()\n",
    "print('\\t\\tpruned data set \\'trips\\' consists of %i entries' % len(trips.index))\n",
    "\n",
    "# plot histogram of trip duration\n",
    "trips['duration_minutes'].plot(kind='hist', color='r', alpha=0.25, bins=200, figsize=(20,5))\n",
    "plt.title('Distribution of Trip Duration in Minutes')\n",
    "plt.xlabel='Trip Duration (Minutes)'\n",
    "plt.ylabel='Number of Trips'\n",
    "plt.legend(loc='best')\n",
    "plt.show()"
   ]
  },
  {
   "cell_type": "markdown",
   "metadata": {},
   "source": [
    "Looks like we still have a pretty wide spread, next lets drill into trips that are no more than than 1000 minutes long and see what that distribution looks like."
   ]
  },
  {
   "cell_type": "code",
   "execution_count": null,
   "metadata": {},
   "outputs": [],
   "source": [
    "# prune data to exclude trips longer than 1000 minutes\n",
    "print('\\tpruning data to trips no more than 1000 minutes long...')\n",
    "trips = trips[trips['duration'] <= 1000 * minute].copy()\n",
    "print('\\t\\tpruned data set \\'trips\\' consists of %i entries' % len(trips.index))\n",
    "\n",
    "# plot histogram of trip duration\n",
    "trips['duration_minutes'].plot(kind='hist', color='r', alpha=0.25, bins=200, figsize=(20,5))\n",
    "plt.title('Distribution of Trip Duration in Minutes')\n",
    "plt.xlabel='Trip Duration (Minutes)'\n",
    "plt.ylabel='Number of Trips'\n",
    "plt.legend(loc='best')\n",
    "plt.show()"
   ]
  },
  {
   "cell_type": "markdown",
   "metadata": {},
   "source": [
    "Getting closer, lets prune down to just trips no more than 200 minutes, that looks like it will show all the data and leave some breathing room"
   ]
  },
  {
   "cell_type": "code",
   "execution_count": null,
   "metadata": {},
   "outputs": [],
   "source": [
    "# prune data to exclude trips longer than 200 minutes\n",
    "print('\\tpruning data to trips no more than 200 minutes long...')\n",
    "trips = trips[trips['duration'] <= 200 * minute].copy()\n",
    "print('\\t\\tpruned data set \\'trips\\' consists of %i entries' % len(trips.index))\n",
    "\n",
    "# plot histogram of trip duration\n",
    "trips['duration_minutes'].plot(kind='hist', color='r', alpha=0.25, bins=200, figsize=(20,5))\n",
    "plt.title('Distribution of Trip Duration in Minutes')\n",
    "plt.xlabel='Trip Duration (Minutes)'\n",
    "plt.ylabel='Number of Trips'\n",
    "plt.legend(loc='best')\n",
    "plt.show()"
   ]
  },
  {
   "cell_type": "markdown",
   "metadata": {},
   "source": [
    "heck, lets just go for it, it seems that the vast majority of trips are less than 35 minutes, lets just take a look at the distribution of those trips"
   ]
  },
  {
   "cell_type": "code",
   "execution_count": null,
   "metadata": {},
   "outputs": [],
   "source": [
    "# prune data to exclude trips longer than 35 minutes\n",
    "print('\\tpruning data to trips no more than 35 minutes long...')\n",
    "trips = trips[trips['duration'] <= 35 * minute].copy()\n",
    "print('\\t\\tpruned data set \\'trips\\' consists of %i entries' % len(trips.index))\n",
    "\n",
    "# plot histogram of trip duration\n",
    "trips['duration_minutes'].plot(kind='hist', color='r', alpha=0.25, bins=200, figsize=(20,5))\n",
    "plt.title('Distribution of Trip Duration in Minutes')\n",
    "plt.xlabel='Trip Duration (Minutes)'\n",
    "plt.ylabel='Number of Trips'\n",
    "plt.legend(loc='best')\n",
    "plt.show()"
   ]
  },
  {
   "cell_type": "markdown",
   "metadata": {},
   "source": [
    "Much better! And look, after pruning the original 983648 trips down to just trips no more than 35 minutes long, we still have 942712 trips, so we are looking at 95.8% of the data."
   ]
  },
  {
   "cell_type": "markdown",
   "metadata": {},
   "source": [
    "## Deeper Investigation of Data"
   ]
  },
  {
   "cell_type": "markdown",
   "metadata": {},
   "source": [
    "now that we have a good grasp of the 'important' data. Lets see if we can find any interesting trends."
   ]
  },
  {
   "cell_type": "markdown",
   "metadata": {},
   "source": [
    "### Number of rides by hour of the day"
   ]
  },
  {
   "cell_type": "code",
   "execution_count": null,
   "metadata": {},
   "outputs": [],
   "source": [
    "# plot trip duration by start hour\n",
    "trips.groupby(['start_hour'])['duration_minutes'].count().plot(kind='bar', color='r', figsize=(10,5))\n",
    "\n",
    "plt.title('Trips by Start Hour')\n",
    "plt.xlabel='Start Hour'\n",
    "plt.legend(['Trips'],loc='best')\n",
    "plt.show()"
   ]
  },
  {
   "cell_type": "markdown",
   "metadata": {},
   "source": [
    "Now this is interesting, it looks like there are distinct spikes in rides starting during commute hours.  Seeing as a lot of cummuters would start and end their trips at different terminals, lets see if there is a difference in trips that start and end at different terminals ('one ways') vs trips that start and end at the same terminal ('round trips')."
   ]
  },
  {
   "cell_type": "markdown",
   "metadata": {},
   "source": [
    "## One Way and Round Trips"
   ]
  },
  {
   "cell_type": "code",
   "execution_count": null,
   "metadata": {},
   "outputs": [],
   "source": [
    "print('Pruning a DataFrame of one way trips...')\n",
    "one_way_trips = trips.loc[trips['start_terminal'] != trips['end_terminal']].copy()\n",
    "print('\\tpruned data set now consists of %i lines' % len(one_way_trips.index))\n",
    "\n",
    "print('Pruning a DataFrame of round trips...')\n",
    "round_trips = trips.loc[trips.loc[:,'start_terminal'] == trips.loc[:,'end_terminal']].copy()\n",
    "print('\\tpruned data set now consists of %i lines' % len(round_trips.index))"
   ]
  },
  {
   "cell_type": "code",
   "execution_count": null,
   "metadata": {},
   "outputs": [],
   "source": [
    "# plot trip duration by start hour\n",
    "one_way_trips.groupby(['start_hour'])['duration_minutes'].count().plot(kind='bar', color='b', figsize=(10,5))\n",
    "plt.title('One Way Trips by Start Hour')\n",
    "plt.xlabel='Start Hour'\n",
    "plt.legend(['One Way Trips'],loc='best')\n",
    "plt.show()"
   ]
  },
  {
   "cell_type": "code",
   "execution_count": null,
   "metadata": {},
   "outputs": [],
   "source": [
    "round_trips.groupby(['start_hour'])['duration_minutes'].count().plot(kind='bar', color='g', figsize=(10,5))\n",
    "plt.title('Round Trips by Start Hour')\n",
    "plt.xlabel='Start Hour'\n",
    "plt.legend(['Round Trips'],loc='best')\n",
    "plt.show()"
   ]
  },
  {
   "cell_type": "code",
   "execution_count": null,
   "metadata": {},
   "outputs": [],
   "source": [
    "# plot trip duration by start hour\n",
    "ax = one_way_trips.groupby(['start_hour'])['duration_minutes'].count().plot(kind='bar',position=0, color='b', figsize=(10,5))\n",
    "round_trips.groupby(['start_hour'])['duration_minutes'].count().plot(kind='bar',position=1, color='g', ax=ax)\n",
    "plt.title('Trips by Start Hour')\n",
    "plt.xlabel='Start Hour'\n",
    "plt.legend(['One Way Trips', 'Round Trips'],loc='best')\n",
    "plt.show()"
   ]
  },
  {
   "cell_type": "markdown",
   "metadata": {},
   "source": [
    "We can see from these three graphs that there are definite spikes in usage during commute hours and that this is nearly all from one way trips.  Separating out the round trip rides, these are mostly taken during waking hours and even have a noticable spike around lunch hours.\n",
    "\n",
    "All together, it is easy to see that the VAST majority of rides taken are one way trips."
   ]
  },
  {
   "cell_type": "markdown",
   "metadata": {},
   "source": [
    "### Next Hypotheis: "
   ]
  },
  {
   "cell_type": "markdown",
   "metadata": {},
   "source": [
    "Looks like we have a lot of one way trips in commute hours, and more round trips during waking hours, even a noteworthy peak right around lunch time!  Next we are going to trip down the data sets again to only include trips to and from stations within San Francisco."
   ]
  },
  {
   "cell_type": "code",
   "execution_count": null,
   "metadata": {
    "collapsed": true
   },
   "outputs": [],
   "source": [
    "# station ID numbers that are in San Francisco\n",
    "sf_stations = [ 39,41,42,45,46,47,48,49,50,51,54,55,56,57,58,59,60,61,62,63,\n",
    "                64,65,66,67,68,69,70,71,72,73,74,75,76,77,82,90,91]"
   ]
  },
  {
   "cell_type": "code",
   "execution_count": null,
   "metadata": {},
   "outputs": [],
   "source": [
    "#prune each data set to include only trips where both start and end terminals are inside San Francisco\n",
    "sf_trips = trips.loc[trips['start_terminal'].isin(sf_stations)].copy()\n",
    "sf_trips = trips.loc[trips['end_terminal'].isin(sf_stations)].copy()\n",
    "\n",
    "sf_one_way_trips = one_way_trips.loc[one_way_trips['start_terminal'].isin(sf_stations)].copy()\n",
    "sf_one_way_trips = one_way_trips.loc[one_way_trips['end_terminal'].isin(sf_stations)].copy()\n",
    "\n",
    "sf_round_trips = round_trips.loc[round_trips['start_terminal'].isin(sf_stations)].copy()\n",
    "sf_round_trips = round_trips.loc[round_trips['end_terminal'].isin(sf_stations)].copy()\n",
    "print('complete')\n",
    "\n"
   ]
  },
  {
   "cell_type": "markdown",
   "metadata": {},
   "source": [
    "### Lets visualize these San Francisco only trips"
   ]
  },
  {
   "cell_type": "code",
   "execution_count": null,
   "metadata": {},
   "outputs": [],
   "source": [
    "# plot trip duration by start hour\n",
    "sf_trips.groupby(['start_hour'])['duration_minutes'].count().plot(kind='bar', color='r', figsize=(10,5))\n",
    "plt.title('San Francisco Trips by Start Hour')\n",
    "plt.xlabel='Start Hour'\n",
    "plt.legend(['Trips'],loc='best')\n",
    "plt.show()"
   ]
  },
  {
   "cell_type": "code",
   "execution_count": null,
   "metadata": {},
   "outputs": [],
   "source": [
    "# plot trip duration by start hour\n",
    "sf_one_way_trips.groupby(['start_hour'])['duration_minutes'].count().plot(kind='bar', color='b', figsize=(10,5))\n",
    "plt.title('San Francisco One Way Trips by Start Hour')\n",
    "plt.xlabel='Start Hour'\n",
    "plt.legend(['One Way Trips'],loc='best')\n",
    "plt.show()"
   ]
  },
  {
   "cell_type": "code",
   "execution_count": null,
   "metadata": {},
   "outputs": [],
   "source": [
    "# plot trip duration by start hour\n",
    "sf_round_trips.groupby(['start_hour'])['duration_minutes'].count().plot(kind='bar', color='g', figsize=(10,5))\n",
    "plt.title('San Francisco Round Trips by Start Hour')\n",
    "plt.xlabel='Start Hour'\n",
    "plt.legend(['Round Trips'],loc='best')\n",
    "plt.show()"
   ]
  },
  {
   "cell_type": "markdown",
   "metadata": {},
   "source": [
    "### Visualize Trips that dont include San Francisco terminals\n",
    "\n",
    "To be thurough, lets take a quick peek at non San Francisco Trips to see if these trends are similar.\n"
   ]
  },
  {
   "cell_type": "code",
   "execution_count": null,
   "metadata": {},
   "outputs": [],
   "source": [
    "#prune each data set to include only trips where both start and end terminals are inside San Francisco\n",
    "non_sf_trips = trips.loc[~trips['start_terminal'].isin(sf_stations)].copy()\n",
    "non_sf_trips = trips.loc[~trips['end_terminal'].isin(sf_stations)].copy()\n",
    "\n",
    "non_sf_one_way_trips = one_way_trips.loc[~one_way_trips['start_terminal'].isin(sf_stations)].copy()\n",
    "non_sf_one_way_trips = one_way_trips.loc[~one_way_trips['end_terminal'].isin(sf_stations)].copy()\n",
    "\n",
    "non_sf_round_trips = round_trips.loc[~round_trips['start_terminal'].isin(sf_stations)].copy()\n",
    "non_sf_round_trips = round_trips.loc[~round_trips['end_terminal'].isin(sf_stations)].copy()\n",
    "print('complete')"
   ]
  },
  {
   "cell_type": "code",
   "execution_count": null,
   "metadata": {},
   "outputs": [],
   "source": [
    "# plot trip duration by start hour\n",
    "non_sf_trips.groupby(['start_hour'])['duration_minutes'].count().plot(kind='bar', color='r', figsize=(10,5))\n",
    "plt.title('Non San Francisco Trips by Start Hour')\n",
    "plt.xlabel='Start Hour'\n",
    "plt.legend(['Trips'],loc='best')\n",
    "plt.show()"
   ]
  },
  {
   "cell_type": "code",
   "execution_count": null,
   "metadata": {},
   "outputs": [],
   "source": [
    "# plot trip duration by start hour\n",
    "non_sf_one_way_trips.groupby(['start_hour'])['duration_minutes'].count().plot(kind='bar', color='b', figsize=(10,5))\n",
    "plt.title('Non San Francisco One Way Trips by Start Hour')\n",
    "plt.xlabel='Start Hour'\n",
    "plt.legend(['One Way Trips'],loc='best')\n",
    "plt.show()"
   ]
  },
  {
   "cell_type": "code",
   "execution_count": null,
   "metadata": {},
   "outputs": [],
   "source": [
    "# plot trip duration by start hour\n",
    "non_sf_round_trips.groupby(['start_hour'])['duration_minutes'].count().plot(kind='bar', color='g', figsize=(10,5))\n",
    "plt.title('Non San Francisco Round Trips by Start Hour')\n",
    "plt.xlabel='Start Hour'\n",
    "plt.legend(['Round Trips'],loc='best')\n",
    "plt.show()"
   ]
  },
  {
   "cell_type": "code",
   "execution_count": null,
   "metadata": {
    "collapsed": true
   },
   "outputs": [],
   "source": []
  },
  {
   "cell_type": "markdown",
   "metadata": {},
   "source": [
    "### First Conlusion : Bay Area Bike Share is used by Commuters"
   ]
  },
  {
   "cell_type": "markdown",
   "metadata": {},
   "source": [
    "The data set includes an entry for each ride to identify the Subscriber Type.  This is either a 'Subscriber', 'Customer', or 'NaN'.  Subscribers are riders who sign up for monthly or yearly plans so these are more likely than not the same Commuters we have identified so far. So lets test that."
   ]
  },
  {
   "cell_type": "code",
   "execution_count": null,
   "metadata": {},
   "outputs": [],
   "source": [
    "# plot trip start time by subscriber type\n",
    "trips.groupby(['start_hour', 'subscriber_type'])['duration_minutes'].count().plot(kind='bar', color='r', figsize=(10,5))\n",
    "plt.title('Trips by Start Hour')\n",
    "plt.xlabel='Start Hour'\n",
    "plt.legend(loc='best')\n",
    "plt.show()"
   ]
  },
  {
   "cell_type": "code",
   "execution_count": null,
   "metadata": {},
   "outputs": [],
   "source": [
    "# plot trip start time by subscriber type\n",
    "one_way_trips.groupby(['start_hour', 'subscriber_type'])['duration_minutes'].count().plot(kind='bar', color='b', figsize=(10,5))\n",
    "plt.title('One Way Trips by Start Hour')\n",
    "plt.xlabel='Start Hour'\n",
    "plt.legend(loc='best')\n",
    "plt.show()"
   ]
  },
  {
   "cell_type": "code",
   "execution_count": null,
   "metadata": {},
   "outputs": [],
   "source": [
    "# plot trip start time by subscriber type\n",
    "round_trips.groupby(['start_hour', 'subscriber_type'])['duration_minutes'].count().plot(kind='bar', color='g', figsize=(10,5))\n",
    "plt.title('Round Trips by Start Hour')\n",
    "plt.xlabel='Start Hour'\n",
    "plt.legend(loc='best')\n",
    "plt.show()"
   ]
  },
  {
   "cell_type": "code",
   "execution_count": null,
   "metadata": {
    "collapsed": true
   },
   "outputs": [],
   "source": []
  }
 ],
 "metadata": {
  "kernelspec": {
   "display_name": "Python 3",
   "language": "python",
   "name": "python3"
  },
  "language_info": {
   "codemirror_mode": {
    "name": "ipython",
    "version": 3
   },
   "file_extension": ".py",
   "mimetype": "text/x-python",
   "name": "python",
   "nbconvert_exporter": "python",
   "pygments_lexer": "ipython3",
   "version": "3.6.3"
  }
 },
 "nbformat": 4,
 "nbformat_minor": 2
}
