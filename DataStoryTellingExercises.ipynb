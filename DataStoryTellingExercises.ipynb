{
 "cells": [
  {
   "cell_type": "markdown",
   "metadata": {},
   "source": [
    "### Get going by asking the following questions and looking for the answers with some code and plots:\n",
    "    Can you count something interesting?\n",
    "    Can you find some trends (high, low, increase, decrease, anomalies)?\n",
    "    Can you make a bar plot or a histogram?\n",
    "    Can you compare two related quantities?\n",
    "    Can you make a scatterplot?\n",
    "    Can you make a time-series plot?\n",
    "\n",
    "### Having made these plots:\n",
    "    What are some insights you get from them? \n",
    "    Do you see any correlations? \n",
    "    Is there a hypothesis you would like to investigate further? \n",
    "    What other questions do they lead you to ask?\n",
    "\n",
    "### By now you’ve asked a bunch of questions, and found some neat insights. \n",
    "    Is there an interesting narrative, a way of presenting the insights using text and plots from the above, \n",
    "        that tells a compelling story? \n",
    "    As you work out this story, what are some other trends/relationships you think will make it more complete?\n",
    "\n"
   ]
  },
  {
   "cell_type": "code",
   "execution_count": 55,
   "metadata": {
    "collapsed": true
   },
   "outputs": [],
   "source": [
    "%matplotlib inline\n",
    "\n",
    "import matplotlib\n",
    "import numpy as np\n",
    "import matplotlib.pyplot as plt\n",
    "import pandas as pd\n",
    "from glob import glob\n"
   ]
  },
  {
   "cell_type": "markdown",
   "metadata": {},
   "source": [
    "## Load Trip Data Sets"
   ]
  },
  {
   "cell_type": "code",
   "execution_count": 56,
   "metadata": {},
   "outputs": [
    {
     "name": "stdout",
     "output_type": "stream",
     "text": [
      "Loading data...\n",
      "\n",
      "Reading file [1 of 4]\t ../../datasets/bayareabikeshare/201402_trip_data.csv\n",
      "\treading chunks...\n",
      "\tfinished file!\n",
      "\n",
      "Reading file [2 of 4]\t ../../datasets/bayareabikeshare/201408_trip_data.csv\n",
      "\treading chunks...\n",
      "\tfinished file!\n",
      "\n",
      "Reading file [3 of 4]\t ../../datasets/bayareabikeshare/201508_trip_data.csv\n",
      "\treading chunks...\n",
      "\tfinished file!\n",
      "\n",
      "Reading file [4 of 4]\t ../../datasets/bayareabikeshare/201608_trip_data.csv\n",
      "\treading chunks...\n",
      "\tfinished file!\n",
      "data loaded successfully!\n"
     ]
    }
   ],
   "source": [
    "print('Loading data...')\n",
    "try:\n",
    "\n",
    "    file_path_slug = '../../datasets/bayareabikeshare/*_trip_data.csv'\n",
    "\n",
    "    # glob all files\n",
    "    file_list = glob(file_path_slug)\n",
    "\n",
    "    trips = pd.DataFrame()\n",
    "\n",
    "    counter = 1\n",
    "    chunks = []\n",
    "    for file in file_list:\n",
    "        print('\\nReading file [' + str(counter) + ' of ' + str(len(file_list)) + ']\\t ' + str(file))\n",
    "\n",
    "        # import file in chunks to temp DataFrame\n",
    "        print('\\treading chunks...')\n",
    "        for chunk in pd.read_csv(file, chunksize=10000, iterator=True):\n",
    "\n",
    "            chunk = chunk.set_index('Trip ID')\n",
    "\n",
    "            # standardize column names - 201402 dataset uses 'Subscription Type' in place of 'Subscriber Type'\n",
    "            chunk.columns = ['Duration', 'Start Date', 'Start Station', 'Start Terminal', 'End Date', \n",
    "                             'End Station', 'End Terminal', 'Bike #', 'Subscriber Type', 'Zip Code']\n",
    "\n",
    "            chunks.append(chunk)\n",
    "\n",
    "        print('\\tfinished file!')\n",
    "        counter += 1\n",
    "\n",
    "    # status = pd.concat(chunks, ignore_index=True)\n",
    "    trips = pd.concat(chunks)\n",
    "\n",
    "\n",
    "    print('data loaded successfully!')\n",
    "except:\n",
    "    print('oops... something went wrong loading the data :(')\n"
   ]
  },
  {
   "cell_type": "markdown",
   "metadata": {},
   "source": [
    "### initial exploration"
   ]
  },
  {
   "cell_type": "code",
   "execution_count": 57,
   "metadata": {},
   "outputs": [
    {
     "data": {
      "text/html": [
       "<div>\n",
       "<style>\n",
       "    .dataframe thead tr:only-child th {\n",
       "        text-align: right;\n",
       "    }\n",
       "\n",
       "    .dataframe thead th {\n",
       "        text-align: left;\n",
       "    }\n",
       "\n",
       "    .dataframe tbody tr th {\n",
       "        vertical-align: top;\n",
       "    }\n",
       "</style>\n",
       "<table border=\"1\" class=\"dataframe\">\n",
       "  <thead>\n",
       "    <tr style=\"text-align: right;\">\n",
       "      <th></th>\n",
       "      <th>Duration</th>\n",
       "      <th>Start Date</th>\n",
       "      <th>Start Station</th>\n",
       "      <th>Start Terminal</th>\n",
       "      <th>End Date</th>\n",
       "      <th>End Station</th>\n",
       "      <th>End Terminal</th>\n",
       "      <th>Bike #</th>\n",
       "      <th>Subscriber Type</th>\n",
       "      <th>Zip Code</th>\n",
       "    </tr>\n",
       "    <tr>\n",
       "      <th>Trip ID</th>\n",
       "      <th></th>\n",
       "      <th></th>\n",
       "      <th></th>\n",
       "      <th></th>\n",
       "      <th></th>\n",
       "      <th></th>\n",
       "      <th></th>\n",
       "      <th></th>\n",
       "      <th></th>\n",
       "      <th></th>\n",
       "    </tr>\n",
       "  </thead>\n",
       "  <tbody>\n",
       "    <tr>\n",
       "      <th>4576</th>\n",
       "      <td>63</td>\n",
       "      <td>8/29/2013 14:13</td>\n",
       "      <td>South Van Ness at Market</td>\n",
       "      <td>66</td>\n",
       "      <td>8/29/2013 14:14</td>\n",
       "      <td>South Van Ness at Market</td>\n",
       "      <td>66</td>\n",
       "      <td>520</td>\n",
       "      <td>Subscriber</td>\n",
       "      <td>94127</td>\n",
       "    </tr>\n",
       "    <tr>\n",
       "      <th>4607</th>\n",
       "      <td>70</td>\n",
       "      <td>8/29/2013 14:42</td>\n",
       "      <td>San Jose City Hall</td>\n",
       "      <td>10</td>\n",
       "      <td>8/29/2013 14:43</td>\n",
       "      <td>San Jose City Hall</td>\n",
       "      <td>10</td>\n",
       "      <td>661</td>\n",
       "      <td>Subscriber</td>\n",
       "      <td>95138</td>\n",
       "    </tr>\n",
       "    <tr>\n",
       "      <th>4130</th>\n",
       "      <td>71</td>\n",
       "      <td>8/29/2013 10:16</td>\n",
       "      <td>Mountain View City Hall</td>\n",
       "      <td>27</td>\n",
       "      <td>8/29/2013 10:17</td>\n",
       "      <td>Mountain View City Hall</td>\n",
       "      <td>27</td>\n",
       "      <td>48</td>\n",
       "      <td>Subscriber</td>\n",
       "      <td>97214</td>\n",
       "    </tr>\n",
       "    <tr>\n",
       "      <th>4251</th>\n",
       "      <td>77</td>\n",
       "      <td>8/29/2013 11:29</td>\n",
       "      <td>San Jose City Hall</td>\n",
       "      <td>10</td>\n",
       "      <td>8/29/2013 11:30</td>\n",
       "      <td>San Jose City Hall</td>\n",
       "      <td>10</td>\n",
       "      <td>26</td>\n",
       "      <td>Subscriber</td>\n",
       "      <td>95060</td>\n",
       "    </tr>\n",
       "    <tr>\n",
       "      <th>4299</th>\n",
       "      <td>83</td>\n",
       "      <td>8/29/2013 12:02</td>\n",
       "      <td>South Van Ness at Market</td>\n",
       "      <td>66</td>\n",
       "      <td>8/29/2013 12:04</td>\n",
       "      <td>Market at 10th</td>\n",
       "      <td>67</td>\n",
       "      <td>319</td>\n",
       "      <td>Subscriber</td>\n",
       "      <td>94103</td>\n",
       "    </tr>\n",
       "    <tr>\n",
       "      <th>4927</th>\n",
       "      <td>103</td>\n",
       "      <td>8/29/2013 18:54</td>\n",
       "      <td>Golden Gate at Polk</td>\n",
       "      <td>59</td>\n",
       "      <td>8/29/2013 18:56</td>\n",
       "      <td>Golden Gate at Polk</td>\n",
       "      <td>59</td>\n",
       "      <td>527</td>\n",
       "      <td>Subscriber</td>\n",
       "      <td>94109</td>\n",
       "    </tr>\n",
       "    <tr>\n",
       "      <th>4500</th>\n",
       "      <td>109</td>\n",
       "      <td>8/29/2013 13:25</td>\n",
       "      <td>Santa Clara at Almaden</td>\n",
       "      <td>4</td>\n",
       "      <td>8/29/2013 13:27</td>\n",
       "      <td>Adobe on Almaden</td>\n",
       "      <td>5</td>\n",
       "      <td>679</td>\n",
       "      <td>Subscriber</td>\n",
       "      <td>95112</td>\n",
       "    </tr>\n",
       "    <tr>\n",
       "      <th>4563</th>\n",
       "      <td>111</td>\n",
       "      <td>8/29/2013 14:02</td>\n",
       "      <td>San Salvador at 1st</td>\n",
       "      <td>8</td>\n",
       "      <td>8/29/2013 14:04</td>\n",
       "      <td>San Salvador at 1st</td>\n",
       "      <td>8</td>\n",
       "      <td>687</td>\n",
       "      <td>Subscriber</td>\n",
       "      <td>95112</td>\n",
       "    </tr>\n",
       "    <tr>\n",
       "      <th>4760</th>\n",
       "      <td>113</td>\n",
       "      <td>8/29/2013 17:01</td>\n",
       "      <td>South Van Ness at Market</td>\n",
       "      <td>66</td>\n",
       "      <td>8/29/2013 17:03</td>\n",
       "      <td>South Van Ness at Market</td>\n",
       "      <td>66</td>\n",
       "      <td>553</td>\n",
       "      <td>Subscriber</td>\n",
       "      <td>94103</td>\n",
       "    </tr>\n",
       "    <tr>\n",
       "      <th>4258</th>\n",
       "      <td>114</td>\n",
       "      <td>8/29/2013 11:33</td>\n",
       "      <td>San Jose City Hall</td>\n",
       "      <td>10</td>\n",
       "      <td>8/29/2013 11:35</td>\n",
       "      <td>MLK Library</td>\n",
       "      <td>11</td>\n",
       "      <td>107</td>\n",
       "      <td>Subscriber</td>\n",
       "      <td>95060</td>\n",
       "    </tr>\n",
       "    <tr>\n",
       "      <th>4549</th>\n",
       "      <td>125</td>\n",
       "      <td>8/29/2013 13:52</td>\n",
       "      <td>Spear at Folsom</td>\n",
       "      <td>49</td>\n",
       "      <td>8/29/2013 13:55</td>\n",
       "      <td>Embarcadero at Bryant</td>\n",
       "      <td>54</td>\n",
       "      <td>368</td>\n",
       "      <td>Subscriber</td>\n",
       "      <td>94109</td>\n",
       "    </tr>\n",
       "    <tr>\n",
       "      <th>4498</th>\n",
       "      <td>126</td>\n",
       "      <td>8/29/2013 13:23</td>\n",
       "      <td>San Pedro Square</td>\n",
       "      <td>6</td>\n",
       "      <td>8/29/2013 13:25</td>\n",
       "      <td>Santa Clara at Almaden</td>\n",
       "      <td>4</td>\n",
       "      <td>26</td>\n",
       "      <td>Subscriber</td>\n",
       "      <td>95112</td>\n",
       "    </tr>\n",
       "    <tr>\n",
       "      <th>4965</th>\n",
       "      <td>129</td>\n",
       "      <td>8/29/2013 19:32</td>\n",
       "      <td>Mountain View Caltrain Station</td>\n",
       "      <td>28</td>\n",
       "      <td>8/29/2013 19:35</td>\n",
       "      <td>Mountain View Caltrain Station</td>\n",
       "      <td>28</td>\n",
       "      <td>140</td>\n",
       "      <td>Subscriber</td>\n",
       "      <td>94041</td>\n",
       "    </tr>\n",
       "    <tr>\n",
       "      <th>4557</th>\n",
       "      <td>130</td>\n",
       "      <td>8/29/2013 13:57</td>\n",
       "      <td>2nd at South Park</td>\n",
       "      <td>64</td>\n",
       "      <td>8/29/2013 13:59</td>\n",
       "      <td>2nd at South Park</td>\n",
       "      <td>64</td>\n",
       "      <td>371</td>\n",
       "      <td>Subscriber</td>\n",
       "      <td>94122</td>\n",
       "    </tr>\n",
       "    <tr>\n",
       "      <th>4386</th>\n",
       "      <td>134</td>\n",
       "      <td>8/29/2013 12:31</td>\n",
       "      <td>Clay at Battery</td>\n",
       "      <td>41</td>\n",
       "      <td>8/29/2013 12:33</td>\n",
       "      <td>Beale at Market</td>\n",
       "      <td>56</td>\n",
       "      <td>503</td>\n",
       "      <td>Subscriber</td>\n",
       "      <td>94109</td>\n",
       "    </tr>\n",
       "    <tr>\n",
       "      <th>4749</th>\n",
       "      <td>138</td>\n",
       "      <td>8/29/2013 16:57</td>\n",
       "      <td>Post at Kearney</td>\n",
       "      <td>47</td>\n",
       "      <td>8/29/2013 16:59</td>\n",
       "      <td>Post at Kearney</td>\n",
       "      <td>47</td>\n",
       "      <td>408</td>\n",
       "      <td>Subscriber</td>\n",
       "      <td>94117</td>\n",
       "    </tr>\n",
       "    <tr>\n",
       "      <th>4242</th>\n",
       "      <td>141</td>\n",
       "      <td>8/29/2013 11:25</td>\n",
       "      <td>San Jose City Hall</td>\n",
       "      <td>10</td>\n",
       "      <td>8/29/2013 11:27</td>\n",
       "      <td>San Jose City Hall</td>\n",
       "      <td>10</td>\n",
       "      <td>26</td>\n",
       "      <td>Subscriber</td>\n",
       "      <td>95060</td>\n",
       "    </tr>\n",
       "    <tr>\n",
       "      <th>4329</th>\n",
       "      <td>142</td>\n",
       "      <td>8/29/2013 12:11</td>\n",
       "      <td>Market at 10th</td>\n",
       "      <td>67</td>\n",
       "      <td>8/29/2013 12:14</td>\n",
       "      <td>Market at 10th</td>\n",
       "      <td>67</td>\n",
       "      <td>319</td>\n",
       "      <td>Subscriber</td>\n",
       "      <td>94103</td>\n",
       "    </tr>\n",
       "    <tr>\n",
       "      <th>5097</th>\n",
       "      <td>142</td>\n",
       "      <td>8/29/2013 22:21</td>\n",
       "      <td>Steuart at Market</td>\n",
       "      <td>74</td>\n",
       "      <td>8/29/2013 22:24</td>\n",
       "      <td>Harry Bridges Plaza (Ferry Building)</td>\n",
       "      <td>50</td>\n",
       "      <td>564</td>\n",
       "      <td>Subscriber</td>\n",
       "      <td>94115</td>\n",
       "    </tr>\n",
       "    <tr>\n",
       "      <th>5084</th>\n",
       "      <td>144</td>\n",
       "      <td>8/29/2013 22:06</td>\n",
       "      <td>Powell Street BART</td>\n",
       "      <td>39</td>\n",
       "      <td>8/29/2013 22:08</td>\n",
       "      <td>Market at 4th</td>\n",
       "      <td>76</td>\n",
       "      <td>574</td>\n",
       "      <td>Subscriber</td>\n",
       "      <td>94115</td>\n",
       "    </tr>\n",
       "    <tr>\n",
       "      <th>4982</th>\n",
       "      <td>146</td>\n",
       "      <td>8/29/2013 19:42</td>\n",
       "      <td>Spear at Folsom</td>\n",
       "      <td>49</td>\n",
       "      <td>8/29/2013 19:44</td>\n",
       "      <td>Embarcadero at Bryant</td>\n",
       "      <td>54</td>\n",
       "      <td>542</td>\n",
       "      <td>Subscriber</td>\n",
       "      <td>94105</td>\n",
       "    </tr>\n",
       "    <tr>\n",
       "      <th>4417</th>\n",
       "      <td>148</td>\n",
       "      <td>8/29/2013 12:45</td>\n",
       "      <td>Redwood City Caltrain Station</td>\n",
       "      <td>22</td>\n",
       "      <td>8/29/2013 12:48</td>\n",
       "      <td>Redwood City Caltrain Station</td>\n",
       "      <td>22</td>\n",
       "      <td>159</td>\n",
       "      <td>Subscriber</td>\n",
       "      <td>94061</td>\n",
       "    </tr>\n",
       "    <tr>\n",
       "      <th>4265</th>\n",
       "      <td>151</td>\n",
       "      <td>8/29/2013 11:40</td>\n",
       "      <td>San Francisco City Hall</td>\n",
       "      <td>58</td>\n",
       "      <td>8/29/2013 11:42</td>\n",
       "      <td>San Francisco City Hall</td>\n",
       "      <td>58</td>\n",
       "      <td>520</td>\n",
       "      <td>Subscriber</td>\n",
       "      <td>94110</td>\n",
       "    </tr>\n",
       "    <tr>\n",
       "      <th>5093</th>\n",
       "      <td>160</td>\n",
       "      <td>8/29/2013 22:12</td>\n",
       "      <td>Post at Kearney</td>\n",
       "      <td>47</td>\n",
       "      <td>8/29/2013 22:14</td>\n",
       "      <td>Market at Sansome</td>\n",
       "      <td>77</td>\n",
       "      <td>442</td>\n",
       "      <td>Subscriber</td>\n",
       "      <td>94115</td>\n",
       "    </tr>\n",
       "    <tr>\n",
       "      <th>4168</th>\n",
       "      <td>161</td>\n",
       "      <td>8/29/2013 10:56</td>\n",
       "      <td>Beale at Market</td>\n",
       "      <td>56</td>\n",
       "      <td>8/29/2013 10:59</td>\n",
       "      <td>Steuart at Market</td>\n",
       "      <td>74</td>\n",
       "      <td>414</td>\n",
       "      <td>Customer</td>\n",
       "      <td>94117</td>\n",
       "    </tr>\n",
       "    <tr>\n",
       "      <th>4550</th>\n",
       "      <td>163</td>\n",
       "      <td>8/29/2013 13:53</td>\n",
       "      <td>Japantown</td>\n",
       "      <td>9</td>\n",
       "      <td>8/29/2013 13:56</td>\n",
       "      <td>Japantown</td>\n",
       "      <td>9</td>\n",
       "      <td>684</td>\n",
       "      <td>Subscriber</td>\n",
       "      <td>95112</td>\n",
       "    </tr>\n",
       "    <tr>\n",
       "      <th>4533</th>\n",
       "      <td>165</td>\n",
       "      <td>8/29/2013 13:43</td>\n",
       "      <td>Temporary Transbay Terminal (Howard at Beale)</td>\n",
       "      <td>55</td>\n",
       "      <td>8/29/2013 13:46</td>\n",
       "      <td>Embarcadero at Folsom</td>\n",
       "      <td>51</td>\n",
       "      <td>365</td>\n",
       "      <td>Subscriber</td>\n",
       "      <td>94109</td>\n",
       "    </tr>\n",
       "    <tr>\n",
       "      <th>4510</th>\n",
       "      <td>166</td>\n",
       "      <td>8/29/2013 13:31</td>\n",
       "      <td>San Jose Civic Center</td>\n",
       "      <td>3</td>\n",
       "      <td>8/29/2013 13:34</td>\n",
       "      <td>San Salvador at 1st</td>\n",
       "      <td>8</td>\n",
       "      <td>661</td>\n",
       "      <td>Subscriber</td>\n",
       "      <td>95112</td>\n",
       "    </tr>\n",
       "    <tr>\n",
       "      <th>5070</th>\n",
       "      <td>168</td>\n",
       "      <td>8/29/2013 21:43</td>\n",
       "      <td>South Van Ness at Market</td>\n",
       "      <td>66</td>\n",
       "      <td>8/29/2013 21:46</td>\n",
       "      <td>South Van Ness at Market</td>\n",
       "      <td>66</td>\n",
       "      <td>598</td>\n",
       "      <td>Subscriber</td>\n",
       "      <td>94115</td>\n",
       "    </tr>\n",
       "    <tr>\n",
       "      <th>4917</th>\n",
       "      <td>169</td>\n",
       "      <td>8/29/2013 18:45</td>\n",
       "      <td>Redwood City Medical Center</td>\n",
       "      <td>26</td>\n",
       "      <td>8/29/2013 18:48</td>\n",
       "      <td>Broadway at Main</td>\n",
       "      <td>25</td>\n",
       "      <td>229</td>\n",
       "      <td>Subscriber</td>\n",
       "      <td>94041</td>\n",
       "    </tr>\n",
       "    <tr>\n",
       "      <th>...</th>\n",
       "      <td>...</td>\n",
       "      <td>...</td>\n",
       "      <td>...</td>\n",
       "      <td>...</td>\n",
       "      <td>...</td>\n",
       "      <td>...</td>\n",
       "      <td>...</td>\n",
       "      <td>...</td>\n",
       "      <td>...</td>\n",
       "      <td>...</td>\n",
       "    </tr>\n",
       "    <tr>\n",
       "      <th>1338375</th>\n",
       "      <td>1786</td>\n",
       "      <td>8/31/2016 21:06</td>\n",
       "      <td>Market at 4th</td>\n",
       "      <td>76</td>\n",
       "      <td>8/31/2016 21:36</td>\n",
       "      <td>Market at 4th</td>\n",
       "      <td>76</td>\n",
       "      <td>672</td>\n",
       "      <td>Customer</td>\n",
       "      <td>75075</td>\n",
       "    </tr>\n",
       "    <tr>\n",
       "      <th>1338376</th>\n",
       "      <td>293</td>\n",
       "      <td>8/31/2016 21:08</td>\n",
       "      <td>Grant Avenue at Columbus Avenue</td>\n",
       "      <td>73</td>\n",
       "      <td>8/31/2016 21:13</td>\n",
       "      <td>Embarcadero at Sansome</td>\n",
       "      <td>60</td>\n",
       "      <td>69</td>\n",
       "      <td>Subscriber</td>\n",
       "      <td>94133</td>\n",
       "    </tr>\n",
       "    <tr>\n",
       "      <th>1338377</th>\n",
       "      <td>554</td>\n",
       "      <td>8/31/2016 21:09</td>\n",
       "      <td>Yerba Buena Center of the Arts (3rd @ Howard)</td>\n",
       "      <td>68</td>\n",
       "      <td>8/31/2016 21:18</td>\n",
       "      <td>2nd at Townsend</td>\n",
       "      <td>61</td>\n",
       "      <td>614</td>\n",
       "      <td>Subscriber</td>\n",
       "      <td>94107</td>\n",
       "    </tr>\n",
       "    <tr>\n",
       "      <th>1338378</th>\n",
       "      <td>9256</td>\n",
       "      <td>8/31/2016 21:14</td>\n",
       "      <td>Howard at 2nd</td>\n",
       "      <td>63</td>\n",
       "      <td>8/31/2016 23:48</td>\n",
       "      <td>Howard at 2nd</td>\n",
       "      <td>63</td>\n",
       "      <td>259</td>\n",
       "      <td>Customer</td>\n",
       "      <td>nil</td>\n",
       "    </tr>\n",
       "    <tr>\n",
       "      <th>1338380</th>\n",
       "      <td>220</td>\n",
       "      <td>8/31/2016 21:16</td>\n",
       "      <td>Yerba Buena Center of the Arts (3rd @ Howard)</td>\n",
       "      <td>68</td>\n",
       "      <td>8/31/2016 21:20</td>\n",
       "      <td>5th St at Folsom St</td>\n",
       "      <td>90</td>\n",
       "      <td>652</td>\n",
       "      <td>Subscriber</td>\n",
       "      <td>94710</td>\n",
       "    </tr>\n",
       "    <tr>\n",
       "      <th>1338381</th>\n",
       "      <td>274</td>\n",
       "      <td>8/31/2016 21:17</td>\n",
       "      <td>2nd at South Park</td>\n",
       "      <td>64</td>\n",
       "      <td>8/31/2016 21:21</td>\n",
       "      <td>San Francisco Caltrain 2 (330 Townsend)</td>\n",
       "      <td>69</td>\n",
       "      <td>442</td>\n",
       "      <td>Subscriber</td>\n",
       "      <td>95126</td>\n",
       "    </tr>\n",
       "    <tr>\n",
       "      <th>1338382</th>\n",
       "      <td>366</td>\n",
       "      <td>8/31/2016 21:19</td>\n",
       "      <td>Market at Sansome</td>\n",
       "      <td>77</td>\n",
       "      <td>8/31/2016 21:25</td>\n",
       "      <td>2nd at Townsend</td>\n",
       "      <td>61</td>\n",
       "      <td>517</td>\n",
       "      <td>Subscriber</td>\n",
       "      <td>94119</td>\n",
       "    </tr>\n",
       "    <tr>\n",
       "      <th>1338384</th>\n",
       "      <td>281</td>\n",
       "      <td>8/31/2016 21:24</td>\n",
       "      <td>Market at 4th</td>\n",
       "      <td>76</td>\n",
       "      <td>8/31/2016 21:28</td>\n",
       "      <td>Washington at Kearny</td>\n",
       "      <td>46</td>\n",
       "      <td>498</td>\n",
       "      <td>Subscriber</td>\n",
       "      <td>94133</td>\n",
       "    </tr>\n",
       "    <tr>\n",
       "      <th>1338386</th>\n",
       "      <td>574</td>\n",
       "      <td>8/31/2016 21:26</td>\n",
       "      <td>Embarcadero at Bryant</td>\n",
       "      <td>54</td>\n",
       "      <td>8/31/2016 21:35</td>\n",
       "      <td>Townsend at 7th</td>\n",
       "      <td>65</td>\n",
       "      <td>273</td>\n",
       "      <td>Subscriber</td>\n",
       "      <td>94107</td>\n",
       "    </tr>\n",
       "    <tr>\n",
       "      <th>1338387</th>\n",
       "      <td>281</td>\n",
       "      <td>8/31/2016 21:29</td>\n",
       "      <td>Commercial at Montgomery</td>\n",
       "      <td>45</td>\n",
       "      <td>8/31/2016 21:34</td>\n",
       "      <td>Harry Bridges Plaza (Ferry Building)</td>\n",
       "      <td>50</td>\n",
       "      <td>495</td>\n",
       "      <td>Subscriber</td>\n",
       "      <td>94107</td>\n",
       "    </tr>\n",
       "    <tr>\n",
       "      <th>1338388</th>\n",
       "      <td>775</td>\n",
       "      <td>8/31/2016 21:35</td>\n",
       "      <td>Powell at Post (Union Square)</td>\n",
       "      <td>71</td>\n",
       "      <td>8/31/2016 21:48</td>\n",
       "      <td>Davis at Jackson</td>\n",
       "      <td>42</td>\n",
       "      <td>504</td>\n",
       "      <td>Subscriber</td>\n",
       "      <td>94109</td>\n",
       "    </tr>\n",
       "    <tr>\n",
       "      <th>1338390</th>\n",
       "      <td>410</td>\n",
       "      <td>8/31/2016 21:57</td>\n",
       "      <td>Market at 4th</td>\n",
       "      <td>76</td>\n",
       "      <td>8/31/2016 22:03</td>\n",
       "      <td>San Francisco Caltrain 2 (330 Townsend)</td>\n",
       "      <td>69</td>\n",
       "      <td>530</td>\n",
       "      <td>Subscriber</td>\n",
       "      <td>94107</td>\n",
       "    </tr>\n",
       "    <tr>\n",
       "      <th>1338391</th>\n",
       "      <td>300</td>\n",
       "      <td>8/31/2016 21:59</td>\n",
       "      <td>2nd at Folsom</td>\n",
       "      <td>62</td>\n",
       "      <td>8/31/2016 22:04</td>\n",
       "      <td>2nd at Townsend</td>\n",
       "      <td>61</td>\n",
       "      <td>694</td>\n",
       "      <td>Subscriber</td>\n",
       "      <td>94107</td>\n",
       "    </tr>\n",
       "    <tr>\n",
       "      <th>1338392</th>\n",
       "      <td>637</td>\n",
       "      <td>8/31/2016 22:05</td>\n",
       "      <td>San Francisco Caltrain (Townsend at 4th)</td>\n",
       "      <td>70</td>\n",
       "      <td>8/31/2016 22:16</td>\n",
       "      <td>South Van Ness at Market</td>\n",
       "      <td>66</td>\n",
       "      <td>524</td>\n",
       "      <td>Subscriber</td>\n",
       "      <td>94117</td>\n",
       "    </tr>\n",
       "    <tr>\n",
       "      <th>1338393</th>\n",
       "      <td>383</td>\n",
       "      <td>8/31/2016 22:07</td>\n",
       "      <td>San Francisco Caltrain 2 (330 Townsend)</td>\n",
       "      <td>69</td>\n",
       "      <td>8/31/2016 22:13</td>\n",
       "      <td>5th at Howard</td>\n",
       "      <td>57</td>\n",
       "      <td>189</td>\n",
       "      <td>Subscriber</td>\n",
       "      <td>94103</td>\n",
       "    </tr>\n",
       "    <tr>\n",
       "      <th>1338394</th>\n",
       "      <td>345</td>\n",
       "      <td>8/31/2016 22:10</td>\n",
       "      <td>San Francisco Caltrain (Townsend at 4th)</td>\n",
       "      <td>70</td>\n",
       "      <td>8/31/2016 22:16</td>\n",
       "      <td>2nd at Townsend</td>\n",
       "      <td>61</td>\n",
       "      <td>415</td>\n",
       "      <td>Subscriber</td>\n",
       "      <td>94107</td>\n",
       "    </tr>\n",
       "    <tr>\n",
       "      <th>1338395</th>\n",
       "      <td>550</td>\n",
       "      <td>8/31/2016 22:16</td>\n",
       "      <td>Grant Avenue at Columbus Avenue</td>\n",
       "      <td>73</td>\n",
       "      <td>8/31/2016 22:25</td>\n",
       "      <td>Spear at Folsom</td>\n",
       "      <td>49</td>\n",
       "      <td>589</td>\n",
       "      <td>Subscriber</td>\n",
       "      <td>94619</td>\n",
       "    </tr>\n",
       "    <tr>\n",
       "      <th>1338396</th>\n",
       "      <td>227</td>\n",
       "      <td>8/31/2016 22:22</td>\n",
       "      <td>Embarcadero at Sansome</td>\n",
       "      <td>60</td>\n",
       "      <td>8/31/2016 22:26</td>\n",
       "      <td>Broadway St at Battery St</td>\n",
       "      <td>82</td>\n",
       "      <td>347</td>\n",
       "      <td>Subscriber</td>\n",
       "      <td>94133</td>\n",
       "    </tr>\n",
       "    <tr>\n",
       "      <th>1338397</th>\n",
       "      <td>978</td>\n",
       "      <td>8/31/2016 22:28</td>\n",
       "      <td>Harry Bridges Plaza (Ferry Building)</td>\n",
       "      <td>50</td>\n",
       "      <td>8/31/2016 22:45</td>\n",
       "      <td>San Francisco Caltrain (Townsend at 4th)</td>\n",
       "      <td>70</td>\n",
       "      <td>630</td>\n",
       "      <td>Subscriber</td>\n",
       "      <td>94158</td>\n",
       "    </tr>\n",
       "    <tr>\n",
       "      <th>1338398</th>\n",
       "      <td>200</td>\n",
       "      <td>8/31/2016 22:31</td>\n",
       "      <td>S. Market St at Park Ave</td>\n",
       "      <td>89</td>\n",
       "      <td>8/31/2016 22:35</td>\n",
       "      <td>San Pedro Square</td>\n",
       "      <td>6</td>\n",
       "      <td>679</td>\n",
       "      <td>Subscriber</td>\n",
       "      <td>95113</td>\n",
       "    </tr>\n",
       "    <tr>\n",
       "      <th>1338399</th>\n",
       "      <td>312</td>\n",
       "      <td>8/31/2016 22:39</td>\n",
       "      <td>Yerba Buena Center of the Arts (3rd @ Howard)</td>\n",
       "      <td>68</td>\n",
       "      <td>8/31/2016 22:44</td>\n",
       "      <td>2nd at Townsend</td>\n",
       "      <td>61</td>\n",
       "      <td>397</td>\n",
       "      <td>Subscriber</td>\n",
       "      <td>94103</td>\n",
       "    </tr>\n",
       "    <tr>\n",
       "      <th>1338400</th>\n",
       "      <td>682</td>\n",
       "      <td>8/31/2016 22:46</td>\n",
       "      <td>Market at 4th</td>\n",
       "      <td>76</td>\n",
       "      <td>8/31/2016 22:57</td>\n",
       "      <td>Townsend at 7th</td>\n",
       "      <td>65</td>\n",
       "      <td>390</td>\n",
       "      <td>Subscriber</td>\n",
       "      <td>94103</td>\n",
       "    </tr>\n",
       "    <tr>\n",
       "      <th>1338401</th>\n",
       "      <td>1008</td>\n",
       "      <td>8/31/2016 22:50</td>\n",
       "      <td>Commercial at Montgomery</td>\n",
       "      <td>45</td>\n",
       "      <td>8/31/2016 23:07</td>\n",
       "      <td>2nd at Townsend</td>\n",
       "      <td>61</td>\n",
       "      <td>191</td>\n",
       "      <td>Subscriber</td>\n",
       "      <td>94107</td>\n",
       "    </tr>\n",
       "    <tr>\n",
       "      <th>1338402</th>\n",
       "      <td>221</td>\n",
       "      <td>8/31/2016 22:52</td>\n",
       "      <td>San Pedro Square</td>\n",
       "      <td>6</td>\n",
       "      <td>8/31/2016 22:56</td>\n",
       "      <td>S. Market St at Park Ave</td>\n",
       "      <td>89</td>\n",
       "      <td>679</td>\n",
       "      <td>Subscriber</td>\n",
       "      <td>95113</td>\n",
       "    </tr>\n",
       "    <tr>\n",
       "      <th>1338403</th>\n",
       "      <td>198</td>\n",
       "      <td>8/31/2016 22:58</td>\n",
       "      <td>Post at Kearny</td>\n",
       "      <td>47</td>\n",
       "      <td>8/31/2016 23:01</td>\n",
       "      <td>Washington at Kearny</td>\n",
       "      <td>46</td>\n",
       "      <td>509</td>\n",
       "      <td>Customer</td>\n",
       "      <td>28211</td>\n",
       "    </tr>\n",
       "    <tr>\n",
       "      <th>1338404</th>\n",
       "      <td>511</td>\n",
       "      <td>8/31/2016 23:05</td>\n",
       "      <td>Davis at Jackson</td>\n",
       "      <td>42</td>\n",
       "      <td>8/31/2016 23:14</td>\n",
       "      <td>Post at Kearny</td>\n",
       "      <td>47</td>\n",
       "      <td>370</td>\n",
       "      <td>Subscriber</td>\n",
       "      <td>94109</td>\n",
       "    </tr>\n",
       "    <tr>\n",
       "      <th>1338405</th>\n",
       "      <td>701</td>\n",
       "      <td>8/31/2016 23:06</td>\n",
       "      <td>San Francisco Caltrain (Townsend at 4th)</td>\n",
       "      <td>70</td>\n",
       "      <td>8/31/2016 23:17</td>\n",
       "      <td>Spear at Folsom</td>\n",
       "      <td>49</td>\n",
       "      <td>175</td>\n",
       "      <td>Subscriber</td>\n",
       "      <td>94133</td>\n",
       "    </tr>\n",
       "    <tr>\n",
       "      <th>1338406</th>\n",
       "      <td>457</td>\n",
       "      <td>8/31/2016 23:06</td>\n",
       "      <td>Davis at Jackson</td>\n",
       "      <td>42</td>\n",
       "      <td>8/31/2016 23:13</td>\n",
       "      <td>Spear at Folsom</td>\n",
       "      <td>49</td>\n",
       "      <td>504</td>\n",
       "      <td>Subscriber</td>\n",
       "      <td>94111</td>\n",
       "    </tr>\n",
       "    <tr>\n",
       "      <th>1338407</th>\n",
       "      <td>260</td>\n",
       "      <td>8/31/2016 23:09</td>\n",
       "      <td>Embarcadero at Bryant</td>\n",
       "      <td>54</td>\n",
       "      <td>8/31/2016 23:14</td>\n",
       "      <td>Steuart at Market</td>\n",
       "      <td>74</td>\n",
       "      <td>226</td>\n",
       "      <td>Subscriber</td>\n",
       "      <td>94114</td>\n",
       "    </tr>\n",
       "    <tr>\n",
       "      <th>1338408</th>\n",
       "      <td>378</td>\n",
       "      <td>8/31/2016 23:32</td>\n",
       "      <td>Washington at Kearny</td>\n",
       "      <td>46</td>\n",
       "      <td>8/31/2016 23:38</td>\n",
       "      <td>Embarcadero at Sansome</td>\n",
       "      <td>60</td>\n",
       "      <td>667</td>\n",
       "      <td>Subscriber</td>\n",
       "      <td>94111</td>\n",
       "    </tr>\n",
       "  </tbody>\n",
       "</table>\n",
       "<p>983648 rows × 10 columns</p>\n",
       "</div>"
      ],
      "text/plain": [
       "         Duration       Start Date  \\\n",
       "Trip ID                              \n",
       "4576           63  8/29/2013 14:13   \n",
       "4607           70  8/29/2013 14:42   \n",
       "4130           71  8/29/2013 10:16   \n",
       "4251           77  8/29/2013 11:29   \n",
       "4299           83  8/29/2013 12:02   \n",
       "4927          103  8/29/2013 18:54   \n",
       "4500          109  8/29/2013 13:25   \n",
       "4563          111  8/29/2013 14:02   \n",
       "4760          113  8/29/2013 17:01   \n",
       "4258          114  8/29/2013 11:33   \n",
       "4549          125  8/29/2013 13:52   \n",
       "4498          126  8/29/2013 13:23   \n",
       "4965          129  8/29/2013 19:32   \n",
       "4557          130  8/29/2013 13:57   \n",
       "4386          134  8/29/2013 12:31   \n",
       "4749          138  8/29/2013 16:57   \n",
       "4242          141  8/29/2013 11:25   \n",
       "4329          142  8/29/2013 12:11   \n",
       "5097          142  8/29/2013 22:21   \n",
       "5084          144  8/29/2013 22:06   \n",
       "4982          146  8/29/2013 19:42   \n",
       "4417          148  8/29/2013 12:45   \n",
       "4265          151  8/29/2013 11:40   \n",
       "5093          160  8/29/2013 22:12   \n",
       "4168          161  8/29/2013 10:56   \n",
       "4550          163  8/29/2013 13:53   \n",
       "4533          165  8/29/2013 13:43   \n",
       "4510          166  8/29/2013 13:31   \n",
       "5070          168  8/29/2013 21:43   \n",
       "4917          169  8/29/2013 18:45   \n",
       "...           ...              ...   \n",
       "1338375      1786  8/31/2016 21:06   \n",
       "1338376       293  8/31/2016 21:08   \n",
       "1338377       554  8/31/2016 21:09   \n",
       "1338378      9256  8/31/2016 21:14   \n",
       "1338380       220  8/31/2016 21:16   \n",
       "1338381       274  8/31/2016 21:17   \n",
       "1338382       366  8/31/2016 21:19   \n",
       "1338384       281  8/31/2016 21:24   \n",
       "1338386       574  8/31/2016 21:26   \n",
       "1338387       281  8/31/2016 21:29   \n",
       "1338388       775  8/31/2016 21:35   \n",
       "1338390       410  8/31/2016 21:57   \n",
       "1338391       300  8/31/2016 21:59   \n",
       "1338392       637  8/31/2016 22:05   \n",
       "1338393       383  8/31/2016 22:07   \n",
       "1338394       345  8/31/2016 22:10   \n",
       "1338395       550  8/31/2016 22:16   \n",
       "1338396       227  8/31/2016 22:22   \n",
       "1338397       978  8/31/2016 22:28   \n",
       "1338398       200  8/31/2016 22:31   \n",
       "1338399       312  8/31/2016 22:39   \n",
       "1338400       682  8/31/2016 22:46   \n",
       "1338401      1008  8/31/2016 22:50   \n",
       "1338402       221  8/31/2016 22:52   \n",
       "1338403       198  8/31/2016 22:58   \n",
       "1338404       511  8/31/2016 23:05   \n",
       "1338405       701  8/31/2016 23:06   \n",
       "1338406       457  8/31/2016 23:06   \n",
       "1338407       260  8/31/2016 23:09   \n",
       "1338408       378  8/31/2016 23:32   \n",
       "\n",
       "                                         Start Station  Start Terminal  \\\n",
       "Trip ID                                                                  \n",
       "4576                          South Van Ness at Market              66   \n",
       "4607                                San Jose City Hall              10   \n",
       "4130                           Mountain View City Hall              27   \n",
       "4251                                San Jose City Hall              10   \n",
       "4299                          South Van Ness at Market              66   \n",
       "4927                               Golden Gate at Polk              59   \n",
       "4500                            Santa Clara at Almaden               4   \n",
       "4563                               San Salvador at 1st               8   \n",
       "4760                          South Van Ness at Market              66   \n",
       "4258                                San Jose City Hall              10   \n",
       "4549                                   Spear at Folsom              49   \n",
       "4498                                  San Pedro Square               6   \n",
       "4965                    Mountain View Caltrain Station              28   \n",
       "4557                                 2nd at South Park              64   \n",
       "4386                                   Clay at Battery              41   \n",
       "4749                                   Post at Kearney              47   \n",
       "4242                                San Jose City Hall              10   \n",
       "4329                                    Market at 10th              67   \n",
       "5097                                 Steuart at Market              74   \n",
       "5084                                Powell Street BART              39   \n",
       "4982                                   Spear at Folsom              49   \n",
       "4417                     Redwood City Caltrain Station              22   \n",
       "4265                           San Francisco City Hall              58   \n",
       "5093                                   Post at Kearney              47   \n",
       "4168                                   Beale at Market              56   \n",
       "4550                                         Japantown               9   \n",
       "4533     Temporary Transbay Terminal (Howard at Beale)              55   \n",
       "4510                             San Jose Civic Center               3   \n",
       "5070                          South Van Ness at Market              66   \n",
       "4917                       Redwood City Medical Center              26   \n",
       "...                                                ...             ...   \n",
       "1338375                                  Market at 4th              76   \n",
       "1338376                Grant Avenue at Columbus Avenue              73   \n",
       "1338377  Yerba Buena Center of the Arts (3rd @ Howard)              68   \n",
       "1338378                                  Howard at 2nd              63   \n",
       "1338380  Yerba Buena Center of the Arts (3rd @ Howard)              68   \n",
       "1338381                              2nd at South Park              64   \n",
       "1338382                              Market at Sansome              77   \n",
       "1338384                                  Market at 4th              76   \n",
       "1338386                          Embarcadero at Bryant              54   \n",
       "1338387                       Commercial at Montgomery              45   \n",
       "1338388                  Powell at Post (Union Square)              71   \n",
       "1338390                                  Market at 4th              76   \n",
       "1338391                                  2nd at Folsom              62   \n",
       "1338392       San Francisco Caltrain (Townsend at 4th)              70   \n",
       "1338393        San Francisco Caltrain 2 (330 Townsend)              69   \n",
       "1338394       San Francisco Caltrain (Townsend at 4th)              70   \n",
       "1338395                Grant Avenue at Columbus Avenue              73   \n",
       "1338396                         Embarcadero at Sansome              60   \n",
       "1338397           Harry Bridges Plaza (Ferry Building)              50   \n",
       "1338398                       S. Market St at Park Ave              89   \n",
       "1338399  Yerba Buena Center of the Arts (3rd @ Howard)              68   \n",
       "1338400                                  Market at 4th              76   \n",
       "1338401                       Commercial at Montgomery              45   \n",
       "1338402                               San Pedro Square               6   \n",
       "1338403                                 Post at Kearny              47   \n",
       "1338404                               Davis at Jackson              42   \n",
       "1338405       San Francisco Caltrain (Townsend at 4th)              70   \n",
       "1338406                               Davis at Jackson              42   \n",
       "1338407                          Embarcadero at Bryant              54   \n",
       "1338408                           Washington at Kearny              46   \n",
       "\n",
       "                End Date                               End Station  \\\n",
       "Trip ID                                                              \n",
       "4576     8/29/2013 14:14                  South Van Ness at Market   \n",
       "4607     8/29/2013 14:43                        San Jose City Hall   \n",
       "4130     8/29/2013 10:17                   Mountain View City Hall   \n",
       "4251     8/29/2013 11:30                        San Jose City Hall   \n",
       "4299     8/29/2013 12:04                            Market at 10th   \n",
       "4927     8/29/2013 18:56                       Golden Gate at Polk   \n",
       "4500     8/29/2013 13:27                          Adobe on Almaden   \n",
       "4563     8/29/2013 14:04                       San Salvador at 1st   \n",
       "4760     8/29/2013 17:03                  South Van Ness at Market   \n",
       "4258     8/29/2013 11:35                               MLK Library   \n",
       "4549     8/29/2013 13:55                     Embarcadero at Bryant   \n",
       "4498     8/29/2013 13:25                    Santa Clara at Almaden   \n",
       "4965     8/29/2013 19:35            Mountain View Caltrain Station   \n",
       "4557     8/29/2013 13:59                         2nd at South Park   \n",
       "4386     8/29/2013 12:33                           Beale at Market   \n",
       "4749     8/29/2013 16:59                           Post at Kearney   \n",
       "4242     8/29/2013 11:27                        San Jose City Hall   \n",
       "4329     8/29/2013 12:14                            Market at 10th   \n",
       "5097     8/29/2013 22:24      Harry Bridges Plaza (Ferry Building)   \n",
       "5084     8/29/2013 22:08                             Market at 4th   \n",
       "4982     8/29/2013 19:44                     Embarcadero at Bryant   \n",
       "4417     8/29/2013 12:48             Redwood City Caltrain Station   \n",
       "4265     8/29/2013 11:42                   San Francisco City Hall   \n",
       "5093     8/29/2013 22:14                         Market at Sansome   \n",
       "4168     8/29/2013 10:59                         Steuart at Market   \n",
       "4550     8/29/2013 13:56                                 Japantown   \n",
       "4533     8/29/2013 13:46                     Embarcadero at Folsom   \n",
       "4510     8/29/2013 13:34                       San Salvador at 1st   \n",
       "5070     8/29/2013 21:46                  South Van Ness at Market   \n",
       "4917     8/29/2013 18:48                          Broadway at Main   \n",
       "...                  ...                                       ...   \n",
       "1338375  8/31/2016 21:36                             Market at 4th   \n",
       "1338376  8/31/2016 21:13                    Embarcadero at Sansome   \n",
       "1338377  8/31/2016 21:18                           2nd at Townsend   \n",
       "1338378  8/31/2016 23:48                             Howard at 2nd   \n",
       "1338380  8/31/2016 21:20                       5th St at Folsom St   \n",
       "1338381  8/31/2016 21:21   San Francisco Caltrain 2 (330 Townsend)   \n",
       "1338382  8/31/2016 21:25                           2nd at Townsend   \n",
       "1338384  8/31/2016 21:28                      Washington at Kearny   \n",
       "1338386  8/31/2016 21:35                           Townsend at 7th   \n",
       "1338387  8/31/2016 21:34      Harry Bridges Plaza (Ferry Building)   \n",
       "1338388  8/31/2016 21:48                          Davis at Jackson   \n",
       "1338390  8/31/2016 22:03   San Francisco Caltrain 2 (330 Townsend)   \n",
       "1338391  8/31/2016 22:04                           2nd at Townsend   \n",
       "1338392  8/31/2016 22:16                  South Van Ness at Market   \n",
       "1338393  8/31/2016 22:13                             5th at Howard   \n",
       "1338394  8/31/2016 22:16                           2nd at Townsend   \n",
       "1338395  8/31/2016 22:25                           Spear at Folsom   \n",
       "1338396  8/31/2016 22:26                 Broadway St at Battery St   \n",
       "1338397  8/31/2016 22:45  San Francisco Caltrain (Townsend at 4th)   \n",
       "1338398  8/31/2016 22:35                          San Pedro Square   \n",
       "1338399  8/31/2016 22:44                           2nd at Townsend   \n",
       "1338400  8/31/2016 22:57                           Townsend at 7th   \n",
       "1338401  8/31/2016 23:07                           2nd at Townsend   \n",
       "1338402  8/31/2016 22:56                  S. Market St at Park Ave   \n",
       "1338403  8/31/2016 23:01                      Washington at Kearny   \n",
       "1338404  8/31/2016 23:14                            Post at Kearny   \n",
       "1338405  8/31/2016 23:17                           Spear at Folsom   \n",
       "1338406  8/31/2016 23:13                           Spear at Folsom   \n",
       "1338407  8/31/2016 23:14                         Steuart at Market   \n",
       "1338408  8/31/2016 23:38                    Embarcadero at Sansome   \n",
       "\n",
       "         End Terminal  Bike # Subscriber Type Zip Code  \n",
       "Trip ID                                                 \n",
       "4576               66     520      Subscriber    94127  \n",
       "4607               10     661      Subscriber    95138  \n",
       "4130               27      48      Subscriber    97214  \n",
       "4251               10      26      Subscriber    95060  \n",
       "4299               67     319      Subscriber    94103  \n",
       "4927               59     527      Subscriber    94109  \n",
       "4500                5     679      Subscriber    95112  \n",
       "4563                8     687      Subscriber    95112  \n",
       "4760               66     553      Subscriber    94103  \n",
       "4258               11     107      Subscriber    95060  \n",
       "4549               54     368      Subscriber    94109  \n",
       "4498                4      26      Subscriber    95112  \n",
       "4965               28     140      Subscriber    94041  \n",
       "4557               64     371      Subscriber    94122  \n",
       "4386               56     503      Subscriber    94109  \n",
       "4749               47     408      Subscriber    94117  \n",
       "4242               10      26      Subscriber    95060  \n",
       "4329               67     319      Subscriber    94103  \n",
       "5097               50     564      Subscriber    94115  \n",
       "5084               76     574      Subscriber    94115  \n",
       "4982               54     542      Subscriber    94105  \n",
       "4417               22     159      Subscriber    94061  \n",
       "4265               58     520      Subscriber    94110  \n",
       "5093               77     442      Subscriber    94115  \n",
       "4168               74     414        Customer    94117  \n",
       "4550                9     684      Subscriber    95112  \n",
       "4533               51     365      Subscriber    94109  \n",
       "4510                8     661      Subscriber    95112  \n",
       "5070               66     598      Subscriber    94115  \n",
       "4917               25     229      Subscriber    94041  \n",
       "...               ...     ...             ...      ...  \n",
       "1338375            76     672        Customer    75075  \n",
       "1338376            60      69      Subscriber    94133  \n",
       "1338377            61     614      Subscriber    94107  \n",
       "1338378            63     259        Customer      nil  \n",
       "1338380            90     652      Subscriber    94710  \n",
       "1338381            69     442      Subscriber    95126  \n",
       "1338382            61     517      Subscriber    94119  \n",
       "1338384            46     498      Subscriber    94133  \n",
       "1338386            65     273      Subscriber    94107  \n",
       "1338387            50     495      Subscriber    94107  \n",
       "1338388            42     504      Subscriber    94109  \n",
       "1338390            69     530      Subscriber    94107  \n",
       "1338391            61     694      Subscriber    94107  \n",
       "1338392            66     524      Subscriber    94117  \n",
       "1338393            57     189      Subscriber    94103  \n",
       "1338394            61     415      Subscriber    94107  \n",
       "1338395            49     589      Subscriber    94619  \n",
       "1338396            82     347      Subscriber    94133  \n",
       "1338397            70     630      Subscriber    94158  \n",
       "1338398             6     679      Subscriber    95113  \n",
       "1338399            61     397      Subscriber    94103  \n",
       "1338400            65     390      Subscriber    94103  \n",
       "1338401            61     191      Subscriber    94107  \n",
       "1338402            89     679      Subscriber    95113  \n",
       "1338403            46     509        Customer    28211  \n",
       "1338404            47     370      Subscriber    94109  \n",
       "1338405            49     175      Subscriber    94133  \n",
       "1338406            49     504      Subscriber    94111  \n",
       "1338407            74     226      Subscriber    94114  \n",
       "1338408            60     667      Subscriber    94111  \n",
       "\n",
       "[983648 rows x 10 columns]"
      ]
     },
     "execution_count": 57,
     "metadata": {},
     "output_type": "execute_result"
    }
   ],
   "source": [
    "trips"
   ]
  },
  {
   "cell_type": "code",
   "execution_count": 58,
   "metadata": {},
   "outputs": [
    {
     "data": {
      "text/plain": [
       "983648"
      ]
     },
     "execution_count": 58,
     "metadata": {},
     "output_type": "execute_result"
    }
   ],
   "source": [
    "len(trips.index)"
   ]
  },
  {
   "cell_type": "code",
   "execution_count": 59,
   "metadata": {},
   "outputs": [
    {
     "name": "stdout",
     "output_type": "stream",
     "text": [
      "<class 'pandas.core.frame.DataFrame'>\n",
      "Int64Index: 983648 entries, 4576 to 1338408\n",
      "Data columns (total 10 columns):\n",
      "Duration           983648 non-null int64\n",
      "Start Date         983648 non-null object\n",
      "Start Station      983648 non-null object\n",
      "Start Terminal     983648 non-null int64\n",
      "End Date           983648 non-null object\n",
      "End Station        983648 non-null object\n",
      "End Terminal       983648 non-null int64\n",
      "Bike #             983648 non-null int64\n",
      "Subscriber Type    983648 non-null object\n",
      "Zip Code           976838 non-null object\n",
      "dtypes: int64(4), object(6)\n",
      "memory usage: 82.6+ MB\n"
     ]
    }
   ],
   "source": [
    "trips.info()"
   ]
  },
  {
   "cell_type": "code",
   "execution_count": 60,
   "metadata": {},
   "outputs": [
    {
     "data": {
      "text/html": [
       "<div>\n",
       "<style>\n",
       "    .dataframe thead tr:only-child th {\n",
       "        text-align: right;\n",
       "    }\n",
       "\n",
       "    .dataframe thead th {\n",
       "        text-align: left;\n",
       "    }\n",
       "\n",
       "    .dataframe tbody tr th {\n",
       "        vertical-align: top;\n",
       "    }\n",
       "</style>\n",
       "<table border=\"1\" class=\"dataframe\">\n",
       "  <thead>\n",
       "    <tr style=\"text-align: right;\">\n",
       "      <th></th>\n",
       "      <th>Duration</th>\n",
       "      <th>Start Terminal</th>\n",
       "      <th>End Terminal</th>\n",
       "      <th>Bike #</th>\n",
       "    </tr>\n",
       "  </thead>\n",
       "  <tbody>\n",
       "    <tr>\n",
       "      <th>count</th>\n",
       "      <td>9.836480e+05</td>\n",
       "      <td>983648.000000</td>\n",
       "      <td>983648.000000</td>\n",
       "      <td>983648.000000</td>\n",
       "    </tr>\n",
       "    <tr>\n",
       "      <th>mean</th>\n",
       "      <td>1.018932e+03</td>\n",
       "      <td>58.121022</td>\n",
       "      <td>58.100089</td>\n",
       "      <td>423.319779</td>\n",
       "    </tr>\n",
       "    <tr>\n",
       "      <th>std</th>\n",
       "      <td>1.841684e+04</td>\n",
       "      <td>16.841133</td>\n",
       "      <td>16.912386</td>\n",
       "      <td>158.071344</td>\n",
       "    </tr>\n",
       "    <tr>\n",
       "      <th>min</th>\n",
       "      <td>6.000000e+01</td>\n",
       "      <td>2.000000</td>\n",
       "      <td>2.000000</td>\n",
       "      <td>9.000000</td>\n",
       "    </tr>\n",
       "    <tr>\n",
       "      <th>25%</th>\n",
       "      <td>3.470000e+02</td>\n",
       "      <td>50.000000</td>\n",
       "      <td>50.000000</td>\n",
       "      <td>328.000000</td>\n",
       "    </tr>\n",
       "    <tr>\n",
       "      <th>50%</th>\n",
       "      <td>5.180000e+02</td>\n",
       "      <td>62.000000</td>\n",
       "      <td>62.000000</td>\n",
       "      <td>437.000000</td>\n",
       "    </tr>\n",
       "    <tr>\n",
       "      <th>75%</th>\n",
       "      <td>7.480000e+02</td>\n",
       "      <td>70.000000</td>\n",
       "      <td>70.000000</td>\n",
       "      <td>544.000000</td>\n",
       "    </tr>\n",
       "    <tr>\n",
       "      <th>max</th>\n",
       "      <td>1.727040e+07</td>\n",
       "      <td>91.000000</td>\n",
       "      <td>91.000000</td>\n",
       "      <td>878.000000</td>\n",
       "    </tr>\n",
       "  </tbody>\n",
       "</table>\n",
       "</div>"
      ],
      "text/plain": [
       "           Duration  Start Terminal   End Terminal         Bike #\n",
       "count  9.836480e+05   983648.000000  983648.000000  983648.000000\n",
       "mean   1.018932e+03       58.121022      58.100089     423.319779\n",
       "std    1.841684e+04       16.841133      16.912386     158.071344\n",
       "min    6.000000e+01        2.000000       2.000000       9.000000\n",
       "25%    3.470000e+02       50.000000      50.000000     328.000000\n",
       "50%    5.180000e+02       62.000000      62.000000     437.000000\n",
       "75%    7.480000e+02       70.000000      70.000000     544.000000\n",
       "max    1.727040e+07       91.000000      91.000000     878.000000"
      ]
     },
     "execution_count": 60,
     "metadata": {},
     "output_type": "execute_result"
    }
   ],
   "source": [
    "trips.describe()"
   ]
  },
  {
   "cell_type": "markdown",
   "metadata": {},
   "source": [
    "## Lets clean up the data set a bit"
   ]
  },
  {
   "cell_type": "code",
   "execution_count": 68,
   "metadata": {},
   "outputs": [
    {
     "name": "stdout",
     "output_type": "stream",
     "text": [
      "Data cleanup started...\n",
      "\tcleaning up column names...\n",
      "Subsetting to useful columns...\n",
      "\tconverting end and start dates to datetime objects...\n",
      "\t\tfinished!\n",
      "\tcreating start and end hour columns...\n",
      "\t\tfinished!\n",
      "\tfinished!\n"
     ]
    }
   ],
   "source": [
    "print('Data cleanup started...')\n",
    "\n",
    "#   cleanup column names\n",
    "print('\\tcleaning up column names...')\n",
    "new_cols = []\n",
    "for col in trips.columns:\n",
    "    new_col = col.replace(' ', '_').lower()\n",
    "    new_cols.append(new_col)\n",
    "trips.columns = new_cols\n",
    "\n",
    "#   extract columns we want to keep\n",
    "print('Subsetting to useful columns...')\n",
    "important_cols = ['duration', 'start_date', 'start_terminal', 'end_date', 'end_terminal', 'bike_#', 'subscriber_type', 'zip_code']\n",
    "trips = trips[important_cols]\n",
    "\n",
    "\n",
    "#   create duration_minutes column\n",
    "trips['duration_minutes'] = trips['duration'] / 60.\n",
    "\n",
    "#   convert end and start dates to datetime objects\n",
    "print('\\tconverting end and start dates to datetime objects...')\n",
    "trips['start_date'] = pd.to_datetime(trips['start_date'], format=\"%m/%d/%Y %H:%M\")\n",
    "trips['end_date'] = pd.to_datetime(trips['end_date'], format=\"%m/%d/%Y %H:%M\")\n",
    "print('\\t\\tfinished!')\n",
    "\n",
    "#   create a start and end hour trip column\n",
    "print('\\tcreating start and end hour columns...')\n",
    "trips['start_hour'] = trips['start_date'].dt.hour\n",
    "trips['end_hour'] = trips['end_date'].dt.hour\n",
    "print('\\t\\tfinished!')\n",
    "\n",
    "# convert zip codes to numeric\n",
    "# trips['zip_code'] = pd.to_numeric(trips['zip_code'], errors='coerce')\n",
    "trips['zip_code'] = trips['zip_code'].astype('str')\n",
    "\n",
    "print('\\tfinished!')"
   ]
  },
  {
   "cell_type": "code",
   "execution_count": 69,
   "metadata": {},
   "outputs": [
    {
     "name": "stdout",
     "output_type": "stream",
     "text": [
      "<class 'pandas.core.frame.DataFrame'>\n",
      "Int64Index: 983648 entries, 4576 to 1338408\n",
      "Data columns (total 11 columns):\n",
      "duration            983648 non-null int64\n",
      "start_date          983648 non-null datetime64[ns]\n",
      "start_terminal      983648 non-null int64\n",
      "end_date            983648 non-null datetime64[ns]\n",
      "end_terminal        983648 non-null int64\n",
      "bike_#              983648 non-null int64\n",
      "subscriber_type     983648 non-null object\n",
      "zip_code            983648 non-null object\n",
      "duration_minutes    983648 non-null float64\n",
      "start_hour          983648 non-null int64\n",
      "end_hour            983648 non-null int64\n",
      "dtypes: datetime64[ns](2), float64(1), int64(6), object(2)\n",
      "memory usage: 90.1+ MB\n"
     ]
    }
   ],
   "source": [
    "trips.info()"
   ]
  },
  {
   "cell_type": "code",
   "execution_count": 70,
   "metadata": {},
   "outputs": [
    {
     "name": "stdout",
     "output_type": "stream",
     "text": [
      "################################################################################\n",
      "#\tColumns and unique values\n",
      "Column : start_terminal\t74\n",
      "[ 2  3  4  5  6  7  8  9 10 11 12 13 14 16 21 22 23 24 25 26 27 28 29 30 31\n",
      " 32 33 34 35 36 37 38 39 41 42 45 46 47 48 49 50 51 54 55 56 57 58 59 60 61\n",
      " 62 63 64 65 66 67 68 69 70 71 72 73 74 75 76 77 80 82 83 84 88 89 90 91]\n",
      "\n",
      "Column : end_terminal\t74\n",
      "[ 2  3  4  5  6  7  8  9 10 11 12 13 14 16 21 22 23 24 25 26 27 28 29 30 31\n",
      " 32 33 34 35 36 37 38 39 41 42 45 46 47 48 49 50 51 54 55 56 57 58 59 60 61\n",
      " 62 63 64 65 66 67 68 69 70 71 72 73 74 75 76 77 80 82 83 84 88 89 90 91]\n",
      "\n",
      "Column : bike_#\t700\n",
      "[  9  10  11  12  13  14  15  16  17  18  19  20  21  22  23  24  25  26\n",
      "  27  28  29  30  31  32  33  34  35  36  37  38  39  40  41  42  43  44\n",
      "  45  46  47  48  49  50  51  52  53  54  55  56  57  58  59  60  61  62\n",
      "  63  64  65  66  67  68  69  70  71  72  74  75  76  77  78  79  80  81\n",
      "  82  83  84  85  86  87  88  89  90  91  92  93  94  95  96  97  98  99\n",
      " 100 101 102 103 104 105 106 107 108 109 110 111 112 116 117 118 119 120\n",
      " 121 122 123 124 125 126 127 128 129 130 131 132 133 134 135 136 137 138\n",
      " 139 140 141 142 143 144 145 146 147 148 149 150 151 152 153 154 155 156\n",
      " 157 158 159 160 161 162 163 164 165 167 168 174 175 176 177 178 179 180\n",
      " 181 182 183 184 185 186 187 188 189 190 191 192 193 194 195 196 197 198\n",
      " 199 200 201 202 203 205 206 207 208 209 210 211 212 213 214 215 216 217\n",
      " 218 219 221 222 223 224 225 226 227 228 229 230 231 232 233 234 235 236\n",
      " 237 238 239 240 241 242 243 244 245 246 247 248 249 250 251 252 253 254\n",
      " 255 256 257 258 259 260 261 262 263 264 265 266 267 268 269 270 271 272\n",
      " 273 274 275 276 277 278 279 280 281 282 283 284 285 286 287 288 289 290\n",
      " 291 292 293 294 295 296 297 298 299 300 301 302 303 304 305 306 307 308\n",
      " 309 310 311 312 313 314 315 316 317 318 319 320 321 322 323 324 325 326\n",
      " 327 328 329 330 331 332 333 334 335 336 337 338 339 340 341 342 343 344\n",
      " 345 347 348 349 350 351 352 353 354 355 356 357 358 359 360 361 362 363\n",
      " 364 365 366 367 368 369 370 371 372 373 374 375 376 377 378 379 380 381\n",
      " 382 383 384 385 386 387 388 389 390 391 392 393 394 395 396 397 398 399\n",
      " 400 401 402 403 404 405 406 407 408 409 410 411 412 413 414 415 416 417\n",
      " 418 419 420 421 422 423 424 425 426 427 428 429 430 431 432 433 434 435\n",
      " 436 437 438 439 440 441 442 443 444 445 446 447 448 449 450 451 452 453\n",
      " 454 455 456 457 458 459 460 461 462 463 464 465 466 467 468 469 470 471\n",
      " 472 473 474 475 476 477 478 479 480 481 482 483 484 485 486 487 488 489\n",
      " 490 491 492 493 494 495 496 497 498 499 500 501 502 503 504 505 506 507\n",
      " 508 509 510 511 512 513 514 515 516 517 518 519 520 521 522 523 524 525\n",
      " 526 527 528 529 530 531 532 533 534 535 536 537 538 539 540 541 542 543\n",
      " 544 545 546 547 548 549 550 551 552 553 554 555 556 557 558 559 560 561\n",
      " 562 563 564 565 566 567 568 569 570 571 572 573 574 575 576 577 578 579\n",
      " 580 581 582 583 584 585 586 587 588 589 590 591 592 593 594 595 596 597\n",
      " 598 599 600 601 602 603 604 605 606 607 608 609 610 611 612 613 614 615\n",
      " 616 617 618 619 620 621 622 623 624 625 626 627 628 629 630 631 632 633\n",
      " 634 635 636 637 638 639 640 641 642 643 644 645 646 647 648 649 650 651\n",
      " 652 653 654 655 656 657 658 659 660 661 662 663 664 665 666 667 668 669\n",
      " 670 671 672 673 674 675 676 677 678 679 680 681 682 683 684 685 686 687\n",
      " 688 689 690 691 692 693 694 695 696 697 698 699 700 701 702 703 704 705\n",
      " 706 707 708 709 710 711 712 713 714 715 716 717 740 876 877 878]\n",
      "\n",
      "Column : subscriber_type\t2\n",
      "['Customer' 'Subscriber']\n",
      "\n",
      "Column : zip_code\t8821\n",
      "['0.0' '1.0' '100.0' ..., '9999.0' '99999.0' 'nan']\n",
      "\n"
     ]
    }
   ],
   "source": [
    "# look at unique values in each column\n",
    "print('#' * 80)\n",
    "print('#\\tColumns and unique values')\n",
    "detail_cols = ['start_terminal', 'end_terminal', 'bike_#', 'subscriber_type', 'zip_code']\n",
    "for col in detail_cols:\n",
    "    print('Column : ' + col + '\\t' + str(len(pd.unique(trips[col]))))\n",
    "    print(np.sort(pd.unique(trips[col])))\n",
    "#     print(pd.unique(trips[col]))\n",
    "    print()"
   ]
  },
  {
   "cell_type": "markdown",
   "metadata": {},
   "source": [
    "## Initial Visual investigation"
   ]
  },
  {
   "cell_type": "code",
   "execution_count": 71,
   "metadata": {},
   "outputs": [
    {
     "data": {
      "image/png": "[encoded data removed]",
      "text/plain": [
       "<matplotlib.figure.Figure at 0x1175ed390>"
      ]
     },
     "metadata": {},
     "output_type": "display_data"
    }
   ],
   "source": [
    "trips.plot(kind='scatter', x='start_hour', y='duration_minutes')\n",
    "plt.title('Trip Duration by Start Hour')\n",
    "plt.xlabel='Start Hour'\n",
    "plt.ylabel='Duration in Minutes'\n",
    "plt.show()"
   ]
  },
  {
   "cell_type": "markdown",
   "metadata": {},
   "source": [
    "Whoa... we have found a pretty significant outlier in this data set, someone had a bike for nearly 300,000 minutes (that is near 200 days!) and we also see some trips that are nearing 50,000 minutes (roughly 34 days).  \n",
    "\n",
    "Lets first remove the largest outlier and take a look at a histogram of ride duration to see the spread of the data."
   ]
  },
  {
   "cell_type": "code",
   "execution_count": 72,
   "metadata": {},
   "outputs": [
    {
     "name": "stdout",
     "output_type": "stream",
     "text": [
      "\tpruning data to trips no more than 35 days long...\n",
      "\t\tpruned data set 'trips' consists of 983647 entries\n"
     ]
    },
    {
     "data": {
      "image/png": "[encoded data removed]",
      "text/plain": [
       "<matplotlib.figure.Figure at 0x13767a630>"
      ]
     },
     "metadata": {},
     "output_type": "display_data"
    }
   ],
   "source": [
    "# our data set show duration in seconds, here are some handy conversions\n",
    "second = 1\n",
    "minute = second * 60\n",
    "hour = minute * 60\n",
    "day = hour * 24\n",
    "\n",
    "# prune data to exclude trips longer than 35 days\n",
    "print('\\tpruning data to trips no more than 35 days long...')\n",
    "trips = trips[trips['duration'] <= 35 * day].copy()\n",
    "print('\\t\\tpruned data set \\'trips\\' consists of %i entries' % len(trips.index))\n",
    "\n",
    "# plot histogram of trip duration\n",
    "trips['duration_minutes'].plot(kind='hist', color='r', alpha=0.25, bins=200, figsize=(20,5))\n",
    "plt.title('Distribution of Trip Duration in Minutes')\n",
    "plt.xlabel='Trip Duration (Minutes)'\n",
    "plt.ylabel='Number of Trips'\n",
    "plt.legend(loc='best')\n",
    "plt.show()"
   ]
  },
  {
   "cell_type": "markdown",
   "metadata": {},
   "source": [
    "Looks like we still have a pretty wide spread, next lets drill into trips that are no more than than 1000 minutes long and see what that distribution looks like."
   ]
  },
  {
   "cell_type": "code",
   "execution_count": 73,
   "metadata": {},
   "outputs": [
    {
     "name": "stdout",
     "output_type": "stream",
     "text": [
      "\tpruning data to trips no more than 1000 minutes long...\n",
      "\t\tpruned data set 'trips' consists of 982667 entries\n"
     ]
    },
    {
     "data": {
      "image/png": "[encoded data removed]",
      "text/plain": [
       "<matplotlib.figure.Figure at 0x1175e9dd8>"
      ]
     },
     "metadata": {},
     "output_type": "display_data"
    }
   ],
   "source": [
    "# prune data to exclude trips longer than 35 days\n",
    "print('\\tpruning data to trips no more than 1000 minutes long...')\n",
    "trips = trips[trips['duration'] <= 1000 * minute].copy()\n",
    "print('\\t\\tpruned data set \\'trips\\' consists of %i entries' % len(trips.index))\n",
    "\n",
    "# plot histogram of trip duration\n",
    "trips['duration_minutes'].plot(kind='hist', color='r', alpha=0.25, bins=200, figsize=(20,5))\n",
    "plt.title('Distribution of Trip Duration in Minutes')\n",
    "plt.xlabel='Trip Duration (Minutes)'\n",
    "plt.ylabel='Number of Trips'\n",
    "plt.legend(loc='best')\n",
    "plt.show()"
   ]
  },
  {
   "cell_type": "markdown",
   "metadata": {},
   "source": [
    "Getting closer, lets prune down to just trips no more than 200 minutes, that looks like it will show all teh data and leave some breathing room"
   ]
  },
  {
   "cell_type": "code",
   "execution_count": 74,
   "metadata": {},
   "outputs": [
    {
     "name": "stdout",
     "output_type": "stream",
     "text": [
      "\tpruning data to trips no more than 200 minutes long...\n",
      "\t\tpruned data set 'trips' consists of 974342 entries\n"
     ]
    },
    {
     "data": {
      "image/png": "[encoded data removed]",
      "text/plain": [
       "<matplotlib.figure.Figure at 0x13766a7b8>"
      ]
     },
     "metadata": {},
     "output_type": "display_data"
    }
   ],
   "source": [
    "# prune data to exclude trips longer than 200 minutes\n",
    "print('\\tpruning data to trips no more than 200 minutes long...')\n",
    "trips = trips[trips['duration'] <= 200 * minute].copy()\n",
    "print('\\t\\tpruned data set \\'trips\\' consists of %i entries' % len(trips.index))\n",
    "\n",
    "# plot histogram of trip duration\n",
    "trips['duration_minutes'].plot(kind='hist', color='r', alpha=0.25, bins=200, figsize=(20,5))\n",
    "plt.title('Distribution of Trip Duration in Minutes')\n",
    "plt.xlabel='Trip Duration (Minutes)'\n",
    "plt.ylabel='Number of Trips'\n",
    "plt.legend(loc='best')\n",
    "plt.show()"
   ]
  },
  {
   "cell_type": "markdown",
   "metadata": {},
   "source": [
    "heck, lets just go for it, it seems that the vast majority of trips are less than 35 minutes, lets just take a look at the distribution of those trips"
   ]
  },
  {
   "cell_type": "code",
   "execution_count": 75,
   "metadata": {},
   "outputs": [
    {
     "name": "stdout",
     "output_type": "stream",
     "text": [
      "\tpruning data to trips no more than 35 minutes long...\n",
      "\t\tpruned data set 'trips' consists of 942712 entries\n"
     ]
    },
    {
     "data": {
      "image/png": "[encoded data removed]",
      "text/plain": [
       "<matplotlib.figure.Figure at 0x137661128>"
      ]
     },
     "metadata": {},
     "output_type": "display_data"
    }
   ],
   "source": [
    "# prune data to exclude trips longer than 35 minutes\n",
    "print('\\tpruning data to trips no more than 35 minutes long...')\n",
    "trips = trips[trips['duration'] <= 35 * minute].copy()\n",
    "print('\\t\\tpruned data set \\'trips\\' consists of %i entries' % len(trips.index))\n",
    "\n",
    "# plot histogram of trip duration\n",
    "trips['duration_minutes'].plot(kind='hist', color='r', alpha=0.25, bins=200, figsize=(20,5))\n",
    "plt.title('Distribution of Trip Duration in Minutes')\n",
    "plt.xlabel='Trip Duration (Minutes)'\n",
    "plt.ylabel='Number of Trips'\n",
    "plt.legend(loc='best')\n",
    "plt.show()"
   ]
  },
  {
   "cell_type": "markdown",
   "metadata": {},
   "source": [
    "Much better! And look, after pruning the original 983648 trips down to just trips no more than 35 minutes long, we still have 942712 trips, so we are looking at 95.8% of the data."
   ]
  },
  {
   "cell_type": "markdown",
   "metadata": {},
   "source": [
    "## Deeper Investigation of Data"
   ]
  },
  {
   "cell_type": "markdown",
   "metadata": {},
   "source": [
    "now that we have a good grasp of the 'important' data. Lets see if we can find any interesting trends."
   ]
  },
  {
   "cell_type": "markdown",
   "metadata": {},
   "source": [
    "### Number of rides by hour of the day"
   ]
  },
  {
   "cell_type": "code",
   "execution_count": 76,
   "metadata": {},
   "outputs": [
    {
     "data": {
      "image/png": "[encoded data removed]",
      "text/plain": [
       "<matplotlib.figure.Figure at 0x137667fd0>"
      ]
     },
     "metadata": {},
     "output_type": "display_data"
    }
   ],
   "source": [
    "# plot trip duration by start hour\n",
    "trips.groupby(['start_hour'])['duration_minutes'].count().plot(kind='bar', color='r')\n",
    "plt.title('Trips by Start Hour')\n",
    "plt.xlabel='Start Hour'\n",
    "plt.legend(['Trips'],loc='best')\n",
    "plt.show()"
   ]
  },
  {
   "cell_type": "markdown",
   "metadata": {},
   "source": [
    "Now this is interesting, it looks like there are distinct spikes in rides starting during commute hours.  Seeing as a lot of cummuters would start and end their trips at different terminals, lets see if there is a difference in trips that start and end at different terminals ('one ways') vs trips that start and end at the same terminal ('round trips')."
   ]
  },
  {
   "cell_type": "markdown",
   "metadata": {},
   "source": [
    "## One Way and Round Trips"
   ]
  },
  {
   "cell_type": "code",
   "execution_count": 77,
   "metadata": {},
   "outputs": [
    {
     "name": "stdout",
     "output_type": "stream",
     "text": [
      "Pruning data to one way trips...\n",
      "\tpruned data set now consists of 926110 lines\n",
      "pruning data to round trips...\n",
      "\tpruned data set now consists of 16602 lines\n"
     ]
    }
   ],
   "source": [
    "print('Pruning data to one way trips...')\n",
    "one_way_trips = trips.loc[trips['start_terminal'] != trips['end_terminal']].copy()\n",
    "print('\\tpruned data set now consists of %i lines' % len(one_way_trips.index))\n",
    "\n",
    "print('pruning data to round trips...')\n",
    "round_trips = trips.loc[trips.loc[:,'start_terminal'] == trips.loc[:,'end_terminal']].copy()\n",
    "print('\\tpruned data set now consists of %i lines' % len(round_trips.index))"
   ]
  },
  {
   "cell_type": "code",
   "execution_count": 78,
   "metadata": {},
   "outputs": [
    {
     "data": {
      "image/png": "[encoded data removed]",
      "text/plain": [
       "<matplotlib.figure.Figure at 0x12c02cf98>"
      ]
     },
     "metadata": {},
     "output_type": "display_data"
    }
   ],
   "source": [
    "# plot trip duration by start hour\n",
    "one_way_trips.groupby(['start_hour'])['duration_minutes'].count().plot(kind='bar', color='b', figsize=(10,5))\n",
    "plt.title('One Way Trips by Start Hour')\n",
    "plt.xlabel='Start Hour'\n",
    "plt.legend(['One Way Trips'],loc='best')\n",
    "plt.show()"
   ]
  },
  {
   "cell_type": "code",
   "execution_count": 79,
   "metadata": {},
   "outputs": [
    {
     "data": {
      "image/png": "[encoded data removed]",
      "text/plain": [
       "<matplotlib.figure.Figure at 0x12c002e10>"
      ]
     },
     "metadata": {},
     "output_type": "display_data"
    }
   ],
   "source": [
    "round_trips.groupby(['start_hour'])['duration_minutes'].count().plot(kind='bar', color='g', figsize=(10,5))\n",
    "plt.title('Round Trips by Start Hour')\n",
    "plt.xlabel='Start Hour'\n",
    "plt.legend(['Round Trips'],loc='best')\n",
    "plt.show()"
   ]
  },
  {
   "cell_type": "code",
   "execution_count": 80,
   "metadata": {},
   "outputs": [
    {
     "data": {
      "image/png": "[encoded data removed]",
      "text/plain": [
       "<matplotlib.figure.Figure at 0x12c00a0b8>"
      ]
     },
     "metadata": {},
     "output_type": "display_data"
    }
   ],
   "source": [
    "# plot trip duration by start hour\n",
    "ax = one_way_trips.groupby(['start_hour'])['duration_minutes'].count().plot(kind='bar',position=0, color='b', figsize=(10,5))\n",
    "round_trips.groupby(['start_hour'])['duration_minutes'].count().plot(kind='bar',position=1, color='g', ax=ax)\n",
    "plt.title('Trips by Start Hour')\n",
    "plt.xlabel='Start Hour'\n",
    "plt.legend(['One Way Trips', 'Round Trips'],loc='best')\n",
    "plt.show()"
   ]
  },
  {
   "cell_type": "markdown",
   "metadata": {},
   "source": [
    "We can see from these three graphs that there are definite spikes in usage during commute hours and that this is nearly all from one way trips.  Separating out the round trip rides, these are mostly taken during waking hours and even have a noticable spike around lunch hours.\n",
    "\n",
    "All together, it is easy to see that the VAST majority of rides taken are one way trips."
   ]
  },
  {
   "cell_type": "markdown",
   "metadata": {},
   "source": [
    "### Next Hypotheis: "
   ]
  },
  {
   "cell_type": "markdown",
   "metadata": {},
   "source": [
    "Looks like we have a lot of one way trips in commute hours, and more round trips during waking hours, even a noteworthy peak right around lunch time!  Next we are going to trip down the data sets again to only include trips to and from stations within San Francisco."
   ]
  },
  {
   "cell_type": "code",
   "execution_count": 81,
   "metadata": {
    "collapsed": true
   },
   "outputs": [],
   "source": [
    "# station ID numbers that are in San Francisco\n",
    "sf_stations = [ 39,41,42,45,46,47,48,49,50,51,54,55,56,57,58,59,60,61,62,63,\n",
    "                64,65,66,67,68,69,70,71,72,73,74,75,76,77,82,90,91]"
   ]
  },
  {
   "cell_type": "code",
   "execution_count": 82,
   "metadata": {},
   "outputs": [
    {
     "name": "stdout",
     "output_type": "stream",
     "text": [
      "complete\n"
     ]
    }
   ],
   "source": [
    "#prune each data set to include only trips where both start and end terminals are inside San Francisco\n",
    "sf_trips = trips.loc[trips['start_terminal'].isin(sf_stations)].copy()\n",
    "sf_trips = trips.loc[trips['end_terminal'].isin(sf_stations)].copy()\n",
    "\n",
    "sf_one_way_trips = one_way_trips.loc[one_way_trips['start_terminal'].isin(sf_stations)].copy()\n",
    "sf_one_way_trips = one_way_trips.loc[one_way_trips['end_terminal'].isin(sf_stations)].copy()\n",
    "\n",
    "sf_round_trips = round_trips.loc[round_trips['start_terminal'].isin(sf_stations)].copy()\n",
    "sf_round_trips = round_trips.loc[round_trips['end_terminal'].isin(sf_stations)].copy()\n",
    "print('complete')\n",
    "\n"
   ]
  },
  {
   "cell_type": "markdown",
   "metadata": {},
   "source": [
    "### Lets visualize these San Francisco only trips"
   ]
  },
  {
   "cell_type": "code",
   "execution_count": 83,
   "metadata": {},
   "outputs": [
    {
     "data": {
      "image/png": "[encoded data removed]",
      "text/plain": [
       "<matplotlib.figure.Figure at 0x113ea6c50>"
      ]
     },
     "metadata": {},
     "output_type": "display_data"
    }
   ],
   "source": [
    "# plot trip duration by start hour\n",
    "sf_trips.groupby(['start_hour'])['duration_minutes'].count().plot(kind='bar', color='r', figsize=(10,5))\n",
    "plt.title('San Francisco Trips by Start Hour')\n",
    "plt.xlabel='Start Hour'\n",
    "plt.legend(['Trips'],loc='best')\n",
    "plt.show()"
   ]
  },
  {
   "cell_type": "code",
   "execution_count": 84,
   "metadata": {},
   "outputs": [
    {
     "data": {
      "image/png": "[encoded data removed]",
      "text/plain": [
       "<matplotlib.figure.Figure at 0x11af98cc0>"
      ]
     },
     "metadata": {},
     "output_type": "display_data"
    }
   ],
   "source": [
    "# plot trip duration by start hour\n",
    "sf_one_way_trips.groupby(['start_hour'])['duration_minutes'].count().plot(kind='bar', color='b', figsize=(10,5))\n",
    "plt.title('San Francisco One Way Trips by Start Hour')\n",
    "plt.xlabel='Start Hour'\n",
    "plt.legend(['One Way Trips'],loc='best')\n",
    "plt.show()"
   ]
  },
  {
   "cell_type": "code",
   "execution_count": 85,
   "metadata": {},
   "outputs": [
    {
     "data": {
      "image/png": "[encoded data removed]",
      "text/plain": [
       "<matplotlib.figure.Figure at 0x10cfc5780>"
      ]
     },
     "metadata": {},
     "output_type": "display_data"
    }
   ],
   "source": [
    "# plot trip duration by start hour\n",
    "sf_round_trips.groupby(['start_hour'])['duration_minutes'].count().plot(kind='bar', color='g', figsize=(10,5))\n",
    "plt.title('San Francisco Round Trips by Start Hour')\n",
    "plt.xlabel='Start Hour'\n",
    "plt.legend(['Round Trips'],loc='best')\n",
    "plt.show()"
   ]
  },
  {
   "cell_type": "markdown",
   "metadata": {},
   "source": [
    "### Visualize Trips that dont include San Francisco terminals\n",
    "\n",
    "To be thurough, lets take a quick peek at non San Francisco Trips to see if these trends are similar.\n"
   ]
  },
  {
   "cell_type": "code",
   "execution_count": 89,
   "metadata": {},
   "outputs": [
    {
     "name": "stdout",
     "output_type": "stream",
     "text": [
      "complete\n"
     ]
    }
   ],
   "source": [
    "#prune each data set to include only trips where both start and end terminals are inside San Francisco\n",
    "non_sf_trips = trips.loc[~trips['start_terminal'].isin(sf_stations)].copy()\n",
    "non_sf_trips = trips.loc[~trips['end_terminal'].isin(sf_stations)].copy()\n",
    "\n",
    "non_sf_one_way_trips = one_way_trips.loc[~one_way_trips['start_terminal'].isin(sf_stations)].copy()\n",
    "non_sf_one_way_trips = one_way_trips.loc[~one_way_trips['end_terminal'].isin(sf_stations)].copy()\n",
    "\n",
    "non_sf_round_trips = round_trips.loc[~round_trips['start_terminal'].isin(sf_stations)].copy()\n",
    "non_sf_round_trips = round_trips.loc[~round_trips['end_terminal'].isin(sf_stations)].copy()\n",
    "print('complete')"
   ]
  },
  {
   "cell_type": "code",
   "execution_count": 90,
   "metadata": {},
   "outputs": [
    {
     "data": {
      "image/png": "[encoded data removed]",
      "text/plain": [
       "<matplotlib.figure.Figure at 0x13714c278>"
      ]
     },
     "metadata": {},
     "output_type": "display_data"
    }
   ],
   "source": [
    "# plot trip duration by start hour\n",
    "non_sf_trips.groupby(['start_hour'])['duration_minutes'].count().plot(kind='bar', color='r', figsize=(10,5))\n",
    "plt.title('Non San Francisco Trips by Start Hour')\n",
    "plt.xlabel='Start Hour'\n",
    "plt.legend(['Trips'],loc='best')\n",
    "plt.show()"
   ]
  },
  {
   "cell_type": "code",
   "execution_count": 91,
   "metadata": {},
   "outputs": [
    {
     "data": {
      "image/png": "[encoded data removed]",
      "text/plain": [
       "<matplotlib.figure.Figure at 0x110006ac8>"
      ]
     },
     "metadata": {},
     "output_type": "display_data"
    }
   ],
   "source": [
    "# plot trip duration by start hour\n",
    "non_sf_one_way_trips.groupby(['start_hour'])['duration_minutes'].count().plot(kind='bar', color='b', figsize=(10,5))\n",
    "plt.title('Non San Francisco One Way Trips by Start Hour')\n",
    "plt.xlabel='Start Hour'\n",
    "plt.legend(['One Way Trips'],loc='best')\n",
    "plt.show()"
   ]
  },
  {
   "cell_type": "code",
   "execution_count": 92,
   "metadata": {},
   "outputs": [
    {
     "data": {
      "image/png": "[encoded data removed]",
      "text/plain": [
       "<matplotlib.figure.Figure at 0x12c025550>"
      ]
     },
     "metadata": {},
     "output_type": "display_data"
    }
   ],
   "source": [
    "# plot trip duration by start hour\n",
    "non_sf_round_trips.groupby(['start_hour'])['duration_minutes'].count().plot(kind='bar', color='g', figsize=(10,5))\n",
    "plt.title('Non San Francisco Round Trips by Start Hour')\n",
    "plt.xlabel='Start Hour'\n",
    "plt.legend(['Round Trips'],loc='best')\n",
    "plt.show()"
   ]
  },
  {
   "cell_type": "code",
   "execution_count": null,
   "metadata": {
    "collapsed": true
   },
   "outputs": [],
   "source": []
  },
  {
   "cell_type": "markdown",
   "metadata": {},
   "source": [
    "### First Conlusion : Bay Area Bike Share is used by Commuters"
   ]
  },
  {
   "cell_type": "markdown",
   "metadata": {},
   "source": [
    "The data set includes an entry for each ride to identify the Subscriber Type.  This is either a 'Subscriber', 'Customer', or 'NaN'.  Subscribers are riders who sign up for monthly or yearly plans so these are more likely than not the same Commuters we have identified so far. So lets test that."
   ]
  },
  {
   "cell_type": "code",
   "execution_count": 98,
   "metadata": {},
   "outputs": [
    {
     "data": {
      "image/png": "[encoded data removed]",
      "text/plain": [
       "<matplotlib.figure.Figure at 0x12bf120f0>"
      ]
     },
     "metadata": {},
     "output_type": "display_data"
    }
   ],
   "source": [
    "# plot trip start time by subscriber type\n",
    "trips.groupby(['start_hour', 'subscriber_type'])['duration_minutes'].count().plot(kind='bar', color='r', figsize=(10,5))\n",
    "plt.title('Trips by Start Hour')\n",
    "plt.xlabel='Start Hour'\n",
    "plt.legend(loc='best')\n",
    "plt.show()"
   ]
  },
  {
   "cell_type": "code",
   "execution_count": 99,
   "metadata": {},
   "outputs": [
    {
     "data": {
      "image/png": "[encoded data removed]",
      "text/plain": [
       "<matplotlib.figure.Figure at 0x12bfd9e48>"
      ]
     },
     "metadata": {},
     "output_type": "display_data"
    }
   ],
   "source": [
    "# plot trip start time by subscriber type\n",
    "one_way_trips.groupby(['start_hour', 'subscriber_type'])['duration_minutes'].count().plot(kind='bar', color='b', figsize=(10,5))\n",
    "plt.title('One Way Trips by Start Hour')\n",
    "plt.xlabel='Start Hour'\n",
    "plt.legend(loc='best')\n",
    "plt.show()"
   ]
  },
  {
   "cell_type": "code",
   "execution_count": 100,
   "metadata": {},
   "outputs": [
    {
     "data": {
      "image/png": "[encoded data removed]",
      "text/plain": [
       "<matplotlib.figure.Figure at 0x12bf2ed30>"
      ]
     },
     "metadata": {},
     "output_type": "display_data"
    }
   ],
   "source": [
    "# plot trip start time by subscriber type\n",
    "round_trips.groupby(['start_hour', 'subscriber_type'])['duration_minutes'].count().plot(kind='bar', color='g', figsize=(10,5))\n",
    "plt.title('Round Trips by Start Hour')\n",
    "plt.xlabel='Start Hour'\n",
    "plt.legend(loc='best')\n",
    "plt.show()"
   ]
  },
  {
   "cell_type": "code",
   "execution_count": 103,
   "metadata": {},
   "outputs": [
    {
     "data": {
      "image/png": "[encoded data removed]",
      "text/plain": [
       "<matplotlib.figure.Figure at 0x12bf57c50>"
      ]
     },
     "metadata": {},
     "output_type": "display_data"
    }
   ],
   "source": [
    "# plot trip start time by subscriber type\n",
    "trips.groupby(['subscriber_type', 'start_hour'])['duration_minutes'].count().plot(kind='bar', color='g', figsize=(10,5))\n",
    "plt.title('Round Trips by Start Hour')\n",
    "plt.xlabel='Start Hour'\n",
    "plt.legend(loc='best')\n",
    "plt.show()"
   ]
  },
  {
   "cell_type": "code",
   "execution_count": null,
   "metadata": {
    "collapsed": true
   },
   "outputs": [],
   "source": []
  }
 ],
 "metadata": {
  "kernelspec": {
   "display_name": "Python 3",
   "language": "python",
   "name": "python3"
  },
  "language_info": {
   "codemirror_mode": {
    "name": "ipython",
    "version": 3
   },
   "file_extension": ".py",
   "mimetype": "text/x-python",
   "name": "python",
   "nbconvert_exporter": "python",
   "pygments_lexer": "ipython3",
   "version": "3.6.2"
  }
 },
 "nbformat": 4,
 "nbformat_minor": 2
}
