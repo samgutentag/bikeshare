{
 "cells": [
  {
   "cell_type": "markdown",
   "metadata": {},
   "source": [
    "# Statistical Analysis of Bay Area Bike Share Data"
   ]
  },
  {
   "cell_type": "markdown",
   "metadata": {},
   "source": [
    "> From our initial Visual Exploratory Data Analysis on the Bay Area BIke Share dataset, we inferred that the vast majority of the trips are taken by cummuters, who are subscribers.\n",
    ">\n",
    "> We will also be retaining from previous analysis that we only need concern ourselves with trips no more than 60 minutes in duration\n",
    ">\n",
    "> Predicting ridership appears pretty easy, commuters need to commute, and customers seem to be mostly starting or ending their trips at propular tourist destinations.\n",
    ">\n",
    "> 1 What factors, if any, have an impact on the duration of rides for customers and subscribers?\n",
    "> \n",
    "> 2 What factors, if any, have an impact on the distance customers and subscribers trips cover?\n",
    "- gps route data is not collected by Bay Area Bike Share, so we will simply be estimating the distance travelled by calulating the distanc between the start and end terminal of each trip\n",
    "- trips that start and end at the same terminal (or'round trips'), are defaulted to a distance of 0.0 km.\n",
    ">\n",
    ">"
   ]
  },
  {
   "cell_type": "code",
   "execution_count": 1,
   "metadata": {
    "collapsed": true
   },
   "outputs": [],
   "source": [
    "%matplotlib inline\n",
    "\n",
    "import matplotlib\n",
    "import numpy as np\n",
    "from scipy import stats\n",
    "import math\n",
    "import matplotlib.pyplot as plt\n",
    "import pandas as pd\n",
    "from glob import glob\n",
    "\n",
    "# geopy pacakge used for calculating distance \n",
    "# between a pair of (lat, long) coordinate tuples\n",
    "from geopy.distance import vincenty\n",
    "\n",
    "\n",
    "import seaborn as sns\n",
    "sns.set()"
   ]
  },
  {
   "cell_type": "markdown",
   "metadata": {},
   "source": [
    "## Load Data"
   ]
  },
  {
   "cell_type": "markdown",
   "metadata": {
    "collapsed": true
   },
   "source": [
    "### Trip Data"
   ]
  },
  {
   "cell_type": "code",
   "execution_count": 2,
   "metadata": {},
   "outputs": [
    {
     "name": "stdout",
     "output_type": "stream",
     "text": [
      "Loading Trip Data...\n",
      "\tFinished file! (1 of 4)\n",
      "\tFinished file! (2 of 4)\n",
      "\tFinished file! (3 of 4)\n",
      "\tFinished file! (4 of 4)\n",
      "Data Loaded Successfully!\n"
     ]
    }
   ],
   "source": [
    "print('Loading Trip Data...')\n",
    "\n",
    "try:\n",
    "    file_path_slug = '../../datasets/bayareabikeshare/*_trip_data.csv'\n",
    "    file_list = glob(file_path_slug)\n",
    "\n",
    "    trip_import = pd.DataFrame()\n",
    "    \n",
    "    counter = 1\n",
    "    chunks = []\n",
    "    \n",
    "    for file in file_list:\n",
    "        for chunk in pd.read_csv(file, chunksize=10000, iterator=True):\n",
    "            chunk = chunk.set_index('Trip ID')\n",
    "            chunk.columns = ['Duration', 'Start Date', 'Start Station', 'Start Terminal', 'End Date', \n",
    "                             'End Station', 'End Terminal', 'Bike #', 'Subscriber Type', 'Zip Code']\n",
    "            chunks.append(chunk)\n",
    "        print('\\tFinished file! (%d of %d)' % (counter, len(file_list)))\n",
    "        counter += 1\n",
    "\n",
    "    trip_import = pd.concat(chunks)\n",
    "    print('Data Loaded Successfully!')\n",
    "\n",
    "except:\n",
    "    print('oops... something went wrong importing the data :(')"
   ]
  },
  {
   "cell_type": "code",
   "execution_count": 3,
   "metadata": {
    "collapsed": true
   },
   "outputs": [],
   "source": [
    "trip_data = trip_import.copy()"
   ]
  },
  {
   "cell_type": "markdown",
   "metadata": {
    "collapsed": true
   },
   "source": [
    "### Weather Data"
   ]
  },
  {
   "cell_type": "code",
   "execution_count": 4,
   "metadata": {},
   "outputs": [
    {
     "name": "stdout",
     "output_type": "stream",
     "text": [
      "Loading Weather Data...\n",
      "\tfinished file! (1 of 4)\n",
      "\tfinished file! (2 of 4)\n",
      "\tfinished file! (3 of 4)\n",
      "\tfinished file! (4 of 4)\n",
      "Data Loaded Successfully!\n"
     ]
    }
   ],
   "source": [
    "print('Loading Weather Data...')\n",
    "\n",
    "try:\n",
    "    file_path_slug = '../../datasets/bayareabikeshare/*_weather_data.csv'\n",
    "    file_list = glob(file_path_slug)\n",
    "\n",
    "    weather_import = pd.DataFrame()\n",
    "\n",
    "    counter = 1\n",
    "    chunks = []\n",
    "\n",
    "    for file in file_list:\n",
    "        for chunk in pd.read_csv(file, chunksize=10000, iterator=True):\n",
    "            chunk.columns = ['Date', 'Max_Temperature_F', 'Mean_Temperature_F', 'Min_TemperatureF', 'Max_Dew_Point_F', \n",
    "                             'MeanDew_Point_F', 'Min_Dewpoint_F', 'Max_Humidity', 'Mean_Humidity', 'Min_Humidity', \n",
    "                             'Max_Sea_Level_Pressure_In', 'Mean_Sea_Level_Pressure_In', 'Min_Sea_Level_Pressure_In', \n",
    "                             'Max_Visibility_Miles', 'Mean_Visibility_Miles', 'Min_Visibility_Miles', \n",
    "                             'Max_Wind_Speed_MPH', 'Mean_Wind_Speed_MPH', 'Max_Gust_Speed_MPH', 'Precipitation_In', \n",
    "                             'Cloud_Cover', 'Events', 'Wind_Dir_Degrees', 'zip']\n",
    "            chunks.append(chunk)\n",
    "        print('\\tfinished file! (%d of %d)'% (counter, len(file_list)))\n",
    "        counter += 1\n",
    "\n",
    "    weather_import = pd.concat(chunks)\n",
    "    print('Data Loaded Successfully!')\n",
    "except:\n",
    "    print('oops... something went wrong loading the data :()')"
   ]
  },
  {
   "cell_type": "code",
   "execution_count": 5,
   "metadata": {
    "collapsed": true
   },
   "outputs": [],
   "source": [
    "weather_data = weather_import.copy()"
   ]
  },
  {
   "cell_type": "markdown",
   "metadata": {},
   "source": [
    "### Station Data"
   ]
  },
  {
   "cell_type": "code",
   "execution_count": 6,
   "metadata": {},
   "outputs": [
    {
     "name": "stdout",
     "output_type": "stream",
     "text": [
      "Loading Station Data...\n",
      "\tFinished file! (1 of 4)\n",
      "\tFinished file! (2 of 4)\n",
      "\tFinished file! (3 of 4)\n",
      "\tFinished file! (4 of 4)\n",
      "Data Loaded Successfully!\n"
     ]
    }
   ],
   "source": [
    "print('Loading Station Data...')\n",
    "\n",
    "try:\n",
    "    file_path_slug = '../../datasets/bayareabikeshare/*_station_data.csv'\n",
    "    file_list = glob(file_path_slug)\n",
    "\n",
    "    station_import = pd.DataFrame()\n",
    "\n",
    "    counter = 1\n",
    "    chunks = []\n",
    "\n",
    "    for file in file_list:\n",
    "        for chunk in pd.read_csv(file, chunksize=10000, iterator=True):\n",
    "            chunk.columns = ['station_id', 'name', 'lat', 'long', 'dockcount', 'landmark', 'installation']            \n",
    "            chunks.append(chunk)\n",
    "        print('\\tFinished file! (%d of %d)' % (counter, len(file_list)))\n",
    "        counter += 1\n",
    "\n",
    "    station_import = pd.concat(chunks)\n",
    "    print('Data Loaded Successfully!')\n",
    "except:\n",
    "    print('oops... something went wrong importing the data :(')"
   ]
  },
  {
   "cell_type": "code",
   "execution_count": 7,
   "metadata": {
    "collapsed": true
   },
   "outputs": [],
   "source": [
    "station_data = station_import.copy()"
   ]
  },
  {
   "cell_type": "markdown",
   "metadata": {},
   "source": [
    "## Cleaning Data"
   ]
  },
  {
   "cell_type": "markdown",
   "metadata": {},
   "source": [
    "### Trip Data"
   ]
  },
  {
   "cell_type": "code",
   "execution_count": 8,
   "metadata": {
    "collapsed": true
   },
   "outputs": [],
   "source": [
    "# our data set show duration in seconds, here are some handy conversions\n",
    "second = 1\n",
    "minute = second * 60\n",
    "hour = minute * 60\n",
    "\n",
    "# zipcodes are all over the place, only keep corrected 5 digit zipcodes, and replace all others with NaNs\n",
    "def clean_zipcode(item):\n",
    "    if len(item) != 5:\n",
    "        # split on '-'\n",
    "        try:\n",
    "            result = item.split('-')[0]\n",
    "        except:\n",
    "            result = item\n",
    "        # split on '.'\n",
    "        try:\n",
    "            result = item.split('.')[0]\n",
    "        except:\n",
    "            result = item\n",
    "        # if len of item is less than 5, return 'NaN'\n",
    "        if len(result) < 5:\n",
    "            result = 'NaN'\n",
    "        else:\n",
    "            # if len result is greater than 5, take at most, first 5 digits\n",
    "            result = result[:5]\n",
    "    else:\n",
    "        result = item\n",
    "    # make sure result is all digits\n",
    "    if result.isdigit():\n",
    "        return result\n",
    "    else:\n",
    "        return 'NaN'"
   ]
  },
  {
   "cell_type": "code",
   "execution_count": 9,
   "metadata": {},
   "outputs": [
    {
     "name": "stdout",
     "output_type": "stream",
     "text": [
      "Trip Data Cleanup Started...\n",
      "\tcleaning column names\n",
      "\tsubsetting to useful columns\n",
      "\tcreating a duration_minutes column\n",
      "\tconverting end and start dates to datetime objects\n",
      "\tcreating trip_date and trip_dow columns\n",
      "\tcreating start_hour and end_hour columns\n",
      "\tcleaning zipcodes\n",
      "cleaning up data types\n",
      "pruning data to trips no more than 60 minutes long...\n",
      "\tpruned data set 'trip_data' consists of 955557 entries\n",
      "Trip Data Cleanup complete\n"
     ]
    }
   ],
   "source": [
    "print('Trip Data Cleanup Started...')\n",
    "\n",
    "# cleanup column names\n",
    "print('\\tcleaning column names')\n",
    "new_cols = []\n",
    "for col in trip_data.columns:\n",
    "    new_cols.append(col.replace(' ', '_').lower())\n",
    "trip_data.columns = new_cols\n",
    "\n",
    "# extract columns we want to keep\n",
    "print('\\tsubsetting to useful columns')\n",
    "important_cols = ['duration', 'start_date', 'start_terminal', 'end_date', 'end_terminal', 'bike_#', 'subscriber_type', 'zip_code']\n",
    "trip_data = trip_data[important_cols]\n",
    "\n",
    "# create duration minutes column\n",
    "print('\\tcreating a duration_minutes column')\n",
    "trip_data['duration_minutes'] = trip_data['duration'] / 60.0\n",
    "\n",
    "# convert end and start dates to datetime objects\n",
    "print('\\tconverting end and start dates to datetime objects')\n",
    "trip_data['start_date'] = pd.to_datetime(trip_data['start_date'], format=\"%m/%d/%Y %H:%M\")\n",
    "trip_data['end_date']   = pd.to_datetime(trip_data['end_date'],   format=\"%m/%d/%Y %H:%M\")\n",
    "\n",
    "# create a start and end hour trip column\n",
    "print('\\tcreating trip_date and trip_dow columns')\n",
    "trip_data['trip_date']  = trip_data['start_date'].dt.date\n",
    "trip_data['trip_dow']  = trip_data['start_date'].dt.weekday\n",
    "trip_data['trip_day']  = trip_data['start_date'].dt.weekday_name\n",
    "\n",
    "print('\\tcreating start_hour and end_hour columns')\n",
    "trip_data['start_hour'] = trip_data['start_date'].dt.hour\n",
    "trip_data['end_hour']   = trip_data['end_date'].dt.hour\n",
    "\n",
    "# convert and clean zipcodes\n",
    "print('\\tcleaning zipcodes')\n",
    "trip_data['zip_code'] = trip_data['zip_code'].astype(str)\n",
    "trip_data.zip_code = trip_data.zip_code.apply(clean_zipcode)\n",
    "trip_data['zip_code'] = pd.to_numeric(trip_data['zip_code'], errors='coerce')\n",
    "\n",
    "# clean up data types\n",
    "print('cleaning up data types')\n",
    "\n",
    "trip_data['duration']         = trip_data['duration'].astype('float')\n",
    "trip_data['start_terminal']   = trip_data['start_terminal'].astype('category')\n",
    "trip_data['end_terminal']     = trip_data['end_terminal'].astype('category')\n",
    "trip_data['bike_#']           = trip_data['bike_#'].astype('int')\n",
    "trip_data['subscriber_type']  = trip_data['subscriber_type'].astype('category')\n",
    "trip_data['zip_code']         = trip_data['zip_code'].astype('str')\n",
    "trip_data['duration_minutes'] = trip_data['duration_minutes'].astype('float')\n",
    "trip_data['trip_dow']         = trip_data['trip_dow'].astype('category')\n",
    "trip_data['trip_day']         = trip_data['trip_day'].astype('category')\n",
    "\n",
    "# prune data to exclude trips longer than 60 minutes\n",
    "print('pruning data to trips no more than 60 minutes long...')\n",
    "trip_data = trip_data[trip_data['duration_minutes'] <= 60]\n",
    "\n",
    "# Cleanup\n",
    "trip_data.sort_index(inplace=True)\n",
    "print('\\tpruned data set \\'trip_data\\' consists of %i entries' % len(trip_data.index))\n",
    "\n",
    "print('Trip Data Cleanup complete')\n",
    "trip_clean = trip_data.copy()"
   ]
  },
  {
   "cell_type": "markdown",
   "metadata": {},
   "source": [
    "### Weather Data"
   ]
  },
  {
   "cell_type": "code",
   "execution_count": 10,
   "metadata": {},
   "outputs": [
    {
     "name": "stdout",
     "output_type": "stream",
     "text": [
      "Weather Data Cleanup Started...\n",
      "\tcleaning column names\n",
      "\tconverting dates to datetime objects\n",
      "\tsubsetting to useful columns\n",
      "Weather Data Cleanup complete\n"
     ]
    }
   ],
   "source": [
    "print('Weather Data Cleanup Started...')\n",
    "\n",
    "# cleanup column names\n",
    "print('\\tcleaning column names')\n",
    "new_cols = []\n",
    "for col in weather_data.columns:\n",
    "    new_cols.append(col.replace(' ', '_').lower())\n",
    "weather_data.columns = new_cols\n",
    "\n",
    "# convert end and start dates to datetime objects\n",
    "print('\\tconverting dates to datetime objects')\n",
    "weather_data['date'] = pd.to_datetime(weather_data['date'], format=\"%m/%d/%Y\")\n",
    "\n",
    "# extract columns we want to keep\n",
    "print('\\tsubsetting to useful columns')\n",
    "important_cols = ['date', 'max_temperature_f', 'mean_temperature_f', 'min_temperaturef',\n",
    "                  'max_dew_point_f', 'meandew_point_f', 'min_dewpoint_f',\n",
    "                  'max_wind_speed_mph', 'mean_wind_speed_mph', 'max_gust_speed_mph',\n",
    "                  'precipitation_in', 'cloud_cover', 'events', 'zip']\n",
    "weather_data = weather_data[important_cols]\n",
    "\n",
    "# correct min_temperaturef column name to min_temperature_f\n",
    "weather_data.rename(columns={'min_temperaturef': 'min_temperature_f'}, inplace=True)\n",
    "\n",
    "# cleanup and set date as index\n",
    "weather_data.set_index('date', inplace=True)\n",
    "weather_data.sort_index(inplace=True)\n",
    "\n",
    "# cleanup precipitation data to be all float values\n",
    "weather_data['precipitation_in'] = pd.to_numeric(weather_data['precipitation_in'], errors='coerce')\n",
    "\n",
    "# we only want San Francisco Weather information, zipcode 94107\n",
    "weather_data = weather_data[weather_data.zip == 94107]\n",
    "\n",
    "print('Weather Data Cleanup complete')\n",
    "weather_clean = weather_data.copy()"
   ]
  },
  {
   "cell_type": "markdown",
   "metadata": {},
   "source": [
    "### Station Data"
   ]
  },
  {
   "cell_type": "code",
   "execution_count": 11,
   "metadata": {
    "collapsed": true
   },
   "outputs": [],
   "source": [
    "def label_zip(row):\n",
    "    if row['landmark'] == 'San Francisco':\n",
    "       return '94107'\n",
    "    if row['landmark'] == 'Redwood City':\n",
    "        return '94063'\n",
    "    if row['landmark'] == 'Palo Alto':\n",
    "        return '94301'\n",
    "    if row['landmark'] == 'Mountain View':\n",
    "        return '94041'\n",
    "    if row['landmark'] == 'San Jose':\n",
    "        return '95113'\n",
    "    return '99999'\n",
    "\n",
    "def make_lat_long(row):\n",
    "    lat = row['lat']\n",
    "    long = row['long']\n",
    "    return (lat, long)"
   ]
  },
  {
   "cell_type": "code",
   "execution_count": 12,
   "metadata": {},
   "outputs": [
    {
     "name": "stdout",
     "output_type": "stream",
     "text": [
      "remove dulplicates\n",
      "set datatype for each column\n",
      "correcting index\n",
      "Cleaning complete!\n",
      "<class 'pandas.core.frame.DataFrame'>\n",
      "Int64Index: 77 entries, 2 to 91\n",
      "Data columns (total 8 columns):\n",
      "name            77 non-null object\n",
      "lat             77 non-null float64\n",
      "long            77 non-null float64\n",
      "dockcount       77 non-null float64\n",
      "landmark        77 non-null category\n",
      "installation    77 non-null object\n",
      "zip_code        77 non-null object\n",
      "lat_long        77 non-null object\n",
      "dtypes: category(1), float64(3), object(4)\n",
      "memory usage: 5.1+ KB\n"
     ]
    }
   ],
   "source": [
    "station_data = station_import.copy()\n",
    "\n",
    "# remove dulplicates\n",
    "print('remove dulplicates')\n",
    "station_data.drop_duplicates(keep='first', inplace=True)\n",
    "station_data.dropna(how='all', inplace=True)\n",
    "\n",
    "# set datatype for each column\n",
    "print('set datatype for each column')\n",
    "station_data['station_id']   = station_data['station_id'].astype('int')\n",
    "station_data['name']         = station_data['name'].astype('str')\n",
    "station_data['lat']          = station_data['lat'].astype('float')\n",
    "station_data['long']         = station_data['long'].astype('float')\n",
    "station_data['landmark']     = station_data['landmark'].astype('category')\n",
    "\n",
    "# add a zipcode column for later comparison with weather data\n",
    "station_data['zip_code'] = station_data.apply(lambda row: label_zip (row),axis=1)\n",
    "# station_data['zip_code'] = station_data['landmark'].astype('str')\n",
    "\n",
    "# create lat,lon tuple column\n",
    "station_data['lat_long'] = station_data.apply(lambda row: make_lat_long (row),axis=1)\n",
    "\n",
    "# reindex to remove some extra duplicate\n",
    "print('correcting index')\n",
    "station_data.reset_index(inplace=True)\n",
    "station_data.drop_duplicates(['station_id', 'installation'], keep='first', inplace=True)\n",
    "station_data.set_index('station_id', inplace=True)\n",
    "station_data.sort_index(inplace=True)\n",
    "del station_data['index']\n",
    "\n",
    "station_clean = station_data.copy()\n",
    "print('Cleaning complete!')\n",
    "station_clean.info()"
   ]
  },
  {
   "cell_type": "markdown",
   "metadata": {},
   "source": [
    "## Appending Distance Data to Trips"
   ]
  },
  {
   "cell_type": "code",
   "execution_count": 13,
   "metadata": {
    "collapsed": true
   },
   "outputs": [],
   "source": [
    "def route_distance(row):\n",
    "    \n",
    "    # round trips are defaulting to zero km\n",
    "    if row['start_terminal'] == row['end_terminal']:\n",
    "        dist = 0.0\n",
    "    else:\n",
    "        # lookup start_station id coords\n",
    "        start_gps = station_clean.loc[row['start_terminal']]['lat_long']\n",
    "        end_gps = station_clean.loc[row['end_terminal']]['lat_long']\n",
    "\n",
    "        if isinstance(start_gps, pd.core.series.Series):\n",
    "            start_gps = start_gps.iloc[-1]\n",
    "        if isinstance(end_gps, pd.core.series.Series):\n",
    "            end_gps = end_gps.iloc[-1]\n",
    "        # sloppy lookup, uses most recent station coordinates\n",
    "        # does not account for stations that are relocated over time correctly\n",
    "        try:\n",
    "            dist = str(vincenty(start_gps, end_gps))\n",
    "            dist = float(dist.split(' ')[0])\n",
    "        except:\n",
    "            dist = 'NaN'  \n",
    "    return dist\n",
    "    "
   ]
  },
  {
   "cell_type": "code",
   "execution_count": 14,
   "metadata": {
    "collapsed": true
   },
   "outputs": [],
   "source": [
    "trip_clean['distance_km'] = trip_clean.apply(lambda row: route_distance (row),axis=1)"
   ]
  },
  {
   "cell_type": "markdown",
   "metadata": {},
   "source": [
    "## Splitting up Rainy and Dry Days"
   ]
  },
  {
   "cell_type": "code",
   "execution_count": 15,
   "metadata": {
    "collapsed": true
   },
   "outputs": [],
   "source": [
    "# split up rainy days and dry days\n",
    "rainy_days = weather_clean[ weather_clean['precipitation_in'] > 0.0].reset_index()\n",
    "dry_days =   weather_clean[-weather_clean['precipitation_in'] > 0.0].reset_index()\n",
    "\n",
    "# All trips\n",
    "rainy_trips = trip_clean[ trip_clean['start_date'].dt.date.isin(rainy_days['date'].dt.date)]\n",
    "dry_trips   = trip_clean[-trip_clean['start_date'].dt.date.isin(rainy_days['date'].dt.date)]\n",
    "\n",
    "# Customer Trips\n",
    "customer_rainy_trips = rainy_trips[rainy_trips.subscriber_type == 'Customer']\n",
    "customer_dry_trips = dry_trips[dry_trips.subscriber_type == 'Customer']\n",
    "\n",
    "# Subscriber Trips\n",
    "subscriber_rainy_trips = rainy_trips[rainy_trips.subscriber_type == 'Subscriber']\n",
    "subscriber_dry_trips = dry_trips[dry_trips.subscriber_type == 'Subscriber']"
   ]
  },
  {
   "cell_type": "code",
   "execution_count": 26,
   "metadata": {
    "collapsed": true
   },
   "outputs": [],
   "source": [
    "def calculate_stats(data1, data2):\n",
    "\n",
    "    # means\n",
    "    data1_mean = data1.mean()\n",
    "    data2_mean = data2.mean()\n",
    "    diff_mean = data1_mean - data2_mean\n",
    "    print('Diff of means:\\t\\t', diff_mean)\n",
    "\n",
    "    # calculate t statistic and p value with scipy\n",
    "    t, p = stats.ttest_ind(data1, data2)\n",
    "    print('T Test')\n",
    "    print('\\tt statistic:\\t\\t', t)\n",
    "    print('\\tp value:\\t\\t', p)\n",
    "    print('')\n",
    "    u, p2 = stats.mannwhitneyu(data1, data2)\n",
    "    print('MannWhitneyU Test')\n",
    "    print('\\tu statistic:\\t\\t', u)\n",
    "    print('\\tp value:\\t\\t', p2)"
   ]
  },
  {
   "cell_type": "markdown",
   "metadata": {},
   "source": [
    "## Analysis"
   ]
  },
  {
   "cell_type": "markdown",
   "metadata": {},
   "source": [
    "### 1. Does Rain Affect Trips Duration of Customers or of Subscribers?\n",
    "\n",
    "> A <b>Two Sample T Test</b> is appropriate for this problem as we are trying to see a difference between two sample means\n",
    "- Mean ride duration on rainy days vs mean ride duration on dry days\n",
    ">\n",
    ">\n",
    "> ##### Customer Trips\n",
    "- $HC$o : Customer Mean Trip Duration on Rainy Days = Customer Mean Trip Duration on Dry Days\n",
    "- $HC$a : Customer Mean Trip Duration on Rainy Days ≠ Customer Mean Trip Duration on Dry Days\n",
    ">\n",
    "> ##### Subscriber Trips\n",
    "- $HS$o : Subscriber Mean Trip Duration on Rainy Days = Subscriber Mean Trip Duration on Dry Days\n",
    "- $HS$a : Subscriber Mean Trip Duration on Rainy Days ≠ Subscriber Mean Trip Duration on Dry Days"
   ]
  },
  {
   "cell_type": "markdown",
   "metadata": {},
   "source": [
    "### 1. Results\n",
    "\n",
    "> #### Customer Trips\n",
    "> Mean trip durations on rainy days are equal mean trip durations on dry days\n",
    "- T Statistic <b>-1.7365</b> \n",
    "- P Value <b>0.08248</b> which is above the 0.05 threshhold thus we <b>can not reject</b> the $HC$o\n",
    "- Trips are <b>0.2751 minutes</b> shorter on rainy days than on dry days\n",
    "\n",
    "> #### Subscriber Trips\n",
    "> Mean trip durations on rainy days are not equal to mean trip durations on dry days\n",
    "- T Statistic <b>-11.5929</b> \n",
    "- P Value <b>4.4994e-31</b> which is well below the 0.05 threshhold thus we <b>reject</b> the $HS$o\n",
    "- Trips are <b>0.2209 minutes</b> shorter on rainy days than on dry days\n",
    "\n"
   ]
  },
  {
   "cell_type": "markdown",
   "metadata": {},
   "source": [
    "### 1. Calculations"
   ]
  },
  {
   "cell_type": "code",
   "execution_count": 27,
   "metadata": {},
   "outputs": [
    {
     "name": "stdout",
     "output_type": "stream",
     "text": [
      "----------------------------------------\n",
      "Customer Trips\n",
      "Diff of means:\t\t -0.275120342289\n",
      "T Test\n",
      "\tt statistic:\t\t -1.73648012142\n",
      "\tp value:\t\t 0.082481751059\n",
      "\n",
      "MannWhitneyU Test\n",
      "\tu statistic:\t\t 308648201.0\n",
      "\tp value:\t\t 0.00241488522356\n",
      "\n",
      "----------------------------------------\n",
      "Subscriber Trips\n",
      "Diff of means:\t\t -0.220882225077\n",
      "T Test\n",
      "\tt statistic:\t\t -11.5929405235\n",
      "\tp value:\t\t 4.49935224043e-31\n",
      "\n",
      "MannWhitneyU Test\n",
      "\tu statistic:\t\t 24951117385.0\n",
      "\tp value:\t\t 1.51337751004e-27\n",
      "\n",
      "----------------------------------------\n"
     ]
    }
   ],
   "source": [
    "# Customer Trips Only\n",
    "customer_rainy_data = customer_rainy_trips.duration_minutes\n",
    "customer_dry_data = customer_dry_trips.duration_minutes\n",
    "\n",
    "# Subscriber Trips Only\n",
    "subscriber_rainy_data = subscriber_rainy_trips.duration_minutes\n",
    "subscriber_dry_data = subscriber_dry_trips.duration_minutes\n",
    "\n",
    "print('-' * 40)\n",
    "print('Customer Trips')\n",
    "calculate_stats(customer_rainy_data, customer_dry_data)\n",
    "print()\n",
    "print('-' * 40)\n",
    "print('Subscriber Trips')\n",
    "calculate_stats(subscriber_rainy_data, subscriber_dry_data)\n",
    "print()\n",
    "print('-' * 40)"
   ]
  },
  {
   "cell_type": "markdown",
   "metadata": {},
   "source": [
    "### 2. Does Rain Affect Trips Distance of Customers or of Subscribers?\n",
    "\n",
    "> A <b>Two Sample T Test</b> is appropriate for this problem as we are trying to see a difference between two sample means\n",
    "- Mean ride duration on rainy days vs mean ride duration on dry days\n",
    ">\n",
    ">\n",
    "> ##### Customer Trips\n",
    "- $HC$o : Customer Mean Trip Distance on Rainy Days = Customer Mean Trip Distance on Dry Days\n",
    "- $HC$a : Customer Mean Trip Distance on Rainy Days ≠ Customer Mean Trip Distance on Dry Days\n",
    ">\n",
    "> ##### Subscriber Trips\n",
    "- $HS$o : Subscriber Mean Trip Distance on Rainy Days = Subscriber Mean Trip Distance on Dry Days\n",
    "- $HS$a : Subscriber Mean Trip Distance on Rainy Days ≠ Subscriber Mean Trip Distance on Dry Days"
   ]
  },
  {
   "cell_type": "markdown",
   "metadata": {},
   "source": [
    "### 2. Results\n",
    "\n",
    "> #### Customer Trips\n",
    "> Mean trip durations on rainy days are equal mean trip durations on dry days\n",
    "- T Statistic <b>-0.5084</b> \n",
    "- P Value <b>0.61114</b> which is above the 0.05 threshhold thus we <b>can not reject</b> the $HC$o\n",
    "- Trips are <b>0.00575 km</b> shorter on rainy days than on dry days\n",
    "\n",
    "> #### Subscriber Trips\n",
    "> Mean trip durations on rainy days are not equal to mean trip durations on dry days\n",
    "- T Statistic <b>-7.6683</b> \n",
    "- P Value <b>1.7454e-14</b> which is well below the 0.05 threshhold thus we <b>reject</b> the $HS$o\n",
    "- Trips are <b>0.0208 km</b> shorter on rainy days than on dry days"
   ]
  },
  {
   "cell_type": "markdown",
   "metadata": {},
   "source": [
    "### 2. Calculations"
   ]
  },
  {
   "cell_type": "code",
   "execution_count": 29,
   "metadata": {},
   "outputs": [
    {
     "name": "stdout",
     "output_type": "stream",
     "text": [
      "----------------------------------------\n",
      "Customer Trips\n",
      "Diff of means:\t\t -0.00574703603401\n",
      "T Test\n",
      "\tt statistic:\t\t -0.508445482701\n",
      "\tp value:\t\t 0.611141973357\n",
      "\n",
      "MannWhitneyU Test\n",
      "\tu statistic:\t\t 314552413.5\n",
      "\tp value:\t\t 0.354134642576\n",
      "\n",
      "----------------------------------------\n",
      "Subscriber Trips\n",
      "Diff of means:\t\t -0.0207895550312\n",
      "T Test\n",
      "\tt statistic:\t\t -7.668250999\n",
      "\tp value:\t\t 1.74542010787e-14\n",
      "\n",
      "MannWhitneyU Test\n",
      "\tu statistic:\t\t 25155397054.5\n",
      "\tp value:\t\t 6.37062320397e-14\n",
      "\n",
      "----------------------------------------\n"
     ]
    }
   ],
   "source": [
    "# Customer Trips Only\n",
    "customer_rainy_data = customer_rainy_trips.distance_km\n",
    "customer_dry_data = customer_dry_trips.distance_km\n",
    "\n",
    "# Subscriber Trips Only\n",
    "subscriber_rainy_data = subscriber_rainy_trips.distance_km\n",
    "subscriber_dry_data = subscriber_dry_trips.distance_km\n",
    "\n",
    "print('-' * 40)\n",
    "print('Customer Trips')\n",
    "calculate_stats(customer_rainy_data, customer_dry_data)\n",
    "print()\n",
    "print('-' * 40)\n",
    "print('Subscriber Trips')\n",
    "calculate_stats(subscriber_rainy_data, subscriber_dry_data)\n",
    "print()\n",
    "print('-' * 40)"
   ]
  },
  {
   "cell_type": "code",
   "execution_count": null,
   "metadata": {
    "collapsed": true
   },
   "outputs": [],
   "source": []
  },
  {
   "cell_type": "code",
   "execution_count": null,
   "metadata": {
    "collapsed": true
   },
   "outputs": [],
   "source": []
  },
  {
   "cell_type": "code",
   "execution_count": 30,
   "metadata": {
    "collapsed": true
   },
   "outputs": [],
   "source": [
    "morning_commute = 'hello'"
   ]
  },
  {
   "cell_type": "raw",
   "metadata": {},
   "source": []
  },
  {
   "cell_type": "code",
   "execution_count": null,
   "metadata": {
    "collapsed": true
   },
   "outputs": [],
   "source": []
  },
  {
   "cell_type": "code",
   "execution_count": null,
   "metadata": {
    "collapsed": true
   },
   "outputs": [],
   "source": []
  },
  {
   "cell_type": "code",
   "execution_count": null,
   "metadata": {
    "collapsed": true
   },
   "outputs": [],
   "source": []
  },
  {
   "cell_type": "code",
   "execution_count": null,
   "metadata": {
    "collapsed": true
   },
   "outputs": [],
   "source": []
  },
  {
   "cell_type": "code",
   "execution_count": null,
   "metadata": {
    "collapsed": true
   },
   "outputs": [],
   "source": []
  },
  {
   "cell_type": "code",
   "execution_count": null,
   "metadata": {
    "collapsed": true
   },
   "outputs": [],
   "source": []
  }
 ],
 "metadata": {
  "kernelspec": {
   "display_name": "Python 3",
   "language": "python",
   "name": "python3"
  },
  "language_info": {
   "codemirror_mode": {
    "name": "ipython",
    "version": 3
   },
   "file_extension": ".py",
   "mimetype": "text/x-python",
   "name": "python",
   "nbconvert_exporter": "python",
   "pygments_lexer": "ipython3",
   "version": "3.6.3"
  }
 },
 "nbformat": 4,
 "nbformat_minor": 2
}
