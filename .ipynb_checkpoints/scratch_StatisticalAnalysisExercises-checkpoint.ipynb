{
 "cells": [
  {
   "cell_type": "code",
   "execution_count": 1,
   "metadata": {
    "collapsed": true
   },
   "outputs": [],
   "source": [
    "%matplotlib inline\n",
    "\n",
    "import numpy as np\n",
    "import pandas as pd\n",
    "import matplotlib.pyplot as plt\n",
    "import seaborn as sns\n",
    "from glob import glob\n",
    "\n",
    "sns.set()"
   ]
  },
  {
   "cell_type": "code",
   "execution_count": 2,
   "metadata": {
    "collapsed": true
   },
   "outputs": [],
   "source": [
    "# station ID numbers that are in San Francisco\n",
    "sf_stations = [ 39,41,42,45,46,47,48,49,50,51,54,55,56,57,58,59,60,61,62,63,\n",
    "                64,65,66,67,68,69,70,71,72,73,74,75,76,77,82,90,91]"
   ]
  },
  {
   "cell_type": "markdown",
   "metadata": {},
   "source": [
    "## Load Trip Data"
   ]
  },
  {
   "cell_type": "code",
   "execution_count": 3,
   "metadata": {},
   "outputs": [
    {
     "name": "stdout",
     "output_type": "stream",
     "text": [
      "Loading Trip Data...\n",
      "\tfinished file! (1 of 4)\n",
      "\tfinished file! (2 of 4)\n",
      "\tfinished file! (3 of 4)\n",
      "\tfinished file! (4 of 4)\n",
      "Data Loaded Successfully!\n",
      "<class 'pandas.core.frame.DataFrame'>\n",
      "Int64Index: 983648 entries, 913465 to 198776\n",
      "Data columns (total 10 columns):\n",
      "Duration           983648 non-null int64\n",
      "Start Date         983648 non-null object\n",
      "Start Station      983648 non-null object\n",
      "Start Terminal     983648 non-null int64\n",
      "End Date           983648 non-null object\n",
      "End Station        983648 non-null object\n",
      "End Terminal       983648 non-null int64\n",
      "Bike #             983648 non-null int64\n",
      "Subscriber Type    983648 non-null object\n",
      "Zip Code           976838 non-null object\n",
      "dtypes: int64(4), object(6)\n",
      "memory usage: 82.6+ MB\n"
     ]
    }
   ],
   "source": [
    "print('Loading Trip Data...')\n",
    "\n",
    "try:\n",
    "    file_path_slug = '../../datasets/bayareabikeshare/*_trip_data.csv'\n",
    "    \n",
    "    # glob all files\n",
    "    file_list = glob(file_path_slug)\n",
    "    \n",
    "    trip = pd.DataFrame()\n",
    "    \n",
    "    counter = 1\n",
    "    chunks = []\n",
    "    \n",
    "    # load data from each file\n",
    "    for file in file_list:\n",
    "        \n",
    "        # import file in chunks\n",
    "        for chunk in pd.read_csv(file, chunksize=10000, iterator=True):\n",
    "            \n",
    "            chunk = chunk.set_index('Trip ID')\n",
    "            \n",
    "            chunk.columns = ['Duration', 'Start Date', 'Start Station', 'Start Terminal', 'End Date', \n",
    "                             'End Station', 'End Terminal', 'Bike #', 'Subscriber Type', 'Zip Code']\n",
    "\n",
    "            chunks.append(chunk)\n",
    "            \n",
    "        print('\\tfinished file! (%d of %d)'% (counter, len(file_list)))\n",
    "        counter += 1\n",
    "    \n",
    "    # concat chunks\n",
    "    trip = pd.concat(chunks)\n",
    "    \n",
    "    print('Data Loaded Successfully!')\n",
    "except:\n",
    "    print('oops... something went wrong loading the data :()')\n",
    "    \n",
    "trip.info()"
   ]
  },
  {
   "cell_type": "markdown",
   "metadata": {},
   "source": [
    "## Load Weather Data"
   ]
  },
  {
   "cell_type": "code",
   "execution_count": 4,
   "metadata": {},
   "outputs": [
    {
     "name": "stdout",
     "output_type": "stream",
     "text": [
      "Loading Weather Data...\n",
      "\tfinished file! (1 of 4)\n",
      "\tfinished file! (2 of 4)\n",
      "\tfinished file! (3 of 4)\n",
      "\tfinished file! (4 of 4)\n",
      "Data Loaded Successfully!\n",
      "<class 'pandas.core.frame.DataFrame'>\n",
      "Index: 5495 entries, 3/1/2014 to 8/31/2015\n",
      "Data columns (total 23 columns):\n",
      "Max_Temperature_F             5491 non-null float64\n",
      "Mean_Temperature_F            5491 non-null float64\n",
      "Min_TemperatureF              5491 non-null float64\n",
      "Max_Dew_Point_F               5441 non-null float64\n",
      "MeanDew_Point_F               5441 non-null float64\n",
      "Min_Dewpoint_F                5441 non-null float64\n",
      "Max_Humidity                  5441 non-null float64\n",
      "Mean_Humidity                 5441 non-null float64\n",
      "Min_Humidity                  5441 non-null float64\n",
      "Max_Sea_Level_Pressure_In     5494 non-null float64\n",
      "Mean_Sea_Level_Pressure_In    5494 non-null float64\n",
      "Min_Sea_Level_Pressure_In     5494 non-null float64\n",
      "Max_Visibility_Miles          5473 non-null float64\n",
      "Mean_Visibility_Miles         5473 non-null float64\n",
      "Min_Visibility_Miles          5473 non-null float64\n",
      "Max_Wind_Speed_MPH            5494 non-null float64\n",
      "Mean_Wind_Speed_MPH           5494 non-null float64\n",
      "Max_Gust_Speed_MPH            4060 non-null float64\n",
      "Precipitation_In              5494 non-null object\n",
      "Cloud_Cover                   5494 non-null float64\n",
      "Events                        888 non-null object\n",
      "Wind_Dir_Degrees              5494 non-null float64\n",
      "zip                           5495 non-null int64\n",
      "dtypes: float64(20), int64(1), object(2)\n",
      "memory usage: 1.0+ MB\n"
     ]
    }
   ],
   "source": [
    "print('Loading Weather Data...')\n",
    "\n",
    "try:\n",
    "    file_path_slug = '../../datasets/bayareabikeshare/*_weather_data.csv'\n",
    "\n",
    "    # glob all files\n",
    "    file_list = glob(file_path_slug)\n",
    "\n",
    "    weather = pd.DataFrame()\n",
    "\n",
    "    counter = 1\n",
    "    chunks = []\n",
    "\n",
    "    # load data from each file\n",
    "    for file in file_list:\n",
    "\n",
    "        # import file in chunks\n",
    "        for chunk in pd.read_csv(file, chunksize=10000, iterator=True):\n",
    "\n",
    "            chunk.columns = ['Date', 'Max_Temperature_F', 'Mean_Temperature_F', 'Min_TemperatureF', 'Max_Dew_Point_F', \n",
    "                             'MeanDew_Point_F', 'Min_Dewpoint_F', 'Max_Humidity', 'Mean_Humidity', 'Min_Humidity', \n",
    "                             'Max_Sea_Level_Pressure_In', 'Mean_Sea_Level_Pressure_In', 'Min_Sea_Level_Pressure_In', \n",
    "                             'Max_Visibility_Miles', 'Mean_Visibility_Miles', 'Min_Visibility_Miles', \n",
    "                             'Max_Wind_Speed_MPH', 'Mean_Wind_Speed_MPH', 'Max_Gust_Speed_MPH', 'Precipitation_In', \n",
    "                             'Cloud_Cover', 'Events', 'Wind_Dir_Degrees', 'zip']\n",
    "\n",
    "            chunk = chunk.set_index('Date')\n",
    "\n",
    "            chunks.append(chunk)\n",
    "\n",
    "        print('\\tfinished file! (%d of %d)'% (counter, len(file_list)))\n",
    "        counter += 1\n",
    "\n",
    "    # concat chunks\n",
    "    weather = pd.concat(chunks)\n",
    "\n",
    "    print('Data Loaded Successfully!')\n",
    "except:\n",
    "    print('oops... something went wrong loading the data :()')\n",
    "\n",
    "weather.info()"
   ]
  },
  {
   "cell_type": "markdown",
   "metadata": {},
   "source": [
    "## Load Status Data"
   ]
  },
  {
   "cell_type": "code",
   "execution_count": 5,
   "metadata": {},
   "outputs": [
    {
     "name": "stdout",
     "output_type": "stream",
     "text": [
      "Loading Status Data...\n",
      "\tfinished file! (1 of 1)\n",
      "Data Loaded Successfully!\n",
      "<class 'pandas.core.frame.DataFrame'>\n",
      "Int64Index: 16994602 entries, 0 to 16994601\n",
      "Data columns (total 4 columns):\n",
      "station_id         int64\n",
      "bikes_available    int64\n",
      "docks_available    int64\n",
      "time               object\n",
      "dtypes: int64(3), object(1)\n",
      "memory usage: 648.3+ MB\n"
     ]
    }
   ],
   "source": [
    "print('Loading Status Data...')\n",
    "\n",
    "# try:\n",
    "file_path_slug = '../../datasets/bayareabikeshare/*02_status_data.csv'\n",
    "\n",
    "# glob all files\n",
    "file_list = glob(file_path_slug)\n",
    "\n",
    "status = pd.DataFrame()\n",
    "\n",
    "counter = 1\n",
    "chunks = []\n",
    "\n",
    "# load data from each file\n",
    "for file in file_list:    \n",
    "    \n",
    "    chunk = pd.read_csv(file, parse_dates=True)\n",
    "    chunks.append(chunk)\n",
    "    print('\\tfinished file! (%d of %d)'% (counter, len(file_list)))\n",
    "    counter += 1\n",
    "    \n",
    "# concat chunks\n",
    "status = pd.concat(chunks)\n",
    "\n",
    "print('Data Loaded Successfully!')\n",
    "\n",
    "status.info()"
   ]
  },
  {
   "cell_type": "code",
   "execution_count": null,
   "metadata": {},
   "outputs": [],
   "source": []
  },
  {
   "cell_type": "code",
   "execution_count": null,
   "metadata": {},
   "outputs": [],
   "source": []
  },
  {
   "cell_type": "code",
   "execution_count": null,
   "metadata": {},
   "outputs": [],
   "source": []
  },
  {
   "cell_type": "code",
   "execution_count": null,
   "metadata": {},
   "outputs": [],
   "source": []
  },
  {
   "cell_type": "code",
   "execution_count": null,
   "metadata": {},
   "outputs": [],
   "source": []
  },
  {
   "cell_type": "code",
   "execution_count": null,
   "metadata": {},
   "outputs": [],
   "source": []
  },
  {
   "cell_type": "code",
   "execution_count": null,
   "metadata": {},
   "outputs": [],
   "source": []
  },
  {
   "cell_type": "code",
   "execution_count": null,
   "metadata": {
    "collapsed": true
   },
   "outputs": [],
   "source": []
  },
  {
   "cell_type": "code",
   "execution_count": null,
   "metadata": {},
   "outputs": [],
   "source": []
  },
  {
   "cell_type": "code",
   "execution_count": null,
   "metadata": {
    "collapsed": true
   },
   "outputs": [],
   "source": []
  },
  {
   "cell_type": "code",
   "execution_count": null,
   "metadata": {
    "collapsed": true
   },
   "outputs": [],
   "source": []
  },
  {
   "cell_type": "code",
   "execution_count": null,
   "metadata": {
    "collapsed": true
   },
   "outputs": [],
   "source": []
  },
  {
   "cell_type": "code",
   "execution_count": null,
   "metadata": {
    "collapsed": true
   },
   "outputs": [],
   "source": []
  },
  {
   "cell_type": "code",
   "execution_count": null,
   "metadata": {
    "collapsed": true
   },
   "outputs": [],
   "source": []
  },
  {
   "cell_type": "code",
   "execution_count": null,
   "metadata": {
    "collapsed": true
   },
   "outputs": [],
   "source": []
  },
  {
   "cell_type": "code",
   "execution_count": null,
   "metadata": {
    "collapsed": true
   },
   "outputs": [],
   "source": []
  },
  {
   "cell_type": "code",
   "execution_count": null,
   "metadata": {
    "collapsed": true
   },
   "outputs": [],
   "source": []
  },
  {
   "cell_type": "markdown",
   "metadata": {},
   "source": [
    "## Load Station Data"
   ]
  },
  {
   "cell_type": "code",
   "execution_count": 6,
   "metadata": {},
   "outputs": [
    {
     "name": "stdout",
     "output_type": "stream",
     "text": [
      "Loading Trip Data...\n",
      "\tfinished file! (1 of 4)\n",
      "\tfinished file! (2 of 4)\n",
      "\tfinished file! (3 of 4)\n",
      "\tfinished file! (4 of 4)\n",
      "Data Loaded Successfully!\n",
      "<class 'pandas.core.frame.DataFrame'>\n",
      "Int64Index: 1201 entries, 0 to 69\n",
      "Data columns (total 7 columns):\n",
      "station_id      276 non-null float64\n",
      "name            276 non-null object\n",
      "lat             276 non-null float64\n",
      "long            276 non-null float64\n",
      "dockcount       276 non-null float64\n",
      "landmark        276 non-null object\n",
      "installation    276 non-null object\n",
      "dtypes: float64(4), object(3)\n",
      "memory usage: 75.1+ KB\n"
     ]
    }
   ],
   "source": [
    "print('Loading Trip Data...')\n",
    "\n",
    "try:\n",
    "    file_path_slug = '../../datasets/bayareabikeshare/*_station_data.csv'\n",
    "    \n",
    "    # glob all files\n",
    "    file_list = glob(file_path_slug)\n",
    "    \n",
    "    station = pd.DataFrame()\n",
    "    \n",
    "    counter = 1\n",
    "    chunks = []\n",
    "    \n",
    "    # load data from each file\n",
    "    for file in file_list:\n",
    "        \n",
    "        # import file in chunks\n",
    "        for chunk in pd.read_csv(file, chunksize=10000, iterator=True):\n",
    "            \n",
    "            chunks.append(chunk)\n",
    "            \n",
    "        print('\\tfinished file! (%d of %d)'% (counter, len(file_list)))\n",
    "        counter += 1\n",
    "    \n",
    "    # concat chunks\n",
    "    station = pd.concat(chunks)\n",
    "    \n",
    "    print('Data Loaded Successfully!')\n",
    "except:\n",
    "    print('oops... something went wrong loading the data :()')\n",
    "    \n",
    "station.info()"
   ]
  },
  {
   "cell_type": "code",
   "execution_count": 7,
   "metadata": {},
   "outputs": [
    {
     "data": {
      "text/html": [
       "<div>\n",
       "<style>\n",
       "    .dataframe thead tr:only-child th {\n",
       "        text-align: right;\n",
       "    }\n",
       "\n",
       "    .dataframe thead th {\n",
       "        text-align: left;\n",
       "    }\n",
       "\n",
       "    .dataframe tbody tr th {\n",
       "        vertical-align: top;\n",
       "    }\n",
       "</style>\n",
       "<table border=\"1\" class=\"dataframe\">\n",
       "  <thead>\n",
       "    <tr style=\"text-align: right;\">\n",
       "      <th></th>\n",
       "      <th>station_id</th>\n",
       "      <th>name</th>\n",
       "      <th>lat</th>\n",
       "      <th>long</th>\n",
       "      <th>dockcount</th>\n",
       "      <th>landmark</th>\n",
       "      <th>installation</th>\n",
       "    </tr>\n",
       "  </thead>\n",
       "  <tbody>\n",
       "    <tr>\n",
       "      <th>0</th>\n",
       "      <td>2.0</td>\n",
       "      <td>San Jose Diridon Caltrain Station</td>\n",
       "      <td>37.329732</td>\n",
       "      <td>-121.901782</td>\n",
       "      <td>27.0</td>\n",
       "      <td>San Jose</td>\n",
       "      <td>8/6/2013</td>\n",
       "    </tr>\n",
       "    <tr>\n",
       "      <th>1</th>\n",
       "      <td>3.0</td>\n",
       "      <td>San Jose Civic Center</td>\n",
       "      <td>37.330698</td>\n",
       "      <td>-121.888979</td>\n",
       "      <td>15.0</td>\n",
       "      <td>San Jose</td>\n",
       "      <td>8/5/2013</td>\n",
       "    </tr>\n",
       "    <tr>\n",
       "      <th>2</th>\n",
       "      <td>4.0</td>\n",
       "      <td>Santa Clara at Almaden</td>\n",
       "      <td>37.333988</td>\n",
       "      <td>-121.894902</td>\n",
       "      <td>11.0</td>\n",
       "      <td>San Jose</td>\n",
       "      <td>8/6/2013</td>\n",
       "    </tr>\n",
       "    <tr>\n",
       "      <th>3</th>\n",
       "      <td>5.0</td>\n",
       "      <td>Adobe on Almaden</td>\n",
       "      <td>37.331415</td>\n",
       "      <td>-121.893200</td>\n",
       "      <td>19.0</td>\n",
       "      <td>San Jose</td>\n",
       "      <td>8/5/2013</td>\n",
       "    </tr>\n",
       "    <tr>\n",
       "      <th>4</th>\n",
       "      <td>6.0</td>\n",
       "      <td>San Pedro Square</td>\n",
       "      <td>37.336721</td>\n",
       "      <td>-121.894074</td>\n",
       "      <td>15.0</td>\n",
       "      <td>San Jose</td>\n",
       "      <td>8/7/2013</td>\n",
       "    </tr>\n",
       "  </tbody>\n",
       "</table>\n",
       "</div>"
      ],
      "text/plain": [
       "   station_id                               name        lat        long  \\\n",
       "0         2.0  San Jose Diridon Caltrain Station  37.329732 -121.901782   \n",
       "1         3.0              San Jose Civic Center  37.330698 -121.888979   \n",
       "2         4.0             Santa Clara at Almaden  37.333988 -121.894902   \n",
       "3         5.0                   Adobe on Almaden  37.331415 -121.893200   \n",
       "4         6.0                   San Pedro Square  37.336721 -121.894074   \n",
       "\n",
       "   dockcount  landmark installation  \n",
       "0       27.0  San Jose     8/6/2013  \n",
       "1       15.0  San Jose     8/5/2013  \n",
       "2       11.0  San Jose     8/6/2013  \n",
       "3       19.0  San Jose     8/5/2013  \n",
       "4       15.0  San Jose     8/7/2013  "
      ]
     },
     "execution_count": 7,
     "metadata": {},
     "output_type": "execute_result"
    }
   ],
   "source": [
    "station.head()"
   ]
  },
  {
   "cell_type": "markdown",
   "metadata": {},
   "source": [
    "## Cleanup Data"
   ]
  },
  {
   "cell_type": "markdown",
   "metadata": {},
   "source": [
    "### Clean Trip Data"
   ]
  },
  {
   "cell_type": "code",
   "execution_count": 8,
   "metadata": {},
   "outputs": [
    {
     "name": "stdout",
     "output_type": "stream",
     "text": [
      "<class 'pandas.core.frame.DataFrame'>\n",
      "Int64Index: 983647 entries, 913465 to 198776\n",
      "Data columns (total 10 columns):\n",
      "Duration           983647 non-null int64\n",
      "Start Date         983647 non-null object\n",
      "Start Station      983647 non-null object\n",
      "Start Terminal     983647 non-null int64\n",
      "End Date           983647 non-null object\n",
      "End Station        983647 non-null object\n",
      "End Terminal       983647 non-null int64\n",
      "Bike #             983647 non-null int64\n",
      "Subscriber Type    983647 non-null object\n",
      "Zip Code           976837 non-null object\n",
      "dtypes: int64(4), object(6)\n",
      "memory usage: 82.6+ MB\n"
     ]
    }
   ],
   "source": [
    "trip = trip.drop_duplicates(keep='first')\n",
    "trip = trip.dropna(how='all')\n",
    "trip.info()"
   ]
  },
  {
   "cell_type": "markdown",
   "metadata": {},
   "source": [
    "### Clean Weather Data"
   ]
  },
  {
   "cell_type": "code",
   "execution_count": 9,
   "metadata": {},
   "outputs": [
    {
     "name": "stdout",
     "output_type": "stream",
     "text": [
      "<class 'pandas.core.frame.DataFrame'>\n",
      "Index: 5495 entries, 3/1/2014 to 8/31/2015\n",
      "Data columns (total 23 columns):\n",
      "Max_Temperature_F             5491 non-null float64\n",
      "Mean_Temperature_F            5491 non-null float64\n",
      "Min_TemperatureF              5491 non-null float64\n",
      "Max_Dew_Point_F               5441 non-null float64\n",
      "MeanDew_Point_F               5441 non-null float64\n",
      "Min_Dewpoint_F                5441 non-null float64\n",
      "Max_Humidity                  5441 non-null float64\n",
      "Mean_Humidity                 5441 non-null float64\n",
      "Min_Humidity                  5441 non-null float64\n",
      "Max_Sea_Level_Pressure_In     5494 non-null float64\n",
      "Mean_Sea_Level_Pressure_In    5494 non-null float64\n",
      "Min_Sea_Level_Pressure_In     5494 non-null float64\n",
      "Max_Visibility_Miles          5473 non-null float64\n",
      "Mean_Visibility_Miles         5473 non-null float64\n",
      "Min_Visibility_Miles          5473 non-null float64\n",
      "Max_Wind_Speed_MPH            5494 non-null float64\n",
      "Mean_Wind_Speed_MPH           5494 non-null float64\n",
      "Max_Gust_Speed_MPH            4060 non-null float64\n",
      "Precipitation_In              5494 non-null object\n",
      "Cloud_Cover                   5494 non-null float64\n",
      "Events                        888 non-null object\n",
      "Wind_Dir_Degrees              5494 non-null float64\n",
      "zip                           5495 non-null int64\n",
      "dtypes: float64(20), int64(1), object(2)\n",
      "memory usage: 1.0+ MB\n"
     ]
    }
   ],
   "source": [
    "weather = weather.drop_duplicates(keep='first')\n",
    "weather = weather.dropna(how='all')\n",
    "weather.info()"
   ]
  },
  {
   "cell_type": "markdown",
   "metadata": {},
   "source": [
    "### Clean Station Data"
   ]
  },
  {
   "cell_type": "code",
   "execution_count": 10,
   "metadata": {},
   "outputs": [
    {
     "name": "stdout",
     "output_type": "stream",
     "text": [
      "<class 'pandas.core.frame.DataFrame'>\n",
      "Index: 83 entries, 2 to 25\n",
      "Data columns (total 6 columns):\n",
      "name            83 non-null object\n",
      "lat             83 non-null float64\n",
      "long            83 non-null float64\n",
      "dockcount       83 non-null int64\n",
      "landmark        83 non-null object\n",
      "installation    83 non-null datetime64[ns]\n",
      "dtypes: datetime64[ns](1), float64(2), int64(1), object(2)\n",
      "memory usage: 4.5+ KB\n"
     ]
    }
   ],
   "source": [
    "station = station.drop_duplicates(keep='first')\n",
    "station = station.dropna(how='all')\n",
    "\n",
    "station['installation'] = pd.to_datetime(station['installation'],infer_datetime_format=True).copy()\n",
    "station['dockcount'] = station['dockcount'].astype('int')\n",
    "station['station_id'] = station['station_id'].astype('int').astype('str')\n",
    "\n",
    "station = station.set_index('station_id')\n",
    "station.info()"
   ]
  },
  {
   "cell_type": "code",
   "execution_count": 11,
   "metadata": {},
   "outputs": [
    {
     "data": {
      "text/html": [
       "<div>\n",
       "<style>\n",
       "    .dataframe thead tr:only-child th {\n",
       "        text-align: right;\n",
       "    }\n",
       "\n",
       "    .dataframe thead th {\n",
       "        text-align: left;\n",
       "    }\n",
       "\n",
       "    .dataframe tbody tr th {\n",
       "        vertical-align: top;\n",
       "    }\n",
       "</style>\n",
       "<table border=\"1\" class=\"dataframe\">\n",
       "  <thead>\n",
       "    <tr style=\"text-align: right;\">\n",
       "      <th></th>\n",
       "      <th>name</th>\n",
       "      <th>lat</th>\n",
       "      <th>long</th>\n",
       "      <th>dockcount</th>\n",
       "      <th>landmark</th>\n",
       "      <th>installation</th>\n",
       "    </tr>\n",
       "    <tr>\n",
       "      <th>station_id</th>\n",
       "      <th></th>\n",
       "      <th></th>\n",
       "      <th></th>\n",
       "      <th></th>\n",
       "      <th></th>\n",
       "      <th></th>\n",
       "    </tr>\n",
       "  </thead>\n",
       "  <tbody>\n",
       "    <tr>\n",
       "      <th>2</th>\n",
       "      <td>San Jose Diridon Caltrain Station</td>\n",
       "      <td>37.329732</td>\n",
       "      <td>-121.901782</td>\n",
       "      <td>27</td>\n",
       "      <td>San Jose</td>\n",
       "      <td>2013-08-06</td>\n",
       "    </tr>\n",
       "    <tr>\n",
       "      <th>3</th>\n",
       "      <td>San Jose Civic Center</td>\n",
       "      <td>37.330698</td>\n",
       "      <td>-121.888979</td>\n",
       "      <td>15</td>\n",
       "      <td>San Jose</td>\n",
       "      <td>2013-08-05</td>\n",
       "    </tr>\n",
       "    <tr>\n",
       "      <th>4</th>\n",
       "      <td>Santa Clara at Almaden</td>\n",
       "      <td>37.333988</td>\n",
       "      <td>-121.894902</td>\n",
       "      <td>11</td>\n",
       "      <td>San Jose</td>\n",
       "      <td>2013-08-06</td>\n",
       "    </tr>\n",
       "    <tr>\n",
       "      <th>5</th>\n",
       "      <td>Adobe on Almaden</td>\n",
       "      <td>37.331415</td>\n",
       "      <td>-121.893200</td>\n",
       "      <td>19</td>\n",
       "      <td>San Jose</td>\n",
       "      <td>2013-08-05</td>\n",
       "    </tr>\n",
       "    <tr>\n",
       "      <th>6</th>\n",
       "      <td>San Pedro Square</td>\n",
       "      <td>37.336721</td>\n",
       "      <td>-121.894074</td>\n",
       "      <td>15</td>\n",
       "      <td>San Jose</td>\n",
       "      <td>2013-08-07</td>\n",
       "    </tr>\n",
       "    <tr>\n",
       "      <th>7</th>\n",
       "      <td>Paseo de San Antonio</td>\n",
       "      <td>37.333798</td>\n",
       "      <td>-121.886943</td>\n",
       "      <td>15</td>\n",
       "      <td>San Jose</td>\n",
       "      <td>2013-08-07</td>\n",
       "    </tr>\n",
       "    <tr>\n",
       "      <th>8</th>\n",
       "      <td>San Salvador at 1st</td>\n",
       "      <td>37.330165</td>\n",
       "      <td>-121.885831</td>\n",
       "      <td>15</td>\n",
       "      <td>San Jose</td>\n",
       "      <td>2013-08-05</td>\n",
       "    </tr>\n",
       "    <tr>\n",
       "      <th>9</th>\n",
       "      <td>Japantown</td>\n",
       "      <td>37.348742</td>\n",
       "      <td>-121.894715</td>\n",
       "      <td>15</td>\n",
       "      <td>San Jose</td>\n",
       "      <td>2013-08-05</td>\n",
       "    </tr>\n",
       "    <tr>\n",
       "      <th>10</th>\n",
       "      <td>San Jose City Hall</td>\n",
       "      <td>37.337391</td>\n",
       "      <td>-121.886995</td>\n",
       "      <td>15</td>\n",
       "      <td>San Jose</td>\n",
       "      <td>2013-08-06</td>\n",
       "    </tr>\n",
       "    <tr>\n",
       "      <th>11</th>\n",
       "      <td>MLK Library</td>\n",
       "      <td>37.335885</td>\n",
       "      <td>-121.885660</td>\n",
       "      <td>19</td>\n",
       "      <td>San Jose</td>\n",
       "      <td>2013-08-06</td>\n",
       "    </tr>\n",
       "  </tbody>\n",
       "</table>\n",
       "</div>"
      ],
      "text/plain": [
       "                                         name        lat        long  \\\n",
       "station_id                                                             \n",
       "2           San Jose Diridon Caltrain Station  37.329732 -121.901782   \n",
       "3                       San Jose Civic Center  37.330698 -121.888979   \n",
       "4                      Santa Clara at Almaden  37.333988 -121.894902   \n",
       "5                            Adobe on Almaden  37.331415 -121.893200   \n",
       "6                            San Pedro Square  37.336721 -121.894074   \n",
       "7                        Paseo de San Antonio  37.333798 -121.886943   \n",
       "8                         San Salvador at 1st  37.330165 -121.885831   \n",
       "9                                   Japantown  37.348742 -121.894715   \n",
       "10                         San Jose City Hall  37.337391 -121.886995   \n",
       "11                                MLK Library  37.335885 -121.885660   \n",
       "\n",
       "            dockcount  landmark installation  \n",
       "station_id                                    \n",
       "2                  27  San Jose   2013-08-06  \n",
       "3                  15  San Jose   2013-08-05  \n",
       "4                  11  San Jose   2013-08-06  \n",
       "5                  19  San Jose   2013-08-05  \n",
       "6                  15  San Jose   2013-08-07  \n",
       "7                  15  San Jose   2013-08-07  \n",
       "8                  15  San Jose   2013-08-05  \n",
       "9                  15  San Jose   2013-08-05  \n",
       "10                 15  San Jose   2013-08-06  \n",
       "11                 19  San Jose   2013-08-06  "
      ]
     },
     "execution_count": 11,
     "metadata": {},
     "output_type": "execute_result"
    }
   ],
   "source": [
    "station.head(10)\n"
   ]
  },
  {
   "cell_type": "code",
   "execution_count": null,
   "metadata": {
    "collapsed": true
   },
   "outputs": [],
   "source": []
  },
  {
   "cell_type": "markdown",
   "metadata": {},
   "source": [
    "### Clean Status Data"
   ]
  },
  {
   "cell_type": "code",
   "execution_count": null,
   "metadata": {
    "collapsed": true
   },
   "outputs": [],
   "source": [
    "status = status.drop_duplicates(keep='first')\n",
    "status = status.dropna(how='all')\n",
    "status.info()"
   ]
  },
  {
   "cell_type": "code",
   "execution_count": 12,
   "metadata": {},
   "outputs": [
    {
     "data": {
      "text/html": [
       "<div>\n",
       "<style>\n",
       "    .dataframe thead tr:only-child th {\n",
       "        text-align: right;\n",
       "    }\n",
       "\n",
       "    .dataframe thead th {\n",
       "        text-align: left;\n",
       "    }\n",
       "\n",
       "    .dataframe tbody tr th {\n",
       "        vertical-align: top;\n",
       "    }\n",
       "</style>\n",
       "<table border=\"1\" class=\"dataframe\">\n",
       "  <thead>\n",
       "    <tr style=\"text-align: right;\">\n",
       "      <th></th>\n",
       "      <th>station_id</th>\n",
       "      <th>bikes_available</th>\n",
       "      <th>docks_available</th>\n",
       "      <th>time</th>\n",
       "    </tr>\n",
       "  </thead>\n",
       "  <tbody>\n",
       "    <tr>\n",
       "      <th>0</th>\n",
       "      <td>2</td>\n",
       "      <td>2</td>\n",
       "      <td>25</td>\n",
       "      <td>2013/08/29 12:06:01</td>\n",
       "    </tr>\n",
       "    <tr>\n",
       "      <th>1</th>\n",
       "      <td>2</td>\n",
       "      <td>2</td>\n",
       "      <td>25</td>\n",
       "      <td>2013/08/29 12:07:01</td>\n",
       "    </tr>\n",
       "    <tr>\n",
       "      <th>2</th>\n",
       "      <td>2</td>\n",
       "      <td>2</td>\n",
       "      <td>25</td>\n",
       "      <td>2013/08/29 12:08:01</td>\n",
       "    </tr>\n",
       "    <tr>\n",
       "      <th>3</th>\n",
       "      <td>2</td>\n",
       "      <td>2</td>\n",
       "      <td>25</td>\n",
       "      <td>2013/08/29 12:09:01</td>\n",
       "    </tr>\n",
       "    <tr>\n",
       "      <th>4</th>\n",
       "      <td>2</td>\n",
       "      <td>2</td>\n",
       "      <td>25</td>\n",
       "      <td>2013/08/29 12:10:01</td>\n",
       "    </tr>\n",
       "  </tbody>\n",
       "</table>\n",
       "</div>"
      ],
      "text/plain": [
       "   station_id  bikes_available  docks_available                 time\n",
       "0           2                2               25  2013/08/29 12:06:01\n",
       "1           2                2               25  2013/08/29 12:07:01\n",
       "2           2                2               25  2013/08/29 12:08:01\n",
       "3           2                2               25  2013/08/29 12:09:01\n",
       "4           2                2               25  2013/08/29 12:10:01"
      ]
     },
     "execution_count": 12,
     "metadata": {},
     "output_type": "execute_result"
    }
   ],
   "source": [
    "status.head()"
   ]
  },
  {
   "cell_type": "code",
   "execution_count": 13,
   "metadata": {
    "collapsed": true
   },
   "outputs": [],
   "source": [
    "status['total_docks'] = status['bikes_available'] + status['docks_available']"
   ]
  },
  {
   "cell_type": "code",
   "execution_count": null,
   "metadata": {
    "collapsed": true
   },
   "outputs": [],
   "source": []
  },
  {
   "cell_type": "code",
   "execution_count": null,
   "metadata": {},
   "outputs": [],
   "source": [
    "status['time'] = pd.to_datetime(status['time'], format='%Y/%m/%d %H:%M:%S').copy()\n",
    "status.info()"
   ]
  },
  {
   "cell_type": "code",
   "execution_count": null,
   "metadata": {},
   "outputs": [],
   "source": [
    "# status['bike_availability_ratio'] = status['bikes_available'] / (status['bikes_available'] + status['docks_available']) * 100.0\n",
    "\n",
    "# status.head()"
   ]
  },
  {
   "cell_type": "code",
   "execution_count": null,
   "metadata": {},
   "outputs": [],
   "source": []
  },
  {
   "cell_type": "code",
   "execution_count": null,
   "metadata": {
    "collapsed": true
   },
   "outputs": [],
   "source": []
  },
  {
   "cell_type": "code",
   "execution_count": null,
   "metadata": {
    "collapsed": true
   },
   "outputs": [],
   "source": []
  },
  {
   "cell_type": "code",
   "execution_count": null,
   "metadata": {
    "collapsed": true
   },
   "outputs": [],
   "source": []
  },
  {
   "cell_type": "code",
   "execution_count": null,
   "metadata": {
    "collapsed": true
   },
   "outputs": [],
   "source": [
    "# resample to hourly mean by station\n",
    "status_station_grouped = status.groupby(['station_id', status.time.dt.hour*3]).mean()\n",
    "status_station_grouped.head()\n",
    "\n"
   ]
  },
  {
   "cell_type": "code",
   "execution_count": null,
   "metadata": {
    "collapsed": true
   },
   "outputs": [],
   "source": [
    "for station in status.station_id.unique():\n",
    "    try:\n",
    "        s = status[status['station_id'] == station]\n",
    "        s.groupby(s.time.dt.hour).mean()['bike_availability_ratio'].plot(figsize=(20,5))\n",
    "        plt.title('Station %s Bike Availability Ratio' % station)\n",
    "        plt.show()\n",
    "        \n",
    "    except:\n",
    "        print('station %s has no data, skipping...' % station)"
   ]
  },
  {
   "cell_type": "code",
   "execution_count": null,
   "metadata": {
    "collapsed": true
   },
   "outputs": [],
   "source": []
  },
  {
   "cell_type": "code",
   "execution_count": null,
   "metadata": {
    "collapsed": true
   },
   "outputs": [],
   "source": []
  },
  {
   "cell_type": "code",
   "execution_count": null,
   "metadata": {
    "collapsed": true
   },
   "outputs": [],
   "source": []
  },
  {
   "cell_type": "code",
   "execution_count": null,
   "metadata": {
    "collapsed": true
   },
   "outputs": [],
   "source": []
  },
  {
   "cell_type": "code",
   "execution_count": null,
   "metadata": {
    "collapsed": true
   },
   "outputs": [],
   "source": []
  },
  {
   "cell_type": "code",
   "execution_count": null,
   "metadata": {
    "collapsed": true
   },
   "outputs": [],
   "source": []
  },
  {
   "cell_type": "code",
   "execution_count": null,
   "metadata": {
    "collapsed": true
   },
   "outputs": [],
   "source": []
  }
 ],
 "metadata": {
  "kernelspec": {
   "display_name": "Python 3",
   "language": "python",
   "name": "python3"
  },
  "language_info": {
   "codemirror_mode": {
    "name": "ipython",
    "version": 3
   },
   "file_extension": ".py",
   "mimetype": "text/x-python",
   "name": "python",
   "nbconvert_exporter": "python",
   "pygments_lexer": "ipython3",
   "version": "3.6.3"
  }
 },
 "nbformat": 4,
 "nbformat_minor": 2
}
