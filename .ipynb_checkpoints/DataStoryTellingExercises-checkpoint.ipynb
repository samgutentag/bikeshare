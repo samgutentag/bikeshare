{
 "cells": [
  {
   "cell_type": "code",
   "execution_count": null,
   "metadata": {
    "collapsed": true
   },
   "outputs": [],
   "source": [
    "'''\n",
    "Get going by asking the following questions and looking for the answers with some code and plots:\n",
    "    Can you count something interesting?\n",
    "    Can you find some trends (high, low, increase, decrease, anomalies)?\n",
    "    Can you make a bar plot or a histogram?\n",
    "    Can you compare two related quantities?\n",
    "    Can you make a scatterplot?\n",
    "    Can you make a time-series plot?\n",
    "\n",
    "Having made these plots:\n",
    "    What are some insights you get from them? \n",
    "    Do you see any correlations? \n",
    "    Is there a hypothesis you would like to investigate further? \n",
    "    What other questions do they lead you to ask?\n",
    "\n",
    "By now you’ve asked a bunch of questions, and found some neat insights. \n",
    "    Is there an interesting narrative, a way of presenting the insights using text and plots from the above, \n",
    "        that tells a compelling story? \n",
    "    As you work out this story, what are some other trends/relationships you think will make it more complete?\n",
    "\n",
    "'''"
   ]
  },
  {
   "cell_type": "code",
   "execution_count": 3,
   "metadata": {
    "collapsed": true
   },
   "outputs": [],
   "source": [
    "%matplotlib inline\n",
    "\n",
    "import matplotlib\n",
    "import numpy as np\n",
    "import matplotlib.pyplot as plt\n",
    "import pandas as pd\n",
    "from glob import glob\n"
   ]
  },
  {
   "cell_type": "code",
   "execution_count": 8,
   "metadata": {},
   "outputs": [
    {
     "name": "stdout",
     "output_type": "stream",
     "text": [
      "Reading file \t ../../datasets/bayareabikeshare/201402_station_data.csv\n",
      "Reading file \t ../../datasets/bayareabikeshare/201408_station_data.csv\n",
      "Reading file \t ../../datasets/bayareabikeshare/201508_station_data.csv\n",
      "Reading file \t ../../datasets/bayareabikeshare/201608_station_data.csv\n",
      "data loaded successfully!\n"
     ]
    }
   ],
   "source": [
    "try:\n",
    "\n",
    "    file_path_slug = '../../datasets/bayareabikeshare/*_station_data.csv'\n",
    "\n",
    "    # glob all files\n",
    "    file_list = glob(file_path_slug)\n",
    "\n",
    "    stations = pd.DataFrame()\n",
    "\n",
    "    for file in file_list:\n",
    "        print('Reading file \\t ' + str(file))\n",
    "\n",
    "        # import file in chunks to temp DataFrame\n",
    "        station_reader = pd.read_csv(file, chunksize=1000, iterator=True)\n",
    "\n",
    "        # concat chunks into DataFrame\n",
    "        tmp_df = pd.concat(station_reader)\n",
    "\n",
    "        # concat tmp dataframe to status_df\n",
    "        stations = pd.concat([stations, tmp_df], ignore_index=True)\n",
    "\n",
    "    print('data loaded successfully!')\n",
    "except:\n",
    "    print('oops... something went wrong loading the data :(')\n"
   ]
  },
  {
   "cell_type": "code",
   "execution_count": 5,
   "metadata": {
    "collapsed": true
   },
   "outputs": [],
   "source": [
    "#   drop empty rows\n",
    "stations.dropna(how=\"all\", inplace=True)\n",
    "\n",
    "# create a lat_long column\n",
    "stations['lat_long'] = stations['lat'].astype(str) + ',' + stations['long'].astype(str)\n",
    "\n",
    "#   convert station IDs to strings\n",
    "stations['station_id'] = stations['station_id'].astype(int)\n",
    "stations['station_id'] = stations['station_id'].astype(str)\n",
    "\n",
    "#   convert dockcount to int, no such thing as a partial dock\n",
    "stations['dockcount'] = stations['dockcount'].astype(int)\n",
    "\n",
    "#   convert installation to datetime\n",
    "stations['installation'] = pd.to_datetime(stations['installation'])\n",
    "\n",
    "#   drop duplicate rows and reindex\n",
    "stations = stations.drop_duplicates(keep='first')\n",
    "stations.reset_index(inplace=True, drop=True)"
   ]
  },
  {
   "cell_type": "code",
   "execution_count": null,
   "metadata": {},
   "outputs": [],
   "source": []
  },
  {
   "cell_type": "code",
   "execution_count": null,
   "metadata": {
    "collapsed": true
   },
   "outputs": [],
   "source": []
  }
 ],
 "metadata": {
  "kernelspec": {
   "display_name": "Python 3",
   "language": "python",
   "name": "python3"
  },
  "language_info": {
   "codemirror_mode": {
    "name": "ipython",
    "version": 3
   },
   "file_extension": ".py",
   "mimetype": "text/x-python",
   "name": "python",
   "nbconvert_exporter": "python",
   "pygments_lexer": "ipython3",
   "version": "3.6.2"
  }
 },
 "nbformat": 4,
 "nbformat_minor": 2
}
