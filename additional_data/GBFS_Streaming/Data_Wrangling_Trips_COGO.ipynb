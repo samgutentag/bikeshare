{
 "cells": [
  {
   "cell_type": "markdown",
   "metadata": {},
   "source": [
    "# Data Wrangling - Trips"
   ]
  },
  {
   "cell_type": "markdown",
   "metadata": {},
   "source": [
    "### Import Data"
   ]
  },
  {
   "cell_type": "code",
   "execution_count": 1,
   "metadata": {
    "collapsed": true
   },
   "outputs": [],
   "source": [
    "%matplotlib inline\n",
    "\n",
    "import matplotlib\n",
    "import numpy as np\n",
    "from scipy import stats\n",
    "import matplotlib.pyplot as plt\n",
    "import pandas as pd\n",
    "from glob import glob\n",
    "import datetime\n",
    "import math\n",
    "\n",
    "import seaborn as sns\n",
    "sns.set()"
   ]
  },
  {
   "cell_type": "code",
   "execution_count": 2,
   "metadata": {},
   "outputs": [
    {
     "data": {
      "text/html": [
       "<style>.container { width:95% !important; }</style>"
      ],
      "text/plain": [
       "<IPython.core.display.HTML object>"
      ]
     },
     "metadata": {},
     "output_type": "display_data"
    }
   ],
   "source": [
    "from IPython.core.display import display, HTML\n",
    "display(HTML(\"<style>.container { width:95% !important; }</style>\"))"
   ]
  },
  {
   "cell_type": "code",
   "execution_count": 3,
   "metadata": {
    "collapsed": true
   },
   "outputs": [],
   "source": [
    "font = {'size'   : 50}\n",
    "matplotlib.rc('font', **font)\n",
    "\n",
    "LABEL_FONT_SIZE = 15\n",
    "TITLE_FONT_SIZE = 25"
   ]
  },
  {
   "cell_type": "markdown",
   "metadata": {},
   "source": [
    "## Import Data"
   ]
  },
  {
   "cell_type": "code",
   "execution_count": 4,
   "metadata": {},
   "outputs": [
    {
     "name": "stdout",
     "output_type": "stream",
     "text": [
      "Loading Trip Data...\n",
      "['../../../datasets/cogobikeshare/2017-08_COGO_Trip_Data.csv']\n",
      "\t[16:25:17.003981] finished chunk 1 of 21\n",
      "\t[16:25:17.092315] finished chunk 3 of 21\n",
      "\t[16:25:17.193787] finished chunk 6 of 21\n",
      "\t[16:25:17.306689] finished chunk 9 of 21\n",
      "\t[16:25:17.413458] finished chunk 12 of 21\n",
      "\t[16:25:17.521244] finished chunk 15 of 21\n",
      "\t[16:25:17.636654] finished chunk 18 of 21\n",
      "\t[16:25:17.711798] finished chunk 21 of 21\n",
      "Finished file! (1 of 1)\n",
      "Data Loaded Successfully!\n"
     ]
    }
   ],
   "source": [
    "print('Loading Trip Data...')\n",
    "\n",
    "try:\n",
    "    file_path_slug = '../../../datasets/cogobikeshare/*_Trip_Data.csv'\n",
    "\n",
    "    # glob all files\n",
    "    file_list = glob(file_path_slug)\n",
    "    print(file_list)\n",
    "\n",
    "    counter = 1\n",
    "    chunks = []\n",
    "    chunk_counter = 1\n",
    "    chunksize = 10000\n",
    "    num_chunks = 0\n",
    "    for file in file_list:\n",
    "        num_chunks += math.ceil(sum(1 for row in open(file, 'r'))/chunksize)\n",
    "\n",
    "    \n",
    "    # load data from each file\n",
    "    for file in file_list:\n",
    "\n",
    "\n",
    "        # import file in chunks\n",
    "        for chunk in pd.read_csv(file, chunksize=chunksize, iterator=True):\n",
    "\n",
    "            # append chunk to chunks list\n",
    "            chunks.append(chunk)\n",
    "            \n",
    "            if chunk_counter == 1 or chunk_counter % math.ceil(num_chunks/10) == 0 or chunk_counter == num_chunks:\n",
    "                print('\\t[%s] finished chunk %s of %s' % (datetime.datetime.now().time(), chunk_counter, num_chunks))\n",
    "            chunk_counter += 1\n",
    "            \n",
    "        print('Finished file! (%d of %d)' % (counter, len(file_list)))\n",
    "        counter += 1\n",
    "    \n",
    "    trip_import = pd.DataFrame()\n",
    "    trip_import = pd.concat(chunks)\n",
    "\n",
    "\n",
    "\n",
    "    print('Data Loaded Successfully!')\n",
    "\n",
    "except:\n",
    "    print('oops... something went wrong importing the data :(')"
   ]
  },
  {
   "cell_type": "code",
   "execution_count": 5,
   "metadata": {},
   "outputs": [
    {
     "name": "stdout",
     "output_type": "stream",
     "text": [
      "<class 'pandas.core.frame.DataFrame'>\n",
      "Int64Index: 201579 entries, 0 to 201578\n",
      "Data columns (total 12 columns):\n",
      "trip_id              201579 non-null int64\n",
      "start_time           201579 non-null object\n",
      "end_time             201579 non-null object\n",
      "bikeid               201579 non-null int64\n",
      "tripduration         201579 non-null int64\n",
      "from_station_id      201579 non-null int64\n",
      "from_station_name    201579 non-null object\n",
      "to_station_id        201579 non-null int64\n",
      "to_station_name      201579 non-null object\n",
      "usertype             201579 non-null object\n",
      "gender               72102 non-null object\n",
      "birthyear            72196 non-null float64\n",
      "dtypes: float64(1), int64(5), object(6)\n",
      "memory usage: 20.0+ MB\n"
     ]
    }
   ],
   "source": [
    "trip_import.info()"
   ]
  },
  {
   "cell_type": "markdown",
   "metadata": {},
   "source": [
    "## Utility Functions"
   ]
  },
  {
   "cell_type": "code",
   "execution_count": 25,
   "metadata": {
    "collapsed": true
   },
   "outputs": [],
   "source": [
    "def clean_trip_frame(df):\n",
    "    \n",
    "    \n",
    "    df.rename(columns={'bikeid' : 'bike_id', \n",
    "                       'tripduration' : 'duration', \n",
    "                       'usertype' : 'user_type', \n",
    "                       'birthyear' : 'birth_year'}, inplace=True)\n",
    "    \n",
    "    df['trip_id']            = df['trip_id'].astype('int')\n",
    "    df['start_time']         = pd.to_datetime(df['start_time'], format=\"%m/%d/%Y %H:%M\")\n",
    "    df['end_time']           = pd.to_datetime(df['end_time'],   format=\"%m/%d/%Y %H:%M\")\n",
    "    df['bike_id']            = df['bike_id'].astype('int')\n",
    "    df['duration']           = df['duration'].astype('int')\n",
    "    df['from_station_id']    = df['from_station_id'].astype('int')\n",
    "    df['to_station_id']      = df['to_station_id'].astype('int')\n",
    "    df['user_type']          = df['user_type'].astype('category')\n",
    "    df['gender']             = df['gender'].astype('category')\n",
    "\n",
    "    df['birth_year'].fillna(0, inplace=True)    \n",
    "    df['birth_year']         = df['birth_year'].astype('int')\n",
    "    \n",
    "    df.rename(columns={'start_time' : 'start_date', \n",
    "                       'end_time' : 'end_date'}, inplace=True)\n",
    "    \n",
    "\n",
    "    \n",
    "    # add 'duration_minutes' column\n",
    "    df['duration_minutes'] = df['duration'] / 60.\n",
    "    df['duration_minutes'] = df['duration_minutes'].astype('float')\n",
    "    \n",
    "    return df\n",
    "\n",
    "# def plot_terminal_trips(df, id, date_range = (pd.Timestamp('2013-08-01'), pd.Timestamp('2016-10-01')), x_label = 'Date', y_label = 'Trips', title_suffix='', draw_dates=[]):\n",
    "    \n",
    "#     def group_terminal(df, start=True):\n",
    "#         ''' group by start or end terminal trips per day\n",
    "#         '''\n",
    "        \n",
    "#         term = pd.DataFrame()\n",
    "#         if start:\n",
    "#             term = df[df['start_terminal'] == id]\n",
    "#         else:\n",
    "#             term = df[df['end_terminal'] == id]\n",
    "#         term.set_index('start_date', inplace=True)\n",
    "#         g_term = term.groupby(term.index.date)['trip_id'].count()\n",
    "        \n",
    "#         return g_term\n",
    "    \n",
    "        \n",
    "#     start_term = group_terminal(df, start=True)\n",
    "#     end_term   = group_terminal(df, start=False)\n",
    "    \n",
    "#     ax = start_term.plot(kind='line', color='c', alpha=0.75, figsize=(24,3))\n",
    "#     end_term.plot(kind='line', color='g', alpha=0.75, ax=ax)\n",
    "    \n",
    "#     ax.set_xlim(date_range)\n",
    "#     if title_suffix != '':\n",
    "#         title = 'Station %s - %s' % (id, title_suffix)\n",
    "#     elif y_label != '':\n",
    "#         title = 'Station %s - %s' % (id, y_label)\n",
    "#     else:\n",
    "#         title = 'Station %s' % id\n",
    "#     ax.set_title(title, size=TITLE_FONT_SIZE, weight='bold')\n",
    "#     ax.set_xlabel(x_label, size=LABEL_FONT_SIZE, weight='bold')\n",
    "#     ax.set_ylabel(y_label, size=LABEL_FONT_SIZE, weight='bold')\n",
    "    \n",
    "#     ax.legend(['Start Terminal', 'End Terminal'], loc=1)\n",
    "    \n",
    "#     if len(draw_dates) > 0:\n",
    "#         for xc in draw_dates:\n",
    "#             ax.axvline(x=xc, color='k', linestyle=':', alpha=0.5)\n",
    "#     plt.show()\n",
    "    \n",
    "    \n",
    "# def date_fixes(df, old_terminal, new_terminal, change_date):\n",
    "    \n",
    "#     print('[%s]\\tUpdating %s to %s for dates after %s' % (datetime.datetime.now().time(), old_terminal, new_terminal, change_date))\n",
    "\n",
    "# #     t_min = pd.Timestamp('2013-05-01')\n",
    "# #     t_max = pd.Timestamp('2016-10-01')\n",
    "    \n",
    "#     for station in [old_terminal, new_terminal]:\n",
    "#         plot_terminal_trips(df, station, title_suffix='PRE DATE FIX', draw_dates=[change_date])\n",
    "        \n",
    "#     # Fix A to B - Start Terminal\n",
    "#     print('[%s]\\tStarted indexing...' % datetime.datetime.now().time())\n",
    "#     index_to_update_start = df[(df.start_terminal == old_terminal) & (df.start_date >= change_date)].index\n",
    "#     df.loc[index_to_update_start, 'start_terminal'] = new_terminal\n",
    "#     print('\\t[%s]\\tComplete!' % datetime.datetime.now().time())    \n",
    "\n",
    "#     # Fix A to B - End Terminal\n",
    "#     print('[%s]\\tStarted Update...' % datetime.datetime.now().time())\n",
    "#     index_to_update_end   = df[(df.end_terminal == old_terminal) & (df.end_date >= change_date)].index\n",
    "#     df.loc[index_to_update_end, 'end_terminal'] = new_terminal\n",
    "#     print('\\t[%s]\\tComplete!' % datetime.datetime.now().time())\n",
    "    \n",
    "    \n",
    "#     # Fix B to A - Start Terminal\n",
    "#     print('[%s]\\tStarted indexing...' % datetime.datetime.now().time())\n",
    "#     index_to_update_start = df[(df.start_terminal == new_terminal) & (df.start_date < change_date)].index\n",
    "#     df.loc[index_to_update_start, 'start_terminal'] = old_terminal\n",
    "#     print('\\t[%s]\\tComplete!' % datetime.datetime.now().time())    \n",
    "\n",
    "#     # Fix B to A - End Terminal\n",
    "#     print('[%s]\\tStarted Update...' % datetime.datetime.now().time())\n",
    "#     index_to_update_end   = df[(df.end_terminal == new_terminal) & (df.end_date < change_date)].index\n",
    "#     df.loc[index_to_update_end, 'end_terminal'] = old_terminal\n",
    "#     print('\\t[%s]\\tComplete!' % datetime.datetime.now().time())\n",
    "    \n",
    "\n",
    "#     for station in [old_terminal, new_terminal]:\n",
    "#         plot_terminal_trips(df, station, draw_dates=[change_date])\n",
    "    \n",
    "#     return df"
   ]
  },
  {
   "cell_type": "markdown",
   "metadata": {},
   "source": [
    "# Clean Data\n",
    "\n",
    "- Format zip codes to take only first 5 digits, this data is self reported and often wrongly input per Bay Area Bike Share Notes\n",
    "- Prune out Trips greater than 60 minutes long\n",
    "- Adjust records for station relocations and renaming"
   ]
  },
  {
   "cell_type": "code",
   "execution_count": 26,
   "metadata": {},
   "outputs": [
    {
     "name": "stdout",
     "output_type": "stream",
     "text": [
      "[16:33:34.604012] Trip Data Cleanup Started\n",
      "[16:33:36.741352] Merging Trip Data\n",
      "[16:33:36.979684] Cleanup Complete!\n"
     ]
    }
   ],
   "source": [
    "# clean data frames\n",
    "print('[%s] Trip Data Cleanup Started' % datetime.datetime.now().time())\n",
    "trip_clean = clean_trip_frame(trip_import.copy())\n",
    "\n",
    "print('[%s] Merging Trip Data' % datetime.datetime.now().time())\n",
    "trip_data = trip_clean.copy()\n",
    "trip_data.drop_duplicates(inplace=True)\n",
    "trip_data.sort_values('trip_id', inplace=True)\n",
    "trip_data.reset_index(inplace=True, drop=True)\n",
    "\n",
    "print('[%s] Cleanup Complete!' % datetime.datetime.now().time())"
   ]
  },
  {
   "cell_type": "code",
   "execution_count": 27,
   "metadata": {},
   "outputs": [
    {
     "name": "stdout",
     "output_type": "stream",
     "text": [
      "<class 'pandas.core.frame.DataFrame'>\n",
      "RangeIndex: 201579 entries, 0 to 201578\n",
      "Data columns (total 13 columns):\n",
      "trip_id              201579 non-null int64\n",
      "start_date           201579 non-null datetime64[ns]\n",
      "end_date             201579 non-null datetime64[ns]\n",
      "bike_id              201579 non-null int64\n",
      "duration             201579 non-null int64\n",
      "from_station_id      201579 non-null int64\n",
      "from_station_name    201579 non-null object\n",
      "to_station_id        201579 non-null int64\n",
      "to_station_name      201579 non-null object\n",
      "user_type            201579 non-null category\n",
      "gender               72102 non-null category\n",
      "birth_year           201579 non-null int64\n",
      "duration_minutes     201579 non-null float64\n",
      "dtypes: category(2), datetime64[ns](2), float64(1), int64(6), object(2)\n",
      "memory usage: 17.3+ MB\n"
     ]
    }
   ],
   "source": [
    "trip_data.info()"
   ]
  },
  {
   "cell_type": "code",
   "execution_count": 28,
   "metadata": {},
   "outputs": [
    {
     "data": {
      "text/html": [
       "<div>\n",
       "<style>\n",
       "    .dataframe thead tr:only-child th {\n",
       "        text-align: right;\n",
       "    }\n",
       "\n",
       "    .dataframe thead th {\n",
       "        text-align: left;\n",
       "    }\n",
       "\n",
       "    .dataframe tbody tr th {\n",
       "        vertical-align: top;\n",
       "    }\n",
       "</style>\n",
       "<table border=\"1\" class=\"dataframe\">\n",
       "  <thead>\n",
       "    <tr style=\"text-align: right;\">\n",
       "      <th></th>\n",
       "      <th>trip_id</th>\n",
       "      <th>start_date</th>\n",
       "      <th>end_date</th>\n",
       "      <th>bike_id</th>\n",
       "      <th>duration</th>\n",
       "      <th>from_station_id</th>\n",
       "      <th>from_station_name</th>\n",
       "      <th>to_station_id</th>\n",
       "      <th>to_station_name</th>\n",
       "      <th>user_type</th>\n",
       "      <th>gender</th>\n",
       "      <th>birth_year</th>\n",
       "      <th>duration_minutes</th>\n",
       "    </tr>\n",
       "  </thead>\n",
       "  <tbody>\n",
       "    <tr>\n",
       "      <th>0</th>\n",
       "      <td>236</td>\n",
       "      <td>2013-07-28 14:50:00</td>\n",
       "      <td>2013-07-28 15:22:00</td>\n",
       "      <td>287</td>\n",
       "      <td>1897</td>\n",
       "      <td>30</td>\n",
       "      <td>Parsons Ave &amp; Oak St</td>\n",
       "      <td>24</td>\n",
       "      <td>High St &amp; 2nd Ave</td>\n",
       "      <td>Customer</td>\n",
       "      <td>NaN</td>\n",
       "      <td>0</td>\n",
       "      <td>31.616667</td>\n",
       "    </tr>\n",
       "    <tr>\n",
       "      <th>1</th>\n",
       "      <td>237</td>\n",
       "      <td>2013-07-28 14:51:00</td>\n",
       "      <td>2013-07-28 15:08:00</td>\n",
       "      <td>284</td>\n",
       "      <td>1016</td>\n",
       "      <td>30</td>\n",
       "      <td>Parsons Ave &amp; Oak St</td>\n",
       "      <td>22</td>\n",
       "      <td>Neil Ave &amp; Buttles Ave</td>\n",
       "      <td>Subscriber</td>\n",
       "      <td>Male</td>\n",
       "      <td>1982</td>\n",
       "      <td>16.933333</td>\n",
       "    </tr>\n",
       "    <tr>\n",
       "      <th>2</th>\n",
       "      <td>244</td>\n",
       "      <td>2013-07-28 15:45:00</td>\n",
       "      <td>2013-07-28 15:47:00</td>\n",
       "      <td>284</td>\n",
       "      <td>155</td>\n",
       "      <td>24</td>\n",
       "      <td>High St &amp; 2nd Ave</td>\n",
       "      <td>24</td>\n",
       "      <td>High St &amp; 2nd Ave</td>\n",
       "      <td>Customer</td>\n",
       "      <td>NaN</td>\n",
       "      <td>0</td>\n",
       "      <td>2.583333</td>\n",
       "    </tr>\n",
       "  </tbody>\n",
       "</table>\n",
       "</div>"
      ],
      "text/plain": [
       "   trip_id          start_date            end_date  bike_id  duration  \\\n",
       "0      236 2013-07-28 14:50:00 2013-07-28 15:22:00      287      1897   \n",
       "1      237 2013-07-28 14:51:00 2013-07-28 15:08:00      284      1016   \n",
       "2      244 2013-07-28 15:45:00 2013-07-28 15:47:00      284       155   \n",
       "\n",
       "   from_station_id     from_station_name  to_station_id  \\\n",
       "0               30  Parsons Ave & Oak St             24   \n",
       "1               30  Parsons Ave & Oak St             22   \n",
       "2               24     High St & 2nd Ave             24   \n",
       "\n",
       "          to_station_name   user_type gender  birth_year  duration_minutes  \n",
       "0       High St & 2nd Ave    Customer    NaN           0         31.616667  \n",
       "1  Neil Ave & Buttles Ave  Subscriber   Male        1982         16.933333  \n",
       "2       High St & 2nd Ave    Customer    NaN           0          2.583333  "
      ]
     },
     "execution_count": 28,
     "metadata": {},
     "output_type": "execute_result"
    }
   ],
   "source": [
    "trip_data.head(3)"
   ]
  },
  {
   "cell_type": "code",
   "execution_count": 29,
   "metadata": {},
   "outputs": [
    {
     "data": {
      "text/html": [
       "<div>\n",
       "<style>\n",
       "    .dataframe thead tr:only-child th {\n",
       "        text-align: right;\n",
       "    }\n",
       "\n",
       "    .dataframe thead th {\n",
       "        text-align: left;\n",
       "    }\n",
       "\n",
       "    .dataframe tbody tr th {\n",
       "        vertical-align: top;\n",
       "    }\n",
       "</style>\n",
       "<table border=\"1\" class=\"dataframe\">\n",
       "  <thead>\n",
       "    <tr style=\"text-align: right;\">\n",
       "      <th></th>\n",
       "      <th>trip_id</th>\n",
       "      <th>start_date</th>\n",
       "      <th>end_date</th>\n",
       "      <th>bike_id</th>\n",
       "      <th>duration</th>\n",
       "      <th>from_station_id</th>\n",
       "      <th>from_station_name</th>\n",
       "      <th>to_station_id</th>\n",
       "      <th>to_station_name</th>\n",
       "      <th>user_type</th>\n",
       "      <th>gender</th>\n",
       "      <th>birth_year</th>\n",
       "      <th>duration_minutes</th>\n",
       "    </tr>\n",
       "  </thead>\n",
       "  <tbody>\n",
       "    <tr>\n",
       "      <th>201576</th>\n",
       "      <td>277314</td>\n",
       "      <td>2017-08-31 21:32:00</td>\n",
       "      <td>2017-08-31 21:39:00</td>\n",
       "      <td>37</td>\n",
       "      <td>367</td>\n",
       "      <td>7</td>\n",
       "      <td>Neil Ave &amp; Nationwide Blvd</td>\n",
       "      <td>1</td>\n",
       "      <td>Bicentennial Park</td>\n",
       "      <td>Subscriber</td>\n",
       "      <td>Male</td>\n",
       "      <td>1981</td>\n",
       "      <td>6.116667</td>\n",
       "    </tr>\n",
       "    <tr>\n",
       "      <th>201577</th>\n",
       "      <td>277315</td>\n",
       "      <td>2017-08-31 22:11:00</td>\n",
       "      <td>2017-08-31 22:39:00</td>\n",
       "      <td>313</td>\n",
       "      <td>1667</td>\n",
       "      <td>52</td>\n",
       "      <td>High St &amp; 17th Ave</td>\n",
       "      <td>30</td>\n",
       "      <td>Parsons Ave &amp; Oak St</td>\n",
       "      <td>Subscriber</td>\n",
       "      <td>Male</td>\n",
       "      <td>1975</td>\n",
       "      <td>27.783333</td>\n",
       "    </tr>\n",
       "    <tr>\n",
       "      <th>201578</th>\n",
       "      <td>277316</td>\n",
       "      <td>2017-08-31 23:19:00</td>\n",
       "      <td>2017-08-31 23:32:00</td>\n",
       "      <td>129</td>\n",
       "      <td>772</td>\n",
       "      <td>23</td>\n",
       "      <td>High St &amp; Lincoln St</td>\n",
       "      <td>6</td>\n",
       "      <td>Schiller Park - Stewart Ave</td>\n",
       "      <td>Customer</td>\n",
       "      <td>NaN</td>\n",
       "      <td>0</td>\n",
       "      <td>12.866667</td>\n",
       "    </tr>\n",
       "  </tbody>\n",
       "</table>\n",
       "</div>"
      ],
      "text/plain": [
       "        trip_id          start_date            end_date  bike_id  duration  \\\n",
       "201576   277314 2017-08-31 21:32:00 2017-08-31 21:39:00       37       367   \n",
       "201577   277315 2017-08-31 22:11:00 2017-08-31 22:39:00      313      1667   \n",
       "201578   277316 2017-08-31 23:19:00 2017-08-31 23:32:00      129       772   \n",
       "\n",
       "        from_station_id           from_station_name  to_station_id  \\\n",
       "201576                7  Neil Ave & Nationwide Blvd              1   \n",
       "201577               52          High St & 17th Ave             30   \n",
       "201578               23        High St & Lincoln St              6   \n",
       "\n",
       "                    to_station_name   user_type gender  birth_year  \\\n",
       "201576            Bicentennial Park  Subscriber   Male        1981   \n",
       "201577         Parsons Ave & Oak St  Subscriber   Male        1975   \n",
       "201578  Schiller Park - Stewart Ave    Customer    NaN           0   \n",
       "\n",
       "        duration_minutes  \n",
       "201576          6.116667  \n",
       "201577         27.783333  \n",
       "201578         12.866667  "
      ]
     },
     "execution_count": 29,
     "metadata": {},
     "output_type": "execute_result"
    }
   ],
   "source": [
    "trip_data.tail(3)"
   ]
  },
  {
   "cell_type": "code",
   "execution_count": 31,
   "metadata": {
    "scrolled": false
   },
   "outputs": [
    {
     "name": "stdout",
     "output_type": "stream",
     "text": [
      "Mean trip duration (in minutes):\t27.343\n",
      "Median trip duration (in minutes):\t14.650\n",
      "\n",
      "1 StDev trip duration (in minutes):\t73.344\n",
      "2 StDev trip duration (in minutes):\t146.687\n",
      "\n",
      "Important Trips are between 0.000 and 174.030 minutes long\n"
     ]
    }
   ],
   "source": [
    "print('Mean trip duration (in minutes):\\t%0.3f' % (trip_data.duration.mean()/60.))\n",
    "print('Median trip duration (in minutes):\\t%0.3f' % (trip_data.duration.median()/60.))\n",
    "print()\n",
    "print('1 StDev trip duration (in minutes):\\t%0.3f' % (trip_data.duration.std()/60.))\n",
    "print('2 StDev trip duration (in minutes):\\t%0.3f' % (trip_data.duration.std()/60.*2))\n",
    "print()\n",
    "low_thresh = (trip_data.duration.mean() - trip_data.duration.std()*2)/60.\n",
    "if low_thresh < 0: low_thresh = 0\n",
    "high_thresh = (trip_data.duration.mean() + trip_data.duration.std()*2)/60.\n",
    "\n",
    "print('Important Trips are between %0.3f and %0.3f minutes long' % (low_thresh, high_thresh))"
   ]
  },
  {
   "cell_type": "code",
   "execution_count": 32,
   "metadata": {
    "scrolled": false
   },
   "outputs": [
    {
     "name": "stdout",
     "output_type": "stream",
     "text": [
      "Total Trips:\t201579\n",
      "Trips less than\t145\tminutes:\t98.33\t198211\n",
      "Trips less than\t135\tminutes:\t98.10\t197746\n",
      "Trips less than\t125\tminutes:\t97.81\t197155\n",
      "Trips less than\t115\tminutes:\t97.44\t196415\n",
      "Trips less than\t105\tminutes:\t96.97\t195470\n",
      "Trips less than\t95\tminutes:\t96.39\t194300\n",
      "Trips less than\t85\tminutes:\t95.62\t192744\n",
      "Trips less than\t75\tminutes:\t94.63\t190757\n",
      "Trips less than\t65\tminutes:\t93.41\t188296\n",
      "Trips less than\t55\tminutes:\t91.68\t184811\n",
      "Trips less than\t45\tminutes:\t89.38\t180179\n",
      "Trips less than\t35\tminutes:\t85.83\t173018\n",
      "Trips less than\t25\tminutes:\t74.91\t150995\n",
      "Trips less than\t15\tminutes:\t51.04\t102894\n",
      "Trips less than\t5\tminutes:\t10.13\t20423\n"
     ]
    }
   ],
   "source": [
    "print('Total Trips:\\t%s' % len(trip_data))\n",
    "\n",
    "for cut_off in [x*60 for x in range(145, 0, -10)]:\n",
    "    print('Trips less than\\t%0.f\\tminutes:\\t%0.2f\\t%s' % ((cut_off/60.), (len(trip_data[trip_data.duration <= cut_off])/len(trip_data)*100), len(trip_data[trip_data.duration <= cut_off])))\n",
    "    ind = str(cut_off/60.)"
   ]
  },
  {
   "cell_type": "markdown",
   "metadata": {},
   "source": [
    "## Prune By Trip Duration"
   ]
  },
  {
   "cell_type": "code",
   "execution_count": 33,
   "metadata": {},
   "outputs": [
    {
     "name": "stdout",
     "output_type": "stream",
     "text": [
      "[16:33:50.987067] - Removing trips longer than 174.030 minutes\n",
      "\t\tremoving 2452 items\n",
      "[16:33:51.019483] - Complete\n",
      "<class 'pandas.core.frame.DataFrame'>\n",
      "RangeIndex: 199127 entries, 0 to 199126\n",
      "Data columns (total 13 columns):\n",
      "trip_id              199127 non-null int64\n",
      "start_date           199127 non-null datetime64[ns]\n",
      "end_date             199127 non-null datetime64[ns]\n",
      "bike_id              199127 non-null int64\n",
      "duration             199127 non-null int64\n",
      "from_station_id      199127 non-null int64\n",
      "from_station_name    199127 non-null object\n",
      "to_station_id        199127 non-null int64\n",
      "to_station_name      199127 non-null object\n",
      "user_type            199127 non-null category\n",
      "gender               72023 non-null category\n",
      "birth_year           199127 non-null int64\n",
      "duration_minutes     199127 non-null float64\n",
      "dtypes: category(2), datetime64[ns](2), float64(1), int64(6), object(2)\n",
      "memory usage: 17.1+ MB\n"
     ]
    }
   ],
   "source": [
    "# Only use trips with duration no more or less than 2 Standard Deviations from the mean\n",
    "low_thresh = (trip_data.duration.mean() - trip_data.duration.std()*2)/60.\n",
    "if low_thresh < 0: low_thresh = 0\n",
    "high_thresh = (trip_data.duration.mean() + trip_data.duration.std()*2)/60.\n",
    "\n",
    "\n",
    "# prune data to exclude trips longer than 60 minutes\n",
    "print('[%s] - Removing trips longer than %0.3f minutes' % (datetime.datetime.now().time(), high_thresh))\n",
    "drop_list = trip_data[trip_data.duration_minutes > high_thresh].index\n",
    "\n",
    "if low_thresh > 0.:\n",
    "    print('[%s] - Removing trips longer than %0.3f minutes' % (datetime.datetime.now().time(), high_thresh))\n",
    "    drop_list.append(trip_data[trip_data.duration_minutes <= low_thresh].index)\n",
    "\n",
    "print('\\t\\tremoving %s items' % len(drop_list))\n",
    "trip_data.drop(drop_list, inplace=True)\n",
    "trip_data.reset_index(inplace=True, drop=True)\n",
    "\n",
    "print('[%s] - Complete' % (datetime.datetime.now().time()))\n",
    "trip_data.info()"
   ]
  },
  {
   "cell_type": "code",
   "execution_count": 39,
   "metadata": {},
   "outputs": [
    {
     "data": {
      "text/plain": [
       "user_type\n",
       "Customer      127016\n",
       "Dependent         97\n",
       "Subscriber     72014\n",
       "Name: trip_id, dtype: int64"
      ]
     },
     "execution_count": 39,
     "metadata": {},
     "output_type": "execute_result"
    }
   ],
   "source": [
    "trip_data.groupby('user_type')['trip_id'].count()"
   ]
  },
  {
   "cell_type": "markdown",
   "metadata": {},
   "source": [
    "## Preview Graphical EDA by User Type"
   ]
  },
  {
   "cell_type": "code",
   "execution_count": 102,
   "metadata": {
    "collapsed": true
   },
   "outputs": [],
   "source": [
    "def fill_missing_hours(df):\n",
    "\n",
    "    for i in range(0, 24):\n",
    "        try:\n",
    "            if df.loc[i,'trip_id'] < -9999:\n",
    "                pass\n",
    "        except:\n",
    "            df.loc[i,'trip_id'] = 0\n",
    "    df.reset_index(inplace=True)\n",
    "    df.sort_values('start_date', inplace=True)\n",
    "    df.set_index('start_date', inplace=True)    \n",
    "    return df            \n",
    "\n"
   ]
  },
  {
   "cell_type": "code",
   "execution_count": 103,
   "metadata": {
    "scrolled": false
   },
   "outputs": [
    {
     "data": {
      "image/png": "[encoded data removed]",
      "text/plain": [
       "<matplotlib.figure.Figure at 0x1a177a8b00>"
      ]
     },
     "metadata": {},
     "output_type": "display_data"
    },
    {
     "data": {
      "image/png": "[encoded data removed]",
      "text/plain": [
       "<matplotlib.figure.Figure at 0x1a195f1668>"
      ]
     },
     "metadata": {},
     "output_type": "display_data"
    },
    {
     "data": {
      "image/png": "[encoded data removed]",
      "text/plain": [
       "<matplotlib.figure.Figure at 0x1a17943e48>"
      ]
     },
     "metadata": {},
     "output_type": "display_data"
    },
    {
     "data": {
      "image/png": "[encoded data removed]",
      "text/plain": [
       "<matplotlib.figure.Figure at 0x1a17772b38>"
      ]
     },
     "metadata": {},
     "output_type": "display_data"
    }
   ],
   "source": [
    "\n",
    "subscriber_data = trip_data[trip_data.user_type == 'Subscriber'].groupby(trip_data.start_date.dt.hour)['trip_id'].count().to_frame()\n",
    "customer_data   = trip_data[trip_data.user_type == 'Customer'].groupby(trip_data.start_date.dt.hour)['trip_id'].count().to_frame()\n",
    "dependent_data  = trip_data[trip_data.user_type == 'Dependent'].groupby(trip_data.start_date.dt.hour)['trip_id'].count().to_frame()    \n",
    "\n",
    "subscriber_data = fill_missing_hours(subscriber_data)\n",
    "customer_data = fill_missing_hours(customer_data)\n",
    "dependent_data = fill_missing_hours(dependent_data)\n",
    "\n",
    "plt.subplots(figsize=(24,6))\n",
    "ax = sns.barplot(x = sorted(pd.unique(subscriber_data.index)) , y = subscriber_data.trip_id, color='b', alpha = 0.25, label='Subscribers')\n",
    "sns.barplot(x = sorted(pd.unique(customer_data.index)) , y = customer_data.trip_id, color='r', alpha = 0.25, label='Customers', ax=ax)\n",
    "sns.barplot(x = sorted(pd.unique(dependent_data.index)) , y = dependent_data.trip_id, color='g', alpha = 0.25, label='Dependents', ax=ax)\n",
    "\n",
    "ax.set_title('Distribution of Trips by Hour', size=TITLE_FONT_SIZE, weight='bold')\n",
    "ax.set_xlabel('Start Hour', size=LABEL_FONT_SIZE, weight='bold')\n",
    "ax.set_ylabel('Total Trips', size=LABEL_FONT_SIZE, weight='bold')\n",
    "ax.set_xticks(sorted(pd.unique(trip_data.start_date.dt.hour)))\n",
    "\n",
    "plt.legend()\n",
    "plt.show()\n",
    "\n",
    "\n",
    "plt.subplots(figsize=(24,6))\n",
    "ax = sns.barplot(x = sorted(pd.unique(subscriber_data.index)) , y = subscriber_data.trip_id, color='b', alpha = 0.25, label='Subscribers')\n",
    "\n",
    "ax.set_title('Distribution of Trips by Hour', size=TITLE_FONT_SIZE, weight='bold')\n",
    "ax.set_xlabel('Start Hour', size=LABEL_FONT_SIZE, weight='bold')\n",
    "ax.set_ylabel('Total Trips', size=LABEL_FONT_SIZE, weight='bold')\n",
    "ax.set_xticks(sorted(pd.unique(trip_data.start_date.dt.hour)))\n",
    "\n",
    "plt.legend()\n",
    "plt.show()\n",
    "\n",
    "\n",
    "plt.subplots(figsize=(24,6))\n",
    "ax = sns.barplot(x = sorted(pd.unique(customer_data.index)) , y = customer_data.trip_id, color='r', alpha = 0.25, label='Customers')\n",
    "\n",
    "ax.set_title('Distribution of Trips by Hour', size=TITLE_FONT_SIZE, weight='bold')\n",
    "ax.set_xlabel('Start Hour', size=LABEL_FONT_SIZE, weight='bold')\n",
    "ax.set_ylabel('Total Trips', size=LABEL_FONT_SIZE, weight='bold')\n",
    "ax.set_xticks(sorted(pd.unique(trip_data.start_date.dt.hour)))\n",
    "\n",
    "plt.legend()\n",
    "plt.show()\n",
    "\n",
    "\n",
    "plt.subplots(figsize=(24,6))\n",
    "ax = sns.barplot(x = sorted(pd.unique(dependent_data.index)) , y = dependent_data.trip_id, color='g', alpha = 0.25, label='Dependents')\n",
    "\n",
    "ax.set_title('Distribution of Trips by Hour', size=TITLE_FONT_SIZE, weight='bold')\n",
    "ax.set_xlabel('Start Hour', size=LABEL_FONT_SIZE, weight='bold')\n",
    "ax.set_ylabel('Total Trips', size=LABEL_FONT_SIZE, weight='bold')\n",
    "ax.set_xticks(sorted(pd.unique(trip_data.start_date.dt.hour)))\n",
    "\n",
    "plt.legend()\n",
    "plt.show()"
   ]
  },
  {
   "cell_type": "code",
   "execution_count": null,
   "metadata": {},
   "outputs": [
    {
     "name": "stdout",
     "output_type": "stream",
     "text": [
      "[16:59:34.791596]\tWriting File...\n"
     ]
    }
   ],
   "source": [
    "print('[%s]\\tWriting File...' % datetime.datetime.now().time())\n",
    "trip_data.to_csv('../clean_data/cogo/trip_data_cleaned.csv', encoding='utf-8')\n",
    "print('\\t[%s]\\tComplete!' % datetime.datetime.now().time())"
   ]
  },
  {
   "cell_type": "markdown",
   "metadata": {},
   "source": [
    "# Load Station Data"
   ]
  },
  {
   "cell_type": "code",
   "execution_count": null,
   "metadata": {},
   "outputs": [],
   "source": [
    "station_data = pd.DataFrame()\n",
    "station_data = pd.read_csv('../clean_data/station_data_cleaned_final.csv', parse_dates=['first_service_date', 'last_service_date'], index_col=0)\n",
    "\n",
    "station_data_basic = pd.DataFrame()\n",
    "# drop duplicated station_id ros, keep first\n",
    "station_data_basic = station_data.copy()\n",
    "station_data_basic.drop_duplicates(subset=['station_id'], keep='first', inplace=True)\n",
    "\n",
    "station_data_basic.drop(['lat', 'long', 'landmark', 'zip_code'], axis=1, inplace=True)\n",
    "\n",
    "station_data_basic.info()"
   ]
  },
  {
   "cell_type": "markdown",
   "metadata": {},
   "source": [
    "### Append Service area start and end columns"
   ]
  },
  {
   "cell_type": "code",
   "execution_count": null,
   "metadata": {},
   "outputs": [],
   "source": [
    "trip_data.head(3)"
   ]
  },
  {
   "cell_type": "code",
   "execution_count": null,
   "metadata": {},
   "outputs": [],
   "source": [
    "station_data.head(3)"
   ]
  },
  {
   "cell_type": "code",
   "execution_count": null,
   "metadata": {},
   "outputs": [],
   "source": [
    "print('[%s]\\tStarting Area Lookup...' % datetime.datetime.now().time())\n",
    "trip_data['start_area'] = trip_data['start_terminal'].apply(lambda x: station_data[station_data.station_id == x]['landmark'].iloc[0])\n",
    "print('\\t[%s]\\tComplete!' % datetime.datetime.now().time())\n",
    "\n",
    "print('[%s]\\tStarting Area Lookup...' % datetime.datetime.now().time())\n",
    "trip_data['end_area'] = trip_data['end_terminal'].apply(lambda x: station_data[station_data.station_id == x]['landmark'].iloc[0])\n",
    "print('\\t[%s]\\tComplete!' % datetime.datetime.now().time())"
   ]
  },
  {
   "cell_type": "code",
   "execution_count": null,
   "metadata": {},
   "outputs": [],
   "source": [
    "print('[%s]\\tStarting Area Lookup...' % datetime.datetime.now().time())\n",
    "trip_data['start_zip'] = trip_data['start_terminal'].apply(lambda x: station_data[station_data.station_id == x]['zip_code'].iloc[0])\n",
    "print('\\t[%s]\\tComplete!' % datetime.datetime.now().time())\n",
    "\n",
    "print('[%s]\\tStarting Area Lookup...' % datetime.datetime.now().time())\n",
    "trip_data['end_zip'] = trip_data['end_terminal'].apply(lambda x: station_data[station_data.station_id == x]['zip_code'].iloc[0])\n",
    "print('\\t[%s]\\tComplete!' % datetime.datetime.now().time())"
   ]
  },
  {
   "cell_type": "markdown",
   "metadata": {},
   "source": [
    "## Review Special Circumstance Stations"
   ]
  },
  {
   "cell_type": "code",
   "execution_count": null,
   "metadata": {
    "scrolled": true
   },
   "outputs": [],
   "source": [
    "\n",
    "# Station 26 Review\n",
    "s26_dates = ['2013-08-29', '2016-08-04']\n",
    "plot_terminal_trips(trip_data, 26, x_label = 'Date', y_label = 'Trips', title_suffix='Review', draw_dates=s26_dates)\n",
    "\n",
    "# Station 30 Review\n",
    "s30_dates = ['2013-08-29', '2015-09-28', '2016-08-31']\n",
    "plot_terminal_trips(trip_data, 30, x_label = 'Date', y_label = 'Trips', title_suffix='Review', draw_dates=s30_dates)\n",
    "\n",
    "# Station 33 Review\n",
    "s33_dates = ['2013-08-29', '2015-09-16', '2016-08-31']\n",
    "plot_terminal_trips(trip_data, 33, x_label = 'Date', y_label = 'Trips', title_suffix='Review', draw_dates=s33_dates)\n",
    "\n",
    "# Station 73 Review\n",
    "s73_dates = ['2013-08-29', '2015-05-19', '2016-08-31']\n",
    "plot_terminal_trips(trip_data, 73,x_label = 'Date', y_label = 'Trips', title_suffix='Review', draw_dates=s73_dates)"
   ]
  },
  {
   "cell_type": "code",
   "execution_count": null,
   "metadata": {},
   "outputs": [],
   "source": [
    "trip_data.head(5)"
   ]
  },
  {
   "cell_type": "code",
   "execution_count": null,
   "metadata": {},
   "outputs": [],
   "source": [
    "trip_data.info()"
   ]
  },
  {
   "cell_type": "code",
   "execution_count": null,
   "metadata": {},
   "outputs": [],
   "source": [
    "print('[%s]\\tWriting File...' % datetime.datetime.now().time())\n",
    "trip_data.to_csv('../clean_data/trip_data_cleaned_zips.csv', encoding='utf-8')\n",
    "print('\\t[%s]\\tComplete!' % datetime.datetime.now().time())"
   ]
  },
  {
   "cell_type": "markdown",
   "metadata": {},
   "source": [
    "# Load Weather Data"
   ]
  },
  {
   "cell_type": "code",
   "execution_count": null,
   "metadata": {
    "collapsed": true
   },
   "outputs": [],
   "source": [
    "weather_data = pd.DataFrame()\n",
    "weather_data = pd.read_csv('../clean_data/weather_cleaned_all.csv', parse_dates=['date'], index_col=['date'])"
   ]
  },
  {
   "cell_type": "code",
   "execution_count": null,
   "metadata": {},
   "outputs": [],
   "source": [
    "weather_data.head()"
   ]
  },
  {
   "cell_type": "code",
   "execution_count": null,
   "metadata": {},
   "outputs": [],
   "source": [
    "pd.unique(weather_data.events)"
   ]
  },
  {
   "cell_type": "markdown",
   "metadata": {},
   "source": [
    "## Append Weather Data to Trips"
   ]
  },
  {
   "cell_type": "code",
   "execution_count": null,
   "metadata": {},
   "outputs": [],
   "source": [
    "trip_data.head(3)"
   ]
  },
  {
   "cell_type": "code",
   "execution_count": null,
   "metadata": {},
   "outputs": [],
   "source": [
    "print('[%s]\\tAppending Weather Data...' % datetime.datetime.now().time())\n",
    "\n",
    "\n",
    "trip_data = pd.merge(trip_data, \n",
    "                      weather_data, \n",
    "                      how='left', \n",
    "                      left_on=[trip_data['start_date'].dt.date, 'start_zip'], \n",
    "                      right_on=[weather_data.index.date, 'zip_code'])\n",
    "trip_data.drop(['zip_code'], axis=1, inplace=True)\n",
    "# test.set_index('Trip ID', inplace=True)\n",
    "\n",
    "\n",
    "\n",
    "\n",
    "print('\\t[%s]\\tComplete!' % datetime.datetime.now().time())"
   ]
  },
  {
   "cell_type": "code",
   "execution_count": null,
   "metadata": {},
   "outputs": [],
   "source": [
    "trip_data.head(3)"
   ]
  },
  {
   "cell_type": "code",
   "execution_count": null,
   "metadata": {},
   "outputs": [],
   "source": [
    "trip_data.info()"
   ]
  },
  {
   "cell_type": "code",
   "execution_count": null,
   "metadata": {},
   "outputs": [],
   "source": [
    "trip_data.columns"
   ]
  },
  {
   "cell_type": "code",
   "execution_count": null,
   "metadata": {
    "collapsed": true
   },
   "outputs": [],
   "source": [
    "trip_data.to_csv('../clean_data/trip_data_cleaned_master.csv', encoding='utf-8')"
   ]
  },
  {
   "cell_type": "code",
   "execution_count": null,
   "metadata": {
    "collapsed": true
   },
   "outputs": [],
   "source": []
  }
 ],
 "metadata": {
  "kernelspec": {
   "display_name": "Python 3",
   "language": "python",
   "name": "python3"
  },
  "language_info": {
   "codemirror_mode": {
    "name": "ipython",
    "version": 3
   },
   "file_extension": ".py",
   "mimetype": "text/x-python",
   "name": "python",
   "nbconvert_exporter": "python",
   "pygments_lexer": "ipython3",
   "version": "3.6.3"
  }
 },
 "nbformat": 4,
 "nbformat_minor": 2
}
