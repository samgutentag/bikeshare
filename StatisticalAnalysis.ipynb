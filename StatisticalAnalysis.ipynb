{
 "cells": [
  {
   "cell_type": "markdown",
   "metadata": {},
   "source": [
    "# Statistical Analysis of Bay Area Bike Share Data"
   ]
  },
  {
   "cell_type": "markdown",
   "metadata": {},
   "source": [
    "> From our initial Visual Exploratory Data Analysis on the Bay Area BIke Share dataset, we inferred that the vast majority of the trips are taken by cummuters, who are subscribers.\n",
    ">\n",
    "> Lets now see if we can show a statistical significance or coorelation between stations and trips.\n",
    ">\n",
    ">\n",
    ">"
   ]
  },
  {
   "cell_type": "code",
   "execution_count": 1,
   "metadata": {
    "collapsed": true
   },
   "outputs": [],
   "source": [
    "%matplotlib inline\n",
    "\n",
    "import pandas as pd\n",
    "import numpy as np\n",
    "import matplotlib.pyplot as plt\n",
    "import seaborn as sns\n",
    "from glob import glob\n",
    "\n",
    "from scipy.stats import norm\n",
    "from scipy import stats\n",
    "import math\n",
    "\n",
    "sns.set()"
   ]
  },
  {
   "cell_type": "markdown",
   "metadata": {},
   "source": [
    "## Load Trip Data"
   ]
  },
  {
   "cell_type": "code",
   "execution_count": 2,
   "metadata": {},
   "outputs": [
    {
     "name": "stdout",
     "output_type": "stream",
     "text": [
      "Loading Trip Data...\n",
      "\tFinished file! (1 of 4)\n",
      "\tFinished file! (2 of 4)\n",
      "\tFinished file! (3 of 4)\n",
      "\tFinished file! (4 of 4)\n",
      "Data Loaded Successfully!\n"
     ]
    }
   ],
   "source": [
    "print('Loading Trip Data...')\n",
    "\n",
    "try:\n",
    "    file_path_slug = '../../datasets/bayareabikeshare/*_trip_data.csv'\n",
    "    \n",
    "    # glob all files\n",
    "    file_list = glob(file_path_slug)\n",
    "    \n",
    "    trip_import = pd.DataFrame()\n",
    "    \n",
    "    counter = 1\n",
    "    chunks = []\n",
    "    \n",
    "    # load data from each file\n",
    "    for file in file_list:\n",
    "        \n",
    "        # import file in chunks\n",
    "        for chunk in pd.read_csv(file, chunksize=10000, iterator=True):\n",
    "            \n",
    "            # set chunk index column to 'Trip ID'\n",
    "            chunk = chunk.set_index('Trip ID')\n",
    "            \n",
    "            # define Columns\n",
    "            chunk.columns = ['Duration', 'Start Date', 'Start Station', 'Start Terminal', 'End Date', \n",
    "                             'End Station', 'End Terminal', 'Bike #', 'Subscriber Type', 'Zip Code']\n",
    "            \n",
    "            # append chunk to chunks list\n",
    "            chunks.append(chunk)\n",
    "        \n",
    "        print('\\tFinished file! (%d of %d)' % (counter, len(file_list)))\n",
    "        counter += 1\n",
    "    \n",
    "    # concat chunks\n",
    "    trip_import = pd.concat(chunks)\n",
    "    \n",
    "    print('Data Loaded Successfully!')\n",
    "\n",
    "except:\n",
    "    print('oops... something went wrong importing the data :(')\n"
   ]
  },
  {
   "cell_type": "code",
   "execution_count": 3,
   "metadata": {},
   "outputs": [
    {
     "name": "stdout",
     "output_type": "stream",
     "text": [
      "<class 'pandas.core.frame.DataFrame'>\n",
      "Int64Index: 983648 entries, 913465 to 198776\n",
      "Data columns (total 10 columns):\n",
      "Duration           983648 non-null int64\n",
      "Start Date         983648 non-null object\n",
      "Start Station      983648 non-null object\n",
      "Start Terminal     983648 non-null int64\n",
      "End Date           983648 non-null object\n",
      "End Station        983648 non-null object\n",
      "End Terminal       983648 non-null int64\n",
      "Bike #             983648 non-null int64\n",
      "Subscriber Type    983648 non-null object\n",
      "Zip Code           976838 non-null object\n",
      "dtypes: int64(4), object(6)\n",
      "memory usage: 82.6+ MB\n"
     ]
    }
   ],
   "source": [
    "trip = trip_import.copy()\n",
    "trip.info()"
   ]
  },
  {
   "cell_type": "markdown",
   "metadata": {},
   "source": [
    "### Clean Trip info"
   ]
  },
  {
   "cell_type": "code",
   "execution_count": 4,
   "metadata": {
    "collapsed": true
   },
   "outputs": [],
   "source": [
    "# zipcodes are all over the place, only keep corrected 5 digit zipcodes, and replace all others with NaNs\n",
    "def clean_zipcode(item):\n",
    "    if len(item) != 5:\n",
    "\n",
    "        # split on '-'\n",
    "        try:\n",
    "            result = item.split('-')[0]\n",
    "        except:\n",
    "            result = item\n",
    "\n",
    "        # split on '.'\n",
    "        try:\n",
    "            result = item.split('.')[0]\n",
    "        except:\n",
    "            result = item\n",
    "        \n",
    "        # if len of item is less than 5, return 'NaN'\n",
    "        if len(result) < 5:\n",
    "            result = 'NaN'\n",
    "        else:\n",
    "            # if len result is greater than 5, take at most, first 5 digits\n",
    "            result = result[:5]\n",
    "    else:\n",
    "        result = item\n",
    "    \n",
    "    # make sure result is all digits\n",
    "    if result.isdigit():\n",
    "        return result\n",
    "    else:\n",
    "        return 'NaN'"
   ]
  },
  {
   "cell_type": "code",
   "execution_count": 5,
   "metadata": {},
   "outputs": [
    {
     "name": "stdout",
     "output_type": "stream",
     "text": [
      "Trip Data Cleanup Started...\n",
      "\tcleaning column names\n",
      "\tsubsetting to useful columns\n",
      "\tcreating a duration_minutes column\n",
      "\tconverting end and start dates to datetime objects\n",
      "\tcreating start_hour and end_hour columns\n",
      "\tcleaning zipcodes\n",
      "Trip Data Cleanup complete\n"
     ]
    }
   ],
   "source": [
    "print('Trip Data Cleanup Started...')\n",
    "\n",
    "# cleanup column names\n",
    "print('\\tcleaning column names')\n",
    "new_cols = []\n",
    "for col in trip.columns:\n",
    "    new_cols.append(col.replace(' ', '_').lower())\n",
    "trip.columns = new_cols\n",
    "\n",
    "# extract columns we want to keep\n",
    "print('\\tsubsetting to useful columns')\n",
    "important_cols = ['duration', 'start_date', 'start_terminal', 'end_date', 'end_terminal', 'bike_#', 'subscriber_type', 'zip_code']\n",
    "trip = trip[important_cols]\n",
    "\n",
    "# create duration minutes column\n",
    "print('\\tcreating a duration_minutes column')\n",
    "trip['duration_minutes'] = trip['duration'] / 60.0\n",
    "\n",
    "# convert end and start dates to datetime objects\n",
    "print('\\tconverting end and start dates to datetime objects')\n",
    "trip['start_date'] = pd.to_datetime(trip['start_date'], format=\"%m/%d/%Y %H:%M\")\n",
    "trip['end_date']   = pd.to_datetime(trip['end_date'],   format=\"%m/%d/%Y %H:%M\")\n",
    "\n",
    "# create a start and end hour trip column\n",
    "print('\\tcreating start_hour and end_hour columns')\n",
    "trip['trip_date']  = trip['start_date'].dt.date\n",
    "trip['start_hour'] = trip['start_date'].dt.hour\n",
    "trip['end_hour']   = trip['end_date'].dt.hour\n",
    "\n",
    "\n",
    "\n",
    "# convert and clean zipcodes\n",
    "print('\\tcleaning zipcodes')\n",
    "trip['zip_code'] = trip['zip_code'].astype(str)\n",
    "trip.zip_code = trip.zip_code.apply(clean_zipcode)\n",
    "trip['zip_code'] = pd.to_numeric(trip['zip_code'], errors='coerce')\n",
    "\n",
    "\n",
    "print('Trip Data Cleanup complete')\n",
    "trip_clean = trip.copy()"
   ]
  },
  {
   "cell_type": "markdown",
   "metadata": {},
   "source": [
    "### Prune Trip Data to exlude outliers previously discovered, and only San Francisco Trips"
   ]
  },
  {
   "cell_type": "code",
   "execution_count": 6,
   "metadata": {
    "collapsed": true
   },
   "outputs": [],
   "source": [
    "# our data set show duration in seconds, here are some handy conversions\n",
    "second = 1\n",
    "minute = second * 60\n",
    "hour = minute * 60\n",
    "day = hour * 24\n",
    "\n",
    "# station ID numbers that are in San Francisco\n",
    "sf_stations = [ 39,41,42,45,46,47,48,49,50,51,54,55,56,57,58,59,60,61,62,63,\n",
    "                64,65,66,67,68,69,70,71,72,73,74,75,76,77,82,90,91]"
   ]
  },
  {
   "cell_type": "code",
   "execution_count": 7,
   "metadata": {},
   "outputs": [
    {
     "name": "stdout",
     "output_type": "stream",
     "text": [
      "pruning data to trips no more than 60 minutes long...\n",
      "\tpruned data set 'trips_clean' consists of 955557 entries\n"
     ]
    }
   ],
   "source": [
    "# prune data to exclude trips longer than 60 minutes\n",
    "print('pruning data to trips no more than 60 minutes long...')\n",
    "trips_clean = trip_clean[trip_clean['duration'] <= 60 * minute].copy()\n",
    "print('\\tpruned data set \\'trips_clean\\' consists of %i entries' % len(trips_clean.index))\n",
    "\n",
    "# Cleanup\n",
    "trips_clean.sort_index(inplace=True)\n"
   ]
  },
  {
   "cell_type": "code",
   "execution_count": 8,
   "metadata": {},
   "outputs": [
    {
     "data": {
      "image/png": "[encoded data removed]",
      "text/plain": [
       "<matplotlib.figure.Figure at 0x1a1661c710>"
      ]
     },
     "metadata": {},
     "output_type": "display_data"
    }
   ],
   "source": [
    "# plot histogram of trip duration\n",
    "# trips_sf['duration_minutes'].plot(kind='hist', color='r', alpha=0.25, bins=200, figsize=(20,5))\n",
    "sns.distplot(trips_clean['duration_minutes'], bins=60)\n",
    "plt.title('Distribution of Trip Duration in Minutes')\n",
    "plt.xlabel='Trip Duration (Minutes)'\n",
    "plt.ylabel='Number of Trips'\n",
    "plt.legend(loc='best')\n",
    "plt.show()"
   ]
  },
  {
   "cell_type": "code",
   "execution_count": 9,
   "metadata": {
    "scrolled": true
   },
   "outputs": [
    {
     "data": {
      "image/png": "[encoded data removed]",
      "text/plain": [
       "<matplotlib.figure.Figure at 0x1a33714cc0>"
      ]
     },
     "metadata": {},
     "output_type": "display_data"
    }
   ],
   "source": [
    "sns.set()\n",
    "sns.distplot(trips_clean[trips_clean['subscriber_type'] == 'Subscriber'].duration_minutes, color='g', label='Subscriber', bins=60)\n",
    "sns.distplot(trips_clean[trips_clean['subscriber_type'] == 'Customer'].duration_minutes, color='b', label='Customer', bins=60)\n",
    "plt.legend()\n",
    "plt.show()"
   ]
  },
  {
   "cell_type": "code",
   "execution_count": null,
   "metadata": {
    "collapsed": true
   },
   "outputs": [],
   "source": []
  },
  {
   "cell_type": "markdown",
   "metadata": {},
   "source": [
    "#### Is this a normal distribution?"
   ]
  },
  {
   "cell_type": "code",
   "execution_count": 10,
   "metadata": {},
   "outputs": [
    {
     "name": "stdout",
     "output_type": "stream",
     "text": [
      "NormaltestResult(statistic=585662.35366654606, pvalue=0.0)\n",
      "NormaltestResult(statistic=378124.95124261698, pvalue=0.0)\n",
      "NormaltestResult(statistic=22235.995822342164, pvalue=0.0)\n"
     ]
    }
   ],
   "source": [
    "_all = stats.normaltest(trips_clean.duration_minutes.sort_values())\n",
    "_subscribers = stats.normaltest(trips_clean[trips_clean['subscriber_type'] == 'Subscriber'].duration_minutes.sort_values())\n",
    "_customers = stats.normaltest(trips_clean[trips_clean['subscriber_type'] == 'Customer'].duration_minutes.sort_values())\n",
    "\n",
    "print(_all)\n",
    "print(_subscribers)\n",
    "print(_customers)"
   ]
  },
  {
   "cell_type": "code",
   "execution_count": 11,
   "metadata": {},
   "outputs": [
    {
     "name": "stdout",
     "output_type": "stream",
     "text": [
      "Number of trips taken by 'all users'\t 955557\n",
      "Number of trips taken by 'subscribers'\t 844570\n",
      "Number of trips taken by 'customers'\t 110987\n"
     ]
    }
   ],
   "source": [
    "# sample size\n",
    "_all = len(trips_clean.index)\n",
    "_subscribers = len(trips_clean[trips_clean['subscriber_type'] == 'Subscriber'].index)\n",
    "_customers = len(trips_clean[trips_clean['subscriber_type'] == 'Customer'].index)\n",
    "\n",
    "print('Number of trips taken by \\'all users\\'\\t', _all)\n",
    "print('Number of trips taken by \\'subscribers\\'\\t', _subscribers)\n",
    "print('Number of trips taken by \\'customers\\'\\t', _customers)"
   ]
  },
  {
   "cell_type": "markdown",
   "metadata": {},
   "source": [
    "## Hypothesis 1"
   ]
  },
  {
   "cell_type": "markdown",
   "metadata": {},
   "source": [
    "> $H$o : Mean 'Subscriber' trip duration < Mean 'Customer' trip duration\n",
    ">\n",
    "> $H$a : Mean 'Subscriber' trip duration >= Mean 'Customer' trip duration"
   ]
  },
  {
   "cell_type": "code",
   "execution_count": 19,
   "metadata": {
    "collapsed": true
   },
   "outputs": [],
   "source": [
    "sub_data = trips_clean[trips_clean.subscriber_type == 'Subscriber']['duration_minutes']\n",
    "cust_data = trips_clean[trips_clean.subscriber_type == 'Customer']['duration_minutes']"
   ]
  },
  {
   "cell_type": "code",
   "execution_count": 21,
   "metadata": {},
   "outputs": [
    {
     "name": "stdout",
     "output_type": "stream",
     "text": [
      "subscriber mean:\t 8.79435941761\n",
      "customer mean:\t\t 18.5433866128\n",
      "Difference of means:\t -9.74902719523\n"
     ]
    }
   ],
   "source": [
    "# difference of means\n",
    "sub_mean = sub_data.mean()\n",
    "print('subscriber mean:\\t', sub_mean)\n",
    "\n",
    "cust_mean = cust_data.mean()\n",
    "print('customer mean:\\t\\t', cust_mean)\n",
    "\n",
    "diff = sub_mean - cust_mean\n",
    "print('Difference of means:\\t', diff)"
   ]
  },
  {
   "cell_type": "code",
   "execution_count": 23,
   "metadata": {},
   "outputs": [
    {
     "name": "stdout",
     "output_type": "stream",
     "text": [
      "Standard Error:\t\t 0.0362181874173167\n",
      "Margin of Error:\t 0.07098764733794073\n"
     ]
    }
   ],
   "source": [
    "# calculate margin of error\n",
    "sub_var = sub_data.var()\n",
    "cust_var = cust_data.var()\n",
    "var = sub_var + cust_var/2\n",
    "\n",
    "sub_count = len(sub_data)\n",
    "cust_count = len(cust_data)\n",
    "\n",
    "std_error = math.sqrt(sub_var/sub_count + cust_var/cust_count)\n",
    "print('Standard Error:\\t\\t', std_error)\n",
    "\n",
    "# margin of error\n",
    "margin = 1.96*std_error\n",
    "print('Margin of Error:\\t', margin)"
   ]
  },
  {
   "cell_type": "code",
   "execution_count": 25,
   "metadata": {},
   "outputs": [
    {
     "name": "stdout",
     "output_type": "stream",
     "text": [
      "t statistic:\t -508.70395135\n",
      "p value:\t 0.0\n"
     ]
    }
   ],
   "source": [
    "# calcuate t statistic and pvalue\n",
    "t, p = stats.ttest_ind(sub_data, cust_data)\n",
    "print('t statistic:\\t', t)\n",
    "print('p value:\\t', p)"
   ]
  },
  {
   "cell_type": "code",
   "execution_count": null,
   "metadata": {
    "collapsed": true
   },
   "outputs": [],
   "source": []
  },
  {
   "cell_type": "code",
   "execution_count": null,
   "metadata": {
    "collapsed": true
   },
   "outputs": [],
   "source": []
  },
  {
   "cell_type": "code",
   "execution_count": null,
   "metadata": {
    "collapsed": true
   },
   "outputs": [],
   "source": []
  },
  {
   "cell_type": "code",
   "execution_count": null,
   "metadata": {
    "collapsed": true
   },
   "outputs": [],
   "source": []
  },
  {
   "cell_type": "code",
   "execution_count": null,
   "metadata": {
    "collapsed": true
   },
   "outputs": [],
   "source": []
  },
  {
   "cell_type": "markdown",
   "metadata": {},
   "source": [
    "## Load Weather Data"
   ]
  },
  {
   "cell_type": "code",
   "execution_count": null,
   "metadata": {},
   "outputs": [],
   "source": [
    "print('Loading Weather Data...')\n",
    "\n",
    "try:\n",
    "    file_path_slug = '../../datasets/bayareabikeshare/*_weather_data.csv'\n",
    "    \n",
    "    # glob all files\n",
    "    file_list = glob(file_path_slug)\n",
    "    \n",
    "    weather_import = pd.DataFrame()\n",
    "    \n",
    "    counter = 1\n",
    "    chunks = []\n",
    "    \n",
    "    # load data from each file\n",
    "    for file in file_list:\n",
    "        \n",
    "        # import file in chunks\n",
    "        for chunk in pd.read_csv(file, chunksize=10000, iterator=True):\n",
    "                        \n",
    "            # define Columns\n",
    "            chunk.columns = ['Date', 'Max_Temperature_F', 'Mean_Temperature_F', 'Min_TemperatureF', 'Max_Dew_Point_F', \n",
    "                             'MeanDew_Point_F', 'Min_Dewpoint_F', 'Max_Humidity', 'Mean_Humidity', 'Min_Humidity', \n",
    "                             'Max_Sea_Level_Pressure_In', 'Mean_Sea_Level_Pressure_In', 'Min_Sea_Level_Pressure_In', \n",
    "                             'Max_Visibility_Miles', 'Mean_Visibility_Miles', 'Min_Visibility_Miles', \n",
    "                             'Max_Wind_Speed_MPH', 'Mean_Wind_Speed_MPH', 'Max_Gust_Speed_MPH', 'Precipitation_In', \n",
    "                             'Cloud_Cover', 'Events', 'Wind_Dir_Degrees', 'zip']\n",
    "\n",
    "            # append chunk to chunks list\n",
    "            chunks.append(chunk)\n",
    "        \n",
    "        print('\\tFinished file! (%d of %d)' % (counter, len(file_list)))\n",
    "        counter += 1\n",
    "    \n",
    "    # concat chunks\n",
    "    weather_import = pd.concat(chunks)\n",
    "    \n",
    "    print('Data Loaded Successfully!')\n",
    "\n",
    "except:\n",
    "    print('oops... something went wrong importing the data :(')\n",
    "\n"
   ]
  },
  {
   "cell_type": "code",
   "execution_count": null,
   "metadata": {},
   "outputs": [],
   "source": [
    "weather_data = weather_import.copy()\n",
    "weather_data.info()"
   ]
  },
  {
   "cell_type": "markdown",
   "metadata": {},
   "source": [
    "### Clean Weather info"
   ]
  },
  {
   "cell_type": "code",
   "execution_count": null,
   "metadata": {},
   "outputs": [],
   "source": [
    "print('Weather Data Cleanup Started...')\n",
    "\n",
    "# cleanup column names\n",
    "print('\\tcleaning column names')\n",
    "new_cols = []\n",
    "for col in weather_data.columns:\n",
    "    new_cols.append(col.replace(' ', '_').lower())\n",
    "weather_data.columns = new_cols\n",
    "weather = weather_data.copy()\n",
    "\n",
    "# convert end and start dates to datetime objects\n",
    "print('\\tconverting dates to datetime objects')\n",
    "weather['date'] = pd.to_datetime(weather['date'], format=\"%m/%d/%Y\")\n",
    "\n",
    "# extract columns we want to keep\n",
    "print('\\tsubsetting to useful columns')\n",
    "important_cols = ['date', 'max_temperature_f', 'mean_temperature_f', 'min_temperaturef',\n",
    "                  'max_dew_point_f', 'meandew_point_f', 'min_dewpoint_f',\n",
    "                  'max_wind_speed_mph', 'mean_wind_speed_mph', 'max_gust_speed_mph',\n",
    "                  'precipitation_in', 'cloud_cover', 'events', 'zip']\n",
    "weather = weather[important_cols]\n",
    "\n",
    "# correct min_temperaturef column name to min_temperature_f\n",
    "# weather['min_temperaturef'].rename('min_temperature_f')\n",
    "weather.rename(columns={'min_temperaturef': 'min_temperature_f'}, inplace=True)\n",
    "\n",
    "# cleanup and set date as index\n",
    "weather.set_index('date', inplace=True)\n",
    "weather.sort_index(inplace=True)\n",
    "\n",
    "# cleanup precipitation data to be all float values\n",
    "weather['precipitation_in'] = pd.to_numeric(weather['precipitation_in'], errors='coerce')\n",
    "\n",
    "print('Weather Data Cleanup complete')"
   ]
  },
  {
   "cell_type": "markdown",
   "metadata": {},
   "source": [
    "### Prune Weather Data to include only San Francisco Zip Code Data"
   ]
  },
  {
   "cell_type": "code",
   "execution_count": null,
   "metadata": {},
   "outputs": [],
   "source": [
    "# prune weather data to only San Francisco data\n",
    "print('pruning weather data to only San Francisco data')\n",
    "weather_sf = weather[weather['zip'] == 94107].copy()\n",
    "\n",
    "\n",
    "# Cleanup\n",
    "weather_sf.sort_index(inplace=True)\n",
    "print('\\tpruned data set \\'weather_sf\\' consists of %i entries' % len(weather_sf.index))\n",
    "\n",
    "\n",
    "# note the one day with a min temperature of zero\n",
    "# that has not happened in San Francisco since 1932, so this can be ignored\n",
    "weather_sf = weather_sf[weather_sf['min_temperature_f'] > 5.0]"
   ]
  },
  {
   "cell_type": "code",
   "execution_count": null,
   "metadata": {},
   "outputs": [],
   "source": [
    "weather_sf.info()"
   ]
  },
  {
   "cell_type": "code",
   "execution_count": null,
   "metadata": {},
   "outputs": [],
   "source": [
    "# plot temperatures for San Francisco\n",
    "weather_sf[['max_temperature_f', 'min_temperature_f', 'mean_temperature_f']].plot(figsize=(20,5))\n",
    "plt.title('Temperature by Day in San Francisco')\n",
    "plt.xlabel='Date'\n",
    "plt.ylabel='Temperature (F)'\n",
    "plt.legend(loc='best')\n",
    "plt.show()"
   ]
  },
  {
   "cell_type": "code",
   "execution_count": null,
   "metadata": {},
   "outputs": [],
   "source": [
    "# plot rain accumulation by day\n",
    "weather_sf[weather_sf['precipitation_in'] > 0.0]['precipitation_in'].plot(kind='bar', figsize=(20,5))\n",
    "plt.title('Precipitation by Day in San Francisco')\n",
    "plt.xlabel='Date'\n",
    "plt.ylabel='Preicpitation (in)'\n",
    "plt.legend(loc='best')\n",
    "plt.show()"
   ]
  },
  {
   "cell_type": "code",
   "execution_count": null,
   "metadata": {},
   "outputs": [],
   "source": [
    "\n",
    "num_rainy_days = len(weather_sf[weather_sf['precipitation_in'] > 0.0].index)\n",
    "num_days = len(weather_sf.index)\n",
    "ration_rainy_days = num_rainy_days / num_days * 100.0\n",
    "\n",
    "print('There are %s rainy days out of %s total reported days (%s)' % (num_rainy_days, num_days, ration_rainy_days))"
   ]
  },
  {
   "cell_type": "markdown",
   "metadata": {},
   "source": [
    "## Data Investigation"
   ]
  },
  {
   "cell_type": "code",
   "execution_count": null,
   "metadata": {},
   "outputs": [],
   "source": [
    "# Graph monthly ride totals by subscriber type\n",
    "ax = trips_sf[trips_sf['subscriber_type'] == 'Subscriber'].groupby([trips_sf['start_date'].dt.year, trips_sf['start_date'].dt.month])['duration_minutes'].count().plot(kind='bar', color='b', figsize=(10,5))\n",
    "trips_sf[trips_sf['subscriber_type'] == 'Customer'].groupby([trips_sf['start_date'].dt.year, trips_sf['start_date'].dt.month])['duration_minutes'].count().plot(kind='bar', color='g', ax=ax)\n",
    "\n",
    "plt.title('San Francisco Trips by Month')\n",
    "plt.xlabel='Start Hour'\n",
    "plt.legend(loc='best')\n",
    "plt.show()"
   ]
  },
  {
   "cell_type": "code",
   "execution_count": null,
   "metadata": {},
   "outputs": [],
   "source": [
    "# create a joined dataframe for statistical analysis ease\n",
    "data_check = pd.DataFrame()\n",
    "data_check['trips'] = trips_sf.groupby(['trip_date'])['bike_#'].count()\n",
    "data_check['mean_temp'] = weather_sf['mean_temperature_f']\n",
    "data_check['max_temp'] = weather_sf['max_temperature_f']\n",
    "data_check['min_temp'] = weather_sf['min_temperature_f']\n",
    "data_check['precipitation_in'] = weather_sf['precipitation_in']\n",
    "data_check['cloud_cover'] = weather_sf['cloud_cover']\n",
    "data_check = data_check[data_check['min_temp'] > 20.0]\n",
    "data_check.info()"
   ]
  },
  {
   "cell_type": "code",
   "execution_count": null,
   "metadata": {},
   "outputs": [],
   "source": [
    "# create rainy days only dataframe\n",
    "rainy_days = data_check[np.isfinite(data_check['precipitation_in'])]\n",
    "# prune only days where recorded rain is greater than 0.0\n",
    "rainy_days = rainy_days[rainy_days['precipitation_in'] > 0.0]\n",
    "rainy_days.info()"
   ]
  },
  {
   "cell_type": "code",
   "execution_count": null,
   "metadata": {},
   "outputs": [],
   "source": [
    "data_check.head()"
   ]
  },
  {
   "cell_type": "markdown",
   "metadata": {},
   "source": [
    "## Statistical Analysis"
   ]
  },
  {
   "cell_type": "code",
   "execution_count": null,
   "metadata": {},
   "outputs": [],
   "source": [
    "sns.jointplot('trips', 'cloud_cover', data=data_check, kind='reg')\n",
    "plt.show()"
   ]
  },
  {
   "cell_type": "code",
   "execution_count": null,
   "metadata": {},
   "outputs": [],
   "source": [
    "sns.jointplot('trips', 'precipitation_in', data=data_check, kind='reg')\n",
    "plt.show()"
   ]
  },
  {
   "cell_type": "code",
   "execution_count": null,
   "metadata": {},
   "outputs": [],
   "source": [
    "sns.jointplot('trips', 'max_temp', data=data_check, kind='reg')\n",
    "plt.show()"
   ]
  },
  {
   "cell_type": "code",
   "execution_count": null,
   "metadata": {},
   "outputs": [],
   "source": [
    "# plot rides by cloud cover\n",
    "sns.boxplot(x='cloud_cover', y='trips', data=data_check)\n",
    "plt.show()\n"
   ]
  },
  {
   "cell_type": "code",
   "execution_count": null,
   "metadata": {},
   "outputs": [],
   "source": [
    "sns.jointplot('cloud_cover', 'trips', data=data_check, kind='reg')\n",
    "plt.show()"
   ]
  },
  {
   "cell_type": "code",
   "execution_count": null,
   "metadata": {
    "collapsed": true
   },
   "outputs": [],
   "source": []
  },
  {
   "cell_type": "code",
   "execution_count": null,
   "metadata": {
    "collapsed": true
   },
   "outputs": [],
   "source": []
  },
  {
   "cell_type": "code",
   "execution_count": null,
   "metadata": {
    "collapsed": true
   },
   "outputs": [],
   "source": []
  },
  {
   "cell_type": "code",
   "execution_count": null,
   "metadata": {
    "collapsed": true
   },
   "outputs": [],
   "source": []
  },
  {
   "cell_type": "code",
   "execution_count": null,
   "metadata": {
    "collapsed": true
   },
   "outputs": [],
   "source": []
  },
  {
   "cell_type": "code",
   "execution_count": null,
   "metadata": {
    "collapsed": true
   },
   "outputs": [],
   "source": []
  },
  {
   "cell_type": "code",
   "execution_count": null,
   "metadata": {
    "collapsed": true
   },
   "outputs": [],
   "source": []
  },
  {
   "cell_type": "code",
   "execution_count": null,
   "metadata": {
    "collapsed": true
   },
   "outputs": [],
   "source": []
  },
  {
   "cell_type": "code",
   "execution_count": null,
   "metadata": {
    "collapsed": true
   },
   "outputs": [],
   "source": []
  },
  {
   "cell_type": "code",
   "execution_count": null,
   "metadata": {
    "collapsed": true
   },
   "outputs": [],
   "source": []
  },
  {
   "cell_type": "code",
   "execution_count": null,
   "metadata": {
    "collapsed": true
   },
   "outputs": [],
   "source": []
  },
  {
   "cell_type": "code",
   "execution_count": null,
   "metadata": {
    "collapsed": true
   },
   "outputs": [],
   "source": []
  }
 ],
 "metadata": {
  "kernelspec": {
   "display_name": "Python 3",
   "language": "python",
   "name": "python3"
  },
  "language_info": {
   "codemirror_mode": {
    "name": "ipython",
    "version": 3
   },
   "file_extension": ".py",
   "mimetype": "text/x-python",
   "name": "python",
   "nbconvert_exporter": "python",
   "pygments_lexer": "ipython3",
   "version": "3.6.3"
  }
 },
 "nbformat": 4,
 "nbformat_minor": 2
}
