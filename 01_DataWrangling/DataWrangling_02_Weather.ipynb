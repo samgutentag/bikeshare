{
 "cells": [
  {
   "cell_type": "markdown",
   "metadata": {},
   "source": [
    "# Wrangling Data From Bay Area Bike Share Published Data - Weather"
   ]
  },
  {
   "cell_type": "markdown",
   "metadata": {},
   "source": [
    "### Import Packages"
   ]
  },
  {
   "cell_type": "code",
   "execution_count": null,
   "metadata": {},
   "outputs": [],
   "source": [
    "%matplotlib inline\n",
    "\n",
    "import matplotlib\n",
    "import matplotlib.pyplot as plt\n",
    "import pandas as pd\n",
    "from glob import glob\n",
    "import datetime\n",
    "\n",
    "import seaborn as sns\n",
    "sns.set()"
   ]
  },
  {
   "cell_type": "markdown",
   "metadata": {},
   "source": [
    "<p> Set some notebook variables, makes the notebook 95% width of the screen for easier viewing</p>"
   ]
  },
  {
   "cell_type": "code",
   "execution_count": null,
   "metadata": {},
   "outputs": [],
   "source": [
    "from IPython.core.display import display, HTML\n",
    "display(HTML(\"<style>.container { width:95% !important; }</style>\"))"
   ]
  },
  {
   "cell_type": "markdown",
   "metadata": {},
   "source": [
    "<p> Set some global font sizes for plots </p>"
   ]
  },
  {
   "cell_type": "code",
   "execution_count": null,
   "metadata": {},
   "outputs": [],
   "source": [
    "font = {'size'   : 50}\n",
    "matplotlib.rc('font', **font)\n",
    "\n",
    "LABEL_FONT_SIZE = 15\n",
    "TITLE_FONT_SIZE = 25"
   ]
  },
  {
   "cell_type": "markdown",
   "metadata": {},
   "source": [
    "## Import Data"
   ]
  },
  {
   "cell_type": "code",
   "execution_count": null,
   "metadata": {},
   "outputs": [],
   "source": [
    "print('Started Loading Weather Data...')\n",
    "file_path_slug = '../source_data/bayareasbikeshare/*_weather_data.csv'\n",
    "file_list = glob(file_path_slug)\n",
    "\n",
    "weather_df = pd.DataFrame()\n",
    "\n",
    "counter = 1\n",
    "chunks = []\n",
    "\n",
    "for file in file_list:\n",
    "    for chunk in pd.read_csv(file, chunksize=10000, iterator=True):\n",
    "        chunk.columns = ['Date', 'Max_Temperature_F', 'Mean_Temperature_F', 'Min_TemperatureF', 'Max_Dew_Point_F', \n",
    "                         'MeanDew_Point_F', 'Min_Dewpoint_F', 'Max_Humidity', 'Mean_Humidity', 'Min_Humidity', \n",
    "                         'Max_Sea_Level_Pressure_In', 'Mean_Sea_Level_Pressure_In', 'Min_Sea_Level_Pressure_In', \n",
    "                         'Max_Visibility_Miles', 'Mean_Visibility_Miles', 'Min_Visibility_Miles', \n",
    "                         'Max_Wind_Speed_MPH', 'Mean_Wind_Speed_MPH', 'Max_Gust_Speed_MPH', 'Precipitation_In', \n",
    "                         'Cloud_Cover', 'Events', 'Wind_Dir_Degrees', 'zip']\n",
    "        chunks.append(chunk)\n",
    "    print('\\tfinished file! (%d of %d)'% (counter, len(file_list)))\n",
    "    counter += 1\n",
    "\n",
    "weather_df = pd.concat(chunks)\n",
    "print('Data Loaded Successfully!')"
   ]
  },
  {
   "cell_type": "markdown",
   "metadata": {
    "collapsed": true
   },
   "source": [
    "# Clean Data"
   ]
  },
  {
   "cell_type": "code",
   "execution_count": null,
   "metadata": {},
   "outputs": [],
   "source": [
    "# clean column names, remove white spaces\n",
    "weather_df.columns = [col.replace(' ', '_').lower() for col in weather_df.columns]\n",
    "\n",
    "# convert dates to proper formats and datetime objects\n",
    "weather_df['date'] = pd.to_datetime(weather_df['date'], format='%m/%d/%Y')\n",
    "\n",
    "# extract only columns we wish to keep\n",
    "important_cols = ['date', 'max_temperature_f', 'mean_temperature_f', 'min_temperaturef',\n",
    "                  'max_wind_speed_mph', 'mean_wind_speed_mph', 'max_gust_speed_mph',\n",
    "                  'precipitation_in', 'cloud_cover', 'events', 'zip']\n",
    "\n",
    "for col in weather_df.columns:\n",
    "    if col not in important_cols:\n",
    "        weather_df.drop(col, axis=1, inplace=True)\n",
    "\n",
    "# rename columns\n",
    "weather_df.columns = ['date', 'max_temp', 'mean_temp', 'min_temp', \n",
    "                      'max_wind', 'mean_wind', 'max_gust', 'precipitation', \n",
    "                      'cloud_cover', 'events', 'zip_code']\n",
    "\n",
    "\n",
    "# Sanitize 'prcipitation' column values\n",
    "weather_df.precipitation = pd.to_numeric(weather_df.precipitation, errors='coerce')\n",
    "weather_df.precipitation.fillna(0.0, inplace=True)\n",
    "\n",
    "# sort columns by 'date' and 'zip_code' and set index\n",
    "weather_df.sort_values(['date', 'zip_code'], inplace=True)\n",
    "weather_df.reset_index(drop=True, inplace=True)"
   ]
  },
  {
   "cell_type": "markdown",
   "metadata": {},
   "source": [
    "# Write Data to File"
   ]
  },
  {
   "cell_type": "code",
   "execution_count": null,
   "metadata": {},
   "outputs": [],
   "source": [
    "weather_df.to_csv('../clean_data/bayareabikeshare/weather_data_cleaned.csv', encoding='utf-8')"
   ]
  },
  {
   "cell_type": "markdown",
   "metadata": {},
   "source": [
    "***\n",
    "# Preview EDA of Weather Data"
   ]
  },
  {
   "cell_type": "code",
   "execution_count": null,
   "metadata": {},
   "outputs": [],
   "source": [
    "weather_df.set_index('date', inplace=True)\n",
    "\n",
    "def plot_temperature_range(df_weather, df_median, df_mean, title, x_label='Date', y_label='Temperature (°F)'):\n",
    "    \n",
    "    weather_range = df_weather['max_temp'] - df_weather['min_temp']\n",
    "    weather_r = weather_range.to_frame()\n",
    "    weather_r.columns=['range']\n",
    "    \n",
    "    median_range = df_median['max_temp'] - df_median['min_temp']\n",
    "    median_r = median_range.to_frame()\n",
    "    median_r.columns=['range']\n",
    "    \n",
    "    mean_range = df_mean['max_temp'] - df_mean['min_temp']\n",
    "    mean_r = mean_range.to_frame()\n",
    "    mean_r.columns=['range']\n",
    "    \n",
    "    \n",
    "    ax = mean_r['range'].plot(figsize=(12,6), label='mean_range', color='m')\n",
    "    median_r['range'].plot(ax=ax, label='median_range', color='k', linestyle=':')\n",
    "    weather_r['range'].plot(ax=ax, label='range', linestyle='None', marker='.', color='m', alpha=0.1)\n",
    "\n",
    "    plt.legend(['mean', 'median'],bbox_to_anchor=(1.05, 1), loc=2, borderaxespad=0.)\n",
    "    ax.set_ylabel('Temperature Difference (°F)')\n",
    "    ax.set_ylim(0, 40)\n",
    "    ax.set_title(title, size=TITLE_FONT_SIZE, weight='bold')\n",
    "    ax.set_xlabel(x_label, size=LABEL_FONT_SIZE, weight='bold')\n",
    "    ax.set_ylabel(y_label, size=LABEL_FONT_SIZE, weight='bold')\n",
    "    plt.tight_layout()\n",
    "    plt.show()\n",
    "    \n",
    "    \n",
    "    ax = df_mean['max_temp'].plot(figsize=(12,6), label='max_rolling', color='r')\n",
    "    df_mean['mean_temp'].plot(ax=ax, label='mean_rolling', color='k')\n",
    "    df_mean['min_temp'].plot(ax=ax, label='min_rolling', color='b')\n",
    "\n",
    "    df_median['max_temp'].plot(ax=ax, label='max_temp', color='r', linestyle=':', alpha=0.75)\n",
    "    df_median['mean_temp'].plot(ax=ax, label='mean_temp', color='k', linestyle=':', alpha=0.75)\n",
    "    df_median['min_temp'].plot(ax=ax, label='min_temp', color='b', linestyle=':', alpha=0.75)\n",
    "\n",
    "    plt.legend(['max', 'mean', 'min'],bbox_to_anchor=(1.05, 1), loc=2, borderaxespad=0.)\n",
    "    ax.set_ylabel('Temperature (°F)')\n",
    "    ax.set_ylim(20, 100)\n",
    "    plt.title('Monthly Mean Temperature', size=TITLE_FONT_SIZE, weight='bold')\n",
    "    ax.set_xlabel(x_label, size=LABEL_FONT_SIZE, weight='bold')\n",
    "    ax.set_ylabel(y_label, size=LABEL_FONT_SIZE, weight='bold')\n",
    "    plt.tight_layout()\n",
    "    plt.show() "
   ]
  },
  {
   "cell_type": "markdown",
   "metadata": {},
   "source": [
    "### San Francisco Weather"
   ]
  },
  {
   "cell_type": "code",
   "execution_count": null,
   "metadata": {},
   "outputs": [],
   "source": [
    "sanFrancisco_weather = weather_df[weather_df.zip_code == 94107]\n",
    "\n",
    "# resample Mean\n",
    "sf_weather_monthly_mean = sanFrancisco_weather.resample('M').mean()\n",
    "sf_weather_monthly_rolling_mean = sanFrancisco_weather.resample('M').mean().fillna(0).rolling(window=3, min_periods=1).mean()\n",
    "\n",
    "# resample Min\n",
    "sf_weather_monthly_min = sanFrancisco_weather.resample('M').min()\n",
    "sf_weather_monthly_rolling_min = sanFrancisco_weather.resample('M').min().fillna(0).rolling(window=3, min_periods=1).min()\n",
    "\n",
    "# resample Max\n",
    "sf_weather_monthly_max = sanFrancisco_weather.resample('M').max()\n",
    "sf_weather_monthly_rolling_max = sanFrancisco_weather.resample('M').max().fillna(0).rolling(window=3, min_periods=1).max()\n",
    "\n",
    "# resample Median\n",
    "sf_weather_monthly_median = sanFrancisco_weather.resample('M').median()\n",
    "sf_weather_monthly_rolling_median = sanFrancisco_weather.resample('M').median().fillna(0).rolling(window=3, min_periods=1).median()\n",
    "\n",
    "plot_temperature_range(sanFrancisco_weather, sf_weather_monthly_rolling_median, sf_weather_monthly_rolling_mean, 'San Francisco Weather')"
   ]
  },
  {
   "cell_type": "markdown",
   "metadata": {},
   "source": [
    "# Quick Reference to All Weather Data"
   ]
  },
  {
   "cell_type": "code",
   "execution_count": null,
   "metadata": {},
   "outputs": [],
   "source": [
    "weather_df.head(10)"
   ]
  },
  {
   "cell_type": "code",
   "execution_count": null,
   "metadata": {},
   "outputs": [],
   "source": []
  }
 ],
 "metadata": {
  "kernelspec": {
   "display_name": "Python 3",
   "language": "python",
   "name": "python3"
  },
  "language_info": {
   "codemirror_mode": {
    "name": "ipython",
    "version": 3
   },
   "file_extension": ".py",
   "mimetype": "text/x-python",
   "name": "python",
   "nbconvert_exporter": "python",
   "pygments_lexer": "ipython3",
   "version": "3.6.3"
  }
 },
 "nbformat": 4,
 "nbformat_minor": 2
}
