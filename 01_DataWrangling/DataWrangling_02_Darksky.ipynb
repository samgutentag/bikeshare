{
 "cells": [
  {
   "cell_type": "markdown",
   "metadata": {},
   "source": [
    "# Darksky Cleaner"
   ]
  },
  {
   "cell_type": "code",
   "execution_count": 1,
   "metadata": {},
   "outputs": [],
   "source": [
    "%matplotlib inline\n",
    "\n",
    "import matplotlib\n",
    "import numpy as np\n",
    "from scipy import stats\n",
    "import scipy\n",
    "import math\n",
    "import matplotlib.pyplot as plt\n",
    "import pandas as pd\n",
    "from glob import glob\n",
    "import datetime\n",
    "\n",
    "import seaborn as sns\n",
    "# sns.set()\n",
    "sns.set_style('whitegrid')\n",
    "sns.set_context(\"poster\")"
   ]
  },
  {
   "cell_type": "code",
   "execution_count": 2,
   "metadata": {},
   "outputs": [
    {
     "data": {
      "text/html": [
       "<style>.container { width:95% !important; }</style>"
      ],
      "text/plain": [
       "<IPython.core.display.HTML object>"
      ]
     },
     "metadata": {},
     "output_type": "display_data"
    }
   ],
   "source": [
    "from IPython.core.display import display, HTML\n",
    "display(HTML(\"<style>.container { width:95% !important; }</style>\"))"
   ]
  },
  {
   "cell_type": "code",
   "execution_count": 3,
   "metadata": {},
   "outputs": [],
   "source": [
    "day_labels = ['MON','TUE','WED','THU','FRI','SAT','SUN']\n",
    "day_labels_full = ['MONDAY','TUESDAY','WEDNESDAY','THURSDAY','FRIDAY','SATURDAY','SUNDAY']\n",
    "month_labels = ['JAN','FEB','MAR','APR','MAY','JUN','JUL','AUG','SEP','OCT','NOV','DEC']\n",
    "\n",
    "ordered_zipcodes = [94107, 95113, 94041, 94301, 94063]"
   ]
  },
  {
   "cell_type": "code",
   "execution_count": 4,
   "metadata": {},
   "outputs": [],
   "source": [
    "def zip_to_landmark(zip_code):\n",
    "    ''' Return zipcode for given landmark'''\n",
    "    if zip_code == 94107:\n",
    "        return 'San Francisco'\n",
    "    if zip_code == 94063:\n",
    "        return 'Redwood City'\n",
    "    if zip_code == 94301:\n",
    "        return 'Palo Alto'\n",
    "    if zip_code == 94041:\n",
    "        return 'Mountain View'\n",
    "    if zip_code == 95113:\n",
    "        return 'San Jose'\n",
    "    return False"
   ]
  },
  {
   "cell_type": "markdown",
   "metadata": {},
   "source": [
    "# Load Station Data For Identification\n",
    "<p>Cross reference cleaned station data to assign `station_id` column to each record</p>"
   ]
  },
  {
   "cell_type": "code",
   "execution_count": null,
   "metadata": {},
   "outputs": [
    {
     "data": {
      "text/html": [
       "<div>\n",
       "<style scoped>\n",
       "    .dataframe tbody tr th:only-of-type {\n",
       "        vertical-align: middle;\n",
       "    }\n",
       "\n",
       "    .dataframe tbody tr th {\n",
       "        vertical-align: top;\n",
       "    }\n",
       "\n",
       "    .dataframe thead th {\n",
       "        text-align: right;\n",
       "    }\n",
       "</style>\n",
       "<table border=\"1\" class=\"dataframe\">\n",
       "  <thead>\n",
       "    <tr style=\"text-align: right;\">\n",
       "      <th></th>\n",
       "      <th>station_id</th>\n",
       "      <th>lat</th>\n",
       "      <th>long</th>\n",
       "      <th>zip_code</th>\n",
       "      <th>region</th>\n",
       "    </tr>\n",
       "  </thead>\n",
       "  <tbody>\n",
       "    <tr>\n",
       "      <th>0</th>\n",
       "      <td>2</td>\n",
       "      <td>37.329732</td>\n",
       "      <td>-121.901782</td>\n",
       "      <td>95113</td>\n",
       "      <td>San Jose</td>\n",
       "    </tr>\n",
       "    <tr>\n",
       "      <th>1</th>\n",
       "      <td>3</td>\n",
       "      <td>37.330698</td>\n",
       "      <td>-121.888979</td>\n",
       "      <td>95113</td>\n",
       "      <td>San Jose</td>\n",
       "    </tr>\n",
       "    <tr>\n",
       "      <th>2</th>\n",
       "      <td>4</td>\n",
       "      <td>37.333988</td>\n",
       "      <td>-121.894902</td>\n",
       "      <td>95113</td>\n",
       "      <td>San Jose</td>\n",
       "    </tr>\n",
       "    <tr>\n",
       "      <th>3</th>\n",
       "      <td>5</td>\n",
       "      <td>37.331415</td>\n",
       "      <td>-121.893200</td>\n",
       "      <td>95113</td>\n",
       "      <td>San Jose</td>\n",
       "    </tr>\n",
       "    <tr>\n",
       "      <th>4</th>\n",
       "      <td>6</td>\n",
       "      <td>37.336721</td>\n",
       "      <td>-121.894074</td>\n",
       "      <td>95113</td>\n",
       "      <td>San Jose</td>\n",
       "    </tr>\n",
       "  </tbody>\n",
       "</table>\n",
       "</div>"
      ],
      "text/plain": [
       "   station_id        lat        long  zip_code    region\n",
       "0           2  37.329732 -121.901782     95113  San Jose\n",
       "1           3  37.330698 -121.888979     95113  San Jose\n",
       "2           4  37.333988 -121.894902     95113  San Jose\n",
       "3           5  37.331415 -121.893200     95113  San Jose\n",
       "4           6  37.336721 -121.894074     95113  San Jose"
      ]
     },
     "execution_count": 5,
     "metadata": {},
     "output_type": "execute_result"
    }
   ],
   "source": [
    "stations = pd.read_csv('../clean_data/bayareabikeshare/station_data_cleaned.csv', index_col=0, parse_dates=['first_service_date', 'last_service_date'])\n",
    "stations = stations[['station_id', 'lat', 'long', 'zip_code', 'region']].copy()\n",
    "stations.head()"
   ]
  },
  {
   "cell_type": "markdown",
   "metadata": {},
   "source": [
    "# Load DarkSky Data"
   ]
  },
  {
   "cell_type": "code",
   "execution_count": null,
   "metadata": {},
   "outputs": [
    {
     "name": "stdout",
     "output_type": "stream",
     "text": [
      "Started Loading Weather Data...\n",
      "\t[15:42:44.097470] finished chunk        1 of    66114\n"
     ]
    }
   ],
   "source": [
    "print('Started Loading Weather Data...')\n",
    "file_path_slug = '../source_data/darksky/*.csv'\n",
    "file_list = glob(file_path_slug)\n",
    "\n",
    "weather_df = pd.DataFrame()\n",
    "\n",
    "num_files = len(file_list)\n",
    "chunks = []\n",
    "\n",
    "for i, file in enumerate(file_list):\n",
    "\n",
    "    chunk = pd.read_csv(file, index_col=0, parse_dates=['time_corrected'])\n",
    "    \n",
    "    precision = 6\n",
    "    chunk = chunk.round({'latitude' : precision, 'longitude' : precision})\n",
    "    \n",
    "    chunk = chunk.merge(stations, left_on=['latitude', 'longitude'], right_on=['lat', 'long'])\n",
    "    \n",
    "    chunk.fillna(0, inplace=True)\n",
    "    \n",
    "    chunks.append(chunk)\n",
    "    \n",
    "    if (i + 1) == 1 or (i + 1) % math.ceil(num_files/10) == 0 or (i + 1) == num_files:\n",
    "        print('\\t[%s] finished chunk %s of %s' % (datetime.datetime.now().time(), str(i+1).rjust(8), str(num_files).rjust(8)))\n",
    "\n",
    "    \n",
    "weather_df = pd.concat(chunks)\n",
    "\n",
    "weather_df.drop_duplicates(inplace=True)\n",
    "weather_df.reset_index(inplace=True, drop=True)\n",
    "\n",
    "print('Data Loaded Successfully!')"
   ]
  },
  {
   "cell_type": "code",
   "execution_count": null,
   "metadata": {},
   "outputs": [],
   "source": [
    "weather = weather_df.copy()"
   ]
  },
  {
   "cell_type": "code",
   "execution_count": null,
   "metadata": {},
   "outputs": [],
   "source": [
    "weather.head()"
   ]
  },
  {
   "cell_type": "code",
   "execution_count": null,
   "metadata": {
    "scrolled": false
   },
   "outputs": [],
   "source": [
    "weather.info()"
   ]
  },
  {
   "cell_type": "markdown",
   "metadata": {},
   "source": [
    "## Encode 'precipType'\n",
    "<ul>\n",
    "    <li>rain -> 1</li>\n",
    "    <li>nan -> 0</li>\n",
    "</ul>"
   ]
  },
  {
   "cell_type": "code",
   "execution_count": null,
   "metadata": {
    "scrolled": true
   },
   "outputs": [],
   "source": [
    "weather.precipType.fillna(0, inplace=True)\n",
    "weather.precipType = weather.precipType.apply(lambda x: 0 if x == 0 else 1)"
   ]
  },
  {
   "cell_type": "code",
   "execution_count": null,
   "metadata": {
    "scrolled": true
   },
   "outputs": [],
   "source": [
    "weather.describe()"
   ]
  },
  {
   "cell_type": "markdown",
   "metadata": {},
   "source": [
    "# Write to File by Region"
   ]
  },
  {
   "cell_type": "code",
   "execution_count": null,
   "metadata": {},
   "outputs": [],
   "source": [
    "for z in weather.zip_code.unique():\n",
    "    region = zip_to_landmark(z)\n",
    "    \n",
    "    # get dataframe on just weather in region\n",
    "    df = weather[weather.zip_code == z].copy()\n",
    "    df.reset_index(inplace=True, drop=True)\n",
    "    df.to_csv('../clean_data/darksky/%s_darksky_cleaned.csv' % region.lower().replace(' ', ''))\n",
    "    "
   ]
  },
  {
   "cell_type": "code",
   "execution_count": null,
   "metadata": {},
   "outputs": [],
   "source": [
    "# Station Temperatures"
   ]
  },
  {
   "cell_type": "code",
   "execution_count": null,
   "metadata": {
    "scrolled": true
   },
   "outputs": [],
   "source": [
    "for sid in sorted(weather.station_id.unique()):\n",
    "    \n",
    "    df = weather[weather.station_id == sid].copy()\n",
    "    df.sort_values('time_corrected', inplace=True)\n",
    "    df.set_index('time_corrected', inplace=True)\n",
    "    \n",
    "    df.rolling('1D').mean().apparentTemperature.plot(figsize=(24,6))\n",
    "    title = '%s - %s' % (zip_to_landmark(df.zip_code.unique()), sid)\n",
    "    plt.title(title)\n",
    "    plt.show()\n",
    "    "
   ]
  },
  {
   "cell_type": "code",
   "execution_count": null,
   "metadata": {},
   "outputs": [],
   "source": []
  }
 ],
 "metadata": {
  "kernelspec": {
   "display_name": "Python 3",
   "language": "python",
   "name": "python3"
  },
  "language_info": {
   "codemirror_mode": {
    "name": "ipython",
    "version": 3
   },
   "file_extension": ".py",
   "mimetype": "text/x-python",
   "name": "python",
   "nbconvert_exporter": "python",
   "pygments_lexer": "ipython3",
   "version": "3.6.3"
  }
 },
 "nbformat": 4,
 "nbformat_minor": 2
}
