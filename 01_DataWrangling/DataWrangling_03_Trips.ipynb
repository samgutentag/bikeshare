{
 "cells": [
  {
   "cell_type": "markdown",
   "metadata": {},
   "source": [
    "# Wrangling Data From Bay Area Bike Share Published Data - Trips"
   ]
  },
  {
   "cell_type": "markdown",
   "metadata": {},
   "source": [
    "### Import Packages"
   ]
  },
  {
   "cell_type": "code",
   "execution_count": null,
   "metadata": {},
   "outputs": [],
   "source": [
    "%matplotlib inline\n",
    "\n",
    "import matplotlib\n",
    "import matplotlib.pyplot as plt\n",
    "import pandas as pd\n",
    "from glob import glob\n",
    "import datetime\n",
    "import math\n",
    "import numpy as np\n",
    "\n",
    "import seaborn as sns\n",
    "sns.set()"
   ]
  },
  {
   "cell_type": "markdown",
   "metadata": {},
   "source": [
    "<p> Set some notebook variables, makes the notebook 95% width of the screen for easier viewing</p>"
   ]
  },
  {
   "cell_type": "code",
   "execution_count": null,
   "metadata": {},
   "outputs": [],
   "source": [
    "from IPython.core.display import display, HTML\n",
    "display(HTML(\"<style>.container { width:95% !important; }</style>\"))"
   ]
  },
  {
   "cell_type": "markdown",
   "metadata": {},
   "source": [
    "<p> Set some global font sizes for plots </p>"
   ]
  },
  {
   "cell_type": "code",
   "execution_count": null,
   "metadata": {},
   "outputs": [],
   "source": [
    "font = {'size'   : 50}\n",
    "matplotlib.rc('font', **font)\n",
    "\n",
    "LABEL_FONT_SIZE = 15\n",
    "TITLE_FONT_SIZE = 25"
   ]
  },
  {
   "cell_type": "markdown",
   "metadata": {},
   "source": [
    "## Import Data"
   ]
  },
  {
   "cell_type": "code",
   "execution_count": null,
   "metadata": {},
   "outputs": [],
   "source": [
    "print('Started Loading Station Data...')\n",
    "file_path_slug = '../source_data/bayareasbikeshare/*_trip_data.csv'\n",
    "file_list = glob(file_path_slug)\n",
    "\n",
    "trips_df = pd.DataFrame()\n",
    "\n",
    "counter = 1\n",
    "chunks = []\n",
    "\n",
    "for file in file_list:\n",
    "    \n",
    "    chunk_counter = 1\n",
    "    num_chunks = math.ceil(sum(1 for row in open(file, 'r'))/10000)\n",
    "    \n",
    "    for chunk in pd.read_csv(file, chunksize=10000, iterator=True):\n",
    "        # define Columns\n",
    "        chunk.columns = ['trip_id', 'duration', 'start_date', 'start_station_name', 'start_terminal', 'end_date', \n",
    "                         'end_station_name', 'end_terminal', 'bike_id', 'subscriber_type', 'zip_code']\n",
    "\n",
    "        # append chunk to chunks list\n",
    "        chunks.append(chunk)\n",
    "\n",
    "        if chunk_counter == 1 or chunk_counter % math.ceil(num_chunks/10) == 0 or chunk_counter == num_chunks:\n",
    "            print('\\t[%s] finished chunk %s of %s' % (datetime.datetime.now().time(), chunk_counter, num_chunks))\n",
    "        chunk_counter += 1\n",
    "        \n",
    "    print('Finished file! (%d of %d)' % (counter, len(file_list)))\n",
    "    counter += 1\n",
    "    \n",
    "trips_df = pd.concat(chunks)\n",
    "print('Data Loaded Successfully!')"
   ]
  },
  {
   "cell_type": "markdown",
   "metadata": {},
   "source": [
    "## Cleaning Support Functions\n",
    "<p>General Cleaning functions</p>"
   ]
  },
  {
   "cell_type": "code",
   "execution_count": null,
   "metadata": {},
   "outputs": [],
   "source": [
    "def clean_zipcode(item):\n",
    "    ''' Zipcodes in this data set are self reported rider zipcodes\n",
    "        and the method of entry for these zipcodes is reported to \n",
    "        not be very clear for users, we are using a heavy hand \n",
    "        when cleaning up zip codes'''\n",
    "\n",
    "    zip_string = str(item)\n",
    "    \n",
    "    # if zipcode is not 5 characters long\n",
    "    if len(zip_string) > 5:\n",
    "        # try splitting on a few different characters\n",
    "\n",
    "        # split on '-'\n",
    "        try:\n",
    "            result = zip_string.split('-')[0]\n",
    "        except:\n",
    "            result = zip_string\n",
    "        \n",
    "        # split on '.'\n",
    "        try:\n",
    "            result = zip_string.split('.')[0]\n",
    "        except:\n",
    "            result = zip_string\n",
    "            \n",
    "        # take only first 5 characters\n",
    "        result = result[:5]\n",
    "\n",
    "        # if len of zipstring is less than 5, return 'NaN'\n",
    "        if len(result) < 5:\n",
    "            return 99999\n",
    "\n",
    "    # if it is 5 characters long, move along\n",
    "    else:\n",
    "        result = zip_string\n",
    "    \n",
    "    # make sure result is all digits\n",
    "    if result.isdigit():\n",
    "        result = int(result)\n",
    "        return result\n",
    "    else:\n",
    "        return 99999\n",
    "\n",
    "\n",
    "def clean_trip_frame(df):\n",
    "    '''Basic Cleanup of column types and appends a 'duration_minutes' \n",
    "        column converted from given 'duration' which is in seconds'''\n",
    "    # set column types\n",
    "    df['start_date']       = pd.to_datetime(df['start_date'], format=\"%m/%d/%Y %H:%M\")\n",
    "    df['end_date']         = pd.to_datetime(df['end_date'],   format=\"%m/%d/%Y %H:%M\")\n",
    "    df['trip_id']          = df['trip_id'].astype('int')\n",
    "    df['duration']         = df['duration'].astype('int')    \n",
    "    df['start_terminal']   = df['start_terminal'].astype('int')\n",
    "    df['end_terminal']     = df['end_terminal'].astype('int')\n",
    "    df['bike_id']          = df['bike_id'].astype('int')\n",
    "    df['subscriber_type']  = df['subscriber_type'].astype('category')\n",
    "    \n",
    "    # add 'duration_minutes' column\n",
    "    df['duration_minutes'] = df['duration'] / 60.\n",
    "    df['duration_minutes'] = df['duration_minutes'].astype('float')\n",
    "    \n",
    "    # Clean Zipcode\n",
    "    df['zip_code'] = df.zip_code.apply(clean_zipcode)\n",
    "    \n",
    "    # rename columns for clarity\n",
    "    df.rename(columns={'zip_code': 'user_zip', 'subscriber_type': 'user_type'}, inplace=True)\n",
    "\n",
    "    return df"
   ]
  },
  {
   "cell_type": "markdown",
   "metadata": {},
   "source": [
    "## Cleaning Data\n",
    "<p>Format zip codes to take only first 5 digits, this data is self reported and often wrongly input per Bay Area Bike Share Notes</p>"
   ]
  },
  {
   "cell_type": "code",
   "execution_count": null,
   "metadata": {},
   "outputs": [],
   "source": [
    "# clean data frames\n",
    "print('[%s] Trip Data Cleanup Started' % datetime.datetime.now().time())\n",
    "trips_df = clean_trip_frame(trips_df)\n",
    "\n",
    "print('[%s] Cleaning Duplicates and Reindexing Trip Data' % datetime.datetime.now().time())\n",
    "trips_df.drop_duplicates(inplace=True)\n",
    "trips_df.sort_values('trip_id', inplace=True)\n",
    "trips_df.reset_index(inplace=True, drop=True)\n",
    "\n",
    "print('[%s] Cleanup Complete!' % datetime.datetime.now().time())"
   ]
  },
  {
   "cell_type": "code",
   "execution_count": null,
   "metadata": {},
   "outputs": [],
   "source": [
    "trips_df.shape"
   ]
  },
  {
   "cell_type": "markdown",
   "metadata": {},
   "source": [
    "### Prune by Duration\n",
    "<p>The distribution of trips is heavily left skewed, pruning trips longer than 60 minutes in duration helps get a beter picture of the important data points</p>"
   ]
  },
  {
   "cell_type": "code",
   "execution_count": null,
   "metadata": {},
   "outputs": [],
   "source": [
    "trips_df.duration_minutes.plot(kind='hist', bins=60, figsize=(12,6))\n",
    "plt.xlabel('Duration (Minutes)')\n",
    "plt.ylabel('Frequency')\n",
    "plt.title('Trip Duration Histogram')\n",
    "plt.show()"
   ]
  },
  {
   "cell_type": "code",
   "execution_count": null,
   "metadata": {},
   "outputs": [],
   "source": [
    "# prune data to exclude trips longer than 60 minutes\n",
    "print('[%s] - Removing trips longer than 60 minutes' % (datetime.datetime.now().time()))\n",
    "drop_list = trips_df[trips_df.duration_minutes > 60.0].index\n",
    "print('\\t\\tremoving %s items' % len(drop_list))\n",
    "trips_df.drop(drop_list, inplace=True)\n",
    "trips_df.reset_index(inplace=True, drop=True)\n",
    "print('[%s] - Complete' % (datetime.datetime.now().time()))"
   ]
  },
  {
   "cell_type": "code",
   "execution_count": null,
   "metadata": {},
   "outputs": [],
   "source": [
    "trips_df.duration_minutes.plot(kind='hist', bins=60, figsize=(12,6))\n",
    "plt.xlabel('Duration (Minutes)')\n",
    "plt.ylabel('Frequency')\n",
    "plt.title('Trip Duration Histogram - Pruned')\n",
    "plt.show()"
   ]
  },
  {
   "cell_type": "markdown",
   "metadata": {},
   "source": [
    "## Correct Relocated Stations\n",
    "\n",
    "> There was a delay in station_id updates when stations 23, 24, 25, and 26 were relocated, update status information by changing the station_id for these stations in dates after they were relocated"
   ]
  },
  {
   "cell_type": "code",
   "execution_count": null,
   "metadata": {},
   "outputs": [],
   "source": [
    "def plot_terminal_trips(df, id, date_range = (pd.Timestamp('2013-08-01'), pd.Timestamp('2016-10-01')), x_label = 'Date', y_label = 'Trips', title_suffix='', draw_dates=[]):\n",
    "    '''for each terminal in a trips_df, plot the number of trips starting or finishing at that terminal'''\n",
    "    def group_terminal(df, start=True):\n",
    "        ''' group by start or end terminal trips per day\n",
    "        '''\n",
    "        \n",
    "        term = pd.DataFrame()\n",
    "        if start:\n",
    "            term = df[df['start_terminal'] == id]\n",
    "        else:\n",
    "            term = df[df['end_terminal'] == id]\n",
    "        term.set_index('start_date', inplace=True)\n",
    "        g_term = term.groupby(term.index.date)['trip_id'].count()\n",
    "        \n",
    "        return g_term\n",
    "    \n",
    "        \n",
    "    start_term = group_terminal(df, start=True)\n",
    "    end_term   = group_terminal(df, start=False)\n",
    "    \n",
    "    ax = start_term.plot(kind='line', color='c', alpha=0.75, figsize=(24,3))\n",
    "    end_term.plot(kind='line', color='g', alpha=0.75, ax=ax)\n",
    "    \n",
    "    ax.set_xlim(date_range)\n",
    "    if title_suffix != '':\n",
    "        title = 'Station %s - %s' % (id, title_suffix)\n",
    "    elif y_label != '':\n",
    "        title = 'Station %s - %s' % (id, y_label)\n",
    "    else:\n",
    "        title = 'Station %s' % id\n",
    "    ax.set_title(title, size=TITLE_FONT_SIZE, weight='bold')\n",
    "    ax.set_xlabel(x_label, size=LABEL_FONT_SIZE, weight='bold')\n",
    "    ax.set_ylabel(y_label, size=LABEL_FONT_SIZE, weight='bold')\n",
    "    \n",
    "    ax.legend(['Start Terminal', 'End Terminal'], loc=1)\n",
    "    \n",
    "    if len(draw_dates) > 0:\n",
    "        for xc in draw_dates:\n",
    "            ax.axvline(x=xc, color='k', linestyle=':', alpha=0.5)\n",
    "    plt.show()\n",
    "\n",
    "def date_fixes(df, old_terminal, new_terminal, change_date):\n",
    "    '''Correct dates on terminal relocations, outputs graphs for quick validation of before and after'''\n",
    "    print('[%s]\\tUpdating %s to %s for dates after %s' % (datetime.datetime.now().time(), old_terminal, new_terminal, change_date))\n",
    "    \n",
    "    for station in [old_terminal, new_terminal]:\n",
    "        plot_terminal_trips(df, station, title_suffix='PRE DATE FIX', draw_dates=[change_date])\n",
    "        \n",
    "    # Fix A to B - Start Terminal\n",
    "    print('[%s]\\tSettings %s to %s occuring before %s' % (datetime.datetime.now().time(), old_terminal, new_terminal, change_date))\n",
    "    index_to_update_start = df[(df.start_terminal == old_terminal) & (df.start_date >= change_date)].index\n",
    "    df.loc[index_to_update_start, 'start_terminal'] = new_terminal\n",
    "\n",
    "    # Fix A to B - End Terminal\n",
    "    index_to_update_end   = df[(df.end_terminal == old_terminal) & (df.end_date >= change_date)].index\n",
    "    df.loc[index_to_update_end, 'end_terminal'] = new_terminal\n",
    "    print('\\t[%s]\\tComplete!' % datetime.datetime.now().time())\n",
    "    \n",
    "    # Fix B to A - Start Terminal\n",
    "    print('[%s]\\tSettings %s to %s occuring after %s' % (datetime.datetime.now().time(), new_terminal, old_terminal, change_date))\n",
    "    index_to_update_start = df[(df.start_terminal == new_terminal) & (df.start_date < change_date)].index\n",
    "    df.loc[index_to_update_start, 'start_terminal'] = old_terminal\n",
    "\n",
    "    # Fix B to A - End Terminal\n",
    "    index_to_update_end   = df[(df.end_terminal == new_terminal) & (df.end_date < change_date)].index\n",
    "    df.loc[index_to_update_end, 'end_terminal'] = old_terminal\n",
    "    print('\\t[%s]\\tComplete!' % datetime.datetime.now().time())\n",
    "    \n",
    "    for station in [old_terminal, new_terminal]:\n",
    "        plot_terminal_trips(df, station, draw_dates=[change_date])\n",
    "    \n",
    "    return df"
   ]
  },
  {
   "cell_type": "code",
   "execution_count": null,
   "metadata": {
    "scrolled": true
   },
   "outputs": [],
   "source": [
    "change_date = datetime.datetime.strptime('2016-07-05', '%Y-%m-%d')\n",
    "trips_df = date_fixes(trips_df, 23, 88, change_date)\n",
    "trips_df = date_fixes(trips_df, 24, 89, change_date)"
   ]
  },
  {
   "cell_type": "code",
   "execution_count": null,
   "metadata": {
    "scrolled": true
   },
   "outputs": [],
   "source": [
    "change_date = datetime.datetime.strptime('2016-08-04', '%Y-%m-%d')\n",
    "trips_df = date_fixes(trips_df, 25, 91, change_date)\n",
    "trips_df = date_fixes(trips_df, 26, 90, change_date)"
   ]
  },
  {
   "cell_type": "markdown",
   "metadata": {},
   "source": [
    "# Write Data to File - Basic Trip Data"
   ]
  },
  {
   "cell_type": "code",
   "execution_count": null,
   "metadata": {},
   "outputs": [],
   "source": [
    "trips_df.to_csv('../clean_data/bayareabikeshare/trip_data_cleaned.csv', encoding='utf-8')"
   ]
  },
  {
   "cell_type": "markdown",
   "metadata": {},
   "source": [
    "# Append Station and Weather Data to Trips"
   ]
  },
  {
   "cell_type": "markdown",
   "metadata": {},
   "source": [
    "### Load Station and Weather Data"
   ]
  },
  {
   "cell_type": "code",
   "execution_count": null,
   "metadata": {},
   "outputs": [],
   "source": [
    "# load Station Data\n",
    "stations_df = pd.DataFrame()\n",
    "stations_df = pd.read_csv('./clean_data/station_data_cleaned.csv', index_col=0, parse_dates=['first_service_date', 'last_service_date'])\n",
    "stations_df.head()"
   ]
  },
  {
   "cell_type": "code",
   "execution_count": null,
   "metadata": {},
   "outputs": [],
   "source": [
    "# load weather data\n",
    "weather_df = pd.DataFrame()\n",
    "weather_df = pd.read_csv('./clean_data/weather_data_cleaned.csv', parse_dates=['date'], index_col=0)\n",
    "weather_df.set_index('date', drop=True)\n",
    "weather_df.head()"
   ]
  },
  {
   "cell_type": "markdown",
   "metadata": {},
   "source": [
    "### Append Data to Trips"
   ]
  },
  {
   "cell_type": "code",
   "execution_count": null,
   "metadata": {},
   "outputs": [],
   "source": [
    "print('trips_df.shape\\t\\t%s\\t%s' % (trips_df.shape[0], trips_df.shape[1]))\n",
    "print('stations_df.shape\\t%s\\t%s' % (stations_df.shape[0], stations_df.shape[1]))\n",
    "print('weather_df.shape\\t%s\\t%s' % (weather_df.shape[0], weather_df.shape[1]))"
   ]
  },
  {
   "cell_type": "code",
   "execution_count": null,
   "metadata": {},
   "outputs": [],
   "source": [
    "# append Station Data to Trips\n",
    "print('[%s]\\tAppending Start Area & Zip Lookup...' % datetime.datetime.now().time())\n",
    "trips_df['start_area'] = trips_df['start_terminal'].apply(lambda x: stations_df[stations_df.station_id == x]['landmark'].iloc[0])\n",
    "trips_df['start_zip'] = trips_df['start_terminal'].apply(lambda x: stations_df[stations_df.station_id == x]['zip_code'].iloc[0])\n",
    "print('\\t[%s]\\tComplete!' % datetime.datetime.now().time())\n",
    "\n",
    "print('[%s]\\tAppending End Area & Zip Lookup...' % datetime.datetime.now().time())\n",
    "trips_df['end_area'] = trips_df['end_terminal'].apply(lambda x: stations_df[stations_df.station_id == x]['landmark'].iloc[0])\n",
    "trips_df['end_zip'] = trips_df['end_terminal'].apply(lambda x: stations_df[stations_df.station_id == x]['zip_code'].iloc[0])\n",
    "print('\\t[%s]\\tComplete!' % datetime.datetime.now().time())\n",
    "\n",
    "print('[%s]\\tComplete!' % datetime.datetime.now().time())"
   ]
  },
  {
   "cell_type": "code",
   "execution_count": null,
   "metadata": {},
   "outputs": [],
   "source": [
    "trips_df.columns"
   ]
  },
  {
   "cell_type": "code",
   "execution_count": null,
   "metadata": {},
   "outputs": [],
   "source": [
    "dl = ['date', 'max_temp', 'mean_temp',\n",
    "       'min_temp', 'max_wind', 'mean_wind', 'max_gust', 'precipitation',\n",
    "       'cloud_cover', 'events', 'zip_code']\n",
    "\n",
    "for d in dl:\n",
    "    try:\n",
    "        trips_df.drop(d, axis=1, inplace=True)\n",
    "    except:\n",
    "        pass"
   ]
  },
  {
   "cell_type": "code",
   "execution_count": null,
   "metadata": {
    "scrolled": true
   },
   "outputs": [],
   "source": [
    "trips_df.head(5)"
   ]
  },
  {
   "cell_type": "code",
   "execution_count": null,
   "metadata": {},
   "outputs": [],
   "source": [
    "weather_df.head(5)"
   ]
  },
  {
   "cell_type": "code",
   "execution_count": null,
   "metadata": {},
   "outputs": [],
   "source": [
    "print('[%s]\\tAppending Weather Data...' % datetime.datetime.now().time())\n",
    "\n",
    "trips_complete_df = pd.merge(trips_df, \n",
    "                          weather_df, \n",
    "                          how='left', \n",
    "                          left_on=[trips_df['start_date'].dt.date, 'start_zip'], \n",
    "                          right_on=[weather_df.date.dt.date, 'zip_code'])\n",
    "trips_complete_df.drop(['zip_code'], axis=1, inplace=True)\n",
    "\n",
    "print('\\t[%s]\\tComplete!' % datetime.datetime.now().time())"
   ]
  },
  {
   "cell_type": "code",
   "execution_count": null,
   "metadata": {},
   "outputs": [],
   "source": [
    "trips_complete_df.info()"
   ]
  },
  {
   "cell_type": "markdown",
   "metadata": {},
   "source": [
    "# Write Data to File - Complete Trip Data"
   ]
  },
  {
   "cell_type": "code",
   "execution_count": null,
   "metadata": {},
   "outputs": [],
   "source": [
    "trips_complete_df.to_csv('../clean_data/bayareabikeshare/trip_data_extended_cleaned.csv', encoding='utf-8')"
   ]
  },
  {
   "cell_type": "markdown",
   "metadata": {},
   "source": [
    "***\n",
    "# Preview EDA of Stations Data"
   ]
  },
  {
   "cell_type": "code",
   "execution_count": null,
   "metadata": {
    "scrolled": false
   },
   "outputs": [],
   "source": [
    "x_ticks = sorted(pd.unique(trips_complete_df.start_date.dt.hour))\n",
    "subscriber_y = trips_complete_df[trips_complete_df.user_type == 'Subscriber'].groupby(trips_complete_df.start_date.dt.hour)['trip_id'].count()\n",
    "customer_y   = trips_complete_df[trips_complete_df.user_type == 'Customer'].groupby(trips_complete_df.start_date.dt.hour)['trip_id'].count()\n",
    "sub_norm  = subscriber_y.to_frame().apply(lambda x: x / (np.max(x) - np.min(x)))\n",
    "cust_norm =   customer_y.to_frame().apply(lambda x: x / (np.max(x) - np.min(x)))\n",
    "\n",
    "# Trips by Hour by Customer Type\n",
    "plt.subplots(figsize=(24,6))\n",
    "ax = sns.barplot(x = x_ticks , y = subscriber_y, color='b', alpha = 0.5, label='Subscribers')\n",
    "sns.barplot(x = x_ticks , y = customer_y, color='r', alpha = 0.5, label='Customers', ax=ax)\n",
    "\n",
    "ax.set_title('Distribution of Trips by Hour', size=TITLE_FONT_SIZE, weight='bold')\n",
    "ax.set_xlabel('Start Hour', size=LABEL_FONT_SIZE, weight='bold')\n",
    "ax.set_ylabel('Total Trips', size=LABEL_FONT_SIZE, weight='bold')\n",
    "ax.set_xticks(x_ticks)\n",
    "\n",
    "plt.legend()\n",
    "plt.show()\n",
    "\n",
    "# Normalized Trips by Hour by Customer Type\n",
    "plt.subplots(figsize=(24,6))\n",
    "ax = sns.barplot(x = x_ticks , y = sub_norm['trip_id'], color='b', alpha = 0.5, label='Subscribers')\n",
    "sns.barplot(x = x_ticks , y = cust_norm['trip_id'], color='r', alpha = 0.5, label='Customers', ax=ax)\n",
    "\n",
    "ax.set_title('Distribution of Trips by Hour (Normalized)', size=TITLE_FONT_SIZE, weight='bold')\n",
    "ax.set_xlabel('Start Hour', size=LABEL_FONT_SIZE, weight='bold')\n",
    "ax.set_ylabel('Distribution', size=LABEL_FONT_SIZE, weight='bold')\n",
    "ax.set_xticks(x_ticks)\n",
    "\n",
    "plt.legend()\n",
    "plt.show()"
   ]
  },
  {
   "cell_type": "markdown",
   "metadata": {},
   "source": [
    "# Quick Reference to some 'Special Stations'\n",
    "<p>Some stations were relocated, closed, or expanded during the program's recorded dataset being used in this analysis, this is a quick view to these notable stations</p>\n",
    "<ul>\n",
    "    <li> Station 21 - Relocated on September 16, 2015\n",
    "    <li> Station 30 - Relocated on September 28, 2015\n",
    "    <li> Station 33 - Relocated on September 16, 2015\n",
    "    <li> Station 73 - Relocated on March 14, 2016 and May 19, 2016 had 4 extra docks added\n",
    "</ul>"
   ]
  },
  {
   "cell_type": "code",
   "execution_count": null,
   "metadata": {},
   "outputs": [],
   "source": [
    "# Station 21 Review\n",
    "s21_dates = ['2013-08-29', '2015-09-16', '2016-08-04']\n",
    "plot_terminal_trips(trips_df, 21, x_label = 'Date', y_label = 'Trips', title_suffix='Review', draw_dates=s21_dates)\n",
    "\n",
    "# Station 30 Review\n",
    "s30_dates = ['2013-08-29', '2015-09-28', '2016-08-31']\n",
    "plot_terminal_trips(trips_df, 30, x_label = 'Date', y_label = 'Trips', title_suffix='Review', draw_dates=s30_dates)\n",
    "\n",
    "# Station 33 Review\n",
    "s33_dates = ['2013-08-29', '2015-09-16', '2016-08-31']\n",
    "plot_terminal_trips(trips_df, 33, x_label = 'Date', y_label = 'Trips', title_suffix='Review', draw_dates=s33_dates)\n",
    "\n",
    "# Station 73 Review\n",
    "s73_dates = ['2013-08-29', '2015-05-19', '2016-08-31']\n",
    "plot_terminal_trips(trips_df, 73, x_label = 'Date', y_label = 'Trips', title_suffix='Review', draw_dates=s73_dates)"
   ]
  },
  {
   "cell_type": "code",
   "execution_count": null,
   "metadata": {},
   "outputs": [],
   "source": []
  }
 ],
 "metadata": {
  "kernelspec": {
   "display_name": "Python 3",
   "language": "python",
   "name": "python3"
  },
  "language_info": {
   "codemirror_mode": {
    "name": "ipython",
    "version": 3
   },
   "file_extension": ".py",
   "mimetype": "text/x-python",
   "name": "python",
   "nbconvert_exporter": "python",
   "pygments_lexer": "ipython3",
   "version": "3.6.3"
  }
 },
 "nbformat": 4,
 "nbformat_minor": 2
}
