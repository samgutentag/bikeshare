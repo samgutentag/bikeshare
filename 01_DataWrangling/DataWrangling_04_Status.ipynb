{
 "cells": [
  {
   "cell_type": "markdown",
   "metadata": {},
   "source": [
    "# Wrangling Data From Bay Area Bike Share Published Data - Status"
   ]
  },
  {
   "cell_type": "markdown",
   "metadata": {},
   "source": [
    "### Import Packages"
   ]
  },
  {
   "cell_type": "code",
   "execution_count": null,
   "metadata": {},
   "outputs": [],
   "source": [
    "%matplotlib inline\n",
    "\n",
    "import matplotlib\n",
    "import matplotlib.pyplot as plt\n",
    "import pandas as pd\n",
    "import numpy as np\n",
    "from glob import glob\n",
    "import datetime\n",
    "import math\n",
    "\n",
    "import seaborn as sns\n",
    "sns.set()"
   ]
  },
  {
   "cell_type": "markdown",
   "metadata": {},
   "source": [
    "<p> Set some notebook variables, makes the notebook 95% width of the screen for easier viewing</p>"
   ]
  },
  {
   "cell_type": "code",
   "execution_count": null,
   "metadata": {},
   "outputs": [],
   "source": [
    "from IPython.core.display import display, HTML\n",
    "display(HTML(\"<style>.container { width:95% !important; }</style>\"))"
   ]
  },
  {
   "cell_type": "markdown",
   "metadata": {},
   "source": [
    "<p> Set some global font sizes for plots </p>"
   ]
  },
  {
   "cell_type": "code",
   "execution_count": null,
   "metadata": {},
   "outputs": [],
   "source": [
    "font = {'size'   : 50}\n",
    "matplotlib.rc('font', **font)\n",
    "\n",
    "LABEL_FONT_SIZE = 15\n",
    "TITLE_FONT_SIZE = 25"
   ]
  },
  {
   "cell_type": "markdown",
   "metadata": {},
   "source": [
    "## Import Data"
   ]
  },
  {
   "cell_type": "code",
   "execution_count": null,
   "metadata": {
    "scrolled": false
   },
   "outputs": [],
   "source": [
    "print('Loading Status Data...')\n",
    "\n",
    "# glob all files\n",
    "file_path_slug = '../source_data/bayareasbikeshare/*_status_data.csv'\n",
    "file_list = glob(file_path_slug)\n",
    "\n",
    "status_df = pd.DataFrame()\n",
    "chunks = []\n",
    "\n",
    "file_counter = 1\n",
    "\n",
    "# load data from each file\n",
    "for file in file_list:\n",
    "    file_name = file.split('/')[-1]\n",
    "    print('\\tLoading file\\t%s' % file_name)\n",
    "\n",
    "    chunk_counter = 1\n",
    "    chunksize = 10000\n",
    "    num_chunks = math.ceil(sum(1 for row in open(file, 'r'))/chunksize)\n",
    "\n",
    "    # import file in chunks\n",
    "    for chunk in pd.read_csv(file, chunksize=chunksize, iterator=True):\n",
    "        \n",
    "        # correct date time formatting\n",
    "        if file_name == '201408_status_data.csv' or file_name == '201508_status_data.csv':\n",
    "            # 2014-03-01 00:00:02\n",
    "            chunk['time']   = pd.to_datetime(chunk['time'],   format=\"%Y-%m-%d %H:%M:%S\").values.astype('<M8[m]')\n",
    "            \n",
    "        if file_name == '201608_status_data.csv':\n",
    "            # 9/1/2015 00:00:02\n",
    "            chunk['time']   = pd.to_datetime(chunk['time'],   format=\"%m/%d/%Y %H:%M:%S\").values.astype('<M8[m]')\n",
    "        \n",
    "        if file_name == '201402_status_data.csv':\n",
    "            # 2013/08/29 12:06:01\n",
    "            chunk['time']   = pd.to_datetime(chunk['time'],   format=\"%Y/%m/%d %H:%M:%S\").values.astype('<M8[m]')\n",
    "            \n",
    "        chunks.append(chunk)\n",
    "\n",
    "        if chunk_counter == 1 or chunk_counter % math.ceil(num_chunks/10) == 0 or chunk_counter == num_chunks:\n",
    "            print('\\t[%s] finished chunk %s of %s' % (datetime.datetime.now().time(), str(chunk_counter).rjust(5), str(num_chunks).rjust(5)))\n",
    "        chunk_counter += 1\n",
    "\n",
    "    print('Finished file! (%d of %d)\\n' % (file_counter, len(file_list)))\n",
    "    file_counter += 1\n",
    "\n",
    "# print('Merging chunks to dataframes')\n",
    "status_df = pd.concat(chunks)\n",
    "print('Data Loaded Successfully!')\n"
   ]
  },
  {
   "cell_type": "code",
   "execution_count": null,
   "metadata": {
    "scrolled": true
   },
   "outputs": [],
   "source": [
    "status_df.head()"
   ]
  },
  {
   "cell_type": "code",
   "execution_count": null,
   "metadata": {
    "scrolled": false
   },
   "outputs": [],
   "source": [
    "status_df.info()"
   ]
  },
  {
   "cell_type": "code",
   "execution_count": null,
   "metadata": {},
   "outputs": [],
   "source": [
    "print('[%s] Cleaning up duplicates' % datetime.datetime.now().time())\n",
    "status_df.drop_duplicates(inplace=True)\n",
    "print('[%s] Resetting Index' % datetime.datetime.now().time())\n",
    "status_df.reset_index(drop=True, inplace=True)\n",
    "print('\\t[%s]Complete!\\n' % datetime.datetime.now().time())\n",
    "status_df.head(3)"
   ]
  },
  {
   "cell_type": "code",
   "execution_count": null,
   "metadata": {},
   "outputs": [],
   "source": [
    "status_df.info()"
   ]
  },
  {
   "cell_type": "markdown",
   "metadata": {},
   "source": [
    "# Cleaning Functions"
   ]
  },
  {
   "cell_type": "code",
   "execution_count": null,
   "metadata": {},
   "outputs": [],
   "source": [
    "def show_station(df, id, time_min, time_max, x_label = '', y_label = '', title_suffix='', color='b', col='bikes_available'):\n",
    "    '''Plot Usage of station between two time stamps\n",
    "        usage is default the number of 'bikes_available' at any given time period\n",
    "    '''\n",
    "    t = pd.DataFrame()\n",
    "    t = df[df.station_id == id]\n",
    "    t.set_index('time', inplace=True)\n",
    "    ax = t[col].plot(color=color, figsize=(24,3))\n",
    "    ax.set_xlim(time_min, time_max)\n",
    "    if title_suffix != '':\n",
    "        title = 'Station %s - %s' % (id, title_suffix)\n",
    "    elif y_label != '':\n",
    "        title = 'Station %s - %s' % (id, y_label)\n",
    "    else:\n",
    "        title = 'Station %s' % id\n",
    "    ax.set_title(title, size=TITLE_FONT_SIZE, weight='bold')\n",
    "    ax.set_xlabel(x_label, size=LABEL_FONT_SIZE, weight='bold')\n",
    "    ax.set_ylabel(y_label, size=LABEL_FONT_SIZE, weight='bold')\n",
    "    plt.show()\n",
    "    \n",
    "    # empty out t dataframe, HOpefully more memory concious\n",
    "    t = pd.DataFrame()"
   ]
  },
  {
   "cell_type": "code",
   "execution_count": null,
   "metadata": {},
   "outputs": [],
   "source": [
    "def date_fixes(df=None, old_station=0, new_station=0, change_date=None):\n",
    "    '''Update status records from old station id to new station id on dates following the change date value '''\n",
    "    print('[%s]\\tUpdating %s to %s for dates after %s' % (datetime.datetime.now().time(), old_station, new_station, change_date))\n",
    "\n",
    "    print('[%s]\\tStarted indexing...' % datetime.datetime.now().time())\n",
    "    index_to_update = df[(df.station_id == old_station) & (df.time >= change_date)].index\n",
    "    print('\\t[%s]\\tComplete!' % datetime.datetime.now().time())    \n",
    "\n",
    "    station_check = [old_station, new_station]\n",
    "\n",
    "    t_min = pd.Timestamp('2013-07-01')\n",
    "    t_max = pd.Timestamp('2016-10-01')\n",
    "\n",
    "    print('[%s]\\tStarted Update...' % datetime.datetime.now().time())\n",
    "    df.loc[index_to_update, 'station_id'] = new_station\n",
    "    print('\\t[%s]\\tComplete!' % datetime.datetime.now().time())\n",
    "\n",
    "    for station in station_check:\n",
    "        show_station(df, station, t_min, t_max)\n",
    "    \n",
    "    return df"
   ]
  },
  {
   "cell_type": "markdown",
   "metadata": {},
   "source": [
    "# Correct Relocated Stations\n",
    "<p>From the notes included with the dataset, there was a delay in the renaming of stations relocated when services in Redwood City was discontinued.</p>\n",
    "<p>Here we will first look at the incorrect data, and then correct the status's with relocated stations to proper dates.</p>"
   ]
  },
  {
   "cell_type": "markdown",
   "metadata": {},
   "source": [
    "## 'Old' Stations prior to cleaning"
   ]
  },
  {
   "cell_type": "code",
   "execution_count": null,
   "metadata": {},
   "outputs": [],
   "source": [
    "closed_stations = [21, 22, 23, 24, 25, 26]\n",
    "\n",
    "t_min = pd.Timestamp('2013-07-01')\n",
    "t_max = pd.Timestamp('2016-10-01')\n",
    "\n",
    "for station in closed_stations:\n",
    "    show_station(status_df, station, t_min, t_max)"
   ]
  },
  {
   "cell_type": "markdown",
   "metadata": {},
   "source": [
    "## 'New' stations prior to cleaning"
   ]
  },
  {
   "cell_type": "code",
   "execution_count": null,
   "metadata": {},
   "outputs": [],
   "source": [
    "relocated_stations = [88, 89, 90, 91]\n",
    "\n",
    "for station in relocated_stations:\n",
    "    show_station(status_df, station, t_min, t_max)"
   ]
  },
  {
   "cell_type": "markdown",
   "metadata": {},
   "source": [
    "## Correct Stations Dates for Status Records"
   ]
  },
  {
   "cell_type": "code",
   "execution_count": null,
   "metadata": {
    "scrolled": false
   },
   "outputs": [],
   "source": [
    "# stations 23 and 24 were relocated on July 5, 2016\n",
    "change_date = datetime.datetime.strptime('2016-07-05', '%Y-%m-%d')\n",
    "status_df = date_fixes(df=status_df, old_station=23, new_station=88, change_date=change_date)\n",
    "status_df = date_fixes(df=status_df, old_station=24, new_station=89, change_date=change_date)\n",
    "\n",
    "# stations 25 and 26 were relocated on August 4th, 2016\n",
    "change_date = datetime.datetime.strptime('2016-08-04', '%Y-%m-%d')\n",
    "status_df = date_fixes(df=status_df, old_station=25, new_station=91, change_date=change_date)\n",
    "status_df = date_fixes(df=status_df, old_station=26, new_station=90, change_date=change_date)"
   ]
  },
  {
   "cell_type": "markdown",
   "metadata": {},
   "source": [
    "# Drop station 87, there is no station 87"
   ]
  },
  {
   "cell_type": "code",
   "execution_count": null,
   "metadata": {},
   "outputs": [],
   "source": [
    "# drop station 87 - there is no station 87\n",
    "print('[%s] - Removing Station 87 status, there is no station 87' % (datetime.datetime.now().time()))\n",
    "print('\\t\\tremoving %s items' % len(status_df[status_df.station_id == 87].index))\n",
    "status_df.drop(status_df[status_df.station_id == 87].index, inplace=True)\n",
    "print('[%s] - Complete' % (datetime.datetime.now().time()))"
   ]
  },
  {
   "cell_type": "markdown",
   "metadata": {},
   "source": [
    "# Load Station Data"
   ]
  },
  {
   "cell_type": "code",
   "execution_count": null,
   "metadata": {},
   "outputs": [],
   "source": [
    "# load Station Data\n",
    "stations_df = pd.DataFrame()\n",
    "stations_df = pd.read_csv('./clean_data/station_data_cleaned.csv', index_col=0, parse_dates=['first_service_date', 'last_service_date'])\n",
    "\n",
    "# drop non necessary columns\n",
    "stations_df.drop(['days_in_service', 'name', 'lat', 'long', 'first_service_date', 'last_service_date'], axis=1, inplace=True)\n",
    "stations_df.drop_duplicates(subset=['station_id'], inplace=True)\n",
    "stations_df.head(3)"
   ]
  },
  {
   "cell_type": "markdown",
   "metadata": {},
   "source": [
    "# Merge Status and Station Data"
   ]
  },
  {
   "cell_type": "code",
   "execution_count": null,
   "metadata": {},
   "outputs": [],
   "source": [
    "print('[%s] - Starting Merge' % (datetime.datetime.now().time()))\n",
    "status_df = pd.merge(status_df, stations_df, on='station_id')\n",
    "print('[%s] - Merge Complete\\n' % (datetime.datetime.now().time()))"
   ]
  },
  {
   "cell_type": "code",
   "execution_count": null,
   "metadata": {},
   "outputs": [],
   "source": [
    "status_df.head(3)"
   ]
  },
  {
   "cell_type": "markdown",
   "metadata": {},
   "source": [
    "# Downsample Data to 5 Minute Interval Means"
   ]
  },
  {
   "cell_type": "code",
   "execution_count": null,
   "metadata": {},
   "outputs": [],
   "source": [
    "print('[%s] Resampling on 5m Interval Mean' % datetime.datetime.now().time())\n",
    "status_df_5m = status_df.copy()\n",
    "status_df_5m.set_index(['station_id', 'time'], inplace=True)\n",
    "\n",
    "# resample on 5 minute interval mean\n",
    "status_df_5m = status_df_5m.groupby([pd.Grouper(level=0), pd.Grouper(freq='5T', level=-1)]).mean()\n",
    "status_df_5m.reset_index(inplace=True)\n",
    "\n",
    "print('\\t[%s] Complete!' % datetime.datetime.now().time())"
   ]
  },
  {
   "cell_type": "markdown",
   "metadata": {},
   "source": [
    "# Correct Dock Count on Expanded Station 73\n",
    "<p>station 73 was expanded from 15 docks to 19 docks on May 19, 2015</p>"
   ]
  },
  {
   "cell_type": "code",
   "execution_count": null,
   "metadata": {},
   "outputs": [],
   "source": [
    "change_date = datetime.datetime.strptime('2015-05-19', '%Y-%m-%d')\n",
    "\n",
    "print('[%s] Correcting Dock Count at Station 73 - Full Dataset' % datetime.datetime.now().time())\n",
    "change_records = status_df[(status_df.station_id == 73) & (status_df.time > change_date)]\n",
    "dock_count_col_index = status_df.columns.tolist().index('dock_count')\n",
    "status_df.iloc[change_records.index,dock_count_col_index] = 19\n",
    "\n",
    "print('[%s] Correcting Dock Count at Station 73 - Resampled Dataset' % datetime.datetime.now().time())\n",
    "change_records = status_df[(status_df.station_id == 73) & (status_df.time > change_date)]\n",
    "dock_count_col_index = status_df.columns.tolist().index('dock_count')\n",
    "status_df.iloc[change_records.index,dock_count_col_index] = 19\n",
    "\n",
    "print('\\t[%s] Complete!' % datetime.datetime.now().time())"
   ]
  },
  {
   "cell_type": "markdown",
   "metadata": {},
   "source": [
    "# Calculate Station Utilization\n",
    "<p>utilization = number of docks available / number of total docks</p>"
   ]
  },
  {
   "cell_type": "code",
   "execution_count": null,
   "metadata": {},
   "outputs": [],
   "source": [
    "print('[%s] Calculate Utilization - Full Dataset' % datetime.datetime.now().time())\n",
    "status_df['utilization'] = status_df['docks_available'] / status_df['dock_count']\n",
    "status_df['utilization'] = status_df['utilization'].apply(lambda x: 1.0 if x > 1.0 else x)\n",
    "\n",
    "print('[%s] Calculate Utilization - Resampled Dataset' % datetime.datetime.now().time())\n",
    "status_df_5m['utilization'] = status_df_5m['docks_available'] / status_df_5m['dock_count']\n",
    "status_df_5m['utilization'] = status_df_5m['utilization'].apply(lambda x: 1.0 if x > 1.0 else x)\n",
    "print('\\t[%s] Complete!' % datetime.datetime.now().time())"
   ]
  },
  {
   "cell_type": "markdown",
   "metadata": {},
   "source": [
    "# Write Data to File - Basic Trip Data"
   ]
  },
  {
   "cell_type": "code",
   "execution_count": null,
   "metadata": {},
   "outputs": [],
   "source": [
    "status_df.to_csv('../clean_data/bayareabikeshare/status_data_cleaned.csv', encoding='utf-8')"
   ]
  },
  {
   "cell_type": "code",
   "execution_count": null,
   "metadata": {},
   "outputs": [],
   "source": [
    "status_df_5m.to_csv('../clean_data/bayareabikeshare/status_data_5m_resampled_cleaned.csv', encoding='utf-8')"
   ]
  },
  {
   "cell_type": "markdown",
   "metadata": {
    "collapsed": true
   },
   "source": [
    "***\n",
    "# EDA Preview and Quick Reference"
   ]
  },
  {
   "cell_type": "code",
   "execution_count": null,
   "metadata": {},
   "outputs": [],
   "source": [
    "status_df.head(3)"
   ]
  },
  {
   "cell_type": "code",
   "execution_count": null,
   "metadata": {},
   "outputs": [],
   "source": [
    "status_df_5m.head(3)"
   ]
  },
  {
   "cell_type": "code",
   "execution_count": null,
   "metadata": {},
   "outputs": [],
   "source": [
    "status_df_5m.set_index('time', inplace=True)\n",
    "for i in sorted(pd.unique(status_df_5m.station_id)):\n",
    "    tmp = status_df_5m[status_df_5m.station_id == i]\n",
    "    ax = tmp.utilization.resample('M').mean().fillna(0).rolling(window=3, min_periods=1).mean().plot(linestyle=':', marker='o', alpha=0.3, figsize=(24,10))\n",
    "\n",
    "time_min = pd.Timestamp('2013-07-01')\n",
    "time_max = pd.Timestamp('2016-10-01')\n",
    "\n",
    "ax.set_xlim(time_min, time_max)\n",
    "ax.set_ylim(0,1)\n",
    "ax.set_xlabel('Time', size=LABEL_FONT_SIZE, weight='bold')\n",
    "ax.set_ylabel('Utilization', size=LABEL_FONT_SIZE, weight='bold')\n",
    "ax.set_title('Station Utilization over Time - Monthly Mean', size=TITLE_FONT_SIZE, weight='bold')\n",
    "plt.show()"
   ]
  },
  {
   "cell_type": "code",
   "execution_count": null,
   "metadata": {},
   "outputs": [],
   "source": []
  }
 ],
 "metadata": {
  "kernelspec": {
   "display_name": "Python 3",
   "language": "python",
   "name": "python3"
  },
  "language_info": {
   "codemirror_mode": {
    "name": "ipython",
    "version": 3
   },
   "file_extension": ".py",
   "mimetype": "text/x-python",
   "name": "python",
   "nbconvert_exporter": "python",
   "pygments_lexer": "ipython3",
   "version": "3.6.3"
  }
 },
 "nbformat": 4,
 "nbformat_minor": 2
}
