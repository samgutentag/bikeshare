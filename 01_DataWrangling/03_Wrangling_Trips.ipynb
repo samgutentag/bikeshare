{
 "cells": [
  {
   "cell_type": "markdown",
   "metadata": {},
   "source": [
    "# Wrangling Data From Bay Area Bike Share Published Data - Trips"
   ]
  },
  {
   "cell_type": "markdown",
   "metadata": {},
   "source": [
    "### Import Packages"
   ]
  },
  {
   "cell_type": "code",
   "execution_count": 1,
   "metadata": {},
   "outputs": [],
   "source": [
    "%matplotlib inline\n",
    "import matplotlib\n",
    "import matplotlib.pyplot as plt\n",
    "import pandas as pd\n",
    "\n",
    "import datetime\n",
    "\n",
    "import seaborn as sns\n",
    "sns.set_style('whitegrid')\n",
    "sns.set_context(\"poster\")"
   ]
  },
  {
   "cell_type": "code",
   "execution_count": 2,
   "metadata": {},
   "outputs": [],
   "source": [
    "from wranglingutils import time_marker as tm\n",
    "from wranglingutils import csv_chunk_importer"
   ]
  },
  {
   "cell_type": "code",
   "execution_count": 3,
   "metadata": {},
   "outputs": [],
   "source": [
    "from math import ceil"
   ]
  },
  {
   "cell_type": "code",
   "execution_count": 4,
   "metadata": {},
   "outputs": [
    {
     "data": {
      "text/html": [
       "<style>.container { width:95% !important; }</style>"
      ],
      "text/plain": [
       "<IPython.core.display.HTML object>"
      ]
     },
     "metadata": {},
     "output_type": "display_data"
    }
   ],
   "source": [
    "from IPython.core.display import display, HTML\n",
    "display(HTML(\"<style>.container { width:95% !important; }</style>\"))\n",
    "\n",
    "font = {'size'   : 50}\n",
    "matplotlib.rc('font', **font)\n",
    "\n",
    "COLOR_BLU = '#0074C8'\n",
    "COLOR_YEL = '#FACD6B'\n",
    "COLOR_GRY = '#71C9BE'\n",
    "COLOR_GRE = '#85B74A'\n",
    "\n",
    "LABEL_FONT_SIZE = 15\n",
    "TITLE_FONT_SIZE = 25\n",
    "TICK_FONT_SIZE = LABEL_FONT_SIZE*0.8\n",
    "FIG_SIZE = (15,6)"
   ]
  },
  {
   "cell_type": "markdown",
   "metadata": {},
   "source": [
    "## Import Data\n",
    "\n",
    "<p>Trip data, records of all reported trips taken by Bike Share Users</p>"
   ]
  },
  {
   "cell_type": "code",
   "execution_count": 5,
   "metadata": {},
   "outputs": [
    {
     "name": "stdout",
     "output_type": "stream",
     "text": [
      "[23:18:08.304795] Started Loading Data...\n",
      "[23:18:09.720090] Finished file! ( 1 of  4)\n",
      "[23:18:10.352687] Finished file! ( 2 of  4)\n",
      "[23:18:11.907706] Finished file! ( 3 of  4)\n",
      "[23:18:12.720120] Finished file! ( 4 of  4)\n",
      "[23:18:12.720247] concatenating chunks...\n",
      "[23:18:15.435722] Data Loaded Successfully!\n"
     ]
    }
   ],
   "source": [
    "tip_df_columns = ['trip_id', 'duration', 'start_date', 'start_station_name', 'start_terminal', \n",
    "                  'end_date', 'end_station_name', 'end_terminal', 'bike_id', 'subscriber_type', \n",
    "                  'zip_code']\n",
    "\n",
    "trips_df = csv_chunk_importer(file_path_slug='../00_source_data/bayareabikeshare/*trip_data.csv', \n",
    "                                 column_labels=tip_df_columns, \n",
    "                                 chunk_size=10000, \n",
    "                                 drop_dups=True)"
   ]
  },
  {
   "cell_type": "code",
   "execution_count": 6,
   "metadata": {},
   "outputs": [],
   "source": [
    "trips_df['start_date'] = pd.to_datetime(trips_df['start_date'])\n",
    "trips_df['end_date'] = pd.to_datetime(trips_df['end_date'])"
   ]
  },
  {
   "cell_type": "code",
   "execution_count": 7,
   "metadata": {},
   "outputs": [],
   "source": [
    "sf_stations = pd.read_pickle('../00_clean_data/bayareabikeshare/sf_station_data_cleaned.pkl')\n",
    "\n",
    "sf_station_ids = sf_stations.station_id.unique()"
   ]
  },
  {
   "cell_type": "markdown",
   "metadata": {},
   "source": [
    "## Zip Codes\n",
    "<ul>\n",
    "    <li><b>us_zipcodes:</b> list of all US zipcodes, used to validate user input</li>\n",
    "    <li><b>bayzips:</b> a list of all bay are zipcodes, use to determine a `local` customer</li>\n",
    "</ul>"
   ]
  },
  {
   "cell_type": "code",
   "execution_count": 8,
   "metadata": {},
   "outputs": [
    {
     "name": "stdout",
     "output_type": "stream",
     "text": [
      "[23:27:59.326370] Started Loading Data...\n",
      "[23:27:59.438175] Finished file! ( 1 of  1)\n",
      "[23:27:59.438286] concatenating chunks...\n",
      "[23:27:59.494055] Data Loaded Successfully!\n"
     ]
    },
    {
     "data": {
      "text/html": [
       "<div>\n",
       "<style scoped>\n",
       "    .dataframe tbody tr th:only-of-type {\n",
       "        vertical-align: middle;\n",
       "    }\n",
       "\n",
       "    .dataframe tbody tr th {\n",
       "        vertical-align: top;\n",
       "    }\n",
       "\n",
       "    .dataframe thead th {\n",
       "        text-align: right;\n",
       "    }\n",
       "</style>\n",
       "<table border=\"1\" class=\"dataframe\">\n",
       "  <thead>\n",
       "    <tr style=\"text-align: right;\">\n",
       "      <th></th>\n",
       "      <th>zip_code</th>\n",
       "      <th>place_name</th>\n",
       "      <th>state</th>\n",
       "      <th>state_abbreviation</th>\n",
       "      <th>county</th>\n",
       "      <th>latitude</th>\n",
       "      <th>longitude</th>\n",
       "    </tr>\n",
       "  </thead>\n",
       "  <tbody>\n",
       "    <tr>\n",
       "      <th>0</th>\n",
       "      <td>00501</td>\n",
       "      <td>Holtsville</td>\n",
       "      <td>New York</td>\n",
       "      <td>NY</td>\n",
       "      <td>Suffolk</td>\n",
       "      <td>40.8154</td>\n",
       "      <td>-73.0451</td>\n",
       "    </tr>\n",
       "    <tr>\n",
       "      <th>1</th>\n",
       "      <td>00544</td>\n",
       "      <td>Holtsville</td>\n",
       "      <td>New York</td>\n",
       "      <td>NY</td>\n",
       "      <td>Suffolk</td>\n",
       "      <td>40.8154</td>\n",
       "      <td>-73.0451</td>\n",
       "    </tr>\n",
       "    <tr>\n",
       "      <th>2</th>\n",
       "      <td>01001</td>\n",
       "      <td>Agawam</td>\n",
       "      <td>Massachusetts</td>\n",
       "      <td>MA</td>\n",
       "      <td>Hampden</td>\n",
       "      <td>42.0702</td>\n",
       "      <td>-72.6227</td>\n",
       "    </tr>\n",
       "  </tbody>\n",
       "</table>\n",
       "</div>"
      ],
      "text/plain": [
       "  zip_code  place_name          state state_abbreviation   county  latitude  \\\n",
       "0    00501  Holtsville       New York                 NY  Suffolk   40.8154   \n",
       "1    00544  Holtsville       New York                 NY  Suffolk   40.8154   \n",
       "2    01001      Agawam  Massachusetts                 MA  Hampden   42.0702   \n",
       "\n",
       "   longitude  \n",
       "0   -73.0451  \n",
       "1   -73.0451  \n",
       "2   -72.6227  "
      ]
     },
     "execution_count": 8,
     "metadata": {},
     "output_type": "execute_result"
    }
   ],
   "source": [
    "us_zipcodes = csv_chunk_importer(file_path_slug='../00_source_data/us_postal_codes.csv', \n",
    "                                 chunk_size=10000, \n",
    "                                 drop_dups=True)\n",
    "\n",
    "us_zipcodes.columns = [x.replace(' ', '_').lower() for x in us_zipcodes.columns]\n",
    "\n",
    "# left pad zip_code with zeros\n",
    "us_zipcodes['zip_code'] = us_zipcodes['zip_code'].apply(lambda x: '{0:05d}'.format(x))\n",
    "\n",
    "us_zips = [str(x) for x in us_zipcodes.zip_code.unique()]\n",
    "\n",
    "us_zipcodes.head(3)"
   ]
  },
  {
   "cell_type": "code",
   "execution_count": 9,
   "metadata": {},
   "outputs": [
    {
     "name": "stdout",
     "output_type": "stream",
     "text": [
      "[23:27:59.589969] Started Loading Data...\n",
      "[23:27:59.612406] Finished file! ( 1 of  1)\n",
      "[23:27:59.612562] concatenating chunks...\n",
      "[23:27:59.622963] Data Loaded Successfully!\n"
     ]
    }
   ],
   "source": [
    "bay_area_zipcodes = csv_chunk_importer(file_path_slug='../00_source_data/bayarea_zipcodes.csv', \n",
    "                                 chunk_size=10000, \n",
    "                                 drop_dups=True)\n",
    "bayzips = bay_area_zipcodes.ZIP.unique()\n",
    "\n",
    "bayzips = [str(z) for z in bayzips]"
   ]
  },
  {
   "cell_type": "code",
   "execution_count": 10,
   "metadata": {
    "scrolled": true
   },
   "outputs": [],
   "source": [
    "bay_zips = us_zipcodes[((us_zipcodes.state_abbreviation == 'CA') & (us_zipcodes.place_name == 'San Jose')) \n",
    "            | (us_zipcodes.zip_code.isin(bayzips))].zip_code.unique()"
   ]
  },
  {
   "cell_type": "markdown",
   "metadata": {},
   "source": [
    "## check if zipcode is a valid US Zipcode"
   ]
  },
  {
   "cell_type": "code",
   "execution_count": 11,
   "metadata": {},
   "outputs": [],
   "source": [
    "trips_df['zip_code'] = trips_df['zip_code'].apply(lambda x: '0' if x == 'nil' else str(x).split('-')[0].split('.')[0][:5])"
   ]
  },
  {
   "cell_type": "code",
   "execution_count": 12,
   "metadata": {
    "scrolled": true
   },
   "outputs": [
    {
     "name": "stdout",
     "output_type": "stream",
     "text": [
      "[23:28:00.944965] tagging valid USA Zipcodes\n",
      "[23:28:01.320886] replacing non valid zip codes with '00000'\n",
      "[23:28:01.517829] tagging local  Bay Area Zip Codes\n"
     ]
    }
   ],
   "source": [
    "# tag trips if they have a valid USA Zipcode\n",
    "tm(\"tagging valid USA Zipcodes\")\n",
    "trips_df['us_zip']   = False\n",
    "us_idx = trips_df[trips_df.zip_code.isin(us_zips)].index\n",
    "trips_df.iloc[us_idx,list(trips_df.columns).index('us_zip')] = True\n",
    "\n",
    "# replace non valid USA Zip Codes with '00000'\n",
    "tm(\"replacing non valid zip codes with '00000'\")\n",
    "non_us_idx = trips_df[~trips_df.zip_code.isin(us_zips)].index\n",
    "trips_df.iloc[non_us_idx,list(trips_df.columns).index('zip_code')] = '00000'\n",
    "\n",
    "# tag trips that are in local bay area zip codes\n",
    "tm(\"tagging local  Bay Area Zip Codes\")\n",
    "trips_df['is_local']   = False\n",
    "local_idx = trips_df[trips_df.zip_code.isin(bayzips)].index\n",
    "trips_df.iloc[local_idx,list(trips_df.columns).index('is_local')] = True"
   ]
  },
  {
   "cell_type": "markdown",
   "metadata": {},
   "source": [
    "## Append User Home City, state, and county"
   ]
  },
  {
   "cell_type": "code",
   "execution_count": 13,
   "metadata": {},
   "outputs": [
    {
     "name": "stdout",
     "output_type": "stream",
     "text": [
      "[23:28:01.754775] merge user home state and city\n"
     ]
    }
   ],
   "source": [
    "tm('merge user home state and city')\n",
    "trips_df = trips_df.merge(us_zipcodes.iloc[:,[0, 1, 3, 4]], on = 'zip_code', how='left')\n",
    "trips_df.rename(columns={'place_name' : 'user_home_city',\n",
    "                    'state_abbreviation' : 'user_home_state',\n",
    "                    'county' : 'user_home_county'}, inplace=True)"
   ]
  },
  {
   "cell_type": "code",
   "execution_count": 14,
   "metadata": {
    "scrolled": true
   },
   "outputs": [
    {
     "data": {
      "text/plain": [
       "is_local\n",
       "False    211969\n",
       "True     771679\n",
       "Name: trip_id, dtype: int64"
      ]
     },
     "execution_count": 14,
     "metadata": {},
     "output_type": "execute_result"
    }
   ],
   "source": [
    "trips_df.groupby('is_local').count()['trip_id'].sort_values()"
   ]
  },
  {
   "cell_type": "code",
   "execution_count": 15,
   "metadata": {
    "scrolled": true
   },
   "outputs": [
    {
     "data": {
      "text/plain": [
       "us_zip\n",
       "False     42181\n",
       "True     941467\n",
       "Name: trip_id, dtype: int64"
      ]
     },
     "execution_count": 15,
     "metadata": {},
     "output_type": "execute_result"
    }
   ],
   "source": [
    "trips_df.groupby('us_zip').count()['trip_id'].sort_values()"
   ]
  },
  {
   "cell_type": "code",
   "execution_count": null,
   "metadata": {},
   "outputs": [],
   "source": []
  },
  {
   "cell_type": "code",
   "execution_count": 53,
   "metadata": {},
   "outputs": [
    {
     "data": {
      "image/png": "[encoded data removed]",
      "text/plain": [
       "<matplotlib.figure.Figure at 0x1a15796b38>"
      ]
     },
     "metadata": {},
     "output_type": "display_data"
    },
    {
     "data": {
      "image/png": "[encoded data removed]",
      "text/plain": [
       "<matplotlib.figure.Figure at 0x1a17345710>"
      ]
     },
     "metadata": {},
     "output_type": "display_data"
    },
    {
     "data": {
      "image/png": "[encoded data removed]",
      "text/plain": [
       "<matplotlib.figure.Figure at 0x10dc22128>"
      ]
     },
     "metadata": {},
     "output_type": "display_data"
    }
   ],
   "source": [
    "\n",
    "def plot_counts(df, logy=False, c0=COLOR_BLU, c1=COLOR_YEL, special_label='', title='plot counts', figsize=FIG_SIZE):\n",
    "\n",
    "    color_codes = [c0 if x != special_label else c1 for x in df.index]\n",
    "    ax = df.plot(figsize=figsize, kind='bar', logy=logy, color=color_codes)\n",
    "    ax.set_title('{}'.format(title.title()))\n",
    "    plt.show()\n",
    "    plt.close()\n",
    "    \n",
    "df = trips_df.groupby('user_home_state').count()['trip_id'].copy()\n",
    "plot_counts(df, logy=True, special_label='CA', title='All Trips')\n",
    "\n",
    "df = trips_df[trips_df.subscriber_type == 'Subscriber'].groupby('user_home_state').count()['trip_id'].copy()\n",
    "plot_counts(df, logy=True, special_label='CA', title='Subscriber All Trips')\n",
    "\n",
    "df = trips_df[trips_df.subscriber_type != 'Subscriber'].groupby('user_home_state').count()['trip_id'].copy()\n",
    "plot_counts(df, logy=True, special_label='CA', title='Customer All Trips')\n",
    "\n"
   ]
  },
  {
   "cell_type": "code",
   "execution_count": 54,
   "metadata": {
    "scrolled": false
   },
   "outputs": [
    {
     "data": {
      "image/png": "[encoded data removed]",
      "text/plain": [
       "<matplotlib.figure.Figure at 0x10f556cf8>"
      ]
     },
     "metadata": {},
     "output_type": "display_data"
    }
   ],
   "source": [
    "df = trips_df[trips_df.user_home_state == 'OH'].groupby('user_home_city').count()['trip_id']\n",
    "plot_counts(df, logy=False, title='Ohio Users', special_label='Columbus', figsize=(24,6))"
   ]
  },
  {
   "cell_type": "code",
   "execution_count": 56,
   "metadata": {},
   "outputs": [
    {
     "data": {
      "text/html": [
       "<div>\n",
       "<style scoped>\n",
       "    .dataframe tbody tr th:only-of-type {\n",
       "        vertical-align: middle;\n",
       "    }\n",
       "\n",
       "    .dataframe tbody tr th {\n",
       "        vertical-align: top;\n",
       "    }\n",
       "\n",
       "    .dataframe thead th {\n",
       "        text-align: right;\n",
       "    }\n",
       "</style>\n",
       "<table border=\"1\" class=\"dataframe\">\n",
       "  <thead>\n",
       "    <tr style=\"text-align: right;\">\n",
       "      <th></th>\n",
       "      <th>trip_id</th>\n",
       "      <th>duration</th>\n",
       "      <th>start_date</th>\n",
       "      <th>start_station_name</th>\n",
       "      <th>start_terminal</th>\n",
       "      <th>end_date</th>\n",
       "      <th>end_station_name</th>\n",
       "      <th>end_terminal</th>\n",
       "      <th>bike_id</th>\n",
       "      <th>subscriber_type</th>\n",
       "      <th>zip_code</th>\n",
       "      <th>us_zip</th>\n",
       "      <th>is_local</th>\n",
       "      <th>user_home_city</th>\n",
       "      <th>user_home_state</th>\n",
       "      <th>user_home_county</th>\n",
       "    </tr>\n",
       "  </thead>\n",
       "  <tbody>\n",
       "    <tr>\n",
       "      <th>518128</th>\n",
       "      <td>834519</td>\n",
       "      <td>469</td>\n",
       "      <td>2015-07-06 12:37:00</td>\n",
       "      <td>Golden Gate at Polk</td>\n",
       "      <td>59</td>\n",
       "      <td>2015-07-06 12:45:00</td>\n",
       "      <td>Market at 4th</td>\n",
       "      <td>76</td>\n",
       "      <td>475</td>\n",
       "      <td>Customer</td>\n",
       "      <td>43035</td>\n",
       "      <td>True</td>\n",
       "      <td>False</td>\n",
       "      <td>Lewis Center</td>\n",
       "      <td>OH</td>\n",
       "      <td>Delaware</td>\n",
       "    </tr>\n",
       "    <tr>\n",
       "      <th>518129</th>\n",
       "      <td>834518</td>\n",
       "      <td>478</td>\n",
       "      <td>2015-07-06 12:37:00</td>\n",
       "      <td>Golden Gate at Polk</td>\n",
       "      <td>59</td>\n",
       "      <td>2015-07-06 12:45:00</td>\n",
       "      <td>Market at 4th</td>\n",
       "      <td>76</td>\n",
       "      <td>504</td>\n",
       "      <td>Customer</td>\n",
       "      <td>43035</td>\n",
       "      <td>True</td>\n",
       "      <td>False</td>\n",
       "      <td>Lewis Center</td>\n",
       "      <td>OH</td>\n",
       "      <td>Delaware</td>\n",
       "    </tr>\n",
       "    <tr>\n",
       "      <th>518811</th>\n",
       "      <td>833685</td>\n",
       "      <td>244</td>\n",
       "      <td>2015-07-05 15:18:00</td>\n",
       "      <td>Market at 10th</td>\n",
       "      <td>67</td>\n",
       "      <td>2015-07-05 15:23:00</td>\n",
       "      <td>Civic Center BART (7th at Market)</td>\n",
       "      <td>72</td>\n",
       "      <td>426</td>\n",
       "      <td>Customer</td>\n",
       "      <td>43035</td>\n",
       "      <td>True</td>\n",
       "      <td>False</td>\n",
       "      <td>Lewis Center</td>\n",
       "      <td>OH</td>\n",
       "      <td>Delaware</td>\n",
       "    </tr>\n",
       "    <tr>\n",
       "      <th>518812</th>\n",
       "      <td>833684</td>\n",
       "      <td>251</td>\n",
       "      <td>2015-07-05 15:18:00</td>\n",
       "      <td>Market at 10th</td>\n",
       "      <td>67</td>\n",
       "      <td>2015-07-05 15:22:00</td>\n",
       "      <td>Civic Center BART (7th at Market)</td>\n",
       "      <td>72</td>\n",
       "      <td>483</td>\n",
       "      <td>Customer</td>\n",
       "      <td>43035</td>\n",
       "      <td>True</td>\n",
       "      <td>False</td>\n",
       "      <td>Lewis Center</td>\n",
       "      <td>OH</td>\n",
       "      <td>Delaware</td>\n",
       "    </tr>\n",
       "    <tr>\n",
       "      <th>518831</th>\n",
       "      <td>833661</td>\n",
       "      <td>2235</td>\n",
       "      <td>2015-07-05 14:38:00</td>\n",
       "      <td>Market at 10th</td>\n",
       "      <td>67</td>\n",
       "      <td>2015-07-05 15:15:00</td>\n",
       "      <td>Market at 10th</td>\n",
       "      <td>67</td>\n",
       "      <td>310</td>\n",
       "      <td>Customer</td>\n",
       "      <td>43035</td>\n",
       "      <td>True</td>\n",
       "      <td>False</td>\n",
       "      <td>Lewis Center</td>\n",
       "      <td>OH</td>\n",
       "      <td>Delaware</td>\n",
       "    </tr>\n",
       "    <tr>\n",
       "      <th>518832</th>\n",
       "      <td>833660</td>\n",
       "      <td>2222</td>\n",
       "      <td>2015-07-05 14:38:00</td>\n",
       "      <td>Market at 10th</td>\n",
       "      <td>67</td>\n",
       "      <td>2015-07-05 15:15:00</td>\n",
       "      <td>Market at 10th</td>\n",
       "      <td>67</td>\n",
       "      <td>354</td>\n",
       "      <td>Customer</td>\n",
       "      <td>43035</td>\n",
       "      <td>True</td>\n",
       "      <td>False</td>\n",
       "      <td>Lewis Center</td>\n",
       "      <td>OH</td>\n",
       "      <td>Delaware</td>\n",
       "    </tr>\n",
       "  </tbody>\n",
       "</table>\n",
       "</div>"
      ],
      "text/plain": [
       "        trip_id  duration          start_date   start_station_name  \\\n",
       "518128   834519       469 2015-07-06 12:37:00  Golden Gate at Polk   \n",
       "518129   834518       478 2015-07-06 12:37:00  Golden Gate at Polk   \n",
       "518811   833685       244 2015-07-05 15:18:00       Market at 10th   \n",
       "518812   833684       251 2015-07-05 15:18:00       Market at 10th   \n",
       "518831   833661      2235 2015-07-05 14:38:00       Market at 10th   \n",
       "518832   833660      2222 2015-07-05 14:38:00       Market at 10th   \n",
       "\n",
       "        start_terminal            end_date                   end_station_name  \\\n",
       "518128              59 2015-07-06 12:45:00                      Market at 4th   \n",
       "518129              59 2015-07-06 12:45:00                      Market at 4th   \n",
       "518811              67 2015-07-05 15:23:00  Civic Center BART (7th at Market)   \n",
       "518812              67 2015-07-05 15:22:00  Civic Center BART (7th at Market)   \n",
       "518831              67 2015-07-05 15:15:00                     Market at 10th   \n",
       "518832              67 2015-07-05 15:15:00                     Market at 10th   \n",
       "\n",
       "        end_terminal  bike_id subscriber_type zip_code  us_zip  is_local  \\\n",
       "518128            76      475        Customer    43035    True     False   \n",
       "518129            76      504        Customer    43035    True     False   \n",
       "518811            72      426        Customer    43035    True     False   \n",
       "518812            72      483        Customer    43035    True     False   \n",
       "518831            67      310        Customer    43035    True     False   \n",
       "518832            67      354        Customer    43035    True     False   \n",
       "\n",
       "       user_home_city user_home_state user_home_county  \n",
       "518128   Lewis Center              OH         Delaware  \n",
       "518129   Lewis Center              OH         Delaware  \n",
       "518811   Lewis Center              OH         Delaware  \n",
       "518812   Lewis Center              OH         Delaware  \n",
       "518831   Lewis Center              OH         Delaware  \n",
       "518832   Lewis Center              OH         Delaware  "
      ]
     },
     "execution_count": 56,
     "metadata": {},
     "output_type": "execute_result"
    }
   ],
   "source": [
    "trips_df[(trips_df.user_home_state == 'OH') & (trips_df.user_home_city == 'Lewis Center')]"
   ]
  },
  {
   "cell_type": "markdown",
   "metadata": {},
   "source": [
    "## Cleaning Support Functions\n",
    "<p>General Cleaning functions</p>"
   ]
  },
  {
   "cell_type": "code",
   "execution_count": null,
   "metadata": {},
   "outputs": [],
   "source": [
    "def clean_trip_frame(df):\n",
    "    '''Basic Cleanup of column types and appends a 'duration_minutes' \n",
    "        column converted from given 'duration' which is in seconds'''\n",
    "    # set column types\n",
    "    tm('Setting data types...')\n",
    "    df['start_date']       = pd.to_datetime(df['start_date'], format=\"%m/%d/%Y %H:%M\")\n",
    "    df['end_date']         = pd.to_datetime(df['end_date'],   format=\"%m/%d/%Y %H:%M\")\n",
    "    df['trip_id']          = df['trip_id'].astype('int')\n",
    "    df['duration']         = df['duration'].astype('int')    \n",
    "    df['start_terminal']   = df['start_terminal'].astype('int')\n",
    "    df['end_terminal']     = df['end_terminal'].astype('int')\n",
    "    df['bike_id']          = df['bike_id'].astype('int')\n",
    "    df['subscriber_type']  = df['subscriber_type'].astype('category')\n",
    "    \n",
    "    # add 'duration_minutes' column\n",
    "    tm('add duration_minutes column')\n",
    "    df['duration_minutes'] = df.duration.apply(lambda x: x/60.)\n",
    "    df['duration_minutes'] = df['duration_minutes'].astype('float')\n",
    "    \n",
    "    # add 'billed_minutes' and 'billed_periods' columns\n",
    "    # customers are billed by the minute, round up to nearest minute duration\n",
    "    # a billed period is 5 minutes long\n",
    "    df['billed_minutes'] = df.duration.apply(lambda x: ceil(x/60.))\n",
    "    df['billed_minutes'] = df['billed_minutes'].astype('int')\n",
    "    df['billed_periods'] = df.billed_minutes.apply(lambda x: int(ceil(x/5)))\n",
    "    \n",
    "    # Clean Zipcode\n",
    "    tm('cleaning zipcodes')\n",
    "    df['zip_code'] = df.zip_code.apply(clean_zipcode)\n",
    "    \n",
    "    # rename columns for clarity\n",
    "    df.rename(columns={'zip_code': 'user_zip', 'subscriber_type': 'user_type'}, inplace=True)\n",
    "\n",
    "    df.reset_index(inplace=True, drop=True)\n",
    "    \n",
    "    tm('done!')\n",
    "    return df"
   ]
  },
  {
   "cell_type": "markdown",
   "metadata": {},
   "source": [
    "# Cleaning Data\n",
    "<ul>\n",
    "    <li>Format zip codes to take only first 5 digits, this data is self reported and often wrongly input per Bay Area Bike Share Notes</li>\n",
    "    <li>For other data it is mostly just setting a propper data type</li>\n",
    "    <li>\n",
    "        <ul>Duration is convered to billable time windows as:\n",
    "            <li>`billed_minutes` rounds up rental duration minutes to next full minute</li>\n",
    "            <li>`billed_periods` is the number of 5 minute intervals in `billed_minutes`, rounded up to the next full period</li>\n",
    "        <ul>\n",
    "    </li>\n",
    "</ul>"
   ]
  },
  {
   "cell_type": "code",
   "execution_count": null,
   "metadata": {},
   "outputs": [],
   "source": [
    "# clean data frames\n",
    "tm('Trip Data Cleanup Started')\n",
    "trips_df = clean_trip_frame(trips_df)\n",
    "tm('Cleanup Complete!')"
   ]
  },
  {
   "cell_type": "code",
   "execution_count": null,
   "metadata": {},
   "outputs": [],
   "source": [
    "trips_df.head(3).transpose()"
   ]
  },
  {
   "cell_type": "code",
   "execution_count": null,
   "metadata": {},
   "outputs": [],
   "source": [
    "trips_df.describe()"
   ]
  },
  {
   "cell_type": "markdown",
   "metadata": {},
   "source": [
    "# Correct Relocated Stations\n",
    "\n",
    "<p> There was a delay in station_id updates when stations 23, 24, 25, and 26 were relocated, update status information by changing the station_id for these stations in dates after they were relocated </p>"
   ]
  },
  {
   "cell_type": "code",
   "execution_count": null,
   "metadata": {},
   "outputs": [],
   "source": [
    "def date_fixes(df, old_terminal, new_terminal, change_date):\n",
    "    '''Correct dates on terminal relocations'''\n",
    "        \n",
    "    # Fix A to B - Start Terminal\n",
    "    tm('Setting {} to {} occuring before {}'.format(old_terminal, new_terminal, change_date))\n",
    "    index_to_update_start = df[(df.start_terminal == old_terminal) & (df.start_date >= change_date)].index\n",
    "    print('\\tUpdating {:d} records...'.format(len(index_to_update_start)))\n",
    "    df.loc[index_to_update_start, 'start_terminal'] = new_terminal\n",
    "\n",
    "    # Fix A to B - End Terminal\n",
    "    index_to_update_end   = df[(df.end_terminal == old_terminal) & (df.end_date >= change_date)].index\n",
    "    print('\\tUpdating {:d} records...'.format(len(index_to_update_end)))\n",
    "    df.loc[index_to_update_end, 'end_terminal'] = new_terminal\n",
    "    \n",
    "    # Fix B to A - Start Terminal\n",
    "    tm('Setting {} to {} occuring after  {}'.format(new_terminal, old_terminal, change_date))\n",
    "    index_to_update_start = df[(df.start_terminal == new_terminal) & (df.start_date < change_date)].index\n",
    "    print('\\tUpdating {:d} records...'.format(len(index_to_update_start)))\n",
    "    df.loc[index_to_update_start, 'start_terminal'] = old_terminal\n",
    "\n",
    "    # Fix B to A - End Terminal\n",
    "    index_to_update_end   = df[(df.end_terminal == new_terminal) & (df.end_date < change_date)].index\n",
    "    print('\\tUpdating {:d} records...'.format(len(index_to_update_end)))\n",
    "    df.loc[index_to_update_end, 'end_terminal'] = old_terminal\n",
    "    \n",
    "    return df"
   ]
  },
  {
   "cell_type": "markdown",
   "metadata": {},
   "source": [
    "#### On July 5, 2016 station 23 was relocated to station 88, and station 24 was relocated to station 89"
   ]
  },
  {
   "cell_type": "code",
   "execution_count": null,
   "metadata": {
    "scrolled": false
   },
   "outputs": [],
   "source": [
    "change_date = datetime.datetime.strptime('2016-07-05', '%Y-%m-%d')\n",
    "trips_df = date_fixes(trips_df, 23, 88, change_date)\n",
    "trips_df = date_fixes(trips_df, 24, 89, change_date)"
   ]
  },
  {
   "cell_type": "markdown",
   "metadata": {},
   "source": [
    "#### On August 4, 2016 station 25 was relocated to station 91, and station 26 was relocated to station 90"
   ]
  },
  {
   "cell_type": "code",
   "execution_count": null,
   "metadata": {
    "scrolled": true
   },
   "outputs": [],
   "source": [
    "change_date = datetime.datetime.strptime('2016-08-04', '%Y-%m-%d')\n",
    "trips_df = date_fixes(trips_df, 25, 91, change_date)\n",
    "trips_df = date_fixes(trips_df, 26, 90, change_date)"
   ]
  },
  {
   "cell_type": "markdown",
   "metadata": {},
   "source": [
    "## Prune Trips not within San Francisco\n",
    "<p>We are only concerned with trips that both start and end at San Francisco Stations in this analysis, remove all others</p>"
   ]
  },
  {
   "cell_type": "code",
   "execution_count": null,
   "metadata": {},
   "outputs": [],
   "source": [
    "tm('Subset to only include trips that are within San Francisco')\n",
    "trips_df = trips_df[(trips_df.start_terminal.isin(sf_station_ids)) & (trips_df.end_terminal.isin(sf_station_ids))].copy()\n",
    "tm('done')"
   ]
  },
  {
   "cell_type": "markdown",
   "metadata": {},
   "source": [
    "## Prune Trips to only those less than 3 hours long\n",
    "<p>The duration in minutes of each trip has a very large spread, with the longest trip (an extreme outlier) taking nearly 200 days to complete a trip!  The Bay Area Bike Share bills in Customer and Subscriber Tiers that allow for different pricing, but the global truth is that no rider can use a bike as part of the program for more than 3 hour without incurring a heafty set of fees.</p>\n",
    "<p>In fact, the idealized window set out by the program is for just 30 minutes, with a minute by minute charge being tacked onto rentals for each minute the bike is not returned after that.</p>\n",
    "\n",
    "<ul>\n",
    "    <li>There are 983648 total recorded trips</li>\n",
    "    <li>There are 936280 trips 30 minutes or less, this is 95.184 of all recorded trips</li>\n",
    "    <li>There are 973074 trips 3 hours or less, this is 98.925 of all recorded trips</li>\n",
    "</ul>"
   ]
  },
  {
   "cell_type": "code",
   "execution_count": null,
   "metadata": {},
   "outputs": [],
   "source": [
    "count_30min_trips = trips_df[trips_df.duration_minutes < 30].shape[0]\n",
    "count_3hr_trips = trips_df[trips_df.duration_minutes < 180].shape[0]\n",
    "\n",
    "print('There are {:d} total recorded trips'.format(trips_df.shape[0]))\n",
    "print('There are {:d} trips 30 minutes or less, this is {:2.3f} of all recorded trips'.format(count_30min_trips, 100.*count_30min_trips/trips_df.shape[0]))\n",
    "print('There are {:d} trips 3 hours or less, this is {:2.3f} of all recorded trips'.format(count_3hr_trips, 100.*count_3hr_trips/trips_df.shape[0]))"
   ]
  },
  {
   "cell_type": "code",
   "execution_count": null,
   "metadata": {},
   "outputs": [],
   "source": [
    "def plot_billed_min_distribution(df, max_minutes=180, file_suffix='3hr'):\n",
    "    df_subset = df[df.billed_minutes <= max_minutes].copy()\n",
    "\n",
    "    plt.subplots(figsize=FIG_SIZE)\n",
    "    ax = sns.countplot(x=\"billed_minutes\", data=df_subset, color=COLOR_BLU)\n",
    "\n",
    "    plt.xlabel('Trip Duration (Billed Minutes)', size=LABEL_FONT_SIZE)\n",
    "    plt.ylabel('Number of Trips', size=LABEL_FONT_SIZE)\n",
    "    plt.title('Trip Duration Distribution', size=TITLE_FONT_SIZE)\n",
    "\n",
    "    # remove spines\n",
    "    ax.spines['right'].set_visible(False)\n",
    "    ax.spines['top'].set_visible(False)\n",
    "    \n",
    "    x_ticks = [x for x in range(0, max_minutes+5, 5)]\n",
    "    ax.set_xticks(x_ticks)\n",
    "    ax.set_xticklabels([str(x) for x in x_ticks], size=TICK_FONT_SIZE)\n",
    "    for x in x_ticks:\n",
    "        ax.axvline(x, linestyle=':', color=COLOR_GRY, zorder=-1)\n",
    "\n",
    "\n",
    "    y_ticks = [y for y in range(0, 100000, 10000)]\n",
    "    ax.set_yticks(y_ticks)\n",
    "    ax.set_yticklabels(['{:d}K'.format(int(y/1000)) for y in y_ticks], size=TICK_FONT_SIZE)\n",
    "\n",
    "    plt.grid(False)\n",
    "    plt.tight_layout()\n",
    "    plt.savefig('../charts/trip_duration_distribution_{}.png'.format(file_suffix))\n",
    "    plt.show()\n",
    "    plt.close()"
   ]
  },
  {
   "cell_type": "code",
   "execution_count": null,
   "metadata": {},
   "outputs": [],
   "source": [
    "plot_billed_min_distribution(trips_df, max_minutes=180, file_suffix='3hr')"
   ]
  },
  {
   "cell_type": "code",
   "execution_count": null,
   "metadata": {
    "scrolled": true
   },
   "outputs": [],
   "source": [
    "plot_billed_min_distribution(trips_df, max_minutes=30, file_suffix='30min')"
   ]
  },
  {
   "cell_type": "code",
   "execution_count": null,
   "metadata": {},
   "outputs": [],
   "source": [
    "# prune data to exclude trips longer than 3 hours\n",
    "tm('Removing trips longer than 3 hours')\n",
    "\n",
    "cutoff_minutes = 180\n",
    "\n",
    "trips_df = trips_df[trips_df.billed_minutes < cutoff_minutes].copy()\n",
    "trips_df.reset_index(inplace=True, drop=True)\n",
    "\n",
    "print(trips_df.shape)\n",
    "tm('done!')"
   ]
  },
  {
   "cell_type": "code",
   "execution_count": null,
   "metadata": {
    "scrolled": false
   },
   "outputs": [],
   "source": [
    "trips_df.head(3).transpose()"
   ]
  },
  {
   "cell_type": "markdown",
   "metadata": {},
   "source": [
    "## Clean Up Column Labels"
   ]
  },
  {
   "cell_type": "code",
   "execution_count": null,
   "metadata": {},
   "outputs": [],
   "source": [
    "trips_df.columns = ['trip_id', 'duration', 'start_date', 'start_station_name', \n",
    "                    'start_station_id', 'end_date', 'end_station_name', 'end_station_id', \n",
    "                    'bike_id', 'user_type', 'user_zip', 'duration_minutes', \n",
    "                    'billed_minutes', 'billed_periods']\n",
    "trips_df.head()"
   ]
  },
  {
   "cell_type": "markdown",
   "metadata": {},
   "source": [
    "# Calculate Additional Charges\n",
    "\n",
    "<ul>\n",
    "    <li><b>Subscribers:</b> get first 45 mintues free, then \\$3.00 per additional 15 minute rental window</li>\n",
    "    <li><b>Customers:</b> get first 30 minutes free, then \\$3.00 per additinal 15 minute rental window</li>\n",
    "</ul>"
   ]
  },
  {
   "cell_type": "code",
   "execution_count": null,
   "metadata": {},
   "outputs": [],
   "source": [
    "def trip_additional_charges(user_type, billed_minutes):\n",
    "    \n",
    "    if user_type.title() == 'Subscriber':\n",
    "        return ceil((billed_minutes - 45) / 15)*3\n",
    "        \n",
    "    elif user_type.title() == 'Customer':\n",
    "        return ceil((billed_minutes - 30) / 15)*3    \n",
    "    \n",
    "    else:\n",
    "        return 0.0"
   ]
  },
  {
   "cell_type": "code",
   "execution_count": null,
   "metadata": {},
   "outputs": [],
   "source": [
    "trips_df['additional_charges'] = trips_df.apply(lambda row: trip_additional_charges(row['user_type'], row['billed_minutes']), axis=1)"
   ]
  },
  {
   "cell_type": "code",
   "execution_count": null,
   "metadata": {},
   "outputs": [],
   "source": [
    "trips_df.head(3).transpose()"
   ]
  },
  {
   "cell_type": "markdown",
   "metadata": {},
   "source": [
    "# Write Data to File"
   ]
  },
  {
   "cell_type": "code",
   "execution_count": null,
   "metadata": {},
   "outputs": [],
   "source": [
    "trips_df.to_pickle('../00_clean_data/bayareabikeshare/trips_cleaned.pkl')"
   ]
  },
  {
   "cell_type": "code",
   "execution_count": null,
   "metadata": {},
   "outputs": [],
   "source": [
    "trips_df.info()"
   ]
  },
  {
   "cell_type": "code",
   "execution_count": null,
   "metadata": {},
   "outputs": [],
   "source": []
  }
 ],
 "metadata": {
  "kernelspec": {
   "display_name": "Python 3",
   "language": "python",
   "name": "python3"
  },
  "language_info": {
   "codemirror_mode": {
    "name": "ipython",
    "version": 3
   },
   "file_extension": ".py",
   "mimetype": "text/x-python",
   "name": "python",
   "nbconvert_exporter": "python",
   "pygments_lexer": "ipython3",
   "version": "3.6.3"
  }
 },
 "nbformat": 4,
 "nbformat_minor": 2
}
