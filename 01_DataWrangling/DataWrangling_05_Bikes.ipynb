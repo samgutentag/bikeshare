{
 "cells": [
  {
   "cell_type": "markdown",
   "metadata": {},
   "source": [
    "# Wrangling Data From Bay Area Bike Share Published Data - Bikes"
   ]
  },
  {
   "cell_type": "markdown",
   "metadata": {},
   "source": [
    "### Import Packages"
   ]
  },
  {
   "cell_type": "code",
   "execution_count": null,
   "metadata": {},
   "outputs": [],
   "source": [
    "%matplotlib inline\n",
    "\n",
    "import matplotlib\n",
    "import matplotlib.pyplot as plt\n",
    "import pandas as pd\n",
    "from glob import glob\n",
    "import datetime\n",
    "import math\n",
    "import numpy as np\n",
    "\n",
    "import seaborn as sns\n",
    "sns.set()"
   ]
  },
  {
   "cell_type": "markdown",
   "metadata": {},
   "source": [
    "<p> Set some notebook variables, makes the notebook 95% width of the screen for easier viewing</p>"
   ]
  },
  {
   "cell_type": "code",
   "execution_count": null,
   "metadata": {},
   "outputs": [],
   "source": [
    "from IPython.core.display import display, HTML\n",
    "display(HTML(\"<style>.container { width:95% !important; }</style>\"))"
   ]
  },
  {
   "cell_type": "markdown",
   "metadata": {},
   "source": [
    "<p> Set some global font sizes for plots </p>"
   ]
  },
  {
   "cell_type": "code",
   "execution_count": null,
   "metadata": {},
   "outputs": [],
   "source": [
    "font = {'size'   : 50}\n",
    "matplotlib.rc('font', **font)\n",
    "\n",
    "LABEL_FONT_SIZE = 15\n",
    "TITLE_FONT_SIZE = 25"
   ]
  },
  {
   "cell_type": "markdown",
   "metadata": {},
   "source": [
    "## Import Data"
   ]
  },
  {
   "cell_type": "code",
   "execution_count": null,
   "metadata": {},
   "outputs": [],
   "source": [
    "print('Started Loading Trips Data...')\n",
    "file_path_slug = '../clean_data/bayareabikeshare/trip_data_*.csv'\n",
    "file_list = glob(file_path_slug)\n",
    "\n",
    "trips_df = pd.DataFrame()\n",
    "\n",
    "counter = 1\n",
    "chunks = []\n",
    "\n",
    "for file in file_list:\n",
    "    \n",
    "    chunk_counter = 1\n",
    "    num_chunks = math.ceil(sum(1 for row in open(file, 'r'))/10000)\n",
    "    \n",
    "    for chunk in pd.read_csv(file, chunksize=10000, iterator=True, index_col=0):\n",
    "        # append chunk to chunks list\n",
    "        chunks.append(chunk)\n",
    "\n",
    "        if chunk_counter == 1 or chunk_counter % math.ceil(num_chunks/10) == 0 or chunk_counter == num_chunks:\n",
    "            print('\\t[%s] finished chunk %s of %s' % (datetime.datetime.now().time(), chunk_counter, num_chunks))\n",
    "        chunk_counter += 1\n",
    "        \n",
    "    print('Finished file! (%d of %d)' % (counter, len(file_list)))\n",
    "    counter += 1\n",
    "    \n",
    "trips_df = pd.concat(chunks)\n",
    "print('Data Loaded Successfully!')"
   ]
  },
  {
   "cell_type": "markdown",
   "metadata": {},
   "source": [
    "# Isolate Bike Data\n",
    "<p>Each Trip Recorded inclues the bike_id, extract data we need for this smaller dataset</p>"
   ]
  },
  {
   "cell_type": "code",
   "execution_count": null,
   "metadata": {},
   "outputs": [],
   "source": [
    "bike_df = pd.DataFrame()\n",
    "bike_df['first_trip'] = pd.to_datetime(trips_df.groupby('bike_id')['start_date'].min())\n",
    "bike_df['latest_trip']  = pd.to_datetime(trips_df.groupby('bike_id')['start_date'].max())\n",
    "bike_df['trip_count'] = trips_df.groupby('bike_id')['start_date'].count()\n",
    "\n",
    "bike_df['days_in_service'] = (bike_df['latest_trip'] - bike_df['first_trip']).dt.days\n",
    "\n",
    "last_recorded_trip = bike_df.latest_trip.max()\n",
    "bike_df['days_since_last_trip'] = (last_recorded_trip - bike_df.latest_trip).dt.days\n",
    "\n",
    "bike_df['total_usage_time'] = trips_df.groupby('bike_id')['duration'].sum()\n",
    "bike_df['median_usage_time_per_trip'] = trips_df.groupby('bike_id')['duration'].median()\n",
    "bike_df['mean_usage_time_per_trip'] = trips_df.groupby('bike_id')['duration'].mean()\n",
    "\n",
    "bike_df['mean_rides_per_day'] = bike_df['trip_count'] / bike_df['days_in_service']\n",
    "\n",
    "# bikes with at least 1500 rides are in category 1, else category 0\n",
    "bike_df['ride_num_category'] = bike_df.trip_count.apply(lambda x: 1 if x >= 1500 else 0)\n",
    "\n",
    "bike_df.head()"
   ]
  },
  {
   "cell_type": "markdown",
   "metadata": {},
   "source": [
    "***\n",
    "# EDA Preview and Quick Reference"
   ]
  },
  {
   "cell_type": "code",
   "execution_count": null,
   "metadata": {},
   "outputs": [],
   "source": [
    "plt.subplots(figsize=(15,5))\n",
    "sns.distplot(bike_df.trip_count, color='b', bins=50)\n",
    "plt.title('Distribution of Bike Trips Counts', size=TITLE_FONT_SIZE, weight='bold')\n",
    "plt.xlim(-100, 3000)\n",
    "plt.xlabel('Number of Trips', size=LABEL_FONT_SIZE, weight='bold')\n",
    "plt.ylabel('Frequency', size=LABEL_FONT_SIZE, weight='bold')\n",
    "plt.show()"
   ]
  },
  {
   "cell_type": "code",
   "execution_count": null,
   "metadata": {},
   "outputs": [],
   "source": [
    "plt.subplots(figsize=(15,5))\n",
    "sns.distplot(bike_df.days_in_service, color='b', bins=30)\n",
    "plt.title('Distribution of Bike Trips Counts', size=TITLE_FONT_SIZE, weight='bold')\n",
    "plt.xlabel('Days in Service', size=LABEL_FONT_SIZE, weight='bold')\n",
    "plt.ylabel('Frequency', size=LABEL_FONT_SIZE, weight='bold')\n",
    "plt.show()"
   ]
  },
  {
   "cell_type": "code",
   "execution_count": null,
   "metadata": {},
   "outputs": [],
   "source": [
    "plt.subplots(figsize=(15,5))\n",
    "sns.distplot(bike_df.days_since_last_trip, color='b', bins=100)\n",
    "plt.title('Distribution of Bike Trips Counts', size=TITLE_FONT_SIZE, weight='bold')\n",
    "plt.xlabel('Days in Since Last Trip', size=LABEL_FONT_SIZE, weight='bold')\n",
    "plt.ylabel('Frequency', size=LABEL_FONT_SIZE, weight='bold')\n",
    "plt.show()"
   ]
  },
  {
   "cell_type": "code",
   "execution_count": null,
   "metadata": {},
   "outputs": [],
   "source": [
    "plt.subplots(figsize=(15,5))\n",
    "ax = sns.distplot(bike_df.median_usage_time_per_trip/60., color='g', bins=70)\n",
    "sns.distplot(bike_df.mean_usage_time_per_trip/60., color='r', bins=70, ax=ax)\n",
    "plt.title('Trip Duration Distribution', size=TITLE_FONT_SIZE, weight='bold')\n",
    "plt.xlabel('Length of Trip in Minutes', size=LABEL_FONT_SIZE, weight='bold')\n",
    "plt.ylabel('Frequency', size=LABEL_FONT_SIZE, weight='bold')\n",
    "plt.legend(['Median', 'Mean'], loc='best')\n",
    "plt.show()"
   ]
  },
  {
   "cell_type": "code",
   "execution_count": null,
   "metadata": {},
   "outputs": [],
   "source": [
    "plt.subplots(figsize=(15,5))\n",
    "\n",
    "sns.distplot(bike_df[bike_df.trip_count < 1500].total_usage_time/60., color='b', bins=30)\n",
    "sns.distplot(bike_df[bike_df.trip_count >= 1500].total_usage_time/60., color='g', bins=30)\n",
    "\n",
    "\n",
    "plt.title('Total Rides Duration Distribution', size=TITLE_FONT_SIZE, weight='bold')\n",
    "plt.xlabel('Total Ride Duration in Minutes', size=LABEL_FONT_SIZE, weight='bold')\n",
    "plt.ylabel('Frequency', size=LABEL_FONT_SIZE, weight='bold')\n",
    "\n",
    "plt.legend(['>=1500', '<1500'], loc='best')\n",
    "plt.show()"
   ]
  },
  {
   "cell_type": "code",
   "execution_count": null,
   "metadata": {},
   "outputs": [],
   "source": [
    "sns.lmplot(x='days_in_service', y='mean_rides_per_day', data=bike_df, hue='ride_num_category', size=10)\n",
    "plt.title('Days in Service vs Average Rides Per Day', size=TITLE_FONT_SIZE, weight='bold')\n",
    "plt.xlabel('Days in Service', size=LABEL_FONT_SIZE, weight='bold')\n",
    "plt.ylabel('Average Rides Per Day', size=LABEL_FONT_SIZE, weight='bold')\n",
    "\n",
    "plt.legend(['>=1500', '<1500'], loc='best')\n",
    "plt.show()"
   ]
  },
  {
   "cell_type": "markdown",
   "metadata": {},
   "source": [
    "# Write to File"
   ]
  },
  {
   "cell_type": "code",
   "execution_count": null,
   "metadata": {},
   "outputs": [],
   "source": [
    "bike_df.to_csv('../clean_data/bayareabikeshare/bike_data_cleaned.csv', encoding='utf-8')"
   ]
  }
 ],
 "metadata": {
  "kernelspec": {
   "display_name": "Python 3",
   "language": "python",
   "name": "python3"
  },
  "language_info": {
   "codemirror_mode": {
    "name": "ipython",
    "version": 3
   },
   "file_extension": ".py",
   "mimetype": "text/x-python",
   "name": "python",
   "nbconvert_exporter": "python",
   "pygments_lexer": "ipython3",
   "version": "3.6.3"
  }
 },
 "nbformat": 4,
 "nbformat_minor": 2
}
