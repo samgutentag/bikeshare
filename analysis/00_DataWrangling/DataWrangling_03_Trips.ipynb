{
 "cells": [
  {
   "cell_type": "markdown",
   "metadata": {},
   "source": [
    "# Wrangling Data From Bay Area Bike Share Published Data - Trips"
   ]
  },
  {
   "cell_type": "markdown",
   "metadata": {},
   "source": [
    "### Import Packages"
   ]
  },
  {
   "cell_type": "code",
   "execution_count": 1,
   "metadata": {},
   "outputs": [],
   "source": [
    "%matplotlib inline\n",
    "import matplotlib\n",
    "import matplotlib.pyplot as plt\n",
    "import pandas as pd\n",
    "\n",
    "import datetime\n",
    "\n",
    "import seaborn as sns\n",
    "sns.set_style('whitegrid')\n",
    "sns.set_context(\"poster\")"
   ]
  },
  {
   "cell_type": "code",
   "execution_count": 2,
   "metadata": {},
   "outputs": [],
   "source": [
    "from wranglingutils import time_marker as tm\n",
    "from wranglingutils import csv_chunk_importer"
   ]
  },
  {
   "cell_type": "code",
   "execution_count": 3,
   "metadata": {},
   "outputs": [],
   "source": [
    "from math import ceil"
   ]
  },
  {
   "cell_type": "code",
   "execution_count": 4,
   "metadata": {},
   "outputs": [
    {
     "data": {
      "text/html": [
       "<style>.container { width:95% !important; }</style>"
      ],
      "text/plain": [
       "<IPython.core.display.HTML object>"
      ]
     },
     "metadata": {},
     "output_type": "display_data"
    }
   ],
   "source": [
    "from IPython.core.display import display, HTML\n",
    "display(HTML(\"<style>.container { width:95% !important; }</style>\"))\n",
    "\n",
    "font = {'size'   : 50}\n",
    "matplotlib.rc('font', **font)\n",
    "\n",
    "LABEL_FONT_SIZE = 15\n",
    "TITLE_FONT_SIZE = 25\n",
    "TICK_FONT_SIZE = LABEL_FONT_SIZE*0.8\n",
    "FIG_SIZE = (15,6)"
   ]
  },
  {
   "cell_type": "markdown",
   "metadata": {},
   "source": [
    "## Import Data"
   ]
  },
  {
   "cell_type": "code",
   "execution_count": 5,
   "metadata": {},
   "outputs": [
    {
     "name": "stdout",
     "output_type": "stream",
     "text": [
      "[23:04:04.628457] Started Loading Data...\n",
      "[23:04:06.086642] Finished file! (1 of 4)\n",
      "[23:04:06.614698] Finished file! (2 of 4)\n",
      "[23:04:08.312682] Finished file! (3 of 4)\n",
      "[23:04:09.138578] Finished file! (4 of 4)\n",
      "[23:04:09.138866] concatenating chunks...\n",
      "[23:04:11.964061] Data Loaded Successfully!\n"
     ]
    }
   ],
   "source": [
    "tip_df_columns = ['trip_id', 'duration', 'start_date', 'start_station_name', 'start_terminal', \n",
    "                  'end_date', 'end_station_name', 'end_terminal', 'bike_id', 'subscriber_type', \n",
    "                  'zip_code']\n",
    "\n",
    "trips_df = csv_chunk_importer(file_path_slug='../../source_data/bayareabikeshare/*trip_data.csv', \n",
    "                                 column_labels=tip_df_columns, \n",
    "                                 chunk_size=10000, \n",
    "                                 drop_dups=True)"
   ]
  },
  {
   "cell_type": "code",
   "execution_count": 6,
   "metadata": {},
   "outputs": [
    {
     "name": "stdout",
     "output_type": "stream",
     "text": [
      "[23:04:12.022873] Started Loading Data...\n",
      "[23:04:12.035477] Finished file! (1 of 1)\n",
      "[23:04:12.035590] concatenating chunks...\n",
      "[23:04:12.046207] Data Loaded Successfully!\n"
     ]
    }
   ],
   "source": [
    "sf_stations_df = csv_chunk_importer(file_path_slug='../../clean_data/bayareabikeshare/sf_station_*.csv', \n",
    "                                 chunk_size=10000, \n",
    "                                 drop_dups=True)\n",
    "sf_station_ids = sf_stations_df.station_id.unique()"
   ]
  },
  {
   "cell_type": "markdown",
   "metadata": {},
   "source": [
    "## Cleaning Support Functions\n",
    "<p>General Cleaning functions</p>"
   ]
  },
  {
   "cell_type": "code",
   "execution_count": 7,
   "metadata": {},
   "outputs": [],
   "source": [
    "def clean_zipcode(item):\n",
    "    ''' Zipcodes in this data set are self reported rider zipcodes\n",
    "        and the method of entry for these zipcodes is reported to \n",
    "        not be very clear for users, we are using a heavy hand \n",
    "        when cleaning up zip codes'''\n",
    "\n",
    "    zip_string = str(item)\n",
    "    \n",
    "    # if zipcode is not 5 characters long\n",
    "    if len(zip_string) > 5:\n",
    "        # try splitting on a few different characters\n",
    "\n",
    "        # split on '-'\n",
    "        try:\n",
    "            result = zip_string.split('-')[0]\n",
    "        except:\n",
    "            result = zip_string\n",
    "        \n",
    "        # split on '.'\n",
    "        try:\n",
    "            result = zip_string.split('.')[0]\n",
    "        except:\n",
    "            result = zip_string\n",
    "            \n",
    "        # take only first 5 characters\n",
    "        result = result[:5]\n",
    "\n",
    "        # if len of zipstring is less than 5, return 'NaN'\n",
    "        if len(result) < 5:\n",
    "            return 99999\n",
    "\n",
    "    # if it is 5 characters long, move along\n",
    "    else:\n",
    "        result = zip_string\n",
    "    \n",
    "    # make sure result is all digits\n",
    "    if result.isdigit():\n",
    "        result = int(result)\n",
    "        return result\n",
    "    else:\n",
    "        return 99999\n",
    "\n",
    "\n",
    "def clean_trip_frame(df):\n",
    "    '''Basic Cleanup of column types and appends a 'duration_minutes' \n",
    "        column converted from given 'duration' which is in seconds'''\n",
    "    # set column types\n",
    "    tm('Setting data types...')\n",
    "    df['start_date']       = pd.to_datetime(df['start_date'], format=\"%m/%d/%Y %H:%M\")\n",
    "    df['end_date']         = pd.to_datetime(df['end_date'],   format=\"%m/%d/%Y %H:%M\")\n",
    "    df['trip_id']          = df['trip_id'].astype('int')\n",
    "    df['duration']         = df['duration'].astype('int')    \n",
    "    df['start_terminal']   = df['start_terminal'].astype('int')\n",
    "    df['end_terminal']     = df['end_terminal'].astype('int')\n",
    "    df['bike_id']          = df['bike_id'].astype('int')\n",
    "    df['subscriber_type']  = df['subscriber_type'].astype('category')\n",
    "    \n",
    "    # add 'duration_minutes' column\n",
    "    tm('add duration_minutes column')\n",
    "    df['duration_minutes'] = df.duration.apply(lambda x: x/60.)\n",
    "    df['duration_minutes'] = df['duration_minutes'].astype('float')\n",
    "    \n",
    "    # add 'billed_minutes' and 'billed_periods' columns\n",
    "    # customers are billed by the minute, round up to nearest minute duration\n",
    "    # a billed period is 5 minutes long\n",
    "    df['billed_minutes'] = df.duration.apply(lambda x: ceil(x/60.))\n",
    "    df['billed_minutes'] = df['billed_minutes'].astype('int')\n",
    "    df['billed_periods'] = df.billed_minutes.apply(lambda x: int(ceil(x/5)))\n",
    "    \n",
    "    # Clean Zipcode\n",
    "    tm('cleaning zipcodes')\n",
    "    df['zip_code'] = df.zip_code.apply(clean_zipcode)\n",
    "    \n",
    "    # rename columns for clarity\n",
    "    df.rename(columns={'zip_code': 'user_zip', 'subscriber_type': 'user_type'}, inplace=True)\n",
    "\n",
    "    df.reset_index(inplace=True, drop=True)\n",
    "    \n",
    "    tm('done!')\n",
    "    return df"
   ]
  },
  {
   "cell_type": "markdown",
   "metadata": {},
   "source": [
    "# Cleaning Data\n",
    "<ul>\n",
    "    <li>Format zip codes to take only first 5 digits, this data is self reported and often wrongly input per Bay Area Bike Share Notes</li>\n",
    "    <li>For other data it is mostly just setting a propper data type</li>\n",
    "    <li>\n",
    "        <ul>Duration is convered to billable time windows as:\n",
    "            <li>`billed_minutes` rounds up rental duration minutes to next full minute</li>\n",
    "            <li>`billed_periods` is the number of 5 minute intervals in `billed_minutes`, rounded up to the next full period</li>\n",
    "        <ul>\n",
    "    </li>\n",
    "</ul>"
   ]
  },
  {
   "cell_type": "code",
   "execution_count": 8,
   "metadata": {},
   "outputs": [
    {
     "name": "stdout",
     "output_type": "stream",
     "text": [
      "[23:04:12.399555] Trip Data Cleanup Started\n",
      "[23:04:12.400511] Setting data types...\n",
      "[23:04:22.234862] add duration_minutes column\n",
      "[23:04:24.113032] cleaning zipcodes\n",
      "[23:04:25.566241] done!\n",
      "[23:04:25.566480] Cleanup Complete!\n"
     ]
    }
   ],
   "source": [
    "# clean data frames\n",
    "tm('Trip Data Cleanup Started')\n",
    "trips_df = clean_trip_frame(trips_df)\n",
    "tm('Cleanup Complete!')"
   ]
  },
  {
   "cell_type": "code",
   "execution_count": 9,
   "metadata": {},
   "outputs": [
    {
     "data": {
      "text/html": [
       "<div>\n",
       "<style scoped>\n",
       "    .dataframe tbody tr th:only-of-type {\n",
       "        vertical-align: middle;\n",
       "    }\n",
       "\n",
       "    .dataframe tbody tr th {\n",
       "        vertical-align: top;\n",
       "    }\n",
       "\n",
       "    .dataframe thead th {\n",
       "        text-align: right;\n",
       "    }\n",
       "</style>\n",
       "<table border=\"1\" class=\"dataframe\">\n",
       "  <thead>\n",
       "    <tr style=\"text-align: right;\">\n",
       "      <th></th>\n",
       "      <th>0</th>\n",
       "      <th>1</th>\n",
       "      <th>2</th>\n",
       "    </tr>\n",
       "  </thead>\n",
       "  <tbody>\n",
       "    <tr>\n",
       "      <th>trip_id</th>\n",
       "      <td>913465</td>\n",
       "      <td>913466</td>\n",
       "      <td>913467</td>\n",
       "    </tr>\n",
       "    <tr>\n",
       "      <th>duration</th>\n",
       "      <td>746</td>\n",
       "      <td>969</td>\n",
       "      <td>233</td>\n",
       "    </tr>\n",
       "    <tr>\n",
       "      <th>start_date</th>\n",
       "      <td>2015-09-01 00:10:00</td>\n",
       "      <td>2015-09-01 00:15:00</td>\n",
       "      <td>2015-09-01 00:15:00</td>\n",
       "    </tr>\n",
       "    <tr>\n",
       "      <th>start_station_name</th>\n",
       "      <td>San Francisco Caltrain 2 (330 Townsend)</td>\n",
       "      <td>Clay at Battery</td>\n",
       "      <td>Davis at Jackson</td>\n",
       "    </tr>\n",
       "    <tr>\n",
       "      <th>start_terminal</th>\n",
       "      <td>69</td>\n",
       "      <td>41</td>\n",
       "      <td>42</td>\n",
       "    </tr>\n",
       "    <tr>\n",
       "      <th>end_date</th>\n",
       "      <td>2015-09-01 00:23:00</td>\n",
       "      <td>2015-09-01 00:31:00</td>\n",
       "      <td>2015-09-01 00:19:00</td>\n",
       "    </tr>\n",
       "    <tr>\n",
       "      <th>end_station_name</th>\n",
       "      <td>San Francisco City Hall</td>\n",
       "      <td>Washington at Kearny</td>\n",
       "      <td>Commercial at Montgomery</td>\n",
       "    </tr>\n",
       "    <tr>\n",
       "      <th>end_terminal</th>\n",
       "      <td>58</td>\n",
       "      <td>46</td>\n",
       "      <td>45</td>\n",
       "    </tr>\n",
       "    <tr>\n",
       "      <th>bike_id</th>\n",
       "      <td>238</td>\n",
       "      <td>16</td>\n",
       "      <td>534</td>\n",
       "    </tr>\n",
       "    <tr>\n",
       "      <th>user_type</th>\n",
       "      <td>Subscriber</td>\n",
       "      <td>Subscriber</td>\n",
       "      <td>Subscriber</td>\n",
       "    </tr>\n",
       "    <tr>\n",
       "      <th>user_zip</th>\n",
       "      <td>94107</td>\n",
       "      <td>94133</td>\n",
       "      <td>94111</td>\n",
       "    </tr>\n",
       "    <tr>\n",
       "      <th>duration_minutes</th>\n",
       "      <td>12.4333</td>\n",
       "      <td>16.15</td>\n",
       "      <td>3.88333</td>\n",
       "    </tr>\n",
       "    <tr>\n",
       "      <th>billed_minutes</th>\n",
       "      <td>13</td>\n",
       "      <td>17</td>\n",
       "      <td>4</td>\n",
       "    </tr>\n",
       "    <tr>\n",
       "      <th>billed_periods</th>\n",
       "      <td>3</td>\n",
       "      <td>4</td>\n",
       "      <td>1</td>\n",
       "    </tr>\n",
       "  </tbody>\n",
       "</table>\n",
       "</div>"
      ],
      "text/plain": [
       "                                                          0  \\\n",
       "trip_id                                              913465   \n",
       "duration                                                746   \n",
       "start_date                              2015-09-01 00:10:00   \n",
       "start_station_name  San Francisco Caltrain 2 (330 Townsend)   \n",
       "start_terminal                                           69   \n",
       "end_date                                2015-09-01 00:23:00   \n",
       "end_station_name                    San Francisco City Hall   \n",
       "end_terminal                                             58   \n",
       "bike_id                                                 238   \n",
       "user_type                                        Subscriber   \n",
       "user_zip                                              94107   \n",
       "duration_minutes                                    12.4333   \n",
       "billed_minutes                                           13   \n",
       "billed_periods                                            3   \n",
       "\n",
       "                                       1                         2  \n",
       "trip_id                           913466                    913467  \n",
       "duration                             969                       233  \n",
       "start_date           2015-09-01 00:15:00       2015-09-01 00:15:00  \n",
       "start_station_name       Clay at Battery          Davis at Jackson  \n",
       "start_terminal                        41                        42  \n",
       "end_date             2015-09-01 00:31:00       2015-09-01 00:19:00  \n",
       "end_station_name    Washington at Kearny  Commercial at Montgomery  \n",
       "end_terminal                          46                        45  \n",
       "bike_id                               16                       534  \n",
       "user_type                     Subscriber                Subscriber  \n",
       "user_zip                           94133                     94111  \n",
       "duration_minutes                   16.15                   3.88333  \n",
       "billed_minutes                        17                         4  \n",
       "billed_periods                         4                         1  "
      ]
     },
     "execution_count": 9,
     "metadata": {},
     "output_type": "execute_result"
    }
   ],
   "source": [
    "trips_df.head(3).transpose()"
   ]
  },
  {
   "cell_type": "code",
   "execution_count": 10,
   "metadata": {},
   "outputs": [
    {
     "data": {
      "text/html": [
       "<div>\n",
       "<style scoped>\n",
       "    .dataframe tbody tr th:only-of-type {\n",
       "        vertical-align: middle;\n",
       "    }\n",
       "\n",
       "    .dataframe tbody tr th {\n",
       "        vertical-align: top;\n",
       "    }\n",
       "\n",
       "    .dataframe thead th {\n",
       "        text-align: right;\n",
       "    }\n",
       "</style>\n",
       "<table border=\"1\" class=\"dataframe\">\n",
       "  <thead>\n",
       "    <tr style=\"text-align: right;\">\n",
       "      <th></th>\n",
       "      <th>trip_id</th>\n",
       "      <th>duration</th>\n",
       "      <th>start_terminal</th>\n",
       "      <th>end_terminal</th>\n",
       "      <th>bike_id</th>\n",
       "      <th>user_zip</th>\n",
       "      <th>duration_minutes</th>\n",
       "      <th>billed_minutes</th>\n",
       "      <th>billed_periods</th>\n",
       "    </tr>\n",
       "  </thead>\n",
       "  <tbody>\n",
       "    <tr>\n",
       "      <th>count</th>\n",
       "      <td>9.836480e+05</td>\n",
       "      <td>9.836480e+05</td>\n",
       "      <td>983648.000000</td>\n",
       "      <td>983648.000000</td>\n",
       "      <td>983648.000000</td>\n",
       "      <td>983648.000000</td>\n",
       "      <td>983648.000000</td>\n",
       "      <td>983648.000000</td>\n",
       "      <td>983648.000000</td>\n",
       "    </tr>\n",
       "    <tr>\n",
       "      <th>mean</th>\n",
       "      <td>6.721238e+05</td>\n",
       "      <td>1.018932e+03</td>\n",
       "      <td>58.121022</td>\n",
       "      <td>58.100089</td>\n",
       "      <td>423.319779</td>\n",
       "      <td>91195.494468</td>\n",
       "      <td>16.982206</td>\n",
       "      <td>17.473353</td>\n",
       "      <td>3.884966</td>\n",
       "    </tr>\n",
       "    <tr>\n",
       "      <th>std</th>\n",
       "      <td>3.851056e+05</td>\n",
       "      <td>1.841684e+04</td>\n",
       "      <td>16.841133</td>\n",
       "      <td>16.912386</td>\n",
       "      <td>158.071344</td>\n",
       "      <td>15400.326413</td>\n",
       "      <td>306.947284</td>\n",
       "      <td>306.946965</td>\n",
       "      <td>61.390235</td>\n",
       "    </tr>\n",
       "    <tr>\n",
       "      <th>min</th>\n",
       "      <td>4.069000e+03</td>\n",
       "      <td>6.000000e+01</td>\n",
       "      <td>2.000000</td>\n",
       "      <td>2.000000</td>\n",
       "      <td>9.000000</td>\n",
       "      <td>0.000000</td>\n",
       "      <td>1.000000</td>\n",
       "      <td>1.000000</td>\n",
       "      <td>1.000000</td>\n",
       "    </tr>\n",
       "    <tr>\n",
       "      <th>25%</th>\n",
       "      <td>3.359168e+05</td>\n",
       "      <td>3.470000e+02</td>\n",
       "      <td>50.000000</td>\n",
       "      <td>50.000000</td>\n",
       "      <td>328.000000</td>\n",
       "      <td>94103.000000</td>\n",
       "      <td>5.783333</td>\n",
       "      <td>6.000000</td>\n",
       "      <td>2.000000</td>\n",
       "    </tr>\n",
       "    <tr>\n",
       "      <th>50%</th>\n",
       "      <td>6.779755e+05</td>\n",
       "      <td>5.180000e+02</td>\n",
       "      <td>62.000000</td>\n",
       "      <td>62.000000</td>\n",
       "      <td>437.000000</td>\n",
       "      <td>94111.000000</td>\n",
       "      <td>8.633333</td>\n",
       "      <td>9.000000</td>\n",
       "      <td>2.000000</td>\n",
       "    </tr>\n",
       "    <tr>\n",
       "      <th>75%</th>\n",
       "      <td>1.001672e+06</td>\n",
       "      <td>7.480000e+02</td>\n",
       "      <td>70.000000</td>\n",
       "      <td>70.000000</td>\n",
       "      <td>544.000000</td>\n",
       "      <td>94598.000000</td>\n",
       "      <td>12.466667</td>\n",
       "      <td>13.000000</td>\n",
       "      <td>3.000000</td>\n",
       "    </tr>\n",
       "    <tr>\n",
       "      <th>max</th>\n",
       "      <td>1.338408e+06</td>\n",
       "      <td>1.727040e+07</td>\n",
       "      <td>91.000000</td>\n",
       "      <td>91.000000</td>\n",
       "      <td>878.000000</td>\n",
       "      <td>99999.000000</td>\n",
       "      <td>287840.000000</td>\n",
       "      <td>287840.000000</td>\n",
       "      <td>57568.000000</td>\n",
       "    </tr>\n",
       "  </tbody>\n",
       "</table>\n",
       "</div>"
      ],
      "text/plain": [
       "            trip_id      duration  start_terminal   end_terminal  \\\n",
       "count  9.836480e+05  9.836480e+05   983648.000000  983648.000000   \n",
       "mean   6.721238e+05  1.018932e+03       58.121022      58.100089   \n",
       "std    3.851056e+05  1.841684e+04       16.841133      16.912386   \n",
       "min    4.069000e+03  6.000000e+01        2.000000       2.000000   \n",
       "25%    3.359168e+05  3.470000e+02       50.000000      50.000000   \n",
       "50%    6.779755e+05  5.180000e+02       62.000000      62.000000   \n",
       "75%    1.001672e+06  7.480000e+02       70.000000      70.000000   \n",
       "max    1.338408e+06  1.727040e+07       91.000000      91.000000   \n",
       "\n",
       "             bike_id       user_zip  duration_minutes  billed_minutes  \\\n",
       "count  983648.000000  983648.000000     983648.000000   983648.000000   \n",
       "mean      423.319779   91195.494468         16.982206       17.473353   \n",
       "std       158.071344   15400.326413        306.947284      306.946965   \n",
       "min         9.000000       0.000000          1.000000        1.000000   \n",
       "25%       328.000000   94103.000000          5.783333        6.000000   \n",
       "50%       437.000000   94111.000000          8.633333        9.000000   \n",
       "75%       544.000000   94598.000000         12.466667       13.000000   \n",
       "max       878.000000   99999.000000     287840.000000   287840.000000   \n",
       "\n",
       "       billed_periods  \n",
       "count   983648.000000  \n",
       "mean         3.884966  \n",
       "std         61.390235  \n",
       "min          1.000000  \n",
       "25%          2.000000  \n",
       "50%          2.000000  \n",
       "75%          3.000000  \n",
       "max      57568.000000  "
      ]
     },
     "execution_count": 10,
     "metadata": {},
     "output_type": "execute_result"
    }
   ],
   "source": [
    "trips_df.describe()"
   ]
  },
  {
   "cell_type": "markdown",
   "metadata": {},
   "source": [
    "# Correct Relocated Stations\n",
    "\n",
    "<p> There was a delay in station_id updates when stations 23, 24, 25, and 26 were relocated, update status information by changing the station_id for these stations in dates after they were relocated </p>"
   ]
  },
  {
   "cell_type": "code",
   "execution_count": 11,
   "metadata": {},
   "outputs": [],
   "source": [
    "def date_fixes(df, old_terminal, new_terminal, change_date):\n",
    "    '''Correct dates on terminal relocations'''\n",
    "        \n",
    "    # Fix A to B - Start Terminal\n",
    "    tm('Setting {} to {} occuring before {}'.format(old_terminal, new_terminal, change_date))\n",
    "    index_to_update_start = df[(df.start_terminal == old_terminal) & (df.start_date >= change_date)].index\n",
    "    print('\\tUpdating {:d} records...'.format(len(index_to_update_start)))\n",
    "    df.loc[index_to_update_start, 'start_terminal'] = new_terminal\n",
    "\n",
    "    # Fix A to B - End Terminal\n",
    "    index_to_update_end   = df[(df.end_terminal == old_terminal) & (df.end_date >= change_date)].index\n",
    "    print('\\tUpdating {:d} records...'.format(len(index_to_update_end)))\n",
    "    df.loc[index_to_update_end, 'end_terminal'] = new_terminal\n",
    "    \n",
    "    # Fix B to A - Start Terminal\n",
    "    tm('Setting {} to {} occuring after  {}'.format(new_terminal, old_terminal, change_date))\n",
    "    index_to_update_start = df[(df.start_terminal == new_terminal) & (df.start_date < change_date)].index\n",
    "    print('\\tUpdating {:d} records...'.format(len(index_to_update_start)))\n",
    "    df.loc[index_to_update_start, 'start_terminal'] = old_terminal\n",
    "\n",
    "    # Fix B to A - End Terminal\n",
    "    index_to_update_end   = df[(df.end_terminal == new_terminal) & (df.end_date < change_date)].index\n",
    "    print('\\tUpdating {:d} records...'.format(len(index_to_update_end)))\n",
    "    df.loc[index_to_update_end, 'end_terminal'] = old_terminal\n",
    "    \n",
    "    return df"
   ]
  },
  {
   "cell_type": "markdown",
   "metadata": {},
   "source": [
    "#### On July 5, 2016 station 23 was relocated to station 88, and station 24 was relocated to station 89"
   ]
  },
  {
   "cell_type": "code",
   "execution_count": 12,
   "metadata": {
    "scrolled": false
   },
   "outputs": [
    {
     "name": "stdout",
     "output_type": "stream",
     "text": [
      "[23:04:26.659404] Setting 23 to 88 occuring before 2016-07-05 00:00:00\n",
      "\tUpdating 0 records...\n",
      "\tUpdating 0 records...\n",
      "[23:04:26.818620] Setting 88 to 23 occuring after  2016-07-05 00:00:00\n",
      "\tUpdating 9 records...\n",
      "\tUpdating 18 records...\n",
      "[23:04:26.892619] Setting 24 to 89 occuring before 2016-07-05 00:00:00\n",
      "\tUpdating 0 records...\n",
      "\tUpdating 0 records...\n",
      "[23:04:26.968529] Setting 89 to 24 occuring after  2016-07-05 00:00:00\n",
      "\tUpdating 11 records...\n",
      "\tUpdating 9 records...\n"
     ]
    }
   ],
   "source": [
    "change_date = datetime.datetime.strptime('2016-07-05', '%Y-%m-%d')\n",
    "trips_df = date_fixes(trips_df, 23, 88, change_date)\n",
    "trips_df = date_fixes(trips_df, 24, 89, change_date)"
   ]
  },
  {
   "cell_type": "markdown",
   "metadata": {},
   "source": [
    "#### On August 4, 2016 station 25 was relocated to station 91, and station 26 was relocated to station 90"
   ]
  },
  {
   "cell_type": "code",
   "execution_count": 13,
   "metadata": {
    "scrolled": true
   },
   "outputs": [
    {
     "name": "stdout",
     "output_type": "stream",
     "text": [
      "[23:04:27.056854] Setting 25 to 91 occuring before 2016-08-04 00:00:00\n",
      "\tUpdating 0 records...\n",
      "\tUpdating 0 records...\n",
      "[23:04:27.137713] Setting 91 to 25 occuring after  2016-08-04 00:00:00\n",
      "\tUpdating 0 records...\n",
      "\tUpdating 0 records...\n",
      "[23:04:27.205947] Setting 26 to 90 occuring before 2016-08-04 00:00:00\n",
      "\tUpdating 0 records...\n",
      "\tUpdating 0 records...\n",
      "[23:04:27.280313] Setting 90 to 26 occuring after  2016-08-04 00:00:00\n",
      "\tUpdating 0 records...\n",
      "\tUpdating 0 records...\n"
     ]
    }
   ],
   "source": [
    "change_date = datetime.datetime.strptime('2016-08-04', '%Y-%m-%d')\n",
    "trips_df = date_fixes(trips_df, 25, 91, change_date)\n",
    "trips_df = date_fixes(trips_df, 26, 90, change_date)"
   ]
  },
  {
   "cell_type": "markdown",
   "metadata": {},
   "source": [
    "## Prune Trips not within San Francisco\n",
    "<p>We are only concerned with trips that both start and end at San Francisco Stations in this analysis, remove all others</p>"
   ]
  },
  {
   "cell_type": "code",
   "execution_count": 14,
   "metadata": {},
   "outputs": [
    {
     "name": "stdout",
     "output_type": "stream",
     "text": [
      "[23:04:27.361989] Subset to only include trips that are within San Francisco\n",
      "[23:04:27.557516] done\n"
     ]
    }
   ],
   "source": [
    "tm('Subset to only include trips that are within San Francisco')\n",
    "trips_df = trips_df[(trips_df.start_terminal.isin(sf_station_ids)) & (trips_df.end_terminal.isin(sf_station_ids))].copy()\n",
    "tm('done')"
   ]
  },
  {
   "cell_type": "markdown",
   "metadata": {},
   "source": [
    "## Prune Trips to only those less than 3 hours long\n",
    "<p>The duration in minutes of each trip has a very large spread, with the longest trip (an extreme outlier) taking nearly 200 days to complete a trip!  The Bay Area Bike Share bills in Customer and Subscriber Tiers that allow for different pricing, but the global truth is that no rider can use a bike as part of the program for more than 3 hour without incurring a heafty set of fees.</p>\n",
    "<p>In fact, the idealized window set out by the program is for just 30 minutes, with a minute by minute charge being tacked onto rentals for each minute the bike is not returned after that.</p>\n",
    "\n",
    "<ul>\n",
    "    <li>There are 983648 total recorded trips</li>\n",
    "    <li>There are 936280 trips 30 minutes or less, this is 95.184 of all recorded trips</li>\n",
    "    <li>There are 973074 trips 3 hours or less, this is 98.925 of all recorded trips</li>\n",
    "</ul>"
   ]
  },
  {
   "cell_type": "code",
   "execution_count": 15,
   "metadata": {},
   "outputs": [
    {
     "name": "stdout",
     "output_type": "stream",
     "text": [
      "There are 891200 total recorded trips\n",
      "There are 851921 trips 30 minutes or less, this is 95.593 of all recorded trips\n",
      "There are 882240 trips 3 hours or less, this is 98.995 of all recorded trips\n"
     ]
    }
   ],
   "source": [
    "count_30min_trips = trips_df[trips_df.duration_minutes < 30].shape[0]\n",
    "count_3hr_trips = trips_df[trips_df.duration_minutes < 180].shape[0]\n",
    "\n",
    "print('There are {:d} total recorded trips'.format(trips_df.shape[0]))\n",
    "print('There are {:d} trips 30 minutes or less, this is {:2.3f} of all recorded trips'.format(count_30min_trips, 100.*count_30min_trips/trips_df.shape[0]))\n",
    "print('There are {:d} trips 3 hours or less, this is {:2.3f} of all recorded trips'.format(count_3hr_trips, 100.*count_3hr_trips/trips_df.shape[0]))"
   ]
  },
  {
   "cell_type": "code",
   "execution_count": 16,
   "metadata": {},
   "outputs": [],
   "source": [
    "def plot_billed_min_distribution(df, max_minutes=180, file_suffix='3hr'):\n",
    "    df_subset = df[df.billed_minutes <= max_minutes].copy()\n",
    "\n",
    "    plt.subplots(figsize=FIG_SIZE)\n",
    "    ax = sns.countplot(x=\"billed_minutes\", data=df_subset, palette='Blues_r')\n",
    "\n",
    "    plt.xlabel('Trip Duration (Billed Minutes)', size=LABEL_FONT_SIZE)\n",
    "    plt.ylabel('Number of Trips', size=LABEL_FONT_SIZE)\n",
    "    plt.title('Trip Duration Distribution', size=TITLE_FONT_SIZE)\n",
    "\n",
    "    x_ticks = [x for x in range(0, max_minutes+5, 5)]\n",
    "    ax.set_xticks(x_ticks)\n",
    "    ax.set_xticklabels([str(x) for x in x_ticks], size=TICK_FONT_SIZE)\n",
    "    for x in x_ticks:\n",
    "        ax.axvline(x, color='k', alpha=0.15, linestyle=':')\n",
    "\n",
    "\n",
    "    y_ticks = [y for y in range(0, 100000, 10000)]\n",
    "    ax.set_yticks(y_ticks)\n",
    "    ax.set_yticklabels(['{:d}K'.format(int(y/1000)) for y in y_ticks], size=TICK_FONT_SIZE)\n",
    "\n",
    "    plt.grid(False)\n",
    "    plt.tight_layout()\n",
    "    plt.savefig('../../charts/trip_duration_distribution_{}.png'.format(file_suffix))\n",
    "    plt.show()\n",
    "    plt.close()"
   ]
  },
  {
   "cell_type": "code",
   "execution_count": 17,
   "metadata": {},
   "outputs": [
    {
     "data": {
      "image/png": "[encoded data removed]",
      "text/plain": [
       "<matplotlib.figure.Figure at 0x1a0e07f198>"
      ]
     },
     "metadata": {},
     "output_type": "display_data"
    }
   ],
   "source": [
    "plot_billed_min_distribution(trips_df, max_minutes=180, file_suffix='3hr')"
   ]
  },
  {
   "cell_type": "code",
   "execution_count": 18,
   "metadata": {
    "scrolled": true
   },
   "outputs": [
    {
     "data": {
      "image/png": "[encoded data removed]",
      "text/plain": [
       "<matplotlib.figure.Figure at 0x1a0c5cc748>"
      ]
     },
     "metadata": {},
     "output_type": "display_data"
    }
   ],
   "source": [
    "plot_billed_min_distribution(trips_df, max_minutes=30, file_suffix='30min')"
   ]
  },
  {
   "cell_type": "code",
   "execution_count": 19,
   "metadata": {},
   "outputs": [
    {
     "name": "stdout",
     "output_type": "stream",
     "text": [
      "[23:04:30.587611] Removing trips longer than 3 hours\n",
      "(882190, 14)\n",
      "[23:04:30.838675] done!\n"
     ]
    }
   ],
   "source": [
    "# prune data to exclude trips longer than 3 hours\n",
    "tm('Removing trips longer than 3 hours')\n",
    "\n",
    "cutoff_minutes = 180\n",
    "\n",
    "trips_df = trips_df[trips_df.billed_minutes < cutoff_minutes].copy()\n",
    "trips_df.reset_index(inplace=True, drop=True)\n",
    "\n",
    "print(trips_df.shape)\n",
    "tm('done!')"
   ]
  },
  {
   "cell_type": "code",
   "execution_count": 20,
   "metadata": {
    "scrolled": true
   },
   "outputs": [
    {
     "data": {
      "text/html": [
       "<div>\n",
       "<style scoped>\n",
       "    .dataframe tbody tr th:only-of-type {\n",
       "        vertical-align: middle;\n",
       "    }\n",
       "\n",
       "    .dataframe tbody tr th {\n",
       "        vertical-align: top;\n",
       "    }\n",
       "\n",
       "    .dataframe thead th {\n",
       "        text-align: right;\n",
       "    }\n",
       "</style>\n",
       "<table border=\"1\" class=\"dataframe\">\n",
       "  <thead>\n",
       "    <tr style=\"text-align: right;\">\n",
       "      <th></th>\n",
       "      <th>0</th>\n",
       "      <th>1</th>\n",
       "      <th>2</th>\n",
       "    </tr>\n",
       "  </thead>\n",
       "  <tbody>\n",
       "    <tr>\n",
       "      <th>trip_id</th>\n",
       "      <td>913465</td>\n",
       "      <td>913466</td>\n",
       "      <td>913467</td>\n",
       "    </tr>\n",
       "    <tr>\n",
       "      <th>duration</th>\n",
       "      <td>746</td>\n",
       "      <td>969</td>\n",
       "      <td>233</td>\n",
       "    </tr>\n",
       "    <tr>\n",
       "      <th>start_date</th>\n",
       "      <td>2015-09-01 00:10:00</td>\n",
       "      <td>2015-09-01 00:15:00</td>\n",
       "      <td>2015-09-01 00:15:00</td>\n",
       "    </tr>\n",
       "    <tr>\n",
       "      <th>start_station_name</th>\n",
       "      <td>San Francisco Caltrain 2 (330 Townsend)</td>\n",
       "      <td>Clay at Battery</td>\n",
       "      <td>Davis at Jackson</td>\n",
       "    </tr>\n",
       "    <tr>\n",
       "      <th>start_terminal</th>\n",
       "      <td>69</td>\n",
       "      <td>41</td>\n",
       "      <td>42</td>\n",
       "    </tr>\n",
       "    <tr>\n",
       "      <th>end_date</th>\n",
       "      <td>2015-09-01 00:23:00</td>\n",
       "      <td>2015-09-01 00:31:00</td>\n",
       "      <td>2015-09-01 00:19:00</td>\n",
       "    </tr>\n",
       "    <tr>\n",
       "      <th>end_station_name</th>\n",
       "      <td>San Francisco City Hall</td>\n",
       "      <td>Washington at Kearny</td>\n",
       "      <td>Commercial at Montgomery</td>\n",
       "    </tr>\n",
       "    <tr>\n",
       "      <th>end_terminal</th>\n",
       "      <td>58</td>\n",
       "      <td>46</td>\n",
       "      <td>45</td>\n",
       "    </tr>\n",
       "    <tr>\n",
       "      <th>bike_id</th>\n",
       "      <td>238</td>\n",
       "      <td>16</td>\n",
       "      <td>534</td>\n",
       "    </tr>\n",
       "    <tr>\n",
       "      <th>user_type</th>\n",
       "      <td>Subscriber</td>\n",
       "      <td>Subscriber</td>\n",
       "      <td>Subscriber</td>\n",
       "    </tr>\n",
       "    <tr>\n",
       "      <th>user_zip</th>\n",
       "      <td>94107</td>\n",
       "      <td>94133</td>\n",
       "      <td>94111</td>\n",
       "    </tr>\n",
       "    <tr>\n",
       "      <th>duration_minutes</th>\n",
       "      <td>12.4333</td>\n",
       "      <td>16.15</td>\n",
       "      <td>3.88333</td>\n",
       "    </tr>\n",
       "    <tr>\n",
       "      <th>billed_minutes</th>\n",
       "      <td>13</td>\n",
       "      <td>17</td>\n",
       "      <td>4</td>\n",
       "    </tr>\n",
       "    <tr>\n",
       "      <th>billed_periods</th>\n",
       "      <td>3</td>\n",
       "      <td>4</td>\n",
       "      <td>1</td>\n",
       "    </tr>\n",
       "  </tbody>\n",
       "</table>\n",
       "</div>"
      ],
      "text/plain": [
       "                                                          0  \\\n",
       "trip_id                                              913465   \n",
       "duration                                                746   \n",
       "start_date                              2015-09-01 00:10:00   \n",
       "start_station_name  San Francisco Caltrain 2 (330 Townsend)   \n",
       "start_terminal                                           69   \n",
       "end_date                                2015-09-01 00:23:00   \n",
       "end_station_name                    San Francisco City Hall   \n",
       "end_terminal                                             58   \n",
       "bike_id                                                 238   \n",
       "user_type                                        Subscriber   \n",
       "user_zip                                              94107   \n",
       "duration_minutes                                    12.4333   \n",
       "billed_minutes                                           13   \n",
       "billed_periods                                            3   \n",
       "\n",
       "                                       1                         2  \n",
       "trip_id                           913466                    913467  \n",
       "duration                             969                       233  \n",
       "start_date           2015-09-01 00:15:00       2015-09-01 00:15:00  \n",
       "start_station_name       Clay at Battery          Davis at Jackson  \n",
       "start_terminal                        41                        42  \n",
       "end_date             2015-09-01 00:31:00       2015-09-01 00:19:00  \n",
       "end_station_name    Washington at Kearny  Commercial at Montgomery  \n",
       "end_terminal                          46                        45  \n",
       "bike_id                               16                       534  \n",
       "user_type                     Subscriber                Subscriber  \n",
       "user_zip                           94133                     94111  \n",
       "duration_minutes                   16.15                   3.88333  \n",
       "billed_minutes                        17                         4  \n",
       "billed_periods                         4                         1  "
      ]
     },
     "execution_count": 20,
     "metadata": {},
     "output_type": "execute_result"
    }
   ],
   "source": [
    "trips_df.head(3).transpose()"
   ]
  },
  {
   "cell_type": "markdown",
   "metadata": {},
   "source": [
    "## Clean Up Column Labels"
   ]
  },
  {
   "cell_type": "code",
   "execution_count": 21,
   "metadata": {},
   "outputs": [
    {
     "data": {
      "text/html": [
       "<div>\n",
       "<style scoped>\n",
       "    .dataframe tbody tr th:only-of-type {\n",
       "        vertical-align: middle;\n",
       "    }\n",
       "\n",
       "    .dataframe tbody tr th {\n",
       "        vertical-align: top;\n",
       "    }\n",
       "\n",
       "    .dataframe thead th {\n",
       "        text-align: right;\n",
       "    }\n",
       "</style>\n",
       "<table border=\"1\" class=\"dataframe\">\n",
       "  <thead>\n",
       "    <tr style=\"text-align: right;\">\n",
       "      <th></th>\n",
       "      <th>trip_id</th>\n",
       "      <th>duration</th>\n",
       "      <th>start_date</th>\n",
       "      <th>start_station_name</th>\n",
       "      <th>start_station_id</th>\n",
       "      <th>end_date</th>\n",
       "      <th>end_station_name</th>\n",
       "      <th>end_station_id</th>\n",
       "      <th>bike_id</th>\n",
       "      <th>user_type</th>\n",
       "      <th>user_zip</th>\n",
       "      <th>duration_minutes</th>\n",
       "      <th>billed_minutes</th>\n",
       "      <th>billed_periods</th>\n",
       "    </tr>\n",
       "  </thead>\n",
       "  <tbody>\n",
       "    <tr>\n",
       "      <th>0</th>\n",
       "      <td>913465</td>\n",
       "      <td>746</td>\n",
       "      <td>2015-09-01 00:10:00</td>\n",
       "      <td>San Francisco Caltrain 2 (330 Townsend)</td>\n",
       "      <td>69</td>\n",
       "      <td>2015-09-01 00:23:00</td>\n",
       "      <td>San Francisco City Hall</td>\n",
       "      <td>58</td>\n",
       "      <td>238</td>\n",
       "      <td>Subscriber</td>\n",
       "      <td>94107</td>\n",
       "      <td>12.433333</td>\n",
       "      <td>13</td>\n",
       "      <td>3</td>\n",
       "    </tr>\n",
       "    <tr>\n",
       "      <th>1</th>\n",
       "      <td>913466</td>\n",
       "      <td>969</td>\n",
       "      <td>2015-09-01 00:15:00</td>\n",
       "      <td>Clay at Battery</td>\n",
       "      <td>41</td>\n",
       "      <td>2015-09-01 00:31:00</td>\n",
       "      <td>Washington at Kearny</td>\n",
       "      <td>46</td>\n",
       "      <td>16</td>\n",
       "      <td>Subscriber</td>\n",
       "      <td>94133</td>\n",
       "      <td>16.150000</td>\n",
       "      <td>17</td>\n",
       "      <td>4</td>\n",
       "    </tr>\n",
       "    <tr>\n",
       "      <th>2</th>\n",
       "      <td>913467</td>\n",
       "      <td>233</td>\n",
       "      <td>2015-09-01 00:15:00</td>\n",
       "      <td>Davis at Jackson</td>\n",
       "      <td>42</td>\n",
       "      <td>2015-09-01 00:19:00</td>\n",
       "      <td>Commercial at Montgomery</td>\n",
       "      <td>45</td>\n",
       "      <td>534</td>\n",
       "      <td>Subscriber</td>\n",
       "      <td>94111</td>\n",
       "      <td>3.883333</td>\n",
       "      <td>4</td>\n",
       "      <td>1</td>\n",
       "    </tr>\n",
       "    <tr>\n",
       "      <th>3</th>\n",
       "      <td>913468</td>\n",
       "      <td>213</td>\n",
       "      <td>2015-09-01 01:29:00</td>\n",
       "      <td>Clay at Battery</td>\n",
       "      <td>41</td>\n",
       "      <td>2015-09-01 01:32:00</td>\n",
       "      <td>Steuart at Market</td>\n",
       "      <td>74</td>\n",
       "      <td>312</td>\n",
       "      <td>Subscriber</td>\n",
       "      <td>94107</td>\n",
       "      <td>3.550000</td>\n",
       "      <td>4</td>\n",
       "      <td>1</td>\n",
       "    </tr>\n",
       "    <tr>\n",
       "      <th>4</th>\n",
       "      <td>913469</td>\n",
       "      <td>574</td>\n",
       "      <td>2015-09-01 01:33:00</td>\n",
       "      <td>Steuart at Market</td>\n",
       "      <td>74</td>\n",
       "      <td>2015-09-01 01:42:00</td>\n",
       "      <td>San Francisco Caltrain 2 (330 Townsend)</td>\n",
       "      <td>69</td>\n",
       "      <td>279</td>\n",
       "      <td>Subscriber</td>\n",
       "      <td>94107</td>\n",
       "      <td>9.566667</td>\n",
       "      <td>10</td>\n",
       "      <td>2</td>\n",
       "    </tr>\n",
       "  </tbody>\n",
       "</table>\n",
       "</div>"
      ],
      "text/plain": [
       "   trip_id  duration          start_date  \\\n",
       "0   913465       746 2015-09-01 00:10:00   \n",
       "1   913466       969 2015-09-01 00:15:00   \n",
       "2   913467       233 2015-09-01 00:15:00   \n",
       "3   913468       213 2015-09-01 01:29:00   \n",
       "4   913469       574 2015-09-01 01:33:00   \n",
       "\n",
       "                        start_station_name  start_station_id  \\\n",
       "0  San Francisco Caltrain 2 (330 Townsend)                69   \n",
       "1                          Clay at Battery                41   \n",
       "2                         Davis at Jackson                42   \n",
       "3                          Clay at Battery                41   \n",
       "4                        Steuart at Market                74   \n",
       "\n",
       "             end_date                         end_station_name  \\\n",
       "0 2015-09-01 00:23:00                  San Francisco City Hall   \n",
       "1 2015-09-01 00:31:00                     Washington at Kearny   \n",
       "2 2015-09-01 00:19:00                 Commercial at Montgomery   \n",
       "3 2015-09-01 01:32:00                        Steuart at Market   \n",
       "4 2015-09-01 01:42:00  San Francisco Caltrain 2 (330 Townsend)   \n",
       "\n",
       "   end_station_id  bike_id   user_type  user_zip  duration_minutes  \\\n",
       "0              58      238  Subscriber     94107         12.433333   \n",
       "1              46       16  Subscriber     94133         16.150000   \n",
       "2              45      534  Subscriber     94111          3.883333   \n",
       "3              74      312  Subscriber     94107          3.550000   \n",
       "4              69      279  Subscriber     94107          9.566667   \n",
       "\n",
       "   billed_minutes  billed_periods  \n",
       "0              13               3  \n",
       "1              17               4  \n",
       "2               4               1  \n",
       "3               4               1  \n",
       "4              10               2  "
      ]
     },
     "execution_count": 21,
     "metadata": {},
     "output_type": "execute_result"
    }
   ],
   "source": [
    "trips_df.columns = ['trip_id', 'duration', 'start_date', 'start_station_name', \n",
    "                    'start_station_id', 'end_date', 'end_station_name', 'end_station_id', \n",
    "                    'bike_id', 'user_type', 'user_zip', 'duration_minutes', \n",
    "                    'billed_minutes', 'billed_periods']\n",
    "trips_df.head()"
   ]
  },
  {
   "cell_type": "markdown",
   "metadata": {},
   "source": [
    "# Write Data to File"
   ]
  },
  {
   "cell_type": "code",
   "execution_count": 22,
   "metadata": {},
   "outputs": [],
   "source": [
    "trips_df.to_csv('../../clean_data/bayareabikeshare/sf_trips_data_3hr_cleaned.csv', encoding='utf-8')"
   ]
  },
  {
   "cell_type": "code",
   "execution_count": 23,
   "metadata": {},
   "outputs": [
    {
     "name": "stdout",
     "output_type": "stream",
     "text": [
      "<class 'pandas.core.frame.DataFrame'>\n",
      "RangeIndex: 882190 entries, 0 to 882189\n",
      "Data columns (total 14 columns):\n",
      "trip_id               882190 non-null int64\n",
      "duration              882190 non-null int64\n",
      "start_date            882190 non-null datetime64[ns]\n",
      "start_station_name    882190 non-null object\n",
      "start_station_id      882190 non-null int64\n",
      "end_date              882190 non-null datetime64[ns]\n",
      "end_station_name      882190 non-null object\n",
      "end_station_id        882190 non-null int64\n",
      "bike_id               882190 non-null int64\n",
      "user_type             882190 non-null category\n",
      "user_zip              882190 non-null int64\n",
      "duration_minutes      882190 non-null float64\n",
      "billed_minutes        882190 non-null int64\n",
      "billed_periods        882190 non-null int64\n",
      "dtypes: category(1), datetime64[ns](2), float64(1), int64(8), object(2)\n",
      "memory usage: 88.3+ MB\n"
     ]
    }
   ],
   "source": [
    "trips_df.info()"
   ]
  }
 ],
 "metadata": {
  "kernelspec": {
   "display_name": "Python 3",
   "language": "python",
   "name": "python3"
  },
  "language_info": {
   "codemirror_mode": {
    "name": "ipython",
    "version": 3
   },
   "file_extension": ".py",
   "mimetype": "text/x-python",
   "name": "python",
   "nbconvert_exporter": "python",
   "pygments_lexer": "ipython3",
   "version": "3.6.3"
  }
 },
 "nbformat": 4,
 "nbformat_minor": 2
}
