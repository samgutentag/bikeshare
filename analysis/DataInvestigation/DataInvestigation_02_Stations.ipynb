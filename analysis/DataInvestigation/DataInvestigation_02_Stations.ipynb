{
 "cells": [
  {
   "cell_type": "markdown",
   "metadata": {},
   "source": [
    "# Investigation of Station Data from Bay Area Bike Share Published Data"
   ]
  },
  {
   "cell_type": "code",
   "execution_count": 1,
   "metadata": {},
   "outputs": [],
   "source": [
    "%matplotlib inline\n",
    "\n",
    "import matplotlib\n",
    "import numpy as np\n",
    "# from scipy import stats\n",
    "# import scipy\n",
    "import math\n",
    "import matplotlib.pyplot as plt\n",
    "import pandas as pd\n",
    "from glob import glob\n",
    "import datetime\n",
    "\n",
    "import seaborn as sns\n",
    "# sns.set()\n",
    "sns.set_style('whitegrid')\n",
    "sns.set_context(\"poster\")"
   ]
  },
  {
   "cell_type": "code",
   "execution_count": 2,
   "metadata": {},
   "outputs": [
    {
     "data": {
      "text/html": [
       "<style>.container { width:95% !important; }</style>"
      ],
      "text/plain": [
       "<IPython.core.display.HTML object>"
      ]
     },
     "metadata": {},
     "output_type": "display_data"
    }
   ],
   "source": [
    "from IPython.core.display import display, HTML\n",
    "display(HTML(\"<style>.container { width:95% !important; }</style>\"))\n",
    "\n",
    "font = {'size'   : 50}\n",
    "matplotlib.rc('font', **font)\n",
    "\n",
    "TITLE_FONT_SIZE = 25\n",
    "LABEL_FONT_SIZE = 15\n",
    "# TICK_FONT_SIZE  = 15\n",
    "\n",
    "# day_labels = ['MON','TUE','WED','THU','FRI','SAT','SUN']\n",
    "# day_labels_full = ['MONDAY','TUESDAY','WEDNESDAY','THURSDAY','FRIDAY','SATURDAY','SUNDAY']\n",
    "# month_labels = ['JAN','FEB','MAR','APR','MAY','JUN','JUL','AUG','SEP','OCT','NOV','DEC']\n",
    "\n",
    "# sub_color = 'b'\n",
    "# sub_color_alt = 'm'\n",
    "# cust_color='r'\n",
    "# cust_color_alt='y'\n",
    "\n",
    "# commuter_color='g'\n",
    "# commuter_color_alt='#1daf1d'\n",
    "\n",
    "commuter_am = '#ea54d9'     #OrRd\n",
    "commuter_am_alt = '#9b8460' #OrRd_r\n",
    "\n",
    "commuter_pm = '#b97ccc'     #PuRd\n",
    "commuter_pm_alt = '#f4ad3a' #PuRd_r\n",
    "\n",
    "FIG_SIZE = (15,6)\n",
    "GRID_DIMS = 15"
   ]
  },
  {
   "cell_type": "markdown",
   "metadata": {},
   "source": [
    "# Load Morning and Evening Commuter Trips Data"
   ]
  },
  {
   "cell_type": "code",
   "execution_count": 3,
   "metadata": {},
   "outputs": [
    {
     "name": "stdout",
     "output_type": "stream",
     "text": [
      "[15:55:34.876938] Loading Morning Commute Trips Data...\n",
      "\t\t[15:55:35.289842] finished chunk 1 of 26\n",
      "\t\t[15:55:35.635122] finished chunk 3 of 26\n",
      "\t\t[15:55:36.201876] finished chunk 6 of 26\n",
      "\t\t[15:55:36.729186] finished chunk 9 of 26\n",
      "\t\t[15:55:37.273480] finished chunk 12 of 26\n",
      "\t\t[15:55:37.825672] finished chunk 15 of 26\n",
      "\t\t[15:55:38.367046] finished chunk 18 of 26\n",
      "\t\t[15:55:38.893491] finished chunk 21 of 26\n",
      "\t\t[15:55:39.444689] finished chunk 24 of 26\n",
      "\t\t[15:55:39.707256] finished chunk 26 of 26\n",
      "[15:55:39.993198] Complete!\n",
      "[15:55:39.993404] Loading Evening Commute Trips Data...\n",
      "\t\t[15:55:40.456279] finished chunk 1 of 24\n",
      "\t\t[15:55:40.796071] finished chunk 3 of 24\n",
      "\t\t[15:55:41.339149] finished chunk 6 of 24\n",
      "\t\t[15:55:41.856496] finished chunk 9 of 24\n",
      "\t\t[15:55:42.387880] finished chunk 12 of 24\n",
      "\t\t[15:55:42.908374] finished chunk 15 of 24\n",
      "\t\t[15:55:43.429949] finished chunk 18 of 24\n",
      "\t\t[15:55:43.965962] finished chunk 21 of 24\n",
      "\t\t[15:55:44.453673] finished chunk 24 of 24\n",
      "[15:55:44.707906] Complete!\n"
     ]
    }
   ],
   "source": [
    "print('[%s] Loading Morning Commute Trips Data...' % datetime.datetime.now().time())\n",
    "\n",
    "morning_commutes = pd.DataFrame()\n",
    "trip_data_file = '../../clean_data/bayareabikeshare/trip_data_morning_commutes.csv'\n",
    "\n",
    "# Chunk Settings\n",
    "chunks = []\n",
    "chunk_counter = 1\n",
    "chunksize = 10000\n",
    "num_chunks = math.ceil(sum(1 for row in open(trip_data_file, 'r'))/chunksize)\n",
    "\n",
    "# import file in chunks\n",
    "for chunk in pd.read_csv(trip_data_file, chunksize=chunksize, iterator=True, index_col=0, parse_dates=['start_date', 'end_date', 'forecast_time']):\n",
    "    \n",
    "    # append chunk to chunks list\n",
    "    chunks.append(chunk)\n",
    "\n",
    "    if chunk_counter == 1 or chunk_counter % math.ceil(num_chunks/10) == 0 or chunk_counter == num_chunks:\n",
    "        print('\\t\\t[%s] finished chunk %s of %s' % (datetime.datetime.now().time(), chunk_counter, num_chunks))\n",
    "    chunk_counter += 1\n",
    "\n",
    "morning_commutes = pd.concat(chunks)\n",
    "morning_commutes.user_type = morning_commutes.user_type.astype('category')\n",
    "print('[%s] Complete!' % datetime.datetime.now().time())\n",
    "\n",
    "\n",
    "print('[%s] Loading Evening Commute Trips Data...' % datetime.datetime.now().time())\n",
    "\n",
    "evening_commutes = pd.DataFrame()\n",
    "trip_data_file = '../../clean_data/bayareabikeshare/trip_data_evening_commutes.csv'\n",
    "\n",
    "# Chunk Settings\n",
    "chunks = []\n",
    "chunk_counter = 1\n",
    "chunksize = 10000\n",
    "num_chunks = math.ceil(sum(1 for row in open(trip_data_file, 'r'))/chunksize)\n",
    "\n",
    "# import file in chunks\n",
    "for chunk in pd.read_csv(trip_data_file, chunksize=chunksize, iterator=True, index_col=0, parse_dates=['start_date', 'end_date', 'forecast_time']):\n",
    "    \n",
    "    # append chunk to chunks list\n",
    "    chunks.append(chunk)\n",
    "\n",
    "    if chunk_counter == 1 or chunk_counter % math.ceil(num_chunks/10) == 0 or chunk_counter == num_chunks:\n",
    "        print('\\t\\t[%s] finished chunk %s of %s' % (datetime.datetime.now().time(), chunk_counter, num_chunks))\n",
    "    chunk_counter += 1\n",
    "\n",
    "evening_commutes = pd.concat(chunks)\n",
    "evening_commutes.user_type = evening_commutes.user_type.astype('category')\n",
    "print('[%s] Complete!' % datetime.datetime.now().time())"
   ]
  },
  {
   "cell_type": "markdown",
   "metadata": {},
   "source": [
    "# Analysis - Station Commuter Traffic\n",
    "<p>Find Most Start and End Terminals</p>\n",
    "<p></p>"
   ]
  },
  {
   "cell_type": "markdown",
   "metadata": {},
   "source": [
    "## Calculate morning and evening traffic in and out of each station"
   ]
  },
  {
   "cell_type": "code",
   "execution_count": 4,
   "metadata": {},
   "outputs": [],
   "source": [
    "def station_traffic(df=None):\n",
    "    traffic = pd.DataFrame()\n",
    "\n",
    "    # count trips starting at each terminal \n",
    "    traffic = df.groupby('start_station_id')['trip_id'].count().to_frame()\n",
    "    traffic.columns = ['outbound_traffic']\n",
    "\n",
    "    # calculate share of all trip starts for each terminal\n",
    "    traffic['outbound_share'] = traffic['outbound_traffic'] / traffic['outbound_traffic'].sum() * 100.\n",
    "\n",
    "    # count trips ending at each terminal\n",
    "    traffic['inbound_traffic'] = df.groupby('end_station_id')['trip_id'].count().to_frame()\n",
    "\n",
    "    # calculate share of all trip ends for each terminal\n",
    "    traffic['inbound_share'] = traffic['inbound_traffic'] / traffic['inbound_traffic'].sum() * 100.\n",
    "\n",
    "    # set index to terminal id\n",
    "    traffic.index.name = 'station_id'\n",
    "    return traffic"
   ]
  },
  {
   "cell_type": "code",
   "execution_count": 5,
   "metadata": {},
   "outputs": [
    {
     "data": {
      "text/html": [
       "<div>\n",
       "<style scoped>\n",
       "    .dataframe tbody tr th:only-of-type {\n",
       "        vertical-align: middle;\n",
       "    }\n",
       "\n",
       "    .dataframe tbody tr th {\n",
       "        vertical-align: top;\n",
       "    }\n",
       "\n",
       "    .dataframe thead th {\n",
       "        text-align: right;\n",
       "    }\n",
       "</style>\n",
       "<table border=\"1\" class=\"dataframe\">\n",
       "  <thead>\n",
       "    <tr style=\"text-align: right;\">\n",
       "      <th></th>\n",
       "      <th>outbound_traffic</th>\n",
       "      <th>outbound_share</th>\n",
       "      <th>inbound_traffic</th>\n",
       "      <th>inbound_share</th>\n",
       "    </tr>\n",
       "    <tr>\n",
       "      <th>station_id</th>\n",
       "      <th></th>\n",
       "      <th></th>\n",
       "      <th></th>\n",
       "      <th></th>\n",
       "    </tr>\n",
       "  </thead>\n",
       "  <tbody>\n",
       "    <tr>\n",
       "      <th>39</th>\n",
       "      <td>5242</td>\n",
       "      <td>2.054744</td>\n",
       "      <td>4998</td>\n",
       "      <td>1.959101</td>\n",
       "    </tr>\n",
       "    <tr>\n",
       "      <th>41</th>\n",
       "      <td>1277</td>\n",
       "      <td>0.500555</td>\n",
       "      <td>6689</td>\n",
       "      <td>2.621934</td>\n",
       "    </tr>\n",
       "    <tr>\n",
       "      <th>42</th>\n",
       "      <td>2910</td>\n",
       "      <td>1.140653</td>\n",
       "      <td>5585</td>\n",
       "      <td>2.189192</td>\n",
       "    </tr>\n",
       "    <tr>\n",
       "      <th>45</th>\n",
       "      <td>1825</td>\n",
       "      <td>0.715358</td>\n",
       "      <td>7431</td>\n",
       "      <td>2.912781</td>\n",
       "    </tr>\n",
       "    <tr>\n",
       "      <th>46</th>\n",
       "      <td>1571</td>\n",
       "      <td>0.615796</td>\n",
       "      <td>1676</td>\n",
       "      <td>0.656953</td>\n",
       "    </tr>\n",
       "  </tbody>\n",
       "</table>\n",
       "</div>"
      ],
      "text/plain": [
       "            outbound_traffic  outbound_share  inbound_traffic  inbound_share\n",
       "station_id                                                                  \n",
       "39                      5242        2.054744             4998       1.959101\n",
       "41                      1277        0.500555             6689       2.621934\n",
       "42                      2910        1.140653             5585       2.189192\n",
       "45                      1825        0.715358             7431       2.912781\n",
       "46                      1571        0.615796             1676       0.656953"
      ]
     },
     "execution_count": 5,
     "metadata": {},
     "output_type": "execute_result"
    }
   ],
   "source": [
    "morning_station_traffic = station_traffic(df=morning_commutes)\n",
    "morning_station_traffic.head()"
   ]
  },
  {
   "cell_type": "code",
   "execution_count": 6,
   "metadata": {},
   "outputs": [
    {
     "data": {
      "text/html": [
       "<div>\n",
       "<style scoped>\n",
       "    .dataframe tbody tr th:only-of-type {\n",
       "        vertical-align: middle;\n",
       "    }\n",
       "\n",
       "    .dataframe tbody tr th {\n",
       "        vertical-align: top;\n",
       "    }\n",
       "\n",
       "    .dataframe thead th {\n",
       "        text-align: right;\n",
       "    }\n",
       "</style>\n",
       "<table border=\"1\" class=\"dataframe\">\n",
       "  <thead>\n",
       "    <tr style=\"text-align: right;\">\n",
       "      <th></th>\n",
       "      <th>outbound_traffic</th>\n",
       "      <th>outbound_share</th>\n",
       "      <th>inbound_traffic</th>\n",
       "      <th>inbound_share</th>\n",
       "    </tr>\n",
       "    <tr>\n",
       "      <th>station_id</th>\n",
       "      <th></th>\n",
       "      <th></th>\n",
       "      <th></th>\n",
       "      <th></th>\n",
       "    </tr>\n",
       "  </thead>\n",
       "  <tbody>\n",
       "    <tr>\n",
       "      <th>39</th>\n",
       "      <td>4618</td>\n",
       "      <td>1.941748</td>\n",
       "      <td>6747</td>\n",
       "      <td>2.836936</td>\n",
       "    </tr>\n",
       "    <tr>\n",
       "      <th>41</th>\n",
       "      <td>5835</td>\n",
       "      <td>2.453464</td>\n",
       "      <td>1415</td>\n",
       "      <td>0.594970</td>\n",
       "    </tr>\n",
       "    <tr>\n",
       "      <th>42</th>\n",
       "      <td>5132</td>\n",
       "      <td>2.157871</td>\n",
       "      <td>3459</td>\n",
       "      <td>1.454419</td>\n",
       "    </tr>\n",
       "    <tr>\n",
       "      <th>45</th>\n",
       "      <td>7096</td>\n",
       "      <td>2.983681</td>\n",
       "      <td>1757</td>\n",
       "      <td>0.738772</td>\n",
       "    </tr>\n",
       "    <tr>\n",
       "      <th>46</th>\n",
       "      <td>1405</td>\n",
       "      <td>0.590766</td>\n",
       "      <td>2201</td>\n",
       "      <td>0.925463</td>\n",
       "    </tr>\n",
       "  </tbody>\n",
       "</table>\n",
       "</div>"
      ],
      "text/plain": [
       "            outbound_traffic  outbound_share  inbound_traffic  inbound_share\n",
       "station_id                                                                  \n",
       "39                      4618        1.941748             6747       2.836936\n",
       "41                      5835        2.453464             1415       0.594970\n",
       "42                      5132        2.157871             3459       1.454419\n",
       "45                      7096        2.983681             1757       0.738772\n",
       "46                      1405        0.590766             2201       0.925463"
      ]
     },
     "execution_count": 6,
     "metadata": {},
     "output_type": "execute_result"
    }
   ],
   "source": [
    "evening_station_traffic = station_traffic(df=evening_commutes)\n",
    "evening_station_traffic.head(5)"
   ]
  },
  {
   "cell_type": "markdown",
   "metadata": {},
   "source": [
    "# Graphical EDA of Morning Traffic"
   ]
  },
  {
   "cell_type": "code",
   "execution_count": 7,
   "metadata": {},
   "outputs": [],
   "source": [
    "plt.subplots(figsize=FIG_SIZE)\n",
    "ax = sns.barplot(x=morning_station_traffic.index, y=morning_station_traffic.inbound_traffic, color=commuter_am, alpha=0.35, label='Inbound Traffic')\n",
    "sns.barplot(x=morning_station_traffic.index, y=morning_station_traffic.outbound_traffic, color=commuter_am_alt, alpha=0.35, ax=ax, label='Outbound Traffic')\n",
    "ax.legend(loc=1, frameon=True)\n",
    "ax.set_title('Morning Commuter Traffic', size=TITLE_FONT_SIZE, weight='bold')\n",
    "ax.set_xlabel('Station Id', size=LABEL_FONT_SIZE)\n",
    "ax.set_ylabel('Traffic Volume', size=LABEL_FONT_SIZE)\n",
    "# plt.show()\n",
    "plt.savefig('../../charts/station_trends/morning_commuter_traffic.png')\n",
    "plt.close()"
   ]
  },
  {
   "cell_type": "markdown",
   "metadata": {},
   "source": [
    "# Graphical EDA of Evening Traffic"
   ]
  },
  {
   "cell_type": "code",
   "execution_count": 8,
   "metadata": {},
   "outputs": [],
   "source": [
    "plt.subplots(figsize=FIG_SIZE)\n",
    "ax = sns.barplot(x=evening_station_traffic.index, y=evening_station_traffic.inbound_traffic, color=commuter_pm, alpha=0.35, label='Inbound Traffic')\n",
    "sns.barplot(x=evening_station_traffic.index, y=evening_station_traffic.outbound_traffic, color=commuter_pm_alt, alpha=0.35, ax=ax, label='Outbound Traffic')\n",
    "ax.legend(loc=1, frameon=True)\n",
    "ax.set_title('Evening Commuter Station Traffic', size=TITLE_FONT_SIZE, weight='bold')\n",
    "ax.set_xlabel('Station Id', size=LABEL_FONT_SIZE)\n",
    "ax.set_ylabel('Traffic Volume', size=LABEL_FONT_SIZE)\n",
    "# plt.show()\n",
    "plt.savefig('../../charts/station_trends/evening_commuter_traffic.png')\n",
    "plt.close()"
   ]
  },
  {
   "cell_type": "markdown",
   "metadata": {},
   "source": [
    "# Graphical EDA of Day Count Adjusted Traffic\n",
    "<p>Not all stations have been open the same amount of time, adjust numbers to a mean traffic per commuter day</p>"
   ]
  },
  {
   "cell_type": "markdown",
   "metadata": {},
   "source": [
    "## Load Station Data"
   ]
  },
  {
   "cell_type": "code",
   "execution_count": 9,
   "metadata": {
    "scrolled": false
   },
   "outputs": [
    {
     "data": {
      "text/html": [
       "<div>\n",
       "<style scoped>\n",
       "    .dataframe tbody tr th:only-of-type {\n",
       "        vertical-align: middle;\n",
       "    }\n",
       "\n",
       "    .dataframe tbody tr th {\n",
       "        vertical-align: top;\n",
       "    }\n",
       "\n",
       "    .dataframe thead th {\n",
       "        text-align: right;\n",
       "    }\n",
       "</style>\n",
       "<table border=\"1\" class=\"dataframe\">\n",
       "  <thead>\n",
       "    <tr style=\"text-align: right;\">\n",
       "      <th></th>\n",
       "      <th>station_id</th>\n",
       "      <th>station_name</th>\n",
       "      <th>lat</th>\n",
       "      <th>long</th>\n",
       "      <th>dock_count</th>\n",
       "      <th>region</th>\n",
       "      <th>first_service_date</th>\n",
       "      <th>last_service_date</th>\n",
       "      <th>zip_code</th>\n",
       "      <th>days_in_service</th>\n",
       "      <th>elevation_meters</th>\n",
       "      <th>elevation_feet</th>\n",
       "    </tr>\n",
       "  </thead>\n",
       "  <tbody>\n",
       "    <tr>\n",
       "      <th>0</th>\n",
       "      <td>39</td>\n",
       "      <td>Powell Street BART</td>\n",
       "      <td>37.783871</td>\n",
       "      <td>-122.408433</td>\n",
       "      <td>19</td>\n",
       "      <td>San Francisco</td>\n",
       "      <td>2013-08-29</td>\n",
       "      <td>2016-08-31</td>\n",
       "      <td>94107</td>\n",
       "      <td>1098</td>\n",
       "      <td>10.338920</td>\n",
       "      <td>33.920340</td>\n",
       "    </tr>\n",
       "    <tr>\n",
       "      <th>1</th>\n",
       "      <td>41</td>\n",
       "      <td>Clay at Battery</td>\n",
       "      <td>37.795001</td>\n",
       "      <td>-122.399970</td>\n",
       "      <td>15</td>\n",
       "      <td>San Francisco</td>\n",
       "      <td>2013-08-29</td>\n",
       "      <td>2016-08-31</td>\n",
       "      <td>94107</td>\n",
       "      <td>1098</td>\n",
       "      <td>3.082564</td>\n",
       "      <td>10.113399</td>\n",
       "    </tr>\n",
       "    <tr>\n",
       "      <th>2</th>\n",
       "      <td>42</td>\n",
       "      <td>Davis at Jackson</td>\n",
       "      <td>37.797280</td>\n",
       "      <td>-122.398436</td>\n",
       "      <td>15</td>\n",
       "      <td>San Francisco</td>\n",
       "      <td>2013-08-29</td>\n",
       "      <td>2016-08-31</td>\n",
       "      <td>94107</td>\n",
       "      <td>1098</td>\n",
       "      <td>2.519689</td>\n",
       "      <td>8.266697</td>\n",
       "    </tr>\n",
       "    <tr>\n",
       "      <th>3</th>\n",
       "      <td>45</td>\n",
       "      <td>Commercial at Montgomery</td>\n",
       "      <td>37.794231</td>\n",
       "      <td>-122.402923</td>\n",
       "      <td>15</td>\n",
       "      <td>San Francisco</td>\n",
       "      <td>2013-08-29</td>\n",
       "      <td>2016-08-31</td>\n",
       "      <td>94107</td>\n",
       "      <td>1098</td>\n",
       "      <td>4.575804</td>\n",
       "      <td>15.012480</td>\n",
       "    </tr>\n",
       "    <tr>\n",
       "      <th>4</th>\n",
       "      <td>46</td>\n",
       "      <td>Washington at Kearney</td>\n",
       "      <td>37.795425</td>\n",
       "      <td>-122.404767</td>\n",
       "      <td>15</td>\n",
       "      <td>San Francisco</td>\n",
       "      <td>2013-08-29</td>\n",
       "      <td>2016-08-31</td>\n",
       "      <td>94107</td>\n",
       "      <td>1098</td>\n",
       "      <td>10.850125</td>\n",
       "      <td>35.597524</td>\n",
       "    </tr>\n",
       "  </tbody>\n",
       "</table>\n",
       "</div>"
      ],
      "text/plain": [
       "   station_id              station_name        lat        long  dock_count  \\\n",
       "0          39        Powell Street BART  37.783871 -122.408433          19   \n",
       "1          41           Clay at Battery  37.795001 -122.399970          15   \n",
       "2          42          Davis at Jackson  37.797280 -122.398436          15   \n",
       "3          45  Commercial at Montgomery  37.794231 -122.402923          15   \n",
       "4          46     Washington at Kearney  37.795425 -122.404767          15   \n",
       "\n",
       "          region first_service_date last_service_date  zip_code  \\\n",
       "0  San Francisco         2013-08-29        2016-08-31     94107   \n",
       "1  San Francisco         2013-08-29        2016-08-31     94107   \n",
       "2  San Francisco         2013-08-29        2016-08-31     94107   \n",
       "3  San Francisco         2013-08-29        2016-08-31     94107   \n",
       "4  San Francisco         2013-08-29        2016-08-31     94107   \n",
       "\n",
       "   days_in_service  elevation_meters  elevation_feet  \n",
       "0             1098         10.338920       33.920340  \n",
       "1             1098          3.082564       10.113399  \n",
       "2             1098          2.519689        8.266697  \n",
       "3             1098          4.575804       15.012480  \n",
       "4             1098         10.850125       35.597524  "
      ]
     },
     "execution_count": 9,
     "metadata": {},
     "output_type": "execute_result"
    }
   ],
   "source": [
    "stations = pd.read_csv('../../clean_data/bayareabikeshare/station_data_cleaned.csv', \n",
    "                       index_col=0, parse_dates=['first_service_date', 'last_service_date'])\n",
    "\n",
    "stations = stations[stations.region == 'San Francisco'].copy()\n",
    "stations.reset_index(inplace=True, drop=True)\n",
    "\n",
    "# station 73 was expanded, we dont care about that right now, we just want days open.\n",
    "# copy last_service_date from second entry to first, need total days\n",
    "stations.iloc[29,7] = stations.iloc[30,7]\n",
    "# add days in sevice to second entry to first entry \n",
    "stations.iloc[29,9] += stations.iloc[30,9]\n",
    "# drop second entry\n",
    "stations.drop_duplicates(subset=['station_id'], inplace=True)\n",
    "\n",
    "stations.reset_index(inplace=True, drop=True)\n",
    "stations.head()"
   ]
  },
  {
   "cell_type": "markdown",
   "metadata": {},
   "source": [
    "# Calculate Number of Commuter Days each station has been in service"
   ]
  },
  {
   "cell_type": "code",
   "execution_count": 10,
   "metadata": {},
   "outputs": [],
   "source": [
    "def weekdays_in_service(row):\n",
    "    return pd.date_range(start=row.first_service_date, end=row.last_service_date, freq='B').shape[0]"
   ]
  },
  {
   "cell_type": "code",
   "execution_count": 11,
   "metadata": {},
   "outputs": [],
   "source": [
    "stations['commuter_days'] = stations.apply(lambda row: weekdays_in_service (row), axis=1)"
   ]
  },
  {
   "cell_type": "markdown",
   "metadata": {},
   "source": [
    "# Calculate Mean Traffic Per Day"
   ]
  },
  {
   "cell_type": "code",
   "execution_count": 12,
   "metadata": {},
   "outputs": [],
   "source": [
    "def trips_per_day(row, trips_df=None, which=''):\n",
    "    '''Get numebr of trips started or ended at each station between stations first and last day of service only'''\n",
    "\n",
    "    station_first_service_date = row.first_service_date\n",
    "    station_last_service_date  = row.last_service_date\n",
    "    \n",
    "    if which == 'start':\n",
    "        tmp = trips_df[(trips_df.start_station_id == row.station_id) &\n",
    "                       (trips_df.start_date >= row.first_service_date) &\n",
    "                       (trips_df.start_date < row.last_service_date)]\n",
    "        return tmp.shape[0]\n",
    "    \n",
    "    if which == 'end':\n",
    "        tmp = trips_df[(trips_df.end_station_id == row.station_id) &\n",
    "                       (trips_df.start_date >= row.first_service_date) &\n",
    "                       (trips_df.start_date < row.last_service_date)]\n",
    "        return tmp.shape[0]\n",
    "    "
   ]
  },
  {
   "cell_type": "code",
   "execution_count": 13,
   "metadata": {
    "scrolled": false
   },
   "outputs": [
    {
     "data": {
      "text/html": [
       "<div>\n",
       "<style scoped>\n",
       "    .dataframe tbody tr th:only-of-type {\n",
       "        vertical-align: middle;\n",
       "    }\n",
       "\n",
       "    .dataframe tbody tr th {\n",
       "        vertical-align: top;\n",
       "    }\n",
       "\n",
       "    .dataframe thead th {\n",
       "        text-align: right;\n",
       "    }\n",
       "</style>\n",
       "<table border=\"1\" class=\"dataframe\">\n",
       "  <thead>\n",
       "    <tr style=\"text-align: right;\">\n",
       "      <th></th>\n",
       "      <th>station_id</th>\n",
       "      <th>station_name</th>\n",
       "      <th>lat</th>\n",
       "      <th>long</th>\n",
       "      <th>dock_count</th>\n",
       "      <th>region</th>\n",
       "      <th>first_service_date</th>\n",
       "      <th>last_service_date</th>\n",
       "      <th>zip_code</th>\n",
       "      <th>days_in_service</th>\n",
       "      <th>elevation_meters</th>\n",
       "      <th>elevation_feet</th>\n",
       "      <th>commuter_days</th>\n",
       "      <th>morning_outbound_commuter_traffic</th>\n",
       "      <th>morning_inbound_commuter_traffic</th>\n",
       "      <th>evening_outbound_commuter_traffic</th>\n",
       "      <th>evening_inbound_commuter_traffic</th>\n",
       "    </tr>\n",
       "  </thead>\n",
       "  <tbody>\n",
       "    <tr>\n",
       "      <th>0</th>\n",
       "      <td>39</td>\n",
       "      <td>Powell Street BART</td>\n",
       "      <td>37.783871</td>\n",
       "      <td>-122.408433</td>\n",
       "      <td>19</td>\n",
       "      <td>San Francisco</td>\n",
       "      <td>2013-08-29</td>\n",
       "      <td>2016-08-31</td>\n",
       "      <td>94107</td>\n",
       "      <td>1098</td>\n",
       "      <td>10.338920</td>\n",
       "      <td>33.920340</td>\n",
       "      <td>785</td>\n",
       "      <td>5236</td>\n",
       "      <td>4993</td>\n",
       "      <td>4612</td>\n",
       "      <td>6741</td>\n",
       "    </tr>\n",
       "    <tr>\n",
       "      <th>1</th>\n",
       "      <td>41</td>\n",
       "      <td>Clay at Battery</td>\n",
       "      <td>37.795001</td>\n",
       "      <td>-122.399970</td>\n",
       "      <td>15</td>\n",
       "      <td>San Francisco</td>\n",
       "      <td>2013-08-29</td>\n",
       "      <td>2016-08-31</td>\n",
       "      <td>94107</td>\n",
       "      <td>1098</td>\n",
       "      <td>3.082564</td>\n",
       "      <td>10.113399</td>\n",
       "      <td>785</td>\n",
       "      <td>1277</td>\n",
       "      <td>6682</td>\n",
       "      <td>5827</td>\n",
       "      <td>1413</td>\n",
       "    </tr>\n",
       "    <tr>\n",
       "      <th>2</th>\n",
       "      <td>42</td>\n",
       "      <td>Davis at Jackson</td>\n",
       "      <td>37.797280</td>\n",
       "      <td>-122.398436</td>\n",
       "      <td>15</td>\n",
       "      <td>San Francisco</td>\n",
       "      <td>2013-08-29</td>\n",
       "      <td>2016-08-31</td>\n",
       "      <td>94107</td>\n",
       "      <td>1098</td>\n",
       "      <td>2.519689</td>\n",
       "      <td>8.266697</td>\n",
       "      <td>785</td>\n",
       "      <td>2906</td>\n",
       "      <td>5579</td>\n",
       "      <td>5127</td>\n",
       "      <td>3457</td>\n",
       "    </tr>\n",
       "    <tr>\n",
       "      <th>3</th>\n",
       "      <td>45</td>\n",
       "      <td>Commercial at Montgomery</td>\n",
       "      <td>37.794231</td>\n",
       "      <td>-122.402923</td>\n",
       "      <td>15</td>\n",
       "      <td>San Francisco</td>\n",
       "      <td>2013-08-29</td>\n",
       "      <td>2016-08-31</td>\n",
       "      <td>94107</td>\n",
       "      <td>1098</td>\n",
       "      <td>4.575804</td>\n",
       "      <td>15.012480</td>\n",
       "      <td>785</td>\n",
       "      <td>1823</td>\n",
       "      <td>7416</td>\n",
       "      <td>7086</td>\n",
       "      <td>1754</td>\n",
       "    </tr>\n",
       "    <tr>\n",
       "      <th>4</th>\n",
       "      <td>46</td>\n",
       "      <td>Washington at Kearney</td>\n",
       "      <td>37.795425</td>\n",
       "      <td>-122.404767</td>\n",
       "      <td>15</td>\n",
       "      <td>San Francisco</td>\n",
       "      <td>2013-08-29</td>\n",
       "      <td>2016-08-31</td>\n",
       "      <td>94107</td>\n",
       "      <td>1098</td>\n",
       "      <td>10.850125</td>\n",
       "      <td>35.597524</td>\n",
       "      <td>785</td>\n",
       "      <td>1571</td>\n",
       "      <td>1673</td>\n",
       "      <td>1401</td>\n",
       "      <td>2199</td>\n",
       "    </tr>\n",
       "  </tbody>\n",
       "</table>\n",
       "</div>"
      ],
      "text/plain": [
       "   station_id              station_name        lat        long  dock_count  \\\n",
       "0          39        Powell Street BART  37.783871 -122.408433          19   \n",
       "1          41           Clay at Battery  37.795001 -122.399970          15   \n",
       "2          42          Davis at Jackson  37.797280 -122.398436          15   \n",
       "3          45  Commercial at Montgomery  37.794231 -122.402923          15   \n",
       "4          46     Washington at Kearney  37.795425 -122.404767          15   \n",
       "\n",
       "          region first_service_date last_service_date  zip_code  \\\n",
       "0  San Francisco         2013-08-29        2016-08-31     94107   \n",
       "1  San Francisco         2013-08-29        2016-08-31     94107   \n",
       "2  San Francisco         2013-08-29        2016-08-31     94107   \n",
       "3  San Francisco         2013-08-29        2016-08-31     94107   \n",
       "4  San Francisco         2013-08-29        2016-08-31     94107   \n",
       "\n",
       "   days_in_service  elevation_meters  elevation_feet  commuter_days  \\\n",
       "0             1098         10.338920       33.920340            785   \n",
       "1             1098          3.082564       10.113399            785   \n",
       "2             1098          2.519689        8.266697            785   \n",
       "3             1098          4.575804       15.012480            785   \n",
       "4             1098         10.850125       35.597524            785   \n",
       "\n",
       "   morning_outbound_commuter_traffic  morning_inbound_commuter_traffic  \\\n",
       "0                               5236                              4993   \n",
       "1                               1277                              6682   \n",
       "2                               2906                              5579   \n",
       "3                               1823                              7416   \n",
       "4                               1571                              1673   \n",
       "\n",
       "   evening_outbound_commuter_traffic  evening_inbound_commuter_traffic  \n",
       "0                               4612                              6741  \n",
       "1                               5827                              1413  \n",
       "2                               5127                              3457  \n",
       "3                               7086                              1754  \n",
       "4                               1401                              2199  "
      ]
     },
     "execution_count": 13,
     "metadata": {},
     "output_type": "execute_result"
    }
   ],
   "source": [
    "# append data from only trips by morning commuters\n",
    "stations['morning_outbound_commuter_traffic'] = stations.apply(lambda row: trips_per_day (row, trips_df=morning_commutes, which='start'), axis=1)\n",
    "stations['morning_inbound_commuter_traffic'] = stations.apply(lambda row: trips_per_day (row, trips_df=morning_commutes, which='end'), axis=1)\n",
    "\n",
    "# append data from only trips by morning commuters\n",
    "stations['evening_outbound_commuter_traffic'] = stations.apply(lambda row: trips_per_day (row, trips_df=evening_commutes, which='start'), axis=1)\n",
    "stations['evening_inbound_commuter_traffic'] = stations.apply(lambda row: trips_per_day (row, trips_df=evening_commutes, which='end'), axis=1)\n",
    "\n",
    "stations.head()"
   ]
  },
  {
   "cell_type": "code",
   "execution_count": 14,
   "metadata": {},
   "outputs": [
    {
     "data": {
      "text/html": [
       "<div>\n",
       "<style scoped>\n",
       "    .dataframe tbody tr th:only-of-type {\n",
       "        vertical-align: middle;\n",
       "    }\n",
       "\n",
       "    .dataframe tbody tr th {\n",
       "        vertical-align: top;\n",
       "    }\n",
       "\n",
       "    .dataframe thead th {\n",
       "        text-align: right;\n",
       "    }\n",
       "</style>\n",
       "<table border=\"1\" class=\"dataframe\">\n",
       "  <thead>\n",
       "    <tr style=\"text-align: right;\">\n",
       "      <th></th>\n",
       "      <th>station_id</th>\n",
       "      <th>station_name</th>\n",
       "      <th>lat</th>\n",
       "      <th>long</th>\n",
       "      <th>dock_count</th>\n",
       "      <th>region</th>\n",
       "      <th>first_service_date</th>\n",
       "      <th>last_service_date</th>\n",
       "      <th>zip_code</th>\n",
       "      <th>days_in_service</th>\n",
       "      <th>...</th>\n",
       "      <th>elevation_feet</th>\n",
       "      <th>commuter_days</th>\n",
       "      <th>morning_outbound_commuter_traffic</th>\n",
       "      <th>morning_inbound_commuter_traffic</th>\n",
       "      <th>evening_outbound_commuter_traffic</th>\n",
       "      <th>evening_inbound_commuter_traffic</th>\n",
       "      <th>morning_outbound_commuter_traffic_per_day</th>\n",
       "      <th>morning_inbound_commuter_traffic_per_day</th>\n",
       "      <th>evening_outbound_commuter_traffic_per_day</th>\n",
       "      <th>evening_inbound_commuter_traffic_per_day</th>\n",
       "    </tr>\n",
       "  </thead>\n",
       "  <tbody>\n",
       "    <tr>\n",
       "      <th>0</th>\n",
       "      <td>39</td>\n",
       "      <td>Powell Street BART</td>\n",
       "      <td>37.783871</td>\n",
       "      <td>-122.408433</td>\n",
       "      <td>19</td>\n",
       "      <td>San Francisco</td>\n",
       "      <td>2013-08-29</td>\n",
       "      <td>2016-08-31</td>\n",
       "      <td>94107</td>\n",
       "      <td>1098</td>\n",
       "      <td>...</td>\n",
       "      <td>33.920340</td>\n",
       "      <td>785</td>\n",
       "      <td>5236</td>\n",
       "      <td>4993</td>\n",
       "      <td>4612</td>\n",
       "      <td>6741</td>\n",
       "      <td>6.670064</td>\n",
       "      <td>6.360510</td>\n",
       "      <td>5.875159</td>\n",
       "      <td>8.587261</td>\n",
       "    </tr>\n",
       "    <tr>\n",
       "      <th>1</th>\n",
       "      <td>41</td>\n",
       "      <td>Clay at Battery</td>\n",
       "      <td>37.795001</td>\n",
       "      <td>-122.399970</td>\n",
       "      <td>15</td>\n",
       "      <td>San Francisco</td>\n",
       "      <td>2013-08-29</td>\n",
       "      <td>2016-08-31</td>\n",
       "      <td>94107</td>\n",
       "      <td>1098</td>\n",
       "      <td>...</td>\n",
       "      <td>10.113399</td>\n",
       "      <td>785</td>\n",
       "      <td>1277</td>\n",
       "      <td>6682</td>\n",
       "      <td>5827</td>\n",
       "      <td>1413</td>\n",
       "      <td>1.626752</td>\n",
       "      <td>8.512102</td>\n",
       "      <td>7.422930</td>\n",
       "      <td>1.800000</td>\n",
       "    </tr>\n",
       "    <tr>\n",
       "      <th>2</th>\n",
       "      <td>42</td>\n",
       "      <td>Davis at Jackson</td>\n",
       "      <td>37.797280</td>\n",
       "      <td>-122.398436</td>\n",
       "      <td>15</td>\n",
       "      <td>San Francisco</td>\n",
       "      <td>2013-08-29</td>\n",
       "      <td>2016-08-31</td>\n",
       "      <td>94107</td>\n",
       "      <td>1098</td>\n",
       "      <td>...</td>\n",
       "      <td>8.266697</td>\n",
       "      <td>785</td>\n",
       "      <td>2906</td>\n",
       "      <td>5579</td>\n",
       "      <td>5127</td>\n",
       "      <td>3457</td>\n",
       "      <td>3.701911</td>\n",
       "      <td>7.107006</td>\n",
       "      <td>6.531210</td>\n",
       "      <td>4.403822</td>\n",
       "    </tr>\n",
       "    <tr>\n",
       "      <th>3</th>\n",
       "      <td>45</td>\n",
       "      <td>Commercial at Montgomery</td>\n",
       "      <td>37.794231</td>\n",
       "      <td>-122.402923</td>\n",
       "      <td>15</td>\n",
       "      <td>San Francisco</td>\n",
       "      <td>2013-08-29</td>\n",
       "      <td>2016-08-31</td>\n",
       "      <td>94107</td>\n",
       "      <td>1098</td>\n",
       "      <td>...</td>\n",
       "      <td>15.012480</td>\n",
       "      <td>785</td>\n",
       "      <td>1823</td>\n",
       "      <td>7416</td>\n",
       "      <td>7086</td>\n",
       "      <td>1754</td>\n",
       "      <td>2.322293</td>\n",
       "      <td>9.447134</td>\n",
       "      <td>9.026752</td>\n",
       "      <td>2.234395</td>\n",
       "    </tr>\n",
       "    <tr>\n",
       "      <th>4</th>\n",
       "      <td>46</td>\n",
       "      <td>Washington at Kearney</td>\n",
       "      <td>37.795425</td>\n",
       "      <td>-122.404767</td>\n",
       "      <td>15</td>\n",
       "      <td>San Francisco</td>\n",
       "      <td>2013-08-29</td>\n",
       "      <td>2016-08-31</td>\n",
       "      <td>94107</td>\n",
       "      <td>1098</td>\n",
       "      <td>...</td>\n",
       "      <td>35.597524</td>\n",
       "      <td>785</td>\n",
       "      <td>1571</td>\n",
       "      <td>1673</td>\n",
       "      <td>1401</td>\n",
       "      <td>2199</td>\n",
       "      <td>2.001274</td>\n",
       "      <td>2.131210</td>\n",
       "      <td>1.784713</td>\n",
       "      <td>2.801274</td>\n",
       "    </tr>\n",
       "  </tbody>\n",
       "</table>\n",
       "<p>5 rows × 21 columns</p>\n",
       "</div>"
      ],
      "text/plain": [
       "   station_id              station_name        lat        long  dock_count  \\\n",
       "0          39        Powell Street BART  37.783871 -122.408433          19   \n",
       "1          41           Clay at Battery  37.795001 -122.399970          15   \n",
       "2          42          Davis at Jackson  37.797280 -122.398436          15   \n",
       "3          45  Commercial at Montgomery  37.794231 -122.402923          15   \n",
       "4          46     Washington at Kearney  37.795425 -122.404767          15   \n",
       "\n",
       "          region first_service_date last_service_date  zip_code  \\\n",
       "0  San Francisco         2013-08-29        2016-08-31     94107   \n",
       "1  San Francisco         2013-08-29        2016-08-31     94107   \n",
       "2  San Francisco         2013-08-29        2016-08-31     94107   \n",
       "3  San Francisco         2013-08-29        2016-08-31     94107   \n",
       "4  San Francisco         2013-08-29        2016-08-31     94107   \n",
       "\n",
       "   days_in_service                    ...                     elevation_feet  \\\n",
       "0             1098                    ...                          33.920340   \n",
       "1             1098                    ...                          10.113399   \n",
       "2             1098                    ...                           8.266697   \n",
       "3             1098                    ...                          15.012480   \n",
       "4             1098                    ...                          35.597524   \n",
       "\n",
       "   commuter_days  morning_outbound_commuter_traffic  \\\n",
       "0            785                               5236   \n",
       "1            785                               1277   \n",
       "2            785                               2906   \n",
       "3            785                               1823   \n",
       "4            785                               1571   \n",
       "\n",
       "   morning_inbound_commuter_traffic  evening_outbound_commuter_traffic  \\\n",
       "0                              4993                               4612   \n",
       "1                              6682                               5827   \n",
       "2                              5579                               5127   \n",
       "3                              7416                               7086   \n",
       "4                              1673                               1401   \n",
       "\n",
       "   evening_inbound_commuter_traffic  \\\n",
       "0                              6741   \n",
       "1                              1413   \n",
       "2                              3457   \n",
       "3                              1754   \n",
       "4                              2199   \n",
       "\n",
       "   morning_outbound_commuter_traffic_per_day  \\\n",
       "0                                   6.670064   \n",
       "1                                   1.626752   \n",
       "2                                   3.701911   \n",
       "3                                   2.322293   \n",
       "4                                   2.001274   \n",
       "\n",
       "   morning_inbound_commuter_traffic_per_day  \\\n",
       "0                                  6.360510   \n",
       "1                                  8.512102   \n",
       "2                                  7.107006   \n",
       "3                                  9.447134   \n",
       "4                                  2.131210   \n",
       "\n",
       "   evening_outbound_commuter_traffic_per_day  \\\n",
       "0                                   5.875159   \n",
       "1                                   7.422930   \n",
       "2                                   6.531210   \n",
       "3                                   9.026752   \n",
       "4                                   1.784713   \n",
       "\n",
       "   evening_inbound_commuter_traffic_per_day  \n",
       "0                                  8.587261  \n",
       "1                                  1.800000  \n",
       "2                                  4.403822  \n",
       "3                                  2.234395  \n",
       "4                                  2.801274  \n",
       "\n",
       "[5 rows x 21 columns]"
      ]
     },
     "execution_count": 14,
     "metadata": {},
     "output_type": "execute_result"
    }
   ],
   "source": [
    "# append data from only trips by morning commuters\n",
    "stations['morning_outbound_commuter_traffic_per_day'] = stations.morning_outbound_commuter_traffic / stations.commuter_days\n",
    "stations['morning_inbound_commuter_traffic_per_day'] = stations.morning_inbound_commuter_traffic / stations.commuter_days\n",
    "\n",
    "# append data from only trips by morning commuters\n",
    "stations['evening_outbound_commuter_traffic_per_day'] = stations.evening_outbound_commuter_traffic / stations.commuter_days\n",
    "stations['evening_inbound_commuter_traffic_per_day'] = stations.evening_inbound_commuter_traffic / stations.commuter_days\n",
    "\n",
    "stations.head()"
   ]
  },
  {
   "cell_type": "markdown",
   "metadata": {},
   "source": [
    "# Graphical EDA of Morning Traffic - Mean Per Day"
   ]
  },
  {
   "cell_type": "code",
   "execution_count": 15,
   "metadata": {
    "scrolled": false
   },
   "outputs": [],
   "source": [
    "plt.subplots(figsize=FIG_SIZE)\n",
    "ax = sns.barplot(x=stations.station_id, y=stations.morning_inbound_commuter_traffic_per_day, color=commuter_am, alpha=0.35, label='Inbound Traffic')\n",
    "sns.barplot(x=stations.station_id, y=stations.morning_outbound_commuter_traffic_per_day, color=commuter_am_alt, alpha=0.35, ax=ax, label='Outbound Traffic')\n",
    "ax.legend(loc=1, frameon=True)\n",
    "\n",
    "ax.set_title('Morning Commuter Station Traffic Mean Trips Per Day', size=TITLE_FONT_SIZE, weight='bold')\n",
    "ax.set_xlabel('Station Id', size=LABEL_FONT_SIZE)\n",
    "ax.set_ylabel('Traffic Volume Per Day', size=LABEL_FONT_SIZE)\n",
    "# plt.show()\n",
    "plt.savefig('../../charts/station_trends/morning_commuter_traffic_daily_mean.png')\n",
    "plt.close()"
   ]
  },
  {
   "cell_type": "markdown",
   "metadata": {},
   "source": [
    "# Graphical EDA of Evening Traffic - Mean Per Day"
   ]
  },
  {
   "cell_type": "code",
   "execution_count": 16,
   "metadata": {},
   "outputs": [],
   "source": [
    "plt.subplots(figsize=FIG_SIZE)\n",
    "ax = sns.barplot(x=stations.station_id, y=stations.evening_inbound_commuter_traffic_per_day, color=commuter_pm, alpha=0.35, label='Inbound Traffic')\n",
    "sns.barplot(x=stations.station_id, y=stations.evening_outbound_commuter_traffic_per_day, color=commuter_pm_alt, alpha=0.35, ax=ax, label='Outbound Traffic')\n",
    "ax.legend(loc=1, frameon=True)\n",
    "\n",
    "ax.set_title('Evening Commuter Station Traffic Mean Trips Per Day', size=TITLE_FONT_SIZE, weight='bold')\n",
    "ax.set_xlabel('Station Id', size=LABEL_FONT_SIZE)\n",
    "ax.set_ylabel('Traffic Volume Per Day', size=LABEL_FONT_SIZE)\n",
    "# plt.show()\n",
    "plt.savefig('../../charts/station_trends/evening_commuter_traffic_daily_mean.png')\n",
    "plt.close()"
   ]
  },
  {
   "cell_type": "markdown",
   "metadata": {},
   "source": [
    "# Identify Popular Morning Commuter Routes\n",
    "<p> A Route is a trip from Station A to Station B</p>"
   ]
  },
  {
   "cell_type": "code",
   "execution_count": 17,
   "metadata": {
    "scrolled": true
   },
   "outputs": [],
   "source": [
    "def make_route_grid(trip_df=None, station_ids=stations.station_id):\n",
    "    index   = [x for x in station_ids]\n",
    "    columns = [x for x in station_ids]\n",
    "\n",
    "    trip_grid = pd.DataFrame(index=index, columns=columns)\n",
    "    # morning_trip_grid\n",
    "\n",
    "    # create grid of trips from start to end terminal counts\n",
    "    for sid in station_ids:\n",
    "        for eid in station_ids:\n",
    "            # count trips between terminals\n",
    "            route_count = trip_df[(trip_df.start_station_id == sid) & (trip_df.end_station_id == eid)].shape[0]\n",
    "            trip_grid.loc[eid, sid] = route_count\n",
    "\n",
    "    trip_grid = trip_grid.iloc[::-1]    \n",
    "    return trip_grid"
   ]
  },
  {
   "cell_type": "code",
   "execution_count": 18,
   "metadata": {},
   "outputs": [],
   "source": [
    "def make_outbound_grid(trip_df=None, station_ids=stations.station_id):\n",
    "    index   = [x for x in station_ids]\n",
    "    columns = [x for x in station_ids]\n",
    "\n",
    "    trip_grid = pd.DataFrame(index=index, columns=columns)\n",
    "    # morning_trip_grid\n",
    "\n",
    "    # create grid of trips from start to end terminal counts\n",
    "    for sid in station_ids:\n",
    "        route_count = trip_df[(trip_df.start_station_id == sid)].shape[0]\n",
    "        trip_grid.loc[eid, sid] = route_count\n",
    "\n",
    "    trip_grid = trip_grid.iloc[::-1]    \n",
    "    return trip_grid"
   ]
  },
  {
   "cell_type": "code",
   "execution_count": 19,
   "metadata": {},
   "outputs": [],
   "source": [
    "def make_inbound_grid(trip_df=None, station_ids=stations.station_id):\n",
    "    index   = [x for x in station_ids]\n",
    "    columns = [x for x in station_ids]\n",
    "\n",
    "    trip_grid = pd.DataFrame(index=index, columns=columns)\n",
    "    # morning_trip_grid\n",
    "\n",
    "    # create grid of trips from start to end terminal counts\n",
    "    for eid in station_ids:\n",
    "        # count trips between terminals\n",
    "        route_count = trip_df[(trip_df.end_station_id == eid)].shape[0]\n",
    "        trip_grid.loc[eid, sid] = route_count\n",
    "\n",
    "    trip_grid = trip_grid.iloc[::-1]    \n",
    "    return trip_grid"
   ]
  },
  {
   "cell_type": "markdown",
   "metadata": {},
   "source": [
    "# Morning Commute Route Popularity"
   ]
  },
  {
   "cell_type": "code",
   "execution_count": 20,
   "metadata": {},
   "outputs": [
    {
     "name": "stdout",
     "output_type": "stream",
     "text": [
      "morning_trip_grid 95th Percentile  692.982572\n"
     ]
    }
   ],
   "source": [
    "morning_trip_grid = make_route_grid(trip_df=morning_commutes, station_ids=stations.station_id)\n",
    "print('morning_trip_grid 95th Percentile  {:2.6f}'.format(morning_trip_grid.mean().mean() + 2*morning_trip_grid.std().std()))"
   ]
  },
  {
   "cell_type": "code",
   "execution_count": 21,
   "metadata": {},
   "outputs": [],
   "source": [
    "mask = morning_trip_grid == 0\n",
    "fig, ax = plt.subplots(figsize=(GRID_DIMS*1.5, GRID_DIMS))\n",
    "\n",
    "grid_max = morning_trip_grid.max().max()\n",
    "cbar_ticks = [x for x in np.arange(0, grid_max+1, grid_max/10)]\n",
    "\n",
    "sns.heatmap(data=morning_trip_grid, linecolor='grey', linewidths=.5, square=True, cmap=sns.color_palette('OrRd', 20), \n",
    "            mask=mask, ax=ax, cbar_kws={\"shrink\": .75, \"ticks\":cbar_ticks}, cbar=True)\n",
    "\n",
    "ax.set_xlabel('Start Station', size=LABEL_FONT_SIZE, weight='bold')\n",
    "ax.set_ylabel('End Station', size=LABEL_FONT_SIZE, weight='bold')\n",
    "\n",
    "title = 'Morning Commuter Route Heatmap'\n",
    "ax.set_title(title, size=TITLE_FONT_SIZE, weight='bold')\n",
    "# plt.show()\n",
    "plt.savefig('../../charts/station_trends/morning_commuter_route_heatmap.png')\n",
    "plt.close()"
   ]
  },
  {
   "cell_type": "markdown",
   "metadata": {},
   "source": [
    "# Evening Commute Route Popularity"
   ]
  },
  {
   "cell_type": "code",
   "execution_count": 22,
   "metadata": {},
   "outputs": [
    {
     "name": "stdout",
     "output_type": "stream",
     "text": [
      "evening_trip_grid 95th Percentile  617.169886\n"
     ]
    }
   ],
   "source": [
    "evening_trip_grid = make_route_grid(trip_df=evening_commutes, station_ids=stations.station_id)\n",
    "print('evening_trip_grid 95th Percentile  {:2.6f}'.format(evening_trip_grid.mean().mean() + 2*evening_trip_grid.std().std()))"
   ]
  },
  {
   "cell_type": "code",
   "execution_count": 23,
   "metadata": {},
   "outputs": [],
   "source": [
    "mask = evening_trip_grid == 0\n",
    "fig, ax = plt.subplots(figsize=(GRID_DIMS*1.5, GRID_DIMS))\n",
    "\n",
    "grid_max = evening_trip_grid.max().max()\n",
    "cbar_ticks = [x for x in np.arange(0, grid_max+1, grid_max/10)]\n",
    "\n",
    "sns.heatmap(data=evening_trip_grid, linecolor='grey', linewidths=.5, square=True, cmap=sns.color_palette('PuRd', 20), \n",
    "            mask=mask, ax=ax, cbar_kws={\"shrink\": .75, \"ticks\":cbar_ticks}, cbar=True)\n",
    "\n",
    "ax.set_xlabel('Start Station', size=LABEL_FONT_SIZE, weight='bold')\n",
    "ax.set_ylabel('End Station', size=LABEL_FONT_SIZE, weight='bold')\n",
    "\n",
    "title = 'Evening Commuter Route Heatmap'\n",
    "ax.set_title(title, size=TITLE_FONT_SIZE, weight='bold')\n",
    "# plt.show()\n",
    "plt.savefig('../../charts/station_trends/evening_commuter_route_heatmap.png')\n",
    "plt.close()"
   ]
  },
  {
   "cell_type": "markdown",
   "metadata": {},
   "source": [
    "# Top Stations by Traffic"
   ]
  },
  {
   "cell_type": "code",
   "execution_count": 24,
   "metadata": {
    "scrolled": false
   },
   "outputs": [
    {
     "name": "stdout",
     "output_type": "stream",
     "text": [
      "\n",
      "Top Stations - Morning Outbound Commuter Traffic\n",
      "\t70\t38443.000\t15.093\tSan Francisco Caltrain (Townsend at 4th)\n",
      "\t69\t30007.000\t11.781\tSan Francisco Caltrain 2 (330 Townsend)\n",
      "\t50\t19277.000\t7.568\tHarry Bridges Plaza (Ferry Building)\n",
      "\t55\t19176.000\t7.528\tTemporary Transbay Terminal (Howard at Beale)\n",
      "\t74\t14548.000\t5.712\tSteuart at Market\n",
      "\t61\t10585.000\t4.156\t2nd at Townsend\n",
      "\t73\t10216.000\t4.011\tGrant Avenue at Columbus Avenue\n",
      "\t77\t7626.000\t2.994\tMarket at Sansome\n",
      "\t67\t7545.000\t2.962\tMarket at 10th\n",
      "\t54\t7354.000\t2.887\tEmbarcadero at Bryant\n",
      "\n",
      "Top Stations - Morning Inbound Commuter Traffic\n",
      "\t70\t20708.000\t8.130\tSan Francisco Caltrain (Townsend at 4th)\n",
      "\t61\t17059.000\t6.697\t2nd at Townsend\n",
      "\t65\t16559.000\t6.501\tTownsend at 7th\n",
      "\t77\t12818.000\t5.032\tMarket at Sansome\n",
      "\t69\t10838.000\t4.255\tSan Francisco Caltrain 2 (330 Townsend)\n",
      "\t51\t10676.000\t4.191\tEmbarcadero at Folsom\n",
      "\t60\t10670.000\t4.189\tEmbarcadero at Sansome\n",
      "\t63\t10296.000\t4.042\tHoward at 2nd\n",
      "\t74\t10095.000\t3.963\tSteuart at Market\n",
      "\t55\t9781.000\t3.840\tTemporary Transbay Terminal (Howard at Beale)\n",
      "\n",
      "Top Stations - Evening Outbound Commuter Traffic\n",
      "\t65\t13994.000\t5.893\tTownsend at 7th\n",
      "\t70\t13037.000\t5.490\tSan Francisco Caltrain (Townsend at 4th)\n",
      "\t61\t12969.000\t5.461\t2nd at Townsend\n",
      "\t77\t10748.000\t4.526\tMarket at Sansome\n",
      "\t64\t10315.000\t4.344\t2nd at South Park\n",
      "\t60\t10156.000\t4.277\tEmbarcadero at Sansome\n",
      "\t74\t9962.000\t4.195\tSteuart at Market\n",
      "\t55\t9866.000\t4.155\tTemporary Transbay Terminal (Howard at Beale)\n",
      "\t69\t9639.000\t4.059\tSan Francisco Caltrain 2 (330 Townsend)\n",
      "\t51\t9467.000\t3.986\tEmbarcadero at Folsom\n",
      "\n",
      "Top Stations - Evening Inbound Commuter Traffic\n",
      "\t70\t46174.000\t19.444\tSan Francisco Caltrain (Townsend at 4th)\n",
      "\t69\t31074.000\t13.085\tSan Francisco Caltrain 2 (330 Townsend)\n",
      "\t50\t17283.000\t7.278\tHarry Bridges Plaza (Ferry Building)\n",
      "\t55\t14798.000\t6.231\tTemporary Transbay Terminal (Howard at Beale)\n",
      "\t74\t14425.000\t6.074\tSteuart at Market\n",
      "\t77\t10398.000\t4.379\tMarket at Sansome\n",
      "\t61\t8788.000\t3.701\t2nd at Townsend\n",
      "\t65\t6952.000\t2.927\tTownsend at 7th\n",
      "\t39\t6741.000\t2.839\tPowell Street BART\n",
      "\t72\t6510.000\t2.741\tCivic Center BART (7th at Market)\n",
      "\n",
      "Top Stations - Morning Outbound Commuter Traffic Per Day\n",
      "\t70\t48.972\t14.978\tSan Francisco Caltrain (Townsend at 4th)\n",
      "\t69\t38.225\t11.691\tSan Francisco Caltrain 2 (330 Townsend)\n",
      "\t50\t24.557\t7.511\tHarry Bridges Plaza (Ferry Building)\n",
      "\t55\t24.428\t7.471\tTemporary Transbay Terminal (Howard at Beale)\n",
      "\t74\t18.532\t5.668\tSteuart at Market\n",
      "\t61\t13.484\t4.124\t2nd at Townsend\n",
      "\t73\t13.014\t3.980\tGrant Avenue at Columbus Avenue\n",
      "\t77\t9.715\t2.971\tMarket at Sansome\n",
      "\t67\t9.611\t2.940\tMarket at 10th\n",
      "\t54\t9.368\t2.865\tEmbarcadero at Bryant\n",
      "\n",
      "Top Stations - Morning Inbound Commuter Traffic Per Day\n",
      "\t70\t26.380\t8.037\tSan Francisco Caltrain (Townsend at 4th)\n",
      "\t61\t21.731\t6.621\t2nd at Townsend\n",
      "\t65\t21.094\t6.427\tTownsend at 7th\n",
      "\t77\t16.329\t4.975\tMarket at Sansome\n",
      "\t69\t13.806\t4.206\tSan Francisco Caltrain 2 (330 Townsend)\n",
      "\t51\t13.600\t4.144\tEmbarcadero at Folsom\n",
      "\t60\t13.592\t4.141\tEmbarcadero at Sansome\n",
      "\t63\t13.116\t3.996\tHoward at 2nd\n",
      "\t74\t12.860\t3.918\tSteuart at Market\n",
      "\t55\t12.460\t3.796\tTemporary Transbay Terminal (Howard at Beale)\n",
      "\n",
      "Top Stations - Evening Outbound Commuter Traffic Per Day\n",
      "\t65\t17.827\t5.825\tTownsend at 7th\n",
      "\t70\t16.608\t5.427\tSan Francisco Caltrain (Townsend at 4th)\n",
      "\t61\t16.521\t5.399\t2nd at Townsend\n",
      "\t77\t13.692\t4.474\tMarket at Sansome\n",
      "\t64\t13.140\t4.294\t2nd at South Park\n",
      "\t60\t12.938\t4.228\tEmbarcadero at Sansome\n",
      "\t74\t12.690\t4.147\tSteuart at Market\n",
      "\t55\t12.568\t4.107\tTemporary Transbay Terminal (Howard at Beale)\n",
      "\t69\t12.279\t4.012\tSan Francisco Caltrain 2 (330 Townsend)\n",
      "\t51\t12.060\t3.941\tEmbarcadero at Folsom\n",
      "\n",
      "Top Stations - Evening Inbound Commuter Traffic Per Day\n",
      "\t70\t58.820\t19.316\tSan Francisco Caltrain (Townsend at 4th)\n",
      "\t69\t39.585\t12.999\tSan Francisco Caltrain 2 (330 Townsend)\n",
      "\t50\t22.017\t7.230\tHarry Bridges Plaza (Ferry Building)\n",
      "\t55\t18.851\t6.190\tTemporary Transbay Terminal (Howard at Beale)\n",
      "\t74\t18.376\t6.034\tSteuart at Market\n",
      "\t77\t13.246\t4.350\tMarket at Sansome\n",
      "\t61\t11.195\t3.676\t2nd at Townsend\n",
      "\t65\t8.856\t2.908\tTownsend at 7th\n",
      "\t39\t8.587\t2.820\tPowell Street BART\n",
      "\t72\t8.293\t2.723\tCivic Center BART (7th at Market)\n"
     ]
    }
   ],
   "source": [
    "for col in stations.columns:\n",
    "    if '_commuter_traffic' in col:\n",
    "        \n",
    "        top_stations = list(stations.sort_values([col], ascending=False).head(10)['station_id'])\n",
    "        total_trips = stations[col].sum()\n",
    "        \n",
    "        print('\\nTop Stations - %s' % col.replace('_', ' ').title())\n",
    "        for sid in top_stations:\n",
    "            s_name = str(list(stations[stations.station_id == sid]['station_name'])[0]).strip()\n",
    "            trips = list(stations[stations.station_id == sid][col])[0]\n",
    "            trip_share = trips / total_trips*100.\n",
    "            print('\\t{:2d}\\t{:5.3f}\\t{:5.3f}\\t{}'.format(sid, trips, trip_share, s_name))"
   ]
  },
  {
   "cell_type": "markdown",
   "metadata": {},
   "source": [
    "# Plot Heatmaps of Hourly Route Trip Counts"
   ]
  },
  {
   "cell_type": "code",
   "execution_count": 25,
   "metadata": {},
   "outputs": [],
   "source": [
    "def hourly_grid_plots(df=morning_commutes, prefix='Morning Commuter'):\n",
    "\n",
    "    print('Starting Grids...')\n",
    "    trip_grids = list()\n",
    "    for hour in sorted(df.start_date.dt.hour.unique()):\n",
    "        hour_trips = df[df.start_date.dt.hour == hour].copy()\n",
    "        hour_grid = make_route_grid(trip_df=hour_trips)\n",
    "        trip_grids.append(hour_grid)\n",
    "    print('\\tGrids Complete!')\n",
    "\n",
    "    print('Plotting Grids...')\n",
    "    for hour, grid in enumerate(trip_grids):\n",
    "\n",
    "        mask = grid == 0\n",
    "        fig, ax = plt.subplots(figsize=(GRID_DIMS*1.5, GRID_DIMS))\n",
    "        \n",
    "        cmap = sns.color_palette('OrRd', 20)\n",
    "        \n",
    "        if prefix.lower() == 'subscriber':\n",
    "            cmap = sns.color_palette('Blues', 20)\n",
    "\n",
    "        if prefix.lower() == 'customer':\n",
    "            cmap = sns.color_palette('Reds', 20)\n",
    "\n",
    "        if prefix.lower() == 'commuter':\n",
    "            cmap = sns.color_palette('Greens', 20)\n",
    "\n",
    "        grid_max = grid.max().max()\n",
    "        cbar_ticks = [x for x in np.arange(0, grid_max+1, grid_max/10)]\n",
    "\n",
    "        sns.heatmap(data=grid, linecolor='grey', linewidths=.5, square=True, cmap=cmap, \n",
    "                    mask=mask, ax=ax, cbar_kws={\"shrink\": .75, \"ticks\":cbar_ticks}, cbar=True)\n",
    "\n",
    "        ax.set_xlabel('Start Station', size=LABEL_FONT_SIZE, weight='bold')\n",
    "        ax.set_ylabel('End Station', size=LABEL_FONT_SIZE, weight='bold')\n",
    "\n",
    "        title = '%s Route Heatmap - %d' % (prefix, hour)\n",
    "        \n",
    "        if hour <= 9:\n",
    "            title = '%s Route Heatmap 0%d:00' % (prefix, hour)\n",
    "        else:\n",
    "            title = '%s Route Heatmap %d:00' % (prefix, hour)\n",
    "\n",
    "\n",
    "        \n",
    "        ax.set_title(title, size=TITLE_FONT_SIZE, weight='bold')\n",
    "    #     plt.show()\n",
    "    \n",
    "        if hour <= 9:\n",
    "            plt.savefig('../../charts/station_trends/%s/%s_route_heatmap_0%d.png' % (prefix.replace(' ','_').lower(),prefix.replace(' ','_').lower(), hour))\n",
    "        else:\n",
    "            plt.savefig('../../charts/station_trends/%s/%s_route_heatmap_%d.png' % (prefix.replace(' ','_').lower(),prefix.replace(' ','_').lower(), hour))\n",
    "        plt.close()\n",
    "    print('\\tPlots Complete!')"
   ]
  },
  {
   "cell_type": "markdown",
   "metadata": {},
   "source": [
    "# Analysis of Customer and Subscriber Station Usage"
   ]
  },
  {
   "cell_type": "code",
   "execution_count": 26,
   "metadata": {},
   "outputs": [
    {
     "name": "stdout",
     "output_type": "stream",
     "text": [
      "\t[15:58:29.277268] finished chunk 1 of 22\n",
      "\t[15:58:31.289402] finished chunk 11 of 22\n",
      "\t[15:58:33.243606] finished chunk 22 of 22\n",
      "Finished file! (1 of 4)\n",
      "\t[15:58:33.941668] finished chunk 1 of 35\n",
      "\t[15:58:36.852286] finished chunk 17 of 35\n",
      "\t[15:58:40.047882] finished chunk 34 of 35\n",
      "\t[15:58:40.140523] finished chunk 35 of 35\n",
      "Finished file! (2 of 4)\n",
      "\t[15:58:41.009220] finished chunk 1 of 33\n",
      "\t[15:58:43.699141] finished chunk 16 of 33\n",
      "\t[15:58:46.708581] finished chunk 32 of 33\n",
      "\t[15:58:46.802649] finished chunk 33 of 33\n",
      "Finished file! (3 of 4)\n",
      "\t[15:58:47.137298] finished chunk 1 of 11\n",
      "\t[15:58:47.893226] finished chunk 5 of 11\n",
      "\t[15:58:48.829331] finished chunk 10 of 11\n",
      "\t[15:58:48.841834] finished chunk 11 of 11\n",
      "Finished file! (4 of 4)\n"
     ]
    }
   ],
   "source": [
    "file_path_slug = '../../clean_data/bayareabikeshare/trip_data_extended_cleaned_20*.csv'\n",
    "file_list = glob(file_path_slug)\n",
    "\n",
    "all_trips = pd.DataFrame()\n",
    "\n",
    "counter = 1\n",
    "chunks = []\n",
    "\n",
    "for file in file_list:\n",
    "\n",
    "    num_chunks = math.ceil(sum(1 for row in open(file, 'r'))/10000)\n",
    "\n",
    "    chunk_counter = 1\n",
    "    for chunk in pd.read_csv(file, chunksize=10000, index_col=0, iterator=True, parse_dates=['start_date', 'end_date']):\n",
    "        # prune out non Customer trips and non San Francisco trips\n",
    "        chunk = chunk[(chunk.start_station_region == 'San Francisco') &\n",
    "                      (chunk.end_station_region == 'San Francisco')].copy()\n",
    "        # append chunk to chunks list\n",
    "        chunks.append(chunk)\n",
    "\n",
    "        if chunk_counter == 1 or chunk_counter % math.floor(num_chunks/2) == 0 or chunk_counter == num_chunks:\n",
    "            print('\\t[%s] finished chunk %s of %s' % (datetime.datetime.now().time(), chunk_counter, num_chunks))\n",
    "        chunk_counter += 1\n",
    "\n",
    "    print('Finished file! (%d of %d)' % (counter, len(file_list)))\n",
    "    counter += 1\n",
    "\n",
    "all_trips = pd.concat(chunks)\n",
    "\n",
    "\n",
    "# Split into subscriber and commuter frames\n",
    "customer_trips   = all_trips[all_trips.user_type == 'Customer'].copy()\n",
    "customer_trips.reset_index(inplace=True, drop=True)\n",
    "subscriber_trips = all_trips[all_trips.user_type == 'Subscriber'].copy()\n",
    "subscriber_trips.reset_index(inplace=True, drop=True)\n",
    "\n",
    "\n",
    "all_trips = pd.DataFrame()"
   ]
  },
  {
   "cell_type": "code",
   "execution_count": 27,
   "metadata": {
    "scrolled": true
   },
   "outputs": [
    {
     "name": "stdout",
     "output_type": "stream",
     "text": [
      "Starting Grids...\n",
      "\tGrids Complete!\n",
      "Plotting Grids...\n",
      "\tPlots Complete!\n"
     ]
    }
   ],
   "source": [
    "hourly_grid_plots(df=customer_trips, prefix='Customer')"
   ]
  },
  {
   "cell_type": "code",
   "execution_count": 28,
   "metadata": {
    "scrolled": false
   },
   "outputs": [
    {
     "name": "stdout",
     "output_type": "stream",
     "text": [
      "Starting Grids...\n",
      "\tGrids Complete!\n",
      "Plotting Grids...\n",
      "\tPlots Complete!\n"
     ]
    }
   ],
   "source": [
    "hourly_grid_plots(df=subscriber_trips, prefix='Subscriber')"
   ]
  },
  {
   "cell_type": "code",
   "execution_count": 29,
   "metadata": {},
   "outputs": [
    {
     "name": "stdout",
     "output_type": "stream",
     "text": [
      "Starting Grids...\n",
      "\tGrids Complete!\n",
      "Plotting Grids...\n",
      "\tPlots Complete!\n"
     ]
    }
   ],
   "source": [
    "commuter_trips = pd.concat([morning_commutes, evening_commutes])\n",
    "commuter_trips.drop_duplicates(subset=['trip_id'], inplace=True)\n",
    "commuter_trips.reset_index(inplace=True, drop=True)\n",
    "hourly_grid_plots(df=commuter_trips, prefix='Commuter')"
   ]
  },
  {
   "cell_type": "markdown",
   "metadata": {},
   "source": [
    "# Customer Route Grid"
   ]
  },
  {
   "cell_type": "code",
   "execution_count": 30,
   "metadata": {},
   "outputs": [
    {
     "name": "stdout",
     "output_type": "stream",
     "text": [
      "customer_trip_grid 95th Percentile  337.222546\n"
     ]
    }
   ],
   "source": [
    "customer_trip_grid = make_route_grid(trip_df=customer_trips, station_ids=stations.station_id)\n",
    "print('customer_trip_grid 95th Percentile  {:2.6f}'.format(customer_trip_grid.mean().mean() + 2*customer_trip_grid.std().std()))"
   ]
  },
  {
   "cell_type": "code",
   "execution_count": 34,
   "metadata": {},
   "outputs": [],
   "source": [
    "mask = customer_trip_grid == 0\n",
    "fig, ax = plt.subplots(figsize=(GRID_DIMS*1.5, GRID_DIMS))\n",
    "\n",
    "grid_max = customer_trip_grid.max().max()\n",
    "cbar_ticks = [x for x in np.arange(0, grid_max+1, grid_max/10)]\n",
    "\n",
    "sns.heatmap(data=customer_trip_grid, linecolor='grey', linewidths=.5, square=True, cmap=sns.color_palette('Reds', 20), \n",
    "            mask=mask, ax=ax, cbar_kws={\"shrink\": .75, \"ticks\":cbar_ticks}, cbar=True)\n",
    "\n",
    "ax.set_xlabel('Start Station', size=LABEL_FONT_SIZE, weight='bold')\n",
    "ax.set_ylabel('End Station', size=LABEL_FONT_SIZE, weight='bold')\n",
    "\n",
    "title = 'Customer Route Heatmap'\n",
    "ax.set_title(title, size=TITLE_FONT_SIZE, weight='bold')\n",
    "# plt.show()\n",
    "plt.savefig('../../charts/station_trends/customer_route_heatmap.png')\n",
    "plt.close()"
   ]
  },
  {
   "cell_type": "markdown",
   "metadata": {},
   "source": [
    "# Subscriber Route Grid"
   ]
  },
  {
   "cell_type": "code",
   "execution_count": 35,
   "metadata": {},
   "outputs": [
    {
     "name": "stdout",
     "output_type": "stream",
     "text": [
      "subscriber_trip_grid 95th Percentile  1448.975467\n"
     ]
    }
   ],
   "source": [
    "subscriber_trip_grid = make_route_grid(trip_df=subscriber_trips, station_ids=stations.station_id)\n",
    "print('subscriber_trip_grid 95th Percentile  {:2.6f}'.format(subscriber_trip_grid.mean().mean() + 2*subscriber_trip_grid.std().std()))"
   ]
  },
  {
   "cell_type": "code",
   "execution_count": 36,
   "metadata": {},
   "outputs": [],
   "source": [
    "mask = subscriber_trip_grid == 0\n",
    "fig, ax = plt.subplots(figsize=(GRID_DIMS*1.5, GRID_DIMS))\n",
    "\n",
    "grid_max = subscriber_trip_grid.max().max()\n",
    "cbar_ticks = [x for x in np.arange(0, grid_max+1, grid_max/10)]\n",
    "\n",
    "sns.heatmap(data=subscriber_trip_grid, linecolor='grey', linewidths=.5, square=True, cmap=sns.color_palette('Blues', 20), \n",
    "            mask=mask, ax=ax, cbar_kws={\"shrink\": .75, \"ticks\":cbar_ticks}, cbar=True)\n",
    "\n",
    "ax.set_xlabel('Start Station', size=LABEL_FONT_SIZE, weight='bold')\n",
    "ax.set_ylabel('End Station', size=LABEL_FONT_SIZE, weight='bold')\n",
    "\n",
    "title = 'Subscriber Route Heatmap'\n",
    "ax.set_title(title, size=TITLE_FONT_SIZE, weight='bold')\n",
    "# plt.show()\n",
    "plt.savefig('../../charts/station_trends/subscriber_route_heatmap.png')\n",
    "plt.close()"
   ]
  },
  {
   "cell_type": "markdown",
   "metadata": {},
   "source": [
    "# Commuter Route Grid"
   ]
  },
  {
   "cell_type": "code",
   "execution_count": 37,
   "metadata": {},
   "outputs": [
    {
     "name": "stdout",
     "output_type": "stream",
     "text": [
      "commuter_trip_grid 95th Percentile  1034.561309\n"
     ]
    }
   ],
   "source": [
    "commuter_trip_grid = make_route_grid(trip_df=commuter_trips, station_ids=stations.station_id)\n",
    "print('commuter_trip_grid 95th Percentile  {:2.6f}'.format(commuter_trip_grid.mean().mean() + 2*commuter_trip_grid.std().std()))"
   ]
  },
  {
   "cell_type": "code",
   "execution_count": 38,
   "metadata": {},
   "outputs": [],
   "source": [
    "mask = commuter_trip_grid == 0\n",
    "fig, ax = plt.subplots(figsize=(GRID_DIMS*1.5, GRID_DIMS))\n",
    "\n",
    "grid_max = commuter_trip_grid.max().max()\n",
    "cbar_ticks = [x for x in np.arange(0, grid_max+1, grid_max/10)]\n",
    "\n",
    "sns.heatmap(data=commuter_trip_grid, linecolor='grey', linewidths=.5, square=True, cmap=sns.color_palette('Greens', 20), \n",
    "            mask=mask, ax=ax, cbar_kws={\"shrink\": .75, \"ticks\":cbar_ticks}, cbar=True)\n",
    "\n",
    "ax.set_xlabel('Start Station', size=LABEL_FONT_SIZE, weight='bold')\n",
    "ax.set_ylabel('End Station', size=LABEL_FONT_SIZE, weight='bold')\n",
    "\n",
    "title = 'Commuter Route Heatmap'\n",
    "ax.set_title(title, size=TITLE_FONT_SIZE, weight='bold')\n",
    "# plt.show()\n",
    "plt.savefig('../../charts/station_trends/commuter_route_heatmap.png')\n",
    "plt.close()"
   ]
  },
  {
   "cell_type": "markdown",
   "metadata": {},
   "source": [
    "# Non Commuter Route Grid"
   ]
  },
  {
   "cell_type": "code",
   "execution_count": 39,
   "metadata": {},
   "outputs": [
    {
     "name": "stdout",
     "output_type": "stream",
     "text": [
      "(287291, 37)\n"
     ]
    }
   ],
   "source": [
    "morning_hours = [7, 8, 9 ]\n",
    "evening_hours = [16, 17, 18]\n",
    "\n",
    "non_commuter_trips = subscriber_trips[((-subscriber_trips.start_date.dt.hour.isin(morning_hours)) & (-subscriber_trips.start_date.dt.hour.isin(morning_hours))\n",
    "                                     & (-subscriber_trips.start_date.dt.hour.isin(evening_hours)) & (-subscriber_trips.start_date.dt.hour.isin(evening_hours))) \n",
    "                                      | ((-subscriber_trips.end_date.dt.hour.isin(morning_hours)) & (-subscriber_trips.end_date.dt.hour.isin(morning_hours))\n",
    "                                     & (-subscriber_trips.end_date.dt.hour.isin(evening_hours)) & (-subscriber_trips.end_date.dt.hour.isin(evening_hours)))].copy()\n",
    "\n",
    "print(non_commuter_trips.shape)"
   ]
  },
  {
   "cell_type": "code",
   "execution_count": 40,
   "metadata": {},
   "outputs": [
    {
     "name": "stdout",
     "output_type": "stream",
     "text": [
      "non_commuter_trip_grid 95th Percentile  473.468494\n"
     ]
    }
   ],
   "source": [
    "non_commuter_trip_grid = make_route_grid(trip_df=non_commuter_trips, station_ids=stations.station_id)\n",
    "print('non_commuter_trip_grid 95th Percentile  {:2.6f}'.format(non_commuter_trip_grid.mean().mean() + 2*non_commuter_trip_grid.std().std()))"
   ]
  },
  {
   "cell_type": "code",
   "execution_count": 41,
   "metadata": {},
   "outputs": [],
   "source": [
    "mask = non_commuter_trip_grid == 0\n",
    "fig, ax = plt.subplots(figsize=(GRID_DIMS*1.5, GRID_DIMS))\n",
    "\n",
    "grid_max = non_commuter_trip_grid.max().max()\n",
    "cbar_ticks = [x for x in np.arange(0, grid_max+1, grid_max/10)]\n",
    "\n",
    "sns.heatmap(data=non_commuter_trip_grid, linecolor='grey', linewidths=.5, square=True, cmap=sns.color_palette('Purples', 20), \n",
    "            mask=mask, ax=ax, cbar_kws={\"shrink\": .75, \"ticks\":cbar_ticks}, cbar=True)\n",
    "\n",
    "ax.set_xlabel('Start Station', size=LABEL_FONT_SIZE, weight='bold')\n",
    "ax.set_ylabel('End Station', size=LABEL_FONT_SIZE, weight='bold')\n",
    "\n",
    "title = 'Non Commuter Route Heatmap'\n",
    "ax.set_title(title, size=TITLE_FONT_SIZE, weight='bold')\n",
    "# plt.show()\n",
    "plt.savefig('../../charts/station_trends/non_commuter_route_heatmap.png')\n",
    "plt.close()"
   ]
  },
  {
   "cell_type": "code",
   "execution_count": 42,
   "metadata": {},
   "outputs": [
    {
     "name": "stdout",
     "output_type": "stream",
     "text": [
      "255117\tmorning_commutes\n",
      "237827\tevening_commutes\n",
      "492759\tcommuter_trips\n",
      "287291\tnon_commuter_trips\n",
      "771561\tsubscriber_trips\n",
      "119484\tcustomer_trips\n"
     ]
    }
   ],
   "source": [
    "print('%s\\tmorning_commutes' % morning_commutes.shape[0])\n",
    "print('%s\\tevening_commutes' % evening_commutes.shape[0])\n",
    "print('%s\\tcommuter_trips' % commuter_trips.shape[0])\n",
    "print('%s\\tnon_commuter_trips' % non_commuter_trips.shape[0])\n",
    "print('%s\\tsubscriber_trips' % subscriber_trips.shape[0])\n",
    "print('%s\\tcustomer_trips' % customer_trips.shape[0])"
   ]
  },
  {
   "cell_type": "code",
   "execution_count": null,
   "metadata": {},
   "outputs": [],
   "source": []
  }
 ],
 "metadata": {
  "kernelspec": {
   "display_name": "Python 3",
   "language": "python",
   "name": "python3"
  },
  "language_info": {
   "codemirror_mode": {
    "name": "ipython",
    "version": 3
   },
   "file_extension": ".py",
   "mimetype": "text/x-python",
   "name": "python",
   "nbconvert_exporter": "python",
   "pygments_lexer": "ipython3",
   "version": "3.6.3"
  }
 },
 "nbformat": 4,
 "nbformat_minor": 2
}
