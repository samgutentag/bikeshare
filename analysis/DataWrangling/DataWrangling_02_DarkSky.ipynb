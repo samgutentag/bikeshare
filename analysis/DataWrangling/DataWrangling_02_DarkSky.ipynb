{
 "cells": [
  {
   "cell_type": "markdown",
   "metadata": {},
   "source": [
    "# Darksky Cleaner"
   ]
  },
  {
   "cell_type": "code",
   "execution_count": 1,
   "metadata": {},
   "outputs": [],
   "source": [
    "%matplotlib inline\n",
    "\n",
    "import matplotlib\n",
    "import numpy as np\n",
    "from scipy import stats\n",
    "import scipy\n",
    "import math\n",
    "import matplotlib.pyplot as plt\n",
    "import pandas as pd\n",
    "from glob import glob\n",
    "import datetime\n",
    "\n",
    "import seaborn as sns\n",
    "# sns.set()\n",
    "sns.set_style('whitegrid')\n",
    "sns.set_context(\"poster\")"
   ]
  },
  {
   "cell_type": "code",
   "execution_count": 2,
   "metadata": {},
   "outputs": [
    {
     "data": {
      "text/html": [
       "<style>.container { width:95% !important; }</style>"
      ],
      "text/plain": [
       "<IPython.core.display.HTML object>"
      ]
     },
     "metadata": {},
     "output_type": "display_data"
    }
   ],
   "source": [
    "from IPython.core.display import display, HTML\n",
    "display(HTML(\"<style>.container { width:95% !important; }</style>\"))\n",
    "\n",
    "font = {'size'   : 50}\n",
    "matplotlib.rc('font', **font)\n",
    "\n",
    "LABEL_FONT_SIZE = 15\n",
    "TITLE_FONT_SIZE = 25\n",
    "TICK_FONT_SIZE = LABEL_FONT_SIZE*0.8\n",
    "FIG_SIZE = (15,6)"
   ]
  },
  {
   "cell_type": "code",
   "execution_count": 3,
   "metadata": {},
   "outputs": [],
   "source": [
    "day_labels = ['MON','TUE','WED','THU','FRI','SAT','SUN']\n",
    "day_labels_full = ['MONDAY','TUESDAY','WEDNESDAY','THURSDAY','FRIDAY','SATURDAY','SUNDAY']\n",
    "month_labels = ['JAN','FEB','MAR','APR','MAY','JUN','JUL','AUG','SEP','OCT','NOV','DEC']\n",
    "\n",
    "ordered_zipcodes = [94107, 95113, 94041, 94301, 94063]"
   ]
  },
  {
   "cell_type": "code",
   "execution_count": 4,
   "metadata": {},
   "outputs": [],
   "source": [
    "def zip_to_landmark(zip_code):\n",
    "    ''' Return zipcode for given landmark'''\n",
    "    if zip_code == 94107:\n",
    "        return 'San Francisco'\n",
    "    if zip_code == 94063:\n",
    "        return 'Redwood City'\n",
    "    if zip_code == 94301:\n",
    "        return 'Palo Alto'\n",
    "    if zip_code == 94041:\n",
    "        return 'Mountain View'\n",
    "    if zip_code == 95113:\n",
    "        return 'San Jose'\n",
    "    return False"
   ]
  },
  {
   "cell_type": "markdown",
   "metadata": {},
   "source": [
    "# Load Station Data For Identification\n",
    "<p>Cross reference cleaned station data to assign `station_id` column to each record</p>"
   ]
  },
  {
   "cell_type": "code",
   "execution_count": 5,
   "metadata": {},
   "outputs": [
    {
     "data": {
      "text/html": [
       "<div>\n",
       "<style scoped>\n",
       "    .dataframe tbody tr th:only-of-type {\n",
       "        vertical-align: middle;\n",
       "    }\n",
       "\n",
       "    .dataframe tbody tr th {\n",
       "        vertical-align: top;\n",
       "    }\n",
       "\n",
       "    .dataframe thead th {\n",
       "        text-align: right;\n",
       "    }\n",
       "</style>\n",
       "<table border=\"1\" class=\"dataframe\">\n",
       "  <thead>\n",
       "    <tr style=\"text-align: right;\">\n",
       "      <th></th>\n",
       "      <th>station_id</th>\n",
       "      <th>lat</th>\n",
       "      <th>long</th>\n",
       "      <th>zip_code</th>\n",
       "      <th>region</th>\n",
       "    </tr>\n",
       "  </thead>\n",
       "  <tbody>\n",
       "    <tr>\n",
       "      <th>0</th>\n",
       "      <td>2</td>\n",
       "      <td>37.329732</td>\n",
       "      <td>-121.901782</td>\n",
       "      <td>95113</td>\n",
       "      <td>San Jose</td>\n",
       "    </tr>\n",
       "    <tr>\n",
       "      <th>1</th>\n",
       "      <td>3</td>\n",
       "      <td>37.330698</td>\n",
       "      <td>-121.888979</td>\n",
       "      <td>95113</td>\n",
       "      <td>San Jose</td>\n",
       "    </tr>\n",
       "    <tr>\n",
       "      <th>2</th>\n",
       "      <td>4</td>\n",
       "      <td>37.333988</td>\n",
       "      <td>-121.894902</td>\n",
       "      <td>95113</td>\n",
       "      <td>San Jose</td>\n",
       "    </tr>\n",
       "    <tr>\n",
       "      <th>3</th>\n",
       "      <td>5</td>\n",
       "      <td>37.331415</td>\n",
       "      <td>-121.893200</td>\n",
       "      <td>95113</td>\n",
       "      <td>San Jose</td>\n",
       "    </tr>\n",
       "    <tr>\n",
       "      <th>4</th>\n",
       "      <td>6</td>\n",
       "      <td>37.336721</td>\n",
       "      <td>-121.894074</td>\n",
       "      <td>95113</td>\n",
       "      <td>San Jose</td>\n",
       "    </tr>\n",
       "  </tbody>\n",
       "</table>\n",
       "</div>"
      ],
      "text/plain": [
       "   station_id        lat        long  zip_code    region\n",
       "0           2  37.329732 -121.901782     95113  San Jose\n",
       "1           3  37.330698 -121.888979     95113  San Jose\n",
       "2           4  37.333988 -121.894902     95113  San Jose\n",
       "3           5  37.331415 -121.893200     95113  San Jose\n",
       "4           6  37.336721 -121.894074     95113  San Jose"
      ]
     },
     "execution_count": 5,
     "metadata": {},
     "output_type": "execute_result"
    }
   ],
   "source": [
    "stations = pd.read_csv('../../clean_data/bayareabikeshare/station_data_cleaned.csv', index_col=0, parse_dates=['first_service_date', 'last_service_date'])\n",
    "stations = stations[['station_id', 'lat', 'long', 'zip_code', 'region']].copy()\n",
    "stations.head()"
   ]
  },
  {
   "cell_type": "markdown",
   "metadata": {},
   "source": [
    "# Load DarkSky Data"
   ]
  },
  {
   "cell_type": "code",
   "execution_count": 6,
   "metadata": {},
   "outputs": [
    {
     "name": "stdout",
     "output_type": "stream",
     "text": [
      "Started Loading Weather Data...\n",
      "\t[00:06:12.219736] finished chunk        1 of    66114\n",
      "\t[00:06:52.004779] finished chunk     6612 of    66114\n",
      "\t[00:07:24.629732] finished chunk    13224 of    66114\n",
      "\t[00:07:55.934378] finished chunk    19836 of    66114\n",
      "\t[00:08:28.712611] finished chunk    26448 of    66114\n",
      "\t[00:08:56.737776] finished chunk    33060 of    66114\n",
      "\t[00:09:25.152676] finished chunk    39672 of    66114\n",
      "\t[00:09:52.872583] finished chunk    46284 of    66114\n",
      "\t[00:10:21.112553] finished chunk    52896 of    66114\n",
      "\t[00:10:48.828219] finished chunk    59508 of    66114\n",
      "\t[00:11:17.112588] finished chunk    66114 of    66114\n",
      "Data Loaded Successfully!\n"
     ]
    }
   ],
   "source": [
    "print('Started Loading Weather Data...')\n",
    "file_path_slug = '../../source_data/darksky/*.csv'\n",
    "file_list = glob(file_path_slug)\n",
    "\n",
    "weather_df = pd.DataFrame()\n",
    "\n",
    "num_files = len(file_list)\n",
    "chunks = []\n",
    "\n",
    "for i, file in enumerate(file_list):\n",
    "\n",
    "    chunk = pd.read_csv(file, index_col=0, parse_dates=['time_corrected'])\n",
    "    \n",
    "    \n",
    "    chunks.append(chunk)\n",
    "    \n",
    "    if (i + 1) == 1 or (i + 1) % math.ceil(num_files/10) == 0 or (i + 1) == num_files:\n",
    "        print('\\t[%s] finished chunk %s of %s' % (datetime.datetime.now().time(), str(i+1).rjust(8), str(num_files).rjust(8)))\n",
    "\n",
    "    \n",
    "weather_df = pd.concat(chunks)\n",
    "\n",
    "weather_df.drop_duplicates(inplace=True)\n",
    "weather_df.reset_index(inplace=True, drop=True)\n",
    "\n",
    "print('Data Loaded Successfully!')"
   ]
  },
  {
   "cell_type": "code",
   "execution_count": 7,
   "metadata": {},
   "outputs": [
    {
     "data": {
      "text/html": [
       "<div>\n",
       "<style scoped>\n",
       "    .dataframe tbody tr th:only-of-type {\n",
       "        vertical-align: middle;\n",
       "    }\n",
       "\n",
       "    .dataframe tbody tr th {\n",
       "        vertical-align: top;\n",
       "    }\n",
       "\n",
       "    .dataframe thead th {\n",
       "        text-align: right;\n",
       "    }\n",
       "</style>\n",
       "<table border=\"1\" class=\"dataframe\">\n",
       "  <thead>\n",
       "    <tr style=\"text-align: right;\">\n",
       "      <th></th>\n",
       "      <th>apparentTemperature</th>\n",
       "      <th>cloudCover</th>\n",
       "      <th>daily_icon</th>\n",
       "      <th>daily_summary</th>\n",
       "      <th>dewPoint</th>\n",
       "      <th>hourly_icon</th>\n",
       "      <th>hourly_summary</th>\n",
       "      <th>humidity</th>\n",
       "      <th>latitude</th>\n",
       "      <th>longitude</th>\n",
       "      <th>...</th>\n",
       "      <th>precipIntensity</th>\n",
       "      <th>precipProbability</th>\n",
       "      <th>precipType</th>\n",
       "      <th>pressure</th>\n",
       "      <th>temperature</th>\n",
       "      <th>time</th>\n",
       "      <th>time_corrected</th>\n",
       "      <th>visibility</th>\n",
       "      <th>windBearing</th>\n",
       "      <th>windSpeed</th>\n",
       "    </tr>\n",
       "  </thead>\n",
       "  <tbody>\n",
       "    <tr>\n",
       "      <th>0</th>\n",
       "      <td>53.93</td>\n",
       "      <td>0.31</td>\n",
       "      <td>rain</td>\n",
       "      <td>Heavy rain starting overnight, continuing unti...</td>\n",
       "      <td>50.44</td>\n",
       "      <td>partly-cloudy-night</td>\n",
       "      <td>Partly Cloudy</td>\n",
       "      <td>0.88</td>\n",
       "      <td>37.795392</td>\n",
       "      <td>-122.394203</td>\n",
       "      <td>...</td>\n",
       "      <td>0.0059</td>\n",
       "      <td>0.59</td>\n",
       "      <td>rain</td>\n",
       "      <td>1012.43</td>\n",
       "      <td>53.93</td>\n",
       "      <td>1418716800</td>\n",
       "      <td>2014-12-16 00:00:00</td>\n",
       "      <td>9.29</td>\n",
       "      <td>131.0</td>\n",
       "      <td>10.26</td>\n",
       "    </tr>\n",
       "    <tr>\n",
       "      <th>1</th>\n",
       "      <td>54.72</td>\n",
       "      <td>NaN</td>\n",
       "      <td>rain</td>\n",
       "      <td>Heavy rain starting overnight, continuing unti...</td>\n",
       "      <td>50.83</td>\n",
       "      <td>clear-night</td>\n",
       "      <td>Clear</td>\n",
       "      <td>0.87</td>\n",
       "      <td>37.795392</td>\n",
       "      <td>-122.394203</td>\n",
       "      <td>...</td>\n",
       "      <td>0.0059</td>\n",
       "      <td>0.59</td>\n",
       "      <td>rain</td>\n",
       "      <td>1012.13</td>\n",
       "      <td>54.72</td>\n",
       "      <td>1418720400</td>\n",
       "      <td>2014-12-16 01:00:00</td>\n",
       "      <td>8.41</td>\n",
       "      <td>146.0</td>\n",
       "      <td>8.84</td>\n",
       "    </tr>\n",
       "    <tr>\n",
       "      <th>2</th>\n",
       "      <td>53.94</td>\n",
       "      <td>NaN</td>\n",
       "      <td>rain</td>\n",
       "      <td>Heavy rain starting overnight, continuing unti...</td>\n",
       "      <td>50.07</td>\n",
       "      <td>clear-night</td>\n",
       "      <td>Clear</td>\n",
       "      <td>0.87</td>\n",
       "      <td>37.795392</td>\n",
       "      <td>-122.394203</td>\n",
       "      <td>...</td>\n",
       "      <td>0.0112</td>\n",
       "      <td>0.85</td>\n",
       "      <td>rain</td>\n",
       "      <td>1012.32</td>\n",
       "      <td>53.94</td>\n",
       "      <td>1418724000</td>\n",
       "      <td>2014-12-16 02:00:00</td>\n",
       "      <td>8.11</td>\n",
       "      <td>149.0</td>\n",
       "      <td>8.02</td>\n",
       "    </tr>\n",
       "    <tr>\n",
       "      <th>3</th>\n",
       "      <td>53.86</td>\n",
       "      <td>0.31</td>\n",
       "      <td>rain</td>\n",
       "      <td>Heavy rain starting overnight, continuing unti...</td>\n",
       "      <td>51.22</td>\n",
       "      <td>rain</td>\n",
       "      <td>Rain</td>\n",
       "      <td>0.91</td>\n",
       "      <td>37.795392</td>\n",
       "      <td>-122.394203</td>\n",
       "      <td>...</td>\n",
       "      <td>0.1668</td>\n",
       "      <td>0.85</td>\n",
       "      <td>rain</td>\n",
       "      <td>1012.71</td>\n",
       "      <td>53.86</td>\n",
       "      <td>1418727600</td>\n",
       "      <td>2014-12-16 03:00:00</td>\n",
       "      <td>8.29</td>\n",
       "      <td>149.0</td>\n",
       "      <td>7.16</td>\n",
       "    </tr>\n",
       "    <tr>\n",
       "      <th>4</th>\n",
       "      <td>53.78</td>\n",
       "      <td>0.75</td>\n",
       "      <td>rain</td>\n",
       "      <td>Heavy rain starting overnight, continuing unti...</td>\n",
       "      <td>51.19</td>\n",
       "      <td>rain</td>\n",
       "      <td>Rain</td>\n",
       "      <td>0.91</td>\n",
       "      <td>37.795392</td>\n",
       "      <td>-122.394203</td>\n",
       "      <td>...</td>\n",
       "      <td>0.1323</td>\n",
       "      <td>0.85</td>\n",
       "      <td>rain</td>\n",
       "      <td>1012.64</td>\n",
       "      <td>53.78</td>\n",
       "      <td>1418731200</td>\n",
       "      <td>2014-12-16 04:00:00</td>\n",
       "      <td>9.47</td>\n",
       "      <td>129.0</td>\n",
       "      <td>9.66</td>\n",
       "    </tr>\n",
       "  </tbody>\n",
       "</table>\n",
       "<p>5 rows × 21 columns</p>\n",
       "</div>"
      ],
      "text/plain": [
       "   apparentTemperature  cloudCover daily_icon  \\\n",
       "0                53.93        0.31       rain   \n",
       "1                54.72         NaN       rain   \n",
       "2                53.94         NaN       rain   \n",
       "3                53.86        0.31       rain   \n",
       "4                53.78        0.75       rain   \n",
       "\n",
       "                                       daily_summary  dewPoint  \\\n",
       "0  Heavy rain starting overnight, continuing unti...     50.44   \n",
       "1  Heavy rain starting overnight, continuing unti...     50.83   \n",
       "2  Heavy rain starting overnight, continuing unti...     50.07   \n",
       "3  Heavy rain starting overnight, continuing unti...     51.22   \n",
       "4  Heavy rain starting overnight, continuing unti...     51.19   \n",
       "\n",
       "           hourly_icon hourly_summary  humidity   latitude   longitude  \\\n",
       "0  partly-cloudy-night  Partly Cloudy      0.88  37.795392 -122.394203   \n",
       "1          clear-night          Clear      0.87  37.795392 -122.394203   \n",
       "2          clear-night          Clear      0.87  37.795392 -122.394203   \n",
       "3                 rain           Rain      0.91  37.795392 -122.394203   \n",
       "4                 rain           Rain      0.91  37.795392 -122.394203   \n",
       "\n",
       "     ...      precipIntensity  precipProbability  precipType pressure  \\\n",
       "0    ...               0.0059               0.59        rain  1012.43   \n",
       "1    ...               0.0059               0.59        rain  1012.13   \n",
       "2    ...               0.0112               0.85        rain  1012.32   \n",
       "3    ...               0.1668               0.85        rain  1012.71   \n",
       "4    ...               0.1323               0.85        rain  1012.64   \n",
       "\n",
       "   temperature        time      time_corrected visibility  windBearing  \\\n",
       "0        53.93  1418716800 2014-12-16 00:00:00       9.29        131.0   \n",
       "1        54.72  1418720400 2014-12-16 01:00:00       8.41        146.0   \n",
       "2        53.94  1418724000 2014-12-16 02:00:00       8.11        149.0   \n",
       "3        53.86  1418727600 2014-12-16 03:00:00       8.29        149.0   \n",
       "4        53.78  1418731200 2014-12-16 04:00:00       9.47        129.0   \n",
       "\n",
       "   windSpeed  \n",
       "0      10.26  \n",
       "1       8.84  \n",
       "2       8.02  \n",
       "3       7.16  \n",
       "4       9.66  \n",
       "\n",
       "[5 rows x 21 columns]"
      ]
     },
     "execution_count": 7,
     "metadata": {},
     "output_type": "execute_result"
    }
   ],
   "source": [
    "weather_df.head()"
   ]
  },
  {
   "cell_type": "code",
   "execution_count": 8,
   "metadata": {
    "scrolled": false
   },
   "outputs": [
    {
     "name": "stdout",
     "output_type": "stream",
     "text": [
      "<class 'pandas.core.frame.DataFrame'>\n",
      "RangeIndex: 1586743 entries, 0 to 1586742\n",
      "Data columns (total 21 columns):\n",
      "apparentTemperature    1586743 non-null float64\n",
      "cloudCover             1363580 non-null float64\n",
      "daily_icon             1586743 non-null object\n",
      "daily_summary          1586743 non-null object\n",
      "dewPoint               1586743 non-null float64\n",
      "hourly_icon            1586743 non-null object\n",
      "hourly_summary         1586743 non-null object\n",
      "humidity               1586743 non-null float64\n",
      "latitude               1586743 non-null float64\n",
      "longitude              1586743 non-null float64\n",
      "offset                 1586743 non-null int64\n",
      "precipIntensity        1586743 non-null float64\n",
      "precipProbability      1586743 non-null float64\n",
      "precipType             88330 non-null object\n",
      "pressure               1586743 non-null float64\n",
      "temperature            1586743 non-null float64\n",
      "time                   1586743 non-null int64\n",
      "time_corrected         1586743 non-null datetime64[ns]\n",
      "visibility             1586743 non-null float64\n",
      "windBearing            1586186 non-null float64\n",
      "windSpeed              1586314 non-null float64\n",
      "dtypes: datetime64[ns](1), float64(13), int64(2), object(5)\n",
      "memory usage: 254.2+ MB\n"
     ]
    }
   ],
   "source": [
    "weather_df.info()"
   ]
  },
  {
   "cell_type": "markdown",
   "metadata": {},
   "source": [
    "## Merge subset of `Station Data` to weather records"
   ]
  },
  {
   "cell_type": "code",
   "execution_count": 9,
   "metadata": {},
   "outputs": [],
   "source": [
    "weather = weather_df.merge(stations, left_on=['latitude', 'longitude'], right_on=['lat', 'long'], how='left')"
   ]
  },
  {
   "cell_type": "markdown",
   "metadata": {},
   "source": [
    "## Encode `precipType`\n",
    "<p>Change to `is_raining` as either True or False</p>"
   ]
  },
  {
   "cell_type": "code",
   "execution_count": 10,
   "metadata": {
    "scrolled": true
   },
   "outputs": [],
   "source": [
    "weather.precipType.fillna(0, inplace=True)\n",
    "weather.precipType = weather.precipType.apply(lambda x: False if x == 0 else True)\n",
    "\n",
    "weather.rename(columns={'precipType': 'is_raining'}, inplace=True)"
   ]
  },
  {
   "cell_type": "code",
   "execution_count": 11,
   "metadata": {},
   "outputs": [
    {
     "name": "stdout",
     "output_type": "stream",
     "text": [
      "<class 'pandas.core.frame.DataFrame'>\n",
      "Int64Index: 1586743 entries, 0 to 1586742\n",
      "Data columns (total 24 columns):\n",
      "apparentTemperature    1586743 non-null float64\n",
      "cloudCover             1586743 non-null float64\n",
      "daily_icon             1586743 non-null object\n",
      "daily_summary          1586743 non-null object\n",
      "dewPoint               1586743 non-null float64\n",
      "hourly_icon            1586743 non-null object\n",
      "hourly_summary         1586743 non-null object\n",
      "humidity               1586743 non-null float64\n",
      "offset                 1586743 non-null int64\n",
      "precipIntensity        1586743 non-null float64\n",
      "precipProbability      1586743 non-null float64\n",
      "is_raining             1586743 non-null bool\n",
      "pressure               1586743 non-null float64\n",
      "temperature            1586743 non-null float64\n",
      "time                   1586743 non-null int64\n",
      "time_corrected         1586743 non-null datetime64[ns]\n",
      "visibility             1586743 non-null float64\n",
      "windBearing            1586743 non-null float64\n",
      "windSpeed              1586743 non-null float64\n",
      "station_id             1586743 non-null int64\n",
      "lat                    1586743 non-null float64\n",
      "long                   1586743 non-null float64\n",
      "zip_code               1586743 non-null int64\n",
      "region                 1586743 non-null object\n",
      "dtypes: bool(1), datetime64[ns](1), float64(13), int64(4), object(5)\n",
      "memory usage: 292.1+ MB\n"
     ]
    }
   ],
   "source": [
    "weather.drop(['latitude', 'longitude'], axis=1, inplace=True)\n",
    "weather.fillna(0, inplace=True)\n",
    "weather.info()"
   ]
  },
  {
   "cell_type": "markdown",
   "metadata": {},
   "source": [
    "# Write to File by Region and by Station"
   ]
  },
  {
   "cell_type": "code",
   "execution_count": 12,
   "metadata": {},
   "outputs": [
    {
     "name": "stdout",
     "output_type": "stream",
     "text": [
      "Finished San Francisco\n",
      "Finished Redwood City\n",
      "Finished Mountain View\n",
      "Finished San Jose\n",
      "Finished Palo Alto\n"
     ]
    }
   ],
   "source": [
    "for z in weather.zip_code.unique():\n",
    "    region = zip_to_landmark(z)\n",
    "    \n",
    "    # get dataframe on just weather in region\n",
    "    region_weather = weather[weather.zip_code == z].copy()\n",
    "    region_weather.reset_index(inplace=True, drop=True)\n",
    "    region_weather.to_csv('../../clean_data/darksky/%s_darksky_cleaned.csv' % region.lower().replace(' ', ''))\n",
    "    \n",
    "    print('Finished %s' % region)"
   ]
  },
  {
   "cell_type": "markdown",
   "metadata": {},
   "source": [
    "# Regional Temperatures"
   ]
  },
  {
   "cell_type": "code",
   "execution_count": 14,
   "metadata": {
    "scrolled": false
   },
   "outputs": [
    {
     "data": {
      "image/png": "[encoded data removed]",
      "text/plain": [
       "<matplotlib.figure.Figure at 0x1a6b5627b8>"
      ]
     },
     "metadata": {},
     "output_type": "display_data"
    }
   ],
   "source": [
    "df = weather.copy()\n",
    "df.sort_values('time_corrected', inplace=True)\n",
    "df.set_index('time_corrected', inplace=True)    \n",
    "df = df.groupby(df.index).mean()\n",
    "\n",
    "df = df.resample('1H').mean()\n",
    "\n",
    "plt.subplots(figsize=FIG_SIZE)\n",
    "ax = df.rolling('30D').median().apparentTemperature.plot(color='c', label='Rolling Median')\n",
    "df.rolling('30D').mean().apparentTemperature.plot(color='g', ax=ax, label='Rolling Mean')\n",
    "\n",
    "title = 'Bay Area Temperature Trends'\n",
    "ax.set_title(title, size=TITLE_FONT_SIZE)\n",
    "ax.set_ylabel('Temperature (F)', size=LABEL_FONT_SIZE)\n",
    "ax.set_xlabel('')\n",
    "\n",
    "ax.set_ylim([45, 70])\n",
    "ax.set_yticks([y for y in range(45, 75, 5)])\n",
    "\n",
    "for y in [y for y in range(45, 75, 5)]:\n",
    "    ax.axhline(y, linestyle=':', color='k', alpha=0.15)\n",
    "\n",
    "ax.legend(loc=4, frameon=True)\n",
    "ax.grid(False)\n",
    "\n",
    "plt.savefig('../../charts/bay_area_temperature_trends.png')\n",
    "plt.show()\n",
    "plt.close()"
   ]
  },
  {
   "cell_type": "code",
   "execution_count": null,
   "metadata": {},
   "outputs": [],
   "source": []
  }
 ],
 "metadata": {
  "kernelspec": {
   "display_name": "Python 3",
   "language": "python",
   "name": "python3"
  },
  "language_info": {
   "codemirror_mode": {
    "name": "ipython",
    "version": 3
   },
   "file_extension": ".py",
   "mimetype": "text/x-python",
   "name": "python",
   "nbconvert_exporter": "python",
   "pygments_lexer": "ipython3",
   "version": "3.6.3"
  }
 },
 "nbformat": 4,
 "nbformat_minor": 2
}
