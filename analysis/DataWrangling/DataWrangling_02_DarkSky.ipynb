{
 "cells": [
  {
   "cell_type": "markdown",
   "metadata": {},
   "source": [
    "# Darksky Cleaner"
   ]
  },
  {
   "cell_type": "code",
   "execution_count": 4,
   "metadata": {},
   "outputs": [],
   "source": [
    "%matplotlib inline\n",
    "import matplotlib\n",
    "import matplotlib.pyplot as plt\n",
    "import pandas as pd\n",
    "\n",
    "import datetime\n",
    "\n",
    "import seaborn as sns\n",
    "sns.set_style('whitegrid')\n",
    "sns.set_context(\"poster\")"
   ]
  },
  {
   "cell_type": "code",
   "execution_count": 5,
   "metadata": {},
   "outputs": [],
   "source": [
    "from wranglingutils import time_marker as tm\n",
    "from wranglingutils import csv_chunk_importer\n",
    "from wranglingutils import zip_to_landmark"
   ]
  },
  {
   "cell_type": "code",
   "execution_count": 6,
   "metadata": {},
   "outputs": [
    {
     "data": {
      "text/html": [
       "<style>.container { width:95% !important; }</style>"
      ],
      "text/plain": [
       "<IPython.core.display.HTML object>"
      ]
     },
     "metadata": {},
     "output_type": "display_data"
    }
   ],
   "source": [
    "from IPython.core.display import display, HTML\n",
    "display(HTML(\"<style>.container { width:95% !important; }</style>\"))\n",
    "\n",
    "font = {'size'   : 50}\n",
    "matplotlib.rc('font', **font)\n",
    "\n",
    "LABEL_FONT_SIZE = 15\n",
    "TITLE_FONT_SIZE = 25\n",
    "TICK_FONT_SIZE = LABEL_FONT_SIZE*0.8\n",
    "FIG_SIZE = (15,6)"
   ]
  },
  {
   "cell_type": "code",
   "execution_count": 7,
   "metadata": {},
   "outputs": [],
   "source": [
    "day_labels = ['MON','TUE','WED','THU','FRI','SAT','SUN']\n",
    "day_labels_full = ['MONDAY','TUESDAY','WEDNESDAY','THURSDAY','FRIDAY','SATURDAY','SUNDAY']\n",
    "month_labels = ['JAN','FEB','MAR','APR','MAY','JUN','JUL','AUG','SEP','OCT','NOV','DEC']\n",
    "\n",
    "ordered_zipcodes = [94107, 95113, 94041, 94301, 94063]"
   ]
  },
  {
   "cell_type": "markdown",
   "metadata": {},
   "source": [
    "# Load Station Data For Identification\n",
    "<p>Cross reference cleaned station data to assign `station_id` column to each record</p>"
   ]
  },
  {
   "cell_type": "code",
   "execution_count": 8,
   "metadata": {},
   "outputs": [
    {
     "data": {
      "text/html": [
       "<div>\n",
       "<style scoped>\n",
       "    .dataframe tbody tr th:only-of-type {\n",
       "        vertical-align: middle;\n",
       "    }\n",
       "\n",
       "    .dataframe tbody tr th {\n",
       "        vertical-align: top;\n",
       "    }\n",
       "\n",
       "    .dataframe thead th {\n",
       "        text-align: right;\n",
       "    }\n",
       "</style>\n",
       "<table border=\"1\" class=\"dataframe\">\n",
       "  <thead>\n",
       "    <tr style=\"text-align: right;\">\n",
       "      <th></th>\n",
       "      <th>station_id</th>\n",
       "      <th>lat</th>\n",
       "      <th>long</th>\n",
       "      <th>zip_code</th>\n",
       "      <th>region</th>\n",
       "    </tr>\n",
       "  </thead>\n",
       "  <tbody>\n",
       "    <tr>\n",
       "      <th>0</th>\n",
       "      <td>2</td>\n",
       "      <td>37.329732</td>\n",
       "      <td>-121.901782</td>\n",
       "      <td>95113</td>\n",
       "      <td>San Jose</td>\n",
       "    </tr>\n",
       "    <tr>\n",
       "      <th>1</th>\n",
       "      <td>3</td>\n",
       "      <td>37.330698</td>\n",
       "      <td>-121.888979</td>\n",
       "      <td>95113</td>\n",
       "      <td>San Jose</td>\n",
       "    </tr>\n",
       "    <tr>\n",
       "      <th>2</th>\n",
       "      <td>4</td>\n",
       "      <td>37.333988</td>\n",
       "      <td>-121.894902</td>\n",
       "      <td>95113</td>\n",
       "      <td>San Jose</td>\n",
       "    </tr>\n",
       "    <tr>\n",
       "      <th>3</th>\n",
       "      <td>5</td>\n",
       "      <td>37.331415</td>\n",
       "      <td>-121.893200</td>\n",
       "      <td>95113</td>\n",
       "      <td>San Jose</td>\n",
       "    </tr>\n",
       "    <tr>\n",
       "      <th>4</th>\n",
       "      <td>6</td>\n",
       "      <td>37.336721</td>\n",
       "      <td>-121.894074</td>\n",
       "      <td>95113</td>\n",
       "      <td>San Jose</td>\n",
       "    </tr>\n",
       "  </tbody>\n",
       "</table>\n",
       "</div>"
      ],
      "text/plain": [
       "   station_id        lat        long  zip_code    region\n",
       "0           2  37.329732 -121.901782     95113  San Jose\n",
       "1           3  37.330698 -121.888979     95113  San Jose\n",
       "2           4  37.333988 -121.894902     95113  San Jose\n",
       "3           5  37.331415 -121.893200     95113  San Jose\n",
       "4           6  37.336721 -121.894074     95113  San Jose"
      ]
     },
     "execution_count": 8,
     "metadata": {},
     "output_type": "execute_result"
    }
   ],
   "source": [
    "stations = pd.read_csv('../../clean_data/bayareabikeshare/station_data_cleaned.csv', index_col=0, parse_dates=['first_service_date', 'last_service_date'])\n",
    "stations = stations[['station_id', 'lat', 'long', 'zip_code', 'region']].copy()\n",
    "stations.head()"
   ]
  },
  {
   "cell_type": "markdown",
   "metadata": {},
   "source": [
    "# Load DarkSky Data"
   ]
  },
  {
   "cell_type": "code",
   "execution_count": 9,
   "metadata": {
    "scrolled": true
   },
   "outputs": [
    {
     "name": "stdout",
     "output_type": "stream",
     "text": [
      "[17:20:10.373045] Started Loading Station Data...\n",
      "[17:20:10.725880] Finished file! (1 of 66114)\n",
      "[17:20:13.830030] Finished file! (1001 of 66114)\n",
      "[17:20:16.665645] Finished file! (2001 of 66114)\n",
      "[17:20:19.528711] Finished file! (3001 of 66114)\n",
      "[17:20:22.445508] Finished file! (4001 of 66114)\n",
      "[17:20:25.369432] Finished file! (5001 of 66114)\n",
      "[17:20:28.198432] Finished file! (6001 of 66114)\n",
      "[17:20:31.614249] Finished file! (7001 of 66114)\n",
      "[17:20:34.688874] Finished file! (8001 of 66114)\n",
      "[17:20:37.601852] Finished file! (9001 of 66114)\n",
      "[17:20:40.478447] Finished file! (10001 of 66114)\n",
      "[17:20:44.085477] Finished file! (11001 of 66114)\n",
      "[17:20:47.842391] Finished file! (12001 of 66114)\n",
      "[17:20:51.692309] Finished file! (13001 of 66114)\n",
      "[17:20:55.404211] Finished file! (14001 of 66114)\n",
      "[17:20:59.080181] Finished file! (15001 of 66114)\n",
      "[17:21:03.331321] Finished file! (16001 of 66114)\n",
      "[17:21:07.026338] Finished file! (17001 of 66114)\n",
      "[17:21:10.748036] Finished file! (18001 of 66114)\n",
      "[17:21:14.542124] Finished file! (19001 of 66114)\n",
      "[17:21:18.371369] Finished file! (20001 of 66114)\n",
      "[17:21:23.803027] Finished file! (21001 of 66114)\n",
      "[17:21:27.993263] Finished file! (22001 of 66114)\n",
      "[17:21:32.345016] Finished file! (23001 of 66114)\n",
      "[17:21:36.062173] Finished file! (24001 of 66114)\n",
      "[17:21:39.752411] Finished file! (25001 of 66114)\n",
      "[17:21:43.404188] Finished file! (26001 of 66114)\n",
      "[17:21:47.854452] Finished file! (27001 of 66114)\n",
      "[17:21:52.315643] Finished file! (28001 of 66114)\n",
      "[17:21:56.997805] Finished file! (29001 of 66114)\n",
      "[17:22:02.771498] Finished file! (30001 of 66114)\n",
      "[17:22:07.430950] Finished file! (31001 of 66114)\n",
      "[17:22:11.154307] Finished file! (32001 of 66114)\n",
      "[17:22:15.606348] Finished file! (33001 of 66114)\n",
      "[17:22:19.488934] Finished file! (34001 of 66114)\n",
      "[17:22:23.490662] Finished file! (35001 of 66114)\n",
      "[17:22:27.249487] Finished file! (36001 of 66114)\n",
      "[17:22:32.556600] Finished file! (37001 of 66114)\n",
      "[17:22:37.267406] Finished file! (38001 of 66114)\n",
      "[17:22:42.099538] Finished file! (39001 of 66114)\n",
      "[17:22:48.594168] Finished file! (40001 of 66114)\n",
      "[17:22:52.530552] Finished file! (41001 of 66114)\n",
      "[17:22:57.560219] Finished file! (42001 of 66114)\n",
      "[17:23:03.439970] Finished file! (43001 of 66114)\n",
      "[17:23:08.414215] Finished file! (44001 of 66114)\n",
      "[17:23:12.921406] Finished file! (45001 of 66114)\n",
      "[17:23:16.734757] Finished file! (46001 of 66114)\n",
      "[17:23:20.800098] Finished file! (47001 of 66114)\n",
      "[17:23:25.243806] Finished file! (48001 of 66114)\n",
      "[17:23:29.516825] Finished file! (49001 of 66114)\n",
      "[17:23:34.713193] Finished file! (50001 of 66114)\n",
      "[17:23:40.102307] Finished file! (51001 of 66114)\n",
      "[17:23:45.992940] Finished file! (52001 of 66114)\n",
      "[17:23:50.275683] Finished file! (53001 of 66114)\n",
      "[17:23:54.333904] Finished file! (54001 of 66114)\n",
      "[17:23:58.388553] Finished file! (55001 of 66114)\n",
      "[17:24:04.150803] Finished file! (56001 of 66114)\n",
      "[17:24:09.854085] Finished file! (57001 of 66114)\n",
      "[17:24:15.155993] Finished file! (58001 of 66114)\n",
      "[17:24:19.698705] Finished file! (59001 of 66114)\n",
      "[17:24:24.725821] Finished file! (60001 of 66114)\n",
      "[17:24:29.050196] Finished file! (61001 of 66114)\n",
      "[17:24:33.533100] Finished file! (62001 of 66114)\n",
      "[17:24:37.883424] Finished file! (63001 of 66114)\n",
      "[17:24:41.762956] Finished file! (64001 of 66114)\n",
      "[17:24:46.086375] Finished file! (65001 of 66114)\n",
      "[17:24:50.223558] Finished file! (66001 of 66114)\n",
      "[17:24:50.759486] concatenating chunks...\n",
      "[17:27:30.828618] Data Loaded Successfully!\n"
     ]
    }
   ],
   "source": [
    "weather_df = csv_chunk_importer(file_path_slug='../../source_data/darksky/*.csv', drop_dups=True)"
   ]
  },
  {
   "cell_type": "code",
   "execution_count": null,
   "metadata": {},
   "outputs": [],
   "source": [
    "# print('Started Loading Weather Data...')\n",
    "# file_path_slug = '../../source_data/darksky/*.csv'\n",
    "# file_list = glob(file_path_slug)\n",
    "\n",
    "# weather_df = pd.DataFrame()\n",
    "\n",
    "# num_files = len(file_list)\n",
    "# chunks = []\n",
    "\n",
    "# for i, file in enumerate(file_list):\n",
    "\n",
    "#     chunk = pd.read_csv(file, index_col=0, parse_dates=['time_corrected'])\n",
    "    \n",
    "    \n",
    "#     chunks.append(chunk)\n",
    "    \n",
    "#     if (i + 1) == 1 or (i + 1) % math.ceil(num_files/10) == 0 or (i + 1) == num_files:\n",
    "#         print('\\t[%s] finished chunk %s of %s' % (datetime.datetime.now().time(), str(i+1).rjust(8), str(num_files).rjust(8)))\n",
    "\n",
    "    \n",
    "# weather_df = pd.concat(chunks)\n",
    "\n",
    "# weather_df.drop_duplicates(inplace=True)\n",
    "# weather_df.reset_index(inplace=True, drop=True)\n",
    "\n",
    "# print('Data Loaded Successfully!')"
   ]
  },
  {
   "cell_type": "code",
   "execution_count": 10,
   "metadata": {},
   "outputs": [
    {
     "data": {
      "text/html": [
       "<div>\n",
       "<style scoped>\n",
       "    .dataframe tbody tr th:only-of-type {\n",
       "        vertical-align: middle;\n",
       "    }\n",
       "\n",
       "    .dataframe tbody tr th {\n",
       "        vertical-align: top;\n",
       "    }\n",
       "\n",
       "    .dataframe thead th {\n",
       "        text-align: right;\n",
       "    }\n",
       "</style>\n",
       "<table border=\"1\" class=\"dataframe\">\n",
       "  <thead>\n",
       "    <tr style=\"text-align: right;\">\n",
       "      <th></th>\n",
       "      <th>Unnamed: 0</th>\n",
       "      <th>apparentTemperature</th>\n",
       "      <th>cloudCover</th>\n",
       "      <th>daily_icon</th>\n",
       "      <th>daily_summary</th>\n",
       "      <th>dewPoint</th>\n",
       "      <th>hourly_icon</th>\n",
       "      <th>hourly_summary</th>\n",
       "      <th>humidity</th>\n",
       "      <th>latitude</th>\n",
       "      <th>...</th>\n",
       "      <th>precipIntensity</th>\n",
       "      <th>precipProbability</th>\n",
       "      <th>precipType</th>\n",
       "      <th>pressure</th>\n",
       "      <th>temperature</th>\n",
       "      <th>time</th>\n",
       "      <th>time_corrected</th>\n",
       "      <th>visibility</th>\n",
       "      <th>windBearing</th>\n",
       "      <th>windSpeed</th>\n",
       "    </tr>\n",
       "  </thead>\n",
       "  <tbody>\n",
       "    <tr>\n",
       "      <th>0</th>\n",
       "      <td>0</td>\n",
       "      <td>53.93</td>\n",
       "      <td>0.31</td>\n",
       "      <td>rain</td>\n",
       "      <td>Heavy rain starting overnight, continuing unti...</td>\n",
       "      <td>50.44</td>\n",
       "      <td>partly-cloudy-night</td>\n",
       "      <td>Partly Cloudy</td>\n",
       "      <td>0.88</td>\n",
       "      <td>37.795392</td>\n",
       "      <td>...</td>\n",
       "      <td>0.0059</td>\n",
       "      <td>0.59</td>\n",
       "      <td>rain</td>\n",
       "      <td>1012.43</td>\n",
       "      <td>53.93</td>\n",
       "      <td>1418716800</td>\n",
       "      <td>2014-12-16 00:00:00</td>\n",
       "      <td>9.29</td>\n",
       "      <td>131.0</td>\n",
       "      <td>10.26</td>\n",
       "    </tr>\n",
       "    <tr>\n",
       "      <th>1</th>\n",
       "      <td>1</td>\n",
       "      <td>54.72</td>\n",
       "      <td>NaN</td>\n",
       "      <td>rain</td>\n",
       "      <td>Heavy rain starting overnight, continuing unti...</td>\n",
       "      <td>50.83</td>\n",
       "      <td>clear-night</td>\n",
       "      <td>Clear</td>\n",
       "      <td>0.87</td>\n",
       "      <td>37.795392</td>\n",
       "      <td>...</td>\n",
       "      <td>0.0059</td>\n",
       "      <td>0.59</td>\n",
       "      <td>rain</td>\n",
       "      <td>1012.13</td>\n",
       "      <td>54.72</td>\n",
       "      <td>1418720400</td>\n",
       "      <td>2014-12-16 01:00:00</td>\n",
       "      <td>8.41</td>\n",
       "      <td>146.0</td>\n",
       "      <td>8.84</td>\n",
       "    </tr>\n",
       "    <tr>\n",
       "      <th>2</th>\n",
       "      <td>2</td>\n",
       "      <td>53.94</td>\n",
       "      <td>NaN</td>\n",
       "      <td>rain</td>\n",
       "      <td>Heavy rain starting overnight, continuing unti...</td>\n",
       "      <td>50.07</td>\n",
       "      <td>clear-night</td>\n",
       "      <td>Clear</td>\n",
       "      <td>0.87</td>\n",
       "      <td>37.795392</td>\n",
       "      <td>...</td>\n",
       "      <td>0.0112</td>\n",
       "      <td>0.85</td>\n",
       "      <td>rain</td>\n",
       "      <td>1012.32</td>\n",
       "      <td>53.94</td>\n",
       "      <td>1418724000</td>\n",
       "      <td>2014-12-16 02:00:00</td>\n",
       "      <td>8.11</td>\n",
       "      <td>149.0</td>\n",
       "      <td>8.02</td>\n",
       "    </tr>\n",
       "    <tr>\n",
       "      <th>3</th>\n",
       "      <td>3</td>\n",
       "      <td>53.86</td>\n",
       "      <td>0.31</td>\n",
       "      <td>rain</td>\n",
       "      <td>Heavy rain starting overnight, continuing unti...</td>\n",
       "      <td>51.22</td>\n",
       "      <td>rain</td>\n",
       "      <td>Rain</td>\n",
       "      <td>0.91</td>\n",
       "      <td>37.795392</td>\n",
       "      <td>...</td>\n",
       "      <td>0.1668</td>\n",
       "      <td>0.85</td>\n",
       "      <td>rain</td>\n",
       "      <td>1012.71</td>\n",
       "      <td>53.86</td>\n",
       "      <td>1418727600</td>\n",
       "      <td>2014-12-16 03:00:00</td>\n",
       "      <td>8.29</td>\n",
       "      <td>149.0</td>\n",
       "      <td>7.16</td>\n",
       "    </tr>\n",
       "    <tr>\n",
       "      <th>4</th>\n",
       "      <td>4</td>\n",
       "      <td>53.78</td>\n",
       "      <td>0.75</td>\n",
       "      <td>rain</td>\n",
       "      <td>Heavy rain starting overnight, continuing unti...</td>\n",
       "      <td>51.19</td>\n",
       "      <td>rain</td>\n",
       "      <td>Rain</td>\n",
       "      <td>0.91</td>\n",
       "      <td>37.795392</td>\n",
       "      <td>...</td>\n",
       "      <td>0.1323</td>\n",
       "      <td>0.85</td>\n",
       "      <td>rain</td>\n",
       "      <td>1012.64</td>\n",
       "      <td>53.78</td>\n",
       "      <td>1418731200</td>\n",
       "      <td>2014-12-16 04:00:00</td>\n",
       "      <td>9.47</td>\n",
       "      <td>129.0</td>\n",
       "      <td>9.66</td>\n",
       "    </tr>\n",
       "  </tbody>\n",
       "</table>\n",
       "<p>5 rows × 22 columns</p>\n",
       "</div>"
      ],
      "text/plain": [
       "   Unnamed: 0  apparentTemperature  cloudCover daily_icon  \\\n",
       "0           0                53.93        0.31       rain   \n",
       "1           1                54.72         NaN       rain   \n",
       "2           2                53.94         NaN       rain   \n",
       "3           3                53.86        0.31       rain   \n",
       "4           4                53.78        0.75       rain   \n",
       "\n",
       "                                       daily_summary  dewPoint  \\\n",
       "0  Heavy rain starting overnight, continuing unti...     50.44   \n",
       "1  Heavy rain starting overnight, continuing unti...     50.83   \n",
       "2  Heavy rain starting overnight, continuing unti...     50.07   \n",
       "3  Heavy rain starting overnight, continuing unti...     51.22   \n",
       "4  Heavy rain starting overnight, continuing unti...     51.19   \n",
       "\n",
       "           hourly_icon hourly_summary  humidity   latitude    ...      \\\n",
       "0  partly-cloudy-night  Partly Cloudy      0.88  37.795392    ...       \n",
       "1          clear-night          Clear      0.87  37.795392    ...       \n",
       "2          clear-night          Clear      0.87  37.795392    ...       \n",
       "3                 rain           Rain      0.91  37.795392    ...       \n",
       "4                 rain           Rain      0.91  37.795392    ...       \n",
       "\n",
       "   precipIntensity  precipProbability  precipType  pressure temperature  \\\n",
       "0           0.0059               0.59        rain   1012.43       53.93   \n",
       "1           0.0059               0.59        rain   1012.13       54.72   \n",
       "2           0.0112               0.85        rain   1012.32       53.94   \n",
       "3           0.1668               0.85        rain   1012.71       53.86   \n",
       "4           0.1323               0.85        rain   1012.64       53.78   \n",
       "\n",
       "         time       time_corrected  visibility windBearing  windSpeed  \n",
       "0  1418716800  2014-12-16 00:00:00        9.29       131.0      10.26  \n",
       "1  1418720400  2014-12-16 01:00:00        8.41       146.0       8.84  \n",
       "2  1418724000  2014-12-16 02:00:00        8.11       149.0       8.02  \n",
       "3  1418727600  2014-12-16 03:00:00        8.29       149.0       7.16  \n",
       "4  1418731200  2014-12-16 04:00:00        9.47       129.0       9.66  \n",
       "\n",
       "[5 rows x 22 columns]"
      ]
     },
     "execution_count": 10,
     "metadata": {},
     "output_type": "execute_result"
    }
   ],
   "source": [
    "weather_df.head()"
   ]
  },
  {
   "cell_type": "code",
   "execution_count": 11,
   "metadata": {
    "scrolled": false
   },
   "outputs": [
    {
     "name": "stdout",
     "output_type": "stream",
     "text": [
      "<class 'pandas.core.frame.DataFrame'>\n",
      "RangeIndex: 1586743 entries, 0 to 1586742\n",
      "Data columns (total 22 columns):\n",
      "Unnamed: 0             1586743 non-null int64\n",
      "apparentTemperature    1586743 non-null float64\n",
      "cloudCover             1363580 non-null float64\n",
      "daily_icon             1586743 non-null object\n",
      "daily_summary          1586743 non-null object\n",
      "dewPoint               1586743 non-null float64\n",
      "hourly_icon            1586743 non-null object\n",
      "hourly_summary         1586743 non-null object\n",
      "humidity               1586743 non-null float64\n",
      "latitude               1586743 non-null float64\n",
      "longitude              1586743 non-null float64\n",
      "offset                 1586743 non-null int64\n",
      "precipIntensity        1586743 non-null float64\n",
      "precipProbability      1586743 non-null float64\n",
      "precipType             88330 non-null object\n",
      "pressure               1586743 non-null float64\n",
      "temperature            1586743 non-null float64\n",
      "time                   1586743 non-null int64\n",
      "time_corrected         1586743 non-null object\n",
      "visibility             1586743 non-null float64\n",
      "windBearing            1586186 non-null float64\n",
      "windSpeed              1586314 non-null float64\n",
      "dtypes: float64(13), int64(3), object(6)\n",
      "memory usage: 266.3+ MB\n"
     ]
    }
   ],
   "source": [
    "weather_df.info()"
   ]
  },
  {
   "cell_type": "markdown",
   "metadata": {},
   "source": [
    "## Merge subset of `Station Data` to weather records"
   ]
  },
  {
   "cell_type": "code",
   "execution_count": null,
   "metadata": {},
   "outputs": [],
   "source": [
    "weather = weather_df.merge(stations, left_on=['latitude', 'longitude'], right_on=['lat', 'long'], how='left')"
   ]
  },
  {
   "cell_type": "markdown",
   "metadata": {},
   "source": [
    "## Encode `precipType`\n",
    "<p>Change to `is_raining` as either True or False</p>"
   ]
  },
  {
   "cell_type": "code",
   "execution_count": null,
   "metadata": {
    "scrolled": true
   },
   "outputs": [],
   "source": [
    "weather.precipType.fillna(0, inplace=True)\n",
    "weather.precipType = weather.precipType.apply(lambda x: False if x == 0 else True)\n",
    "\n",
    "weather.rename(columns={'precipType': 'is_raining'}, inplace=True)"
   ]
  },
  {
   "cell_type": "code",
   "execution_count": null,
   "metadata": {},
   "outputs": [],
   "source": [
    "weather.drop(['latitude', 'longitude'], axis=1, inplace=True)\n",
    "weather.fillna(0, inplace=True)\n",
    "weather.info()"
   ]
  },
  {
   "cell_type": "markdown",
   "metadata": {},
   "source": [
    "# Write to File by Region and by Station"
   ]
  },
  {
   "cell_type": "code",
   "execution_count": null,
   "metadata": {},
   "outputs": [],
   "source": [
    "for z in weather.zip_code.unique():\n",
    "    region = zip_to_landmark(z)\n",
    "    \n",
    "    # get dataframe on just weather in region\n",
    "    region_weather = weather[weather.zip_code == z].copy()\n",
    "    region_weather.reset_index(inplace=True, drop=True)\n",
    "    region_weather.to_csv('../../clean_data/darksky/%s_darksky_cleaned.csv' % region.lower().replace(' ', ''))\n",
    "    \n",
    "    tm('Finished {}'.format(region))"
   ]
  },
  {
   "cell_type": "markdown",
   "metadata": {},
   "source": [
    "# Regional Temperatures"
   ]
  },
  {
   "cell_type": "code",
   "execution_count": null,
   "metadata": {
    "scrolled": false
   },
   "outputs": [],
   "source": [
    "df = weather.copy()\n",
    "df.sort_values('time_corrected', inplace=True)\n",
    "df.set_index('time_corrected', inplace=True)    \n",
    "df = df.groupby(df.index).mean()\n",
    "\n",
    "df = df.resample('1H').mean()\n",
    "\n",
    "plt.subplots(figsize=FIG_SIZE)\n",
    "ax = df.rolling('30D').median().apparentTemperature.plot(color='c', label='Rolling Median')\n",
    "df.rolling('30D').mean().apparentTemperature.plot(color='g', ax=ax, label='Rolling Mean')\n",
    "\n",
    "title = 'Bay Area Temperature Trends'\n",
    "ax.set_title(title, size=TITLE_FONT_SIZE)\n",
    "ax.set_ylabel('Temperature (F)', size=LABEL_FONT_SIZE)\n",
    "ax.set_xlabel('')\n",
    "\n",
    "ax.set_ylim([45, 70])\n",
    "ax.set_yticks([y for y in range(45, 75, 5)])\n",
    "\n",
    "for y in [y for y in range(45, 75, 5)]:\n",
    "    ax.axhline(y, linestyle=':', color='k', alpha=0.15)\n",
    "\n",
    "ax.legend(loc=4, frameon=True)\n",
    "ax.grid(False)\n",
    "\n",
    "plt.savefig('../../charts/bay_area_temperature_trends.png')\n",
    "plt.show()\n",
    "plt.close()"
   ]
  },
  {
   "cell_type": "code",
   "execution_count": null,
   "metadata": {},
   "outputs": [],
   "source": []
  }
 ],
 "metadata": {
  "kernelspec": {
   "display_name": "Python 3",
   "language": "python",
   "name": "python3"
  },
  "language_info": {
   "codemirror_mode": {
    "name": "ipython",
    "version": 3
   },
   "file_extension": ".py",
   "mimetype": "text/x-python",
   "name": "python",
   "nbconvert_exporter": "python",
   "pygments_lexer": "ipython3",
   "version": "3.6.3"
  }
 },
 "nbformat": 4,
 "nbformat_minor": 2
}
