{
 "cells": [
  {
   "cell_type": "markdown",
   "metadata": {},
   "source": [
    "# Data Investigation - Status Data"
   ]
  },
  {
   "cell_type": "code",
   "execution_count": 1,
   "metadata": {
    "collapsed": true
   },
   "outputs": [],
   "source": [
    "%matplotlib inline\n",
    "\n",
    "import matplotlib\n",
    "import numpy as np\n",
    "from scipy import stats\n",
    "import math\n",
    "import matplotlib.pyplot as plt\n",
    "import pandas as pd\n",
    "from glob import glob\n",
    "import datetime\n",
    "import math\n",
    "\n",
    "import seaborn as sns\n",
    "sns.set()"
   ]
  },
  {
   "cell_type": "code",
   "execution_count": 2,
   "metadata": {},
   "outputs": [
    {
     "data": {
      "text/html": [
       "<style>.container { width:95% !important; }</style>"
      ],
      "text/plain": [
       "<IPython.core.display.HTML object>"
      ]
     },
     "metadata": {},
     "output_type": "display_data"
    }
   ],
   "source": [
    "from IPython.core.display import display, HTML\n",
    "display(HTML(\"<style>.container { width:95% !important; }</style>\"))\n",
    "\n",
    "font = {'size'   : 50}\n",
    "matplotlib.rc('font', **font)\n",
    "\n",
    "LABEL_FONT_SIZE = 15\n",
    "TITLE_FONT_SIZE = 25"
   ]
  },
  {
   "cell_type": "markdown",
   "metadata": {},
   "source": [
    "### Import Data"
   ]
  },
  {
   "cell_type": "code",
   "execution_count": 3,
   "metadata": {},
   "outputs": [
    {
     "name": "stdout",
     "output_type": "stream",
     "text": [
      "\t[00:39:16.209030] finished chunk 1 of 2175\n",
      "\t[00:39:23.961999] finished chunk 218 of 2175\n",
      "\t[00:39:32.016854] finished chunk 436 of 2175\n",
      "\t[00:39:39.006497] finished chunk 654 of 2175\n",
      "\t[00:39:49.481512] finished chunk 872 of 2175\n",
      "\t[00:39:58.253968] finished chunk 1090 of 2175\n",
      "\t[00:40:06.792466] finished chunk 1308 of 2175\n",
      "\t[00:40:14.782744] finished chunk 1526 of 2175\n",
      "\t[00:40:23.302743] finished chunk 1744 of 2175\n",
      "\t[00:40:31.962569] finished chunk 1962 of 2175\n",
      "\t[00:40:39.556371] finished chunk 2175 of 2175\n",
      "<class 'pandas.core.frame.DataFrame'>\n",
      "DatetimeIndex: 21747135 entries, 2013-08-29 12:05:00 to 2016-08-31 23:55:00\n",
      "Data columns (total 5 columns):\n",
      "station_id         int64\n",
      "bikes_available    float64\n",
      "docks_available    float64\n",
      "dock_count         int64\n",
      "utilization        float64\n",
      "dtypes: float64(3), int64(2)\n",
      "memory usage: 995.5 MB\n"
     ]
    }
   ],
   "source": [
    "file = '../clean_data/status_data_cleaned_5m_final.csv'\n",
    "\n",
    "chunks = []\n",
    "chunk_counter = 1\n",
    "chunksize = 10000\n",
    "num_chunks = math.ceil(sum(1 for row in open(file, 'r'))/chunksize)\n",
    "\n",
    "# import file in chunks\n",
    "for chunk in pd.read_csv(file, chunksize=chunksize, iterator=True, parse_dates=['time'], index_col=0):\n",
    "\n",
    "    # append chunk to chunks list\n",
    "    chunks.append(chunk)\n",
    "\n",
    "    if chunk_counter == 1 or chunk_counter % math.ceil(num_chunks/10) == 0 or chunk_counter == num_chunks:\n",
    "        print('\\t[%s] finished chunk %s of %s' % (datetime.datetime.now().time(), chunk_counter, num_chunks))\n",
    "    chunk_counter += 1\n",
    "    \n",
    "status_data = pd.DataFrame()\n",
    "status_data = pd.concat(chunks)\n",
    "\n",
    "status_data.set_index('time', inplace=True)\n",
    "status_data.info()"
   ]
  },
  {
   "cell_type": "code",
   "execution_count": 4,
   "metadata": {},
   "outputs": [
    {
     "data": {
      "text/html": [
       "<div>\n",
       "<style>\n",
       "    .dataframe thead tr:only-child th {\n",
       "        text-align: right;\n",
       "    }\n",
       "\n",
       "    .dataframe thead th {\n",
       "        text-align: left;\n",
       "    }\n",
       "\n",
       "    .dataframe tbody tr th {\n",
       "        vertical-align: top;\n",
       "    }\n",
       "</style>\n",
       "<table border=\"1\" class=\"dataframe\">\n",
       "  <thead>\n",
       "    <tr style=\"text-align: right;\">\n",
       "      <th></th>\n",
       "      <th>station_id</th>\n",
       "      <th>bikes_available</th>\n",
       "      <th>docks_available</th>\n",
       "      <th>dock_count</th>\n",
       "      <th>utilization</th>\n",
       "    </tr>\n",
       "    <tr>\n",
       "      <th>time</th>\n",
       "      <th></th>\n",
       "      <th></th>\n",
       "      <th></th>\n",
       "      <th></th>\n",
       "      <th></th>\n",
       "    </tr>\n",
       "  </thead>\n",
       "  <tbody>\n",
       "    <tr>\n",
       "      <th>2013-08-29 12:05:00</th>\n",
       "      <td>2</td>\n",
       "      <td>2.0</td>\n",
       "      <td>25.0</td>\n",
       "      <td>27</td>\n",
       "      <td>0.925926</td>\n",
       "    </tr>\n",
       "    <tr>\n",
       "      <th>2013-08-29 12:10:00</th>\n",
       "      <td>2</td>\n",
       "      <td>2.0</td>\n",
       "      <td>25.0</td>\n",
       "      <td>27</td>\n",
       "      <td>0.925926</td>\n",
       "    </tr>\n",
       "    <tr>\n",
       "      <th>2013-08-29 12:15:00</th>\n",
       "      <td>2</td>\n",
       "      <td>2.0</td>\n",
       "      <td>25.0</td>\n",
       "      <td>27</td>\n",
       "      <td>0.925926</td>\n",
       "    </tr>\n",
       "  </tbody>\n",
       "</table>\n",
       "</div>"
      ],
      "text/plain": [
       "                     station_id  bikes_available  docks_available  dock_count  \\\n",
       "time                                                                            \n",
       "2013-08-29 12:05:00           2              2.0             25.0          27   \n",
       "2013-08-29 12:10:00           2              2.0             25.0          27   \n",
       "2013-08-29 12:15:00           2              2.0             25.0          27   \n",
       "\n",
       "                     utilization  \n",
       "time                              \n",
       "2013-08-29 12:05:00     0.925926  \n",
       "2013-08-29 12:10:00     0.925926  \n",
       "2013-08-29 12:15:00     0.925926  "
      ]
     },
     "execution_count": 4,
     "metadata": {},
     "output_type": "execute_result"
    }
   ],
   "source": [
    "status_data.head(3)"
   ]
  },
  {
   "cell_type": "code",
   "execution_count": 5,
   "metadata": {},
   "outputs": [
    {
     "data": {
      "image/png": "[encoded data removed]",
      "text/plain": [
       "<matplotlib.figure.Figure at 0x112342128>"
      ]
     },
     "metadata": {},
     "output_type": "display_data"
    }
   ],
   "source": [
    "status_data[status_data.station_id == 73].groupby('station_id').dock_count.plot(figsize=(16,4))\n",
    "plt.show()"
   ]
  },
  {
   "cell_type": "code",
   "execution_count": 6,
   "metadata": {
    "collapsed": true
   },
   "outputs": [],
   "source": [
    "station_73_pre  = status_data[(status_data.station_id == 73) & (status_data.dock_count == 15)]\n",
    "station_73_post = status_data[(status_data.station_id == 73) & (status_data.dock_count == 19)]"
   ]
  },
  {
   "cell_type": "code",
   "execution_count": 7,
   "metadata": {
    "collapsed": true
   },
   "outputs": [],
   "source": [
    "def hypothesis_test(A, B):\n",
    "    # calculate Means\n",
    "    A_data = A.copy()\n",
    "    B_data = B.copy()\n",
    "\n",
    "    A_mean = A_data.mean()\n",
    "    B_mean = B_data.mean()\n",
    "    diff_mean = A_mean - B_mean\n",
    "\n",
    "    # Variance\n",
    "    A_var = A_data.var()\n",
    "    B_var = B_data.var()\n",
    "\n",
    "    # Length\n",
    "    A_count = len(A_data)\n",
    "    B_count = len(B_data)\n",
    "    \n",
    "    # Junk\n",
    "    A_sum = A_data.sum()\n",
    "    B_sum = B_data.sum()\n",
    "\n",
    "    # Standard Deviation\n",
    "    std_error = math.sqrt(A_var/A_count + B_var/B_count)\n",
    "\n",
    "    # Margin of Error\n",
    "    margin = 1.96*std_error\n",
    "\n",
    "    # calculate t statistic and p value with scipy\n",
    "    t, p = stats.ttest_ind(A_data, B_data)\n",
    "\n",
    "    reject_null = False\n",
    "\n",
    "    if p < 0.05:\n",
    "        reject_null = True\n",
    "    else:\n",
    "        reject_null = False\n",
    "\n",
    "    result = [A_mean, B_mean, A_sum, B_sum, A_count, B_count, diff_mean, std_error, margin, t, p, reject_null]\n",
    "\n",
    "    return result"
   ]
  },
  {
   "cell_type": "markdown",
   "metadata": {},
   "source": [
    "## Station 73 Overall Usage Before and After Expansion"
   ]
  },
  {
   "cell_type": "code",
   "execution_count": 8,
   "metadata": {},
   "outputs": [
    {
     "name": "stdout",
     "output_type": "stream",
     "text": [
      "Station 73 Before and After Expansion - Utilization\n",
      "--------------------------------------------------------------------------------\n",
      "Station Pre Expansion Mean Utilization\t\t0.47956\n",
      "Station Post Expansion Mean Utilization\t\t0.42022\n",
      "Difference of Means\t\t\t\t0.05934\n",
      "Standard Error\t\t\t\t\t0.00085\n",
      "Margin of Error\t\t\t\t\t0.00166\n",
      "T-Score\t\t\t\t\t\t70.01692\n",
      "P-Value\t\t\t\t\t\t0.0\n",
      "Can Reject Null\t\t\tTrue\n"
     ]
    }
   ],
   "source": [
    "# Station 73 Utilization\n",
    "\n",
    "data_A = station_73_pre.utilization\n",
    "data_B = station_73_post.utilization\n",
    "\n",
    "station_test_results  = hypothesis_test(data_A, data_B)\n",
    "print('Station 73 Before and After Expansion - Utilization')\n",
    "print('-' * 80)\n",
    "print('Station Pre Expansion Mean Utilization\\t\\t%0.5f'   % station_test_results[0])\n",
    "print('Station Post Expansion Mean Utilization\\t\\t%0.5f'  % station_test_results[1])\n",
    "print('Difference of Means\\t\\t\\t\\t%0.5f'         % station_test_results[6])\n",
    "print('Standard Error\\t\\t\\t\\t\\t%0.5f'            % station_test_results[7])\n",
    "print('Margin of Error\\t\\t\\t\\t\\t%0.5f'           % station_test_results[8])\n",
    "print('T-Score\\t\\t\\t\\t\\t\\t%0.5f'                 % station_test_results[9])\n",
    "print('P-Value\\t\\t\\t\\t\\t\\t%s'                    % station_test_results[10])\n",
    "print('Can Reject Null\\t\\t\\t%s'                  % station_test_results[11])"
   ]
  },
  {
   "cell_type": "code",
   "execution_count": 9,
   "metadata": {},
   "outputs": [
    {
     "name": "stdout",
     "output_type": "stream",
     "text": [
      "Station 73 Before and After Expansion - Bikes Available\n",
      "--------------------------------------------------------------------------------\n",
      "Station Pre Expansion Mean Avaiable Bike Count\t\t7.78900\n",
      "Station Post Expansion Mean Avaiable Bike Count\t\t8.09316\n",
      "Difference of Means\t\t\t\t\t-0.30415\n",
      "Standard Error\t\t\t\t\t\t0.01434\n",
      "Margin of Error\t\t\t\t\t\t0.02811\n",
      "T-Score\t\t\t\t\t\t\t-21.80973\n",
      "P-Value\t\t\t\t\t\t\t2.24686384718e-105\n",
      "Can Reject Null\t\t\t\tTrue\n"
     ]
    }
   ],
   "source": [
    "# Station 73 Utilization\n",
    "\n",
    "data_A = station_73_pre.bikes_available\n",
    "data_B = station_73_post.bikes_available\n",
    "\n",
    "station_test_results  = hypothesis_test(data_A, data_B)\n",
    "print('Station 73 Before and After Expansion - Bikes Available')\n",
    "print('-' * 80)\n",
    "print('Station Pre Expansion Mean Avaiable Bike Count\\t\\t%0.5f'   % station_test_results[0])\n",
    "print('Station Post Expansion Mean Avaiable Bike Count\\t\\t%0.5f'  % station_test_results[1])\n",
    "print('Difference of Means\\t\\t\\t\\t\\t%0.5f'         % station_test_results[6])\n",
    "print('Standard Error\\t\\t\\t\\t\\t\\t%0.5f'            % station_test_results[7])\n",
    "print('Margin of Error\\t\\t\\t\\t\\t\\t%0.5f'           % station_test_results[8])\n",
    "print('T-Score\\t\\t\\t\\t\\t\\t\\t%0.5f'                 % station_test_results[9])\n",
    "print('P-Value\\t\\t\\t\\t\\t\\t\\t%s'                    % station_test_results[10])\n",
    "print('Can Reject Null\\t\\t\\t\\t%s'                  % station_test_results[11])"
   ]
  },
  {
   "cell_type": "code",
   "execution_count": 10,
   "metadata": {},
   "outputs": [
    {
     "name": "stdout",
     "output_type": "stream",
     "text": [
      "Station 73 Before and After Expansion - Docks Available\n",
      "--------------------------------------------------------------------------------\n",
      "Station Pre Expansion Mean Avaiable Dock Count\t\t7.19340\n",
      "Station Post Expansion Mean Avaiable Dock Count\t\t7.98411\n",
      "Difference of Means\t\t\t\t\t-0.79072\n",
      "Standard Error\t\t\t\t\t\t0.01477\n",
      "Margin of Error\t\t\t\t\t\t0.02895\n",
      "T-Score\t\t\t\t\t\t\t-55.37624\n",
      "P-Value\t\t\t\t\t\t\t0.0\n",
      "Can Reject Null\t\t\t\tTrue\n"
     ]
    }
   ],
   "source": [
    "# Station 73 Utilization\n",
    "\n",
    "data_A = station_73_pre.docks_available\n",
    "data_B = station_73_post.docks_available\n",
    "\n",
    "station_test_results  = hypothesis_test(data_A, data_B)\n",
    "print('Station 73 Before and After Expansion - Docks Available')\n",
    "print('-' * 80)\n",
    "print('Station Pre Expansion Mean Avaiable Dock Count\\t\\t%0.5f'   % station_test_results[0])\n",
    "print('Station Post Expansion Mean Avaiable Dock Count\\t\\t%0.5f'  % station_test_results[1])\n",
    "print('Difference of Means\\t\\t\\t\\t\\t%0.5f'         % station_test_results[6])\n",
    "print('Standard Error\\t\\t\\t\\t\\t\\t%0.5f'            % station_test_results[7])\n",
    "print('Margin of Error\\t\\t\\t\\t\\t\\t%0.5f'           % station_test_results[8])\n",
    "print('T-Score\\t\\t\\t\\t\\t\\t\\t%0.5f'                 % station_test_results[9])\n",
    "print('P-Value\\t\\t\\t\\t\\t\\t\\t%s'                    % station_test_results[10])\n",
    "print('Can Reject Null\\t\\t\\t\\t%s'                  % station_test_results[11])"
   ]
  },
  {
   "cell_type": "markdown",
   "metadata": {},
   "source": [
    "## Station 73 Overall Usage Before and After Expansion - Morning Commute Hours Only"
   ]
  },
  {
   "cell_type": "code",
   "execution_count": 11,
   "metadata": {},
   "outputs": [
    {
     "name": "stdout",
     "output_type": "stream",
     "text": [
      "<class 'pandas.core.frame.DataFrame'>\n",
      "DatetimeIndex: 21747135 entries, 2013-08-29 12:05:00 to 2016-08-31 23:55:00\n",
      "Data columns (total 5 columns):\n",
      "station_id         int64\n",
      "bikes_available    float64\n",
      "docks_available    float64\n",
      "dock_count         int64\n",
      "utilization        float64\n",
      "dtypes: float64(3), int64(2)\n",
      "memory usage: 995.5 MB\n"
     ]
    }
   ],
   "source": [
    "status_data.info()"
   ]
  },
  {
   "cell_type": "code",
   "execution_count": 12,
   "metadata": {},
   "outputs": [
    {
     "name": "stdout",
     "output_type": "stream",
     "text": [
      "<class 'pandas.core.frame.DataFrame'>\n",
      "DatetimeIndex: 16508 entries, 2015-05-19 07:00:00 to 2016-08-31 11:00:00\n",
      "Data columns (total 5 columns):\n",
      "station_id         16508 non-null int64\n",
      "bikes_available    16508 non-null float64\n",
      "docks_available    16508 non-null float64\n",
      "dock_count         16508 non-null int64\n",
      "utilization        16508 non-null float64\n",
      "dtypes: float64(3), int64(2)\n",
      "memory usage: 773.8 KB\n"
     ]
    }
   ],
   "source": [
    "# prune only morning commute hours from subscribers [07:00 - 11:00]\n",
    "am_commute_start = datetime.datetime.strptime('07:00', '%H:%M').time()\n",
    "am_commute_end = datetime.datetime.strptime('11:00', '%H:%M').time()\n",
    "morning_commute_status = status_data.between_time(start_time=am_commute_start,\n",
    "                                                     end_time=am_commute_end,\n",
    "                                                     include_start=True,\n",
    "                                                     include_end=True)\n",
    "\n",
    "morning_commute_status = morning_commute_status[morning_commute_status.index.dayofweek < 5 ]\n",
    "\n",
    "\n",
    "morning_commute_station_73_pre  = morning_commute_status[(morning_commute_status.station_id == 73) & (morning_commute_status.dock_count == 15)]\n",
    "morning_commute_station_73_post = morning_commute_status[(morning_commute_status.station_id == 73) & (morning_commute_status.dock_count == 19)]\n",
    "\n",
    "morning_commute_station_73_post.info()"
   ]
  },
  {
   "cell_type": "code",
   "execution_count": 13,
   "metadata": {},
   "outputs": [
    {
     "name": "stdout",
     "output_type": "stream",
     "text": [
      "Station 73 Before and After Expansion - Utilization\n",
      "--------------------------------------------------------------------------------\n",
      "Station Pre Expansion Mean Utilization\t\t\t0.54754\n",
      "Station Post Expansion Mean Utilization\t\t\t0.48415\n",
      "Difference of Means\t\t\t\t\t0.06339\n",
      "Standard Error\t\t\t\t\t\t0.00266\n",
      "Margin of Error\t\t\t\t\t\t0.00521\n",
      "T-Score\t\t\t\t\t\t\t23.34471\n",
      "P-Value\t\t\t\t\t\t\t1.06793146288e-119\n",
      "Can Reject Null\t\t\t\tTrue\n",
      "\n",
      "Station 73 Before and After Expansion - Bikes Available\n",
      "--------------------------------------------------------------------------------\n",
      "Station Pre Expansion Mean Avaiable Bike Count\t\t6.75708\n",
      "Station Post Expansion Mean Avaiable Bike Count\t\t6.88658\n",
      "Difference of Means\t\t\t\t\t-0.12951\n",
      "Standard Error\t\t\t\t\t\t0.04603\n",
      "Margin of Error\t\t\t\t\t\t0.09021\n",
      "T-Score\t\t\t\t\t\t\t-2.85528\n",
      "P-Value\t\t\t\t\t\t\t0.00430221317577\n",
      "Can Reject Null\t\t\t\tTrue\n",
      "\n",
      "Station 73 Before and After Expansion - Docks Available\n",
      "--------------------------------------------------------------------------------\n",
      "Station Pre Expansion Mean Avaiable Dock Count\t\t8.21312\n",
      "Station Post Expansion Mean Avaiable Dock Count\t\t9.19886\n",
      "Difference of Means\t\t\t\t\t-0.98575\n",
      "Standard Error\t\t\t\t\t\t0.04549\n",
      "Margin of Error\t\t\t\t\t\t0.08917\n",
      "T-Score\t\t\t\t\t\t\t-21.93544\n",
      "P-Value\t\t\t\t\t\t\t5.35715668811e-106\n",
      "Can Reject Null\t\t\t\tTrue\n"
     ]
    }
   ],
   "source": [
    "# Station 73 Utilization\n",
    "data_A = morning_commute_station_73_pre.utilization\n",
    "data_B = morning_commute_station_73_post.utilization\n",
    "\n",
    "station_test_results  = hypothesis_test(data_A, data_B)\n",
    "print('Station 73 Before and After Expansion - Utilization')\n",
    "print('-' * 80)\n",
    "print('Station Pre Expansion Mean Utilization\\t\\t\\t%0.5f'   % station_test_results[0])\n",
    "print('Station Post Expansion Mean Utilization\\t\\t\\t%0.5f'  % station_test_results[1])\n",
    "print('Difference of Means\\t\\t\\t\\t\\t%0.5f'         % station_test_results[6])\n",
    "print('Standard Error\\t\\t\\t\\t\\t\\t%0.5f'            % station_test_results[7])\n",
    "print('Margin of Error\\t\\t\\t\\t\\t\\t%0.5f'           % station_test_results[8])\n",
    "print('T-Score\\t\\t\\t\\t\\t\\t\\t%0.5f'                 % station_test_results[9])\n",
    "print('P-Value\\t\\t\\t\\t\\t\\t\\t%s'                    % station_test_results[10])\n",
    "print('Can Reject Null\\t\\t\\t\\t%s'                  % station_test_results[11])\n",
    "\n",
    "print()\n",
    "\n",
    "# Station 73 Bikes Available\n",
    "data_A = morning_commute_station_73_pre.bikes_available\n",
    "data_B = morning_commute_station_73_post.bikes_available\n",
    "\n",
    "station_test_results  = hypothesis_test(data_A, data_B)\n",
    "print('Station 73 Before and After Expansion - Bikes Available')\n",
    "print('-' * 80)\n",
    "print('Station Pre Expansion Mean Avaiable Bike Count\\t\\t%0.5f'   % station_test_results[0])\n",
    "print('Station Post Expansion Mean Avaiable Bike Count\\t\\t%0.5f'  % station_test_results[1])\n",
    "print('Difference of Means\\t\\t\\t\\t\\t%0.5f'         % station_test_results[6])\n",
    "print('Standard Error\\t\\t\\t\\t\\t\\t%0.5f'            % station_test_results[7])\n",
    "print('Margin of Error\\t\\t\\t\\t\\t\\t%0.5f'           % station_test_results[8])\n",
    "print('T-Score\\t\\t\\t\\t\\t\\t\\t%0.5f'                 % station_test_results[9])\n",
    "print('P-Value\\t\\t\\t\\t\\t\\t\\t%s'                    % station_test_results[10])\n",
    "print('Can Reject Null\\t\\t\\t\\t%s'                  % station_test_results[11])\n",
    "\n",
    "\n",
    "print()\n",
    "# Station 73 Docks Available\n",
    "data_A = morning_commute_station_73_pre.docks_available\n",
    "data_B = morning_commute_station_73_post.docks_available\n",
    "\n",
    "station_test_results  = hypothesis_test(data_A, data_B)\n",
    "print('Station 73 Before and After Expansion - Docks Available')\n",
    "print('-' * 80)\n",
    "print('Station Pre Expansion Mean Avaiable Dock Count\\t\\t%0.5f'   % station_test_results[0])\n",
    "print('Station Post Expansion Mean Avaiable Dock Count\\t\\t%0.5f'  % station_test_results[1])\n",
    "print('Difference of Means\\t\\t\\t\\t\\t%0.5f'         % station_test_results[6])\n",
    "print('Standard Error\\t\\t\\t\\t\\t\\t%0.5f'            % station_test_results[7])\n",
    "print('Margin of Error\\t\\t\\t\\t\\t\\t%0.5f'           % station_test_results[8])\n",
    "print('T-Score\\t\\t\\t\\t\\t\\t\\t%0.5f'                 % station_test_results[9])\n",
    "print('P-Value\\t\\t\\t\\t\\t\\t\\t%s'                    % station_test_results[10])\n",
    "print('Can Reject Null\\t\\t\\t\\t%s'                  % station_test_results[11])"
   ]
  },
  {
   "cell_type": "markdown",
   "metadata": {},
   "source": [
    "## Station 73 Overall Usage Before and After Expansion - Evening Commute Hours Only"
   ]
  },
  {
   "cell_type": "code",
   "execution_count": 14,
   "metadata": {},
   "outputs": [
    {
     "name": "stdout",
     "output_type": "stream",
     "text": [
      "<class 'pandas.core.frame.DataFrame'>\n",
      "DatetimeIndex: 2646815 entries, 2013-08-29 16:00:00 to 2016-08-31 20:00:00\n",
      "Data columns (total 5 columns):\n",
      "station_id         int64\n",
      "bikes_available    float64\n",
      "docks_available    float64\n",
      "dock_count         int64\n",
      "utilization        float64\n",
      "dtypes: float64(3), int64(2)\n",
      "memory usage: 121.2 MB\n"
     ]
    }
   ],
   "source": [
    "# prune only evening commute hours from subscribers [16:00 - 20:00]\n",
    "pm_commute_start = datetime.datetime.strptime('16:00', '%H:%M').time()\n",
    "pm_commute_end = datetime.datetime.strptime('20:00', '%H:%M').time()\n",
    "evening_commute_status = status_data.between_time(start_time=pm_commute_start,\n",
    "                                                     end_time=pm_commute_end,\n",
    "                                                     include_start=True,\n",
    "                                                     include_end=True)\n",
    "\n",
    "evening_commute_status = evening_commute_status[evening_commute_status.index.dayofweek < 5 ]\n",
    "\n",
    "evening_commute_station_73_pre  = evening_commute_status[(evening_commute_status.station_id == 73) & (evening_commute_status.dock_count == 15)]\n",
    "evening_commute_station_73_post = evening_commute_status[(evening_commute_status.station_id == 73) & (evening_commute_status.dock_count == 19)]\n",
    "\n",
    "evening_commute_status.info()"
   ]
  },
  {
   "cell_type": "code",
   "execution_count": 15,
   "metadata": {},
   "outputs": [
    {
     "name": "stdout",
     "output_type": "stream",
     "text": [
      "Station 73 Before and After Expansion - Utilization\n",
      "--------------------------------------------------------------------------------\n",
      "Station Pre Expansion Mean Utilization\t\t\t0.51602\n",
      "Station Post Expansion Mean Utilization\t\t\t0.51074\n",
      "Difference of Means\t\t\t\t\t0.00528\n",
      "Standard Error\t\t\t\t\t\t0.00228\n",
      "Margin of Error\t\t\t\t\t\t0.00447\n",
      "T-Score\t\t\t\t\t\t\t2.30331\n",
      "P-Value\t\t\t\t\t\t\t0.0212669977929\n",
      "Can Reject Null\t\t\t\tTrue\n",
      "\n",
      "Station 73 Before and After Expansion - Bikes Available\n",
      "--------------------------------------------------------------------------------\n",
      "Station Pre Expansion Mean Avaiable Bike Count\t\t7.23036\n",
      "Station Post Expansion Mean Avaiable Bike Count\t\t6.35269\n",
      "Difference of Means\t\t\t\t\t0.87767\n",
      "Standard Error\t\t\t\t\t\t0.03463\n",
      "Margin of Error\t\t\t\t\t\t0.06787\n",
      "T-Score\t\t\t\t\t\t\t25.31649\n",
      "P-Value\t\t\t\t\t\t\t2.98965814488e-140\n",
      "Can Reject Null\t\t\t\tTrue\n",
      "\n",
      "Station 73 Before and After Expansion - Docks Available\n",
      "--------------------------------------------------------------------------------\n",
      "Station Pre Expansion Mean Avaiable Dock Count\t\t7.74026\n",
      "Station Post Expansion Mean Avaiable Dock Count\t\t9.70408\n",
      "Difference of Means\t\t\t\t\t-1.96382\n",
      "Standard Error\t\t\t\t\t\t0.03952\n",
      "Margin of Error\t\t\t\t\t\t0.07746\n",
      "T-Score\t\t\t\t\t\t\t-51.10894\n",
      "P-Value\t\t\t\t\t\t\t0.0\n",
      "Can Reject Null\t\t\t\tTrue\n"
     ]
    }
   ],
   "source": [
    "# Station 73 Utilization\n",
    "data_A = evening_commute_station_73_pre.utilization\n",
    "data_B = evening_commute_station_73_post.utilization\n",
    "\n",
    "station_test_results  = hypothesis_test(data_A, data_B)\n",
    "print('Station 73 Before and After Expansion - Utilization')\n",
    "print('-' * 80)\n",
    "print('Station Pre Expansion Mean Utilization\\t\\t\\t%0.5f'   % station_test_results[0])\n",
    "print('Station Post Expansion Mean Utilization\\t\\t\\t%0.5f'  % station_test_results[1])\n",
    "print('Difference of Means\\t\\t\\t\\t\\t%0.5f'         % station_test_results[6])\n",
    "print('Standard Error\\t\\t\\t\\t\\t\\t%0.5f'            % station_test_results[7])\n",
    "print('Margin of Error\\t\\t\\t\\t\\t\\t%0.5f'           % station_test_results[8])\n",
    "print('T-Score\\t\\t\\t\\t\\t\\t\\t%0.5f'                 % station_test_results[9])\n",
    "print('P-Value\\t\\t\\t\\t\\t\\t\\t%s'                    % station_test_results[10])\n",
    "print('Can Reject Null\\t\\t\\t\\t%s'                  % station_test_results[11])\n",
    "\n",
    "print()\n",
    "\n",
    "# Station 73 Bikes Available\n",
    "data_A = evening_commute_station_73_pre.bikes_available\n",
    "data_B = evening_commute_station_73_post.bikes_available\n",
    "\n",
    "station_test_results  = hypothesis_test(data_A, data_B)\n",
    "print('Station 73 Before and After Expansion - Bikes Available')\n",
    "print('-' * 80)\n",
    "print('Station Pre Expansion Mean Avaiable Bike Count\\t\\t%0.5f'   % station_test_results[0])\n",
    "print('Station Post Expansion Mean Avaiable Bike Count\\t\\t%0.5f'  % station_test_results[1])\n",
    "print('Difference of Means\\t\\t\\t\\t\\t%0.5f'         % station_test_results[6])\n",
    "print('Standard Error\\t\\t\\t\\t\\t\\t%0.5f'            % station_test_results[7])\n",
    "print('Margin of Error\\t\\t\\t\\t\\t\\t%0.5f'           % station_test_results[8])\n",
    "print('T-Score\\t\\t\\t\\t\\t\\t\\t%0.5f'                 % station_test_results[9])\n",
    "print('P-Value\\t\\t\\t\\t\\t\\t\\t%s'                    % station_test_results[10])\n",
    "print('Can Reject Null\\t\\t\\t\\t%s'                  % station_test_results[11])\n",
    "\n",
    "\n",
    "print()\n",
    "# Station 73 Docks Available\n",
    "data_A = evening_commute_station_73_pre.docks_available\n",
    "data_B = evening_commute_station_73_post.docks_available\n",
    "\n",
    "station_test_results  = hypothesis_test(data_A, data_B)\n",
    "print('Station 73 Before and After Expansion - Docks Available')\n",
    "print('-' * 80)\n",
    "print('Station Pre Expansion Mean Avaiable Dock Count\\t\\t%0.5f'   % station_test_results[0])\n",
    "print('Station Post Expansion Mean Avaiable Dock Count\\t\\t%0.5f'  % station_test_results[1])\n",
    "print('Difference of Means\\t\\t\\t\\t\\t%0.5f'         % station_test_results[6])\n",
    "print('Standard Error\\t\\t\\t\\t\\t\\t%0.5f'            % station_test_results[7])\n",
    "print('Margin of Error\\t\\t\\t\\t\\t\\t%0.5f'           % station_test_results[8])\n",
    "print('T-Score\\t\\t\\t\\t\\t\\t\\t%0.5f'                 % station_test_results[9])\n",
    "print('P-Value\\t\\t\\t\\t\\t\\t\\t%s'                    % station_test_results[10])\n",
    "print('Can Reject Null\\t\\t\\t\\t%s'                  % station_test_results[11])"
   ]
  },
  {
   "cell_type": "code",
   "execution_count": null,
   "metadata": {
    "collapsed": true
   },
   "outputs": [],
   "source": []
  },
  {
   "cell_type": "code",
   "execution_count": null,
   "metadata": {
    "collapsed": true
   },
   "outputs": [],
   "source": []
  },
  {
   "cell_type": "code",
   "execution_count": null,
   "metadata": {
    "collapsed": true
   },
   "outputs": [],
   "source": []
  },
  {
   "cell_type": "code",
   "execution_count": null,
   "metadata": {
    "collapsed": true
   },
   "outputs": [],
   "source": []
  },
  {
   "cell_type": "code",
   "execution_count": null,
   "metadata": {
    "collapsed": true
   },
   "outputs": [],
   "source": []
  },
  {
   "cell_type": "code",
   "execution_count": null,
   "metadata": {
    "collapsed": true
   },
   "outputs": [],
   "source": []
  },
  {
   "cell_type": "code",
   "execution_count": null,
   "metadata": {
    "collapsed": true
   },
   "outputs": [],
   "source": []
  },
  {
   "cell_type": "code",
   "execution_count": null,
   "metadata": {
    "collapsed": true
   },
   "outputs": [],
   "source": []
  },
  {
   "cell_type": "code",
   "execution_count": null,
   "metadata": {
    "collapsed": true
   },
   "outputs": [],
   "source": []
  }
 ],
 "metadata": {
  "kernelspec": {
   "display_name": "Python 3",
   "language": "python",
   "name": "python3"
  },
  "language_info": {
   "codemirror_mode": {
    "name": "ipython",
    "version": 3
   },
   "file_extension": ".py",
   "mimetype": "text/x-python",
   "name": "python",
   "nbconvert_exporter": "python",
   "pygments_lexer": "ipython3",
   "version": "3.6.3"
  }
 },
 "nbformat": 4,
 "nbformat_minor": 2
}
